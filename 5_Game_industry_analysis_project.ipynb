{
 "cells": [
  {
   "cell_type": "markdown",
   "metadata": {},
   "source": [
    "# Анализ рынка игровой индустрии"
   ]
  },
  {
   "cell_type": "markdown",
   "metadata": {},
   "source": [
    "## Описание проекта"
   ]
  },
  {
   "cell_type": "markdown",
   "metadata": {},
   "source": [
    "Случай аналитика в интернет-магазине «Стримчик», который продаёт по всему миру компьютерные игры. Из открытых источников доступны исторические данные о продажах игр, оценки пользователей и экспертов, жанры и платформы (например, Xbox или PlayStation). Нужно выявить определяющие успешность игры закономерности - это позволит сделать ставку на потенциально популярный продукт и спланировать рекламные кампании. \n",
    "\n",
    "Данные представлены до 2016 года. Представим, что сейчас декабрь 2016 г., и идет палнирование кампании на 2017-й. Нужно отработать принцип работы с данными. \n",
    "\n",
    "В наборе данных попадается аббревиатура ESRB (Entertainment Software Rating Board) — это ассоциация, определяющая возрастной рейтинг компьютерных игр. ESRB оценивает игровой контент и присваивает ему подходящую возрастную категорию, например, «Для взрослых», «Для детей младшего возраста» или «Для подростков»."
   ]
  },
  {
   "cell_type": "markdown",
   "metadata": {},
   "source": [
    "**Важная ремарка:** Данные за 2016 год могут быть неполными."
   ]
  },
  {
   "cell_type": "code",
   "execution_count": 1,
   "metadata": {},
   "outputs": [],
   "source": [
    "# импорт библиотек\n",
    "import warnings\n",
    "warnings.filterwarnings(\"ignore\")\n",
    "\n",
    "import pandas as pd\n",
    "import numpy as np\n",
    "from scipy import stats as st\n",
    "\n",
    "import matplotlib.pyplot as plt\n",
    "import seaborn as sns\n",
    "\n",
    "from datetime import datetime"
   ]
  },
  {
   "cell_type": "markdown",
   "metadata": {},
   "source": [
    "## Изучение данных"
   ]
  },
  {
   "cell_type": "markdown",
   "metadata": {},
   "source": [
    "Прочитаем файл и получим общую информацию о данных."
   ]
  },
  {
   "cell_type": "code",
   "execution_count": 2,
   "metadata": {},
   "outputs": [],
   "source": [
    "# чтение файла\n",
    "data = pd.read_csv('/Users/danilvlasenko/Desktop/projects_datasets/games.csv')"
   ]
  },
  {
   "cell_type": "code",
   "execution_count": 3,
   "metadata": {},
   "outputs": [
    {
     "name": "stdout",
     "output_type": "stream",
     "text": [
      "<class 'pandas.core.frame.DataFrame'>\n",
      "RangeIndex: 16715 entries, 0 to 16714\n",
      "Data columns (total 11 columns):\n",
      " #   Column           Non-Null Count  Dtype  \n",
      "---  ------           --------------  -----  \n",
      " 0   Name             16713 non-null  object \n",
      " 1   Platform         16715 non-null  object \n",
      " 2   Year_of_Release  16446 non-null  float64\n",
      " 3   Genre            16713 non-null  object \n",
      " 4   NA_sales         16715 non-null  float64\n",
      " 5   EU_sales         16715 non-null  float64\n",
      " 6   JP_sales         16715 non-null  float64\n",
      " 7   Other_sales      16715 non-null  float64\n",
      " 8   Critic_Score     8137 non-null   float64\n",
      " 9   User_Score       10014 non-null  object \n",
      " 10  Rating           9949 non-null   object \n",
      "dtypes: float64(6), object(5)\n",
      "memory usage: 1.4+ MB\n"
     ]
    },
    {
     "data": {
      "text/html": [
       "<div>\n",
       "<style scoped>\n",
       "    .dataframe tbody tr th:only-of-type {\n",
       "        vertical-align: middle;\n",
       "    }\n",
       "\n",
       "    .dataframe tbody tr th {\n",
       "        vertical-align: top;\n",
       "    }\n",
       "\n",
       "    .dataframe thead th {\n",
       "        text-align: right;\n",
       "    }\n",
       "</style>\n",
       "<table border=\"1\" class=\"dataframe\">\n",
       "  <thead>\n",
       "    <tr style=\"text-align: right;\">\n",
       "      <th></th>\n",
       "      <th>Name</th>\n",
       "      <th>Platform</th>\n",
       "      <th>Year_of_Release</th>\n",
       "      <th>Genre</th>\n",
       "      <th>NA_sales</th>\n",
       "      <th>EU_sales</th>\n",
       "      <th>JP_sales</th>\n",
       "      <th>Other_sales</th>\n",
       "      <th>Critic_Score</th>\n",
       "      <th>User_Score</th>\n",
       "      <th>Rating</th>\n",
       "    </tr>\n",
       "  </thead>\n",
       "  <tbody>\n",
       "    <tr>\n",
       "      <th>0</th>\n",
       "      <td>Wii Sports</td>\n",
       "      <td>Wii</td>\n",
       "      <td>2006.0</td>\n",
       "      <td>Sports</td>\n",
       "      <td>41.36</td>\n",
       "      <td>28.96</td>\n",
       "      <td>3.77</td>\n",
       "      <td>8.45</td>\n",
       "      <td>76.0</td>\n",
       "      <td>8</td>\n",
       "      <td>E</td>\n",
       "    </tr>\n",
       "    <tr>\n",
       "      <th>1</th>\n",
       "      <td>Super Mario Bros.</td>\n",
       "      <td>NES</td>\n",
       "      <td>1985.0</td>\n",
       "      <td>Platform</td>\n",
       "      <td>29.08</td>\n",
       "      <td>3.58</td>\n",
       "      <td>6.81</td>\n",
       "      <td>0.77</td>\n",
       "      <td>NaN</td>\n",
       "      <td>NaN</td>\n",
       "      <td>NaN</td>\n",
       "    </tr>\n",
       "    <tr>\n",
       "      <th>2</th>\n",
       "      <td>Mario Kart Wii</td>\n",
       "      <td>Wii</td>\n",
       "      <td>2008.0</td>\n",
       "      <td>Racing</td>\n",
       "      <td>15.68</td>\n",
       "      <td>12.76</td>\n",
       "      <td>3.79</td>\n",
       "      <td>3.29</td>\n",
       "      <td>82.0</td>\n",
       "      <td>8.3</td>\n",
       "      <td>E</td>\n",
       "    </tr>\n",
       "    <tr>\n",
       "      <th>3</th>\n",
       "      <td>Wii Sports Resort</td>\n",
       "      <td>Wii</td>\n",
       "      <td>2009.0</td>\n",
       "      <td>Sports</td>\n",
       "      <td>15.61</td>\n",
       "      <td>10.93</td>\n",
       "      <td>3.28</td>\n",
       "      <td>2.95</td>\n",
       "      <td>80.0</td>\n",
       "      <td>8</td>\n",
       "      <td>E</td>\n",
       "    </tr>\n",
       "    <tr>\n",
       "      <th>4</th>\n",
       "      <td>Pokemon Red/Pokemon Blue</td>\n",
       "      <td>GB</td>\n",
       "      <td>1996.0</td>\n",
       "      <td>Role-Playing</td>\n",
       "      <td>11.27</td>\n",
       "      <td>8.89</td>\n",
       "      <td>10.22</td>\n",
       "      <td>1.00</td>\n",
       "      <td>NaN</td>\n",
       "      <td>NaN</td>\n",
       "      <td>NaN</td>\n",
       "    </tr>\n",
       "    <tr>\n",
       "      <th>5</th>\n",
       "      <td>Tetris</td>\n",
       "      <td>GB</td>\n",
       "      <td>1989.0</td>\n",
       "      <td>Puzzle</td>\n",
       "      <td>23.20</td>\n",
       "      <td>2.26</td>\n",
       "      <td>4.22</td>\n",
       "      <td>0.58</td>\n",
       "      <td>NaN</td>\n",
       "      <td>NaN</td>\n",
       "      <td>NaN</td>\n",
       "    </tr>\n",
       "    <tr>\n",
       "      <th>6</th>\n",
       "      <td>New Super Mario Bros.</td>\n",
       "      <td>DS</td>\n",
       "      <td>2006.0</td>\n",
       "      <td>Platform</td>\n",
       "      <td>11.28</td>\n",
       "      <td>9.14</td>\n",
       "      <td>6.50</td>\n",
       "      <td>2.88</td>\n",
       "      <td>89.0</td>\n",
       "      <td>8.5</td>\n",
       "      <td>E</td>\n",
       "    </tr>\n",
       "    <tr>\n",
       "      <th>7</th>\n",
       "      <td>Wii Play</td>\n",
       "      <td>Wii</td>\n",
       "      <td>2006.0</td>\n",
       "      <td>Misc</td>\n",
       "      <td>13.96</td>\n",
       "      <td>9.18</td>\n",
       "      <td>2.93</td>\n",
       "      <td>2.84</td>\n",
       "      <td>58.0</td>\n",
       "      <td>6.6</td>\n",
       "      <td>E</td>\n",
       "    </tr>\n",
       "    <tr>\n",
       "      <th>8</th>\n",
       "      <td>New Super Mario Bros. Wii</td>\n",
       "      <td>Wii</td>\n",
       "      <td>2009.0</td>\n",
       "      <td>Platform</td>\n",
       "      <td>14.44</td>\n",
       "      <td>6.94</td>\n",
       "      <td>4.70</td>\n",
       "      <td>2.24</td>\n",
       "      <td>87.0</td>\n",
       "      <td>8.4</td>\n",
       "      <td>E</td>\n",
       "    </tr>\n",
       "    <tr>\n",
       "      <th>9</th>\n",
       "      <td>Duck Hunt</td>\n",
       "      <td>NES</td>\n",
       "      <td>1984.0</td>\n",
       "      <td>Shooter</td>\n",
       "      <td>26.93</td>\n",
       "      <td>0.63</td>\n",
       "      <td>0.28</td>\n",
       "      <td>0.47</td>\n",
       "      <td>NaN</td>\n",
       "      <td>NaN</td>\n",
       "      <td>NaN</td>\n",
       "    </tr>\n",
       "  </tbody>\n",
       "</table>\n",
       "</div>"
      ],
      "text/plain": [
       "                        Name Platform  Year_of_Release         Genre  \\\n",
       "0                 Wii Sports      Wii           2006.0        Sports   \n",
       "1          Super Mario Bros.      NES           1985.0      Platform   \n",
       "2             Mario Kart Wii      Wii           2008.0        Racing   \n",
       "3          Wii Sports Resort      Wii           2009.0        Sports   \n",
       "4   Pokemon Red/Pokemon Blue       GB           1996.0  Role-Playing   \n",
       "5                     Tetris       GB           1989.0        Puzzle   \n",
       "6      New Super Mario Bros.       DS           2006.0      Platform   \n",
       "7                   Wii Play      Wii           2006.0          Misc   \n",
       "8  New Super Mario Bros. Wii      Wii           2009.0      Platform   \n",
       "9                  Duck Hunt      NES           1984.0       Shooter   \n",
       "\n",
       "   NA_sales  EU_sales  JP_sales  Other_sales  Critic_Score User_Score Rating  \n",
       "0     41.36     28.96      3.77         8.45          76.0          8      E  \n",
       "1     29.08      3.58      6.81         0.77           NaN        NaN    NaN  \n",
       "2     15.68     12.76      3.79         3.29          82.0        8.3      E  \n",
       "3     15.61     10.93      3.28         2.95          80.0          8      E  \n",
       "4     11.27      8.89     10.22         1.00           NaN        NaN    NaN  \n",
       "5     23.20      2.26      4.22         0.58           NaN        NaN    NaN  \n",
       "6     11.28      9.14      6.50         2.88          89.0        8.5      E  \n",
       "7     13.96      9.18      2.93         2.84          58.0        6.6      E  \n",
       "8     14.44      6.94      4.70         2.24          87.0        8.4      E  \n",
       "9     26.93      0.63      0.28         0.47           NaN        NaN    NaN  "
      ]
     },
     "execution_count": 3,
     "metadata": {},
     "output_type": "execute_result"
    }
   ],
   "source": [
    "# получение общей информации о данных и первых 10 строк\n",
    "data.info()\n",
    "data.head(10)"
   ]
  },
  {
   "cell_type": "code",
   "execution_count": 4,
   "metadata": {},
   "outputs": [
    {
     "data": {
      "text/html": [
       "<div>\n",
       "<style scoped>\n",
       "    .dataframe tbody tr th:only-of-type {\n",
       "        vertical-align: middle;\n",
       "    }\n",
       "\n",
       "    .dataframe tbody tr th {\n",
       "        vertical-align: top;\n",
       "    }\n",
       "\n",
       "    .dataframe thead th {\n",
       "        text-align: right;\n",
       "    }\n",
       "</style>\n",
       "<table border=\"1\" class=\"dataframe\">\n",
       "  <thead>\n",
       "    <tr style=\"text-align: right;\">\n",
       "      <th></th>\n",
       "      <th>Year_of_Release</th>\n",
       "      <th>NA_sales</th>\n",
       "      <th>EU_sales</th>\n",
       "      <th>JP_sales</th>\n",
       "      <th>Other_sales</th>\n",
       "      <th>Critic_Score</th>\n",
       "    </tr>\n",
       "  </thead>\n",
       "  <tbody>\n",
       "    <tr>\n",
       "      <th>count</th>\n",
       "      <td>16446.000000</td>\n",
       "      <td>16715.000000</td>\n",
       "      <td>16715.000000</td>\n",
       "      <td>16715.000000</td>\n",
       "      <td>16715.000000</td>\n",
       "      <td>8137.000000</td>\n",
       "    </tr>\n",
       "    <tr>\n",
       "      <th>mean</th>\n",
       "      <td>2006.484616</td>\n",
       "      <td>0.263377</td>\n",
       "      <td>0.145060</td>\n",
       "      <td>0.077617</td>\n",
       "      <td>0.047342</td>\n",
       "      <td>68.967679</td>\n",
       "    </tr>\n",
       "    <tr>\n",
       "      <th>std</th>\n",
       "      <td>5.877050</td>\n",
       "      <td>0.813604</td>\n",
       "      <td>0.503339</td>\n",
       "      <td>0.308853</td>\n",
       "      <td>0.186731</td>\n",
       "      <td>13.938165</td>\n",
       "    </tr>\n",
       "    <tr>\n",
       "      <th>min</th>\n",
       "      <td>1980.000000</td>\n",
       "      <td>0.000000</td>\n",
       "      <td>0.000000</td>\n",
       "      <td>0.000000</td>\n",
       "      <td>0.000000</td>\n",
       "      <td>13.000000</td>\n",
       "    </tr>\n",
       "    <tr>\n",
       "      <th>25%</th>\n",
       "      <td>2003.000000</td>\n",
       "      <td>0.000000</td>\n",
       "      <td>0.000000</td>\n",
       "      <td>0.000000</td>\n",
       "      <td>0.000000</td>\n",
       "      <td>60.000000</td>\n",
       "    </tr>\n",
       "    <tr>\n",
       "      <th>50%</th>\n",
       "      <td>2007.000000</td>\n",
       "      <td>0.080000</td>\n",
       "      <td>0.020000</td>\n",
       "      <td>0.000000</td>\n",
       "      <td>0.010000</td>\n",
       "      <td>71.000000</td>\n",
       "    </tr>\n",
       "    <tr>\n",
       "      <th>75%</th>\n",
       "      <td>2010.000000</td>\n",
       "      <td>0.240000</td>\n",
       "      <td>0.110000</td>\n",
       "      <td>0.040000</td>\n",
       "      <td>0.030000</td>\n",
       "      <td>79.000000</td>\n",
       "    </tr>\n",
       "    <tr>\n",
       "      <th>max</th>\n",
       "      <td>2016.000000</td>\n",
       "      <td>41.360000</td>\n",
       "      <td>28.960000</td>\n",
       "      <td>10.220000</td>\n",
       "      <td>10.570000</td>\n",
       "      <td>98.000000</td>\n",
       "    </tr>\n",
       "  </tbody>\n",
       "</table>\n",
       "</div>"
      ],
      "text/plain": [
       "       Year_of_Release      NA_sales      EU_sales      JP_sales  \\\n",
       "count     16446.000000  16715.000000  16715.000000  16715.000000   \n",
       "mean       2006.484616      0.263377      0.145060      0.077617   \n",
       "std           5.877050      0.813604      0.503339      0.308853   \n",
       "min        1980.000000      0.000000      0.000000      0.000000   \n",
       "25%        2003.000000      0.000000      0.000000      0.000000   \n",
       "50%        2007.000000      0.080000      0.020000      0.000000   \n",
       "75%        2010.000000      0.240000      0.110000      0.040000   \n",
       "max        2016.000000     41.360000     28.960000     10.220000   \n",
       "\n",
       "        Other_sales  Critic_Score  \n",
       "count  16715.000000   8137.000000  \n",
       "mean       0.047342     68.967679  \n",
       "std        0.186731     13.938165  \n",
       "min        0.000000     13.000000  \n",
       "25%        0.000000     60.000000  \n",
       "50%        0.010000     71.000000  \n",
       "75%        0.030000     79.000000  \n",
       "max       10.570000     98.000000  "
      ]
     },
     "execution_count": 4,
     "metadata": {},
     "output_type": "execute_result"
    }
   ],
   "source": [
    "# получение статистической информации о данных\n",
    "data.describe()"
   ]
  },
  {
   "cell_type": "markdown",
   "metadata": {},
   "source": [
    "**Первые выводы:**\n",
    "\n",
    "Данные содержат всего 16715 строк, представлено 11 столбцов:\n",
    "- `Name` — название игры\n",
    "- `Platform` — платформа\n",
    "- `Year_of_Release` — год выпуска\n",
    "- `Genre` — жанр игры\n",
    "- `NA_sales` — продажи в Северной Америке (миллионы проданных копий)\n",
    "- `EU_sales` — продажи в Европе (миллионы проданных копий)\n",
    "- `JP_sales` — продажи в Японии (миллионы проданных копий)\n",
    "- `Other_sales` — продажи в других странах (миллионы проданных копий)\n",
    "- `Critic_Score` — оценка критиков (максимум 100)\n",
    "- `User_Score` — оценка пользователей (максимум 10)\n",
    "- `Rating` — рейтинг от организации ESRB (англ. Entertainment Software Rating Board). Эта ассоциация определяет рейтинг компьютерных игр и присваивает им подходящую возрастную категорию.\n",
    "\n",
    "В данных содержатся следующие недочеты:\n",
    "- 1) Присутствие верхнего регистра в наименовании столбцов - необходимо переименование;\n",
    "- 2) Наличие пропусков в столбцах `Name`, `Year_of_Release`, `Genre`, `Critic_Score`, `User_Score`, `Rating` - необходим анализ и предобработка;\n",
    "- 3) Некорректные типы данных в столбцах `Year_of_Release` (должен быть *int*, тк тут указан год релиза. Если выведем дату и из нее года, то будет как раз *int*), `User_Score` (должен быть *float*, тк тут дробная оценка от 0 до 10 и она не попала в describe), `Critic_Score` (стоит поставить *int*, тк оценка целое число от 0 до 100 и оно не попало в describe) - необходима замена типов данных;\n",
    "- 4) Не совсем понятно. что значит, например, буква E в рейтинге ESRB - стоит изучить отдельно;\n",
    "- 5) Присутствие верхнего регистра в столбцах `Name`, `Platform` и `Genre` - есть вероятность присутствия неявных дубликатов - необходимо приведение к нижнему регистру."
   ]
  },
  {
   "cell_type": "markdown",
   "metadata": {},
   "source": [
    "## Предобработка данных"
   ]
  },
  {
   "cell_type": "markdown",
   "metadata": {},
   "source": [
    "**Отработаем п. 1 предварительных выводов**\n",
    "\n",
    "Переиненуем столбцы с данными и приведем все наименования к одному регистру"
   ]
  },
  {
   "cell_type": "code",
   "execution_count": 5,
   "metadata": {},
   "outputs": [
    {
     "data": {
      "text/plain": [
       "Index(['name', 'platform', 'year_of_release', 'genre', 'na_sales', 'eu_sales',\n",
       "       'jp_sales', 'other_sales', 'critic_score', 'user_score', 'esrb_rating'],\n",
       "      dtype='object')"
      ]
     },
     "execution_count": 5,
     "metadata": {},
     "output_type": "execute_result"
    }
   ],
   "source": [
    "# переименование столбцов\n",
    "data = data.rename(columns = {'Name':'name',\n",
    "                              'Platform':'platform',\n",
    "                              'Year_of_Release':'year_of_release',\n",
    "                              'Genre':'genre',\n",
    "                              'NA_sales':'na_sales',\n",
    "                              'EU_sales':'eu_sales',\n",
    "                              'JP_sales':'jp_sales',\n",
    "                              'Other_sales':'other_sales',\n",
    "                              'Critic_Score':'critic_score',\n",
    "                              'User_Score':'user_score',\n",
    "                              'Rating':'esrb_rating',\n",
    "                             }\n",
    "                  )\n",
    "\n",
    "# проверка изменений заголовков\n",
    "data.columns"
   ]
  },
  {
   "cell_type": "markdown",
   "metadata": {},
   "source": [
    "### Обработка пропусков"
   ]
  },
  {
   "cell_type": "markdown",
   "metadata": {},
   "source": [
    "**Отработаем п. 2 предварительных выводов**\n",
    "\n",
    "Посмотрим на количество пропусков в столбцах и детальнее каждый столбец."
   ]
  },
  {
   "cell_type": "code",
   "execution_count": 6,
   "metadata": {},
   "outputs": [
    {
     "data": {
      "text/plain": [
       "platform              0\n",
       "na_sales              0\n",
       "eu_sales              0\n",
       "jp_sales              0\n",
       "other_sales           0\n",
       "name                  2\n",
       "genre                 2\n",
       "year_of_release     269\n",
       "user_score         6701\n",
       "esrb_rating        6766\n",
       "critic_score       8578\n",
       "dtype: int64"
      ]
     },
     "execution_count": 6,
     "metadata": {},
     "output_type": "execute_result"
    }
   ],
   "source": [
    "# просмотр количества пропусков\n",
    "data.isna().sum().sort_values()"
   ]
  },
  {
   "cell_type": "markdown",
   "metadata": {},
   "source": [
    "В столбцах `name` и `genre` - отсутствуют по 2 значения. Заполнить эти пропуски не получится. Посмотрим детальнее на эти строки, и если окажется, что пропуски присутствуют в этих столбцах одновременно, удалим эти строки."
   ]
  },
  {
   "cell_type": "code",
   "execution_count": 7,
   "metadata": {},
   "outputs": [
    {
     "data": {
      "text/html": [
       "<div>\n",
       "<style scoped>\n",
       "    .dataframe tbody tr th:only-of-type {\n",
       "        vertical-align: middle;\n",
       "    }\n",
       "\n",
       "    .dataframe tbody tr th {\n",
       "        vertical-align: top;\n",
       "    }\n",
       "\n",
       "    .dataframe thead th {\n",
       "        text-align: right;\n",
       "    }\n",
       "</style>\n",
       "<table border=\"1\" class=\"dataframe\">\n",
       "  <thead>\n",
       "    <tr style=\"text-align: right;\">\n",
       "      <th></th>\n",
       "      <th>name</th>\n",
       "      <th>platform</th>\n",
       "      <th>year_of_release</th>\n",
       "      <th>genre</th>\n",
       "      <th>na_sales</th>\n",
       "      <th>eu_sales</th>\n",
       "      <th>jp_sales</th>\n",
       "      <th>other_sales</th>\n",
       "      <th>critic_score</th>\n",
       "      <th>user_score</th>\n",
       "      <th>esrb_rating</th>\n",
       "    </tr>\n",
       "  </thead>\n",
       "  <tbody>\n",
       "    <tr>\n",
       "      <th>659</th>\n",
       "      <td>NaN</td>\n",
       "      <td>GEN</td>\n",
       "      <td>1993.0</td>\n",
       "      <td>NaN</td>\n",
       "      <td>1.78</td>\n",
       "      <td>0.53</td>\n",
       "      <td>0.00</td>\n",
       "      <td>0.08</td>\n",
       "      <td>NaN</td>\n",
       "      <td>NaN</td>\n",
       "      <td>NaN</td>\n",
       "    </tr>\n",
       "    <tr>\n",
       "      <th>14244</th>\n",
       "      <td>NaN</td>\n",
       "      <td>GEN</td>\n",
       "      <td>1993.0</td>\n",
       "      <td>NaN</td>\n",
       "      <td>0.00</td>\n",
       "      <td>0.00</td>\n",
       "      <td>0.03</td>\n",
       "      <td>0.00</td>\n",
       "      <td>NaN</td>\n",
       "      <td>NaN</td>\n",
       "      <td>NaN</td>\n",
       "    </tr>\n",
       "  </tbody>\n",
       "</table>\n",
       "</div>"
      ],
      "text/plain": [
       "      name platform  year_of_release genre  na_sales  eu_sales  jp_sales  \\\n",
       "659    NaN      GEN           1993.0   NaN      1.78      0.53      0.00   \n",
       "14244  NaN      GEN           1993.0   NaN      0.00      0.00      0.03   \n",
       "\n",
       "       other_sales  critic_score user_score esrb_rating  \n",
       "659           0.08           NaN        NaN         NaN  \n",
       "14244         0.00           NaN        NaN         NaN  "
      ]
     },
     "execution_count": 7,
     "metadata": {},
     "output_type": "execute_result"
    }
   ],
   "source": [
    "data[(data['genre'].isna()) & (data['name'].isna())]"
   ]
  },
  {
   "cell_type": "markdown",
   "metadata": {},
   "source": [
    "Действительно, это 2 безымянные игры и не определенного жанра, выпущены в 1993-ем. Продажи очень малы (всего 2,34 млн копий на 2 игры), какие-либо оценки в принципе отсутствуют. Такие цифры не исказят общую статистику, удалим эти 2 строки из данных"
   ]
  },
  {
   "cell_type": "code",
   "execution_count": 8,
   "metadata": {},
   "outputs": [
    {
     "data": {
      "text/plain": [
       "name                  0\n",
       "platform              0\n",
       "genre                 0\n",
       "na_sales              0\n",
       "eu_sales              0\n",
       "jp_sales              0\n",
       "other_sales           0\n",
       "year_of_release     269\n",
       "user_score         6699\n",
       "esrb_rating        6764\n",
       "critic_score       8576\n",
       "dtype: int64"
      ]
     },
     "execution_count": 8,
     "metadata": {},
     "output_type": "execute_result"
    }
   ],
   "source": [
    "# удаление игр с неопределенным именем и жанром\n",
    "data.dropna(subset=['genre', 'name'], inplace=True)\n",
    "\n",
    "# проверка удаления\n",
    "data.isna().sum().sort_values()"
   ]
  },
  {
   "cell_type": "markdown",
   "metadata": {},
   "source": [
    "Теперь по остальным столбцам:\n",
    "- `year_of_release` - заполним техническим значением -1. В срезы в будущем эти значения не попадут, но мы сможем изменить тип данных на *int* для удобства. Если заполним средним или наиболее частым годом, реальная картина может исказиться. Дополнительный нюанс - одна и та же игра может выходить с разрывом в годы на разных платформах (например, эксклюзивы PS4 в виде Horizon или God of War недавно начали выходить на ПК, при этом изначально выпущены года 3-4 назад).\n",
    "- `user_score` - заполнять не стоит. Оценка пользователей может отсутствовать по причине давности выпуска игры - до Интернета игры продавались в виде катриджей/карточек в магазинах, и оценка от пользователей, скорее всего, не собиралась. В наше время уже существует множество онлайн-площадок, где можно открыто поделиться мнением. Также стоит детальнее посмотреть на уникальные значения этого столбца\n",
    "- `esrb_rating` - отсутствие значений можно объяснить 2-мя причинами. Первая - тем, что некоторые игры были выпущены в принципе до создания ESRB. В данных присутствуют релизы от 1980-го, при этом организация была основана только в 1994-ом. За эти 14 лет играм рейтинг не присуждался. Вторая причина - если игра кросс-платформенная, возможен вариант что на одной платформе рейтинг мог быть присвоен, а на другой нет. Также рейтинги на разных платформах могут и отличаться. Заполним пропуски значением *out of rating*.\n",
    "- `critic_score` - заполнять не стоит. Средняя или медианная оценка критиков, даже если сгруппировать по жанру, может исказить реальную картину - незаслуженно поднять оценки неудавшимся релизам."
   ]
  },
  {
   "cell_type": "code",
   "execution_count": 9,
   "metadata": {},
   "outputs": [
    {
     "data": {
      "text/plain": [
       "name                  0\n",
       "platform              0\n",
       "year_of_release       0\n",
       "genre                 0\n",
       "na_sales              0\n",
       "eu_sales              0\n",
       "jp_sales              0\n",
       "other_sales           0\n",
       "esrb_rating           0\n",
       "user_score         6699\n",
       "critic_score       8576\n",
       "dtype: int64"
      ]
     },
     "execution_count": 9,
     "metadata": {},
     "output_type": "execute_result"
    }
   ],
   "source": [
    "# заполнение пропусков столбца year_of_release техническим значением -1\n",
    "data['year_of_release'] = data['year_of_release'].fillna(-1)\n",
    "\n",
    "# заполнение пропусков столбца raing значением 'out of rating'\n",
    "data['esrb_rating'] = data['esrb_rating'].fillna('out of rating')\n",
    "\n",
    "# проверка заполнения пропусков\n",
    "data.isna().sum().sort_values()"
   ]
  },
  {
   "cell_type": "code",
   "execution_count": 10,
   "metadata": {},
   "outputs": [
    {
     "data": {
      "text/plain": [
       "array(['8', nan, '8.3', '8.5', '6.6', '8.4', '8.6', '7.7', '6.3', '7.4',\n",
       "       '8.2', '9', '7.9', '8.1', '8.7', '7.1', '3.4', '5.3', '4.8', '3.2',\n",
       "       '8.9', '6.4', '7.8', '7.5', '2.6', '7.2', '9.2', '7', '7.3', '4.3',\n",
       "       '7.6', '5.7', '5', '9.1', '6.5', 'tbd', '8.8', '6.9', '9.4', '6.8',\n",
       "       '6.1', '6.7', '5.4', '4', '4.9', '4.5', '9.3', '6.2', '4.2', '6',\n",
       "       '3.7', '4.1', '5.8', '5.6', '5.5', '4.4', '4.6', '5.9', '3.9',\n",
       "       '3.1', '2.9', '5.2', '3.3', '4.7', '5.1', '3.5', '2.5', '1.9', '3',\n",
       "       '2.7', '2.2', '2', '9.5', '2.1', '3.6', '2.8', '1.8', '3.8', '0',\n",
       "       '1.6', '9.6', '2.4', '1.7', '1.1', '0.3', '1.5', '0.7', '1.2',\n",
       "       '2.3', '0.5', '1.3', '0.2', '0.6', '1.4', '0.9', '1', '9.7'],\n",
       "      dtype=object)"
      ]
     },
     "execution_count": 10,
     "metadata": {},
     "output_type": "execute_result"
    }
   ],
   "source": [
    "# проверка столбца critic_score по уникальным значениям\n",
    "data['user_score'].unique()"
   ]
  },
  {
   "cell_type": "markdown",
   "metadata": {},
   "source": [
    "Наблюдаем nan - не обращаем внимания, так как пропуски по столбцу не заполнялись.\n",
    "\n",
    "Среди уникальных значений наблюдается неопознанное значение tbd.\n",
    "\n",
    "В случае игровой индустрии, аббревиатура TBD переводится как To Be Determined или To Be Decided, то есть \"будет решено\". Чаще всего она применяется к датам выхода игр после их анонса где-нибудь на E3 или Gamescom, когда разработчики не могут решиться на официальную дату релиза, или они постоянно генерят новые идеи и не знают, когда все смогут реализовать.\n",
    "\n",
    "Похожую мысль можно транслировать и на оценку пользователями - данных или количества оценок для корректной общей оценки игры может быть недостаточно - либо игра слишком новая, либо слишком непопулярная. Посмотрим, сколько раз TBD фигурировала в данных."
   ]
  },
  {
   "cell_type": "code",
   "execution_count": 11,
   "metadata": {},
   "outputs": [
    {
     "data": {
      "text/plain": [
       "2424"
      ]
     },
     "execution_count": 11,
     "metadata": {},
     "output_type": "execute_result"
    }
   ],
   "source": [
    "# проверка количества значений\n",
    "data[data['user_score'] == 'tbd']['user_score'].count()"
   ]
  },
  {
   "cell_type": "markdown",
   "metadata": {},
   "source": [
    "Таких значений 2424. Для удаления слишком много. Заполним данные значения пропусками, так как оценка так же не определена точно и не может быть усреднена."
   ]
  },
  {
   "cell_type": "code",
   "execution_count": 12,
   "metadata": {},
   "outputs": [
    {
     "data": {
      "text/plain": [
       "array(['8', nan, '8.3', '8.5', '6.6', '8.4', '8.6', '7.7', '6.3', '7.4',\n",
       "       '8.2', '9', '7.9', '8.1', '8.7', '7.1', '3.4', '5.3', '4.8', '3.2',\n",
       "       '8.9', '6.4', '7.8', '7.5', '2.6', '7.2', '9.2', '7', '7.3', '4.3',\n",
       "       '7.6', '5.7', '5', '9.1', '6.5', '8.8', '6.9', '9.4', '6.8', '6.1',\n",
       "       '6.7', '5.4', '4', '4.9', '4.5', '9.3', '6.2', '4.2', '6', '3.7',\n",
       "       '4.1', '5.8', '5.6', '5.5', '4.4', '4.6', '5.9', '3.9', '3.1',\n",
       "       '2.9', '5.2', '3.3', '4.7', '5.1', '3.5', '2.5', '1.9', '3', '2.7',\n",
       "       '2.2', '2', '9.5', '2.1', '3.6', '2.8', '1.8', '3.8', '0', '1.6',\n",
       "       '9.6', '2.4', '1.7', '1.1', '0.3', '1.5', '0.7', '1.2', '2.3',\n",
       "       '0.5', '1.3', '0.2', '0.6', '1.4', '0.9', '1', '9.7'], dtype=object)"
      ]
     },
     "execution_count": 12,
     "metadata": {},
     "output_type": "execute_result"
    }
   ],
   "source": [
    "# заполнение значений tbd пропусками\n",
    "data['user_score'] = data['user_score'].replace('tbd', np.NaN)\n",
    "\n",
    "# проверка заполнения\n",
    "data['user_score'].unique()"
   ]
  },
  {
   "cell_type": "markdown",
   "metadata": {},
   "source": [
    "### Изменение типов данных"
   ]
  },
  {
   "cell_type": "markdown",
   "metadata": {},
   "source": [
    "**Отработаем п. 3 предварительных выводов**\n",
    "\n",
    "Изменим типы данных в столбцах с некорректными типами:\n",
    "- year_of_release - вполне подойдет int,\n",
    "- user_score - на float,\n",
    "- critic_score - на int.\n",
    "\n",
    "Во всех указанных столбцах сознательно не удалены пропуски, будем их игнорировать при методе .astype()"
   ]
  },
  {
   "cell_type": "code",
   "execution_count": 13,
   "metadata": {},
   "outputs": [
    {
     "name": "stdout",
     "output_type": "stream",
     "text": [
      "<class 'pandas.core.frame.DataFrame'>\n",
      "Int64Index: 16713 entries, 0 to 16714\n",
      "Data columns (total 11 columns):\n",
      " #   Column           Non-Null Count  Dtype  \n",
      "---  ------           --------------  -----  \n",
      " 0   name             16713 non-null  object \n",
      " 1   platform         16713 non-null  object \n",
      " 2   year_of_release  16713 non-null  int64  \n",
      " 3   genre            16713 non-null  object \n",
      " 4   na_sales         16713 non-null  float64\n",
      " 5   eu_sales         16713 non-null  float64\n",
      " 6   jp_sales         16713 non-null  float64\n",
      " 7   other_sales      16713 non-null  float64\n",
      " 8   critic_score     8137 non-null   float64\n",
      " 9   user_score       7590 non-null   float64\n",
      " 10  esrb_rating      16713 non-null  object \n",
      "dtypes: float64(6), int64(1), object(4)\n",
      "memory usage: 1.5+ MB\n"
     ]
    },
    {
     "data": {
      "text/html": [
       "<div>\n",
       "<style scoped>\n",
       "    .dataframe tbody tr th:only-of-type {\n",
       "        vertical-align: middle;\n",
       "    }\n",
       "\n",
       "    .dataframe tbody tr th {\n",
       "        vertical-align: top;\n",
       "    }\n",
       "\n",
       "    .dataframe thead th {\n",
       "        text-align: right;\n",
       "    }\n",
       "</style>\n",
       "<table border=\"1\" class=\"dataframe\">\n",
       "  <thead>\n",
       "    <tr style=\"text-align: right;\">\n",
       "      <th></th>\n",
       "      <th>name</th>\n",
       "      <th>platform</th>\n",
       "      <th>year_of_release</th>\n",
       "      <th>genre</th>\n",
       "      <th>na_sales</th>\n",
       "      <th>eu_sales</th>\n",
       "      <th>jp_sales</th>\n",
       "      <th>other_sales</th>\n",
       "      <th>critic_score</th>\n",
       "      <th>user_score</th>\n",
       "      <th>esrb_rating</th>\n",
       "    </tr>\n",
       "  </thead>\n",
       "  <tbody>\n",
       "    <tr>\n",
       "      <th>0</th>\n",
       "      <td>Wii Sports</td>\n",
       "      <td>Wii</td>\n",
       "      <td>2006</td>\n",
       "      <td>Sports</td>\n",
       "      <td>41.36</td>\n",
       "      <td>28.96</td>\n",
       "      <td>3.77</td>\n",
       "      <td>8.45</td>\n",
       "      <td>76.0</td>\n",
       "      <td>8.0</td>\n",
       "      <td>E</td>\n",
       "    </tr>\n",
       "    <tr>\n",
       "      <th>1</th>\n",
       "      <td>Super Mario Bros.</td>\n",
       "      <td>NES</td>\n",
       "      <td>1985</td>\n",
       "      <td>Platform</td>\n",
       "      <td>29.08</td>\n",
       "      <td>3.58</td>\n",
       "      <td>6.81</td>\n",
       "      <td>0.77</td>\n",
       "      <td>NaN</td>\n",
       "      <td>NaN</td>\n",
       "      <td>out of rating</td>\n",
       "    </tr>\n",
       "    <tr>\n",
       "      <th>2</th>\n",
       "      <td>Mario Kart Wii</td>\n",
       "      <td>Wii</td>\n",
       "      <td>2008</td>\n",
       "      <td>Racing</td>\n",
       "      <td>15.68</td>\n",
       "      <td>12.76</td>\n",
       "      <td>3.79</td>\n",
       "      <td>3.29</td>\n",
       "      <td>82.0</td>\n",
       "      <td>8.3</td>\n",
       "      <td>E</td>\n",
       "    </tr>\n",
       "    <tr>\n",
       "      <th>3</th>\n",
       "      <td>Wii Sports Resort</td>\n",
       "      <td>Wii</td>\n",
       "      <td>2009</td>\n",
       "      <td>Sports</td>\n",
       "      <td>15.61</td>\n",
       "      <td>10.93</td>\n",
       "      <td>3.28</td>\n",
       "      <td>2.95</td>\n",
       "      <td>80.0</td>\n",
       "      <td>8.0</td>\n",
       "      <td>E</td>\n",
       "    </tr>\n",
       "    <tr>\n",
       "      <th>4</th>\n",
       "      <td>Pokemon Red/Pokemon Blue</td>\n",
       "      <td>GB</td>\n",
       "      <td>1996</td>\n",
       "      <td>Role-Playing</td>\n",
       "      <td>11.27</td>\n",
       "      <td>8.89</td>\n",
       "      <td>10.22</td>\n",
       "      <td>1.00</td>\n",
       "      <td>NaN</td>\n",
       "      <td>NaN</td>\n",
       "      <td>out of rating</td>\n",
       "    </tr>\n",
       "    <tr>\n",
       "      <th>5</th>\n",
       "      <td>Tetris</td>\n",
       "      <td>GB</td>\n",
       "      <td>1989</td>\n",
       "      <td>Puzzle</td>\n",
       "      <td>23.20</td>\n",
       "      <td>2.26</td>\n",
       "      <td>4.22</td>\n",
       "      <td>0.58</td>\n",
       "      <td>NaN</td>\n",
       "      <td>NaN</td>\n",
       "      <td>out of rating</td>\n",
       "    </tr>\n",
       "    <tr>\n",
       "      <th>6</th>\n",
       "      <td>New Super Mario Bros.</td>\n",
       "      <td>DS</td>\n",
       "      <td>2006</td>\n",
       "      <td>Platform</td>\n",
       "      <td>11.28</td>\n",
       "      <td>9.14</td>\n",
       "      <td>6.50</td>\n",
       "      <td>2.88</td>\n",
       "      <td>89.0</td>\n",
       "      <td>8.5</td>\n",
       "      <td>E</td>\n",
       "    </tr>\n",
       "    <tr>\n",
       "      <th>7</th>\n",
       "      <td>Wii Play</td>\n",
       "      <td>Wii</td>\n",
       "      <td>2006</td>\n",
       "      <td>Misc</td>\n",
       "      <td>13.96</td>\n",
       "      <td>9.18</td>\n",
       "      <td>2.93</td>\n",
       "      <td>2.84</td>\n",
       "      <td>58.0</td>\n",
       "      <td>6.6</td>\n",
       "      <td>E</td>\n",
       "    </tr>\n",
       "    <tr>\n",
       "      <th>8</th>\n",
       "      <td>New Super Mario Bros. Wii</td>\n",
       "      <td>Wii</td>\n",
       "      <td>2009</td>\n",
       "      <td>Platform</td>\n",
       "      <td>14.44</td>\n",
       "      <td>6.94</td>\n",
       "      <td>4.70</td>\n",
       "      <td>2.24</td>\n",
       "      <td>87.0</td>\n",
       "      <td>8.4</td>\n",
       "      <td>E</td>\n",
       "    </tr>\n",
       "    <tr>\n",
       "      <th>9</th>\n",
       "      <td>Duck Hunt</td>\n",
       "      <td>NES</td>\n",
       "      <td>1984</td>\n",
       "      <td>Shooter</td>\n",
       "      <td>26.93</td>\n",
       "      <td>0.63</td>\n",
       "      <td>0.28</td>\n",
       "      <td>0.47</td>\n",
       "      <td>NaN</td>\n",
       "      <td>NaN</td>\n",
       "      <td>out of rating</td>\n",
       "    </tr>\n",
       "  </tbody>\n",
       "</table>\n",
       "</div>"
      ],
      "text/plain": [
       "                        name platform  year_of_release         genre  \\\n",
       "0                 Wii Sports      Wii             2006        Sports   \n",
       "1          Super Mario Bros.      NES             1985      Platform   \n",
       "2             Mario Kart Wii      Wii             2008        Racing   \n",
       "3          Wii Sports Resort      Wii             2009        Sports   \n",
       "4   Pokemon Red/Pokemon Blue       GB             1996  Role-Playing   \n",
       "5                     Tetris       GB             1989        Puzzle   \n",
       "6      New Super Mario Bros.       DS             2006      Platform   \n",
       "7                   Wii Play      Wii             2006          Misc   \n",
       "8  New Super Mario Bros. Wii      Wii             2009      Platform   \n",
       "9                  Duck Hunt      NES             1984       Shooter   \n",
       "\n",
       "   na_sales  eu_sales  jp_sales  other_sales  critic_score  user_score  \\\n",
       "0     41.36     28.96      3.77         8.45          76.0         8.0   \n",
       "1     29.08      3.58      6.81         0.77           NaN         NaN   \n",
       "2     15.68     12.76      3.79         3.29          82.0         8.3   \n",
       "3     15.61     10.93      3.28         2.95          80.0         8.0   \n",
       "4     11.27      8.89     10.22         1.00           NaN         NaN   \n",
       "5     23.20      2.26      4.22         0.58           NaN         NaN   \n",
       "6     11.28      9.14      6.50         2.88          89.0         8.5   \n",
       "7     13.96      9.18      2.93         2.84          58.0         6.6   \n",
       "8     14.44      6.94      4.70         2.24          87.0         8.4   \n",
       "9     26.93      0.63      0.28         0.47           NaN         NaN   \n",
       "\n",
       "     esrb_rating  \n",
       "0              E  \n",
       "1  out of rating  \n",
       "2              E  \n",
       "3              E  \n",
       "4  out of rating  \n",
       "5  out of rating  \n",
       "6              E  \n",
       "7              E  \n",
       "8              E  \n",
       "9  out of rating  "
      ]
     },
     "execution_count": 13,
     "metadata": {},
     "output_type": "execute_result"
    }
   ],
   "source": [
    "# изменение типов данных\n",
    "data['year_of_release'] = data['year_of_release'].astype('int64')\n",
    "\n",
    "data['user_score'] = data['user_score'].astype('float64', errors='ignore')\n",
    "data['critic_score'] = data['critic_score'].astype('int64', errors='ignore')\n",
    "\n",
    "# проверка изменения\n",
    "data.info()\n",
    "data.head(10)"
   ]
  },
  {
   "cell_type": "markdown",
   "metadata": {},
   "source": [
    "**Отработаем п. 4 предварительных выводов**\n",
    "\n",
    "Для начала посмотрим, какие рейтинги в принципе присвоены играм по ESRB."
   ]
  },
  {
   "cell_type": "code",
   "execution_count": 14,
   "metadata": {},
   "outputs": [
    {
     "data": {
      "text/plain": [
       "array(['E', 'out of rating', 'M', 'T', 'E10+', 'K-A', 'AO', 'EC', 'RP'],\n",
       "      dtype=object)"
      ]
     },
     "execution_count": 14,
     "metadata": {},
     "output_type": "execute_result"
    }
   ],
   "source": [
    "data['esrb_rating'].unique()"
   ]
  },
  {
   "cell_type": "markdown",
   "metadata": {},
   "source": [
    "Имеем следующие рейтинги:\n",
    "- E - Для всех;\n",
    "- M - Для взрослых (17+ лет);\n",
    "- T - Подросткам (13+ лет);\n",
    "- E10+ - Для всех от 10 лет и старше;\n",
    "- K-A - Kids to Adults. Такого рейтинга сейчас нет, его заменяет E;\n",
    "- AO - Только для взрослых (18+ лет, выше чем M);\n",
    "- EC - Для детей младшего возраста (от 3 лет);\n",
    "- RP - Рейтинг ожидается, обычно применяется ДО релиза игр.\n",
    "\n",
    "Добавлять отдельный столбец все же нет сильной необходимости, данные пояснения запомним, это позволит написать более понятные выводы при изучении зависимостей продаж от присвоенного рейтинга. Вернемся к этому описанию в разделе по портрету пользователей."
   ]
  },
  {
   "cell_type": "code",
   "execution_count": 15,
   "metadata": {},
   "outputs": [
    {
     "data": {
      "text/plain": [
       "array(['E', 'out of rating', 'M', 'T', 'E10+', 'AO', 'EC', 'RP'],\n",
       "      dtype=object)"
      ]
     },
     "execution_count": 15,
     "metadata": {},
     "output_type": "execute_result"
    }
   ],
   "source": [
    "# замена значений K-A на E в столбце esrb_rating\n",
    "data['esrb_rating'] = data['esrb_rating'].replace('K-A', 'E')\n",
    "\n",
    "# проверка уникальных значений в esrb_rating\n",
    "data['esrb_rating'].unique()"
   ]
  },
  {
   "cell_type": "markdown",
   "metadata": {},
   "source": [
    "**Отработаем п. 5 предварительных выводов**\n",
    "\n",
    "Изменим регистр в столбцах `name`, `platform` и `genre` на нижний"
   ]
  },
  {
   "cell_type": "code",
   "execution_count": 16,
   "metadata": {},
   "outputs": [
    {
     "data": {
      "text/html": [
       "<div>\n",
       "<style scoped>\n",
       "    .dataframe tbody tr th:only-of-type {\n",
       "        vertical-align: middle;\n",
       "    }\n",
       "\n",
       "    .dataframe tbody tr th {\n",
       "        vertical-align: top;\n",
       "    }\n",
       "\n",
       "    .dataframe thead th {\n",
       "        text-align: right;\n",
       "    }\n",
       "</style>\n",
       "<table border=\"1\" class=\"dataframe\">\n",
       "  <thead>\n",
       "    <tr style=\"text-align: right;\">\n",
       "      <th></th>\n",
       "      <th>name</th>\n",
       "      <th>platform</th>\n",
       "      <th>year_of_release</th>\n",
       "      <th>genre</th>\n",
       "      <th>na_sales</th>\n",
       "      <th>eu_sales</th>\n",
       "      <th>jp_sales</th>\n",
       "      <th>other_sales</th>\n",
       "      <th>critic_score</th>\n",
       "      <th>user_score</th>\n",
       "      <th>esrb_rating</th>\n",
       "    </tr>\n",
       "  </thead>\n",
       "  <tbody>\n",
       "    <tr>\n",
       "      <th>0</th>\n",
       "      <td>wii sports</td>\n",
       "      <td>wii</td>\n",
       "      <td>2006</td>\n",
       "      <td>sports</td>\n",
       "      <td>41.36</td>\n",
       "      <td>28.96</td>\n",
       "      <td>3.77</td>\n",
       "      <td>8.45</td>\n",
       "      <td>76.0</td>\n",
       "      <td>8.0</td>\n",
       "      <td>E</td>\n",
       "    </tr>\n",
       "    <tr>\n",
       "      <th>1</th>\n",
       "      <td>super mario bros.</td>\n",
       "      <td>nes</td>\n",
       "      <td>1985</td>\n",
       "      <td>platform</td>\n",
       "      <td>29.08</td>\n",
       "      <td>3.58</td>\n",
       "      <td>6.81</td>\n",
       "      <td>0.77</td>\n",
       "      <td>NaN</td>\n",
       "      <td>NaN</td>\n",
       "      <td>out of rating</td>\n",
       "    </tr>\n",
       "    <tr>\n",
       "      <th>2</th>\n",
       "      <td>mario kart wii</td>\n",
       "      <td>wii</td>\n",
       "      <td>2008</td>\n",
       "      <td>racing</td>\n",
       "      <td>15.68</td>\n",
       "      <td>12.76</td>\n",
       "      <td>3.79</td>\n",
       "      <td>3.29</td>\n",
       "      <td>82.0</td>\n",
       "      <td>8.3</td>\n",
       "      <td>E</td>\n",
       "    </tr>\n",
       "    <tr>\n",
       "      <th>3</th>\n",
       "      <td>wii sports resort</td>\n",
       "      <td>wii</td>\n",
       "      <td>2009</td>\n",
       "      <td>sports</td>\n",
       "      <td>15.61</td>\n",
       "      <td>10.93</td>\n",
       "      <td>3.28</td>\n",
       "      <td>2.95</td>\n",
       "      <td>80.0</td>\n",
       "      <td>8.0</td>\n",
       "      <td>E</td>\n",
       "    </tr>\n",
       "    <tr>\n",
       "      <th>4</th>\n",
       "      <td>pokemon red/pokemon blue</td>\n",
       "      <td>gb</td>\n",
       "      <td>1996</td>\n",
       "      <td>role-playing</td>\n",
       "      <td>11.27</td>\n",
       "      <td>8.89</td>\n",
       "      <td>10.22</td>\n",
       "      <td>1.00</td>\n",
       "      <td>NaN</td>\n",
       "      <td>NaN</td>\n",
       "      <td>out of rating</td>\n",
       "    </tr>\n",
       "    <tr>\n",
       "      <th>5</th>\n",
       "      <td>tetris</td>\n",
       "      <td>gb</td>\n",
       "      <td>1989</td>\n",
       "      <td>puzzle</td>\n",
       "      <td>23.20</td>\n",
       "      <td>2.26</td>\n",
       "      <td>4.22</td>\n",
       "      <td>0.58</td>\n",
       "      <td>NaN</td>\n",
       "      <td>NaN</td>\n",
       "      <td>out of rating</td>\n",
       "    </tr>\n",
       "    <tr>\n",
       "      <th>6</th>\n",
       "      <td>new super mario bros.</td>\n",
       "      <td>ds</td>\n",
       "      <td>2006</td>\n",
       "      <td>platform</td>\n",
       "      <td>11.28</td>\n",
       "      <td>9.14</td>\n",
       "      <td>6.50</td>\n",
       "      <td>2.88</td>\n",
       "      <td>89.0</td>\n",
       "      <td>8.5</td>\n",
       "      <td>E</td>\n",
       "    </tr>\n",
       "    <tr>\n",
       "      <th>7</th>\n",
       "      <td>wii play</td>\n",
       "      <td>wii</td>\n",
       "      <td>2006</td>\n",
       "      <td>misc</td>\n",
       "      <td>13.96</td>\n",
       "      <td>9.18</td>\n",
       "      <td>2.93</td>\n",
       "      <td>2.84</td>\n",
       "      <td>58.0</td>\n",
       "      <td>6.6</td>\n",
       "      <td>E</td>\n",
       "    </tr>\n",
       "    <tr>\n",
       "      <th>8</th>\n",
       "      <td>new super mario bros. wii</td>\n",
       "      <td>wii</td>\n",
       "      <td>2009</td>\n",
       "      <td>platform</td>\n",
       "      <td>14.44</td>\n",
       "      <td>6.94</td>\n",
       "      <td>4.70</td>\n",
       "      <td>2.24</td>\n",
       "      <td>87.0</td>\n",
       "      <td>8.4</td>\n",
       "      <td>E</td>\n",
       "    </tr>\n",
       "    <tr>\n",
       "      <th>9</th>\n",
       "      <td>duck hunt</td>\n",
       "      <td>nes</td>\n",
       "      <td>1984</td>\n",
       "      <td>shooter</td>\n",
       "      <td>26.93</td>\n",
       "      <td>0.63</td>\n",
       "      <td>0.28</td>\n",
       "      <td>0.47</td>\n",
       "      <td>NaN</td>\n",
       "      <td>NaN</td>\n",
       "      <td>out of rating</td>\n",
       "    </tr>\n",
       "  </tbody>\n",
       "</table>\n",
       "</div>"
      ],
      "text/plain": [
       "                        name platform  year_of_release         genre  \\\n",
       "0                 wii sports      wii             2006        sports   \n",
       "1          super mario bros.      nes             1985      platform   \n",
       "2             mario kart wii      wii             2008        racing   \n",
       "3          wii sports resort      wii             2009        sports   \n",
       "4   pokemon red/pokemon blue       gb             1996  role-playing   \n",
       "5                     tetris       gb             1989        puzzle   \n",
       "6      new super mario bros.       ds             2006      platform   \n",
       "7                   wii play      wii             2006          misc   \n",
       "8  new super mario bros. wii      wii             2009      platform   \n",
       "9                  duck hunt      nes             1984       shooter   \n",
       "\n",
       "   na_sales  eu_sales  jp_sales  other_sales  critic_score  user_score  \\\n",
       "0     41.36     28.96      3.77         8.45          76.0         8.0   \n",
       "1     29.08      3.58      6.81         0.77           NaN         NaN   \n",
       "2     15.68     12.76      3.79         3.29          82.0         8.3   \n",
       "3     15.61     10.93      3.28         2.95          80.0         8.0   \n",
       "4     11.27      8.89     10.22         1.00           NaN         NaN   \n",
       "5     23.20      2.26      4.22         0.58           NaN         NaN   \n",
       "6     11.28      9.14      6.50         2.88          89.0         8.5   \n",
       "7     13.96      9.18      2.93         2.84          58.0         6.6   \n",
       "8     14.44      6.94      4.70         2.24          87.0         8.4   \n",
       "9     26.93      0.63      0.28         0.47           NaN         NaN   \n",
       "\n",
       "     esrb_rating  \n",
       "0              E  \n",
       "1  out of rating  \n",
       "2              E  \n",
       "3              E  \n",
       "4  out of rating  \n",
       "5  out of rating  \n",
       "6              E  \n",
       "7              E  \n",
       "8              E  \n",
       "9  out of rating  "
      ]
     },
     "execution_count": 16,
     "metadata": {},
     "output_type": "execute_result"
    }
   ],
   "source": [
    "# изменение регистра\n",
    "data['name'] = data['name'].str.lower()\n",
    "data['platform'] = data['platform'].str.lower()\n",
    "data['genre'] = data['genre'].str.lower()\n",
    "\n",
    "# проверка изменения\n",
    "data.head(10)"
   ]
  },
  {
   "cell_type": "markdown",
   "metadata": {},
   "source": [
    "Регистр изменили. Теперь проверим уникальные значения на предмет наличия неявных дубликатов"
   ]
  },
  {
   "cell_type": "code",
   "execution_count": 17,
   "metadata": {},
   "outputs": [
    {
     "data": {
      "text/plain": [
       "array(['wii sports', 'super mario bros.', 'mario kart wii', ...,\n",
       "       'woody woodpecker in crazy castle 5', 'lma manager 2007',\n",
       "       'haitaka no psychedelica'], dtype=object)"
      ]
     },
     "execution_count": 17,
     "metadata": {},
     "output_type": "execute_result"
    }
   ],
   "source": [
    "# проверка стролбца name\n",
    "data['name'].unique()"
   ]
  },
  {
   "cell_type": "code",
   "execution_count": 18,
   "metadata": {},
   "outputs": [
    {
     "data": {
      "text/plain": [
       "array(['wii', 'nes', 'gb', 'ds', 'x360', 'ps3', 'ps2', 'snes', 'gba',\n",
       "       'ps4', '3ds', 'n64', 'ps', 'xb', 'pc', '2600', 'psp', 'xone',\n",
       "       'wiiu', 'gc', 'gen', 'dc', 'psv', 'sat', 'scd', 'ws', 'ng', 'tg16',\n",
       "       '3do', 'gg', 'pcfx'], dtype=object)"
      ]
     },
     "execution_count": 18,
     "metadata": {},
     "output_type": "execute_result"
    }
   ],
   "source": [
    "# проверка столбца platform\n",
    "data['platform'].unique()"
   ]
  },
  {
   "cell_type": "markdown",
   "metadata": {},
   "source": [
    "Видим странные названия *ps* и *xb* (Playstation или Xbox) при наличии отдельных приставок ps2-ps4 и x360-xone. Предположений 2: либо это самые первые поколения данных приставок, либо есть дубликаты.\n",
    "\n",
    "Посмотрим подробнее эти строки. Если даты релизов для ps окажутся до 2006-го и для xb до 2009-го, то это не дубликаты - это реально вышедшие игры на первые поколения. Почему 2006-ой и 2009-ый - это официальные даты прекращения поддержки приставок со стороны Sony и Microsoft."
   ]
  },
  {
   "cell_type": "code",
   "execution_count": 19,
   "metadata": {},
   "outputs": [
    {
     "data": {
      "text/plain": [
       "array([1997, 1999, 1998, 1996, 2000, 1995, 2001, 2002,   -1, 1994, 2003])"
      ]
     },
     "execution_count": 19,
     "metadata": {},
     "output_type": "execute_result"
    }
   ],
   "source": [
    "# срез данных по ps\n",
    "ps_data = data.query('platform == \"ps\"')\n",
    "\n",
    "# проверка годов релиза игр на ps\n",
    "ps_data['year_of_release'].unique()"
   ]
  },
  {
   "cell_type": "markdown",
   "metadata": {},
   "source": [
    "Это действительно ps1. Все релизы не позже 2003-го."
   ]
  },
  {
   "cell_type": "code",
   "execution_count": 20,
   "metadata": {},
   "outputs": [
    {
     "data": {
      "text/plain": [
       "array([2004, 2001, 2002, 2003, 2005,   -1, 2006, 2000, 2007, 2008])"
      ]
     },
     "execution_count": 20,
     "metadata": {},
     "output_type": "execute_result"
    }
   ],
   "source": [
    "# срез данных по xbox\n",
    "xb_data = data.query('platform == \"xb\"')\n",
    "\n",
    "# проверка годов релиза на xb\n",
    "xb_data['year_of_release'].unique()"
   ]
  },
  {
   "cell_type": "markdown",
   "metadata": {},
   "source": [
    "Это действительно самый первый xbox. Все релизы не позже 2008-го."
   ]
  },
  {
   "cell_type": "code",
   "execution_count": 21,
   "metadata": {},
   "outputs": [
    {
     "data": {
      "text/plain": [
       "array(['sports', 'platform', 'racing', 'role-playing', 'puzzle', 'misc',\n",
       "       'shooter', 'simulation', 'action', 'fighting', 'adventure',\n",
       "       'strategy'], dtype=object)"
      ]
     },
     "execution_count": 21,
     "metadata": {},
     "output_type": "execute_result"
    }
   ],
   "source": [
    "# проврека столбца genre\n",
    "data['genre'].unique()"
   ]
  },
  {
   "cell_type": "markdown",
   "metadata": {},
   "source": [
    "Дубликатов в столбце `genre` не замечено.\n",
    "\n",
    "Напоследок, проверим все данные на наличие полных дубликатов."
   ]
  },
  {
   "cell_type": "code",
   "execution_count": 22,
   "metadata": {},
   "outputs": [
    {
     "data": {
      "text/plain": [
       "0"
      ]
     },
     "execution_count": 22,
     "metadata": {},
     "output_type": "execute_result"
    }
   ],
   "source": [
    "# проверка датасета на наличие дубликатов\n",
    "data.duplicated().sum()"
   ]
  },
  {
   "cell_type": "markdown",
   "metadata": {},
   "source": [
    "**Теперь добавим новый столбец с общим количеством проданных копий по каждой игре**"
   ]
  },
  {
   "cell_type": "code",
   "execution_count": 23,
   "metadata": {},
   "outputs": [
    {
     "data": {
      "text/html": [
       "<div>\n",
       "<style scoped>\n",
       "    .dataframe tbody tr th:only-of-type {\n",
       "        vertical-align: middle;\n",
       "    }\n",
       "\n",
       "    .dataframe tbody tr th {\n",
       "        vertical-align: top;\n",
       "    }\n",
       "\n",
       "    .dataframe thead th {\n",
       "        text-align: right;\n",
       "    }\n",
       "</style>\n",
       "<table border=\"1\" class=\"dataframe\">\n",
       "  <thead>\n",
       "    <tr style=\"text-align: right;\">\n",
       "      <th></th>\n",
       "      <th>name</th>\n",
       "      <th>platform</th>\n",
       "      <th>year_of_release</th>\n",
       "      <th>genre</th>\n",
       "      <th>na_sales</th>\n",
       "      <th>eu_sales</th>\n",
       "      <th>jp_sales</th>\n",
       "      <th>other_sales</th>\n",
       "      <th>critic_score</th>\n",
       "      <th>user_score</th>\n",
       "      <th>esrb_rating</th>\n",
       "      <th>total_sales</th>\n",
       "    </tr>\n",
       "  </thead>\n",
       "  <tbody>\n",
       "    <tr>\n",
       "      <th>0</th>\n",
       "      <td>wii sports</td>\n",
       "      <td>wii</td>\n",
       "      <td>2006</td>\n",
       "      <td>sports</td>\n",
       "      <td>41.36</td>\n",
       "      <td>28.96</td>\n",
       "      <td>3.77</td>\n",
       "      <td>8.45</td>\n",
       "      <td>76.0</td>\n",
       "      <td>8.0</td>\n",
       "      <td>E</td>\n",
       "      <td>82.54</td>\n",
       "    </tr>\n",
       "    <tr>\n",
       "      <th>1</th>\n",
       "      <td>super mario bros.</td>\n",
       "      <td>nes</td>\n",
       "      <td>1985</td>\n",
       "      <td>platform</td>\n",
       "      <td>29.08</td>\n",
       "      <td>3.58</td>\n",
       "      <td>6.81</td>\n",
       "      <td>0.77</td>\n",
       "      <td>NaN</td>\n",
       "      <td>NaN</td>\n",
       "      <td>out of rating</td>\n",
       "      <td>40.24</td>\n",
       "    </tr>\n",
       "    <tr>\n",
       "      <th>2</th>\n",
       "      <td>mario kart wii</td>\n",
       "      <td>wii</td>\n",
       "      <td>2008</td>\n",
       "      <td>racing</td>\n",
       "      <td>15.68</td>\n",
       "      <td>12.76</td>\n",
       "      <td>3.79</td>\n",
       "      <td>3.29</td>\n",
       "      <td>82.0</td>\n",
       "      <td>8.3</td>\n",
       "      <td>E</td>\n",
       "      <td>35.52</td>\n",
       "    </tr>\n",
       "    <tr>\n",
       "      <th>3</th>\n",
       "      <td>wii sports resort</td>\n",
       "      <td>wii</td>\n",
       "      <td>2009</td>\n",
       "      <td>sports</td>\n",
       "      <td>15.61</td>\n",
       "      <td>10.93</td>\n",
       "      <td>3.28</td>\n",
       "      <td>2.95</td>\n",
       "      <td>80.0</td>\n",
       "      <td>8.0</td>\n",
       "      <td>E</td>\n",
       "      <td>32.77</td>\n",
       "    </tr>\n",
       "    <tr>\n",
       "      <th>4</th>\n",
       "      <td>pokemon red/pokemon blue</td>\n",
       "      <td>gb</td>\n",
       "      <td>1996</td>\n",
       "      <td>role-playing</td>\n",
       "      <td>11.27</td>\n",
       "      <td>8.89</td>\n",
       "      <td>10.22</td>\n",
       "      <td>1.00</td>\n",
       "      <td>NaN</td>\n",
       "      <td>NaN</td>\n",
       "      <td>out of rating</td>\n",
       "      <td>31.38</td>\n",
       "    </tr>\n",
       "    <tr>\n",
       "      <th>5</th>\n",
       "      <td>tetris</td>\n",
       "      <td>gb</td>\n",
       "      <td>1989</td>\n",
       "      <td>puzzle</td>\n",
       "      <td>23.20</td>\n",
       "      <td>2.26</td>\n",
       "      <td>4.22</td>\n",
       "      <td>0.58</td>\n",
       "      <td>NaN</td>\n",
       "      <td>NaN</td>\n",
       "      <td>out of rating</td>\n",
       "      <td>30.26</td>\n",
       "    </tr>\n",
       "    <tr>\n",
       "      <th>6</th>\n",
       "      <td>new super mario bros.</td>\n",
       "      <td>ds</td>\n",
       "      <td>2006</td>\n",
       "      <td>platform</td>\n",
       "      <td>11.28</td>\n",
       "      <td>9.14</td>\n",
       "      <td>6.50</td>\n",
       "      <td>2.88</td>\n",
       "      <td>89.0</td>\n",
       "      <td>8.5</td>\n",
       "      <td>E</td>\n",
       "      <td>29.80</td>\n",
       "    </tr>\n",
       "    <tr>\n",
       "      <th>7</th>\n",
       "      <td>wii play</td>\n",
       "      <td>wii</td>\n",
       "      <td>2006</td>\n",
       "      <td>misc</td>\n",
       "      <td>13.96</td>\n",
       "      <td>9.18</td>\n",
       "      <td>2.93</td>\n",
       "      <td>2.84</td>\n",
       "      <td>58.0</td>\n",
       "      <td>6.6</td>\n",
       "      <td>E</td>\n",
       "      <td>28.91</td>\n",
       "    </tr>\n",
       "    <tr>\n",
       "      <th>8</th>\n",
       "      <td>new super mario bros. wii</td>\n",
       "      <td>wii</td>\n",
       "      <td>2009</td>\n",
       "      <td>platform</td>\n",
       "      <td>14.44</td>\n",
       "      <td>6.94</td>\n",
       "      <td>4.70</td>\n",
       "      <td>2.24</td>\n",
       "      <td>87.0</td>\n",
       "      <td>8.4</td>\n",
       "      <td>E</td>\n",
       "      <td>28.32</td>\n",
       "    </tr>\n",
       "    <tr>\n",
       "      <th>9</th>\n",
       "      <td>duck hunt</td>\n",
       "      <td>nes</td>\n",
       "      <td>1984</td>\n",
       "      <td>shooter</td>\n",
       "      <td>26.93</td>\n",
       "      <td>0.63</td>\n",
       "      <td>0.28</td>\n",
       "      <td>0.47</td>\n",
       "      <td>NaN</td>\n",
       "      <td>NaN</td>\n",
       "      <td>out of rating</td>\n",
       "      <td>28.31</td>\n",
       "    </tr>\n",
       "  </tbody>\n",
       "</table>\n",
       "</div>"
      ],
      "text/plain": [
       "                        name platform  year_of_release         genre  \\\n",
       "0                 wii sports      wii             2006        sports   \n",
       "1          super mario bros.      nes             1985      platform   \n",
       "2             mario kart wii      wii             2008        racing   \n",
       "3          wii sports resort      wii             2009        sports   \n",
       "4   pokemon red/pokemon blue       gb             1996  role-playing   \n",
       "5                     tetris       gb             1989        puzzle   \n",
       "6      new super mario bros.       ds             2006      platform   \n",
       "7                   wii play      wii             2006          misc   \n",
       "8  new super mario bros. wii      wii             2009      platform   \n",
       "9                  duck hunt      nes             1984       shooter   \n",
       "\n",
       "   na_sales  eu_sales  jp_sales  other_sales  critic_score  user_score  \\\n",
       "0     41.36     28.96      3.77         8.45          76.0         8.0   \n",
       "1     29.08      3.58      6.81         0.77           NaN         NaN   \n",
       "2     15.68     12.76      3.79         3.29          82.0         8.3   \n",
       "3     15.61     10.93      3.28         2.95          80.0         8.0   \n",
       "4     11.27      8.89     10.22         1.00           NaN         NaN   \n",
       "5     23.20      2.26      4.22         0.58           NaN         NaN   \n",
       "6     11.28      9.14      6.50         2.88          89.0         8.5   \n",
       "7     13.96      9.18      2.93         2.84          58.0         6.6   \n",
       "8     14.44      6.94      4.70         2.24          87.0         8.4   \n",
       "9     26.93      0.63      0.28         0.47           NaN         NaN   \n",
       "\n",
       "     esrb_rating  total_sales  \n",
       "0              E        82.54  \n",
       "1  out of rating        40.24  \n",
       "2              E        35.52  \n",
       "3              E        32.77  \n",
       "4  out of rating        31.38  \n",
       "5  out of rating        30.26  \n",
       "6              E        29.80  \n",
       "7              E        28.91  \n",
       "8              E        28.32  \n",
       "9  out of rating        28.31  "
      ]
     },
     "execution_count": 23,
     "metadata": {},
     "output_type": "execute_result"
    }
   ],
   "source": [
    "# добавление столбца total_sales\n",
    "data['total_sales'] = data['na_sales'] + data['eu_sales'] + data['jp_sales'] + data['other_sales']\n",
    "data.head(10)"
   ]
  },
  {
   "cell_type": "markdown",
   "metadata": {},
   "source": [
    "**Выводы по предобработке** \n",
    "\n",
    "Преобработка данные произведена, датасет готов к дальнейшему анализу.\n",
    "\n",
    "- 1) Столбцы переименованы на корректные;\n",
    "- 2) Пропуски в уместных местах заполнены, в некоторых столбцах оставлены сознательно по причине невозможности заполнения;\n",
    "- 3) Типы данные изменены;\n",
    "- 4) Изучено, что представляют из себя рейтинги ESRB, принято решение не добавлять дополнительные пояснения в сам датасет;\n",
    "- 5) Регистры в столбцах изменены, дубликаты в данных отсутствуют;\n",
    "- 6) Добавлен новый столбец с общей суммой мировых продаж по каждой игре."
   ]
  },
  {
   "cell_type": "markdown",
   "metadata": {},
   "source": [
    "## Исследовательский анализ данных"
   ]
  },
  {
   "cell_type": "markdown",
   "metadata": {},
   "source": [
    "На этапе исследовательского анализа ответим на следующие вопросы:\n",
    "- 1) Сколько игр было выпущено за каждый год и какие налюдаются тренды?\n",
    "- 2) Какие платформы являлись самыми популярными и какой характерный срок жизни платформ на рынке?\n",
    "- 3) Какие платформы лидируют по продажам, растут или падают? Выберем несколько потенциальных прибыльных платформ.\n",
    "- 4) Построим график «ящик с усами» по глобальным продажам игр в разбивке по платформам. Какие результаты получатся и как их можно интерпретировать?\n",
    "- 5) Насколько оценки критиков и игроков влияют на продажи игр, и связаны ли оценки критиков с оценками игроков (посмотреть корреляцию на самой популярной платформе)?\n",
    "- 6) Какие жанры игр являются самыми популярными?"
   ]
  },
  {
   "cell_type": "markdown",
   "metadata": {},
   "source": [
    "**Вопрос 1**\n",
    "\n",
    "Посмотрим, сколько игр было выпущено за каждый год и какие наблюдаются тренды."
   ]
  },
  {
   "cell_type": "code",
   "execution_count": 24,
   "metadata": {},
   "outputs": [
    {
     "data": {
      "text/plain": [
       "Text(0.5, 1.0, 'Распределение релизов игр по годам')"
      ]
     },
     "execution_count": 24,
     "metadata": {},
     "output_type": "execute_result"
    },
    {
     "data": {
      "image/png": "[encoded data removed]",
      "text/plain": [
       "<Figure size 432x288 with 1 Axes>"
      ]
     },
     "metadata": {
      "needs_background": "light"
     },
     "output_type": "display_data"
    }
   ],
   "source": [
    "# построение графика по вопросу 1. Не считаем те игры, где не опрдеделен год релиза\n",
    "data[data['year_of_release'] != -1]['year_of_release'].plot(kind='hist',\n",
    "                                                                bins=50,\n",
    "                                                                grid=True\n",
    "                                                               )\n",
    "\n",
    "plt.title('Распределение релизов игр по годам')"
   ]
  },
  {
   "cell_type": "markdown",
   "metadata": {},
   "source": [
    "**Вывод по вопросу 1:** Игровая индустрия зародилась в начале 80-ых. Начиная с 90-ых, с момента резкого развития технологий, индустрия стремительно набирала обороты до конца 00-ых. Затем с 2010-го наблюдатеся спад релизов - примерно в этот период начали появляться более функциональные смартфоны, могу предположить что произошел фокус именно на мобильные платформы и разработчики стали выпускать больше игр на Android и iOS (к сожалению, отсутствуют в датасете :( , было бы интересно проверить ).\n",
    "\n",
    "*Оффтоп*: на самом деле, так и есть. Громких и крутых релизов в последнее время происходит крайне мало, наблюдаются тренды на ремастеры давно вышедших игр при отсутствии новых и \"налог на некстген\" (доплата за графику уже ранее купленных игр. Например, PS5-версия игры, купленной ранее на PS4, составялет по миру в среднем $10). Также наблюдается серьезный дефицит платформ вследствие кризиса полупроводников - PS5 и Xbox Series X/S, видеокарты для ПК."
   ]
  },
  {
   "cell_type": "markdown",
   "metadata": {},
   "source": [
    "**Вопрос 2**\n",
    "\n",
    "Построим график распределения суммарных продаж по платформам и выберем самые популярные."
   ]
  },
  {
   "cell_type": "code",
   "execution_count": 25,
   "metadata": {},
   "outputs": [
    {
     "data": {
      "text/plain": [
       "Text(0.5, 1.0, 'Суммарные продажи игр по каждой платформе (в млн копий)')"
      ]
     },
     "execution_count": 25,
     "metadata": {},
     "output_type": "execute_result"
    },
    {
     "data": {
      "image/png": "[encoded data removed]",
      "text/plain": [
       "<Figure size 720x720 with 1 Axes>"
      ]
     },
     "metadata": {
      "needs_background": "light"
     },
     "output_type": "display_data"
    }
   ],
   "source": [
    "# построение графиков по вопросу 2\n",
    "data.groupby('platform')['total_sales'].sum().sort_values().plot(kind='barh',\n",
    "                                                                 figsize=(10, 10)\n",
    "                                                                )\n",
    "\n",
    "plt.title('Суммарные продажи игр по каждой платформе (в млн копий)')"
   ]
  },
  {
   "cell_type": "markdown",
   "metadata": {},
   "source": [
    "Безоговорочным лидером является **PS2**, на нее продано больше всего игр (более 1,2 млрд копий). В тот момент это было что-то новое, впервые появились 3D-игры от 3 лица (те же GTA Vice City и San Andreas).\n",
    "\n",
    "Затем идут игры прошедшего 7 поколения консолей на момент выгрузки данных в 2015 г. - это **Xbox360**, **PS3**, **Nintendo Wii** и карманная консоль **Nintendo DS**. Также среди лидеров находится самая первая **PS** - на тот момент рынок резко вырос, и приставка была чем-то новым (первая PS вышла раньше первого XBox, который проиграл более чем в 2 раза).\n",
    "\n",
    "На момент 2015 г. уже вышли консоли 8 поколения **PS4** и **Xbox One** и переход между поколениями был в активной стадии, поэтому отставание 8 поколения от 7-го можно объяснить.\n",
    "\n",
    "Внизу рейтинга расположены японские консоли - их низкая популярность может быть обсуловлена выходом только на локальном японском рынке - лишь малая часть на фоне мирового."
   ]
  },
  {
   "cell_type": "markdown",
   "metadata": {},
   "source": [
    "Выберем самые популярные платформы из графика выше и сфорируем отдельный список, затем построим динамику продаж по годам - это возволит ответить на 2 часть вопроса - какой характерный срок жизни платформ на рынке?\n",
    "\n",
    "P.S. Не стоит путать с периодом именно релиза новых поколений, не все сразу бегут за новой приставкой. Некоторые при выходе нового поколения только покупают предыдущее и играют в самые топовые игры поколения."
   ]
  },
  {
   "cell_type": "code",
   "execution_count": 26,
   "metadata": {},
   "outputs": [
    {
     "data": {
      "image/png": "[encoded data removed]",
      "text/plain": [
       "<Figure size 1080x504 with 1 Axes>"
      ]
     },
     "metadata": {
      "needs_background": "light"
     },
     "output_type": "display_data"
    }
   ],
   "source": [
    "# создание списка самых популярных платформ. Их 6\n",
    "top_platforms_global = ['ps2', 'x360', 'ps3', 'wii', 'ds', 'ps']\n",
    "\n",
    "# получение сводной таблицы по каждой платформе и суммы продаж по годам\n",
    "data_top_platforms = data.query('platform == @top_platforms_global and year_of_release != -1')\n",
    "data_to_plot = data_top_platforms.pivot_table(index = ['platform', 'year_of_release'], \n",
    "                                              values = 'total_sales', \n",
    "                                              aggfunc = 'sum'\n",
    "                                             )\n",
    "\n",
    "# построение линейного графика по каждой платформе топ-6\n",
    "# получилось построить через seaborn\n",
    "plot = sns.lineplot(data = data_to_plot.reset_index(),\n",
    "                    x = 'year_of_release',\n",
    "                    y = 'total_sales',\n",
    "                    hue = 'platform',\n",
    "                    )\n",
    "plot.figure.set_figwidth(15)\n",
    "plot.figure.set_figheight(7)"
   ]
  },
  {
   "cell_type": "markdown",
   "metadata": {},
   "source": [
    "Исходя из графика, получаем следующие сроки жизни платформ:\n",
    "- **Nintendo DS** - первый релиз в 1985-ом, затем резкий скачок в 2004-ом. Могу предположить, что данных по продажам не собирались до 2004-го - поэтому сроком активной \"жизни\" считаем период именно с 2004-го. Платформа прожила на рынке 10 лет до прекращения продаж игр в 2014-ом;\n",
    "- **PS** - релиз в 1994-ом, продажи происходили до 2003-го. Платформа прожила 9 лет;\n",
    "- **PS2** - релиз в 2000-ом, продажи происходили до 2011-го. Платформа прожила 11 лет;\n",
    "- **PS3** - релиз в 2006-ом, продажа игр практически прекратилась в 2016-ом. Платформа прожила 10 лет, при этом уже в 2013-ом вышла PS4 (в реальном мире, в данных не выбирался срез по PS4);\n",
    "- **Nintendo Wii** - релиз в 2006-ом, продажа игр также практически прекратилась в 2016-ом. Платформа прожила 10 лет;\n",
    "- **Xbox 360** - релиз в 2005-ом, продажа игр также практически прекратилась в 2016-ом. Платформа прожила 11 лет, при этом уже в 2013-ом вышел Xbox One в реальном мире.\n",
    "\n",
    "**Вывод по вопросу 2:** в среднем, игровая платформа \"живет\" среди игроков на промежутке 10 лет. В течение этого срока геймдев существенно развивается и предъявляет более жесткие требования к железу платформ - по этой причине приставки морально устаревают и просходит смена поколений. \n",
    "\n",
    "Также из списка самых популярных платформ пропадает PS, так как продажи игр на нее прекратились в 2003-ем.\n",
    "\n",
    "За актуальный период для построения прогноза продаж следует взять данные, начиная с 2014-го года - это тот год, когда активно началось новое поколение актуальных приставок, и по ним есть все данные для построения прогноза."
   ]
  },
  {
   "cell_type": "code",
   "execution_count": 27,
   "metadata": {},
   "outputs": [],
   "source": [
    "# получение актуального среза. В дальнейшем используем эти данные\n",
    "data_actual = data.query('year_of_release >= 2013')"
   ]
  },
  {
   "cell_type": "code",
   "execution_count": 28,
   "metadata": {},
   "outputs": [],
   "source": [
    "# обновление списка самых популярных платформ\n",
    "top_platforms_global = ['x360', 'ps3', 'wii']"
   ]
  },
  {
   "cell_type": "markdown",
   "metadata": {},
   "source": [
    "**Вопрос 3**\n",
    "\n",
    "Получим срез данных по актуальному периоду и построим аналогичный график продаж"
   ]
  },
  {
   "cell_type": "code",
   "execution_count": 29,
   "metadata": {},
   "outputs": [
    {
     "data": {
      "image/png": "[encoded data removed]",
      "text/plain": [
       "<Figure size 1080x504 with 1 Axes>"
      ]
     },
     "metadata": {
      "needs_background": "light"
     },
     "output_type": "display_data"
    }
   ],
   "source": [
    "# получение таблицы\n",
    "data_to_plot = data_actual.pivot_table(index = ['platform', 'year_of_release'],\n",
    "                                                     values = 'total_sales',\n",
    "                                                     aggfunc = 'sum'\n",
    "                                                    )\n",
    "\n",
    "# построение графика\n",
    "plot = sns.lineplot(data = data_to_plot.reset_index(),\n",
    "                    x = 'year_of_release',\n",
    "                    y = 'total_sales',\n",
    "                    hue = 'platform',\n",
    "                    )\n",
    "plot.figure.set_figwidth(15)\n",
    "plot.figure.set_figheight(7)"
   ]
  },
  {
   "cell_type": "markdown",
   "metadata": {},
   "source": [
    "**Вывод по вопросу 3:** Судя по данным продаж в 2016-ом, лидирующими платформами являются 2 приставки актуального на тот момент поколения, а также одна карманная:\n",
    "- **PS4**\n",
    "- **Xbox One**\n",
    "- **Nintendo 3DS**\n",
    "\n",
    "Выберем указанные платформы как 3 самые прибыльные, на графике они выражены наиболее ярко - остальные по продажам находятся почти на одном уровне. Примечательно еще то, что даже по ним наблюдается спад продаж - как было замечено в вопросе 1, рынок в целом падает после 2010-го."
   ]
  },
  {
   "cell_type": "markdown",
   "metadata": {},
   "source": [
    "**Вопрос 4**\n",
    "\n",
    "Построим график «ящик с усами» по глобальным продажам игр в разбивке по платформам и проанализируем результат."
   ]
  },
  {
   "cell_type": "code",
   "execution_count": 30,
   "metadata": {},
   "outputs": [],
   "source": [
    "# создание функции для построения boxplot-ов\n",
    "def any_boxplot(title, ylim, query):\n",
    "    if query == None:\n",
    "        boxplot = data_actual.boxplot(column = 'total_sales',\n",
    "                               figsize = (10, 15),\n",
    "                               )\n",
    "        plt.title(title)\n",
    "        boxplot.set_ylim(ylim)\n",
    "    \n",
    "    else:\n",
    "        boxplot = data_actual.query(query).boxplot(column = 'total_sales',\n",
    "                                            by = query.split()[0],\n",
    "                                            figsize = (10, 15),\n",
    "                                           )\n",
    "        plt.title(title)\n",
    "        boxplot.set_ylim(ylim)\n",
    "        \n",
    "    return boxplot"
   ]
  },
  {
   "cell_type": "code",
   "execution_count": 31,
   "metadata": {},
   "outputs": [
    {
     "data": {
      "text/plain": [
       "<AxesSubplot:title={'center':'Общая диаграмма по глобальным продажам игр'}>"
      ]
     },
     "execution_count": 31,
     "metadata": {},
     "output_type": "execute_result"
    },
    {
     "data": {
      "image/png": "[encoded data removed]",
      "text/plain": [
       "<Figure size 720x1080 with 1 Axes>"
      ]
     },
     "metadata": {
      "needs_background": "light"
     },
     "output_type": "display_data"
    }
   ],
   "source": [
    "# boxplot по общим глоальным продажам\n",
    "any_boxplot('Общая диаграмма по глобальным продажам игр', ylim = None, query = None)"
   ]
  },
  {
   "cell_type": "code",
   "execution_count": 32,
   "metadata": {},
   "outputs": [
    {
     "data": {
      "text/plain": [
       "<AxesSubplot:title={'center':'Общая диаграмма по глобальным продажам игр'}>"
      ]
     },
     "execution_count": 32,
     "metadata": {},
     "output_type": "execute_result"
    },
    {
     "data": {
      "image/png": "[encoded data removed]",
      "text/plain": [
       "<Figure size 720x1080 with 1 Axes>"
      ]
     },
     "metadata": {
      "needs_background": "light"
     },
     "output_type": "display_data"
    }
   ],
   "source": [
    "# boxplot по общим глоальным продажам. Чуть ближе\n",
    "any_boxplot('Общая диаграмма по глобальным продажам игр', ylim = [0, 2], query = None)"
   ]
  },
  {
   "cell_type": "markdown",
   "metadata": {},
   "source": [
    "Судя по графику, средняя сумма продаж каждой игры находится в пределах 0,9 млн долларов. \n",
    "\n",
    "Медианное значение - в районе 0,15 млн долларов. \n",
    "\n",
    "Это совсем немного - в общей статистике присутствует много локальных и не популярных релизов. При этом есть много выбросов в положительную сторону - при успешном релизе прибыль с одной игры может быть существенно выше остальных."
   ]
  },
  {
   "cell_type": "code",
   "execution_count": 33,
   "metadata": {},
   "outputs": [
    {
     "data": {
      "text/plain": [
       "<AxesSubplot:title={'center':'Диаграмма по глобальным продажам на самых популярных платформах'}, xlabel='platform'>"
      ]
     },
     "execution_count": 33,
     "metadata": {},
     "output_type": "execute_result"
    },
    {
     "data": {
      "image/png": "[encoded data removed]",
      "text/plain": [
       "<Figure size 720x1080 with 1 Axes>"
      ]
     },
     "metadata": {
      "needs_background": "light"
     },
     "output_type": "display_data"
    }
   ],
   "source": [
    "# boxplot по глобальным продажам на самых популярных платформах\n",
    "# используем ранее созданный список top_platforms_global из вопроса 2\n",
    "any_boxplot('Диаграмма по глобальным продажам на самых популярных платформах',\n",
    "            ylim = [0, 2],\n",
    "            query = 'platform in @top_platforms_global')"
   ]
  },
  {
   "cell_type": "code",
   "execution_count": 34,
   "metadata": {},
   "outputs": [
    {
     "data": {
      "text/plain": [
       "<AxesSubplot:title={'center':'Диаграмма по глобальным продажам на самых популярных платформах'}, xlabel='platform'>"
      ]
     },
     "execution_count": 34,
     "metadata": {},
     "output_type": "execute_result"
    },
    {
     "data": {
      "image/png": "[encoded data removed]",
      "text/plain": [
       "<Figure size 720x1080 with 1 Axes>"
      ]
     },
     "metadata": {
      "needs_background": "light"
     },
     "output_type": "display_data"
    }
   ],
   "source": [
    "# дополнительный график без ограничения по y. Нужен для понимания полной картины выбросов\n",
    "any_boxplot('Диаграмма по глобальным продажам на самых популярных платформах',\n",
    "            ylim = None,\n",
    "            query = 'platform in @top_platforms_global')"
   ]
  },
  {
   "cell_type": "markdown",
   "metadata": {},
   "source": [
    "Судя по графику, самые высокие средние продажи происходили у **PS3** и **Xbox360** - на уровне 1,7 млн долларов. У **Nintendo Wii** в районе 1,1 млн долларов. Самые низкие показатели продаж у **Nintendo DS** и **PS2** - менее 1 млн долларов.\n",
    "\n",
    "Медианные значение похожи по рейтингу средних значений, только в этот раз у **PS2** и **Nintendo Wii** они на одном уровне. Находятся в пределах 0,1 0,3 млн долларов).\n",
    "\n",
    "При этом наблюдаются выбросы в положительную сторону - в случае очень успешного релиза прибыль с одной игры может быть даже выше 20 млн долларов."
   ]
  },
  {
   "cell_type": "markdown",
   "metadata": {},
   "source": [
    "Для интереса, посмотрим данные по самым популярным платформам на конец 2016 года."
   ]
  },
  {
   "cell_type": "code",
   "execution_count": 35,
   "metadata": {},
   "outputs": [
    {
     "data": {
      "text/plain": [
       "<AxesSubplot:title={'center':'Диаграмма по глобальным продажам на самых популярных платформах 2016 года'}, xlabel='platform'>"
      ]
     },
     "execution_count": 35,
     "metadata": {},
     "output_type": "execute_result"
    },
    {
     "data": {
      "image/png": "[encoded data removed]",
      "text/plain": [
       "<Figure size 720x1080 with 1 Axes>"
      ]
     },
     "metadata": {
      "needs_background": "light"
     },
     "output_type": "display_data"
    }
   ],
   "source": [
    "# формирование нового списка с популярными платформами 2016-го\n",
    "top_platforms_2016 = ['ps4', 'xone', '3ds']\n",
    "\n",
    "# boxplot по глобальным продажам на самых популярных платформах 2016-го\n",
    "any_boxplot('Диаграмма по глобальным продажам на самых популярных платформах 2016 года',\n",
    "            ylim = [0, 2],\n",
    "            query = 'platform in @top_platforms_2016')"
   ]
  },
  {
   "cell_type": "code",
   "execution_count": 36,
   "metadata": {},
   "outputs": [
    {
     "data": {
      "text/plain": [
       "<AxesSubplot:title={'center':'Диаграмма по глобальным продажам на самых популярных платформах 2016 года'}, xlabel='platform'>"
      ]
     },
     "execution_count": 36,
     "metadata": {},
     "output_type": "execute_result"
    },
    {
     "data": {
      "image/png": "[encoded data removed]",
      "text/plain": [
       "<Figure size 720x1080 with 1 Axes>"
      ]
     },
     "metadata": {
      "needs_background": "light"
     },
     "output_type": "display_data"
    }
   ],
   "source": [
    "# boxplot по глобальным продажам на самых популярных платформах 2016-го. Общая картина\n",
    "any_boxplot('Диаграмма по глобальным продажам на самых популярных платформах 2016 года',\n",
    "            ylim = None,\n",
    "            query = 'platform in @top_platforms_2016')"
   ]
  },
  {
   "cell_type": "markdown",
   "metadata": {},
   "source": [
    "На текущих платформах показатели отличаются - PS4 преобладает в популярности. Более того, у Nintendo 3DS средние продажи игры вовсе не превышают 0,75 млн долларов.\n",
    "\n",
    "В текущих реалиях Nintendo очень сильно проигрывает Sony и Microsoft на рынке, а Microsoft проигрывает Sony.\n",
    "\n",
    "При этом на каждой платформе нтакже наблюдались единичные суперуспешные релизы. Данных по PS4 и Xbox One может быть недостаточно, тк на момент 2016-го приставки только вышли и набрали пик."
   ]
  },
  {
   "cell_type": "markdown",
   "metadata": {},
   "source": [
    "**Вывод по вопросу 4:** В среднем, сумма продаж с каждой игры на всех платформах находится в пределах 0,9 млн долларов, медианное значение находится в районе 0,15 млн долларов. На самых популярных платформах ситуация чуть лучше, средняя выручка с PS4 ближе к 1,8 млн долларов, 0,2 - общее медианное значение (также чуть выше). Существенного роста нет, тк на 2016 год переход между поколениями только завершился и полноценных громких эксклюзивов еще не было.\n",
    "\n",
    "В любом случае, на каждой платформе возможно выпустить очень успешную игру, которая станет хитом и принесет существенную прибыль, гораздо большую средней."
   ]
  },
  {
   "cell_type": "markdown",
   "metadata": {},
   "source": [
    "**Вопрос 5**\n",
    "\n",
    "В этом вопросе посмотрим, влияют ли оценки критиков и игроков на продажи игр. Для этого возьмем одну из самых популярных платформ - **PS3**. Даже на конец периода в данных (2016-ый) она являлась очень популярной, на ней вышло много эксклюзивов и все топовые мультиплатформенные игры."
   ]
  },
  {
   "cell_type": "code",
   "execution_count": 37,
   "metadata": {},
   "outputs": [],
   "source": [
    "# получение среза по PS3 с присутствующими оценками критиков и игроков\n",
    "data_ps3 = data_actual[(data_actual['platform'] == 'ps3') &\n",
    "                (data_actual['critic_score'] > 0) &\n",
    "                (data_actual['user_score'] > 0)\n",
    "               ]"
   ]
  },
  {
   "cell_type": "code",
   "execution_count": 38,
   "metadata": {},
   "outputs": [],
   "source": [
    "# создание функции для построение диаграммы рассеяния по оценкам критиков и оценкам пользователей\n",
    "def scores_scatter(score_column):\n",
    "    plot = data_ps3.plot(kind = 'scatter',\n",
    "                         x = score_column,\n",
    "                         y = 'total_sales',\n",
    "                         figsize = (10, 7),\n",
    "                        )\n",
    "    return plot"
   ]
  },
  {
   "cell_type": "code",
   "execution_count": 39,
   "metadata": {},
   "outputs": [
    {
     "data": {
      "text/plain": [
       "<AxesSubplot:xlabel='critic_score', ylabel='total_sales'>"
      ]
     },
     "execution_count": 39,
     "metadata": {},
     "output_type": "execute_result"
    },
    {
     "data": {
      "image/png": "[encoded data removed]",
      "text/plain": [
       "<Figure size 720x504 with 1 Axes>"
      ]
     },
     "metadata": {
      "needs_background": "light"
     },
     "output_type": "display_data"
    }
   ],
   "source": [
    "# диаграмма рассеяния - влияние оценок критиков на продажи\n",
    "scores_scatter('critic_score')"
   ]
  },
  {
   "cell_type": "markdown",
   "metadata": {},
   "source": [
    "Оценки критиков довольно сильно влияют на продажи игр. Замечаем, что начиная с 70 баллов из 100 продажи довольно сильно растут."
   ]
  },
  {
   "cell_type": "code",
   "execution_count": 40,
   "metadata": {},
   "outputs": [
    {
     "data": {
      "text/plain": [
       "<AxesSubplot:xlabel='user_score', ylabel='total_sales'>"
      ]
     },
     "execution_count": 40,
     "metadata": {},
     "output_type": "execute_result"
    },
    {
     "data": {
      "image/png": "[encoded data removed]",
      "text/plain": [
       "<Figure size 720x504 with 1 Axes>"
      ]
     },
     "metadata": {
      "needs_background": "light"
     },
     "output_type": "display_data"
    }
   ],
   "source": [
    "# диаграмма рассеяния - влияние оценок игроков на продажи\n",
    "scores_scatter('user_score')"
   ]
  },
  {
   "cell_type": "markdown",
   "metadata": {},
   "source": [
    "По игрокам ситуация отличается. Даже игры с невысокими оценками игроков могут хорошо продаваться - разработчики могут очень сильно подогреть интерес к игре до релиза и побудить игроков оформлять предзаказы. Разочаровавшись на релизе и отдав разработчикам свои деньги, игроки начинают выставлять невысокие оценки игре. Самые яркие примеры из реальности - это Киберпанк 2077 в декабре 2020-го или очередной Battlefield, начиная с Battlefield V."
   ]
  },
  {
   "cell_type": "code",
   "execution_count": 41,
   "metadata": {},
   "outputs": [],
   "source": [
    "# создание функции для построения тепловых карт по популярным платформам\n",
    "def top_platforms_heatmap(platform):\n",
    "    title_dict = {'ps3':'Платформа PS3',\n",
    "                  'x360':'Платформа Xbox360',\n",
    "                  'ps4':'Платформа PS4', \n",
    "                  'xone':'Платформа Xbox One',\n",
    "                  '3ds':'Платформа Nintendo 3DS'\n",
    "                 }\n",
    "    \n",
    "    data_platform = data_actual[(data_actual['platform'] == platform) & \n",
    "                         (data_actual['critic_score'] > 0) & \n",
    "                         (data_actual['user_score'] > 0)]\n",
    "    \n",
    "    plot = sns.heatmap(data_platform[['total_sales', 'critic_score', 'user_score']].corr()[['total_sales']]\n",
    "                       .sort_values(by='total_sales', ascending=False), \n",
    "                       annot = True, \n",
    "                      )\n",
    "    \n",
    "    plt.title(title_dict[platform])\n",
    "    \n",
    "    return plot"
   ]
  },
  {
   "cell_type": "code",
   "execution_count": 42,
   "metadata": {},
   "outputs": [
    {
     "data": {
      "text/plain": [
       "<AxesSubplot:title={'center':'Платформа PS3'}>"
      ]
     },
     "execution_count": 42,
     "metadata": {},
     "output_type": "execute_result"
    },
    {
     "data": {
      "image/png": "[encoded data removed]",
      "text/plain": [
       "<Figure size 432x288 with 2 Axes>"
      ]
     },
     "metadata": {
      "needs_background": "light"
     },
     "output_type": "display_data"
    }
   ],
   "source": [
    "# тепловая карта для PS3\n",
    "top_platforms_heatmap('ps3')"
   ]
  },
  {
   "cell_type": "markdown",
   "metadata": {},
   "source": [
    "Исходя из хитмепа, более сильно на продажи игр влияют именно оценки критиков - это крупные издания по игровой тематике (например, Metalcritic), которые являются лидерами мнений.\n",
    "\n",
    "По значениям коэффициента корреляции, тем не менее на продажи оценки критиков влияют очень слабо, судя по значению 0,33.\n",
    "\n",
    "Оценки игроков на продажи не влияют, корреляция отсутствует - значение коэффициента 0,023 очень мало."
   ]
  },
  {
   "cell_type": "markdown",
   "metadata": {},
   "source": [
    "**Проверим, являются ли выводы такими же для других популярных платформ**"
   ]
  },
  {
   "cell_type": "code",
   "execution_count": 43,
   "metadata": {},
   "outputs": [
    {
     "data": {
      "image/png": "[encoded data removed]",
      "text/plain": [
       "<Figure size 432x288 with 2 Axes>"
      ]
     },
     "metadata": {
      "needs_background": "light"
     },
     "output_type": "display_data"
    },
    {
     "data": {
      "image/png": "[encoded data removed]",
      "text/plain": [
       "<Figure size 432x288 with 2 Axes>"
      ]
     },
     "metadata": {
      "needs_background": "light"
     },
     "output_type": "display_data"
    },
    {
     "data": {
      "image/png": "[encoded data removed]",
      "text/plain": [
       "<Figure size 432x288 with 2 Axes>"
      ]
     },
     "metadata": {
      "needs_background": "light"
     },
     "output_type": "display_data"
    },
    {
     "data": {
      "image/png": "[encoded data removed]",
      "text/plain": [
       "<Figure size 432x288 with 2 Axes>"
      ]
     },
     "metadata": {
      "needs_background": "light"
     },
     "output_type": "display_data"
    },
    {
     "data": {
      "image/png": "[encoded data removed]",
      "text/plain": [
       "<Figure size 432x288 with 2 Axes>"
      ]
     },
     "metadata": {
      "needs_background": "light"
     },
     "output_type": "display_data"
    }
   ],
   "source": [
    "# создание цикла для построения тепловых карт. Еще небольшая автоматизация функции\n",
    "# создадим новый список с учетом глобально популярных платформ, а также популярным на конец 2016-го\n",
    "\n",
    "top_platforms = ['x360', 'ps3', 'ps4', 'xone', '3ds']\n",
    "\n",
    "for platform in top_platforms:\n",
    "    top_platforms_heatmap(platform)\n",
    "    plt.show()"
   ]
  },
  {
   "cell_type": "markdown",
   "metadata": {},
   "source": [
    "**Вывод по вопросу 5:** В случае оценок критиков и игроков, сильнее на продажи игр влияют именно оценки критиков на всех платформах, так как именно они являются лидерами мнений. Также они могут оказаться и \"продажными\", помогая пиарить какую-либо игру вместе с разработчиками. Плохие оценки пользователей при высоких продажах возникают из-за разочарования игрой на релизе. Высокие продажи происходят благодаря большому количеству предзаказов.\n",
    "\n",
    "В целом по значениям коэффициентов, корреляция между продажами и оценками критиков является очень малой, но существует. Корреляция между продажами и оценками игроков - отсутствует.\n",
    "\n",
    "В случае Nintendo 3DS наблюдается аномалия: оценки критиков и игроков влияют на продажи игр почти в равной степени. Может быть так, что платформы более локальные в Японии, и там игроки могут плотнее обмениваться мнениями. Но несмотря на это, корреляции очень слабые и в целом оценки аудитории на общую картину продаж влияют очень слабо."
   ]
  },
  {
   "cell_type": "markdown",
   "metadata": {},
   "source": [
    "**Вопрос 6**\n",
    "\n",
    "В рамках этого вопроса посмотрим подробнее на жанры игр и определим самые популярные."
   ]
  },
  {
   "cell_type": "markdown",
   "metadata": {},
   "source": [
    "Для начала, построим график с продажами и общим количеством игр по каждому жанру. На этапе предобработки пропуски значений в столбце устранены."
   ]
  },
  {
   "cell_type": "code",
   "execution_count": 44,
   "metadata": {},
   "outputs": [
    {
     "data": {
      "text/plain": [
       "<AxesSubplot:xlabel='genre'>"
      ]
     },
     "execution_count": 44,
     "metadata": {},
     "output_type": "execute_result"
    },
    {
     "data": {
      "image/png": "[encoded data removed]",
      "text/plain": [
       "<Figure size 720x504 with 1 Axes>"
      ]
     },
     "metadata": {
      "needs_background": "light"
     },
     "output_type": "display_data"
    }
   ],
   "source": [
    "# создание новой таблицы по количеству игр жанра и сумм продаж\n",
    "data_genre = data_actual.groupby('genre').agg({'name':'count','total_sales':'sum'}).sort_values(by='name', ascending=False)\n",
    "\n",
    "# построение графика\n",
    "data_genre.plot(kind = 'bar',\n",
    "                figsize = (10, 7))"
   ]
  },
  {
   "cell_type": "markdown",
   "metadata": {},
   "source": [
    "\n",
    "**Вывод по вопроу 6:** Самыми популярными жанрами являются экшен, ролевой, приключения и спортивный; самыми кассовыми - экшен, шутеры, спортивный и ролевой.\n",
    "\n",
    "Примечательно, что при бешеной популярности экшенов продажи у них не сильно выше на фоне остальных. Это может быть связано с тем, что экшены более популярны на ПК, где еще присутствует пиратство. Аналогичная картина наблюдается у приключенческих игр - популярность выше чем у спортивных, но уровень продаж на уровне симуляторов и файтингов (неужели Анчартед пиратили, игра же шедевр...). Еще примечательно, что шутеры почти не пиратят - при разнице популярности с экшенами почти в 4 раза, продажи уступают не более, чем на 20% (на глаз)."
   ]
  },
  {
   "cell_type": "markdown",
   "metadata": {},
   "source": [
    "**Общий вывод по исследовательскому анализу данных**\n",
    "\n",
    "На этапе исследовательского анализа данных ответили на 6 вопросов, ключевые выводы можно сформулировать так:\n",
    "- 1) Общий тренд индустрии - рынок падает с 2010-ых, количество релизов уменьшается со временем;\n",
    "- 2) Самыми популярными платформами за все время являются: 3 первых поколения стационарных PlayStation (PS-PS3), стационарная Nintendo Wii и карманная DS, а также стационарная Xbox360. Средний срок жизни платформы составляет 10 лет, затем происходит окончательная смена поколений;\n",
    "- 3) Выбранный актуальный период для построение прогноза продаж на 2017-ый - статистика с 2013-го по 2016-ый - в этот период попали самые актуальные платформы, которые еще не раскрылись полностью и не попали те, \"эра\" которых уже ушла;\n",
    "- 4) На конец 2016-го лидирующими платформами по продажам оказались стационарные PS4, Xbox One и карманная Nintendo 3DS;\n",
    "- 5) В среднем, сумма продаж с каждой игры на одной платформе приносит 0,9 млн долларов, медианное значение продаж - в пределах 0,15 млн долларов. На каждой платформе были и суперуспешные релизы с прибылью 5+ млн долларов (иногда и 20+);\n",
    "- 6) Оценки критиков в большей степени влияют на уровень продаж игр, по сравнению с оценками пользователей. Оценки критиков влияют очень слабо, оценки игроков - не влияют на общую картину продаж;\n",
    "- 7) Самыми популярными и кассовыми жанрами игр являются экшен, шутеры, спортивный и ролевой."
   ]
  },
  {
   "cell_type": "markdown",
   "metadata": {},
   "source": [
    "## Портрет пользователей регионов NA, EU и JP"
   ]
  },
  {
   "cell_type": "markdown",
   "metadata": {},
   "source": [
    "В этом разделе ответим на 3 вопроса по пользователям в каждом регионе (Северная Америка, Европа и Япония):\n",
    "- 1) Какие платформы самые популярные (топ-5) и есть ли различия в долях продажах?\n",
    "- 2) Какие жанры самые популярные (топ-5) и есть ли различия между регионами?\n",
    "- 3) Влияет ли рейтинг ESRB на продажи в каждом регионе?\n",
    "\n",
    "Для ответа на каждый вопрос стоит подготовить функцию, на вход которой будет подаваться отдельный регион и параметр для сравнения, на выводе будет столбчатая диаграмма по региону."
   ]
  },
  {
   "cell_type": "code",
   "execution_count": 45,
   "metadata": {},
   "outputs": [],
   "source": [
    "# подготовка функции для построения графиков\n",
    "def criterio_plot(sales_region, criterio):\n",
    "    title_dict = {'na_sales':'Продажи в Северной Америке',\n",
    "                  'eu_sales':'Продажи в Европе',\n",
    "                  'jp_sales':'Продажи в Японии'\n",
    "                 }\n",
    "    \n",
    "    pivot_to_plot = data_actual.groupby(criterio).agg({sales_region:'sum'}).sort_values(by=sales_region, ascending=False)[:5]\n",
    "    \n",
    "    plot = pivot_to_plot.plot(kind = 'bar',\n",
    "                              title = title_dict[sales_region],\n",
    "                             )\n",
    "    \n",
    "    return plot"
   ]
  },
  {
   "cell_type": "code",
   "execution_count": 46,
   "metadata": {},
   "outputs": [],
   "source": [
    "# добавление дополнительной категоризации\n",
    "def platform_categories(platform):\n",
    "    if platform == '3ds':\n",
    "        return '3ds'\n",
    "    if platform == 'ps3':\n",
    "        return 'ps3'\n",
    "    if platform == 'psv':\n",
    "        return 'psv'\n",
    "    if platform == 'ps4':\n",
    "        return 'ps4'\n",
    "    if platform == 'wiiu':\n",
    "        return 'wiiu'\n",
    "    else:\n",
    "        return 'other platform'\n",
    "\n",
    "data_actual['platform_category'] = data_actual['platform'].apply(platform_categories)"
   ]
  },
  {
   "cell_type": "markdown",
   "metadata": {},
   "source": [
    "**Вопрос 1**\n",
    "\n",
    "Посмотрим на статистику по продажам на различных платформах. Выведем все 3 графика в одной ячейке."
   ]
  },
  {
   "cell_type": "code",
   "execution_count": 47,
   "metadata": {},
   "outputs": [
    {
     "data": {
      "text/plain": [
       "<AxesSubplot:title={'center':'Продажи в Японии'}, xlabel='platform_category'>"
      ]
     },
     "execution_count": 47,
     "metadata": {},
     "output_type": "execute_result"
    },
    {
     "data": {
      "image/png": "[encoded data removed]",
      "text/plain": [
       "<Figure size 432x288 with 1 Axes>"
      ]
     },
     "metadata": {
      "needs_background": "light"
     },
     "output_type": "display_data"
    },
    {
     "data": {
      "image/png": "[encoded data removed]",
      "text/plain": [
       "<Figure size 432x288 with 1 Axes>"
      ]
     },
     "metadata": {
      "needs_background": "light"
     },
     "output_type": "display_data"
    },
    {
     "data": {
      "image/png": "[encoded data removed]",
      "text/plain": [
       "<Figure size 432x288 with 1 Axes>"
      ]
     },
     "metadata": {
      "needs_background": "light"
     },
     "output_type": "display_data"
    }
   ],
   "source": [
    "# вызов функции для платформ\n",
    "criterio_plot('na_sales', 'platform_category')\n",
    "criterio_plot('eu_sales', 'platform_category')\n",
    "criterio_plot('jp_sales', 'platform_category')"
   ]
  },
  {
   "cell_type": "markdown",
   "metadata": {},
   "source": [
    "**Вывод по вопросу 1**\n",
    "\n",
    "Судя по графику популярности платформ:\n",
    "- В Северной Америке самыми популярными на фоне всех остальных являлись представители Sony и Nintendo: это **PS4**, **PS3**, **Nintendo Wii U**. Самой популярной карманной платформой была **Nintendo DS**;\n",
    "- В Европе серьезную популярность имеет семейство **PS4** и **PS3** (первые топ-2 на фоне всех остальных), менее популярны Nintendo: **Nintendo 3DS** и **Nintendo Wii U**;\n",
    "- В Японии существенную популярность имеют карманные платформы в виде **Nintendo DS**, следом идут **PS3**, **PS Vita** и **PS4**. Также в топе **Nintendo Wii U**."
   ]
  },
  {
   "cell_type": "markdown",
   "metadata": {},
   "source": [
    "**Вопрос 2**\n",
    "\n",
    "Посмотрим на статистику по популярности различных жанров. Выведем все 3 графика в одной ячейке."
   ]
  },
  {
   "cell_type": "code",
   "execution_count": 48,
   "metadata": {},
   "outputs": [
    {
     "data": {
      "text/plain": [
       "<AxesSubplot:title={'center':'Продажи в Японии'}, xlabel='genre'>"
      ]
     },
     "execution_count": 48,
     "metadata": {},
     "output_type": "execute_result"
    },
    {
     "data": {
      "image/png": "[encoded data removed]",
      "text/plain": [
       "<Figure size 432x288 with 1 Axes>"
      ]
     },
     "metadata": {
      "needs_background": "light"
     },
     "output_type": "display_data"
    },
    {
     "data": {
      "image/png": "[encoded data removed]",
      "text/plain": [
       "<Figure size 432x288 with 1 Axes>"
      ]
     },
     "metadata": {
      "needs_background": "light"
     },
     "output_type": "display_data"
    },
    {
     "data": {
      "image/png": "[encoded data removed]",
      "text/plain": [
       "<Figure size 432x288 with 1 Axes>"
      ]
     },
     "metadata": {
      "needs_background": "light"
     },
     "output_type": "display_data"
    }
   ],
   "source": [
    "# вызов функции для жанров\n",
    "criterio_plot('na_sales', 'genre')\n",
    "criterio_plot('eu_sales', 'genre')\n",
    "criterio_plot('jp_sales', 'genre')"
   ]
  },
  {
   "cell_type": "markdown",
   "metadata": {},
   "source": [
    "**Вывод по вопросу 2**\n",
    "\n",
    "Судя по графику популярности жанров:\n",
    "- В Северной Америке и Европе самыми популярными жанрами являются **экшен** и **шутеры**, а также **спортивные игры** и **ролевые игры**. Тренд наблюдается один;\n",
    "- Тем не менее, в Северной Америке более популярны **мультиплатформенные игры**, а в Европе - **гонки**.\n",
    "- В Японии преобладают **ролевые игры** и **экшен**. Затем, но с очень существенным отставанием популярны **мультижанр** и **файтинги** (неудивительно, ведь Tekken и Street Fighter вроде японские игры)."
   ]
  },
  {
   "cell_type": "markdown",
   "metadata": {},
   "source": [
    "**Вопрос 3**\n",
    "\n",
    "Посмотрим на статистику по присвоенному рейтингу ESRB. Выведем все 3 графика в одной ячейке.\n",
    "\n",
    "Вспомним категории рейтинга:\n",
    "- AO - Только для взрослых (18+ лет, выше чем M);\n",
    "- E - Для всех;\n",
    "- M - Для взрослых (17+ лет);\n",
    "- T - Подросткам (13+ лет);\n",
    "- E10+ - Для всех от 10 лет и старше;\n",
    "- K-A - Kids to Adults. *Произведена замена на E при предобработке*;\n",
    "- EC - Для детей младшего возраста (от 3 лет);\n",
    "- RP - Рейтинг ожидается, обычно применяется ДО релиза игр."
   ]
  },
  {
   "cell_type": "code",
   "execution_count": 49,
   "metadata": {},
   "outputs": [
    {
     "data": {
      "text/plain": [
       "<AxesSubplot:title={'center':'Продажи в Японии'}, xlabel='esrb_rating'>"
      ]
     },
     "execution_count": 49,
     "metadata": {},
     "output_type": "execute_result"
    },
    {
     "data": {
      "image/png": "[encoded data removed]",
      "text/plain": [
       "<Figure size 432x288 with 1 Axes>"
      ]
     },
     "metadata": {
      "needs_background": "light"
     },
     "output_type": "display_data"
    },
    {
     "data": {
      "image/png": "[encoded data removed]",
      "text/plain": [
       "<Figure size 432x288 with 1 Axes>"
      ]
     },
     "metadata": {
      "needs_background": "light"
     },
     "output_type": "display_data"
    },
    {
     "data": {
      "image/png": "[encoded data removed]",
      "text/plain": [
       "<Figure size 432x288 with 1 Axes>"
      ]
     },
     "metadata": {
      "needs_background": "light"
     },
     "output_type": "display_data"
    }
   ],
   "source": [
    "# вызов функции для рейтингов\n",
    "criterio_plot('na_sales', 'esrb_rating')\n",
    "criterio_plot('eu_sales', 'esrb_rating')\n",
    "criterio_plot('jp_sales', 'esrb_rating')"
   ]
  },
  {
   "cell_type": "markdown",
   "metadata": {},
   "source": [
    "**Вывод по вопросу 3**\n",
    "\n",
    "Судя по графику рейтинга ESRB:\n",
    "- В каждом регионе лидирующими рейтингами являются E, E10+, M и T - мировой рынок игр ориентирован на детей 10+ лет, подростков и взрослых.\n",
    "- В Японии существенно преобладает **аудитория подростков** - увлекаться играми там начинают с детства.\n",
    "- Довольно большому проценту игр рейтинг не присвоен, что может вызывать вопросы касательно их содержания."
   ]
  },
  {
   "cell_type": "markdown",
   "metadata": {},
   "source": [
    "**Общий вывод по разделу**\n",
    "\n",
    "- 1) Платформы PlayStation и Nintendo популярны во всем мире, платформа Xbox не сыскала большой популярности ни в одном регионе;\n",
    "- 2) Самые популярные жанры в целом по миру - экшен, шутеры и спортивные игры, в Японии очень популярны роелвые игры;\n",
    "- 3) Основа аудитории во всем мире - это жители 10+лет, в Японии концентрация подростков, увлекающимися играми, выше чем в остальном мире."
   ]
  },
  {
   "cell_type": "markdown",
   "metadata": {},
   "source": [
    "## Проверка гипотез"
   ]
  },
  {
   "cell_type": "markdown",
   "metadata": {},
   "source": [
    "Так как выборки данных не зависимы между собой, предлагается использование t-критерия Стьюдента. Также выборки будут формироваться из столбца `user_score`, в котором изначально были пропуски и не заполнялись - получим срез без пропусков."
   ]
  },
  {
   "cell_type": "code",
   "execution_count": 50,
   "metadata": {},
   "outputs": [
    {
     "name": "stdout",
     "output_type": "stream",
     "text": [
      "<class 'pandas.core.frame.DataFrame'>\n",
      "Int64Index: 1192 entries, 16 to 16692\n",
      "Data columns (total 13 columns):\n",
      " #   Column             Non-Null Count  Dtype  \n",
      "---  ------             --------------  -----  \n",
      " 0   name               1192 non-null   object \n",
      " 1   platform           1192 non-null   object \n",
      " 2   year_of_release    1192 non-null   int64  \n",
      " 3   genre              1192 non-null   object \n",
      " 4   na_sales           1192 non-null   float64\n",
      " 5   eu_sales           1192 non-null   float64\n",
      " 6   jp_sales           1192 non-null   float64\n",
      " 7   other_sales        1192 non-null   float64\n",
      " 8   critic_score       976 non-null    float64\n",
      " 9   user_score         1192 non-null   float64\n",
      " 10  esrb_rating        1192 non-null   object \n",
      " 11  total_sales        1192 non-null   float64\n",
      " 12  platform_category  1192 non-null   object \n",
      "dtypes: float64(7), int64(1), object(5)\n",
      "memory usage: 130.4+ KB\n"
     ]
    }
   ],
   "source": [
    "# выделение \"чистых\" данных\n",
    "clean_data = data_actual[data_actual['user_score'] > 0]\n",
    "clean_data.info()"
   ]
  },
  {
   "cell_type": "markdown",
   "metadata": {},
   "source": [
    "### Подготовка данных и выделение выборок"
   ]
  },
  {
   "cell_type": "markdown",
   "metadata": {},
   "source": [
    "**Гипотеза №1**\n",
    "\n",
    "**H0**: Средние пользовательские рейтинги платформ Xbox One и PC не отличаются;\n",
    "\n",
    "**H1**: Средние пользовательские рейтинги платформ Xbox One и PC отличаются.\n",
    "\n",
    "Гипотеза о равенстве средних 2-х совокупностей. Необходимы 2 выборки данных по рейтингам отдельно PC и отдельно Xbox One по столбцу `user_score`."
   ]
  },
  {
   "cell_type": "code",
   "execution_count": 51,
   "metadata": {},
   "outputs": [
    {
     "name": "stdout",
     "output_type": "stream",
     "text": [
      "<class 'pandas.core.frame.DataFrame'>\n",
      "Int64Index: 155 entries, 458 to 16692\n",
      "Data columns (total 13 columns):\n",
      " #   Column             Non-Null Count  Dtype  \n",
      "---  ------             --------------  -----  \n",
      " 0   name               155 non-null    object \n",
      " 1   platform           155 non-null    object \n",
      " 2   year_of_release    155 non-null    int64  \n",
      " 3   genre              155 non-null    object \n",
      " 4   na_sales           155 non-null    float64\n",
      " 5   eu_sales           155 non-null    float64\n",
      " 6   jp_sales           155 non-null    float64\n",
      " 7   other_sales        155 non-null    float64\n",
      " 8   critic_score       148 non-null    float64\n",
      " 9   user_score         155 non-null    float64\n",
      " 10  esrb_rating        155 non-null    object \n",
      " 11  total_sales        155 non-null    float64\n",
      " 12  platform_category  155 non-null    object \n",
      "dtypes: float64(7), int64(1), object(5)\n",
      "memory usage: 17.0+ KB\n"
     ]
    }
   ],
   "source": [
    "# выделение среза отдельно по PC\n",
    "pc_user_score = clean_data.query('platform == \"pc\"')\n",
    "\n",
    "# информация о срезе\n",
    "pc_user_score.info()"
   ]
  },
  {
   "cell_type": "code",
   "execution_count": 52,
   "metadata": {},
   "outputs": [
    {
     "name": "stdout",
     "output_type": "stream",
     "text": [
      "<class 'pandas.core.frame.DataFrame'>\n",
      "Int64Index: 182 entries, 165 to 16660\n",
      "Data columns (total 13 columns):\n",
      " #   Column             Non-Null Count  Dtype  \n",
      "---  ------             --------------  -----  \n",
      " 0   name               182 non-null    object \n",
      " 1   platform           182 non-null    object \n",
      " 2   year_of_release    182 non-null    int64  \n",
      " 3   genre              182 non-null    object \n",
      " 4   na_sales           182 non-null    float64\n",
      " 5   eu_sales           182 non-null    float64\n",
      " 6   jp_sales           182 non-null    float64\n",
      " 7   other_sales        182 non-null    float64\n",
      " 8   critic_score       165 non-null    float64\n",
      " 9   user_score         182 non-null    float64\n",
      " 10  esrb_rating        182 non-null    object \n",
      " 11  total_sales        182 non-null    float64\n",
      " 12  platform_category  182 non-null    object \n",
      "dtypes: float64(7), int64(1), object(5)\n",
      "memory usage: 19.9+ KB\n"
     ]
    }
   ],
   "source": [
    "# выделение среза отдельно по Xbox One\n",
    "xone_user_score = clean_data.query('platform == \"xone\"')\n",
    "\n",
    "# информация о срезе\n",
    "xone_user_score.info()"
   ]
  },
  {
   "cell_type": "markdown",
   "metadata": {},
   "source": [
    "**Гипотеза №2**\n",
    "\n",
    "**H0**: Средние пользовательские рейтинги жанров Action и Sports не отличаются.\n",
    "\n",
    "**H1**: Средние пользовательские рейтинги жанров Action и Sports отличаются.\n",
    "\n",
    "Гипотеза о равенстве средних 2-х совокупностей. Необходимы 2 выборки данных по рейтингам отдельно Action и отдельно Sports по столбцу `user_score`."
   ]
  },
  {
   "cell_type": "code",
   "execution_count": 53,
   "metadata": {},
   "outputs": [
    {
     "name": "stdout",
     "output_type": "stream",
     "text": [
      "<class 'pandas.core.frame.DataFrame'>\n",
      "Int64Index: 389 entries, 16 to 16692\n",
      "Data columns (total 13 columns):\n",
      " #   Column             Non-Null Count  Dtype  \n",
      "---  ------             --------------  -----  \n",
      " 0   name               389 non-null    object \n",
      " 1   platform           389 non-null    object \n",
      " 2   year_of_release    389 non-null    int64  \n",
      " 3   genre              389 non-null    object \n",
      " 4   na_sales           389 non-null    float64\n",
      " 5   eu_sales           389 non-null    float64\n",
      " 6   jp_sales           389 non-null    float64\n",
      " 7   other_sales        389 non-null    float64\n",
      " 8   critic_score       309 non-null    float64\n",
      " 9   user_score         389 non-null    float64\n",
      " 10  esrb_rating        389 non-null    object \n",
      " 11  total_sales        389 non-null    float64\n",
      " 12  platform_category  389 non-null    object \n",
      "dtypes: float64(7), int64(1), object(5)\n",
      "memory usage: 42.5+ KB\n"
     ]
    }
   ],
   "source": [
    "# выделение среза отдельно по Action\n",
    "action_user_score = clean_data.query('genre == \"action\"')\n",
    "\n",
    "# информация о срезе\n",
    "action_user_score.info()"
   ]
  },
  {
   "cell_type": "code",
   "execution_count": 54,
   "metadata": {},
   "outputs": [
    {
     "name": "stdout",
     "output_type": "stream",
     "text": [
      "<class 'pandas.core.frame.DataFrame'>\n",
      "Int64Index: 160 entries, 77 to 16643\n",
      "Data columns (total 13 columns):\n",
      " #   Column             Non-Null Count  Dtype  \n",
      "---  ------             --------------  -----  \n",
      " 0   name               160 non-null    object \n",
      " 1   platform           160 non-null    object \n",
      " 2   year_of_release    160 non-null    int64  \n",
      " 3   genre              160 non-null    object \n",
      " 4   na_sales           160 non-null    float64\n",
      " 5   eu_sales           160 non-null    float64\n",
      " 6   jp_sales           160 non-null    float64\n",
      " 7   other_sales        160 non-null    float64\n",
      " 8   critic_score       110 non-null    float64\n",
      " 9   user_score         160 non-null    float64\n",
      " 10  esrb_rating        160 non-null    object \n",
      " 11  total_sales        160 non-null    float64\n",
      " 12  platform_category  160 non-null    object \n",
      "dtypes: float64(7), int64(1), object(5)\n",
      "memory usage: 17.5+ KB\n"
     ]
    }
   ],
   "source": [
    "# выделение среза отдельно по Sports\n",
    "sports_user_score = clean_data.query('genre == \"sports\"')\n",
    "\n",
    "# информация о срезе\n",
    "sports_user_score.info()"
   ]
  },
  {
   "cell_type": "markdown",
   "metadata": {},
   "source": [
    "**Вывод:** необходимые данные для проверки гипотез получены, можно приступать к самой проверке.\n",
    "\n",
    "- 1) Для гипотезы №1 - `pc_user_score` и `xone_user_score`;\n",
    "- 2) Для гипотезы №2 - `action_user_score` и `sports_user_score`."
   ]
  },
  {
   "cell_type": "markdown",
   "metadata": {},
   "source": [
    "### Проверка гипотез"
   ]
  },
  {
   "cell_type": "markdown",
   "metadata": {},
   "source": [
    "Пороговое значение `alpha` зададим 0.05 - общепринятое значение."
   ]
  },
  {
   "cell_type": "code",
   "execution_count": 55,
   "metadata": {},
   "outputs": [],
   "source": [
    "alpha = 0.05"
   ]
  },
  {
   "cell_type": "markdown",
   "metadata": {},
   "source": [
    "**Гипотеза №1**\n",
    "\n",
    "**H0**: Средние пользовательские рейтинги платформ Xbox One и PC не отличаются;\n",
    "\n",
    "**H1**: Средние пользовательские рейтинги платформ Xbox One и PC отличаются."
   ]
  },
  {
   "cell_type": "code",
   "execution_count": 56,
   "metadata": {},
   "outputs": [],
   "source": [
    "# получение значений выборки в виде списка\n",
    "pc_user_score_list = pc_user_score['user_score'].to_list()\n",
    "xone_user_score_list = xone_user_score['user_score'].to_list()"
   ]
  },
  {
   "cell_type": "code",
   "execution_count": 57,
   "metadata": {},
   "outputs": [
    {
     "name": "stdout",
     "output_type": "stream",
     "text": [
      "p-значение: 0.14012658403611647\n",
      "Не получилось отвергнуть нулевую гипотезу\n"
     ]
    }
   ],
   "source": [
    "# проверка гипотезы №1\n",
    "results = st.ttest_ind(pc_user_score_list, xone_user_score_list)\n",
    "\n",
    "print('p-значение:', results.pvalue)\n",
    "\n",
    "if results.pvalue < alpha:\n",
    "    print(\"Отвергаем нулевую гипотезу\")\n",
    "else:\n",
    "    print(\"Не получилось отвергнуть нулевую гипотезу\")"
   ]
  },
  {
   "cell_type": "markdown",
   "metadata": {},
   "source": [
    "**Вывод:** между выборками нет значимых различий, результат может быть получен с 18%-ой вероятностью.\n",
    "\n",
    "Верно утверждение, что средние пользовательские рейтинги на PC и Xbox One не отличаются. Посмотрим сами цифры."
   ]
  },
  {
   "cell_type": "code",
   "execution_count": 58,
   "metadata": {},
   "outputs": [
    {
     "name": "stdout",
     "output_type": "stream",
     "text": [
      "Средний пользовательский рейтинг по PC 6.2696774193548395\n",
      "Средний пользовательский рейтинг по Xbox One 6.521428571428572\n"
     ]
    }
   ],
   "source": [
    "# вывод средних значений по пользовательским рейтингам на PC и Xbox One\n",
    "print('Средний пользовательский рейтинг по PC', pc_user_score['user_score'].mean())\n",
    "print('Средний пользовательский рейтинг по Xbox One', xone_user_score['user_score'].mean())"
   ]
  },
  {
   "cell_type": "markdown",
   "metadata": {},
   "source": [
    "Действительно, средние рейтинги очень близки друг к другу."
   ]
  },
  {
   "cell_type": "markdown",
   "metadata": {},
   "source": [
    "**Гипотеза №2**\n",
    "\n",
    "**H0**: Средние пользовательские рейтинги жанров Action и Sports не отличаются.\n",
    "\n",
    "**H1**: Средние пользовательские рейтинги жанров Action и Sports отличаются."
   ]
  },
  {
   "cell_type": "code",
   "execution_count": 59,
   "metadata": {},
   "outputs": [],
   "source": [
    "# получение значений выборки в виде списка\n",
    "action_user_score_list = action_user_score['user_score'].to_list()\n",
    "sports_user_score_list = sports_user_score['user_score'].to_list()"
   ]
  },
  {
   "cell_type": "code",
   "execution_count": 60,
   "metadata": {},
   "outputs": [
    {
     "name": "stdout",
     "output_type": "stream",
     "text": [
      "p-значение: 1.0517832389140023e-27\n",
      "Отвергаем нулевую гипотезу\n"
     ]
    }
   ],
   "source": [
    "# проверка гипотезы №2\n",
    "results = st.ttest_ind(action_user_score_list, sports_user_score_list)\n",
    "\n",
    "print('p-значение:', results.pvalue)\n",
    "\n",
    "if results.pvalue < alpha:\n",
    "    print(\"Отвергаем нулевую гипотезу\")\n",
    "else:\n",
    "    print(\"Не получилось отвергнуть нулевую гипотезу\")"
   ]
  },
  {
   "cell_type": "markdown",
   "metadata": {},
   "source": [
    "**Вывод:** между выборками есть значимые различия, разница в рейтингах не случайна.\n",
    "\n",
    "Верно утверждение, что средние пользовательские рейтинги в жанрах Action и Sport отличаются."
   ]
  },
  {
   "cell_type": "markdown",
   "metadata": {},
   "source": [
    "**Вывод по гипотезам**\n",
    "\n",
    "Приняты 1 нулевая и 1 альтернативная гипотезы.\n",
    "\n",
    "- В случае платформ могу предположить, что пользовательские рейтинги не отличаются между собой из-за единой подписки Xbox Game Pass для PC (на Windows) и Xbox, также есть возможность прямого подключения геймпада от Xbox к PC - в некоторые игры (иногда жанры, например спорт) не удобно играть на клавиатуре.\n",
    "- В случае жанров Action и Sports - предположу, что дело в бОльшей степени в управлении - на консолях гораздо удобнее играть в спортивные игры; в случае ПК - в экшен игры, так как они часто предполагают какую-либо стрельбу и точность. Тут гораздо удобнее использовать мышку."
   ]
  },
  {
   "cell_type": "markdown",
   "metadata": {},
   "source": [
    "## Общий вывод"
   ]
  },
  {
   "cell_type": "markdown",
   "metadata": {},
   "source": [
    "В рамках сброного проекта исследованы данные по мировым продажам игр на различных платформах за 2005-2016 годы.\n",
    "\n",
    "Данные были не совсем полные, понадобилась предобработка - изменены заголовки, типы данных, заполнена часть пропусков в уместных местах. Данные по годам выхода игр, оценкам критиков и пользователей были неполные.\n",
    "\n",
    "Общий тренд в игровой индустрии - рынок падает с 2010-го, полноценные платформенные игры продаются слабее с каждым годом.\n",
    "\n",
    "Так как все гонятся за красивой картинкой (судя по популярности жанров экшен) и технологиями, бюджет на разработку заметно вырастает и далеко не все игры получаются успешными - рынок контролируют только крупные студии с большим мешком денег или с инвесторами за спиной (есть шансы на ошибку и исправление). Глубина сюжета и атмосферность игр ценится в большей степени только в Японии, судя по популярности ролевого жанра.\n",
    "\n",
    "Средний срок жизни одной платформы на рынке составляет 10 лет, за это время технологии и железа, и игр развиваются - происходят переходы между поколениями.\n",
    "\n",
    "Отвечая на главный вопрос проекта - **выбор оптимальных платформ и построение прогноза на 2017-ый** - при закупке игр стоит планировать на текущее *(на тот момент)* 8-е поколение консолей - это **PS4** и **Xbox One**, а также мобильная **Nintendo 3DS**. Эти платформы находятся в середине \"цикла\", в этот период как правило происходят самые громкие и успешные релизы - разработчики достаточно хорошо знакомы с самой платформой и понимают все ее технические возможности. \n",
    "\n",
    "Для построения прогноза на 2017-ый предлагается выбрать период с 2013-го по причине того, что в этом периоде присутствует полная статистика с момента выхода нового поколения.\n",
    "\n",
    "Возможный риск - ошибка в планировании закупок лицензий на игры - спрос на новые релизы может оказаться как и слишком большим, так и достаточно низким. В случае высокого спроса - отсутствие необходимого количества игр и потеря игроков, так как они уйдут в другой магазин. В случае низкого спроса - не окупаемость вложений на закупку и убытки."
   ]
  }
 ],
 "metadata": {
  "ExecuteTimeLog": [
   {
    "duration": 1322,
    "start_time": "2022-02-06T15:36:41.980Z"
   },
   {
    "duration": 47,
    "start_time": "2022-02-06T15:37:33.329Z"
   },
   {
    "duration": 35,
    "start_time": "2022-02-06T15:37:40.949Z"
   },
   {
    "duration": 47,
    "start_time": "2022-02-06T15:37:49.190Z"
   },
   {
    "duration": 11,
    "start_time": "2022-02-06T15:39:58.445Z"
   },
   {
    "duration": 13,
    "start_time": "2022-02-06T15:40:21.415Z"
   },
   {
    "duration": 21,
    "start_time": "2022-02-06T15:40:42.552Z"
   },
   {
    "duration": 21,
    "start_time": "2022-02-06T15:41:08.935Z"
   },
   {
    "duration": 7,
    "start_time": "2022-02-06T15:41:39.142Z"
   },
   {
    "duration": 7,
    "start_time": "2022-02-06T15:41:50.626Z"
   },
   {
    "duration": 9,
    "start_time": "2022-02-06T15:42:13.372Z"
   },
   {
    "duration": 10,
    "start_time": "2022-02-06T15:42:31.456Z"
   },
   {
    "duration": 38,
    "start_time": "2022-02-06T15:42:50.786Z"
   },
   {
    "duration": 6,
    "start_time": "2022-02-06T15:43:16.810Z"
   },
   {
    "duration": 97,
    "start_time": "2022-02-06T15:43:38.895Z"
   },
   {
    "duration": 58,
    "start_time": "2022-02-06T15:43:49.056Z"
   },
   {
    "duration": 8,
    "start_time": "2022-02-06T15:44:25.579Z"
   },
   {
    "duration": 7,
    "start_time": "2022-02-06T15:44:34.261Z"
   },
   {
    "duration": 15,
    "start_time": "2022-02-06T15:44:58.741Z"
   },
   {
    "duration": 93,
    "start_time": "2022-02-06T15:45:07.820Z"
   },
   {
    "duration": 10,
    "start_time": "2022-02-06T15:45:19.213Z"
   },
   {
    "duration": 6,
    "start_time": "2022-02-06T15:45:37.362Z"
   },
   {
    "duration": 22,
    "start_time": "2022-02-06T15:45:55.734Z"
   },
   {
    "duration": 26,
    "start_time": "2022-02-06T15:46:15.129Z"
   },
   {
    "duration": 1094,
    "start_time": "2022-02-08T19:21:17.787Z"
   },
   {
    "duration": 39,
    "start_time": "2022-02-08T19:21:18.882Z"
   },
   {
    "duration": 28,
    "start_time": "2022-02-08T19:21:18.923Z"
   },
   {
    "duration": 45,
    "start_time": "2022-02-08T19:21:18.953Z"
   },
   {
    "duration": 9,
    "start_time": "2022-02-08T19:21:19.000Z"
   },
   {
    "duration": 14,
    "start_time": "2022-02-08T19:21:19.010Z"
   },
   {
    "duration": 17,
    "start_time": "2022-02-08T19:21:19.026Z"
   },
   {
    "duration": 29,
    "start_time": "2022-02-08T19:21:19.047Z"
   },
   {
    "duration": 6,
    "start_time": "2022-02-08T19:21:19.099Z"
   },
   {
    "duration": 9,
    "start_time": "2022-02-08T19:21:19.107Z"
   },
   {
    "duration": 9,
    "start_time": "2022-02-08T19:21:19.118Z"
   },
   {
    "duration": 14,
    "start_time": "2022-02-08T19:21:19.129Z"
   },
   {
    "duration": 33,
    "start_time": "2022-02-08T19:21:19.145Z"
   },
   {
    "duration": 8,
    "start_time": "2022-02-08T19:21:19.197Z"
   },
   {
    "duration": 63,
    "start_time": "2022-02-08T19:21:19.207Z"
   },
   {
    "duration": 6,
    "start_time": "2022-02-08T19:21:19.273Z"
   },
   {
    "duration": 17,
    "start_time": "2022-02-08T19:21:19.282Z"
   },
   {
    "duration": 11,
    "start_time": "2022-02-08T19:21:19.301Z"
   },
   {
    "duration": 10,
    "start_time": "2022-02-08T19:21:19.314Z"
   },
   {
    "duration": 7,
    "start_time": "2022-02-08T19:21:19.326Z"
   },
   {
    "duration": 19,
    "start_time": "2022-02-08T19:21:19.335Z"
   },
   {
    "duration": 55,
    "start_time": "2022-02-08T19:21:19.356Z"
   },
   {
    "duration": 330,
    "start_time": "2022-02-08T19:23:08.843Z"
   },
   {
    "duration": 2,
    "start_time": "2022-02-08T19:33:13.048Z"
   },
   {
    "duration": 338,
    "start_time": "2022-02-08T19:36:09.360Z"
   },
   {
    "duration": 408,
    "start_time": "2022-02-08T19:36:16.423Z"
   },
   {
    "duration": 404,
    "start_time": "2022-02-08T19:36:53.751Z"
   },
   {
    "duration": 220,
    "start_time": "2022-02-08T20:00:12.149Z"
   },
   {
    "duration": 160,
    "start_time": "2022-02-08T20:00:32.149Z"
   },
   {
    "duration": 225,
    "start_time": "2022-02-08T21:01:55.847Z"
   },
   {
    "duration": 12,
    "start_time": "2022-02-08T21:02:03.768Z"
   },
   {
    "duration": 177,
    "start_time": "2022-02-08T21:02:49.966Z"
   },
   {
    "duration": 172,
    "start_time": "2022-02-08T21:04:26.182Z"
   },
   {
    "duration": 181,
    "start_time": "2022-02-08T21:04:34.124Z"
   },
   {
    "duration": 11,
    "start_time": "2022-02-08T21:06:51.612Z"
   },
   {
    "duration": 14,
    "start_time": "2022-02-08T21:06:58.090Z"
   },
   {
    "duration": 21,
    "start_time": "2022-02-08T21:10:18.883Z"
   },
   {
    "duration": 9,
    "start_time": "2022-02-08T21:10:33.440Z"
   },
   {
    "duration": 29,
    "start_time": "2022-02-08T21:11:46.154Z"
   },
   {
    "duration": 11,
    "start_time": "2022-02-08T21:11:57.370Z"
   },
   {
    "duration": 12,
    "start_time": "2022-02-08T21:12:32.625Z"
   },
   {
    "duration": 19,
    "start_time": "2022-02-08T21:12:37.318Z"
   },
   {
    "duration": 1321,
    "start_time": "2022-02-08T21:13:31.840Z"
   },
   {
    "duration": 8,
    "start_time": "2022-02-08T21:14:00.882Z"
   },
   {
    "duration": 11,
    "start_time": "2022-02-08T21:14:23.537Z"
   },
   {
    "duration": 16,
    "start_time": "2022-02-08T21:14:27.389Z"
   },
   {
    "duration": 16,
    "start_time": "2022-02-08T21:15:20.267Z"
   },
   {
    "duration": 16,
    "start_time": "2022-02-08T21:15:51.849Z"
   },
   {
    "duration": 5459,
    "start_time": "2022-02-08T21:16:25.152Z"
   },
   {
    "duration": 202,
    "start_time": "2022-02-08T21:16:33.385Z"
   },
   {
    "duration": 237,
    "start_time": "2022-02-08T21:18:02.201Z"
   },
   {
    "duration": 18,
    "start_time": "2022-02-08T21:18:09.702Z"
   },
   {
    "duration": 24,
    "start_time": "2022-02-08T21:18:53.162Z"
   },
   {
    "duration": 5718,
    "start_time": "2022-02-08T21:19:29.248Z"
   },
   {
    "duration": 25,
    "start_time": "2022-02-08T21:19:48.724Z"
   },
   {
    "duration": 18,
    "start_time": "2022-02-08T21:20:10.681Z"
   },
   {
    "duration": 26,
    "start_time": "2022-02-08T21:20:16.173Z"
   },
   {
    "duration": 26,
    "start_time": "2022-02-08T21:21:11.888Z"
   },
   {
    "duration": 12,
    "start_time": "2022-02-08T21:22:52.759Z"
   },
   {
    "duration": 13,
    "start_time": "2022-02-08T21:22:58.792Z"
   },
   {
    "duration": 24,
    "start_time": "2022-02-08T21:23:09.196Z"
   },
   {
    "duration": 5597,
    "start_time": "2022-02-08T21:23:51.615Z"
   },
   {
    "duration": 14,
    "start_time": "2022-02-08T21:24:23.814Z"
   },
   {
    "duration": 17,
    "start_time": "2022-02-08T21:24:58.239Z"
   },
   {
    "duration": 19,
    "start_time": "2022-02-08T21:25:02.659Z"
   },
   {
    "duration": 26,
    "start_time": "2022-02-08T21:25:17.478Z"
   },
   {
    "duration": 21,
    "start_time": "2022-02-08T21:25:27.648Z"
   },
   {
    "duration": 23,
    "start_time": "2022-02-08T21:25:35.690Z"
   },
   {
    "duration": 23,
    "start_time": "2022-02-08T21:25:41.019Z"
   },
   {
    "duration": 239,
    "start_time": "2022-02-08T21:31:33.085Z"
   },
   {
    "duration": 1304,
    "start_time": "2022-02-08T21:32:24.416Z"
   },
   {
    "duration": 414,
    "start_time": "2022-02-08T21:32:52.251Z"
   },
   {
    "duration": 1183,
    "start_time": "2022-02-08T21:34:11.176Z"
   },
   {
    "duration": 41,
    "start_time": "2022-02-08T21:34:12.362Z"
   },
   {
    "duration": 29,
    "start_time": "2022-02-08T21:34:12.407Z"
   },
   {
    "duration": 33,
    "start_time": "2022-02-08T21:34:12.438Z"
   },
   {
    "duration": 32,
    "start_time": "2022-02-08T21:34:12.473Z"
   },
   {
    "duration": 11,
    "start_time": "2022-02-08T21:34:12.507Z"
   },
   {
    "duration": 17,
    "start_time": "2022-02-08T21:34:12.522Z"
   },
   {
    "duration": 19,
    "start_time": "2022-02-08T21:34:12.542Z"
   },
   {
    "duration": 38,
    "start_time": "2022-02-08T21:34:12.563Z"
   },
   {
    "duration": 9,
    "start_time": "2022-02-08T21:34:12.603Z"
   },
   {
    "duration": 9,
    "start_time": "2022-02-08T21:34:12.614Z"
   },
   {
    "duration": 9,
    "start_time": "2022-02-08T21:34:12.624Z"
   },
   {
    "duration": 27,
    "start_time": "2022-02-08T21:34:12.634Z"
   },
   {
    "duration": 5,
    "start_time": "2022-02-08T21:34:12.662Z"
   },
   {
    "duration": 65,
    "start_time": "2022-02-08T21:34:12.668Z"
   },
   {
    "duration": 5,
    "start_time": "2022-02-08T21:34:12.735Z"
   },
   {
    "duration": 11,
    "start_time": "2022-02-08T21:34:12.742Z"
   },
   {
    "duration": 26,
    "start_time": "2022-02-08T21:34:12.755Z"
   },
   {
    "duration": 19,
    "start_time": "2022-02-08T21:34:12.783Z"
   },
   {
    "duration": 12,
    "start_time": "2022-02-08T21:34:12.804Z"
   },
   {
    "duration": 25,
    "start_time": "2022-02-08T21:34:12.818Z"
   },
   {
    "duration": 20,
    "start_time": "2022-02-08T21:34:12.845Z"
   },
   {
    "duration": 334,
    "start_time": "2022-02-08T21:34:12.867Z"
   },
   {
    "duration": 397,
    "start_time": "2022-02-08T21:34:13.203Z"
   },
   {
    "duration": 504,
    "start_time": "2022-02-08T21:34:13.602Z"
   },
   {
    "duration": 343,
    "start_time": "2022-02-08T21:34:58.534Z"
   },
   {
    "duration": 293,
    "start_time": "2022-02-08T21:35:55.638Z"
   },
   {
    "duration": 427,
    "start_time": "2022-02-08T21:36:25.720Z"
   },
   {
    "duration": 497,
    "start_time": "2022-02-08T21:39:19.800Z"
   },
   {
    "duration": 594,
    "start_time": "2022-02-08T21:39:30.827Z"
   },
   {
    "duration": 510,
    "start_time": "2022-02-08T21:39:42.583Z"
   },
   {
    "duration": 446,
    "start_time": "2022-02-08T21:39:47.666Z"
   },
   {
    "duration": 74,
    "start_time": "2022-02-08T22:01:55.126Z"
   },
   {
    "duration": 5,
    "start_time": "2022-02-08T22:03:52.044Z"
   },
   {
    "duration": 459,
    "start_time": "2022-02-08T22:04:22.573Z"
   },
   {
    "duration": 232,
    "start_time": "2022-02-08T22:05:32.800Z"
   },
   {
    "duration": 4,
    "start_time": "2022-02-08T22:07:04.428Z"
   },
   {
    "duration": 460,
    "start_time": "2022-02-08T22:07:06.020Z"
   },
   {
    "duration": 438,
    "start_time": "2022-02-08T22:07:16.014Z"
   },
   {
    "duration": 4,
    "start_time": "2022-02-08T22:07:42.717Z"
   },
   {
    "duration": 450,
    "start_time": "2022-02-08T22:07:44.475Z"
   },
   {
    "duration": 440,
    "start_time": "2022-02-08T22:07:50.300Z"
   },
   {
    "duration": 447,
    "start_time": "2022-02-08T22:08:44.863Z"
   },
   {
    "duration": 464,
    "start_time": "2022-02-08T22:08:45.403Z"
   },
   {
    "duration": 3087,
    "start_time": "2022-02-08T22:09:08.265Z"
   },
   {
    "duration": 3004,
    "start_time": "2022-02-08T22:10:35.211Z"
   },
   {
    "duration": 648,
    "start_time": "2022-02-08T22:10:46.379Z"
   },
   {
    "duration": 671,
    "start_time": "2022-02-08T22:11:39.602Z"
   },
   {
    "duration": 1324,
    "start_time": "2022-02-08T22:11:46.054Z"
   },
   {
    "duration": 42,
    "start_time": "2022-02-08T22:11:47.380Z"
   },
   {
    "duration": 28,
    "start_time": "2022-02-08T22:11:47.425Z"
   },
   {
    "duration": 51,
    "start_time": "2022-02-08T22:11:47.456Z"
   },
   {
    "duration": 10,
    "start_time": "2022-02-08T22:11:47.510Z"
   },
   {
    "duration": 12,
    "start_time": "2022-02-08T22:11:47.522Z"
   },
   {
    "duration": 19,
    "start_time": "2022-02-08T22:11:47.536Z"
   },
   {
    "duration": 51,
    "start_time": "2022-02-08T22:11:47.558Z"
   },
   {
    "duration": 5,
    "start_time": "2022-02-08T22:11:47.612Z"
   },
   {
    "duration": 13,
    "start_time": "2022-02-08T22:11:47.619Z"
   },
   {
    "duration": 9,
    "start_time": "2022-02-08T22:11:47.634Z"
   },
   {
    "duration": 7,
    "start_time": "2022-02-08T22:11:47.645Z"
   },
   {
    "duration": 50,
    "start_time": "2022-02-08T22:11:47.653Z"
   },
   {
    "duration": 5,
    "start_time": "2022-02-08T22:11:47.705Z"
   },
   {
    "duration": 44,
    "start_time": "2022-02-08T22:11:47.713Z"
   },
   {
    "duration": 6,
    "start_time": "2022-02-08T22:11:47.759Z"
   },
   {
    "duration": 35,
    "start_time": "2022-02-08T22:11:47.766Z"
   },
   {
    "duration": 10,
    "start_time": "2022-02-08T22:11:47.803Z"
   },
   {
    "duration": 8,
    "start_time": "2022-02-08T22:11:47.815Z"
   },
   {
    "duration": 5,
    "start_time": "2022-02-08T22:11:47.825Z"
   },
   {
    "duration": 19,
    "start_time": "2022-02-08T22:11:47.832Z"
   },
   {
    "duration": 53,
    "start_time": "2022-02-08T22:11:47.853Z"
   },
   {
    "duration": 342,
    "start_time": "2022-02-08T22:11:47.909Z"
   },
   {
    "duration": 424,
    "start_time": "2022-02-08T22:11:48.253Z"
   },
   {
    "duration": 478,
    "start_time": "2022-02-08T22:11:48.679Z"
   },
   {
    "duration": 302,
    "start_time": "2022-02-08T22:11:49.159Z"
   },
   {
    "duration": 1156,
    "start_time": "2022-02-08T22:11:48.307Z"
   },
   {
    "duration": 662,
    "start_time": "2022-02-08T22:12:15.160Z"
   },
   {
    "duration": 452,
    "start_time": "2022-02-08T22:17:56.763Z"
   },
   {
    "duration": 1287,
    "start_time": "2022-02-08T22:18:01.269Z"
   },
   {
    "duration": 44,
    "start_time": "2022-02-08T22:18:02.558Z"
   },
   {
    "duration": 30,
    "start_time": "2022-02-08T22:18:02.604Z"
   },
   {
    "duration": 34,
    "start_time": "2022-02-08T22:18:02.636Z"
   },
   {
    "duration": 28,
    "start_time": "2022-02-08T22:18:02.672Z"
   },
   {
    "duration": 11,
    "start_time": "2022-02-08T22:18:02.702Z"
   },
   {
    "duration": 24,
    "start_time": "2022-02-08T22:18:02.716Z"
   },
   {
    "duration": 18,
    "start_time": "2022-02-08T22:18:02.743Z"
   },
   {
    "duration": 5,
    "start_time": "2022-02-08T22:18:02.763Z"
   },
   {
    "duration": 6,
    "start_time": "2022-02-08T22:18:02.798Z"
   },
   {
    "duration": 17,
    "start_time": "2022-02-08T22:18:02.806Z"
   },
   {
    "duration": 27,
    "start_time": "2022-02-08T22:18:02.825Z"
   },
   {
    "duration": 61,
    "start_time": "2022-02-08T22:18:02.854Z"
   },
   {
    "duration": 6,
    "start_time": "2022-02-08T22:18:02.918Z"
   },
   {
    "duration": 52,
    "start_time": "2022-02-08T22:18:02.925Z"
   },
   {
    "duration": 7,
    "start_time": "2022-02-08T22:18:02.979Z"
   },
   {
    "duration": 13,
    "start_time": "2022-02-08T22:18:03.000Z"
   },
   {
    "duration": 16,
    "start_time": "2022-02-08T22:18:03.016Z"
   },
   {
    "duration": 10,
    "start_time": "2022-02-08T22:18:03.034Z"
   },
   {
    "duration": 7,
    "start_time": "2022-02-08T22:18:03.046Z"
   },
   {
    "duration": 61,
    "start_time": "2022-02-08T22:18:03.055Z"
   },
   {
    "duration": 27,
    "start_time": "2022-02-08T22:18:03.120Z"
   },
   {
    "duration": 362,
    "start_time": "2022-02-08T22:18:03.150Z"
   },
   {
    "duration": 422,
    "start_time": "2022-02-08T22:18:03.514Z"
   },
   {
    "duration": 492,
    "start_time": "2022-02-08T22:18:03.938Z"
   },
   {
    "duration": 689,
    "start_time": "2022-02-08T22:18:04.432Z"
   },
   {
    "duration": 4,
    "start_time": "2022-02-08T22:34:06.134Z"
   },
   {
    "duration": 381,
    "start_time": "2022-02-08T22:34:54.615Z"
   },
   {
    "duration": 4,
    "start_time": "2022-02-08T22:35:20.576Z"
   },
   {
    "duration": 6544,
    "start_time": "2022-02-08T22:35:20.582Z"
   },
   {
    "duration": 5,
    "start_time": "2022-02-08T22:36:26.101Z"
   },
   {
    "duration": 338,
    "start_time": "2022-02-08T22:36:27.261Z"
   },
   {
    "duration": 5,
    "start_time": "2022-02-08T22:36:50.840Z"
   },
   {
    "duration": 300,
    "start_time": "2022-02-08T22:36:52.174Z"
   },
   {
    "duration": 536,
    "start_time": "2022-02-08T22:37:19.966Z"
   },
   {
    "duration": 299,
    "start_time": "2022-02-08T22:37:26.513Z"
   },
   {
    "duration": 307,
    "start_time": "2022-02-08T22:38:12.483Z"
   },
   {
    "duration": 223,
    "start_time": "2022-02-08T22:39:39.782Z"
   },
   {
    "duration": 4,
    "start_time": "2022-02-08T22:40:57.746Z"
   },
   {
    "duration": 715,
    "start_time": "2022-02-08T22:40:58.536Z"
   },
   {
    "duration": 5,
    "start_time": "2022-02-08T22:41:21.488Z"
   },
   {
    "duration": 718,
    "start_time": "2022-02-08T22:41:22.521Z"
   },
   {
    "duration": 5,
    "start_time": "2022-02-08T22:42:00.913Z"
   },
   {
    "duration": 744,
    "start_time": "2022-02-08T22:42:01.542Z"
   },
   {
    "duration": 5,
    "start_time": "2022-02-08T22:42:13.741Z"
   },
   {
    "duration": 298,
    "start_time": "2022-02-08T22:42:14.152Z"
   },
   {
    "duration": 438,
    "start_time": "2022-02-08T22:48:29.292Z"
   },
   {
    "duration": 428,
    "start_time": "2022-02-08T22:48:54.144Z"
   },
   {
    "duration": 532,
    "start_time": "2022-02-08T22:49:11.500Z"
   },
   {
    "duration": 381,
    "start_time": "2022-02-08T22:56:12.497Z"
   },
   {
    "duration": 380,
    "start_time": "2022-02-08T22:57:47.573Z"
   },
   {
    "duration": 1168,
    "start_time": "2022-02-08T22:57:52.239Z"
   },
   {
    "duration": 41,
    "start_time": "2022-02-08T22:57:53.409Z"
   },
   {
    "duration": 26,
    "start_time": "2022-02-08T22:57:53.452Z"
   },
   {
    "duration": 45,
    "start_time": "2022-02-08T22:57:53.480Z"
   },
   {
    "duration": 9,
    "start_time": "2022-02-08T22:57:53.526Z"
   },
   {
    "duration": 30,
    "start_time": "2022-02-08T22:57:53.536Z"
   },
   {
    "duration": 29,
    "start_time": "2022-02-08T22:57:53.568Z"
   },
   {
    "duration": 16,
    "start_time": "2022-02-08T22:57:53.600Z"
   },
   {
    "duration": 10,
    "start_time": "2022-02-08T22:57:53.618Z"
   },
   {
    "duration": 12,
    "start_time": "2022-02-08T22:57:53.630Z"
   },
   {
    "duration": 16,
    "start_time": "2022-02-08T22:57:53.644Z"
   },
   {
    "duration": 14,
    "start_time": "2022-02-08T22:57:53.662Z"
   },
   {
    "duration": 27,
    "start_time": "2022-02-08T22:57:53.698Z"
   },
   {
    "duration": 4,
    "start_time": "2022-02-08T22:57:53.727Z"
   },
   {
    "duration": 39,
    "start_time": "2022-02-08T22:57:53.733Z"
   },
   {
    "duration": 28,
    "start_time": "2022-02-08T22:57:53.774Z"
   },
   {
    "duration": 5,
    "start_time": "2022-02-08T22:57:53.803Z"
   },
   {
    "duration": 11,
    "start_time": "2022-02-08T22:57:53.810Z"
   },
   {
    "duration": 8,
    "start_time": "2022-02-08T22:57:53.823Z"
   },
   {
    "duration": 8,
    "start_time": "2022-02-08T22:57:53.833Z"
   },
   {
    "duration": 58,
    "start_time": "2022-02-08T22:57:53.843Z"
   },
   {
    "duration": 19,
    "start_time": "2022-02-08T22:57:53.903Z"
   },
   {
    "duration": 353,
    "start_time": "2022-02-08T22:57:53.925Z"
   },
   {
    "duration": 424,
    "start_time": "2022-02-08T22:57:54.280Z"
   },
   {
    "duration": 462,
    "start_time": "2022-02-08T22:57:54.706Z"
   },
   {
    "duration": 655,
    "start_time": "2022-02-08T22:57:55.170Z"
   },
   {
    "duration": 5,
    "start_time": "2022-02-08T22:57:55.827Z"
   },
   {
    "duration": 343,
    "start_time": "2022-02-08T22:57:55.834Z"
   },
   {
    "duration": 525,
    "start_time": "2022-02-08T22:57:56.180Z"
   },
   {
    "duration": 393,
    "start_time": "2022-02-08T22:57:56.707Z"
   },
   {
    "duration": 9,
    "start_time": "2022-02-08T23:13:58.015Z"
   },
   {
    "duration": 4,
    "start_time": "2022-02-08T23:18:18.370Z"
   },
   {
    "duration": 440,
    "start_time": "2022-02-08T23:18:29.049Z"
   },
   {
    "duration": 4,
    "start_time": "2022-02-08T23:18:37.242Z"
   },
   {
    "duration": 321,
    "start_time": "2022-02-08T23:18:39.545Z"
   },
   {
    "duration": 362,
    "start_time": "2022-02-08T23:21:15.191Z"
   },
   {
    "duration": 321,
    "start_time": "2022-02-08T23:28:19.490Z"
   },
   {
    "duration": 228,
    "start_time": "2022-02-08T23:29:31.506Z"
   },
   {
    "duration": 360,
    "start_time": "2022-02-08T23:30:07.658Z"
   },
   {
    "duration": 682,
    "start_time": "2022-02-08T23:30:25.398Z"
   },
   {
    "duration": 672,
    "start_time": "2022-02-08T23:30:36.189Z"
   },
   {
    "duration": 673,
    "start_time": "2022-02-08T23:30:46.276Z"
   },
   {
    "duration": 213,
    "start_time": "2022-02-08T23:32:16.934Z"
   },
   {
    "duration": 218,
    "start_time": "2022-02-08T23:32:44.386Z"
   },
   {
    "duration": 226,
    "start_time": "2022-02-08T23:33:51.109Z"
   },
   {
    "duration": 225,
    "start_time": "2022-02-08T23:34:01.309Z"
   },
   {
    "duration": 215,
    "start_time": "2022-02-08T23:34:11.869Z"
   },
   {
    "duration": 429,
    "start_time": "2022-02-08T23:35:13.306Z"
   },
   {
    "duration": 295,
    "start_time": "2022-02-08T23:35:23.868Z"
   },
   {
    "duration": 300,
    "start_time": "2022-02-08T23:36:59.555Z"
   },
   {
    "duration": 22,
    "start_time": "2022-02-08T23:41:57.875Z"
   },
   {
    "duration": 4,
    "start_time": "2022-02-08T23:46:15.784Z"
   },
   {
    "duration": 359,
    "start_time": "2022-02-08T23:46:25.574Z"
   },
   {
    "duration": 4,
    "start_time": "2022-02-08T23:47:56.927Z"
   },
   {
    "duration": 307,
    "start_time": "2022-02-08T23:47:57.471Z"
   },
   {
    "duration": 5,
    "start_time": "2022-02-08T23:52:06.818Z"
   },
   {
    "duration": 747,
    "start_time": "2022-02-08T23:52:07.413Z"
   },
   {
    "duration": 5,
    "start_time": "2022-02-08T23:53:00.538Z"
   },
   {
    "duration": 314,
    "start_time": "2022-02-08T23:53:01.393Z"
   },
   {
    "duration": 323,
    "start_time": "2022-02-08T23:53:45.891Z"
   },
   {
    "duration": 869,
    "start_time": "2022-02-08T23:55:17.912Z"
   },
   {
    "duration": 1882,
    "start_time": "2022-02-08T23:57:08.290Z"
   },
   {
    "duration": 1208,
    "start_time": "2022-02-08T23:57:22.694Z"
   },
   {
    "duration": 44,
    "start_time": "2022-02-08T23:57:23.904Z"
   },
   {
    "duration": 29,
    "start_time": "2022-02-08T23:57:23.951Z"
   },
   {
    "duration": 45,
    "start_time": "2022-02-08T23:57:23.982Z"
   },
   {
    "duration": 9,
    "start_time": "2022-02-08T23:57:24.029Z"
   },
   {
    "duration": 17,
    "start_time": "2022-02-08T23:57:24.040Z"
   },
   {
    "duration": 41,
    "start_time": "2022-02-08T23:57:24.059Z"
   },
   {
    "duration": 17,
    "start_time": "2022-02-08T23:57:24.103Z"
   },
   {
    "duration": 6,
    "start_time": "2022-02-08T23:57:24.123Z"
   },
   {
    "duration": 26,
    "start_time": "2022-02-08T23:57:24.131Z"
   },
   {
    "duration": 24,
    "start_time": "2022-02-08T23:57:24.159Z"
   },
   {
    "duration": 22,
    "start_time": "2022-02-08T23:57:24.185Z"
   },
   {
    "duration": 46,
    "start_time": "2022-02-08T23:57:24.209Z"
   },
   {
    "duration": 5,
    "start_time": "2022-02-08T23:57:24.258Z"
   },
   {
    "duration": 46,
    "start_time": "2022-02-08T23:57:24.265Z"
   },
   {
    "duration": 8,
    "start_time": "2022-02-08T23:57:24.313Z"
   },
   {
    "duration": 6,
    "start_time": "2022-02-08T23:57:24.323Z"
   },
   {
    "duration": 26,
    "start_time": "2022-02-08T23:57:24.331Z"
   },
   {
    "duration": 17,
    "start_time": "2022-02-08T23:57:24.359Z"
   },
   {
    "duration": 20,
    "start_time": "2022-02-08T23:57:24.378Z"
   },
   {
    "duration": 24,
    "start_time": "2022-02-08T23:57:24.400Z"
   },
   {
    "duration": 20,
    "start_time": "2022-02-08T23:57:24.426Z"
   },
   {
    "duration": 347,
    "start_time": "2022-02-08T23:57:24.451Z"
   },
   {
    "duration": 417,
    "start_time": "2022-02-08T23:57:24.800Z"
   },
   {
    "duration": 455,
    "start_time": "2022-02-08T23:57:25.219Z"
   },
   {
    "duration": 671,
    "start_time": "2022-02-08T23:57:25.676Z"
   },
   {
    "duration": 6,
    "start_time": "2022-02-08T23:57:26.350Z"
   },
   {
    "duration": 356,
    "start_time": "2022-02-08T23:57:26.358Z"
   },
   {
    "duration": 521,
    "start_time": "2022-02-08T23:57:26.716Z"
   },
   {
    "duration": 398,
    "start_time": "2022-02-08T23:57:27.239Z"
   },
   {
    "duration": 7,
    "start_time": "2022-02-08T23:57:27.639Z"
   },
   {
    "duration": 18,
    "start_time": "2022-02-08T23:57:27.648Z"
   },
   {
    "duration": 387,
    "start_time": "2022-02-08T23:57:27.668Z"
   },
   {
    "duration": 389,
    "start_time": "2022-02-08T23:57:28.057Z"
   },
   {
    "duration": 5,
    "start_time": "2022-02-08T23:57:28.448Z"
   },
   {
    "duration": 335,
    "start_time": "2022-02-08T23:57:28.454Z"
   },
   {
    "duration": 1773,
    "start_time": "2022-02-08T23:57:28.798Z"
   },
   {
    "duration": 1237,
    "start_time": "2022-02-09T00:06:20.202Z"
   },
   {
    "duration": 42,
    "start_time": "2022-02-09T00:06:21.441Z"
   },
   {
    "duration": 28,
    "start_time": "2022-02-09T00:06:21.485Z"
   },
   {
    "duration": 34,
    "start_time": "2022-02-09T00:06:21.515Z"
   },
   {
    "duration": 10,
    "start_time": "2022-02-09T00:06:21.551Z"
   },
   {
    "duration": 43,
    "start_time": "2022-02-09T00:06:21.564Z"
   },
   {
    "duration": 17,
    "start_time": "2022-02-09T00:06:21.609Z"
   },
   {
    "duration": 20,
    "start_time": "2022-02-09T00:06:21.629Z"
   },
   {
    "duration": 4,
    "start_time": "2022-02-09T00:06:21.652Z"
   },
   {
    "duration": 9,
    "start_time": "2022-02-09T00:06:21.658Z"
   },
   {
    "duration": 32,
    "start_time": "2022-02-09T00:06:21.668Z"
   },
   {
    "duration": 7,
    "start_time": "2022-02-09T00:06:21.702Z"
   },
   {
    "duration": 30,
    "start_time": "2022-02-09T00:06:21.711Z"
   },
   {
    "duration": 4,
    "start_time": "2022-02-09T00:06:21.743Z"
   },
   {
    "duration": 68,
    "start_time": "2022-02-09T00:06:21.749Z"
   },
   {
    "duration": 6,
    "start_time": "2022-02-09T00:06:21.819Z"
   },
   {
    "duration": 6,
    "start_time": "2022-02-09T00:06:21.827Z"
   },
   {
    "duration": 11,
    "start_time": "2022-02-09T00:06:21.834Z"
   },
   {
    "duration": 8,
    "start_time": "2022-02-09T00:06:21.846Z"
   },
   {
    "duration": 9,
    "start_time": "2022-02-09T00:06:21.856Z"
   },
   {
    "duration": 45,
    "start_time": "2022-02-09T00:06:21.867Z"
   },
   {
    "duration": 18,
    "start_time": "2022-02-09T00:06:21.914Z"
   },
   {
    "duration": 357,
    "start_time": "2022-02-09T00:06:21.937Z"
   },
   {
    "duration": 416,
    "start_time": "2022-02-09T00:06:22.298Z"
   },
   {
    "duration": 457,
    "start_time": "2022-02-09T00:06:22.716Z"
   },
   {
    "duration": 676,
    "start_time": "2022-02-09T00:06:23.175Z"
   },
   {
    "duration": 4,
    "start_time": "2022-02-09T00:06:23.853Z"
   },
   {
    "duration": 342,
    "start_time": "2022-02-09T00:06:23.859Z"
   },
   {
    "duration": 518,
    "start_time": "2022-02-09T00:06:24.203Z"
   },
   {
    "duration": 395,
    "start_time": "2022-02-09T00:06:24.722Z"
   },
   {
    "duration": 10,
    "start_time": "2022-02-09T00:06:25.119Z"
   },
   {
    "duration": 5,
    "start_time": "2022-02-09T00:06:25.130Z"
   },
   {
    "duration": 358,
    "start_time": "2022-02-09T00:06:25.137Z"
   },
   {
    "duration": 377,
    "start_time": "2022-02-09T00:06:25.498Z"
   },
   {
    "duration": 5,
    "start_time": "2022-02-09T00:06:25.877Z"
   },
   {
    "duration": 334,
    "start_time": "2022-02-09T00:06:25.884Z"
   },
   {
    "duration": 1757,
    "start_time": "2022-02-09T00:06:26.219Z"
   },
   {
    "duration": 67,
    "start_time": "2022-02-09T00:09:21.208Z"
   },
   {
    "duration": 5,
    "start_time": "2022-02-09T00:09:28.667Z"
   },
   {
    "duration": 437,
    "start_time": "2022-02-09T00:09:30.553Z"
   },
   {
    "duration": 1765,
    "start_time": "2022-02-09T00:09:32.918Z"
   },
   {
    "duration": 1856,
    "start_time": "2022-02-09T00:09:46.722Z"
   },
   {
    "duration": 1426,
    "start_time": "2022-02-09T00:12:03.192Z"
   },
   {
    "duration": 40,
    "start_time": "2022-02-09T00:12:04.620Z"
   },
   {
    "duration": 28,
    "start_time": "2022-02-09T00:12:04.662Z"
   },
   {
    "duration": 39,
    "start_time": "2022-02-09T00:12:04.692Z"
   },
   {
    "duration": 9,
    "start_time": "2022-02-09T00:12:04.733Z"
   },
   {
    "duration": 11,
    "start_time": "2022-02-09T00:12:04.743Z"
   },
   {
    "duration": 46,
    "start_time": "2022-02-09T00:12:04.756Z"
   },
   {
    "duration": 18,
    "start_time": "2022-02-09T00:12:04.805Z"
   },
   {
    "duration": 5,
    "start_time": "2022-02-09T00:12:04.825Z"
   },
   {
    "duration": 10,
    "start_time": "2022-02-09T00:12:04.832Z"
   },
   {
    "duration": 11,
    "start_time": "2022-02-09T00:12:04.843Z"
   },
   {
    "duration": 10,
    "start_time": "2022-02-09T00:12:04.856Z"
   },
   {
    "duration": 27,
    "start_time": "2022-02-09T00:12:04.898Z"
   },
   {
    "duration": 4,
    "start_time": "2022-02-09T00:12:04.927Z"
   },
   {
    "duration": 38,
    "start_time": "2022-02-09T00:12:04.933Z"
   },
   {
    "duration": 29,
    "start_time": "2022-02-09T00:12:04.973Z"
   },
   {
    "duration": 6,
    "start_time": "2022-02-09T00:12:05.004Z"
   },
   {
    "duration": 14,
    "start_time": "2022-02-09T00:12:05.012Z"
   },
   {
    "duration": 8,
    "start_time": "2022-02-09T00:12:05.029Z"
   },
   {
    "duration": 8,
    "start_time": "2022-02-09T00:12:05.039Z"
   },
   {
    "duration": 52,
    "start_time": "2022-02-09T00:12:05.048Z"
   },
   {
    "duration": 19,
    "start_time": "2022-02-09T00:12:05.102Z"
   },
   {
    "duration": 349,
    "start_time": "2022-02-09T00:12:05.125Z"
   },
   {
    "duration": 412,
    "start_time": "2022-02-09T00:12:05.477Z"
   },
   {
    "duration": 367,
    "start_time": "2022-02-09T00:12:05.891Z"
   },
   {
    "duration": 1139,
    "start_time": "2022-02-09T00:12:05.121Z"
   },
   {
    "duration": 1138,
    "start_time": "2022-02-09T00:12:05.123Z"
   },
   {
    "duration": 1137,
    "start_time": "2022-02-09T00:12:05.125Z"
   },
   {
    "duration": 1135,
    "start_time": "2022-02-09T00:12:05.128Z"
   },
   {
    "duration": 1134,
    "start_time": "2022-02-09T00:12:05.130Z"
   },
   {
    "duration": 1133,
    "start_time": "2022-02-09T00:12:05.132Z"
   },
   {
    "duration": 1132,
    "start_time": "2022-02-09T00:12:05.134Z"
   },
   {
    "duration": 1132,
    "start_time": "2022-02-09T00:12:05.135Z"
   },
   {
    "duration": 1131,
    "start_time": "2022-02-09T00:12:05.137Z"
   },
   {
    "duration": 1104,
    "start_time": "2022-02-09T00:12:05.165Z"
   },
   {
    "duration": 1102,
    "start_time": "2022-02-09T00:12:05.168Z"
   },
   {
    "duration": 1101,
    "start_time": "2022-02-09T00:12:05.170Z"
   },
   {
    "duration": 464,
    "start_time": "2022-02-09T00:12:20.674Z"
   },
   {
    "duration": 1172,
    "start_time": "2022-02-09T00:12:25.134Z"
   },
   {
    "duration": 41,
    "start_time": "2022-02-09T00:12:26.308Z"
   },
   {
    "duration": 31,
    "start_time": "2022-02-09T00:12:26.352Z"
   },
   {
    "duration": 44,
    "start_time": "2022-02-09T00:12:26.386Z"
   },
   {
    "duration": 10,
    "start_time": "2022-02-09T00:12:26.432Z"
   },
   {
    "duration": 11,
    "start_time": "2022-02-09T00:12:26.444Z"
   },
   {
    "duration": 58,
    "start_time": "2022-02-09T00:12:26.458Z"
   },
   {
    "duration": 23,
    "start_time": "2022-02-09T00:12:26.520Z"
   },
   {
    "duration": 5,
    "start_time": "2022-02-09T00:12:26.546Z"
   },
   {
    "duration": 12,
    "start_time": "2022-02-09T00:12:26.553Z"
   },
   {
    "duration": 35,
    "start_time": "2022-02-09T00:12:26.567Z"
   },
   {
    "duration": 7,
    "start_time": "2022-02-09T00:12:26.605Z"
   },
   {
    "duration": 34,
    "start_time": "2022-02-09T00:12:26.614Z"
   },
   {
    "duration": 5,
    "start_time": "2022-02-09T00:12:26.650Z"
   },
   {
    "duration": 68,
    "start_time": "2022-02-09T00:12:26.657Z"
   },
   {
    "duration": 7,
    "start_time": "2022-02-09T00:12:26.727Z"
   },
   {
    "duration": 34,
    "start_time": "2022-02-09T00:12:26.736Z"
   },
   {
    "duration": 13,
    "start_time": "2022-02-09T00:12:26.773Z"
   },
   {
    "duration": 15,
    "start_time": "2022-02-09T00:12:26.789Z"
   },
   {
    "duration": 21,
    "start_time": "2022-02-09T00:12:26.806Z"
   },
   {
    "duration": 30,
    "start_time": "2022-02-09T00:12:26.829Z"
   },
   {
    "duration": 22,
    "start_time": "2022-02-09T00:12:26.861Z"
   },
   {
    "duration": 373,
    "start_time": "2022-02-09T00:12:26.888Z"
   },
   {
    "duration": 433,
    "start_time": "2022-02-09T00:12:27.263Z"
   },
   {
    "duration": 466,
    "start_time": "2022-02-09T00:12:27.698Z"
   },
   {
    "duration": 664,
    "start_time": "2022-02-09T00:12:28.166Z"
   },
   {
    "duration": 4,
    "start_time": "2022-02-09T00:12:28.832Z"
   },
   {
    "duration": 334,
    "start_time": "2022-02-09T00:12:28.838Z"
   },
   {
    "duration": 563,
    "start_time": "2022-02-09T00:12:29.174Z"
   },
   {
    "duration": 1140,
    "start_time": "2022-02-09T00:12:28.600Z"
   },
   {
    "duration": 1137,
    "start_time": "2022-02-09T00:12:28.604Z"
   },
   {
    "duration": 1137,
    "start_time": "2022-02-09T00:12:28.606Z"
   },
   {
    "duration": 1131,
    "start_time": "2022-02-09T00:12:28.614Z"
   },
   {
    "duration": 1129,
    "start_time": "2022-02-09T00:12:28.617Z"
   },
   {
    "duration": 1129,
    "start_time": "2022-02-09T00:12:28.619Z"
   },
   {
    "duration": 1128,
    "start_time": "2022-02-09T00:12:28.621Z"
   },
   {
    "duration": 1128,
    "start_time": "2022-02-09T00:12:28.623Z"
   },
   {
    "duration": 504,
    "start_time": "2022-02-09T00:12:38.415Z"
   },
   {
    "duration": 1226,
    "start_time": "2022-02-09T00:12:42.124Z"
   },
   {
    "duration": 40,
    "start_time": "2022-02-09T00:12:43.352Z"
   },
   {
    "duration": 27,
    "start_time": "2022-02-09T00:12:43.394Z"
   },
   {
    "duration": 33,
    "start_time": "2022-02-09T00:12:43.423Z"
   },
   {
    "duration": 9,
    "start_time": "2022-02-09T00:12:43.458Z"
   },
   {
    "duration": 39,
    "start_time": "2022-02-09T00:12:43.468Z"
   },
   {
    "duration": 16,
    "start_time": "2022-02-09T00:12:43.509Z"
   },
   {
    "duration": 16,
    "start_time": "2022-02-09T00:12:43.528Z"
   },
   {
    "duration": 4,
    "start_time": "2022-02-09T00:12:43.547Z"
   },
   {
    "duration": 8,
    "start_time": "2022-02-09T00:12:43.553Z"
   },
   {
    "duration": 7,
    "start_time": "2022-02-09T00:12:43.599Z"
   },
   {
    "duration": 10,
    "start_time": "2022-02-09T00:12:43.608Z"
   },
   {
    "duration": 32,
    "start_time": "2022-02-09T00:12:43.619Z"
   },
   {
    "duration": 5,
    "start_time": "2022-02-09T00:12:43.653Z"
   },
   {
    "duration": 63,
    "start_time": "2022-02-09T00:12:43.659Z"
   },
   {
    "duration": 6,
    "start_time": "2022-02-09T00:12:43.724Z"
   },
   {
    "duration": 5,
    "start_time": "2022-02-09T00:12:43.732Z"
   },
   {
    "duration": 10,
    "start_time": "2022-02-09T00:12:43.739Z"
   },
   {
    "duration": 8,
    "start_time": "2022-02-09T00:12:43.751Z"
   },
   {
    "duration": 39,
    "start_time": "2022-02-09T00:12:43.761Z"
   },
   {
    "duration": 22,
    "start_time": "2022-02-09T00:12:43.801Z"
   },
   {
    "duration": 19,
    "start_time": "2022-02-09T00:12:43.825Z"
   },
   {
    "duration": 361,
    "start_time": "2022-02-09T00:12:43.847Z"
   },
   {
    "duration": 422,
    "start_time": "2022-02-09T00:12:44.210Z"
   },
   {
    "duration": 474,
    "start_time": "2022-02-09T00:12:44.633Z"
   },
   {
    "duration": 674,
    "start_time": "2022-02-09T00:12:45.108Z"
   },
   {
    "duration": 4,
    "start_time": "2022-02-09T00:12:45.784Z"
   },
   {
    "duration": 340,
    "start_time": "2022-02-09T00:12:45.790Z"
   },
   {
    "duration": 513,
    "start_time": "2022-02-09T00:12:46.132Z"
   },
   {
    "duration": 389,
    "start_time": "2022-02-09T00:12:46.646Z"
   },
   {
    "duration": 7,
    "start_time": "2022-02-09T00:12:47.037Z"
   },
   {
    "duration": 7,
    "start_time": "2022-02-09T00:12:47.045Z"
   },
   {
    "duration": 421,
    "start_time": "2022-02-09T00:12:47.054Z"
   },
   {
    "duration": 402,
    "start_time": "2022-02-09T00:12:47.478Z"
   },
   {
    "duration": 5,
    "start_time": "2022-02-09T00:12:47.883Z"
   },
   {
    "duration": 316,
    "start_time": "2022-02-09T00:12:47.898Z"
   },
   {
    "duration": 66,
    "start_time": "2022-02-09T00:12:48.216Z"
   },
   {
    "duration": 2708,
    "start_time": "2022-02-09T00:13:35.776Z"
   },
   {
    "duration": 5608,
    "start_time": "2022-02-09T00:21:55.748Z"
   },
   {
    "duration": 357,
    "start_time": "2022-02-09T00:22:12.576Z"
   },
   {
    "duration": 339,
    "start_time": "2022-02-09T00:22:42.517Z"
   },
   {
    "duration": 349,
    "start_time": "2022-02-09T00:24:41.726Z"
   },
   {
    "duration": 341,
    "start_time": "2022-02-09T00:28:11.636Z"
   },
   {
    "duration": 1556,
    "start_time": "2022-02-10T22:29:51.320Z"
   },
   {
    "duration": 46,
    "start_time": "2022-02-10T22:29:52.879Z"
   },
   {
    "duration": 55,
    "start_time": "2022-02-10T22:29:52.929Z"
   },
   {
    "duration": 90,
    "start_time": "2022-02-10T22:29:52.988Z"
   },
   {
    "duration": 16,
    "start_time": "2022-02-10T22:29:53.081Z"
   },
   {
    "duration": 15,
    "start_time": "2022-02-10T22:29:53.100Z"
   },
   {
    "duration": 62,
    "start_time": "2022-02-10T22:29:53.118Z"
   },
   {
    "duration": 23,
    "start_time": "2022-02-10T22:29:53.185Z"
   },
   {
    "duration": 6,
    "start_time": "2022-02-10T22:29:53.211Z"
   },
   {
    "duration": 8,
    "start_time": "2022-02-10T22:29:53.219Z"
   },
   {
    "duration": 45,
    "start_time": "2022-02-10T22:29:53.229Z"
   },
   {
    "duration": 12,
    "start_time": "2022-02-10T22:29:53.276Z"
   },
   {
    "duration": 39,
    "start_time": "2022-02-10T22:29:53.290Z"
   },
   {
    "duration": 40,
    "start_time": "2022-02-10T22:29:53.331Z"
   },
   {
    "duration": 48,
    "start_time": "2022-02-10T22:29:53.373Z"
   },
   {
    "duration": 18,
    "start_time": "2022-02-10T22:29:53.423Z"
   },
   {
    "duration": 27,
    "start_time": "2022-02-10T22:29:53.444Z"
   },
   {
    "duration": 23,
    "start_time": "2022-02-10T22:29:53.474Z"
   },
   {
    "duration": 11,
    "start_time": "2022-02-10T22:29:53.500Z"
   },
   {
    "duration": 9,
    "start_time": "2022-02-10T22:29:53.513Z"
   },
   {
    "duration": 54,
    "start_time": "2022-02-10T22:29:53.525Z"
   },
   {
    "duration": 26,
    "start_time": "2022-02-10T22:29:53.581Z"
   },
   {
    "duration": 474,
    "start_time": "2022-02-10T22:29:53.612Z"
   },
   {
    "duration": 584,
    "start_time": "2022-02-10T22:29:54.088Z"
   },
   {
    "duration": 655,
    "start_time": "2022-02-10T22:29:54.675Z"
   },
   {
    "duration": 990,
    "start_time": "2022-02-10T22:29:55.334Z"
   },
   {
    "duration": 8,
    "start_time": "2022-02-10T22:29:56.327Z"
   },
   {
    "duration": 473,
    "start_time": "2022-02-10T22:29:56.338Z"
   },
   {
    "duration": 738,
    "start_time": "2022-02-10T22:29:56.814Z"
   },
   {
    "duration": 546,
    "start_time": "2022-02-10T22:29:57.556Z"
   },
   {
    "duration": 10,
    "start_time": "2022-02-10T22:29:58.105Z"
   },
   {
    "duration": 10,
    "start_time": "2022-02-10T22:29:58.117Z"
   },
   {
    "duration": 487,
    "start_time": "2022-02-10T22:29:58.129Z"
   },
   {
    "duration": 486,
    "start_time": "2022-02-10T22:29:58.618Z"
   },
   {
    "duration": 7,
    "start_time": "2022-02-10T22:29:59.106Z"
   },
   {
    "duration": 444,
    "start_time": "2022-02-10T22:29:59.116Z"
   },
   {
    "duration": 3254,
    "start_time": "2022-02-10T22:29:59.569Z"
   },
   {
    "duration": 477,
    "start_time": "2022-02-10T22:30:02.826Z"
   },
   {
    "duration": 1584,
    "start_time": "2022-02-10T22:34:12.425Z"
   },
   {
    "duration": 43,
    "start_time": "2022-02-10T22:34:14.011Z"
   },
   {
    "duration": 41,
    "start_time": "2022-02-10T22:34:14.057Z"
   },
   {
    "duration": 42,
    "start_time": "2022-02-10T22:34:14.101Z"
   },
   {
    "duration": 32,
    "start_time": "2022-02-10T22:34:14.145Z"
   },
   {
    "duration": 14,
    "start_time": "2022-02-10T22:34:14.179Z"
   },
   {
    "duration": 21,
    "start_time": "2022-02-10T22:34:14.196Z"
   },
   {
    "duration": 66,
    "start_time": "2022-02-10T22:34:14.223Z"
   },
   {
    "duration": 7,
    "start_time": "2022-02-10T22:34:14.293Z"
   },
   {
    "duration": 9,
    "start_time": "2022-02-10T22:34:14.303Z"
   },
   {
    "duration": 12,
    "start_time": "2022-02-10T22:34:14.315Z"
   },
   {
    "duration": 12,
    "start_time": "2022-02-10T22:34:14.371Z"
   },
   {
    "duration": 41,
    "start_time": "2022-02-10T22:34:14.386Z"
   },
   {
    "duration": 41,
    "start_time": "2022-02-10T22:34:14.431Z"
   },
   {
    "duration": 51,
    "start_time": "2022-02-10T22:34:14.475Z"
   },
   {
    "duration": 45,
    "start_time": "2022-02-10T22:34:14.529Z"
   },
   {
    "duration": 7,
    "start_time": "2022-02-10T22:34:14.576Z"
   },
   {
    "duration": 18,
    "start_time": "2022-02-10T22:34:14.586Z"
   },
   {
    "duration": 11,
    "start_time": "2022-02-10T22:34:14.606Z"
   },
   {
    "duration": 8,
    "start_time": "2022-02-10T22:34:14.619Z"
   },
   {
    "duration": 22,
    "start_time": "2022-02-10T22:34:14.670Z"
   },
   {
    "duration": 25,
    "start_time": "2022-02-10T22:34:14.695Z"
   },
   {
    "duration": 490,
    "start_time": "2022-02-10T22:34:14.725Z"
   },
   {
    "duration": 602,
    "start_time": "2022-02-10T22:34:15.218Z"
   },
   {
    "duration": 708,
    "start_time": "2022-02-10T22:34:15.822Z"
   },
   {
    "duration": 945,
    "start_time": "2022-02-10T22:34:16.533Z"
   },
   {
    "duration": 6,
    "start_time": "2022-02-10T22:34:17.480Z"
   },
   {
    "duration": 485,
    "start_time": "2022-02-10T22:34:17.490Z"
   },
   {
    "duration": 728,
    "start_time": "2022-02-10T22:34:17.978Z"
   },
   {
    "duration": 568,
    "start_time": "2022-02-10T22:34:18.708Z"
   },
   {
    "duration": 10,
    "start_time": "2022-02-10T22:34:19.279Z"
   },
   {
    "duration": 10,
    "start_time": "2022-02-10T22:34:19.291Z"
   },
   {
    "duration": 471,
    "start_time": "2022-02-10T22:34:19.303Z"
   },
   {
    "duration": 454,
    "start_time": "2022-02-10T22:34:19.776Z"
   },
   {
    "duration": 7,
    "start_time": "2022-02-10T22:34:20.233Z"
   },
   {
    "duration": 399,
    "start_time": "2022-02-10T22:34:20.242Z"
   },
   {
    "duration": 3681,
    "start_time": "2022-02-10T22:34:20.644Z"
   },
   {
    "duration": 492,
    "start_time": "2022-02-10T22:34:24.328Z"
   },
   {
    "duration": 810,
    "start_time": "2022-02-10T22:54:03.858Z"
   },
   {
    "duration": 5,
    "start_time": "2022-02-10T22:54:16.534Z"
   },
   {
    "duration": 6,
    "start_time": "2022-02-10T22:57:39.773Z"
   },
   {
    "duration": 931,
    "start_time": "2022-02-10T22:57:45.786Z"
   },
   {
    "duration": 581,
    "start_time": "2022-02-10T22:59:04.250Z"
   },
   {
    "duration": 5,
    "start_time": "2022-02-10T22:59:33.195Z"
   },
   {
    "duration": 393,
    "start_time": "2022-02-10T22:59:34.479Z"
   },
   {
    "duration": 6,
    "start_time": "2022-02-10T23:03:39.441Z"
   },
   {
    "duration": 262,
    "start_time": "2022-02-10T23:03:41.839Z"
   },
   {
    "duration": 6,
    "start_time": "2022-02-10T23:05:43.293Z"
   },
   {
    "duration": 282,
    "start_time": "2022-02-10T23:05:46.091Z"
   },
   {
    "duration": 822,
    "start_time": "2022-02-10T23:08:48.912Z"
   },
   {
    "duration": 1714,
    "start_time": "2022-02-10T23:09:19.308Z"
   },
   {
    "duration": 6,
    "start_time": "2022-02-10T23:10:52.531Z"
   },
   {
    "duration": 1383,
    "start_time": "2022-02-10T23:11:02.378Z"
   },
   {
    "duration": 8,
    "start_time": "2022-02-10T23:14:05.691Z"
   },
   {
    "duration": 1592,
    "start_time": "2022-02-10T23:14:07.352Z"
   },
   {
    "duration": 7,
    "start_time": "2022-02-10T23:15:02.738Z"
   },
   {
    "duration": 1364,
    "start_time": "2022-02-10T23:15:04.137Z"
   },
   {
    "duration": 6,
    "start_time": "2022-02-10T23:15:26.400Z"
   },
   {
    "duration": 1374,
    "start_time": "2022-02-10T23:15:27.966Z"
   },
   {
    "duration": 6,
    "start_time": "2022-02-10T23:16:37.710Z"
   },
   {
    "duration": 1698,
    "start_time": "2022-02-10T23:16:38.990Z"
   },
   {
    "duration": 1108,
    "start_time": "2022-02-10T23:16:44.294Z"
   },
   {
    "duration": 315,
    "start_time": "2022-02-10T23:18:55.759Z"
   },
   {
    "duration": 6,
    "start_time": "2022-02-10T23:19:01.187Z"
   },
   {
    "duration": 811,
    "start_time": "2022-02-10T23:19:03.762Z"
   },
   {
    "duration": 795,
    "start_time": "2022-02-10T23:19:06.835Z"
   },
   {
    "duration": 807,
    "start_time": "2022-02-10T23:21:27.964Z"
   },
   {
    "duration": 1518,
    "start_time": "2022-02-10T23:23:11.150Z"
   },
   {
    "duration": 45,
    "start_time": "2022-02-10T23:23:12.671Z"
   },
   {
    "duration": 37,
    "start_time": "2022-02-10T23:23:12.718Z"
   },
   {
    "duration": 45,
    "start_time": "2022-02-10T23:23:12.770Z"
   },
   {
    "duration": 11,
    "start_time": "2022-02-10T23:23:12.817Z"
   },
   {
    "duration": 44,
    "start_time": "2022-02-10T23:23:12.830Z"
   },
   {
    "duration": 27,
    "start_time": "2022-02-10T23:23:12.877Z"
   },
   {
    "duration": 23,
    "start_time": "2022-02-10T23:23:12.907Z"
   },
   {
    "duration": 38,
    "start_time": "2022-02-10T23:23:12.933Z"
   },
   {
    "duration": 18,
    "start_time": "2022-02-10T23:23:12.975Z"
   },
   {
    "duration": 14,
    "start_time": "2022-02-10T23:23:12.996Z"
   },
   {
    "duration": 59,
    "start_time": "2022-02-10T23:23:13.013Z"
   },
   {
    "duration": 7,
    "start_time": "2022-02-10T23:23:13.074Z"
   },
   {
    "duration": 63,
    "start_time": "2022-02-10T23:23:13.083Z"
   },
   {
    "duration": 23,
    "start_time": "2022-02-10T23:23:13.148Z"
   },
   {
    "duration": 7,
    "start_time": "2022-02-10T23:23:13.173Z"
   },
   {
    "duration": 12,
    "start_time": "2022-02-10T23:23:13.182Z"
   },
   {
    "duration": 10,
    "start_time": "2022-02-10T23:23:13.196Z"
   },
   {
    "duration": 7,
    "start_time": "2022-02-10T23:23:13.209Z"
   },
   {
    "duration": 70,
    "start_time": "2022-02-10T23:23:13.218Z"
   },
   {
    "duration": 26,
    "start_time": "2022-02-10T23:23:13.290Z"
   },
   {
    "duration": 573,
    "start_time": "2022-02-10T23:23:13.319Z"
   },
   {
    "duration": 591,
    "start_time": "2022-02-10T23:23:13.897Z"
   },
   {
    "duration": 740,
    "start_time": "2022-02-10T23:23:14.491Z"
   },
   {
    "duration": 925,
    "start_time": "2022-02-10T23:23:15.233Z"
   },
   {
    "duration": 10,
    "start_time": "2022-02-10T23:23:16.161Z"
   },
   {
    "duration": 467,
    "start_time": "2022-02-10T23:23:16.174Z"
   },
   {
    "duration": 723,
    "start_time": "2022-02-10T23:23:16.644Z"
   },
   {
    "duration": 549,
    "start_time": "2022-02-10T23:23:17.370Z"
   },
   {
    "duration": 10,
    "start_time": "2022-02-10T23:23:17.921Z"
   },
   {
    "duration": 16,
    "start_time": "2022-02-10T23:23:17.934Z"
   },
   {
    "duration": 501,
    "start_time": "2022-02-10T23:23:17.952Z"
   },
   {
    "duration": 485,
    "start_time": "2022-02-10T23:23:18.455Z"
   },
   {
    "duration": 7,
    "start_time": "2022-02-10T23:23:18.943Z"
   },
   {
    "duration": 378,
    "start_time": "2022-02-10T23:23:18.969Z"
   },
   {
    "duration": 3375,
    "start_time": "2022-02-10T23:23:19.349Z"
   },
   {
    "duration": 482,
    "start_time": "2022-02-10T23:23:22.727Z"
   },
   {
    "duration": 5,
    "start_time": "2022-02-10T23:23:23.212Z"
   },
   {
    "duration": 811,
    "start_time": "2022-02-10T23:23:23.220Z"
   },
   {
    "duration": 805,
    "start_time": "2022-02-10T23:23:24.033Z"
   },
   {
    "duration": 831,
    "start_time": "2022-02-10T23:23:24.841Z"
   },
   {
    "duration": 12,
    "start_time": "2022-02-11T00:01:35.332Z"
   },
   {
    "duration": 15,
    "start_time": "2022-02-11T00:03:36.684Z"
   },
   {
    "duration": 8,
    "start_time": "2022-02-11T00:04:58.880Z"
   },
   {
    "duration": 257,
    "start_time": "2022-02-11T00:05:48.981Z"
   },
   {
    "duration": 14,
    "start_time": "2022-02-11T00:06:19.425Z"
   },
   {
    "duration": 11,
    "start_time": "2022-02-11T00:07:29.766Z"
   },
   {
    "duration": 365,
    "start_time": "2022-02-11T00:08:46.074Z"
   },
   {
    "duration": 262,
    "start_time": "2022-02-11T00:10:39.951Z"
   },
   {
    "duration": 15,
    "start_time": "2022-02-11T00:10:49.946Z"
   },
   {
    "duration": 261,
    "start_time": "2022-02-11T00:12:24.912Z"
   },
   {
    "duration": 13,
    "start_time": "2022-02-11T00:13:18.576Z"
   },
   {
    "duration": 12,
    "start_time": "2022-02-11T00:13:40.587Z"
   },
   {
    "duration": 1547,
    "start_time": "2022-02-11T00:13:45.330Z"
   },
   {
    "duration": 44,
    "start_time": "2022-02-11T00:13:46.880Z"
   },
   {
    "duration": 41,
    "start_time": "2022-02-11T00:13:46.928Z"
   },
   {
    "duration": 42,
    "start_time": "2022-02-11T00:13:46.971Z"
   },
   {
    "duration": 11,
    "start_time": "2022-02-11T00:13:47.015Z"
   },
   {
    "duration": 17,
    "start_time": "2022-02-11T00:13:47.029Z"
   },
   {
    "duration": 35,
    "start_time": "2022-02-11T00:13:47.049Z"
   },
   {
    "duration": 22,
    "start_time": "2022-02-11T00:13:47.088Z"
   },
   {
    "duration": 7,
    "start_time": "2022-02-11T00:13:47.114Z"
   },
   {
    "duration": 11,
    "start_time": "2022-02-11T00:13:47.123Z"
   },
   {
    "duration": 9,
    "start_time": "2022-02-11T00:13:47.137Z"
   },
   {
    "duration": 51,
    "start_time": "2022-02-11T00:13:47.148Z"
   },
   {
    "duration": 6,
    "start_time": "2022-02-11T00:13:47.202Z"
   },
   {
    "duration": 64,
    "start_time": "2022-02-11T00:13:47.210Z"
   },
   {
    "duration": 8,
    "start_time": "2022-02-11T00:13:47.276Z"
   },
   {
    "duration": 13,
    "start_time": "2022-02-11T00:13:47.286Z"
   },
   {
    "duration": 18,
    "start_time": "2022-02-11T00:13:47.301Z"
   },
   {
    "duration": 10,
    "start_time": "2022-02-11T00:13:47.322Z"
   },
   {
    "duration": 8,
    "start_time": "2022-02-11T00:13:47.334Z"
   },
   {
    "duration": 40,
    "start_time": "2022-02-11T00:13:47.344Z"
   },
   {
    "duration": 26,
    "start_time": "2022-02-11T00:13:47.387Z"
   },
   {
    "duration": 567,
    "start_time": "2022-02-11T00:13:47.415Z"
   },
   {
    "duration": 748,
    "start_time": "2022-02-11T00:13:47.987Z"
   },
   {
    "duration": 656,
    "start_time": "2022-02-11T00:13:48.739Z"
   },
   {
    "duration": 1053,
    "start_time": "2022-02-11T00:13:49.398Z"
   },
   {
    "duration": 16,
    "start_time": "2022-02-11T00:13:50.453Z"
   },
   {
    "duration": 557,
    "start_time": "2022-02-11T00:13:50.471Z"
   },
   {
    "duration": 658,
    "start_time": "2022-02-11T00:13:51.031Z"
   },
   {
    "duration": 561,
    "start_time": "2022-02-11T00:13:51.692Z"
   },
   {
    "duration": 16,
    "start_time": "2022-02-11T00:13:52.256Z"
   },
   {
    "duration": 7,
    "start_time": "2022-02-11T00:13:52.275Z"
   },
   {
    "duration": 457,
    "start_time": "2022-02-11T00:13:52.285Z"
   },
   {
    "duration": 477,
    "start_time": "2022-02-11T00:13:52.745Z"
   },
   {
    "duration": 7,
    "start_time": "2022-02-11T00:13:53.225Z"
   },
   {
    "duration": 390,
    "start_time": "2022-02-11T00:13:53.234Z"
   },
   {
    "duration": 3267,
    "start_time": "2022-02-11T00:13:53.626Z"
   },
   {
    "duration": 479,
    "start_time": "2022-02-11T00:13:56.895Z"
   },
   {
    "duration": 6,
    "start_time": "2022-02-11T00:13:57.376Z"
   },
   {
    "duration": 827,
    "start_time": "2022-02-11T00:13:57.384Z"
   },
   {
    "duration": 835,
    "start_time": "2022-02-11T00:13:58.213Z"
   },
   {
    "duration": 818,
    "start_time": "2022-02-11T00:13:59.051Z"
   },
   {
    "duration": 17,
    "start_time": "2022-02-11T00:13:59.871Z"
   },
   {
    "duration": 426,
    "start_time": "2022-02-11T00:13:59.891Z"
   },
   {
    "duration": 13,
    "start_time": "2022-02-11T00:14:00.320Z"
   },
   {
    "duration": 288,
    "start_time": "2022-02-11T00:14:00.335Z"
   },
   {
    "duration": 12,
    "start_time": "2022-02-11T00:14:00.626Z"
   },
   {
    "duration": 1498,
    "start_time": "2022-02-11T00:16:04.082Z"
   },
   {
    "duration": 45,
    "start_time": "2022-02-11T00:16:05.583Z"
   },
   {
    "duration": 50,
    "start_time": "2022-02-11T00:16:05.631Z"
   },
   {
    "duration": 44,
    "start_time": "2022-02-11T00:16:05.684Z"
   },
   {
    "duration": 38,
    "start_time": "2022-02-11T00:16:05.730Z"
   },
   {
    "duration": 14,
    "start_time": "2022-02-11T00:16:05.771Z"
   },
   {
    "duration": 32,
    "start_time": "2022-02-11T00:16:05.787Z"
   },
   {
    "duration": 29,
    "start_time": "2022-02-11T00:16:05.822Z"
   },
   {
    "duration": 19,
    "start_time": "2022-02-11T00:16:05.854Z"
   },
   {
    "duration": 18,
    "start_time": "2022-02-11T00:16:05.875Z"
   },
   {
    "duration": 11,
    "start_time": "2022-02-11T00:16:05.897Z"
   },
   {
    "duration": 74,
    "start_time": "2022-02-11T00:16:05.911Z"
   },
   {
    "duration": 7,
    "start_time": "2022-02-11T00:16:05.988Z"
   },
   {
    "duration": 74,
    "start_time": "2022-02-11T00:16:05.997Z"
   },
   {
    "duration": 8,
    "start_time": "2022-02-11T00:16:06.073Z"
   },
   {
    "duration": 6,
    "start_time": "2022-02-11T00:16:06.083Z"
   },
   {
    "duration": 13,
    "start_time": "2022-02-11T00:16:06.092Z"
   },
   {
    "duration": 11,
    "start_time": "2022-02-11T00:16:06.107Z"
   },
   {
    "duration": 54,
    "start_time": "2022-02-11T00:16:06.120Z"
   },
   {
    "duration": 22,
    "start_time": "2022-02-11T00:16:06.176Z"
   },
   {
    "duration": 26,
    "start_time": "2022-02-11T00:16:06.200Z"
   },
   {
    "duration": 496,
    "start_time": "2022-02-11T00:16:06.229Z"
   },
   {
    "duration": 595,
    "start_time": "2022-02-11T00:16:06.730Z"
   },
   {
    "duration": 642,
    "start_time": "2022-02-11T00:16:07.328Z"
   },
   {
    "duration": 928,
    "start_time": "2022-02-11T00:16:07.972Z"
   },
   {
    "duration": 6,
    "start_time": "2022-02-11T00:16:08.902Z"
   },
   {
    "duration": 561,
    "start_time": "2022-02-11T00:16:08.910Z"
   },
   {
    "duration": 739,
    "start_time": "2022-02-11T00:16:09.474Z"
   },
   {
    "duration": 564,
    "start_time": "2022-02-11T00:16:10.215Z"
   },
   {
    "duration": 9,
    "start_time": "2022-02-11T00:16:10.782Z"
   },
   {
    "duration": 6,
    "start_time": "2022-02-11T00:16:10.793Z"
   },
   {
    "duration": 460,
    "start_time": "2022-02-11T00:16:10.802Z"
   },
   {
    "duration": 460,
    "start_time": "2022-02-11T00:16:11.265Z"
   },
   {
    "duration": 7,
    "start_time": "2022-02-11T00:16:11.727Z"
   },
   {
    "duration": 401,
    "start_time": "2022-02-11T00:16:11.736Z"
   },
   {
    "duration": 3551,
    "start_time": "2022-02-11T00:16:12.140Z"
   },
   {
    "duration": 490,
    "start_time": "2022-02-11T00:16:15.693Z"
   },
   {
    "duration": 5,
    "start_time": "2022-02-11T00:16:16.185Z"
   },
   {
    "duration": 807,
    "start_time": "2022-02-11T00:16:16.193Z"
   },
   {
    "duration": 790,
    "start_time": "2022-02-11T00:16:17.002Z"
   },
   {
    "duration": 820,
    "start_time": "2022-02-11T00:16:17.795Z"
   },
   {
    "duration": 17,
    "start_time": "2022-02-11T00:16:18.619Z"
   },
   {
    "duration": 409,
    "start_time": "2022-02-11T00:16:18.639Z"
   },
   {
    "duration": 26,
    "start_time": "2022-02-11T00:16:19.051Z"
   },
   {
    "duration": 285,
    "start_time": "2022-02-11T00:16:19.079Z"
   },
   {
    "duration": 12,
    "start_time": "2022-02-11T00:16:19.369Z"
   },
   {
    "duration": 262,
    "start_time": "2022-02-11T00:20:31.334Z"
   },
   {
    "duration": 13,
    "start_time": "2022-02-11T00:21:11.155Z"
   },
   {
    "duration": 1523,
    "start_time": "2022-02-11T00:21:36.140Z"
   },
   {
    "duration": 46,
    "start_time": "2022-02-11T00:21:37.665Z"
   },
   {
    "duration": 37,
    "start_time": "2022-02-11T00:21:37.714Z"
   },
   {
    "duration": 60,
    "start_time": "2022-02-11T00:21:37.753Z"
   },
   {
    "duration": 11,
    "start_time": "2022-02-11T00:21:37.815Z"
   },
   {
    "duration": 47,
    "start_time": "2022-02-11T00:21:37.828Z"
   },
   {
    "duration": 21,
    "start_time": "2022-02-11T00:21:37.877Z"
   },
   {
    "duration": 22,
    "start_time": "2022-02-11T00:21:37.902Z"
   },
   {
    "duration": 6,
    "start_time": "2022-02-11T00:21:37.927Z"
   },
   {
    "duration": 40,
    "start_time": "2022-02-11T00:21:37.936Z"
   },
   {
    "duration": 11,
    "start_time": "2022-02-11T00:21:37.978Z"
   },
   {
    "duration": 41,
    "start_time": "2022-02-11T00:21:37.992Z"
   },
   {
    "duration": 38,
    "start_time": "2022-02-11T00:21:38.035Z"
   },
   {
    "duration": 49,
    "start_time": "2022-02-11T00:21:38.075Z"
   },
   {
    "duration": 8,
    "start_time": "2022-02-11T00:21:38.126Z"
   },
   {
    "duration": 35,
    "start_time": "2022-02-11T00:21:38.137Z"
   },
   {
    "duration": 16,
    "start_time": "2022-02-11T00:21:38.175Z"
   },
   {
    "duration": 12,
    "start_time": "2022-02-11T00:21:38.194Z"
   },
   {
    "duration": 7,
    "start_time": "2022-02-11T00:21:38.209Z"
   },
   {
    "duration": 71,
    "start_time": "2022-02-11T00:21:38.218Z"
   },
   {
    "duration": 25,
    "start_time": "2022-02-11T00:21:38.292Z"
   },
   {
    "duration": 469,
    "start_time": "2022-02-11T00:21:38.320Z"
   },
   {
    "duration": 584,
    "start_time": "2022-02-11T00:21:38.794Z"
   },
   {
    "duration": 656,
    "start_time": "2022-02-11T00:21:39.381Z"
   },
   {
    "duration": 933,
    "start_time": "2022-02-11T00:21:40.039Z"
   },
   {
    "duration": 5,
    "start_time": "2022-02-11T00:21:40.975Z"
   },
   {
    "duration": 547,
    "start_time": "2022-02-11T00:21:40.983Z"
   },
   {
    "duration": 624,
    "start_time": "2022-02-11T00:21:41.532Z"
   },
   {
    "duration": 562,
    "start_time": "2022-02-11T00:21:42.158Z"
   },
   {
    "duration": 9,
    "start_time": "2022-02-11T00:21:42.723Z"
   },
   {
    "duration": 10,
    "start_time": "2022-02-11T00:21:42.735Z"
   },
   {
    "duration": 487,
    "start_time": "2022-02-11T00:21:42.747Z"
   },
   {
    "duration": 477,
    "start_time": "2022-02-11T00:21:43.237Z"
   },
   {
    "duration": 6,
    "start_time": "2022-02-11T00:21:43.717Z"
   },
   {
    "duration": 386,
    "start_time": "2022-02-11T00:21:43.726Z"
   },
   {
    "duration": 3367,
    "start_time": "2022-02-11T00:21:44.115Z"
   },
   {
    "duration": 649,
    "start_time": "2022-02-11T00:21:47.485Z"
   },
   {
    "duration": 5,
    "start_time": "2022-02-11T00:21:48.136Z"
   },
   {
    "duration": 793,
    "start_time": "2022-02-11T00:21:48.143Z"
   },
   {
    "duration": 776,
    "start_time": "2022-02-11T00:21:48.939Z"
   },
   {
    "duration": 781,
    "start_time": "2022-02-11T00:21:49.717Z"
   },
   {
    "duration": 15,
    "start_time": "2022-02-11T00:21:50.501Z"
   },
   {
    "duration": 395,
    "start_time": "2022-02-11T00:21:50.519Z"
   },
   {
    "duration": 13,
    "start_time": "2022-02-11T00:21:50.917Z"
   },
   {
    "duration": 285,
    "start_time": "2022-02-11T00:21:50.932Z"
   },
   {
    "duration": 13,
    "start_time": "2022-02-11T00:21:51.219Z"
   },
   {
    "duration": 259,
    "start_time": "2022-02-11T00:21:51.234Z"
   },
   {
    "duration": 14,
    "start_time": "2022-02-11T00:21:51.495Z"
   },
   {
    "duration": 244,
    "start_time": "2022-02-11T00:23:09.920Z"
   },
   {
    "duration": 1521,
    "start_time": "2022-02-11T00:23:15.634Z"
   },
   {
    "duration": 43,
    "start_time": "2022-02-11T00:23:17.158Z"
   },
   {
    "duration": 34,
    "start_time": "2022-02-11T00:23:17.204Z"
   },
   {
    "duration": 64,
    "start_time": "2022-02-11T00:23:17.241Z"
   },
   {
    "duration": 10,
    "start_time": "2022-02-11T00:23:17.307Z"
   },
   {
    "duration": 13,
    "start_time": "2022-02-11T00:23:17.320Z"
   },
   {
    "duration": 48,
    "start_time": "2022-02-11T00:23:17.336Z"
   },
   {
    "duration": 21,
    "start_time": "2022-02-11T00:23:17.388Z"
   },
   {
    "duration": 7,
    "start_time": "2022-02-11T00:23:17.412Z"
   },
   {
    "duration": 9,
    "start_time": "2022-02-11T00:23:17.421Z"
   },
   {
    "duration": 10,
    "start_time": "2022-02-11T00:23:17.468Z"
   },
   {
    "duration": 36,
    "start_time": "2022-02-11T00:23:17.481Z"
   },
   {
    "duration": 7,
    "start_time": "2022-02-11T00:23:17.519Z"
   },
   {
    "duration": 80,
    "start_time": "2022-02-11T00:23:17.528Z"
   },
   {
    "duration": 8,
    "start_time": "2022-02-11T00:23:17.610Z"
   },
   {
    "duration": 6,
    "start_time": "2022-02-11T00:23:17.620Z"
   },
   {
    "duration": 45,
    "start_time": "2022-02-11T00:23:17.628Z"
   },
   {
    "duration": 10,
    "start_time": "2022-02-11T00:23:17.675Z"
   },
   {
    "duration": 7,
    "start_time": "2022-02-11T00:23:17.688Z"
   },
   {
    "duration": 22,
    "start_time": "2022-02-11T00:23:17.697Z"
   },
   {
    "duration": 67,
    "start_time": "2022-02-11T00:23:17.721Z"
   },
   {
    "duration": 452,
    "start_time": "2022-02-11T00:23:17.790Z"
   },
   {
    "duration": 594,
    "start_time": "2022-02-11T00:23:18.247Z"
   },
   {
    "duration": 626,
    "start_time": "2022-02-11T00:23:18.844Z"
   },
   {
    "duration": 909,
    "start_time": "2022-02-11T00:23:19.473Z"
   },
   {
    "duration": 6,
    "start_time": "2022-02-11T00:23:20.384Z"
   },
   {
    "duration": 553,
    "start_time": "2022-02-11T00:23:20.393Z"
   },
   {
    "duration": 628,
    "start_time": "2022-02-11T00:23:20.948Z"
   },
   {
    "duration": 554,
    "start_time": "2022-02-11T00:23:21.578Z"
   },
   {
    "duration": 11,
    "start_time": "2022-02-11T00:23:22.136Z"
   },
   {
    "duration": 24,
    "start_time": "2022-02-11T00:23:22.149Z"
   },
   {
    "duration": 458,
    "start_time": "2022-02-11T00:23:22.175Z"
   },
   {
    "duration": 474,
    "start_time": "2022-02-11T00:23:22.635Z"
   },
   {
    "duration": 6,
    "start_time": "2022-02-11T00:23:23.111Z"
   },
   {
    "duration": 384,
    "start_time": "2022-02-11T00:23:23.120Z"
   },
   {
    "duration": 3208,
    "start_time": "2022-02-11T00:23:23.507Z"
   },
   {
    "duration": 577,
    "start_time": "2022-02-11T00:23:26.717Z"
   },
   {
    "duration": 6,
    "start_time": "2022-02-11T00:23:27.297Z"
   },
   {
    "duration": 799,
    "start_time": "2022-02-11T00:23:27.305Z"
   },
   {
    "duration": 778,
    "start_time": "2022-02-11T00:23:28.107Z"
   },
   {
    "duration": 825,
    "start_time": "2022-02-11T00:23:28.887Z"
   },
   {
    "duration": 14,
    "start_time": "2022-02-11T00:23:29.714Z"
   },
   {
    "duration": 385,
    "start_time": "2022-02-11T00:23:29.731Z"
   },
   {
    "duration": 15,
    "start_time": "2022-02-11T00:23:30.118Z"
   },
   {
    "duration": 285,
    "start_time": "2022-02-11T00:23:30.135Z"
   },
   {
    "duration": 13,
    "start_time": "2022-02-11T00:23:30.422Z"
   },
   {
    "duration": 269,
    "start_time": "2022-02-11T00:23:30.437Z"
   },
   {
    "duration": 15,
    "start_time": "2022-02-11T00:23:30.708Z"
   },
   {
    "duration": 281,
    "start_time": "2022-02-11T00:23:52.568Z"
   },
   {
    "duration": 14,
    "start_time": "2022-02-11T00:24:42.650Z"
   },
   {
    "duration": 4,
    "start_time": "2022-02-11T00:29:43.529Z"
   },
   {
    "duration": 4,
    "start_time": "2022-02-11T00:32:26.266Z"
   },
   {
    "duration": 442,
    "start_time": "2022-02-11T00:33:02.512Z"
   },
   {
    "duration": 4,
    "start_time": "2022-02-11T00:33:16.358Z"
   },
   {
    "duration": 1536,
    "start_time": "2022-02-11T00:33:20.533Z"
   },
   {
    "duration": 46,
    "start_time": "2022-02-11T00:33:22.072Z"
   },
   {
    "duration": 53,
    "start_time": "2022-02-11T00:33:22.121Z"
   },
   {
    "duration": 43,
    "start_time": "2022-02-11T00:33:22.176Z"
   },
   {
    "duration": 11,
    "start_time": "2022-02-11T00:33:22.222Z"
   },
   {
    "duration": 42,
    "start_time": "2022-02-11T00:33:22.235Z"
   },
   {
    "duration": 22,
    "start_time": "2022-02-11T00:33:22.279Z"
   },
   {
    "duration": 22,
    "start_time": "2022-02-11T00:33:22.308Z"
   },
   {
    "duration": 9,
    "start_time": "2022-02-11T00:33:22.371Z"
   },
   {
    "duration": 13,
    "start_time": "2022-02-11T00:33:22.383Z"
   },
   {
    "duration": 17,
    "start_time": "2022-02-11T00:33:22.399Z"
   },
   {
    "duration": 79,
    "start_time": "2022-02-11T00:33:22.419Z"
   },
   {
    "duration": 8,
    "start_time": "2022-02-11T00:33:22.501Z"
   },
   {
    "duration": 80,
    "start_time": "2022-02-11T00:33:22.511Z"
   },
   {
    "duration": 8,
    "start_time": "2022-02-11T00:33:22.594Z"
   },
   {
    "duration": 7,
    "start_time": "2022-02-11T00:33:22.604Z"
   },
   {
    "duration": 15,
    "start_time": "2022-02-11T00:33:22.613Z"
   },
   {
    "duration": 45,
    "start_time": "2022-02-11T00:33:22.630Z"
   },
   {
    "duration": 8,
    "start_time": "2022-02-11T00:33:22.677Z"
   },
   {
    "duration": 21,
    "start_time": "2022-02-11T00:33:22.688Z"
   },
   {
    "duration": 25,
    "start_time": "2022-02-11T00:33:22.712Z"
   },
   {
    "duration": 452,
    "start_time": "2022-02-11T00:33:22.770Z"
   },
   {
    "duration": 583,
    "start_time": "2022-02-11T00:33:23.227Z"
   },
   {
    "duration": 644,
    "start_time": "2022-02-11T00:33:23.813Z"
   },
   {
    "duration": 913,
    "start_time": "2022-02-11T00:33:24.460Z"
   },
   {
    "duration": 6,
    "start_time": "2022-02-11T00:33:25.375Z"
   },
   {
    "duration": 546,
    "start_time": "2022-02-11T00:33:25.384Z"
   },
   {
    "duration": 640,
    "start_time": "2022-02-11T00:33:25.932Z"
   },
   {
    "duration": 554,
    "start_time": "2022-02-11T00:33:26.575Z"
   },
   {
    "duration": 10,
    "start_time": "2022-02-11T00:33:27.131Z"
   },
   {
    "duration": 9,
    "start_time": "2022-02-11T00:33:27.143Z"
   },
   {
    "duration": 475,
    "start_time": "2022-02-11T00:33:27.155Z"
   },
   {
    "duration": 485,
    "start_time": "2022-02-11T00:33:27.633Z"
   },
   {
    "duration": 7,
    "start_time": "2022-02-11T00:33:28.121Z"
   },
   {
    "duration": 385,
    "start_time": "2022-02-11T00:33:28.131Z"
   },
   {
    "duration": 3231,
    "start_time": "2022-02-11T00:33:28.518Z"
   },
   {
    "duration": 473,
    "start_time": "2022-02-11T00:33:31.752Z"
   },
   {
    "duration": 5,
    "start_time": "2022-02-11T00:33:32.228Z"
   },
   {
    "duration": 807,
    "start_time": "2022-02-11T00:33:32.236Z"
   },
   {
    "duration": 788,
    "start_time": "2022-02-11T00:33:33.045Z"
   },
   {
    "duration": 800,
    "start_time": "2022-02-11T00:33:33.836Z"
   },
   {
    "duration": 14,
    "start_time": "2022-02-11T00:33:34.639Z"
   },
   {
    "duration": 383,
    "start_time": "2022-02-11T00:33:34.670Z"
   },
   {
    "duration": 26,
    "start_time": "2022-02-11T00:33:35.055Z"
   },
   {
    "duration": 275,
    "start_time": "2022-02-11T00:33:35.083Z"
   },
   {
    "duration": 17,
    "start_time": "2022-02-11T00:33:35.360Z"
   },
   {
    "duration": 273,
    "start_time": "2022-02-11T00:33:35.380Z"
   },
   {
    "duration": 22,
    "start_time": "2022-02-11T00:33:35.655Z"
   },
   {
    "duration": 254,
    "start_time": "2022-02-11T00:33:35.679Z"
   },
   {
    "duration": 34,
    "start_time": "2022-02-11T00:33:35.935Z"
   },
   {
    "duration": 4,
    "start_time": "2022-02-11T00:33:35.972Z"
   },
   {
    "duration": 21,
    "start_time": "2022-02-11T00:33:35.978Z"
   },
   {
    "duration": 12,
    "start_time": "2022-02-11T00:33:36.002Z"
   },
   {
    "duration": 1443,
    "start_time": "2022-02-11T00:38:17.222Z"
   },
   {
    "duration": 44,
    "start_time": "2022-02-11T00:38:18.670Z"
   },
   {
    "duration": 35,
    "start_time": "2022-02-11T00:38:18.717Z"
   },
   {
    "duration": 43,
    "start_time": "2022-02-11T00:38:18.770Z"
   },
   {
    "duration": 10,
    "start_time": "2022-02-11T00:38:18.815Z"
   },
   {
    "duration": 41,
    "start_time": "2022-02-11T00:38:18.828Z"
   },
   {
    "duration": 21,
    "start_time": "2022-02-11T00:38:18.872Z"
   },
   {
    "duration": 22,
    "start_time": "2022-02-11T00:38:18.897Z"
   },
   {
    "duration": 7,
    "start_time": "2022-02-11T00:38:18.922Z"
   },
   {
    "duration": 44,
    "start_time": "2022-02-11T00:38:18.932Z"
   },
   {
    "duration": 11,
    "start_time": "2022-02-11T00:38:18.978Z"
   },
   {
    "duration": 40,
    "start_time": "2022-02-11T00:38:18.992Z"
   },
   {
    "duration": 8,
    "start_time": "2022-02-11T00:38:19.070Z"
   },
   {
    "duration": 50,
    "start_time": "2022-02-11T00:38:19.081Z"
   },
   {
    "duration": 44,
    "start_time": "2022-02-11T00:38:19.134Z"
   },
   {
    "duration": 8,
    "start_time": "2022-02-11T00:38:19.181Z"
   },
   {
    "duration": 12,
    "start_time": "2022-02-11T00:38:19.191Z"
   },
   {
    "duration": 10,
    "start_time": "2022-02-11T00:38:19.205Z"
   },
   {
    "duration": 54,
    "start_time": "2022-02-11T00:38:19.217Z"
   },
   {
    "duration": 22,
    "start_time": "2022-02-11T00:38:19.273Z"
   },
   {
    "duration": 26,
    "start_time": "2022-02-11T00:38:19.298Z"
   },
   {
    "duration": 477,
    "start_time": "2022-02-11T00:38:19.326Z"
   },
   {
    "duration": 591,
    "start_time": "2022-02-11T00:38:19.808Z"
   },
   {
    "duration": 644,
    "start_time": "2022-02-11T00:38:20.402Z"
   },
   {
    "duration": 21,
    "start_time": "2022-02-11T00:38:21.048Z"
   },
   {
    "duration": 445,
    "start_time": "2022-02-11T00:38:21.071Z"
   },
   {
    "duration": 703,
    "start_time": "2022-02-11T00:38:20.816Z"
   },
   {
    "duration": 699,
    "start_time": "2022-02-11T00:38:20.821Z"
   },
   {
    "duration": 696,
    "start_time": "2022-02-11T00:38:20.825Z"
   },
   {
    "duration": 695,
    "start_time": "2022-02-11T00:38:20.828Z"
   },
   {
    "duration": 692,
    "start_time": "2022-02-11T00:38:20.832Z"
   },
   {
    "duration": 690,
    "start_time": "2022-02-11T00:38:20.835Z"
   },
   {
    "duration": 688,
    "start_time": "2022-02-11T00:38:20.839Z"
   },
   {
    "duration": 687,
    "start_time": "2022-02-11T00:38:20.841Z"
   },
   {
    "duration": 685,
    "start_time": "2022-02-11T00:38:20.844Z"
   },
   {
    "duration": 683,
    "start_time": "2022-02-11T00:38:20.847Z"
   },
   {
    "duration": 674,
    "start_time": "2022-02-11T00:38:20.857Z"
   },
   {
    "duration": 673,
    "start_time": "2022-02-11T00:38:20.860Z"
   },
   {
    "duration": 671,
    "start_time": "2022-02-11T00:38:20.863Z"
   },
   {
    "duration": 669,
    "start_time": "2022-02-11T00:38:20.866Z"
   },
   {
    "duration": 666,
    "start_time": "2022-02-11T00:38:20.870Z"
   },
   {
    "duration": 665,
    "start_time": "2022-02-11T00:38:20.873Z"
   },
   {
    "duration": 663,
    "start_time": "2022-02-11T00:38:20.876Z"
   },
   {
    "duration": 661,
    "start_time": "2022-02-11T00:38:20.879Z"
   },
   {
    "duration": 660,
    "start_time": "2022-02-11T00:38:20.882Z"
   },
   {
    "duration": 658,
    "start_time": "2022-02-11T00:38:20.885Z"
   },
   {
    "duration": 655,
    "start_time": "2022-02-11T00:38:20.889Z"
   },
   {
    "duration": 649,
    "start_time": "2022-02-11T00:38:20.897Z"
   },
   {
    "duration": 646,
    "start_time": "2022-02-11T00:38:20.901Z"
   },
   {
    "duration": 640,
    "start_time": "2022-02-11T00:38:20.909Z"
   },
   {
    "duration": 635,
    "start_time": "2022-02-11T00:38:20.915Z"
   },
   {
    "duration": 632,
    "start_time": "2022-02-11T00:38:20.920Z"
   },
   {
    "duration": 624,
    "start_time": "2022-02-11T00:38:20.930Z"
   },
   {
    "duration": 620,
    "start_time": "2022-02-11T00:38:20.935Z"
   },
   {
    "duration": 1504,
    "start_time": "2022-02-11T00:39:00.074Z"
   },
   {
    "duration": 47,
    "start_time": "2022-02-11T00:39:01.581Z"
   },
   {
    "duration": 53,
    "start_time": "2022-02-11T00:39:01.631Z"
   },
   {
    "duration": 46,
    "start_time": "2022-02-11T00:39:01.687Z"
   },
   {
    "duration": 39,
    "start_time": "2022-02-11T00:39:01.736Z"
   },
   {
    "duration": 14,
    "start_time": "2022-02-11T00:39:01.778Z"
   },
   {
    "duration": 23,
    "start_time": "2022-02-11T00:39:01.795Z"
   },
   {
    "duration": 57,
    "start_time": "2022-02-11T00:39:01.822Z"
   },
   {
    "duration": 7,
    "start_time": "2022-02-11T00:39:01.882Z"
   },
   {
    "duration": 15,
    "start_time": "2022-02-11T00:39:01.892Z"
   },
   {
    "duration": 11,
    "start_time": "2022-02-11T00:39:01.910Z"
   },
   {
    "duration": 72,
    "start_time": "2022-02-11T00:39:01.923Z"
   },
   {
    "duration": 6,
    "start_time": "2022-02-11T00:39:01.998Z"
   },
   {
    "duration": 75,
    "start_time": "2022-02-11T00:39:02.007Z"
   },
   {
    "duration": 22,
    "start_time": "2022-02-11T00:39:02.084Z"
   },
   {
    "duration": 10,
    "start_time": "2022-02-11T00:39:02.108Z"
   },
   {
    "duration": 19,
    "start_time": "2022-02-11T00:39:02.121Z"
   },
   {
    "duration": 32,
    "start_time": "2022-02-11T00:39:02.143Z"
   },
   {
    "duration": 18,
    "start_time": "2022-02-11T00:39:02.178Z"
   },
   {
    "duration": 32,
    "start_time": "2022-02-11T00:39:02.199Z"
   },
   {
    "duration": 38,
    "start_time": "2022-02-11T00:39:02.234Z"
   },
   {
    "duration": 472,
    "start_time": "2022-02-11T00:39:02.275Z"
   },
   {
    "duration": 600,
    "start_time": "2022-02-11T00:39:02.755Z"
   },
   {
    "duration": 664,
    "start_time": "2022-02-11T00:39:03.359Z"
   },
   {
    "duration": 8,
    "start_time": "2022-02-11T00:39:04.026Z"
   },
   {
    "duration": 935,
    "start_time": "2022-02-11T00:39:04.037Z"
   },
   {
    "duration": 6,
    "start_time": "2022-02-11T00:39:04.974Z"
   },
   {
    "duration": 553,
    "start_time": "2022-02-11T00:39:04.982Z"
   },
   {
    "duration": 616,
    "start_time": "2022-02-11T00:39:05.538Z"
   },
   {
    "duration": 558,
    "start_time": "2022-02-11T00:39:06.157Z"
   },
   {
    "duration": 11,
    "start_time": "2022-02-11T00:39:06.719Z"
   },
   {
    "duration": 9,
    "start_time": "2022-02-11T00:39:06.733Z"
   },
   {
    "duration": 506,
    "start_time": "2022-02-11T00:39:06.745Z"
   },
   {
    "duration": 492,
    "start_time": "2022-02-11T00:39:07.253Z"
   },
   {
    "duration": 6,
    "start_time": "2022-02-11T00:39:07.747Z"
   },
   {
    "duration": 396,
    "start_time": "2022-02-11T00:39:07.756Z"
   },
   {
    "duration": 2721,
    "start_time": "2022-02-11T00:39:08.155Z"
   },
   {
    "duration": 690,
    "start_time": "2022-02-11T00:39:10.189Z"
   },
   {
    "duration": 687,
    "start_time": "2022-02-11T00:39:10.193Z"
   },
   {
    "duration": 686,
    "start_time": "2022-02-11T00:39:10.196Z"
   },
   {
    "duration": 684,
    "start_time": "2022-02-11T00:39:10.199Z"
   },
   {
    "duration": 682,
    "start_time": "2022-02-11T00:39:10.202Z"
   },
   {
    "duration": 681,
    "start_time": "2022-02-11T00:39:10.205Z"
   },
   {
    "duration": 679,
    "start_time": "2022-02-11T00:39:10.208Z"
   },
   {
    "duration": 676,
    "start_time": "2022-02-11T00:39:10.212Z"
   },
   {
    "duration": 675,
    "start_time": "2022-02-11T00:39:10.215Z"
   },
   {
    "duration": 673,
    "start_time": "2022-02-11T00:39:10.218Z"
   },
   {
    "duration": 672,
    "start_time": "2022-02-11T00:39:10.220Z"
   },
   {
    "duration": 671,
    "start_time": "2022-02-11T00:39:10.223Z"
   },
   {
    "duration": 668,
    "start_time": "2022-02-11T00:39:10.227Z"
   },
   {
    "duration": 640,
    "start_time": "2022-02-11T00:39:10.256Z"
   },
   {
    "duration": 636,
    "start_time": "2022-02-11T00:39:10.262Z"
   },
   {
    "duration": 634,
    "start_time": "2022-02-11T00:39:10.265Z"
   },
   {
    "duration": 631,
    "start_time": "2022-02-11T00:39:10.269Z"
   },
   {
    "duration": 1504,
    "start_time": "2022-02-11T00:47:22.068Z"
   },
   {
    "duration": 44,
    "start_time": "2022-02-11T00:47:23.575Z"
   },
   {
    "duration": 50,
    "start_time": "2022-02-11T00:47:23.622Z"
   },
   {
    "duration": 43,
    "start_time": "2022-02-11T00:47:23.674Z"
   },
   {
    "duration": 11,
    "start_time": "2022-02-11T00:47:23.719Z"
   },
   {
    "duration": 45,
    "start_time": "2022-02-11T00:47:23.732Z"
   },
   {
    "duration": 20,
    "start_time": "2022-02-11T00:47:23.780Z"
   },
   {
    "duration": 23,
    "start_time": "2022-02-11T00:47:23.803Z"
   },
   {
    "duration": 7,
    "start_time": "2022-02-11T00:47:23.830Z"
   },
   {
    "duration": 9,
    "start_time": "2022-02-11T00:47:23.869Z"
   },
   {
    "duration": 16,
    "start_time": "2022-02-11T00:47:23.881Z"
   },
   {
    "duration": 38,
    "start_time": "2022-02-11T00:47:23.899Z"
   },
   {
    "duration": 7,
    "start_time": "2022-02-11T00:47:23.969Z"
   },
   {
    "duration": 46,
    "start_time": "2022-02-11T00:47:23.978Z"
   },
   {
    "duration": 7,
    "start_time": "2022-02-11T00:47:24.027Z"
   },
   {
    "duration": 7,
    "start_time": "2022-02-11T00:47:24.074Z"
   },
   {
    "duration": 13,
    "start_time": "2022-02-11T00:47:24.083Z"
   },
   {
    "duration": 9,
    "start_time": "2022-02-11T00:47:24.099Z"
   },
   {
    "duration": 7,
    "start_time": "2022-02-11T00:47:24.110Z"
   },
   {
    "duration": 62,
    "start_time": "2022-02-11T00:47:24.120Z"
   },
   {
    "duration": 26,
    "start_time": "2022-02-11T00:47:24.184Z"
   },
   {
    "duration": 476,
    "start_time": "2022-02-11T00:47:24.212Z"
   },
   {
    "duration": 591,
    "start_time": "2022-02-11T00:47:24.691Z"
   },
   {
    "duration": 638,
    "start_time": "2022-02-11T00:47:25.284Z"
   },
   {
    "duration": 9,
    "start_time": "2022-02-11T00:47:25.924Z"
   },
   {
    "duration": 939,
    "start_time": "2022-02-11T00:47:25.935Z"
   },
   {
    "duration": 6,
    "start_time": "2022-02-11T00:47:26.880Z"
   },
   {
    "duration": 543,
    "start_time": "2022-02-11T00:47:26.889Z"
   },
   {
    "duration": 613,
    "start_time": "2022-02-11T00:47:27.434Z"
   },
   {
    "duration": 563,
    "start_time": "2022-02-11T00:47:28.050Z"
   },
   {
    "duration": 11,
    "start_time": "2022-02-11T00:47:28.616Z"
   },
   {
    "duration": 5,
    "start_time": "2022-02-11T00:47:28.629Z"
   },
   {
    "duration": 492,
    "start_time": "2022-02-11T00:47:28.636Z"
   },
   {
    "duration": 524,
    "start_time": "2022-02-11T00:47:29.130Z"
   },
   {
    "duration": 15,
    "start_time": "2022-02-11T00:47:29.657Z"
   },
   {
    "duration": 375,
    "start_time": "2022-02-11T00:47:29.675Z"
   },
   {
    "duration": 2622,
    "start_time": "2022-02-11T00:47:30.053Z"
   },
   {
    "duration": 684,
    "start_time": "2022-02-11T00:47:31.994Z"
   },
   {
    "duration": 674,
    "start_time": "2022-02-11T00:47:32.005Z"
   },
   {
    "duration": 672,
    "start_time": "2022-02-11T00:47:32.009Z"
   },
   {
    "duration": 671,
    "start_time": "2022-02-11T00:47:32.011Z"
   },
   {
    "duration": 662,
    "start_time": "2022-02-11T00:47:32.022Z"
   },
   {
    "duration": 659,
    "start_time": "2022-02-11T00:47:32.026Z"
   },
   {
    "duration": 657,
    "start_time": "2022-02-11T00:47:32.030Z"
   },
   {
    "duration": 649,
    "start_time": "2022-02-11T00:47:32.039Z"
   },
   {
    "duration": 646,
    "start_time": "2022-02-11T00:47:32.044Z"
   },
   {
    "duration": 643,
    "start_time": "2022-02-11T00:47:32.048Z"
   },
   {
    "duration": 634,
    "start_time": "2022-02-11T00:47:32.058Z"
   },
   {
    "duration": 631,
    "start_time": "2022-02-11T00:47:32.063Z"
   },
   {
    "duration": 614,
    "start_time": "2022-02-11T00:47:32.081Z"
   },
   {
    "duration": 606,
    "start_time": "2022-02-11T00:47:32.091Z"
   },
   {
    "duration": 602,
    "start_time": "2022-02-11T00:47:32.096Z"
   },
   {
    "duration": 593,
    "start_time": "2022-02-11T00:47:32.107Z"
   },
   {
    "duration": 590,
    "start_time": "2022-02-11T00:47:32.111Z"
   },
   {
    "duration": 548,
    "start_time": "2022-02-11T00:47:44.801Z"
   },
   {
    "duration": 1460,
    "start_time": "2022-02-11T00:47:51.798Z"
   },
   {
    "duration": 43,
    "start_time": "2022-02-11T00:47:53.260Z"
   },
   {
    "duration": 35,
    "start_time": "2022-02-11T00:47:53.307Z"
   },
   {
    "duration": 65,
    "start_time": "2022-02-11T00:47:53.345Z"
   },
   {
    "duration": 11,
    "start_time": "2022-02-11T00:47:53.412Z"
   },
   {
    "duration": 12,
    "start_time": "2022-02-11T00:47:53.426Z"
   },
   {
    "duration": 22,
    "start_time": "2022-02-11T00:47:53.470Z"
   },
   {
    "duration": 22,
    "start_time": "2022-02-11T00:47:53.496Z"
   },
   {
    "duration": 8,
    "start_time": "2022-02-11T00:47:53.521Z"
   },
   {
    "duration": 41,
    "start_time": "2022-02-11T00:47:53.531Z"
   },
   {
    "duration": 14,
    "start_time": "2022-02-11T00:47:53.575Z"
   },
   {
    "duration": 37,
    "start_time": "2022-02-11T00:47:53.592Z"
   },
   {
    "duration": 40,
    "start_time": "2022-02-11T00:47:53.631Z"
   },
   {
    "duration": 49,
    "start_time": "2022-02-11T00:47:53.674Z"
   },
   {
    "duration": 8,
    "start_time": "2022-02-11T00:47:53.726Z"
   },
   {
    "duration": 35,
    "start_time": "2022-02-11T00:47:53.737Z"
   },
   {
    "duration": 14,
    "start_time": "2022-02-11T00:47:53.775Z"
   },
   {
    "duration": 11,
    "start_time": "2022-02-11T00:47:53.791Z"
   },
   {
    "duration": 8,
    "start_time": "2022-02-11T00:47:53.804Z"
   },
   {
    "duration": 62,
    "start_time": "2022-02-11T00:47:53.815Z"
   },
   {
    "duration": 26,
    "start_time": "2022-02-11T00:47:53.880Z"
   },
   {
    "duration": 468,
    "start_time": "2022-02-11T00:47:53.908Z"
   },
   {
    "duration": 590,
    "start_time": "2022-02-11T00:47:54.381Z"
   },
   {
    "duration": 625,
    "start_time": "2022-02-11T00:47:54.974Z"
   },
   {
    "duration": 9,
    "start_time": "2022-02-11T00:47:55.601Z"
   },
   {
    "duration": 931,
    "start_time": "2022-02-11T00:47:55.613Z"
   },
   {
    "duration": 7,
    "start_time": "2022-02-11T00:47:56.546Z"
   },
   {
    "duration": 533,
    "start_time": "2022-02-11T00:47:56.555Z"
   },
   {
    "duration": 610,
    "start_time": "2022-02-11T00:47:57.091Z"
   },
   {
    "duration": 569,
    "start_time": "2022-02-11T00:47:57.704Z"
   },
   {
    "duration": 9,
    "start_time": "2022-02-11T00:47:58.276Z"
   },
   {
    "duration": 9,
    "start_time": "2022-02-11T00:47:58.288Z"
   },
   {
    "duration": 470,
    "start_time": "2022-02-11T00:47:58.299Z"
   },
   {
    "duration": 473,
    "start_time": "2022-02-11T00:47:58.772Z"
   },
   {
    "duration": 7,
    "start_time": "2022-02-11T00:47:59.248Z"
   },
   {
    "duration": 391,
    "start_time": "2022-02-11T00:47:59.269Z"
   },
   {
    "duration": 2599,
    "start_time": "2022-02-11T00:47:59.669Z"
   },
   {
    "duration": 693,
    "start_time": "2022-02-11T00:48:01.577Z"
   },
   {
    "duration": 683,
    "start_time": "2022-02-11T00:48:01.589Z"
   },
   {
    "duration": 679,
    "start_time": "2022-02-11T00:48:01.594Z"
   },
   {
    "duration": 670,
    "start_time": "2022-02-11T00:48:01.604Z"
   },
   {
    "duration": 668,
    "start_time": "2022-02-11T00:48:01.608Z"
   },
   {
    "duration": 659,
    "start_time": "2022-02-11T00:48:01.618Z"
   },
   {
    "duration": 657,
    "start_time": "2022-02-11T00:48:01.622Z"
   },
   {
    "duration": 655,
    "start_time": "2022-02-11T00:48:01.625Z"
   },
   {
    "duration": 646,
    "start_time": "2022-02-11T00:48:01.635Z"
   },
   {
    "duration": 644,
    "start_time": "2022-02-11T00:48:01.639Z"
   },
   {
    "duration": 641,
    "start_time": "2022-02-11T00:48:01.643Z"
   },
   {
    "duration": 634,
    "start_time": "2022-02-11T00:48:01.652Z"
   },
   {
    "duration": 632,
    "start_time": "2022-02-11T00:48:01.656Z"
   },
   {
    "duration": 629,
    "start_time": "2022-02-11T00:48:01.660Z"
   },
   {
    "duration": 622,
    "start_time": "2022-02-11T00:48:01.669Z"
   },
   {
    "duration": 619,
    "start_time": "2022-02-11T00:48:01.673Z"
   },
   {
    "duration": 617,
    "start_time": "2022-02-11T00:48:01.676Z"
   },
   {
    "duration": 1442,
    "start_time": "2022-02-11T00:48:25.316Z"
   },
   {
    "duration": 44,
    "start_time": "2022-02-11T00:48:27.759Z"
   },
   {
    "duration": 36,
    "start_time": "2022-02-11T00:48:27.926Z"
   },
   {
    "duration": 44,
    "start_time": "2022-02-11T00:48:28.098Z"
   },
   {
    "duration": 11,
    "start_time": "2022-02-11T00:48:28.862Z"
   },
   {
    "duration": 13,
    "start_time": "2022-02-11T00:48:28.936Z"
   },
   {
    "duration": 23,
    "start_time": "2022-02-11T00:48:28.994Z"
   },
   {
    "duration": 21,
    "start_time": "2022-02-11T00:48:29.665Z"
   },
   {
    "duration": 7,
    "start_time": "2022-02-11T00:48:29.738Z"
   },
   {
    "duration": 9,
    "start_time": "2022-02-11T00:48:29.798Z"
   },
   {
    "duration": 10,
    "start_time": "2022-02-11T00:48:29.868Z"
   },
   {
    "duration": 37,
    "start_time": "2022-02-11T00:48:29.949Z"
   },
   {
    "duration": 7,
    "start_time": "2022-02-11T00:48:30.009Z"
   },
   {
    "duration": 49,
    "start_time": "2022-02-11T00:48:30.111Z"
   },
   {
    "duration": 9,
    "start_time": "2022-02-11T00:48:30.175Z"
   },
   {
    "duration": 7,
    "start_time": "2022-02-11T00:48:30.245Z"
   },
   {
    "duration": 16,
    "start_time": "2022-02-11T00:48:30.315Z"
   },
   {
    "duration": 11,
    "start_time": "2022-02-11T00:48:30.388Z"
   },
   {
    "duration": 6,
    "start_time": "2022-02-11T00:48:30.449Z"
   },
   {
    "duration": 23,
    "start_time": "2022-02-11T00:48:30.519Z"
   },
   {
    "duration": 26,
    "start_time": "2022-02-11T00:48:30.590Z"
   },
   {
    "duration": 481,
    "start_time": "2022-02-11T00:48:30.758Z"
   },
   {
    "duration": 644,
    "start_time": "2022-02-11T00:48:31.243Z"
   },
   {
    "duration": 654,
    "start_time": "2022-02-11T00:48:31.891Z"
   },
   {
    "duration": 22,
    "start_time": "2022-02-11T00:48:32.548Z"
   },
   {
    "duration": 939,
    "start_time": "2022-02-11T00:48:32.574Z"
   },
   {
    "duration": 5,
    "start_time": "2022-02-11T00:48:33.516Z"
   },
   {
    "duration": 539,
    "start_time": "2022-02-11T00:48:33.523Z"
   },
   {
    "duration": 607,
    "start_time": "2022-02-11T00:48:34.070Z"
   },
   {
    "duration": 576,
    "start_time": "2022-02-11T00:48:34.679Z"
   },
   {
    "duration": 16,
    "start_time": "2022-02-11T00:48:35.258Z"
   },
   {
    "duration": 6,
    "start_time": "2022-02-11T00:48:35.277Z"
   },
   {
    "duration": 465,
    "start_time": "2022-02-11T00:48:35.285Z"
   },
   {
    "duration": 468,
    "start_time": "2022-02-11T00:48:35.753Z"
   },
   {
    "duration": 7,
    "start_time": "2022-02-11T00:48:36.224Z"
   },
   {
    "duration": 387,
    "start_time": "2022-02-11T00:48:36.233Z"
   },
   {
    "duration": 2563,
    "start_time": "2022-02-11T00:48:36.623Z"
   },
   {
    "duration": 556,
    "start_time": "2022-02-11T00:48:40.191Z"
   },
   {
    "duration": 5,
    "start_time": "2022-02-11T00:49:33.373Z"
   },
   {
    "duration": 777,
    "start_time": "2022-02-11T00:49:34.979Z"
   },
   {
    "duration": 811,
    "start_time": "2022-02-11T00:49:36.724Z"
   },
   {
    "duration": 761,
    "start_time": "2022-02-11T00:49:38.102Z"
   },
   {
    "duration": 13,
    "start_time": "2022-02-11T00:49:54.923Z"
   },
   {
    "duration": 260,
    "start_time": "2022-02-11T00:49:57.768Z"
   },
   {
    "duration": 12,
    "start_time": "2022-02-11T00:50:11.422Z"
   },
   {
    "duration": 273,
    "start_time": "2022-02-11T00:50:29.953Z"
   },
   {
    "duration": 13,
    "start_time": "2022-02-11T00:50:35.696Z"
   },
   {
    "duration": 235,
    "start_time": "2022-02-11T00:50:50.681Z"
   },
   {
    "duration": 15,
    "start_time": "2022-02-11T00:51:01.838Z"
   },
   {
    "duration": 233,
    "start_time": "2022-02-11T00:51:33.304Z"
   },
   {
    "duration": 13,
    "start_time": "2022-02-11T00:51:49.309Z"
   },
   {
    "duration": 4,
    "start_time": "2022-02-11T00:52:11.210Z"
   },
   {
    "duration": 4,
    "start_time": "2022-02-11T00:52:13.649Z"
   },
   {
    "duration": 6,
    "start_time": "2022-02-11T00:52:14.365Z"
   },
   {
    "duration": 4,
    "start_time": "2022-02-11T00:54:07.866Z"
   },
   {
    "duration": 7,
    "start_time": "2022-02-11T00:54:23.940Z"
   },
   {
    "duration": 1470,
    "start_time": "2022-02-11T01:00:53.206Z"
   },
   {
    "duration": 44,
    "start_time": "2022-02-11T01:00:54.679Z"
   },
   {
    "duration": 50,
    "start_time": "2022-02-11T01:00:54.726Z"
   },
   {
    "duration": 44,
    "start_time": "2022-02-11T01:00:54.779Z"
   },
   {
    "duration": 12,
    "start_time": "2022-02-11T01:00:54.825Z"
   },
   {
    "duration": 15,
    "start_time": "2022-02-11T01:00:54.868Z"
   },
   {
    "duration": 21,
    "start_time": "2022-02-11T01:00:54.885Z"
   },
   {
    "duration": 21,
    "start_time": "2022-02-11T01:00:54.910Z"
   },
   {
    "duration": 40,
    "start_time": "2022-02-11T01:00:54.934Z"
   },
   {
    "duration": 12,
    "start_time": "2022-02-11T01:00:54.977Z"
   },
   {
    "duration": 11,
    "start_time": "2022-02-11T01:00:54.992Z"
   },
   {
    "duration": 82,
    "start_time": "2022-02-11T01:00:55.006Z"
   },
   {
    "duration": 6,
    "start_time": "2022-02-11T01:00:55.090Z"
   },
   {
    "duration": 72,
    "start_time": "2022-02-11T01:00:55.099Z"
   },
   {
    "duration": 9,
    "start_time": "2022-02-11T01:00:55.173Z"
   },
   {
    "duration": 6,
    "start_time": "2022-02-11T01:00:55.184Z"
   },
   {
    "duration": 13,
    "start_time": "2022-02-11T01:00:55.193Z"
   },
   {
    "duration": 10,
    "start_time": "2022-02-11T01:00:55.209Z"
   },
   {
    "duration": 54,
    "start_time": "2022-02-11T01:00:55.221Z"
   },
   {
    "duration": 22,
    "start_time": "2022-02-11T01:00:55.277Z"
   },
   {
    "duration": 26,
    "start_time": "2022-02-11T01:00:55.301Z"
   },
   {
    "duration": 480,
    "start_time": "2022-02-11T01:00:55.330Z"
   },
   {
    "duration": 591,
    "start_time": "2022-02-11T01:00:55.815Z"
   },
   {
    "duration": 649,
    "start_time": "2022-02-11T01:00:56.410Z"
   },
   {
    "duration": 14,
    "start_time": "2022-02-11T01:00:57.061Z"
   },
   {
    "duration": 929,
    "start_time": "2022-02-11T01:00:57.077Z"
   },
   {
    "duration": 6,
    "start_time": "2022-02-11T01:00:58.008Z"
   },
   {
    "duration": 554,
    "start_time": "2022-02-11T01:00:58.017Z"
   },
   {
    "duration": 598,
    "start_time": "2022-02-11T01:00:58.574Z"
   },
   {
    "duration": 580,
    "start_time": "2022-02-11T01:00:59.175Z"
   },
   {
    "duration": 17,
    "start_time": "2022-02-11T01:00:59.757Z"
   },
   {
    "duration": 4,
    "start_time": "2022-02-11T01:00:59.776Z"
   },
   {
    "duration": 468,
    "start_time": "2022-02-11T01:00:59.783Z"
   },
   {
    "duration": 487,
    "start_time": "2022-02-11T01:01:00.254Z"
   },
   {
    "duration": 7,
    "start_time": "2022-02-11T01:01:00.743Z"
   },
   {
    "duration": 398,
    "start_time": "2022-02-11T01:01:00.752Z"
   },
   {
    "duration": 2491,
    "start_time": "2022-02-11T01:01:01.153Z"
   },
   {
    "duration": 692,
    "start_time": "2022-02-11T01:01:02.955Z"
   },
   {
    "duration": 688,
    "start_time": "2022-02-11T01:01:02.960Z"
   },
   {
    "duration": 685,
    "start_time": "2022-02-11T01:01:02.964Z"
   },
   {
    "duration": 684,
    "start_time": "2022-02-11T01:01:02.967Z"
   },
   {
    "duration": 682,
    "start_time": "2022-02-11T01:01:02.970Z"
   },
   {
    "duration": 680,
    "start_time": "2022-02-11T01:01:02.973Z"
   },
   {
    "duration": 679,
    "start_time": "2022-02-11T01:01:02.976Z"
   },
   {
    "duration": 676,
    "start_time": "2022-02-11T01:01:02.980Z"
   },
   {
    "duration": 674,
    "start_time": "2022-02-11T01:01:02.983Z"
   },
   {
    "duration": 671,
    "start_time": "2022-02-11T01:01:02.987Z"
   },
   {
    "duration": 669,
    "start_time": "2022-02-11T01:01:02.990Z"
   },
   {
    "duration": 668,
    "start_time": "2022-02-11T01:01:02.993Z"
   },
   {
    "duration": 666,
    "start_time": "2022-02-11T01:01:02.996Z"
   },
   {
    "duration": 658,
    "start_time": "2022-02-11T01:01:03.005Z"
   },
   {
    "duration": 656,
    "start_time": "2022-02-11T01:01:03.008Z"
   },
   {
    "duration": 655,
    "start_time": "2022-02-11T01:01:03.011Z"
   },
   {
    "duration": 653,
    "start_time": "2022-02-11T01:01:03.014Z"
   },
   {
    "duration": 651,
    "start_time": "2022-02-11T01:01:03.017Z"
   },
   {
    "duration": 650,
    "start_time": "2022-02-11T01:01:03.020Z"
   },
   {
    "duration": 2515,
    "start_time": "2022-02-11T01:01:47.988Z"
   },
   {
    "duration": 1476,
    "start_time": "2022-02-11T01:02:34.687Z"
   },
   {
    "duration": 44,
    "start_time": "2022-02-11T01:02:36.165Z"
   },
   {
    "duration": 36,
    "start_time": "2022-02-11T01:02:36.212Z"
   },
   {
    "duration": 49,
    "start_time": "2022-02-11T01:02:36.269Z"
   },
   {
    "duration": 10,
    "start_time": "2022-02-11T01:02:36.320Z"
   },
   {
    "duration": 42,
    "start_time": "2022-02-11T01:02:36.333Z"
   },
   {
    "duration": 22,
    "start_time": "2022-02-11T01:02:36.377Z"
   },
   {
    "duration": 21,
    "start_time": "2022-02-11T01:02:36.403Z"
   },
   {
    "duration": 7,
    "start_time": "2022-02-11T01:02:36.427Z"
   },
   {
    "duration": 34,
    "start_time": "2022-02-11T01:02:36.436Z"
   },
   {
    "duration": 9,
    "start_time": "2022-02-11T01:02:36.473Z"
   },
   {
    "duration": 38,
    "start_time": "2022-02-11T01:02:36.484Z"
   },
   {
    "duration": 7,
    "start_time": "2022-02-11T01:02:36.524Z"
   },
   {
    "duration": 49,
    "start_time": "2022-02-11T01:02:36.569Z"
   },
   {
    "duration": 10,
    "start_time": "2022-02-11T01:02:36.622Z"
   },
   {
    "duration": 7,
    "start_time": "2022-02-11T01:02:36.668Z"
   },
   {
    "duration": 12,
    "start_time": "2022-02-11T01:02:36.678Z"
   },
   {
    "duration": 11,
    "start_time": "2022-02-11T01:02:36.692Z"
   },
   {
    "duration": 6,
    "start_time": "2022-02-11T01:02:36.705Z"
   },
   {
    "duration": 67,
    "start_time": "2022-02-11T01:02:36.714Z"
   },
   {
    "duration": 25,
    "start_time": "2022-02-11T01:02:36.783Z"
   },
   {
    "duration": 469,
    "start_time": "2022-02-11T01:02:36.810Z"
   },
   {
    "duration": 607,
    "start_time": "2022-02-11T01:02:37.285Z"
   },
   {
    "duration": 708,
    "start_time": "2022-02-11T01:02:37.895Z"
   },
   {
    "duration": 9,
    "start_time": "2022-02-11T01:02:38.605Z"
   },
   {
    "duration": 942,
    "start_time": "2022-02-11T01:02:38.617Z"
   },
   {
    "duration": 12,
    "start_time": "2022-02-11T01:02:39.562Z"
   },
   {
    "duration": 565,
    "start_time": "2022-02-11T01:02:39.578Z"
   },
   {
    "duration": 633,
    "start_time": "2022-02-11T01:02:40.146Z"
   },
   {
    "duration": 569,
    "start_time": "2022-02-11T01:02:40.783Z"
   },
   {
    "duration": 20,
    "start_time": "2022-02-11T01:02:41.356Z"
   },
   {
    "duration": 14,
    "start_time": "2022-02-11T01:02:41.379Z"
   },
   {
    "duration": 489,
    "start_time": "2022-02-11T01:02:41.396Z"
   },
   {
    "duration": 463,
    "start_time": "2022-02-11T01:02:41.888Z"
   },
   {
    "duration": 17,
    "start_time": "2022-02-11T01:02:42.353Z"
   },
   {
    "duration": 365,
    "start_time": "2022-02-11T01:02:42.372Z"
   },
   {
    "duration": 2521,
    "start_time": "2022-02-11T01:02:42.739Z"
   },
   {
    "duration": 696,
    "start_time": "2022-02-11T01:02:44.567Z"
   },
   {
    "duration": 693,
    "start_time": "2022-02-11T01:02:44.571Z"
   },
   {
    "duration": 692,
    "start_time": "2022-02-11T01:02:44.574Z"
   },
   {
    "duration": 689,
    "start_time": "2022-02-11T01:02:44.578Z"
   },
   {
    "duration": 687,
    "start_time": "2022-02-11T01:02:44.581Z"
   },
   {
    "duration": 686,
    "start_time": "2022-02-11T01:02:44.584Z"
   },
   {
    "duration": 684,
    "start_time": "2022-02-11T01:02:44.587Z"
   },
   {
    "duration": 683,
    "start_time": "2022-02-11T01:02:44.590Z"
   },
   {
    "duration": 680,
    "start_time": "2022-02-11T01:02:44.594Z"
   },
   {
    "duration": 678,
    "start_time": "2022-02-11T01:02:44.597Z"
   },
   {
    "duration": 677,
    "start_time": "2022-02-11T01:02:44.600Z"
   },
   {
    "duration": 676,
    "start_time": "2022-02-11T01:02:44.603Z"
   },
   {
    "duration": 674,
    "start_time": "2022-02-11T01:02:44.606Z"
   },
   {
    "duration": 673,
    "start_time": "2022-02-11T01:02:44.609Z"
   },
   {
    "duration": 671,
    "start_time": "2022-02-11T01:02:44.612Z"
   },
   {
    "duration": 669,
    "start_time": "2022-02-11T01:02:44.615Z"
   },
   {
    "duration": 668,
    "start_time": "2022-02-11T01:02:44.618Z"
   },
   {
    "duration": 666,
    "start_time": "2022-02-11T01:02:44.621Z"
   },
   {
    "duration": 662,
    "start_time": "2022-02-11T01:02:44.626Z"
   },
   {
    "duration": 1486,
    "start_time": "2022-02-11T01:06:09.678Z"
   },
   {
    "duration": 45,
    "start_time": "2022-02-11T01:06:11.167Z"
   },
   {
    "duration": 36,
    "start_time": "2022-02-11T01:06:11.214Z"
   },
   {
    "duration": 57,
    "start_time": "2022-02-11T01:06:11.252Z"
   },
   {
    "duration": 12,
    "start_time": "2022-02-11T01:06:11.312Z"
   },
   {
    "duration": 45,
    "start_time": "2022-02-11T01:06:11.326Z"
   },
   {
    "duration": 23,
    "start_time": "2022-02-11T01:06:11.375Z"
   },
   {
    "duration": 23,
    "start_time": "2022-02-11T01:06:11.404Z"
   },
   {
    "duration": 41,
    "start_time": "2022-02-11T01:06:11.430Z"
   },
   {
    "duration": 12,
    "start_time": "2022-02-11T01:06:11.474Z"
   },
   {
    "duration": 10,
    "start_time": "2022-02-11T01:06:11.488Z"
   },
   {
    "duration": 71,
    "start_time": "2022-02-11T01:06:11.500Z"
   },
   {
    "duration": 7,
    "start_time": "2022-02-11T01:06:11.573Z"
   },
   {
    "duration": 48,
    "start_time": "2022-02-11T01:06:11.582Z"
   },
   {
    "duration": 40,
    "start_time": "2022-02-11T01:06:11.632Z"
   },
   {
    "duration": 6,
    "start_time": "2022-02-11T01:06:11.675Z"
   },
   {
    "duration": 12,
    "start_time": "2022-02-11T01:06:11.684Z"
   },
   {
    "duration": 10,
    "start_time": "2022-02-11T01:06:11.698Z"
   },
   {
    "duration": 6,
    "start_time": "2022-02-11T01:06:11.711Z"
   },
   {
    "duration": 70,
    "start_time": "2022-02-11T01:06:11.719Z"
   },
   {
    "duration": 26,
    "start_time": "2022-02-11T01:06:11.792Z"
   },
   {
    "duration": 479,
    "start_time": "2022-02-11T01:06:11.820Z"
   },
   {
    "duration": 583,
    "start_time": "2022-02-11T01:06:12.304Z"
   },
   {
    "duration": 642,
    "start_time": "2022-02-11T01:06:12.891Z"
   },
   {
    "duration": 9,
    "start_time": "2022-02-11T01:06:13.535Z"
   },
   {
    "duration": 29,
    "start_time": "2022-02-11T01:06:13.546Z"
   },
   {
    "duration": 920,
    "start_time": "2022-02-11T01:06:13.578Z"
   },
   {
    "duration": 8,
    "start_time": "2022-02-11T01:06:14.501Z"
   },
   {
    "duration": 543,
    "start_time": "2022-02-11T01:06:14.512Z"
   },
   {
    "duration": 602,
    "start_time": "2022-02-11T01:06:15.057Z"
   },
   {
    "duration": 549,
    "start_time": "2022-02-11T01:06:15.661Z"
   },
   {
    "duration": 9,
    "start_time": "2022-02-11T01:06:16.213Z"
   },
   {
    "duration": 8,
    "start_time": "2022-02-11T01:06:16.224Z"
   },
   {
    "duration": 510,
    "start_time": "2022-02-11T01:06:16.234Z"
   },
   {
    "duration": 491,
    "start_time": "2022-02-11T01:06:16.747Z"
   },
   {
    "duration": 7,
    "start_time": "2022-02-11T01:06:17.240Z"
   },
   {
    "duration": 383,
    "start_time": "2022-02-11T01:06:17.249Z"
   },
   {
    "duration": 2620,
    "start_time": "2022-02-11T01:06:17.634Z"
   },
   {
    "duration": 690,
    "start_time": "2022-02-11T01:06:19.566Z"
   },
   {
    "duration": 687,
    "start_time": "2022-02-11T01:06:19.571Z"
   },
   {
    "duration": 685,
    "start_time": "2022-02-11T01:06:19.574Z"
   },
   {
    "duration": 683,
    "start_time": "2022-02-11T01:06:19.577Z"
   },
   {
    "duration": 682,
    "start_time": "2022-02-11T01:06:19.580Z"
   },
   {
    "duration": 679,
    "start_time": "2022-02-11T01:06:19.584Z"
   },
   {
    "duration": 678,
    "start_time": "2022-02-11T01:06:19.587Z"
   },
   {
    "duration": 676,
    "start_time": "2022-02-11T01:06:19.590Z"
   },
   {
    "duration": 674,
    "start_time": "2022-02-11T01:06:19.593Z"
   },
   {
    "duration": 672,
    "start_time": "2022-02-11T01:06:19.596Z"
   },
   {
    "duration": 670,
    "start_time": "2022-02-11T01:06:19.600Z"
   },
   {
    "duration": 668,
    "start_time": "2022-02-11T01:06:19.603Z"
   },
   {
    "duration": 666,
    "start_time": "2022-02-11T01:06:19.607Z"
   },
   {
    "duration": 661,
    "start_time": "2022-02-11T01:06:19.613Z"
   },
   {
    "duration": 657,
    "start_time": "2022-02-11T01:06:19.618Z"
   },
   {
    "duration": 655,
    "start_time": "2022-02-11T01:06:19.622Z"
   },
   {
    "duration": 653,
    "start_time": "2022-02-11T01:06:19.625Z"
   },
   {
    "duration": 651,
    "start_time": "2022-02-11T01:06:19.629Z"
   },
   {
    "duration": 648,
    "start_time": "2022-02-11T01:06:19.633Z"
   },
   {
    "duration": 1502,
    "start_time": "2022-02-11T01:06:44.857Z"
   },
   {
    "duration": 44,
    "start_time": "2022-02-11T01:06:46.362Z"
   },
   {
    "duration": 35,
    "start_time": "2022-02-11T01:06:46.409Z"
   },
   {
    "duration": 62,
    "start_time": "2022-02-11T01:06:46.447Z"
   },
   {
    "duration": 12,
    "start_time": "2022-02-11T01:06:46.511Z"
   },
   {
    "duration": 44,
    "start_time": "2022-02-11T01:06:46.526Z"
   },
   {
    "duration": 23,
    "start_time": "2022-02-11T01:06:46.572Z"
   },
   {
    "duration": 21,
    "start_time": "2022-02-11T01:06:46.599Z"
   },
   {
    "duration": 6,
    "start_time": "2022-02-11T01:06:46.623Z"
   },
   {
    "duration": 45,
    "start_time": "2022-02-11T01:06:46.631Z"
   },
   {
    "duration": 10,
    "start_time": "2022-02-11T01:06:46.678Z"
   },
   {
    "duration": 36,
    "start_time": "2022-02-11T01:06:46.690Z"
   },
   {
    "duration": 41,
    "start_time": "2022-02-11T01:06:46.728Z"
   },
   {
    "duration": 48,
    "start_time": "2022-02-11T01:06:46.772Z"
   },
   {
    "duration": 10,
    "start_time": "2022-02-11T01:06:46.822Z"
   },
   {
    "duration": 40,
    "start_time": "2022-02-11T01:06:46.834Z"
   },
   {
    "duration": 17,
    "start_time": "2022-02-11T01:06:46.876Z"
   },
   {
    "duration": 10,
    "start_time": "2022-02-11T01:06:46.896Z"
   },
   {
    "duration": 11,
    "start_time": "2022-02-11T01:06:46.908Z"
   },
   {
    "duration": 63,
    "start_time": "2022-02-11T01:06:46.921Z"
   },
   {
    "duration": 26,
    "start_time": "2022-02-11T01:06:46.986Z"
   },
   {
    "duration": 467,
    "start_time": "2022-02-11T01:06:47.015Z"
   },
   {
    "duration": 586,
    "start_time": "2022-02-11T01:06:47.488Z"
   },
   {
    "duration": 630,
    "start_time": "2022-02-11T01:06:48.077Z"
   },
   {
    "duration": 9,
    "start_time": "2022-02-11T01:06:48.710Z"
   },
   {
    "duration": 7,
    "start_time": "2022-02-11T01:06:48.722Z"
   },
   {
    "duration": 937,
    "start_time": "2022-02-11T01:06:48.732Z"
   },
   {
    "duration": 6,
    "start_time": "2022-02-11T01:06:49.672Z"
   },
   {
    "duration": 567,
    "start_time": "2022-02-11T01:06:49.680Z"
   },
   {
    "duration": 612,
    "start_time": "2022-02-11T01:06:50.249Z"
   },
   {
    "duration": 562,
    "start_time": "2022-02-11T01:06:50.864Z"
   },
   {
    "duration": 10,
    "start_time": "2022-02-11T01:06:51.428Z"
   },
   {
    "duration": 11,
    "start_time": "2022-02-11T01:06:51.440Z"
   },
   {
    "duration": 465,
    "start_time": "2022-02-11T01:06:51.468Z"
   },
   {
    "duration": 487,
    "start_time": "2022-02-11T01:06:51.936Z"
   },
   {
    "duration": 7,
    "start_time": "2022-02-11T01:06:52.425Z"
   },
   {
    "duration": 382,
    "start_time": "2022-02-11T01:06:52.434Z"
   },
   {
    "duration": 2894,
    "start_time": "2022-02-11T01:06:52.818Z"
   },
   {
    "duration": 524,
    "start_time": "2022-02-11T01:06:55.715Z"
   },
   {
    "duration": 4,
    "start_time": "2022-02-11T01:06:56.242Z"
   },
   {
    "duration": 791,
    "start_time": "2022-02-11T01:06:56.248Z"
   },
   {
    "duration": 804,
    "start_time": "2022-02-11T01:06:57.042Z"
   },
   {
    "duration": 782,
    "start_time": "2022-02-11T01:06:57.848Z"
   },
   {
    "duration": 14,
    "start_time": "2022-02-11T01:06:58.632Z"
   },
   {
    "duration": 291,
    "start_time": "2022-02-11T01:06:58.649Z"
   },
   {
    "duration": 27,
    "start_time": "2022-02-11T01:06:58.942Z"
   },
   {
    "duration": 393,
    "start_time": "2022-02-11T01:06:58.972Z"
   },
   {
    "duration": 14,
    "start_time": "2022-02-11T01:06:59.367Z"
   },
   {
    "duration": 286,
    "start_time": "2022-02-11T01:06:59.383Z"
   },
   {
    "duration": 17,
    "start_time": "2022-02-11T01:06:59.672Z"
   },
   {
    "duration": 274,
    "start_time": "2022-02-11T01:06:59.691Z"
   },
   {
    "duration": 13,
    "start_time": "2022-02-11T01:06:59.970Z"
   },
   {
    "duration": 6,
    "start_time": "2022-02-11T01:06:59.985Z"
   },
   {
    "duration": 7,
    "start_time": "2022-02-11T01:06:59.993Z"
   },
   {
    "duration": 19,
    "start_time": "2022-02-11T01:07:00.002Z"
   },
   {
    "duration": 15,
    "start_time": "2022-02-11T01:07:00.023Z"
   },
   {
    "duration": 32,
    "start_time": "2022-02-11T01:07:00.040Z"
   },
   {
    "duration": 258,
    "start_time": "2022-02-11T01:21:02.537Z"
   },
   {
    "duration": 13,
    "start_time": "2022-02-11T01:21:13.157Z"
   },
   {
    "duration": 1506,
    "start_time": "2022-02-11T01:21:32.443Z"
   },
   {
    "duration": 46,
    "start_time": "2022-02-11T01:21:33.952Z"
   },
   {
    "duration": 39,
    "start_time": "2022-02-11T01:21:34.002Z"
   },
   {
    "duration": 67,
    "start_time": "2022-02-11T01:21:34.045Z"
   },
   {
    "duration": 13,
    "start_time": "2022-02-11T01:21:34.115Z"
   },
   {
    "duration": 46,
    "start_time": "2022-02-11T01:21:34.131Z"
   },
   {
    "duration": 24,
    "start_time": "2022-02-11T01:21:34.180Z"
   },
   {
    "duration": 59,
    "start_time": "2022-02-11T01:21:34.210Z"
   },
   {
    "duration": 7,
    "start_time": "2022-02-11T01:21:34.272Z"
   },
   {
    "duration": 10,
    "start_time": "2022-02-11T01:21:34.282Z"
   },
   {
    "duration": 9,
    "start_time": "2022-02-11T01:21:34.295Z"
   },
   {
    "duration": 74,
    "start_time": "2022-02-11T01:21:34.307Z"
   },
   {
    "duration": 8,
    "start_time": "2022-02-11T01:21:34.385Z"
   },
   {
    "duration": 77,
    "start_time": "2022-02-11T01:21:34.397Z"
   },
   {
    "duration": 11,
    "start_time": "2022-02-11T01:21:34.478Z"
   },
   {
    "duration": 8,
    "start_time": "2022-02-11T01:21:34.492Z"
   },
   {
    "duration": 15,
    "start_time": "2022-02-11T01:21:34.503Z"
   },
   {
    "duration": 59,
    "start_time": "2022-02-11T01:21:34.521Z"
   },
   {
    "duration": 8,
    "start_time": "2022-02-11T01:21:34.583Z"
   },
   {
    "duration": 24,
    "start_time": "2022-02-11T01:21:34.594Z"
   },
   {
    "duration": 72,
    "start_time": "2022-02-11T01:21:34.621Z"
   },
   {
    "duration": 460,
    "start_time": "2022-02-11T01:21:34.695Z"
   },
   {
    "duration": 588,
    "start_time": "2022-02-11T01:21:35.161Z"
   },
   {
    "duration": 637,
    "start_time": "2022-02-11T01:21:35.753Z"
   },
   {
    "duration": 9,
    "start_time": "2022-02-11T01:21:36.392Z"
   },
   {
    "duration": 4,
    "start_time": "2022-02-11T01:21:36.404Z"
   },
   {
    "duration": 940,
    "start_time": "2022-02-11T01:21:36.411Z"
   },
   {
    "duration": 16,
    "start_time": "2022-02-11T01:21:37.354Z"
   },
   {
    "duration": 548,
    "start_time": "2022-02-11T01:21:37.373Z"
   },
   {
    "duration": 618,
    "start_time": "2022-02-11T01:21:37.924Z"
   },
   {
    "duration": 556,
    "start_time": "2022-02-11T01:21:38.546Z"
   },
   {
    "duration": 11,
    "start_time": "2022-02-11T01:21:39.106Z"
   },
   {
    "duration": 12,
    "start_time": "2022-02-11T01:21:39.120Z"
   },
   {
    "duration": 506,
    "start_time": "2022-02-11T01:21:39.134Z"
   },
   {
    "duration": 496,
    "start_time": "2022-02-11T01:21:39.642Z"
   },
   {
    "duration": 7,
    "start_time": "2022-02-11T01:21:40.140Z"
   },
   {
    "duration": 390,
    "start_time": "2022-02-11T01:21:40.149Z"
   },
   {
    "duration": 2906,
    "start_time": "2022-02-11T01:21:40.541Z"
   },
   {
    "duration": 465,
    "start_time": "2022-02-11T01:21:43.449Z"
   },
   {
    "duration": 6,
    "start_time": "2022-02-11T01:21:43.917Z"
   },
   {
    "duration": 795,
    "start_time": "2022-02-11T01:21:43.925Z"
   },
   {
    "duration": 792,
    "start_time": "2022-02-11T01:21:44.723Z"
   },
   {
    "duration": 845,
    "start_time": "2022-02-11T01:21:45.518Z"
   },
   {
    "duration": 14,
    "start_time": "2022-02-11T01:21:46.369Z"
   },
   {
    "duration": 318,
    "start_time": "2022-02-11T01:21:46.385Z"
   },
   {
    "duration": 12,
    "start_time": "2022-02-11T01:21:46.705Z"
   },
   {
    "duration": 364,
    "start_time": "2022-02-11T01:21:46.720Z"
   },
   {
    "duration": 12,
    "start_time": "2022-02-11T01:21:47.087Z"
   },
   {
    "duration": 246,
    "start_time": "2022-02-11T01:21:47.102Z"
   },
   {
    "duration": 14,
    "start_time": "2022-02-11T01:21:47.350Z"
   },
   {
    "duration": 240,
    "start_time": "2022-02-11T01:21:47.370Z"
   },
   {
    "duration": 13,
    "start_time": "2022-02-11T01:21:47.612Z"
   },
   {
    "duration": 6,
    "start_time": "2022-02-11T01:21:47.628Z"
   },
   {
    "duration": 6,
    "start_time": "2022-02-11T01:21:47.636Z"
   },
   {
    "duration": 26,
    "start_time": "2022-02-11T01:21:47.645Z"
   },
   {
    "duration": 4,
    "start_time": "2022-02-11T01:21:47.674Z"
   },
   {
    "duration": 10,
    "start_time": "2022-02-11T01:21:47.680Z"
   },
   {
    "duration": 258,
    "start_time": "2022-02-11T01:23:21.014Z"
   },
   {
    "duration": 13,
    "start_time": "2022-02-11T01:23:31.066Z"
   },
   {
    "duration": 1537,
    "start_time": "2022-02-11T01:23:44.281Z"
   },
   {
    "duration": 48,
    "start_time": "2022-02-11T01:23:45.821Z"
   },
   {
    "duration": 35,
    "start_time": "2022-02-11T01:23:45.872Z"
   },
   {
    "duration": 63,
    "start_time": "2022-02-11T01:23:45.910Z"
   },
   {
    "duration": 13,
    "start_time": "2022-02-11T01:23:45.976Z"
   },
   {
    "duration": 15,
    "start_time": "2022-02-11T01:23:45.992Z"
   },
   {
    "duration": 61,
    "start_time": "2022-02-11T01:23:46.011Z"
   },
   {
    "duration": 23,
    "start_time": "2022-02-11T01:23:46.077Z"
   },
   {
    "duration": 8,
    "start_time": "2022-02-11T01:23:46.104Z"
   },
   {
    "duration": 13,
    "start_time": "2022-02-11T01:23:46.115Z"
   },
   {
    "duration": 11,
    "start_time": "2022-02-11T01:23:46.170Z"
   },
   {
    "duration": 38,
    "start_time": "2022-02-11T01:23:46.183Z"
   },
   {
    "duration": 7,
    "start_time": "2022-02-11T01:23:46.223Z"
   },
   {
    "duration": 81,
    "start_time": "2022-02-11T01:23:46.232Z"
   },
   {
    "duration": 13,
    "start_time": "2022-02-11T01:23:46.316Z"
   },
   {
    "duration": 43,
    "start_time": "2022-02-11T01:23:46.332Z"
   },
   {
    "duration": 17,
    "start_time": "2022-02-11T01:23:46.377Z"
   },
   {
    "duration": 9,
    "start_time": "2022-02-11T01:23:46.396Z"
   },
   {
    "duration": 7,
    "start_time": "2022-02-11T01:23:46.407Z"
   },
   {
    "duration": 21,
    "start_time": "2022-02-11T01:23:46.417Z"
   },
   {
    "duration": 35,
    "start_time": "2022-02-11T01:23:46.440Z"
   },
   {
    "duration": 457,
    "start_time": "2022-02-11T01:23:46.477Z"
   },
   {
    "duration": 663,
    "start_time": "2022-02-11T01:23:46.939Z"
   },
   {
    "duration": 1067,
    "start_time": "2022-02-11T01:23:47.607Z"
   },
   {
    "duration": 11,
    "start_time": "2022-02-11T01:23:48.678Z"
   },
   {
    "duration": 6,
    "start_time": "2022-02-11T01:23:48.692Z"
   },
   {
    "duration": 948,
    "start_time": "2022-02-11T01:23:48.701Z"
   },
   {
    "duration": 20,
    "start_time": "2022-02-11T01:23:49.652Z"
   },
   {
    "duration": 598,
    "start_time": "2022-02-11T01:23:49.675Z"
   },
   {
    "duration": 683,
    "start_time": "2022-02-11T01:23:50.276Z"
   },
   {
    "duration": 700,
    "start_time": "2022-02-11T01:23:50.971Z"
   },
   {
    "duration": 16,
    "start_time": "2022-02-11T01:23:51.675Z"
   },
   {
    "duration": 14,
    "start_time": "2022-02-11T01:23:51.695Z"
   },
   {
    "duration": 596,
    "start_time": "2022-02-11T01:23:51.712Z"
   },
   {
    "duration": 531,
    "start_time": "2022-02-11T01:23:52.311Z"
   },
   {
    "duration": 7,
    "start_time": "2022-02-11T01:23:52.844Z"
   },
   {
    "duration": 433,
    "start_time": "2022-02-11T01:23:52.854Z"
   },
   {
    "duration": 3325,
    "start_time": "2022-02-11T01:23:53.291Z"
   },
   {
    "duration": 464,
    "start_time": "2022-02-11T01:23:56.618Z"
   },
   {
    "duration": 5,
    "start_time": "2022-02-11T01:23:57.085Z"
   },
   {
    "duration": 792,
    "start_time": "2022-02-11T01:23:57.092Z"
   },
   {
    "duration": 833,
    "start_time": "2022-02-11T01:23:57.887Z"
   },
   {
    "duration": 839,
    "start_time": "2022-02-11T01:23:58.723Z"
   },
   {
    "duration": 18,
    "start_time": "2022-02-11T01:23:59.565Z"
   },
   {
    "duration": 312,
    "start_time": "2022-02-11T01:23:59.586Z"
   },
   {
    "duration": 12,
    "start_time": "2022-02-11T01:23:59.902Z"
   },
   {
    "duration": 419,
    "start_time": "2022-02-11T01:23:59.918Z"
   },
   {
    "duration": 13,
    "start_time": "2022-02-11T01:24:00.339Z"
   },
   {
    "duration": 267,
    "start_time": "2022-02-11T01:24:00.354Z"
   },
   {
    "duration": 14,
    "start_time": "2022-02-11T01:24:00.624Z"
   },
   {
    "duration": 270,
    "start_time": "2022-02-11T01:24:00.640Z"
   },
   {
    "duration": 14,
    "start_time": "2022-02-11T01:24:00.913Z"
   },
   {
    "duration": 3,
    "start_time": "2022-02-11T01:24:00.930Z"
   },
   {
    "duration": 36,
    "start_time": "2022-02-11T01:24:00.936Z"
   },
   {
    "duration": 14,
    "start_time": "2022-02-11T01:24:00.976Z"
   },
   {
    "duration": 20,
    "start_time": "2022-02-11T01:24:00.993Z"
   },
   {
    "duration": 25,
    "start_time": "2022-02-11T01:24:01.015Z"
   },
   {
    "duration": 6,
    "start_time": "2022-02-11T01:32:47.870Z"
   },
   {
    "duration": 6,
    "start_time": "2022-02-11T01:33:59.872Z"
   },
   {
    "duration": 1536,
    "start_time": "2022-02-11T01:35:09.295Z"
   },
   {
    "duration": 55,
    "start_time": "2022-02-11T01:35:10.835Z"
   },
   {
    "duration": 39,
    "start_time": "2022-02-11T01:35:10.898Z"
   },
   {
    "duration": 69,
    "start_time": "2022-02-11T01:35:10.940Z"
   },
   {
    "duration": 12,
    "start_time": "2022-02-11T01:35:11.012Z"
   },
   {
    "duration": 47,
    "start_time": "2022-02-11T01:35:11.026Z"
   },
   {
    "duration": 22,
    "start_time": "2022-02-11T01:35:11.077Z"
   },
   {
    "duration": 24,
    "start_time": "2022-02-11T01:35:11.102Z"
   },
   {
    "duration": 7,
    "start_time": "2022-02-11T01:35:11.128Z"
   },
   {
    "duration": 10,
    "start_time": "2022-02-11T01:35:11.168Z"
   },
   {
    "duration": 9,
    "start_time": "2022-02-11T01:35:11.180Z"
   },
   {
    "duration": 40,
    "start_time": "2022-02-11T01:35:11.191Z"
   },
   {
    "duration": 39,
    "start_time": "2022-02-11T01:35:11.233Z"
   },
   {
    "duration": 48,
    "start_time": "2022-02-11T01:35:11.274Z"
   },
   {
    "duration": 13,
    "start_time": "2022-02-11T01:35:11.324Z"
   },
   {
    "duration": 31,
    "start_time": "2022-02-11T01:35:11.339Z"
   },
   {
    "duration": 13,
    "start_time": "2022-02-11T01:35:11.372Z"
   },
   {
    "duration": 11,
    "start_time": "2022-02-11T01:35:11.387Z"
   },
   {
    "duration": 8,
    "start_time": "2022-02-11T01:35:11.401Z"
   },
   {
    "duration": 73,
    "start_time": "2022-02-11T01:35:11.412Z"
   },
   {
    "duration": 27,
    "start_time": "2022-02-11T01:35:11.488Z"
   },
   {
    "duration": 478,
    "start_time": "2022-02-11T01:35:11.523Z"
   },
   {
    "duration": 702,
    "start_time": "2022-02-11T01:35:12.006Z"
   },
   {
    "duration": 664,
    "start_time": "2022-02-11T01:35:12.712Z"
   },
   {
    "duration": 11,
    "start_time": "2022-02-11T01:35:13.380Z"
   },
   {
    "duration": 8,
    "start_time": "2022-02-11T01:35:13.394Z"
   },
   {
    "duration": 1040,
    "start_time": "2022-02-11T01:35:13.404Z"
   },
   {
    "duration": 22,
    "start_time": "2022-02-11T01:35:14.447Z"
   },
   {
    "duration": 464,
    "start_time": "2022-02-11T01:35:14.472Z"
   },
   {
    "duration": 690,
    "start_time": "2022-02-11T01:35:14.939Z"
   },
   {
    "duration": 551,
    "start_time": "2022-02-11T01:35:15.631Z"
   },
   {
    "duration": 10,
    "start_time": "2022-02-11T01:35:16.184Z"
   },
   {
    "duration": 9,
    "start_time": "2022-02-11T01:35:16.196Z"
   },
   {
    "duration": 449,
    "start_time": "2022-02-11T01:35:16.208Z"
   },
   {
    "duration": 459,
    "start_time": "2022-02-11T01:35:16.659Z"
   },
   {
    "duration": 6,
    "start_time": "2022-02-11T01:35:17.120Z"
   },
   {
    "duration": 406,
    "start_time": "2022-02-11T01:35:17.129Z"
   },
   {
    "duration": 2850,
    "start_time": "2022-02-11T01:35:17.537Z"
   },
   {
    "duration": 470,
    "start_time": "2022-02-11T01:35:20.390Z"
   },
   {
    "duration": 10,
    "start_time": "2022-02-11T01:35:20.862Z"
   },
   {
    "duration": 787,
    "start_time": "2022-02-11T01:35:20.874Z"
   },
   {
    "duration": 781,
    "start_time": "2022-02-11T01:35:21.664Z"
   },
   {
    "duration": 880,
    "start_time": "2022-02-11T01:35:22.447Z"
   },
   {
    "duration": 13,
    "start_time": "2022-02-11T01:35:23.330Z"
   },
   {
    "duration": 308,
    "start_time": "2022-02-11T01:35:23.345Z"
   },
   {
    "duration": 23,
    "start_time": "2022-02-11T01:35:23.656Z"
   },
   {
    "duration": 274,
    "start_time": "2022-02-11T01:35:23.682Z"
   },
   {
    "duration": 21,
    "start_time": "2022-02-11T01:35:23.958Z"
   },
   {
    "duration": 360,
    "start_time": "2022-02-11T01:35:23.982Z"
   },
   {
    "duration": 13,
    "start_time": "2022-02-11T01:35:24.344Z"
   },
   {
    "duration": 251,
    "start_time": "2022-02-11T01:35:24.369Z"
   },
   {
    "duration": 12,
    "start_time": "2022-02-11T01:35:24.623Z"
   },
   {
    "duration": 6,
    "start_time": "2022-02-11T01:35:24.638Z"
   },
   {
    "duration": 24,
    "start_time": "2022-02-11T01:35:24.647Z"
   },
   {
    "duration": 19,
    "start_time": "2022-02-11T01:35:24.674Z"
   },
   {
    "duration": 16,
    "start_time": "2022-02-11T01:35:24.696Z"
   },
   {
    "duration": 15,
    "start_time": "2022-02-11T01:35:24.715Z"
   },
   {
    "duration": 15,
    "start_time": "2022-02-11T01:35:24.733Z"
   },
   {
    "duration": 1531,
    "start_time": "2022-02-11T01:50:21.038Z"
   },
   {
    "duration": 48,
    "start_time": "2022-02-11T01:50:22.572Z"
   },
   {
    "duration": 52,
    "start_time": "2022-02-11T01:50:22.627Z"
   },
   {
    "duration": 43,
    "start_time": "2022-02-11T01:50:22.682Z"
   },
   {
    "duration": 11,
    "start_time": "2022-02-11T01:50:22.728Z"
   },
   {
    "duration": 14,
    "start_time": "2022-02-11T01:50:22.769Z"
   },
   {
    "duration": 22,
    "start_time": "2022-02-11T01:50:22.787Z"
   },
   {
    "duration": 22,
    "start_time": "2022-02-11T01:50:22.813Z"
   },
   {
    "duration": 8,
    "start_time": "2022-02-11T01:50:22.869Z"
   },
   {
    "duration": 11,
    "start_time": "2022-02-11T01:50:22.879Z"
   },
   {
    "duration": 11,
    "start_time": "2022-02-11T01:50:22.893Z"
   },
   {
    "duration": 71,
    "start_time": "2022-02-11T01:50:22.907Z"
   },
   {
    "duration": 7,
    "start_time": "2022-02-11T01:50:22.980Z"
   },
   {
    "duration": 48,
    "start_time": "2022-02-11T01:50:22.989Z"
   },
   {
    "duration": 33,
    "start_time": "2022-02-11T01:50:23.040Z"
   },
   {
    "duration": 7,
    "start_time": "2022-02-11T01:50:23.076Z"
   },
   {
    "duration": 14,
    "start_time": "2022-02-11T01:50:23.086Z"
   },
   {
    "duration": 13,
    "start_time": "2022-02-11T01:50:23.104Z"
   },
   {
    "duration": 57,
    "start_time": "2022-02-11T01:50:23.120Z"
   },
   {
    "duration": 24,
    "start_time": "2022-02-11T01:50:23.180Z"
   },
   {
    "duration": 64,
    "start_time": "2022-02-11T01:50:23.208Z"
   },
   {
    "duration": 464,
    "start_time": "2022-02-11T01:50:23.280Z"
   },
   {
    "duration": 591,
    "start_time": "2022-02-11T01:50:23.747Z"
   },
   {
    "duration": 633,
    "start_time": "2022-02-11T01:50:24.341Z"
   },
   {
    "duration": 10,
    "start_time": "2022-02-11T01:50:24.977Z"
   },
   {
    "duration": 4,
    "start_time": "2022-02-11T01:50:24.990Z"
   },
   {
    "duration": 932,
    "start_time": "2022-02-11T01:50:24.997Z"
   },
   {
    "duration": 7,
    "start_time": "2022-02-11T01:50:25.933Z"
   },
   {
    "duration": 482,
    "start_time": "2022-02-11T01:50:25.943Z"
   },
   {
    "duration": 685,
    "start_time": "2022-02-11T01:50:26.429Z"
   },
   {
    "duration": 560,
    "start_time": "2022-02-11T01:50:27.117Z"
   },
   {
    "duration": 11,
    "start_time": "2022-02-11T01:50:27.681Z"
   },
   {
    "duration": 8,
    "start_time": "2022-02-11T01:50:27.695Z"
   },
   {
    "duration": 533,
    "start_time": "2022-02-11T01:50:27.706Z"
   },
   {
    "duration": 475,
    "start_time": "2022-02-11T01:50:28.241Z"
   },
   {
    "duration": 6,
    "start_time": "2022-02-11T01:50:28.719Z"
   },
   {
    "duration": 384,
    "start_time": "2022-02-11T01:50:28.728Z"
   },
   {
    "duration": 3058,
    "start_time": "2022-02-11T01:50:29.114Z"
   },
   {
    "duration": 469,
    "start_time": "2022-02-11T01:50:32.174Z"
   },
   {
    "duration": 5,
    "start_time": "2022-02-11T01:50:32.646Z"
   },
   {
    "duration": 800,
    "start_time": "2022-02-11T01:50:32.669Z"
   },
   {
    "duration": 823,
    "start_time": "2022-02-11T01:50:33.472Z"
   },
   {
    "duration": 790,
    "start_time": "2022-02-11T01:50:34.298Z"
   },
   {
    "duration": 14,
    "start_time": "2022-02-11T01:50:35.090Z"
   },
   {
    "duration": 289,
    "start_time": "2022-02-11T01:50:35.106Z"
   },
   {
    "duration": 12,
    "start_time": "2022-02-11T01:50:35.397Z"
   },
   {
    "duration": 293,
    "start_time": "2022-02-11T01:50:35.412Z"
   },
   {
    "duration": 13,
    "start_time": "2022-02-11T01:50:35.708Z"
   },
   {
    "duration": 384,
    "start_time": "2022-02-11T01:50:35.723Z"
   },
   {
    "duration": 14,
    "start_time": "2022-02-11T01:50:36.109Z"
   },
   {
    "duration": 266,
    "start_time": "2022-02-11T01:50:36.125Z"
   },
   {
    "duration": 13,
    "start_time": "2022-02-11T01:50:36.393Z"
   },
   {
    "duration": 5,
    "start_time": "2022-02-11T01:50:36.408Z"
   },
   {
    "duration": 5,
    "start_time": "2022-02-11T01:50:36.416Z"
   },
   {
    "duration": 10,
    "start_time": "2022-02-11T01:50:36.423Z"
   },
   {
    "duration": 36,
    "start_time": "2022-02-11T01:50:36.435Z"
   },
   {
    "duration": 9,
    "start_time": "2022-02-11T01:50:36.473Z"
   },
   {
    "duration": 8,
    "start_time": "2022-02-11T01:50:36.484Z"
   },
   {
    "duration": 1453,
    "start_time": "2022-02-11T01:52:55.918Z"
   },
   {
    "duration": 44,
    "start_time": "2022-02-11T01:52:57.374Z"
   },
   {
    "duration": 52,
    "start_time": "2022-02-11T01:52:57.424Z"
   },
   {
    "duration": 44,
    "start_time": "2022-02-11T01:52:57.478Z"
   },
   {
    "duration": 11,
    "start_time": "2022-02-11T01:52:57.524Z"
   },
   {
    "duration": 42,
    "start_time": "2022-02-11T01:52:57.538Z"
   },
   {
    "duration": 22,
    "start_time": "2022-02-11T01:52:57.584Z"
   },
   {
    "duration": 22,
    "start_time": "2022-02-11T01:52:57.609Z"
   },
   {
    "duration": 38,
    "start_time": "2022-02-11T01:52:57.633Z"
   },
   {
    "duration": 12,
    "start_time": "2022-02-11T01:52:57.673Z"
   },
   {
    "duration": 10,
    "start_time": "2022-02-11T01:52:57.687Z"
   },
   {
    "duration": 69,
    "start_time": "2022-02-11T01:52:57.700Z"
   },
   {
    "duration": 7,
    "start_time": "2022-02-11T01:52:57.771Z"
   },
   {
    "duration": 51,
    "start_time": "2022-02-11T01:52:57.780Z"
   },
   {
    "duration": 36,
    "start_time": "2022-02-11T01:52:57.833Z"
   },
   {
    "duration": 7,
    "start_time": "2022-02-11T01:52:57.871Z"
   },
   {
    "duration": 15,
    "start_time": "2022-02-11T01:52:57.880Z"
   },
   {
    "duration": 10,
    "start_time": "2022-02-11T01:52:57.897Z"
   },
   {
    "duration": 5,
    "start_time": "2022-02-11T01:52:57.910Z"
   },
   {
    "duration": 68,
    "start_time": "2022-02-11T01:52:57.917Z"
   },
   {
    "duration": 27,
    "start_time": "2022-02-11T01:52:57.987Z"
   },
   {
    "duration": 484,
    "start_time": "2022-02-11T01:52:58.020Z"
   },
   {
    "duration": 593,
    "start_time": "2022-02-11T01:52:58.507Z"
   },
   {
    "duration": 734,
    "start_time": "2022-02-11T01:52:59.102Z"
   },
   {
    "duration": 9,
    "start_time": "2022-02-11T01:52:59.838Z"
   },
   {
    "duration": 20,
    "start_time": "2022-02-11T01:52:59.849Z"
   },
   {
    "duration": 917,
    "start_time": "2022-02-11T01:52:59.872Z"
   },
   {
    "duration": 6,
    "start_time": "2022-02-11T01:53:00.791Z"
   },
   {
    "duration": 482,
    "start_time": "2022-02-11T01:53:00.799Z"
   },
   {
    "duration": 691,
    "start_time": "2022-02-11T01:53:01.283Z"
   },
   {
    "duration": 557,
    "start_time": "2022-02-11T01:53:01.977Z"
   },
   {
    "duration": 9,
    "start_time": "2022-02-11T01:53:02.536Z"
   },
   {
    "duration": 22,
    "start_time": "2022-02-11T01:53:02.547Z"
   },
   {
    "duration": 465,
    "start_time": "2022-02-11T01:53:02.572Z"
   },
   {
    "duration": 499,
    "start_time": "2022-02-11T01:53:03.039Z"
   },
   {
    "duration": 7,
    "start_time": "2022-02-11T01:53:03.540Z"
   },
   {
    "duration": 391,
    "start_time": "2022-02-11T01:53:03.550Z"
   },
   {
    "duration": 3268,
    "start_time": "2022-02-11T01:53:03.943Z"
   },
   {
    "duration": 468,
    "start_time": "2022-02-11T01:53:07.213Z"
   },
   {
    "duration": 4,
    "start_time": "2022-02-11T01:53:07.684Z"
   },
   {
    "duration": 788,
    "start_time": "2022-02-11T01:53:07.691Z"
   },
   {
    "duration": 809,
    "start_time": "2022-02-11T01:53:08.482Z"
   },
   {
    "duration": 783,
    "start_time": "2022-02-11T01:53:09.294Z"
   },
   {
    "duration": 13,
    "start_time": "2022-02-11T01:53:10.080Z"
   },
   {
    "duration": 287,
    "start_time": "2022-02-11T01:53:10.096Z"
   },
   {
    "duration": 13,
    "start_time": "2022-02-11T01:53:10.385Z"
   },
   {
    "duration": 286,
    "start_time": "2022-02-11T01:53:10.400Z"
   },
   {
    "duration": 13,
    "start_time": "2022-02-11T01:53:10.689Z"
   },
   {
    "duration": 378,
    "start_time": "2022-02-11T01:53:10.705Z"
   },
   {
    "duration": 15,
    "start_time": "2022-02-11T01:53:11.085Z"
   },
   {
    "duration": 270,
    "start_time": "2022-02-11T01:53:11.102Z"
   },
   {
    "duration": 13,
    "start_time": "2022-02-11T01:53:11.374Z"
   },
   {
    "duration": 3,
    "start_time": "2022-02-11T01:53:11.390Z"
   },
   {
    "duration": 10,
    "start_time": "2022-02-11T01:53:11.395Z"
   },
   {
    "duration": 8,
    "start_time": "2022-02-11T01:53:11.407Z"
   },
   {
    "duration": 8,
    "start_time": "2022-02-11T01:53:11.417Z"
   },
   {
    "duration": 43,
    "start_time": "2022-02-11T01:53:11.427Z"
   },
   {
    "duration": 8,
    "start_time": "2022-02-11T01:53:11.472Z"
   },
   {
    "duration": 1461,
    "start_time": "2022-02-11T01:54:39.915Z"
   },
   {
    "duration": 44,
    "start_time": "2022-02-11T01:54:41.379Z"
   },
   {
    "duration": 48,
    "start_time": "2022-02-11T01:54:41.426Z"
   },
   {
    "duration": 44,
    "start_time": "2022-02-11T01:54:41.477Z"
   },
   {
    "duration": 11,
    "start_time": "2022-02-11T01:54:41.523Z"
   },
   {
    "duration": 40,
    "start_time": "2022-02-11T01:54:41.537Z"
   },
   {
    "duration": 22,
    "start_time": "2022-02-11T01:54:41.580Z"
   },
   {
    "duration": 22,
    "start_time": "2022-02-11T01:54:41.606Z"
   },
   {
    "duration": 40,
    "start_time": "2022-02-11T01:54:41.631Z"
   },
   {
    "duration": 14,
    "start_time": "2022-02-11T01:54:41.673Z"
   },
   {
    "duration": 13,
    "start_time": "2022-02-11T01:54:41.689Z"
   },
   {
    "duration": 65,
    "start_time": "2022-02-11T01:54:41.704Z"
   },
   {
    "duration": 7,
    "start_time": "2022-02-11T01:54:41.772Z"
   },
   {
    "duration": 50,
    "start_time": "2022-02-11T01:54:41.781Z"
   },
   {
    "duration": 38,
    "start_time": "2022-02-11T01:54:41.833Z"
   },
   {
    "duration": 7,
    "start_time": "2022-02-11T01:54:41.873Z"
   },
   {
    "duration": 13,
    "start_time": "2022-02-11T01:54:41.882Z"
   },
   {
    "duration": 10,
    "start_time": "2022-02-11T01:54:41.897Z"
   },
   {
    "duration": 6,
    "start_time": "2022-02-11T01:54:41.910Z"
   },
   {
    "duration": 70,
    "start_time": "2022-02-11T01:54:41.918Z"
   },
   {
    "duration": 25,
    "start_time": "2022-02-11T01:54:41.990Z"
   },
   {
    "duration": 483,
    "start_time": "2022-02-11T01:54:42.017Z"
   },
   {
    "duration": 597,
    "start_time": "2022-02-11T01:54:42.506Z"
   },
   {
    "duration": 645,
    "start_time": "2022-02-11T01:54:43.107Z"
   },
   {
    "duration": 19,
    "start_time": "2022-02-11T01:54:43.754Z"
   },
   {
    "duration": 3,
    "start_time": "2022-02-11T01:54:43.776Z"
   },
   {
    "duration": 1020,
    "start_time": "2022-02-11T01:54:43.781Z"
   },
   {
    "duration": 5,
    "start_time": "2022-02-11T01:54:44.804Z"
   },
   {
    "duration": 548,
    "start_time": "2022-02-11T01:54:44.812Z"
   },
   {
    "duration": 611,
    "start_time": "2022-02-11T01:54:45.363Z"
   },
   {
    "duration": 551,
    "start_time": "2022-02-11T01:54:45.976Z"
   },
   {
    "duration": 10,
    "start_time": "2022-02-11T01:54:46.529Z"
   },
   {
    "duration": 27,
    "start_time": "2022-02-11T01:54:46.542Z"
   },
   {
    "duration": 458,
    "start_time": "2022-02-11T01:54:46.572Z"
   },
   {
    "duration": 479,
    "start_time": "2022-02-11T01:54:47.033Z"
   },
   {
    "duration": 8,
    "start_time": "2022-02-11T01:54:47.515Z"
   },
   {
    "duration": 419,
    "start_time": "2022-02-11T01:54:47.525Z"
   },
   {
    "duration": 3273,
    "start_time": "2022-02-11T01:54:47.947Z"
   },
   {
    "duration": 471,
    "start_time": "2022-02-11T01:54:51.223Z"
   },
   {
    "duration": 5,
    "start_time": "2022-02-11T01:54:51.697Z"
   },
   {
    "duration": 818,
    "start_time": "2022-02-11T01:54:51.704Z"
   },
   {
    "duration": 924,
    "start_time": "2022-02-11T01:54:52.524Z"
   },
   {
    "duration": 797,
    "start_time": "2022-02-11T01:54:53.451Z"
   },
   {
    "duration": 25,
    "start_time": "2022-02-11T01:54:54.251Z"
   },
   {
    "duration": 290,
    "start_time": "2022-02-11T01:54:54.279Z"
   },
   {
    "duration": 12,
    "start_time": "2022-02-11T01:54:54.571Z"
   },
   {
    "duration": 474,
    "start_time": "2022-02-11T01:54:54.585Z"
   },
   {
    "duration": 13,
    "start_time": "2022-02-11T01:54:55.069Z"
   },
   {
    "duration": 258,
    "start_time": "2022-02-11T01:54:55.085Z"
   },
   {
    "duration": 25,
    "start_time": "2022-02-11T01:54:55.346Z"
   },
   {
    "duration": 252,
    "start_time": "2022-02-11T01:54:55.374Z"
   },
   {
    "duration": 12,
    "start_time": "2022-02-11T01:54:55.628Z"
   },
   {
    "duration": 26,
    "start_time": "2022-02-11T01:54:55.643Z"
   },
   {
    "duration": 16,
    "start_time": "2022-02-11T01:54:55.672Z"
   },
   {
    "duration": 11,
    "start_time": "2022-02-11T01:54:55.690Z"
   },
   {
    "duration": 14,
    "start_time": "2022-02-11T01:54:55.703Z"
   },
   {
    "duration": 18,
    "start_time": "2022-02-11T01:54:55.720Z"
   },
   {
    "duration": 15,
    "start_time": "2022-02-11T01:54:55.740Z"
   },
   {
    "duration": 1517,
    "start_time": "2022-02-11T01:56:36.370Z"
   },
   {
    "duration": 46,
    "start_time": "2022-02-11T01:56:37.890Z"
   },
   {
    "duration": 52,
    "start_time": "2022-02-11T01:56:37.939Z"
   },
   {
    "duration": 45,
    "start_time": "2022-02-11T01:56:37.995Z"
   },
   {
    "duration": 38,
    "start_time": "2022-02-11T01:56:38.043Z"
   },
   {
    "duration": 19,
    "start_time": "2022-02-11T01:56:38.084Z"
   },
   {
    "duration": 31,
    "start_time": "2022-02-11T01:56:38.105Z"
   },
   {
    "duration": 52,
    "start_time": "2022-02-11T01:56:38.140Z"
   },
   {
    "duration": 6,
    "start_time": "2022-02-11T01:56:38.195Z"
   },
   {
    "duration": 8,
    "start_time": "2022-02-11T01:56:38.204Z"
   },
   {
    "duration": 16,
    "start_time": "2022-02-11T01:56:38.214Z"
   },
   {
    "duration": 63,
    "start_time": "2022-02-11T01:56:38.233Z"
   },
   {
    "duration": 6,
    "start_time": "2022-02-11T01:56:38.298Z"
   },
   {
    "duration": 71,
    "start_time": "2022-02-11T01:56:38.306Z"
   },
   {
    "duration": 7,
    "start_time": "2022-02-11T01:56:38.380Z"
   },
   {
    "duration": 17,
    "start_time": "2022-02-11T01:56:38.390Z"
   },
   {
    "duration": 12,
    "start_time": "2022-02-11T01:56:38.410Z"
   },
   {
    "duration": 10,
    "start_time": "2022-02-11T01:56:38.424Z"
   },
   {
    "duration": 35,
    "start_time": "2022-02-11T01:56:38.436Z"
   },
   {
    "duration": 26,
    "start_time": "2022-02-11T01:56:38.473Z"
   },
   {
    "duration": 27,
    "start_time": "2022-02-11T01:56:38.501Z"
   },
   {
    "duration": 480,
    "start_time": "2022-02-11T01:56:38.530Z"
   },
   {
    "duration": 580,
    "start_time": "2022-02-11T01:56:39.015Z"
   },
   {
    "duration": 644,
    "start_time": "2022-02-11T01:56:39.598Z"
   },
   {
    "duration": 9,
    "start_time": "2022-02-11T01:56:40.244Z"
   },
   {
    "duration": 3,
    "start_time": "2022-02-11T01:56:40.270Z"
   },
   {
    "duration": 929,
    "start_time": "2022-02-11T01:56:40.276Z"
   },
   {
    "duration": 5,
    "start_time": "2022-02-11T01:56:41.208Z"
   },
   {
    "duration": 550,
    "start_time": "2022-02-11T01:56:41.215Z"
   },
   {
    "duration": 594,
    "start_time": "2022-02-11T01:56:41.770Z"
   },
   {
    "duration": 550,
    "start_time": "2022-02-11T01:56:42.369Z"
   },
   {
    "duration": 9,
    "start_time": "2022-02-11T01:56:42.921Z"
   },
   {
    "duration": 7,
    "start_time": "2022-02-11T01:56:42.933Z"
   },
   {
    "duration": 488,
    "start_time": "2022-02-11T01:56:42.942Z"
   },
   {
    "duration": 484,
    "start_time": "2022-02-11T01:56:43.432Z"
   },
   {
    "duration": 6,
    "start_time": "2022-02-11T01:56:43.919Z"
   },
   {
    "duration": 417,
    "start_time": "2022-02-11T01:56:43.928Z"
   },
   {
    "duration": 2924,
    "start_time": "2022-02-11T01:56:44.348Z"
   },
   {
    "duration": 465,
    "start_time": "2022-02-11T01:56:47.275Z"
   },
   {
    "duration": 7,
    "start_time": "2022-02-11T01:56:47.743Z"
   },
   {
    "duration": 790,
    "start_time": "2022-02-11T01:56:47.752Z"
   },
   {
    "duration": 790,
    "start_time": "2022-02-11T01:56:48.544Z"
   },
   {
    "duration": 858,
    "start_time": "2022-02-11T01:56:49.336Z"
   },
   {
    "duration": 14,
    "start_time": "2022-02-11T01:56:50.197Z"
   },
   {
    "duration": 282,
    "start_time": "2022-02-11T01:56:50.214Z"
   },
   {
    "duration": 12,
    "start_time": "2022-02-11T01:56:50.498Z"
   },
   {
    "duration": 396,
    "start_time": "2022-02-11T01:56:50.512Z"
   },
   {
    "duration": 12,
    "start_time": "2022-02-11T01:56:50.911Z"
   },
   {
    "duration": 258,
    "start_time": "2022-02-11T01:56:50.925Z"
   },
   {
    "duration": 14,
    "start_time": "2022-02-11T01:56:51.185Z"
   },
   {
    "duration": 271,
    "start_time": "2022-02-11T01:56:51.202Z"
   },
   {
    "duration": 14,
    "start_time": "2022-02-11T01:56:51.475Z"
   },
   {
    "duration": 5,
    "start_time": "2022-02-11T01:56:51.491Z"
   },
   {
    "duration": 5,
    "start_time": "2022-02-11T01:56:51.498Z"
   },
   {
    "duration": 9,
    "start_time": "2022-02-11T01:56:51.506Z"
   },
   {
    "duration": 6,
    "start_time": "2022-02-11T01:56:51.517Z"
   },
   {
    "duration": 4,
    "start_time": "2022-02-11T01:56:51.570Z"
   },
   {
    "duration": 7,
    "start_time": "2022-02-11T01:56:51.577Z"
   },
   {
    "duration": 1089,
    "start_time": "2022-02-17T00:19:26.057Z"
   },
   {
    "duration": 36,
    "start_time": "2022-02-17T00:19:30.368Z"
   },
   {
    "duration": 23,
    "start_time": "2022-02-17T00:19:30.726Z"
   },
   {
    "duration": 27,
    "start_time": "2022-02-17T00:19:32.846Z"
   },
   {
    "duration": 8,
    "start_time": "2022-02-17T00:19:39.906Z"
   },
   {
    "duration": 10,
    "start_time": "2022-02-17T00:19:44.276Z"
   },
   {
    "duration": 13,
    "start_time": "2022-02-17T00:19:46.940Z"
   },
   {
    "duration": 14,
    "start_time": "2022-02-17T00:19:48.815Z"
   },
   {
    "duration": 6,
    "start_time": "2022-02-17T00:20:20.280Z"
   },
   {
    "duration": 6,
    "start_time": "2022-02-17T00:20:22.886Z"
   },
   {
    "duration": 7,
    "start_time": "2022-02-17T00:20:49.516Z"
   },
   {
    "duration": 11,
    "start_time": "2022-02-17T00:27:08.066Z"
   },
   {
    "duration": 1122,
    "start_time": "2022-02-17T00:27:13.221Z"
   },
   {
    "duration": 35,
    "start_time": "2022-02-17T00:27:14.344Z"
   },
   {
    "duration": 21,
    "start_time": "2022-02-17T00:27:14.381Z"
   },
   {
    "duration": 25,
    "start_time": "2022-02-17T00:27:14.404Z"
   },
   {
    "duration": 16,
    "start_time": "2022-02-17T00:27:14.431Z"
   },
   {
    "duration": 9,
    "start_time": "2022-02-17T00:27:14.448Z"
   },
   {
    "duration": 13,
    "start_time": "2022-02-17T00:27:14.459Z"
   },
   {
    "duration": 13,
    "start_time": "2022-02-17T00:27:14.475Z"
   },
   {
    "duration": 11,
    "start_time": "2022-02-17T00:27:14.490Z"
   },
   {
    "duration": 4,
    "start_time": "2022-02-17T00:27:14.503Z"
   },
   {
    "duration": 41,
    "start_time": "2022-02-17T00:27:14.509Z"
   },
   {
    "duration": 7,
    "start_time": "2022-02-17T00:27:14.551Z"
   },
   {
    "duration": 22,
    "start_time": "2022-02-17T00:27:14.559Z"
   },
   {
    "duration": 4,
    "start_time": "2022-02-17T00:27:14.582Z"
   },
   {
    "duration": 28,
    "start_time": "2022-02-17T00:27:14.587Z"
   },
   {
    "duration": 5,
    "start_time": "2022-02-17T00:27:14.646Z"
   },
   {
    "duration": 3,
    "start_time": "2022-02-17T00:27:14.653Z"
   },
   {
    "duration": 12,
    "start_time": "2022-02-17T00:27:14.658Z"
   },
   {
    "duration": 6,
    "start_time": "2022-02-17T00:27:14.671Z"
   },
   {
    "duration": 9,
    "start_time": "2022-02-17T00:27:14.679Z"
   },
   {
    "duration": 17,
    "start_time": "2022-02-17T00:27:14.690Z"
   },
   {
    "duration": 40,
    "start_time": "2022-02-17T00:27:14.708Z"
   },
   {
    "duration": 257,
    "start_time": "2022-02-17T00:27:14.752Z"
   },
   {
    "duration": 312,
    "start_time": "2022-02-17T00:27:15.011Z"
   },
   {
    "duration": 338,
    "start_time": "2022-02-17T00:27:15.325Z"
   },
   {
    "duration": 7,
    "start_time": "2022-02-17T00:27:15.664Z"
   },
   {
    "duration": 3,
    "start_time": "2022-02-17T00:27:15.672Z"
   },
   {
    "duration": 503,
    "start_time": "2022-02-17T00:27:15.677Z"
   },
   {
    "duration": 4,
    "start_time": "2022-02-17T00:27:16.181Z"
   },
   {
    "duration": 247,
    "start_time": "2022-02-17T00:27:16.186Z"
   },
   {
    "duration": 378,
    "start_time": "2022-02-17T00:27:16.434Z"
   },
   {
    "duration": 301,
    "start_time": "2022-02-17T00:27:16.813Z"
   },
   {
    "duration": 6,
    "start_time": "2022-02-17T00:27:17.116Z"
   },
   {
    "duration": 10,
    "start_time": "2022-02-17T00:27:17.123Z"
   },
   {
    "duration": 341,
    "start_time": "2022-02-17T00:27:17.134Z"
   },
   {
    "duration": 310,
    "start_time": "2022-02-17T00:27:17.476Z"
   },
   {
    "duration": 4,
    "start_time": "2022-02-17T00:27:17.788Z"
   },
   {
    "duration": 280,
    "start_time": "2022-02-17T00:27:17.794Z"
   },
   {
    "duration": 2142,
    "start_time": "2022-02-17T00:27:18.075Z"
   },
   {
    "duration": 274,
    "start_time": "2022-02-17T00:27:20.219Z"
   },
   {
    "duration": 4,
    "start_time": "2022-02-17T00:27:20.494Z"
   },
   {
    "duration": 438,
    "start_time": "2022-02-17T00:27:20.499Z"
   },
   {
    "duration": 457,
    "start_time": "2022-02-17T00:27:20.939Z"
   },
   {
    "duration": 427,
    "start_time": "2022-02-17T00:27:21.398Z"
   },
   {
    "duration": 9,
    "start_time": "2022-02-17T00:27:21.826Z"
   },
   {
    "duration": 149,
    "start_time": "2022-02-17T00:27:21.836Z"
   },
   {
    "duration": 7,
    "start_time": "2022-02-17T00:27:21.987Z"
   },
   {
    "duration": 151,
    "start_time": "2022-02-17T00:27:21.995Z"
   },
   {
    "duration": 9,
    "start_time": "2022-02-17T00:27:22.147Z"
   },
   {
    "duration": 230,
    "start_time": "2022-02-17T00:27:22.157Z"
   },
   {
    "duration": 8,
    "start_time": "2022-02-17T00:27:22.389Z"
   },
   {
    "duration": 149,
    "start_time": "2022-02-17T00:27:22.399Z"
   },
   {
    "duration": 9,
    "start_time": "2022-02-17T00:27:22.550Z"
   },
   {
    "duration": 5,
    "start_time": "2022-02-17T00:27:22.560Z"
   },
   {
    "duration": 8,
    "start_time": "2022-02-17T00:27:22.567Z"
   },
   {
    "duration": 5,
    "start_time": "2022-02-17T00:27:22.576Z"
   },
   {
    "duration": 4,
    "start_time": "2022-02-17T00:27:22.583Z"
   },
   {
    "duration": 7,
    "start_time": "2022-02-17T00:27:22.589Z"
   },
   {
    "duration": 6,
    "start_time": "2022-02-17T00:27:22.597Z"
   },
   {
    "duration": 5,
    "start_time": "2022-02-17T00:37:04.013Z"
   },
   {
    "duration": 1117,
    "start_time": "2022-02-17T00:37:52.718Z"
   },
   {
    "duration": 35,
    "start_time": "2022-02-17T00:37:53.836Z"
   },
   {
    "duration": 22,
    "start_time": "2022-02-17T00:37:53.874Z"
   },
   {
    "duration": 25,
    "start_time": "2022-02-17T00:37:53.898Z"
   },
   {
    "duration": 25,
    "start_time": "2022-02-17T00:37:53.925Z"
   },
   {
    "duration": 10,
    "start_time": "2022-02-17T00:37:53.952Z"
   },
   {
    "duration": 12,
    "start_time": "2022-02-17T00:37:53.964Z"
   },
   {
    "duration": 14,
    "start_time": "2022-02-17T00:37:53.978Z"
   },
   {
    "duration": 10,
    "start_time": "2022-02-17T00:37:53.994Z"
   },
   {
    "duration": 5,
    "start_time": "2022-02-17T00:37:54.005Z"
   },
   {
    "duration": 36,
    "start_time": "2022-02-17T00:37:54.011Z"
   },
   {
    "duration": 7,
    "start_time": "2022-02-17T00:37:54.049Z"
   },
   {
    "duration": 22,
    "start_time": "2022-02-17T00:37:54.058Z"
   },
   {
    "duration": 4,
    "start_time": "2022-02-17T00:37:54.082Z"
   },
   {
    "duration": 7,
    "start_time": "2022-02-17T00:37:54.087Z"
   },
   {
    "duration": 61,
    "start_time": "2022-02-17T00:37:54.096Z"
   },
   {
    "duration": 6,
    "start_time": "2022-02-17T00:37:54.158Z"
   },
   {
    "duration": 4,
    "start_time": "2022-02-17T00:37:54.165Z"
   },
   {
    "duration": 11,
    "start_time": "2022-02-17T00:37:54.171Z"
   },
   {
    "duration": 6,
    "start_time": "2022-02-17T00:37:54.183Z"
   },
   {
    "duration": 5,
    "start_time": "2022-02-17T00:37:54.191Z"
   },
   {
    "duration": 12,
    "start_time": "2022-02-17T00:37:54.199Z"
   },
   {
    "duration": 14,
    "start_time": "2022-02-17T00:37:54.245Z"
   },
   {
    "duration": 254,
    "start_time": "2022-02-17T00:37:54.260Z"
   },
   {
    "duration": 317,
    "start_time": "2022-02-17T00:37:54.516Z"
   },
   {
    "duration": 347,
    "start_time": "2022-02-17T00:37:54.834Z"
   },
   {
    "duration": 6,
    "start_time": "2022-02-17T00:37:55.183Z"
   },
   {
    "duration": 4,
    "start_time": "2022-02-17T00:37:55.191Z"
   },
   {
    "duration": 509,
    "start_time": "2022-02-17T00:37:55.197Z"
   },
   {
    "duration": 4,
    "start_time": "2022-02-17T00:37:55.707Z"
   },
   {
    "duration": 314,
    "start_time": "2022-02-17T00:37:55.713Z"
   },
   {
    "duration": 336,
    "start_time": "2022-02-17T00:37:56.028Z"
   },
   {
    "duration": 301,
    "start_time": "2022-02-17T00:37:56.366Z"
   },
   {
    "duration": 6,
    "start_time": "2022-02-17T00:37:56.668Z"
   },
   {
    "duration": 5,
    "start_time": "2022-02-17T00:37:56.676Z"
   },
   {
    "duration": 294,
    "start_time": "2022-02-17T00:37:56.682Z"
   },
   {
    "duration": 294,
    "start_time": "2022-02-17T00:37:56.978Z"
   },
   {
    "duration": 4,
    "start_time": "2022-02-17T00:37:57.273Z"
   },
   {
    "duration": 230,
    "start_time": "2022-02-17T00:37:57.278Z"
   },
   {
    "duration": 2106,
    "start_time": "2022-02-17T00:37:57.509Z"
   },
   {
    "duration": 284,
    "start_time": "2022-02-17T00:37:59.617Z"
   },
   {
    "duration": 4,
    "start_time": "2022-02-17T00:37:59.903Z"
   },
   {
    "duration": 451,
    "start_time": "2022-02-17T00:37:59.908Z"
   },
   {
    "duration": 472,
    "start_time": "2022-02-17T00:38:00.361Z"
   },
   {
    "duration": 434,
    "start_time": "2022-02-17T00:38:00.834Z"
   },
   {
    "duration": 9,
    "start_time": "2022-02-17T00:38:01.269Z"
   },
   {
    "duration": 152,
    "start_time": "2022-02-17T00:38:01.279Z"
   },
   {
    "duration": 13,
    "start_time": "2022-02-17T00:38:01.433Z"
   },
   {
    "duration": 249,
    "start_time": "2022-02-17T00:38:01.448Z"
   },
   {
    "duration": 8,
    "start_time": "2022-02-17T00:38:01.698Z"
   },
   {
    "duration": 148,
    "start_time": "2022-02-17T00:38:01.708Z"
   },
   {
    "duration": 8,
    "start_time": "2022-02-17T00:38:01.858Z"
   },
   {
    "duration": 139,
    "start_time": "2022-02-17T00:38:01.867Z"
   },
   {
    "duration": 9,
    "start_time": "2022-02-17T00:38:02.007Z"
   },
   {
    "duration": 5,
    "start_time": "2022-02-17T00:38:02.017Z"
   },
   {
    "duration": 4,
    "start_time": "2022-02-17T00:38:02.024Z"
   },
   {
    "duration": 18,
    "start_time": "2022-02-17T00:38:02.030Z"
   },
   {
    "duration": 11,
    "start_time": "2022-02-17T00:38:02.049Z"
   },
   {
    "duration": 6,
    "start_time": "2022-02-17T00:38:02.062Z"
   },
   {
    "duration": 5,
    "start_time": "2022-02-17T00:38:02.070Z"
   },
   {
    "duration": 22,
    "start_time": "2022-02-17T00:44:11.491Z"
   },
   {
    "duration": 1106,
    "start_time": "2022-02-17T00:44:18.436Z"
   },
   {
    "duration": 35,
    "start_time": "2022-02-17T00:44:19.544Z"
   },
   {
    "duration": 22,
    "start_time": "2022-02-17T00:44:19.581Z"
   },
   {
    "duration": 24,
    "start_time": "2022-02-17T00:44:19.605Z"
   },
   {
    "duration": 16,
    "start_time": "2022-02-17T00:44:19.630Z"
   },
   {
    "duration": 7,
    "start_time": "2022-02-17T00:44:19.648Z"
   },
   {
    "duration": 16,
    "start_time": "2022-02-17T00:44:19.656Z"
   },
   {
    "duration": 15,
    "start_time": "2022-02-17T00:44:19.673Z"
   },
   {
    "duration": 10,
    "start_time": "2022-02-17T00:44:19.690Z"
   },
   {
    "duration": 4,
    "start_time": "2022-02-17T00:44:19.702Z"
   },
   {
    "duration": 7,
    "start_time": "2022-02-17T00:44:19.707Z"
   },
   {
    "duration": 7,
    "start_time": "2022-02-17T00:44:19.715Z"
   },
   {
    "duration": 21,
    "start_time": "2022-02-17T00:44:19.746Z"
   },
   {
    "duration": 3,
    "start_time": "2022-02-17T00:44:19.769Z"
   },
   {
    "duration": 10,
    "start_time": "2022-02-17T00:44:19.774Z"
   },
   {
    "duration": 30,
    "start_time": "2022-02-17T00:44:19.785Z"
   },
   {
    "duration": 5,
    "start_time": "2022-02-17T00:44:19.816Z"
   },
   {
    "duration": 25,
    "start_time": "2022-02-17T00:44:19.822Z"
   },
   {
    "duration": 12,
    "start_time": "2022-02-17T00:44:19.848Z"
   },
   {
    "duration": 6,
    "start_time": "2022-02-17T00:44:19.862Z"
   },
   {
    "duration": 6,
    "start_time": "2022-02-17T00:44:19.869Z"
   },
   {
    "duration": 18,
    "start_time": "2022-02-17T00:44:19.877Z"
   },
   {
    "duration": 14,
    "start_time": "2022-02-17T00:44:19.896Z"
   },
   {
    "duration": 280,
    "start_time": "2022-02-17T00:44:19.911Z"
   },
   {
    "duration": 319,
    "start_time": "2022-02-17T00:44:20.192Z"
   },
   {
    "duration": 349,
    "start_time": "2022-02-17T00:44:20.512Z"
   },
   {
    "duration": 7,
    "start_time": "2022-02-17T00:44:20.864Z"
   },
   {
    "duration": 4,
    "start_time": "2022-02-17T00:44:20.873Z"
   },
   {
    "duration": 519,
    "start_time": "2022-02-17T00:44:20.878Z"
   },
   {
    "duration": 4,
    "start_time": "2022-02-17T00:44:21.399Z"
   },
   {
    "duration": 320,
    "start_time": "2022-02-17T00:44:21.404Z"
   },
   {
    "duration": 334,
    "start_time": "2022-02-17T00:44:21.726Z"
   },
   {
    "duration": 302,
    "start_time": "2022-02-17T00:44:22.062Z"
   },
   {
    "duration": 6,
    "start_time": "2022-02-17T00:44:22.365Z"
   },
   {
    "duration": 22,
    "start_time": "2022-02-17T00:44:22.373Z"
   },
   {
    "duration": 306,
    "start_time": "2022-02-17T00:44:22.397Z"
   },
   {
    "duration": 297,
    "start_time": "2022-02-17T00:44:22.704Z"
   },
   {
    "duration": 4,
    "start_time": "2022-02-17T00:44:23.003Z"
   },
   {
    "duration": 282,
    "start_time": "2022-02-17T00:44:23.008Z"
   },
   {
    "duration": 1988,
    "start_time": "2022-02-17T00:44:23.292Z"
   },
   {
    "duration": 254,
    "start_time": "2022-02-17T00:44:25.282Z"
   },
   {
    "duration": 3,
    "start_time": "2022-02-17T00:44:25.537Z"
   },
   {
    "duration": 417,
    "start_time": "2022-02-17T00:44:25.546Z"
   },
   {
    "duration": 454,
    "start_time": "2022-02-17T00:44:25.964Z"
   },
   {
    "duration": 416,
    "start_time": "2022-02-17T00:44:26.420Z"
   },
   {
    "duration": 15,
    "start_time": "2022-02-17T00:44:26.838Z"
   },
   {
    "duration": 146,
    "start_time": "2022-02-17T00:44:26.854Z"
   },
   {
    "duration": 8,
    "start_time": "2022-02-17T00:44:27.001Z"
   },
   {
    "duration": 227,
    "start_time": "2022-02-17T00:44:27.010Z"
   },
   {
    "duration": 11,
    "start_time": "2022-02-17T00:44:27.239Z"
   },
   {
    "duration": 134,
    "start_time": "2022-02-17T00:44:27.251Z"
   },
   {
    "duration": 8,
    "start_time": "2022-02-17T00:44:27.386Z"
   },
   {
    "duration": 140,
    "start_time": "2022-02-17T00:44:27.396Z"
   },
   {
    "duration": 14,
    "start_time": "2022-02-17T00:44:27.537Z"
   },
   {
    "duration": 3,
    "start_time": "2022-02-17T00:44:27.552Z"
   },
   {
    "duration": 4,
    "start_time": "2022-02-17T00:44:27.556Z"
   },
   {
    "duration": 5,
    "start_time": "2022-02-17T00:44:27.562Z"
   },
   {
    "duration": 4,
    "start_time": "2022-02-17T00:44:27.568Z"
   },
   {
    "duration": 5,
    "start_time": "2022-02-17T00:44:27.574Z"
   },
   {
    "duration": 5,
    "start_time": "2022-02-17T00:44:27.580Z"
   },
   {
    "duration": 225,
    "start_time": "2022-02-17T00:49:44.958Z"
   },
   {
    "duration": 301,
    "start_time": "2022-02-17T00:50:19.246Z"
   },
   {
    "duration": 181,
    "start_time": "2022-02-17T00:52:12.517Z"
   },
   {
    "duration": 225,
    "start_time": "2022-02-17T00:52:16.621Z"
   },
   {
    "duration": 230,
    "start_time": "2022-02-17T00:53:03.423Z"
   },
   {
    "duration": 1066,
    "start_time": "2022-02-17T00:53:20.673Z"
   },
   {
    "duration": 34,
    "start_time": "2022-02-17T00:53:21.741Z"
   },
   {
    "duration": 20,
    "start_time": "2022-02-17T00:53:21.777Z"
   },
   {
    "duration": 26,
    "start_time": "2022-02-17T00:53:21.798Z"
   },
   {
    "duration": 20,
    "start_time": "2022-02-17T00:53:21.826Z"
   },
   {
    "duration": 9,
    "start_time": "2022-02-17T00:53:21.848Z"
   },
   {
    "duration": 14,
    "start_time": "2022-02-17T00:53:21.859Z"
   },
   {
    "duration": 17,
    "start_time": "2022-02-17T00:53:21.875Z"
   },
   {
    "duration": 10,
    "start_time": "2022-02-17T00:53:21.894Z"
   },
   {
    "duration": 4,
    "start_time": "2022-02-17T00:53:21.905Z"
   },
   {
    "duration": 36,
    "start_time": "2022-02-17T00:53:21.911Z"
   },
   {
    "duration": 5,
    "start_time": "2022-02-17T00:53:21.949Z"
   },
   {
    "duration": 28,
    "start_time": "2022-02-17T00:53:21.956Z"
   },
   {
    "duration": 4,
    "start_time": "2022-02-17T00:53:21.985Z"
   },
   {
    "duration": 6,
    "start_time": "2022-02-17T00:53:21.990Z"
   },
   {
    "duration": 27,
    "start_time": "2022-02-17T00:53:21.997Z"
   },
   {
    "duration": 22,
    "start_time": "2022-02-17T00:53:22.025Z"
   },
   {
    "duration": 4,
    "start_time": "2022-02-17T00:53:22.048Z"
   },
   {
    "duration": 15,
    "start_time": "2022-02-17T00:53:22.054Z"
   },
   {
    "duration": 6,
    "start_time": "2022-02-17T00:53:22.071Z"
   },
   {
    "duration": 9,
    "start_time": "2022-02-17T00:53:22.078Z"
   },
   {
    "duration": 16,
    "start_time": "2022-02-17T00:53:22.089Z"
   },
   {
    "duration": 39,
    "start_time": "2022-02-17T00:53:22.108Z"
   },
   {
    "duration": 252,
    "start_time": "2022-02-17T00:53:22.149Z"
   },
   {
    "duration": 309,
    "start_time": "2022-02-17T00:53:22.402Z"
   },
   {
    "duration": 343,
    "start_time": "2022-02-17T00:53:22.712Z"
   },
   {
    "duration": 6,
    "start_time": "2022-02-17T00:53:23.056Z"
   },
   {
    "duration": 4,
    "start_time": "2022-02-17T00:53:23.063Z"
   },
   {
    "duration": 502,
    "start_time": "2022-02-17T00:53:23.069Z"
   },
   {
    "duration": 4,
    "start_time": "2022-02-17T00:53:23.573Z"
   },
   {
    "duration": 414,
    "start_time": "2022-02-17T00:53:23.578Z"
   },
   {
    "duration": 428,
    "start_time": "2022-02-17T00:53:23.994Z"
   },
   {
    "duration": 297,
    "start_time": "2022-02-17T00:53:24.423Z"
   },
   {
    "duration": 6,
    "start_time": "2022-02-17T00:53:24.722Z"
   },
   {
    "duration": 6,
    "start_time": "2022-02-17T00:53:24.729Z"
   },
   {
    "duration": 318,
    "start_time": "2022-02-17T00:53:24.737Z"
   },
   {
    "duration": 304,
    "start_time": "2022-02-17T00:53:25.057Z"
   },
   {
    "duration": 5,
    "start_time": "2022-02-17T00:53:25.362Z"
   },
   {
    "duration": 238,
    "start_time": "2022-02-17T00:53:25.368Z"
   },
   {
    "duration": 1972,
    "start_time": "2022-02-17T00:53:25.607Z"
   },
   {
    "duration": 250,
    "start_time": "2022-02-17T00:53:27.581Z"
   },
   {
    "duration": 4,
    "start_time": "2022-02-17T00:53:27.832Z"
   },
   {
    "duration": 416,
    "start_time": "2022-02-17T00:53:27.845Z"
   },
   {
    "duration": 443,
    "start_time": "2022-02-17T00:53:28.263Z"
   },
   {
    "duration": 458,
    "start_time": "2022-02-17T00:53:28.707Z"
   },
   {
    "duration": 8,
    "start_time": "2022-02-17T00:53:29.167Z"
   },
   {
    "duration": 144,
    "start_time": "2022-02-17T00:53:29.177Z"
   },
   {
    "duration": 8,
    "start_time": "2022-02-17T00:53:29.323Z"
   },
   {
    "duration": 235,
    "start_time": "2022-02-17T00:53:29.332Z"
   },
   {
    "duration": 8,
    "start_time": "2022-02-17T00:53:29.568Z"
   },
   {
    "duration": 132,
    "start_time": "2022-02-17T00:53:29.578Z"
   },
   {
    "duration": 9,
    "start_time": "2022-02-17T00:53:29.711Z"
   },
   {
    "duration": 132,
    "start_time": "2022-02-17T00:53:29.721Z"
   },
   {
    "duration": 9,
    "start_time": "2022-02-17T00:53:29.854Z"
   },
   {
    "duration": 3,
    "start_time": "2022-02-17T00:53:29.864Z"
   },
   {
    "duration": 5,
    "start_time": "2022-02-17T00:53:29.869Z"
   },
   {
    "duration": 4,
    "start_time": "2022-02-17T00:53:29.876Z"
   },
   {
    "duration": 4,
    "start_time": "2022-02-17T00:53:29.882Z"
   },
   {
    "duration": 5,
    "start_time": "2022-02-17T00:53:29.888Z"
   },
   {
    "duration": 6,
    "start_time": "2022-02-17T00:53:29.894Z"
   },
   {
    "duration": 322,
    "start_time": "2022-02-17T00:56:12.358Z"
   },
   {
    "duration": 1117,
    "start_time": "2022-02-17T00:56:17.722Z"
   },
   {
    "duration": 40,
    "start_time": "2022-02-17T00:56:18.840Z"
   },
   {
    "duration": 20,
    "start_time": "2022-02-17T00:56:18.883Z"
   },
   {
    "duration": 23,
    "start_time": "2022-02-17T00:56:18.905Z"
   },
   {
    "duration": 20,
    "start_time": "2022-02-17T00:56:18.929Z"
   },
   {
    "duration": 8,
    "start_time": "2022-02-17T00:56:18.950Z"
   },
   {
    "duration": 12,
    "start_time": "2022-02-17T00:56:18.960Z"
   },
   {
    "duration": 13,
    "start_time": "2022-02-17T00:56:18.974Z"
   },
   {
    "duration": 9,
    "start_time": "2022-02-17T00:56:18.988Z"
   },
   {
    "duration": 4,
    "start_time": "2022-02-17T00:56:18.999Z"
   },
   {
    "duration": 10,
    "start_time": "2022-02-17T00:56:19.004Z"
   },
   {
    "duration": 37,
    "start_time": "2022-02-17T00:56:19.015Z"
   },
   {
    "duration": 23,
    "start_time": "2022-02-17T00:56:19.054Z"
   },
   {
    "duration": 5,
    "start_time": "2022-02-17T00:56:19.079Z"
   },
   {
    "duration": 7,
    "start_time": "2022-02-17T00:56:19.085Z"
   },
   {
    "duration": 61,
    "start_time": "2022-02-17T00:56:19.093Z"
   },
   {
    "duration": 7,
    "start_time": "2022-02-17T00:56:19.156Z"
   },
   {
    "duration": 5,
    "start_time": "2022-02-17T00:56:19.164Z"
   },
   {
    "duration": 12,
    "start_time": "2022-02-17T00:56:19.171Z"
   },
   {
    "duration": 6,
    "start_time": "2022-02-17T00:56:19.184Z"
   },
   {
    "duration": 10,
    "start_time": "2022-02-17T00:56:19.192Z"
   },
   {
    "duration": 42,
    "start_time": "2022-02-17T00:56:19.205Z"
   },
   {
    "duration": 14,
    "start_time": "2022-02-17T00:56:19.249Z"
   },
   {
    "duration": 246,
    "start_time": "2022-02-17T00:56:19.264Z"
   },
   {
    "duration": 314,
    "start_time": "2022-02-17T00:56:19.511Z"
   },
   {
    "duration": 354,
    "start_time": "2022-02-17T00:56:19.827Z"
   },
   {
    "duration": 6,
    "start_time": "2022-02-17T00:56:20.182Z"
   },
   {
    "duration": 7,
    "start_time": "2022-02-17T00:56:20.190Z"
   },
   {
    "duration": 494,
    "start_time": "2022-02-17T00:56:20.198Z"
   },
   {
    "duration": 4,
    "start_time": "2022-02-17T00:56:20.693Z"
   },
   {
    "duration": 328,
    "start_time": "2022-02-17T00:56:20.698Z"
   },
   {
    "duration": 331,
    "start_time": "2022-02-17T00:56:21.028Z"
   },
   {
    "duration": 302,
    "start_time": "2022-02-17T00:56:21.360Z"
   },
   {
    "duration": 6,
    "start_time": "2022-02-17T00:56:21.664Z"
   },
   {
    "duration": 5,
    "start_time": "2022-02-17T00:56:21.671Z"
   },
   {
    "duration": 294,
    "start_time": "2022-02-17T00:56:21.677Z"
   },
   {
    "duration": 288,
    "start_time": "2022-02-17T00:56:21.972Z"
   },
   {
    "duration": 4,
    "start_time": "2022-02-17T00:56:22.261Z"
   },
   {
    "duration": 256,
    "start_time": "2022-02-17T00:56:22.267Z"
   },
   {
    "duration": 1973,
    "start_time": "2022-02-17T00:56:22.525Z"
   },
   {
    "duration": 257,
    "start_time": "2022-02-17T00:56:24.500Z"
   },
   {
    "duration": 4,
    "start_time": "2022-02-17T00:56:24.759Z"
   },
   {
    "duration": 426,
    "start_time": "2022-02-17T00:56:24.764Z"
   },
   {
    "duration": 434,
    "start_time": "2022-02-17T00:56:25.192Z"
   },
   {
    "duration": 430,
    "start_time": "2022-02-17T00:56:25.627Z"
   },
   {
    "duration": 10,
    "start_time": "2022-02-17T00:56:26.059Z"
   },
   {
    "duration": 155,
    "start_time": "2022-02-17T00:56:26.070Z"
   },
   {
    "duration": 7,
    "start_time": "2022-02-17T00:56:26.227Z"
   },
   {
    "duration": 244,
    "start_time": "2022-02-17T00:56:26.235Z"
   },
   {
    "duration": 8,
    "start_time": "2022-02-17T00:56:26.480Z"
   },
   {
    "duration": 134,
    "start_time": "2022-02-17T00:56:26.489Z"
   },
   {
    "duration": 8,
    "start_time": "2022-02-17T00:56:26.625Z"
   },
   {
    "duration": 140,
    "start_time": "2022-02-17T00:56:26.634Z"
   },
   {
    "duration": 8,
    "start_time": "2022-02-17T00:56:26.775Z"
   },
   {
    "duration": 4,
    "start_time": "2022-02-17T00:56:26.785Z"
   },
   {
    "duration": 5,
    "start_time": "2022-02-17T00:56:26.790Z"
   },
   {
    "duration": 6,
    "start_time": "2022-02-17T00:56:26.796Z"
   },
   {
    "duration": 6,
    "start_time": "2022-02-17T00:56:26.804Z"
   },
   {
    "duration": 6,
    "start_time": "2022-02-17T00:56:26.811Z"
   },
   {
    "duration": 27,
    "start_time": "2022-02-17T00:56:26.819Z"
   },
   {
    "duration": 5,
    "start_time": "2022-02-17T01:03:01.057Z"
   },
   {
    "duration": 1027,
    "start_time": "2022-02-17T01:05:54.905Z"
   },
   {
    "duration": 44,
    "start_time": "2022-02-17T01:05:55.934Z"
   },
   {
    "duration": 21,
    "start_time": "2022-02-17T01:05:55.980Z"
   },
   {
    "duration": 25,
    "start_time": "2022-02-17T01:05:56.003Z"
   },
   {
    "duration": 7,
    "start_time": "2022-02-17T01:05:56.029Z"
   },
   {
    "duration": 15,
    "start_time": "2022-02-17T01:05:56.037Z"
   },
   {
    "duration": 13,
    "start_time": "2022-02-17T01:05:56.053Z"
   },
   {
    "duration": 15,
    "start_time": "2022-02-17T01:05:56.068Z"
   },
   {
    "duration": 10,
    "start_time": "2022-02-17T01:05:56.085Z"
   },
   {
    "duration": 4,
    "start_time": "2022-02-17T01:05:56.096Z"
   },
   {
    "duration": 7,
    "start_time": "2022-02-17T01:05:56.102Z"
   },
   {
    "duration": 38,
    "start_time": "2022-02-17T01:05:56.111Z"
   },
   {
    "duration": 21,
    "start_time": "2022-02-17T01:05:56.150Z"
   },
   {
    "duration": 3,
    "start_time": "2022-02-17T01:05:56.173Z"
   },
   {
    "duration": 7,
    "start_time": "2022-02-17T01:05:56.178Z"
   },
   {
    "duration": 28,
    "start_time": "2022-02-17T01:05:56.187Z"
   },
   {
    "duration": 33,
    "start_time": "2022-02-17T01:05:56.216Z"
   },
   {
    "duration": 4,
    "start_time": "2022-02-17T01:05:56.251Z"
   },
   {
    "duration": 12,
    "start_time": "2022-02-17T01:05:56.256Z"
   },
   {
    "duration": 6,
    "start_time": "2022-02-17T01:05:56.270Z"
   },
   {
    "duration": 6,
    "start_time": "2022-02-17T01:05:56.277Z"
   },
   {
    "duration": 16,
    "start_time": "2022-02-17T01:05:56.284Z"
   },
   {
    "duration": 14,
    "start_time": "2022-02-17T01:05:56.304Z"
   },
   {
    "duration": 245,
    "start_time": "2022-02-17T01:05:56.347Z"
   },
   {
    "duration": 315,
    "start_time": "2022-02-17T01:05:56.593Z"
   },
   {
    "duration": 363,
    "start_time": "2022-02-17T01:05:56.909Z"
   },
   {
    "duration": 5,
    "start_time": "2022-02-17T01:05:57.274Z"
   },
   {
    "duration": 5,
    "start_time": "2022-02-17T01:05:57.281Z"
   },
   {
    "duration": 429,
    "start_time": "2022-02-17T01:05:57.287Z"
   },
   {
    "duration": 3,
    "start_time": "2022-02-17T01:05:57.718Z"
   },
   {
    "duration": 319,
    "start_time": "2022-02-17T01:05:57.723Z"
   },
   {
    "duration": 317,
    "start_time": "2022-02-17T01:05:58.044Z"
   },
   {
    "duration": 302,
    "start_time": "2022-02-17T01:05:58.362Z"
   },
   {
    "duration": 6,
    "start_time": "2022-02-17T01:05:58.666Z"
   },
   {
    "duration": 11,
    "start_time": "2022-02-17T01:05:58.673Z"
   },
   {
    "duration": 309,
    "start_time": "2022-02-17T01:05:58.685Z"
   },
   {
    "duration": 325,
    "start_time": "2022-02-17T01:05:58.996Z"
   },
   {
    "duration": 4,
    "start_time": "2022-02-17T01:05:59.323Z"
   },
   {
    "duration": 288,
    "start_time": "2022-02-17T01:05:59.329Z"
   },
   {
    "duration": 663,
    "start_time": "2022-02-17T01:05:59.618Z"
   },
   {
    "duration": 937,
    "start_time": "2022-02-17T01:05:59.346Z"
   },
   {
    "duration": 933,
    "start_time": "2022-02-17T01:05:59.351Z"
   },
   {
    "duration": 930,
    "start_time": "2022-02-17T01:05:59.355Z"
   },
   {
    "duration": 925,
    "start_time": "2022-02-17T01:05:59.361Z"
   },
   {
    "duration": 920,
    "start_time": "2022-02-17T01:05:59.367Z"
   },
   {
    "duration": 915,
    "start_time": "2022-02-17T01:05:59.373Z"
   },
   {
    "duration": 911,
    "start_time": "2022-02-17T01:05:59.378Z"
   },
   {
    "duration": 907,
    "start_time": "2022-02-17T01:05:59.383Z"
   },
   {
    "duration": 904,
    "start_time": "2022-02-17T01:05:59.387Z"
   },
   {
    "duration": 886,
    "start_time": "2022-02-17T01:05:59.406Z"
   },
   {
    "duration": 869,
    "start_time": "2022-02-17T01:05:59.424Z"
   },
   {
    "duration": 854,
    "start_time": "2022-02-17T01:05:59.440Z"
   },
   {
    "duration": 850,
    "start_time": "2022-02-17T01:05:59.445Z"
   },
   {
    "duration": 840,
    "start_time": "2022-02-17T01:05:59.456Z"
   },
   {
    "duration": 835,
    "start_time": "2022-02-17T01:05:59.462Z"
   },
   {
    "duration": 826,
    "start_time": "2022-02-17T01:05:59.472Z"
   },
   {
    "duration": 822,
    "start_time": "2022-02-17T01:05:59.477Z"
   },
   {
    "duration": 811,
    "start_time": "2022-02-17T01:05:59.489Z"
   },
   {
    "duration": 804,
    "start_time": "2022-02-17T01:05:59.496Z"
   },
   {
    "duration": 794,
    "start_time": "2022-02-17T01:05:59.507Z"
   },
   {
    "duration": 1124,
    "start_time": "2022-02-17T01:12:05.152Z"
   },
   {
    "duration": 1101,
    "start_time": "2022-02-17T01:12:17.316Z"
   },
   {
    "duration": 1280,
    "start_time": "2022-02-17T01:12:23.805Z"
   },
   {
    "duration": 3,
    "start_time": "2022-02-17T01:13:17.904Z"
   },
   {
    "duration": 1110,
    "start_time": "2022-02-17T01:13:48.661Z"
   },
   {
    "duration": 1214,
    "start_time": "2022-02-17T01:13:57.278Z"
   },
   {
    "duration": 1098,
    "start_time": "2022-02-17T01:14:11.142Z"
   },
   {
    "duration": 35,
    "start_time": "2022-02-17T01:14:12.241Z"
   },
   {
    "duration": 21,
    "start_time": "2022-02-17T01:14:12.277Z"
   },
   {
    "duration": 24,
    "start_time": "2022-02-17T01:14:12.300Z"
   },
   {
    "duration": 7,
    "start_time": "2022-02-17T01:14:12.325Z"
   },
   {
    "duration": 8,
    "start_time": "2022-02-17T01:14:12.345Z"
   },
   {
    "duration": 12,
    "start_time": "2022-02-17T01:14:12.354Z"
   },
   {
    "duration": 13,
    "start_time": "2022-02-17T01:14:12.368Z"
   },
   {
    "duration": 10,
    "start_time": "2022-02-17T01:14:12.383Z"
   },
   {
    "duration": 4,
    "start_time": "2022-02-17T01:14:12.394Z"
   },
   {
    "duration": 6,
    "start_time": "2022-02-17T01:14:12.399Z"
   },
   {
    "duration": 43,
    "start_time": "2022-02-17T01:14:12.406Z"
   },
   {
    "duration": 20,
    "start_time": "2022-02-17T01:14:12.450Z"
   },
   {
    "duration": 4,
    "start_time": "2022-02-17T01:14:12.472Z"
   },
   {
    "duration": 6,
    "start_time": "2022-02-17T01:14:12.478Z"
   },
   {
    "duration": 28,
    "start_time": "2022-02-17T01:14:12.485Z"
   },
   {
    "duration": 33,
    "start_time": "2022-02-17T01:14:12.515Z"
   },
   {
    "duration": 4,
    "start_time": "2022-02-17T01:14:12.549Z"
   },
   {
    "duration": 12,
    "start_time": "2022-02-17T01:14:12.554Z"
   },
   {
    "duration": 6,
    "start_time": "2022-02-17T01:14:12.567Z"
   },
   {
    "duration": 4,
    "start_time": "2022-02-17T01:14:12.575Z"
   },
   {
    "duration": 13,
    "start_time": "2022-02-17T01:14:12.580Z"
   },
   {
    "duration": 14,
    "start_time": "2022-02-17T01:14:12.596Z"
   },
   {
    "duration": 280,
    "start_time": "2022-02-17T01:14:12.612Z"
   },
   {
    "duration": 323,
    "start_time": "2022-02-17T01:14:12.894Z"
   },
   {
    "duration": 356,
    "start_time": "2022-02-17T01:14:13.218Z"
   },
   {
    "duration": 6,
    "start_time": "2022-02-17T01:14:13.576Z"
   },
   {
    "duration": 4,
    "start_time": "2022-02-17T01:14:13.584Z"
   },
   {
    "duration": 451,
    "start_time": "2022-02-17T01:14:13.590Z"
   },
   {
    "duration": 3,
    "start_time": "2022-02-17T01:14:14.046Z"
   },
   {
    "duration": 309,
    "start_time": "2022-02-17T01:14:14.051Z"
   },
   {
    "duration": 302,
    "start_time": "2022-02-17T01:14:14.362Z"
   },
   {
    "duration": 305,
    "start_time": "2022-02-17T01:14:14.666Z"
   },
   {
    "duration": 5,
    "start_time": "2022-02-17T01:14:14.973Z"
   },
   {
    "duration": 9,
    "start_time": "2022-02-17T01:14:14.979Z"
   },
   {
    "duration": 300,
    "start_time": "2022-02-17T01:14:14.989Z"
   },
   {
    "duration": 306,
    "start_time": "2022-02-17T01:14:15.291Z"
   },
   {
    "duration": 5,
    "start_time": "2022-02-17T01:14:15.598Z"
   },
   {
    "duration": 285,
    "start_time": "2022-02-17T01:14:15.604Z"
   },
   {
    "duration": 1273,
    "start_time": "2022-02-17T01:14:15.891Z"
   },
   {
    "duration": 328,
    "start_time": "2022-02-17T01:14:17.166Z"
   },
   {
    "duration": 3,
    "start_time": "2022-02-17T01:14:17.496Z"
   },
   {
    "duration": 423,
    "start_time": "2022-02-17T01:14:17.501Z"
   },
   {
    "duration": 421,
    "start_time": "2022-02-17T01:14:17.926Z"
   },
   {
    "duration": 534,
    "start_time": "2022-02-17T01:14:18.349Z"
   },
   {
    "duration": 8,
    "start_time": "2022-02-17T01:14:18.885Z"
   },
   {
    "duration": 152,
    "start_time": "2022-02-17T01:14:18.894Z"
   },
   {
    "duration": 8,
    "start_time": "2022-02-17T01:14:19.047Z"
   },
   {
    "duration": 148,
    "start_time": "2022-02-17T01:14:19.056Z"
   },
   {
    "duration": 7,
    "start_time": "2022-02-17T01:14:19.206Z"
   },
   {
    "duration": 149,
    "start_time": "2022-02-17T01:14:19.215Z"
   },
   {
    "duration": 8,
    "start_time": "2022-02-17T01:14:19.366Z"
   },
   {
    "duration": 137,
    "start_time": "2022-02-17T01:14:19.375Z"
   },
   {
    "duration": 7,
    "start_time": "2022-02-17T01:14:19.514Z"
   },
   {
    "duration": 7,
    "start_time": "2022-02-17T01:14:19.523Z"
   },
   {
    "duration": 14,
    "start_time": "2022-02-17T01:14:19.532Z"
   },
   {
    "duration": 6,
    "start_time": "2022-02-17T01:14:19.547Z"
   },
   {
    "duration": 8,
    "start_time": "2022-02-17T01:14:19.555Z"
   },
   {
    "duration": 6,
    "start_time": "2022-02-17T01:14:19.564Z"
   },
   {
    "duration": 6,
    "start_time": "2022-02-17T01:14:19.571Z"
   },
   {
    "duration": 1098,
    "start_time": "2022-02-17T01:14:57.888Z"
   },
   {
    "duration": 36,
    "start_time": "2022-02-17T01:14:58.987Z"
   },
   {
    "duration": 21,
    "start_time": "2022-02-17T01:14:59.025Z"
   },
   {
    "duration": 25,
    "start_time": "2022-02-17T01:14:59.048Z"
   },
   {
    "duration": 6,
    "start_time": "2022-02-17T01:14:59.075Z"
   },
   {
    "duration": 13,
    "start_time": "2022-02-17T01:14:59.083Z"
   },
   {
    "duration": 13,
    "start_time": "2022-02-17T01:14:59.097Z"
   },
   {
    "duration": 35,
    "start_time": "2022-02-17T01:14:59.112Z"
   },
   {
    "duration": 13,
    "start_time": "2022-02-17T01:14:59.149Z"
   },
   {
    "duration": 4,
    "start_time": "2022-02-17T01:14:59.164Z"
   },
   {
    "duration": 7,
    "start_time": "2022-02-17T01:14:59.170Z"
   },
   {
    "duration": 9,
    "start_time": "2022-02-17T01:14:59.178Z"
   },
   {
    "duration": 26,
    "start_time": "2022-02-17T01:14:59.189Z"
   },
   {
    "duration": 30,
    "start_time": "2022-02-17T01:14:59.217Z"
   },
   {
    "duration": 8,
    "start_time": "2022-02-17T01:14:59.249Z"
   },
   {
    "duration": 33,
    "start_time": "2022-02-17T01:14:59.258Z"
   },
   {
    "duration": 6,
    "start_time": "2022-02-17T01:14:59.292Z"
   },
   {
    "duration": 8,
    "start_time": "2022-02-17T01:14:59.299Z"
   },
   {
    "duration": 47,
    "start_time": "2022-02-17T01:14:59.309Z"
   },
   {
    "duration": 7,
    "start_time": "2022-02-17T01:14:59.358Z"
   },
   {
    "duration": 6,
    "start_time": "2022-02-17T01:14:59.367Z"
   },
   {
    "duration": 19,
    "start_time": "2022-02-17T01:14:59.375Z"
   },
   {
    "duration": 17,
    "start_time": "2022-02-17T01:14:59.397Z"
   },
   {
    "duration": 282,
    "start_time": "2022-02-17T01:14:59.416Z"
   },
   {
    "duration": 339,
    "start_time": "2022-02-17T01:14:59.699Z"
   },
   {
    "duration": 358,
    "start_time": "2022-02-17T01:15:00.040Z"
   },
   {
    "duration": 6,
    "start_time": "2022-02-17T01:15:00.400Z"
   },
   {
    "duration": 8,
    "start_time": "2022-02-17T01:15:00.407Z"
   },
   {
    "duration": 425,
    "start_time": "2022-02-17T01:15:00.417Z"
   },
   {
    "duration": 4,
    "start_time": "2022-02-17T01:15:00.843Z"
   },
   {
    "duration": 316,
    "start_time": "2022-02-17T01:15:00.848Z"
   },
   {
    "duration": 304,
    "start_time": "2022-02-17T01:15:01.166Z"
   },
   {
    "duration": 311,
    "start_time": "2022-02-17T01:15:01.472Z"
   },
   {
    "duration": 5,
    "start_time": "2022-02-17T01:15:01.785Z"
   },
   {
    "duration": 6,
    "start_time": "2022-02-17T01:15:01.792Z"
   },
   {
    "duration": 347,
    "start_time": "2022-02-17T01:15:01.800Z"
   },
   {
    "duration": 337,
    "start_time": "2022-02-17T01:15:02.149Z"
   },
   {
    "duration": 4,
    "start_time": "2022-02-17T01:15:02.488Z"
   },
   {
    "duration": 273,
    "start_time": "2022-02-17T01:15:02.493Z"
   },
   {
    "duration": 1301,
    "start_time": "2022-02-17T01:15:02.768Z"
   },
   {
    "duration": 326,
    "start_time": "2022-02-17T01:15:04.070Z"
   },
   {
    "duration": 3,
    "start_time": "2022-02-17T01:15:04.397Z"
   },
   {
    "duration": 411,
    "start_time": "2022-02-17T01:15:04.402Z"
   },
   {
    "duration": 431,
    "start_time": "2022-02-17T01:15:04.814Z"
   },
   {
    "duration": 444,
    "start_time": "2022-02-17T01:15:05.247Z"
   },
   {
    "duration": 8,
    "start_time": "2022-02-17T01:15:05.693Z"
   },
   {
    "duration": 155,
    "start_time": "2022-02-17T01:15:05.702Z"
   },
   {
    "duration": 8,
    "start_time": "2022-02-17T01:15:05.859Z"
   },
   {
    "duration": 159,
    "start_time": "2022-02-17T01:15:05.868Z"
   },
   {
    "duration": 18,
    "start_time": "2022-02-17T01:15:06.029Z"
   },
   {
    "duration": 159,
    "start_time": "2022-02-17T01:15:06.049Z"
   },
   {
    "duration": 10,
    "start_time": "2022-02-17T01:15:06.210Z"
   },
   {
    "duration": 149,
    "start_time": "2022-02-17T01:15:06.221Z"
   },
   {
    "duration": 9,
    "start_time": "2022-02-17T01:15:06.372Z"
   },
   {
    "duration": 7,
    "start_time": "2022-02-17T01:15:06.382Z"
   },
   {
    "duration": 4,
    "start_time": "2022-02-17T01:15:06.391Z"
   },
   {
    "duration": 7,
    "start_time": "2022-02-17T01:15:06.396Z"
   },
   {
    "duration": 4,
    "start_time": "2022-02-17T01:15:06.405Z"
   },
   {
    "duration": 4,
    "start_time": "2022-02-17T01:15:06.411Z"
   },
   {
    "duration": 31,
    "start_time": "2022-02-17T01:15:06.417Z"
   },
   {
    "duration": 91,
    "start_time": "2022-02-17T01:24:51.215Z"
   },
   {
    "duration": 87,
    "start_time": "2022-02-17T01:24:54.766Z"
   },
   {
    "duration": 9,
    "start_time": "2022-02-17T01:46:08.755Z"
   },
   {
    "duration": 9,
    "start_time": "2022-02-17T01:46:27.530Z"
   },
   {
    "duration": 2,
    "start_time": "2022-02-17T01:46:55.172Z"
   },
   {
    "duration": 2,
    "start_time": "2022-02-17T01:47:05.814Z"
   },
   {
    "duration": 9,
    "start_time": "2022-02-17T01:47:36.357Z"
   },
   {
    "duration": 2,
    "start_time": "2022-02-17T01:47:46.706Z"
   },
   {
    "duration": 8,
    "start_time": "2022-02-17T01:47:52.565Z"
   },
   {
    "duration": 2,
    "start_time": "2022-02-17T01:48:01.968Z"
   },
   {
    "duration": 1051,
    "start_time": "2022-02-17T01:55:55.683Z"
   },
   {
    "duration": 44,
    "start_time": "2022-02-17T01:55:56.736Z"
   },
   {
    "duration": 20,
    "start_time": "2022-02-17T01:55:56.781Z"
   },
   {
    "duration": 23,
    "start_time": "2022-02-17T01:55:56.803Z"
   },
   {
    "duration": 6,
    "start_time": "2022-02-17T01:55:56.828Z"
   },
   {
    "duration": 16,
    "start_time": "2022-02-17T01:55:56.836Z"
   },
   {
    "duration": 12,
    "start_time": "2022-02-17T01:55:56.854Z"
   },
   {
    "duration": 13,
    "start_time": "2022-02-17T01:55:56.867Z"
   },
   {
    "duration": 11,
    "start_time": "2022-02-17T01:55:56.881Z"
   },
   {
    "duration": 4,
    "start_time": "2022-02-17T01:55:56.893Z"
   },
   {
    "duration": 6,
    "start_time": "2022-02-17T01:55:56.899Z"
   },
   {
    "duration": 42,
    "start_time": "2022-02-17T01:55:56.907Z"
   },
   {
    "duration": 22,
    "start_time": "2022-02-17T01:55:56.950Z"
   },
   {
    "duration": 5,
    "start_time": "2022-02-17T01:55:56.973Z"
   },
   {
    "duration": 6,
    "start_time": "2022-02-17T01:55:56.980Z"
   },
   {
    "duration": 26,
    "start_time": "2022-02-17T01:55:56.988Z"
   },
   {
    "duration": 33,
    "start_time": "2022-02-17T01:55:57.016Z"
   },
   {
    "duration": 4,
    "start_time": "2022-02-17T01:55:57.053Z"
   },
   {
    "duration": 14,
    "start_time": "2022-02-17T01:55:57.060Z"
   },
   {
    "duration": 6,
    "start_time": "2022-02-17T01:55:57.076Z"
   },
   {
    "duration": 5,
    "start_time": "2022-02-17T01:55:57.084Z"
   },
   {
    "duration": 12,
    "start_time": "2022-02-17T01:55:57.091Z"
   },
   {
    "duration": 42,
    "start_time": "2022-02-17T01:55:57.105Z"
   },
   {
    "duration": 238,
    "start_time": "2022-02-17T01:55:57.148Z"
   },
   {
    "duration": 304,
    "start_time": "2022-02-17T01:55:57.388Z"
   },
   {
    "duration": 344,
    "start_time": "2022-02-17T01:55:57.694Z"
   },
   {
    "duration": 7,
    "start_time": "2022-02-17T01:55:58.040Z"
   },
   {
    "duration": 2,
    "start_time": "2022-02-17T01:55:58.049Z"
   },
   {
    "duration": 418,
    "start_time": "2022-02-17T01:55:58.053Z"
   },
   {
    "duration": 4,
    "start_time": "2022-02-17T01:55:58.472Z"
   },
   {
    "duration": 310,
    "start_time": "2022-02-17T01:55:58.477Z"
   },
   {
    "duration": 301,
    "start_time": "2022-02-17T01:55:58.788Z"
   },
   {
    "duration": 328,
    "start_time": "2022-02-17T01:55:59.091Z"
   },
   {
    "duration": 7,
    "start_time": "2022-02-17T01:55:59.421Z"
   },
   {
    "duration": 9,
    "start_time": "2022-02-17T01:55:59.429Z"
   },
   {
    "duration": 301,
    "start_time": "2022-02-17T01:55:59.446Z"
   },
   {
    "duration": 305,
    "start_time": "2022-02-17T01:55:59.749Z"
   },
   {
    "duration": 3,
    "start_time": "2022-02-17T01:56:00.056Z"
   },
   {
    "duration": 257,
    "start_time": "2022-02-17T01:56:00.061Z"
   },
   {
    "duration": 1294,
    "start_time": "2022-02-17T01:56:00.319Z"
   },
   {
    "duration": 334,
    "start_time": "2022-02-17T01:56:01.614Z"
   },
   {
    "duration": 3,
    "start_time": "2022-02-17T01:56:01.950Z"
   },
   {
    "duration": 444,
    "start_time": "2022-02-17T01:56:01.955Z"
   },
   {
    "duration": 424,
    "start_time": "2022-02-17T01:56:02.400Z"
   },
   {
    "duration": 424,
    "start_time": "2022-02-17T01:56:02.825Z"
   },
   {
    "duration": 7,
    "start_time": "2022-02-17T01:56:03.251Z"
   },
   {
    "duration": 11,
    "start_time": "2022-02-17T01:56:03.260Z"
   },
   {
    "duration": 3,
    "start_time": "2022-02-17T01:56:03.272Z"
   },
   {
    "duration": 8,
    "start_time": "2022-02-17T01:56:03.277Z"
   },
   {
    "duration": 5,
    "start_time": "2022-02-17T01:56:03.286Z"
   },
   {
    "duration": 9,
    "start_time": "2022-02-17T01:56:03.292Z"
   },
   {
    "duration": 3,
    "start_time": "2022-02-17T01:56:03.302Z"
   },
   {
    "duration": 8,
    "start_time": "2022-02-17T01:56:03.307Z"
   },
   {
    "duration": 27,
    "start_time": "2022-02-17T01:56:03.319Z"
   },
   {
    "duration": 5,
    "start_time": "2022-02-17T01:56:03.348Z"
   },
   {
    "duration": 7,
    "start_time": "2022-02-17T01:56:03.354Z"
   },
   {
    "duration": 7,
    "start_time": "2022-02-17T01:56:03.363Z"
   },
   {
    "duration": 6,
    "start_time": "2022-02-17T01:56:03.372Z"
   },
   {
    "duration": 5,
    "start_time": "2022-02-17T01:56:03.379Z"
   },
   {
    "duration": 5,
    "start_time": "2022-02-17T01:56:03.386Z"
   },
   {
    "duration": 5,
    "start_time": "2022-02-17T02:11:24.778Z"
   },
   {
    "duration": 1125,
    "start_time": "2022-02-17T02:11:30.314Z"
   },
   {
    "duration": 34,
    "start_time": "2022-02-17T02:11:31.441Z"
   },
   {
    "duration": 20,
    "start_time": "2022-02-17T02:11:31.477Z"
   },
   {
    "duration": 23,
    "start_time": "2022-02-17T02:11:31.499Z"
   },
   {
    "duration": 6,
    "start_time": "2022-02-17T02:11:31.524Z"
   },
   {
    "duration": 20,
    "start_time": "2022-02-17T02:11:31.531Z"
   },
   {
    "duration": 12,
    "start_time": "2022-02-17T02:11:31.552Z"
   },
   {
    "duration": 12,
    "start_time": "2022-02-17T02:11:31.566Z"
   },
   {
    "duration": 9,
    "start_time": "2022-02-17T02:11:31.580Z"
   },
   {
    "duration": 4,
    "start_time": "2022-02-17T02:11:31.591Z"
   },
   {
    "duration": 7,
    "start_time": "2022-02-17T02:11:31.596Z"
   },
   {
    "duration": 6,
    "start_time": "2022-02-17T02:11:31.604Z"
   },
   {
    "duration": 54,
    "start_time": "2022-02-17T02:11:31.611Z"
   },
   {
    "duration": 4,
    "start_time": "2022-02-17T02:11:31.666Z"
   },
   {
    "duration": 7,
    "start_time": "2022-02-17T02:11:31.671Z"
   },
   {
    "duration": 29,
    "start_time": "2022-02-17T02:11:31.679Z"
   },
   {
    "duration": 5,
    "start_time": "2022-02-17T02:11:31.709Z"
   },
   {
    "duration": 31,
    "start_time": "2022-02-17T02:11:31.715Z"
   },
   {
    "duration": 11,
    "start_time": "2022-02-17T02:11:31.748Z"
   },
   {
    "duration": 6,
    "start_time": "2022-02-17T02:11:31.760Z"
   },
   {
    "duration": 4,
    "start_time": "2022-02-17T02:11:31.767Z"
   },
   {
    "duration": 13,
    "start_time": "2022-02-17T02:11:31.773Z"
   },
   {
    "duration": 15,
    "start_time": "2022-02-17T02:11:31.789Z"
   },
   {
    "duration": 260,
    "start_time": "2022-02-17T02:11:31.806Z"
   },
   {
    "duration": 311,
    "start_time": "2022-02-17T02:11:32.068Z"
   },
   {
    "duration": 343,
    "start_time": "2022-02-17T02:11:32.380Z"
   },
   {
    "duration": 5,
    "start_time": "2022-02-17T02:11:32.725Z"
   },
   {
    "duration": 15,
    "start_time": "2022-02-17T02:11:32.731Z"
   },
   {
    "duration": 391,
    "start_time": "2022-02-17T02:11:32.747Z"
   },
   {
    "duration": 3,
    "start_time": "2022-02-17T02:11:33.140Z"
   },
   {
    "duration": 248,
    "start_time": "2022-02-17T02:11:33.144Z"
   },
   {
    "duration": 356,
    "start_time": "2022-02-17T02:11:33.393Z"
   },
   {
    "duration": 284,
    "start_time": "2022-02-17T02:11:33.751Z"
   },
   {
    "duration": 5,
    "start_time": "2022-02-17T02:11:34.036Z"
   },
   {
    "duration": 6,
    "start_time": "2022-02-17T02:11:34.046Z"
   },
   {
    "duration": 307,
    "start_time": "2022-02-17T02:11:34.053Z"
   },
   {
    "duration": 299,
    "start_time": "2022-02-17T02:11:34.362Z"
   },
   {
    "duration": 5,
    "start_time": "2022-02-17T02:11:34.663Z"
   },
   {
    "duration": 233,
    "start_time": "2022-02-17T02:11:34.670Z"
   },
   {
    "duration": 1197,
    "start_time": "2022-02-17T02:11:34.905Z"
   },
   {
    "duration": 257,
    "start_time": "2022-02-17T02:11:36.104Z"
   },
   {
    "duration": 3,
    "start_time": "2022-02-17T02:11:36.363Z"
   },
   {
    "duration": 580,
    "start_time": "2022-02-17T02:11:36.368Z"
   },
   {
    "duration": 431,
    "start_time": "2022-02-17T02:11:36.950Z"
   },
   {
    "duration": 415,
    "start_time": "2022-02-17T02:11:37.382Z"
   },
   {
    "duration": 8,
    "start_time": "2022-02-17T02:11:37.799Z"
   },
   {
    "duration": 10,
    "start_time": "2022-02-17T02:11:37.809Z"
   },
   {
    "duration": 4,
    "start_time": "2022-02-17T02:11:37.821Z"
   },
   {
    "duration": 8,
    "start_time": "2022-02-17T02:11:37.845Z"
   },
   {
    "duration": 4,
    "start_time": "2022-02-17T02:11:37.855Z"
   },
   {
    "duration": 13,
    "start_time": "2022-02-17T02:11:37.860Z"
   },
   {
    "duration": 5,
    "start_time": "2022-02-17T02:11:37.875Z"
   },
   {
    "duration": 9,
    "start_time": "2022-02-17T02:11:37.881Z"
   },
   {
    "duration": 6,
    "start_time": "2022-02-17T02:11:37.892Z"
   },
   {
    "duration": 5,
    "start_time": "2022-02-17T02:11:37.899Z"
   },
   {
    "duration": 4,
    "start_time": "2022-02-17T02:11:37.906Z"
   },
   {
    "duration": 7,
    "start_time": "2022-02-17T02:11:37.912Z"
   },
   {
    "duration": 27,
    "start_time": "2022-02-17T02:11:37.920Z"
   },
   {
    "duration": 2,
    "start_time": "2022-02-17T02:11:37.949Z"
   },
   {
    "duration": 8,
    "start_time": "2022-02-17T02:11:37.953Z"
   },
   {
    "duration": 1067,
    "start_time": "2022-02-17T02:13:06.274Z"
   },
   {
    "duration": 35,
    "start_time": "2022-02-17T02:13:07.343Z"
   },
   {
    "duration": 21,
    "start_time": "2022-02-17T02:13:07.380Z"
   },
   {
    "duration": 25,
    "start_time": "2022-02-17T02:13:07.402Z"
   },
   {
    "duration": 19,
    "start_time": "2022-02-17T02:13:07.428Z"
   },
   {
    "duration": 8,
    "start_time": "2022-02-17T02:13:07.449Z"
   },
   {
    "duration": 12,
    "start_time": "2022-02-17T02:13:07.459Z"
   },
   {
    "duration": 13,
    "start_time": "2022-02-17T02:13:07.473Z"
   },
   {
    "duration": 10,
    "start_time": "2022-02-17T02:13:07.488Z"
   },
   {
    "duration": 4,
    "start_time": "2022-02-17T02:13:07.499Z"
   },
   {
    "duration": 9,
    "start_time": "2022-02-17T02:13:07.505Z"
   },
   {
    "duration": 8,
    "start_time": "2022-02-17T02:13:07.547Z"
   },
   {
    "duration": 23,
    "start_time": "2022-02-17T02:13:07.556Z"
   },
   {
    "duration": 4,
    "start_time": "2022-02-17T02:13:07.581Z"
   },
   {
    "duration": 6,
    "start_time": "2022-02-17T02:13:07.587Z"
   },
   {
    "duration": 61,
    "start_time": "2022-02-17T02:13:07.594Z"
   },
   {
    "duration": 5,
    "start_time": "2022-02-17T02:13:07.657Z"
   },
   {
    "duration": 6,
    "start_time": "2022-02-17T02:13:07.663Z"
   },
   {
    "duration": 12,
    "start_time": "2022-02-17T02:13:07.670Z"
   },
   {
    "duration": 6,
    "start_time": "2022-02-17T02:13:07.683Z"
   },
   {
    "duration": 8,
    "start_time": "2022-02-17T02:13:07.690Z"
   },
   {
    "duration": 14,
    "start_time": "2022-02-17T02:13:07.700Z"
   },
   {
    "duration": 38,
    "start_time": "2022-02-17T02:13:07.717Z"
   },
   {
    "duration": 247,
    "start_time": "2022-02-17T02:13:07.757Z"
   },
   {
    "duration": 311,
    "start_time": "2022-02-17T02:13:08.006Z"
   },
   {
    "duration": 350,
    "start_time": "2022-02-17T02:13:08.318Z"
   },
   {
    "duration": 5,
    "start_time": "2022-02-17T02:13:08.670Z"
   },
   {
    "duration": 5,
    "start_time": "2022-02-17T02:13:08.676Z"
   },
   {
    "duration": 413,
    "start_time": "2022-02-17T02:13:08.682Z"
   },
   {
    "duration": 4,
    "start_time": "2022-02-17T02:13:09.096Z"
   },
   {
    "duration": 310,
    "start_time": "2022-02-17T02:13:09.101Z"
   },
   {
    "duration": 303,
    "start_time": "2022-02-17T02:13:09.412Z"
   },
   {
    "duration": 302,
    "start_time": "2022-02-17T02:13:09.717Z"
   },
   {
    "duration": 6,
    "start_time": "2022-02-17T02:13:10.020Z"
   },
   {
    "duration": 7,
    "start_time": "2022-02-17T02:13:10.028Z"
   },
   {
    "duration": 336,
    "start_time": "2022-02-17T02:13:10.036Z"
   },
   {
    "duration": 316,
    "start_time": "2022-02-17T02:13:10.374Z"
   },
   {
    "duration": 4,
    "start_time": "2022-02-17T02:13:10.692Z"
   },
   {
    "duration": 277,
    "start_time": "2022-02-17T02:13:10.698Z"
   },
   {
    "duration": 1322,
    "start_time": "2022-02-17T02:13:10.977Z"
   },
   {
    "duration": 340,
    "start_time": "2022-02-17T02:13:12.300Z"
   },
   {
    "duration": 5,
    "start_time": "2022-02-17T02:13:12.641Z"
   },
   {
    "duration": 427,
    "start_time": "2022-02-17T02:13:12.648Z"
   },
   {
    "duration": 477,
    "start_time": "2022-02-17T02:13:13.076Z"
   },
   {
    "duration": 481,
    "start_time": "2022-02-17T02:13:13.555Z"
   },
   {
    "duration": 14,
    "start_time": "2022-02-17T02:13:14.038Z"
   },
   {
    "duration": 9,
    "start_time": "2022-02-17T02:13:14.053Z"
   },
   {
    "duration": 2,
    "start_time": "2022-02-17T02:13:14.064Z"
   },
   {
    "duration": 8,
    "start_time": "2022-02-17T02:13:14.068Z"
   },
   {
    "duration": 8,
    "start_time": "2022-02-17T02:13:14.078Z"
   },
   {
    "duration": 9,
    "start_time": "2022-02-17T02:13:14.088Z"
   },
   {
    "duration": 5,
    "start_time": "2022-02-17T02:13:14.098Z"
   },
   {
    "duration": 9,
    "start_time": "2022-02-17T02:13:14.105Z"
   },
   {
    "duration": 2,
    "start_time": "2022-02-17T02:13:14.145Z"
   },
   {
    "duration": 6,
    "start_time": "2022-02-17T02:13:14.149Z"
   },
   {
    "duration": 4,
    "start_time": "2022-02-17T02:13:14.156Z"
   },
   {
    "duration": 16,
    "start_time": "2022-02-17T02:13:14.162Z"
   },
   {
    "duration": 5,
    "start_time": "2022-02-17T02:13:14.180Z"
   },
   {
    "duration": 8,
    "start_time": "2022-02-17T02:13:14.186Z"
   },
   {
    "duration": 7,
    "start_time": "2022-02-17T02:13:14.195Z"
   },
   {
    "duration": 3,
    "start_time": "2022-02-17T02:18:08.596Z"
   },
   {
    "duration": 275,
    "start_time": "2022-02-17T02:18:31.094Z"
   },
   {
    "duration": 1030,
    "start_time": "2022-02-17T02:18:38.312Z"
   },
   {
    "duration": 35,
    "start_time": "2022-02-17T02:18:39.346Z"
   },
   {
    "duration": 20,
    "start_time": "2022-02-17T02:18:39.383Z"
   },
   {
    "duration": 24,
    "start_time": "2022-02-17T02:18:39.405Z"
   },
   {
    "duration": 6,
    "start_time": "2022-02-17T02:18:39.430Z"
   },
   {
    "duration": 16,
    "start_time": "2022-02-17T02:18:39.438Z"
   },
   {
    "duration": 21,
    "start_time": "2022-02-17T02:18:39.455Z"
   },
   {
    "duration": 13,
    "start_time": "2022-02-17T02:18:39.478Z"
   },
   {
    "duration": 11,
    "start_time": "2022-02-17T02:18:39.493Z"
   },
   {
    "duration": 4,
    "start_time": "2022-02-17T02:18:39.505Z"
   },
   {
    "duration": 10,
    "start_time": "2022-02-17T02:18:39.510Z"
   },
   {
    "duration": 13,
    "start_time": "2022-02-17T02:18:39.546Z"
   },
   {
    "duration": 24,
    "start_time": "2022-02-17T02:18:39.560Z"
   },
   {
    "duration": 5,
    "start_time": "2022-02-17T02:18:39.586Z"
   },
   {
    "duration": 13,
    "start_time": "2022-02-17T02:18:39.593Z"
   },
   {
    "duration": 28,
    "start_time": "2022-02-17T02:18:39.607Z"
   },
   {
    "duration": 5,
    "start_time": "2022-02-17T02:18:39.645Z"
   },
   {
    "duration": 5,
    "start_time": "2022-02-17T02:18:39.652Z"
   },
   {
    "duration": 12,
    "start_time": "2022-02-17T02:18:39.658Z"
   },
   {
    "duration": 6,
    "start_time": "2022-02-17T02:18:39.672Z"
   },
   {
    "duration": 4,
    "start_time": "2022-02-17T02:18:39.679Z"
   },
   {
    "duration": 12,
    "start_time": "2022-02-17T02:18:39.685Z"
   },
   {
    "duration": 51,
    "start_time": "2022-02-17T02:18:39.700Z"
   },
   {
    "duration": 254,
    "start_time": "2022-02-17T02:18:39.753Z"
   },
   {
    "duration": 315,
    "start_time": "2022-02-17T02:18:40.009Z"
   },
   {
    "duration": 351,
    "start_time": "2022-02-17T02:18:40.326Z"
   },
   {
    "duration": 6,
    "start_time": "2022-02-17T02:18:40.679Z"
   },
   {
    "duration": 6,
    "start_time": "2022-02-17T02:18:40.687Z"
   },
   {
    "duration": 443,
    "start_time": "2022-02-17T02:18:40.695Z"
   },
   {
    "duration": 8,
    "start_time": "2022-02-17T02:18:41.140Z"
   },
   {
    "duration": 298,
    "start_time": "2022-02-17T02:18:41.149Z"
   },
   {
    "duration": 310,
    "start_time": "2022-02-17T02:18:41.449Z"
   },
   {
    "duration": 286,
    "start_time": "2022-02-17T02:18:41.761Z"
   },
   {
    "duration": 302,
    "start_time": "2022-02-17T02:18:42.049Z"
   },
   {
    "duration": 6,
    "start_time": "2022-02-17T02:18:42.353Z"
   },
   {
    "duration": 4,
    "start_time": "2022-02-17T02:18:42.361Z"
   },
   {
    "duration": 299,
    "start_time": "2022-02-17T02:18:42.366Z"
   },
   {
    "duration": 321,
    "start_time": "2022-02-17T02:18:42.667Z"
   },
   {
    "duration": 4,
    "start_time": "2022-02-17T02:18:42.990Z"
   },
   {
    "duration": 259,
    "start_time": "2022-02-17T02:18:42.996Z"
   },
   {
    "duration": 1331,
    "start_time": "2022-02-17T02:18:43.256Z"
   },
   {
    "duration": 261,
    "start_time": "2022-02-17T02:18:44.588Z"
   },
   {
    "duration": 4,
    "start_time": "2022-02-17T02:18:44.850Z"
   },
   {
    "duration": 426,
    "start_time": "2022-02-17T02:18:44.855Z"
   },
   {
    "duration": 423,
    "start_time": "2022-02-17T02:18:45.282Z"
   },
   {
    "duration": 548,
    "start_time": "2022-02-17T02:18:45.707Z"
   },
   {
    "duration": 10,
    "start_time": "2022-02-17T02:18:46.257Z"
   },
   {
    "duration": 9,
    "start_time": "2022-02-17T02:18:46.268Z"
   },
   {
    "duration": 3,
    "start_time": "2022-02-17T02:18:46.279Z"
   },
   {
    "duration": 9,
    "start_time": "2022-02-17T02:18:46.284Z"
   },
   {
    "duration": 4,
    "start_time": "2022-02-17T02:18:46.295Z"
   },
   {
    "duration": 10,
    "start_time": "2022-02-17T02:18:46.300Z"
   },
   {
    "duration": 2,
    "start_time": "2022-02-17T02:18:46.312Z"
   },
   {
    "duration": 40,
    "start_time": "2022-02-17T02:18:46.315Z"
   },
   {
    "duration": 2,
    "start_time": "2022-02-17T02:18:46.357Z"
   },
   {
    "duration": 4,
    "start_time": "2022-02-17T02:18:46.361Z"
   },
   {
    "duration": 3,
    "start_time": "2022-02-17T02:18:46.366Z"
   },
   {
    "duration": 7,
    "start_time": "2022-02-17T02:18:46.371Z"
   },
   {
    "duration": 5,
    "start_time": "2022-02-17T02:18:46.379Z"
   },
   {
    "duration": 5,
    "start_time": "2022-02-17T02:18:46.385Z"
   },
   {
    "duration": 6,
    "start_time": "2022-02-17T02:18:46.391Z"
   },
   {
    "duration": 252,
    "start_time": "2022-02-17T02:21:41.670Z"
   },
   {
    "duration": 242,
    "start_time": "2022-02-17T02:22:22.370Z"
   },
   {
    "duration": 1114,
    "start_time": "2022-02-17T02:22:26.838Z"
   },
   {
    "duration": 36,
    "start_time": "2022-02-17T02:22:27.953Z"
   },
   {
    "duration": 23,
    "start_time": "2022-02-17T02:22:27.993Z"
   },
   {
    "duration": 32,
    "start_time": "2022-02-17T02:22:28.018Z"
   },
   {
    "duration": 7,
    "start_time": "2022-02-17T02:22:28.051Z"
   },
   {
    "duration": 8,
    "start_time": "2022-02-17T02:22:28.060Z"
   },
   {
    "duration": 12,
    "start_time": "2022-02-17T02:22:28.070Z"
   },
   {
    "duration": 13,
    "start_time": "2022-02-17T02:22:28.084Z"
   },
   {
    "duration": 12,
    "start_time": "2022-02-17T02:22:28.098Z"
   },
   {
    "duration": 38,
    "start_time": "2022-02-17T02:22:28.111Z"
   },
   {
    "duration": 7,
    "start_time": "2022-02-17T02:22:28.151Z"
   },
   {
    "duration": 7,
    "start_time": "2022-02-17T02:22:28.160Z"
   },
   {
    "duration": 23,
    "start_time": "2022-02-17T02:22:28.169Z"
   },
   {
    "duration": 4,
    "start_time": "2022-02-17T02:22:28.193Z"
   },
   {
    "duration": 9,
    "start_time": "2022-02-17T02:22:28.198Z"
   },
   {
    "duration": 62,
    "start_time": "2022-02-17T02:22:28.209Z"
   },
   {
    "duration": 4,
    "start_time": "2022-02-17T02:22:28.273Z"
   },
   {
    "duration": 5,
    "start_time": "2022-02-17T02:22:28.279Z"
   },
   {
    "duration": 11,
    "start_time": "2022-02-17T02:22:28.286Z"
   },
   {
    "duration": 6,
    "start_time": "2022-02-17T02:22:28.298Z"
   },
   {
    "duration": 6,
    "start_time": "2022-02-17T02:22:28.306Z"
   },
   {
    "duration": 37,
    "start_time": "2022-02-17T02:22:28.315Z"
   },
   {
    "duration": 15,
    "start_time": "2022-02-17T02:22:28.354Z"
   },
   {
    "duration": 268,
    "start_time": "2022-02-17T02:22:28.370Z"
   },
   {
    "duration": 319,
    "start_time": "2022-02-17T02:22:28.639Z"
   },
   {
    "duration": 349,
    "start_time": "2022-02-17T02:22:28.960Z"
   },
   {
    "duration": 6,
    "start_time": "2022-02-17T02:22:29.310Z"
   },
   {
    "duration": 7,
    "start_time": "2022-02-17T02:22:29.317Z"
   },
   {
    "duration": 428,
    "start_time": "2022-02-17T02:22:29.325Z"
   },
   {
    "duration": 3,
    "start_time": "2022-02-17T02:22:29.755Z"
   },
   {
    "duration": 311,
    "start_time": "2022-02-17T02:22:29.760Z"
   },
   {
    "duration": 254,
    "start_time": "2022-02-17T02:22:30.072Z"
   },
   {
    "duration": 306,
    "start_time": "2022-02-17T02:22:30.328Z"
   },
   {
    "duration": 403,
    "start_time": "2022-02-17T02:22:30.636Z"
   },
   {
    "duration": 293,
    "start_time": "2022-02-17T02:22:31.041Z"
   },
   {
    "duration": 11,
    "start_time": "2022-02-17T02:22:31.335Z"
   },
   {
    "duration": 2,
    "start_time": "2022-02-17T02:22:31.347Z"
   },
   {
    "duration": 320,
    "start_time": "2022-02-17T02:22:31.351Z"
   },
   {
    "duration": 319,
    "start_time": "2022-02-17T02:22:31.672Z"
   },
   {
    "duration": 4,
    "start_time": "2022-02-17T02:22:31.992Z"
   },
   {
    "duration": 272,
    "start_time": "2022-02-17T02:22:31.997Z"
   },
   {
    "duration": 1228,
    "start_time": "2022-02-17T02:22:32.271Z"
   },
   {
    "duration": 273,
    "start_time": "2022-02-17T02:22:33.501Z"
   },
   {
    "duration": 3,
    "start_time": "2022-02-17T02:22:33.776Z"
   },
   {
    "duration": 424,
    "start_time": "2022-02-17T02:22:33.781Z"
   },
   {
    "duration": 428,
    "start_time": "2022-02-17T02:22:34.207Z"
   },
   {
    "duration": 435,
    "start_time": "2022-02-17T02:22:34.637Z"
   },
   {
    "duration": 7,
    "start_time": "2022-02-17T02:22:35.074Z"
   },
   {
    "duration": 12,
    "start_time": "2022-02-17T02:22:35.083Z"
   },
   {
    "duration": 5,
    "start_time": "2022-02-17T02:22:35.097Z"
   },
   {
    "duration": 10,
    "start_time": "2022-02-17T02:22:35.104Z"
   },
   {
    "duration": 5,
    "start_time": "2022-02-17T02:22:35.116Z"
   },
   {
    "duration": 23,
    "start_time": "2022-02-17T02:22:35.123Z"
   },
   {
    "duration": 2,
    "start_time": "2022-02-17T02:22:35.147Z"
   },
   {
    "duration": 11,
    "start_time": "2022-02-17T02:22:35.151Z"
   },
   {
    "duration": 5,
    "start_time": "2022-02-17T02:22:35.163Z"
   },
   {
    "duration": 5,
    "start_time": "2022-02-17T02:22:35.170Z"
   },
   {
    "duration": 9,
    "start_time": "2022-02-17T02:22:35.177Z"
   },
   {
    "duration": 16,
    "start_time": "2022-02-17T02:22:35.187Z"
   },
   {
    "duration": 10,
    "start_time": "2022-02-17T02:22:35.204Z"
   },
   {
    "duration": 5,
    "start_time": "2022-02-17T02:22:35.215Z"
   },
   {
    "duration": 6,
    "start_time": "2022-02-17T02:22:35.221Z"
   },
   {
    "duration": 1107,
    "start_time": "2022-02-17T02:23:07.328Z"
   },
   {
    "duration": 35,
    "start_time": "2022-02-17T02:23:08.437Z"
   },
   {
    "duration": 20,
    "start_time": "2022-02-17T02:23:08.474Z"
   },
   {
    "duration": 25,
    "start_time": "2022-02-17T02:23:08.496Z"
   },
   {
    "duration": 25,
    "start_time": "2022-02-17T02:23:08.522Z"
   },
   {
    "duration": 10,
    "start_time": "2022-02-17T02:23:08.548Z"
   },
   {
    "duration": 11,
    "start_time": "2022-02-17T02:23:08.559Z"
   },
   {
    "duration": 13,
    "start_time": "2022-02-17T02:23:08.574Z"
   },
   {
    "duration": 11,
    "start_time": "2022-02-17T02:23:08.589Z"
   },
   {
    "duration": 4,
    "start_time": "2022-02-17T02:23:08.602Z"
   },
   {
    "duration": 41,
    "start_time": "2022-02-17T02:23:08.608Z"
   },
   {
    "duration": 6,
    "start_time": "2022-02-17T02:23:08.651Z"
   },
   {
    "duration": 22,
    "start_time": "2022-02-17T02:23:08.658Z"
   },
   {
    "duration": 3,
    "start_time": "2022-02-17T02:23:08.681Z"
   },
   {
    "duration": 7,
    "start_time": "2022-02-17T02:23:08.686Z"
   },
   {
    "duration": 56,
    "start_time": "2022-02-17T02:23:08.695Z"
   },
   {
    "duration": 5,
    "start_time": "2022-02-17T02:23:08.753Z"
   },
   {
    "duration": 4,
    "start_time": "2022-02-17T02:23:08.759Z"
   },
   {
    "duration": 11,
    "start_time": "2022-02-17T02:23:08.764Z"
   },
   {
    "duration": 5,
    "start_time": "2022-02-17T02:23:08.777Z"
   },
   {
    "duration": 5,
    "start_time": "2022-02-17T02:23:08.784Z"
   },
   {
    "duration": 12,
    "start_time": "2022-02-17T02:23:08.790Z"
   },
   {
    "duration": 43,
    "start_time": "2022-02-17T02:23:08.805Z"
   },
   {
    "duration": 244,
    "start_time": "2022-02-17T02:23:08.850Z"
   },
   {
    "duration": 315,
    "start_time": "2022-02-17T02:23:09.095Z"
   },
   {
    "duration": 351,
    "start_time": "2022-02-17T02:23:09.412Z"
   },
   {
    "duration": 5,
    "start_time": "2022-02-17T02:23:09.765Z"
   },
   {
    "duration": 6,
    "start_time": "2022-02-17T02:23:09.771Z"
   },
   {
    "duration": 410,
    "start_time": "2022-02-17T02:23:09.779Z"
   },
   {
    "duration": 4,
    "start_time": "2022-02-17T02:23:10.190Z"
   },
   {
    "duration": 290,
    "start_time": "2022-02-17T02:23:10.195Z"
   },
   {
    "duration": 248,
    "start_time": "2022-02-17T02:23:10.486Z"
   },
   {
    "duration": 297,
    "start_time": "2022-02-17T02:23:10.735Z"
   },
   {
    "duration": 295,
    "start_time": "2022-02-17T02:23:11.033Z"
   },
   {
    "duration": 298,
    "start_time": "2022-02-17T02:23:11.329Z"
   },
   {
    "duration": 6,
    "start_time": "2022-02-17T02:23:11.629Z"
   },
   {
    "duration": 3,
    "start_time": "2022-02-17T02:23:11.646Z"
   },
   {
    "duration": 298,
    "start_time": "2022-02-17T02:23:11.650Z"
   },
   {
    "duration": 319,
    "start_time": "2022-02-17T02:23:11.950Z"
   },
   {
    "duration": 4,
    "start_time": "2022-02-17T02:23:12.270Z"
   },
   {
    "duration": 229,
    "start_time": "2022-02-17T02:23:12.275Z"
   },
   {
    "duration": 1366,
    "start_time": "2022-02-17T02:23:12.506Z"
   },
   {
    "duration": 261,
    "start_time": "2022-02-17T02:23:13.874Z"
   },
   {
    "duration": 4,
    "start_time": "2022-02-17T02:23:14.136Z"
   },
   {
    "duration": 431,
    "start_time": "2022-02-17T02:23:14.145Z"
   },
   {
    "duration": 434,
    "start_time": "2022-02-17T02:23:14.578Z"
   },
   {
    "duration": 433,
    "start_time": "2022-02-17T02:23:15.014Z"
   },
   {
    "duration": 8,
    "start_time": "2022-02-17T02:23:15.449Z"
   },
   {
    "duration": 9,
    "start_time": "2022-02-17T02:23:15.458Z"
   },
   {
    "duration": 3,
    "start_time": "2022-02-17T02:23:15.469Z"
   },
   {
    "duration": 8,
    "start_time": "2022-02-17T02:23:15.473Z"
   },
   {
    "duration": 3,
    "start_time": "2022-02-17T02:23:15.483Z"
   },
   {
    "duration": 8,
    "start_time": "2022-02-17T02:23:15.488Z"
   },
   {
    "duration": 2,
    "start_time": "2022-02-17T02:23:15.498Z"
   },
   {
    "duration": 9,
    "start_time": "2022-02-17T02:23:15.501Z"
   },
   {
    "duration": 3,
    "start_time": "2022-02-17T02:23:15.512Z"
   },
   {
    "duration": 2,
    "start_time": "2022-02-17T02:23:15.546Z"
   },
   {
    "duration": 4,
    "start_time": "2022-02-17T02:23:15.550Z"
   },
   {
    "duration": 7,
    "start_time": "2022-02-17T02:23:15.555Z"
   },
   {
    "duration": 5,
    "start_time": "2022-02-17T02:23:15.564Z"
   },
   {
    "duration": 4,
    "start_time": "2022-02-17T02:23:15.570Z"
   },
   {
    "duration": 7,
    "start_time": "2022-02-17T02:23:15.576Z"
   },
   {
    "duration": 283,
    "start_time": "2022-02-17T02:25:33.713Z"
   },
   {
    "duration": 1070,
    "start_time": "2022-02-17T02:25:40.169Z"
   },
   {
    "duration": 35,
    "start_time": "2022-02-17T02:25:41.241Z"
   },
   {
    "duration": 21,
    "start_time": "2022-02-17T02:25:41.278Z"
   },
   {
    "duration": 25,
    "start_time": "2022-02-17T02:25:41.301Z"
   },
   {
    "duration": 7,
    "start_time": "2022-02-17T02:25:41.327Z"
   },
   {
    "duration": 7,
    "start_time": "2022-02-17T02:25:41.346Z"
   },
   {
    "duration": 12,
    "start_time": "2022-02-17T02:25:41.355Z"
   },
   {
    "duration": 13,
    "start_time": "2022-02-17T02:25:41.369Z"
   },
   {
    "duration": 9,
    "start_time": "2022-02-17T02:25:41.384Z"
   },
   {
    "duration": 5,
    "start_time": "2022-02-17T02:25:41.394Z"
   },
   {
    "duration": 9,
    "start_time": "2022-02-17T02:25:41.400Z"
   },
   {
    "duration": 38,
    "start_time": "2022-02-17T02:25:41.411Z"
   },
   {
    "duration": 21,
    "start_time": "2022-02-17T02:25:41.450Z"
   },
   {
    "duration": 3,
    "start_time": "2022-02-17T02:25:41.473Z"
   },
   {
    "duration": 7,
    "start_time": "2022-02-17T02:25:41.478Z"
   },
   {
    "duration": 29,
    "start_time": "2022-02-17T02:25:41.486Z"
   },
   {
    "duration": 4,
    "start_time": "2022-02-17T02:25:41.517Z"
   },
   {
    "duration": 4,
    "start_time": "2022-02-17T02:25:41.545Z"
   },
   {
    "duration": 13,
    "start_time": "2022-02-17T02:25:41.550Z"
   },
   {
    "duration": 6,
    "start_time": "2022-02-17T02:25:41.564Z"
   },
   {
    "duration": 5,
    "start_time": "2022-02-17T02:25:41.571Z"
   },
   {
    "duration": 13,
    "start_time": "2022-02-17T02:25:41.577Z"
   },
   {
    "duration": 14,
    "start_time": "2022-02-17T02:25:41.593Z"
   },
   {
    "duration": 272,
    "start_time": "2022-02-17T02:25:41.609Z"
   },
   {
    "duration": 308,
    "start_time": "2022-02-17T02:25:41.882Z"
   },
   {
    "duration": 354,
    "start_time": "2022-02-17T02:25:42.192Z"
   },
   {
    "duration": 5,
    "start_time": "2022-02-17T02:25:42.548Z"
   },
   {
    "duration": 6,
    "start_time": "2022-02-17T02:25:42.555Z"
   },
   {
    "duration": 422,
    "start_time": "2022-02-17T02:25:42.563Z"
   },
   {
    "duration": 4,
    "start_time": "2022-02-17T02:25:42.987Z"
   },
   {
    "duration": 298,
    "start_time": "2022-02-17T02:25:42.993Z"
   },
   {
    "duration": 253,
    "start_time": "2022-02-17T02:25:43.293Z"
   },
   {
    "duration": 294,
    "start_time": "2022-02-17T02:25:43.548Z"
   },
   {
    "duration": 285,
    "start_time": "2022-02-17T02:25:43.843Z"
   },
   {
    "duration": 296,
    "start_time": "2022-02-17T02:25:44.130Z"
   },
   {
    "duration": 299,
    "start_time": "2022-02-17T02:25:44.428Z"
   },
   {
    "duration": 5,
    "start_time": "2022-02-17T02:25:44.728Z"
   },
   {
    "duration": 2,
    "start_time": "2022-02-17T02:25:44.746Z"
   },
   {
    "duration": 320,
    "start_time": "2022-02-17T02:25:44.750Z"
   },
   {
    "duration": 314,
    "start_time": "2022-02-17T02:25:45.072Z"
   },
   {
    "duration": 4,
    "start_time": "2022-02-17T02:25:45.388Z"
   },
   {
    "duration": 261,
    "start_time": "2022-02-17T02:25:45.393Z"
   },
   {
    "duration": 1351,
    "start_time": "2022-02-17T02:25:45.656Z"
   },
   {
    "duration": 264,
    "start_time": "2022-02-17T02:25:47.009Z"
   },
   {
    "duration": 4,
    "start_time": "2022-02-17T02:25:47.274Z"
   },
   {
    "duration": 418,
    "start_time": "2022-02-17T02:25:47.279Z"
   },
   {
    "duration": 426,
    "start_time": "2022-02-17T02:25:47.698Z"
   },
   {
    "duration": 462,
    "start_time": "2022-02-17T02:25:48.125Z"
   },
   {
    "duration": 9,
    "start_time": "2022-02-17T02:25:48.589Z"
   },
   {
    "duration": 8,
    "start_time": "2022-02-17T02:25:48.600Z"
   },
   {
    "duration": 5,
    "start_time": "2022-02-17T02:25:48.609Z"
   },
   {
    "duration": 11,
    "start_time": "2022-02-17T02:25:48.615Z"
   },
   {
    "duration": 2,
    "start_time": "2022-02-17T02:25:48.646Z"
   },
   {
    "duration": 14,
    "start_time": "2022-02-17T02:25:48.650Z"
   },
   {
    "duration": 5,
    "start_time": "2022-02-17T02:25:48.665Z"
   },
   {
    "duration": 10,
    "start_time": "2022-02-17T02:25:48.672Z"
   },
   {
    "duration": 6,
    "start_time": "2022-02-17T02:25:48.683Z"
   },
   {
    "duration": 4,
    "start_time": "2022-02-17T02:25:48.690Z"
   },
   {
    "duration": 4,
    "start_time": "2022-02-17T02:25:48.696Z"
   },
   {
    "duration": 7,
    "start_time": "2022-02-17T02:25:48.702Z"
   },
   {
    "duration": 5,
    "start_time": "2022-02-17T02:25:48.710Z"
   },
   {
    "duration": 29,
    "start_time": "2022-02-17T02:25:48.717Z"
   },
   {
    "duration": 5,
    "start_time": "2022-02-17T02:25:48.747Z"
   },
   {
    "duration": 1109,
    "start_time": "2022-02-17T02:29:14.239Z"
   },
   {
    "duration": 36,
    "start_time": "2022-02-17T02:29:15.350Z"
   },
   {
    "duration": 21,
    "start_time": "2022-02-17T02:29:15.388Z"
   },
   {
    "duration": 24,
    "start_time": "2022-02-17T02:29:15.410Z"
   },
   {
    "duration": 7,
    "start_time": "2022-02-17T02:29:15.446Z"
   },
   {
    "duration": 8,
    "start_time": "2022-02-17T02:29:15.454Z"
   },
   {
    "duration": 15,
    "start_time": "2022-02-17T02:29:15.464Z"
   },
   {
    "duration": 16,
    "start_time": "2022-02-17T02:29:15.481Z"
   },
   {
    "duration": 10,
    "start_time": "2022-02-17T02:29:15.498Z"
   },
   {
    "duration": 4,
    "start_time": "2022-02-17T02:29:15.510Z"
   },
   {
    "duration": 31,
    "start_time": "2022-02-17T02:29:15.516Z"
   },
   {
    "duration": 9,
    "start_time": "2022-02-17T02:29:15.549Z"
   },
   {
    "duration": 21,
    "start_time": "2022-02-17T02:29:15.559Z"
   },
   {
    "duration": 4,
    "start_time": "2022-02-17T02:29:15.581Z"
   },
   {
    "duration": 7,
    "start_time": "2022-02-17T02:29:15.586Z"
   },
   {
    "duration": 52,
    "start_time": "2022-02-17T02:29:15.594Z"
   },
   {
    "duration": 5,
    "start_time": "2022-02-17T02:29:15.647Z"
   },
   {
    "duration": 4,
    "start_time": "2022-02-17T02:29:15.654Z"
   },
   {
    "duration": 13,
    "start_time": "2022-02-17T02:29:15.659Z"
   },
   {
    "duration": 6,
    "start_time": "2022-02-17T02:29:15.674Z"
   },
   {
    "duration": 5,
    "start_time": "2022-02-17T02:29:15.681Z"
   },
   {
    "duration": 13,
    "start_time": "2022-02-17T02:29:15.688Z"
   },
   {
    "duration": 43,
    "start_time": "2022-02-17T02:29:15.704Z"
   },
   {
    "duration": 247,
    "start_time": "2022-02-17T02:29:15.749Z"
   },
   {
    "duration": 306,
    "start_time": "2022-02-17T02:29:15.998Z"
   },
   {
    "duration": 341,
    "start_time": "2022-02-17T02:29:16.306Z"
   },
   {
    "duration": 5,
    "start_time": "2022-02-17T02:29:16.648Z"
   },
   {
    "duration": 6,
    "start_time": "2022-02-17T02:29:16.655Z"
   },
   {
    "duration": 409,
    "start_time": "2022-02-17T02:29:16.663Z"
   },
   {
    "duration": 3,
    "start_time": "2022-02-17T02:29:17.074Z"
   },
   {
    "duration": 293,
    "start_time": "2022-02-17T02:29:17.078Z"
   },
   {
    "duration": 244,
    "start_time": "2022-02-17T02:29:17.373Z"
   },
   {
    "duration": 293,
    "start_time": "2022-02-17T02:29:17.618Z"
   },
   {
    "duration": 281,
    "start_time": "2022-02-17T02:29:17.912Z"
   },
   {
    "duration": 296,
    "start_time": "2022-02-17T02:29:18.195Z"
   },
   {
    "duration": 290,
    "start_time": "2022-02-17T02:29:18.492Z"
   },
   {
    "duration": 6,
    "start_time": "2022-02-17T02:29:18.783Z"
   },
   {
    "duration": 4,
    "start_time": "2022-02-17T02:29:18.790Z"
   },
   {
    "duration": 279,
    "start_time": "2022-02-17T02:29:18.796Z"
   },
   {
    "duration": 301,
    "start_time": "2022-02-17T02:29:19.076Z"
   },
   {
    "duration": 4,
    "start_time": "2022-02-17T02:29:19.379Z"
   },
   {
    "duration": 219,
    "start_time": "2022-02-17T02:29:19.384Z"
   },
   {
    "duration": 1278,
    "start_time": "2022-02-17T02:29:19.605Z"
   },
   {
    "duration": 272,
    "start_time": "2022-02-17T02:29:20.884Z"
   },
   {
    "duration": 3,
    "start_time": "2022-02-17T02:29:21.157Z"
   },
   {
    "duration": 433,
    "start_time": "2022-02-17T02:29:21.162Z"
   },
   {
    "duration": 437,
    "start_time": "2022-02-17T02:29:21.597Z"
   },
   {
    "duration": 444,
    "start_time": "2022-02-17T02:29:22.036Z"
   },
   {
    "duration": 9,
    "start_time": "2022-02-17T02:29:22.482Z"
   },
   {
    "duration": 10,
    "start_time": "2022-02-17T02:29:22.493Z"
   },
   {
    "duration": 3,
    "start_time": "2022-02-17T02:29:22.505Z"
   },
   {
    "duration": 9,
    "start_time": "2022-02-17T02:29:22.510Z"
   },
   {
    "duration": 25,
    "start_time": "2022-02-17T02:29:22.521Z"
   },
   {
    "duration": 11,
    "start_time": "2022-02-17T02:29:22.547Z"
   },
   {
    "duration": 4,
    "start_time": "2022-02-17T02:29:22.559Z"
   },
   {
    "duration": 10,
    "start_time": "2022-02-17T02:29:22.564Z"
   },
   {
    "duration": 4,
    "start_time": "2022-02-17T02:29:22.575Z"
   },
   {
    "duration": 7,
    "start_time": "2022-02-17T02:29:22.580Z"
   },
   {
    "duration": 6,
    "start_time": "2022-02-17T02:29:22.589Z"
   },
   {
    "duration": 8,
    "start_time": "2022-02-17T02:29:22.596Z"
   },
   {
    "duration": 5,
    "start_time": "2022-02-17T02:29:22.605Z"
   },
   {
    "duration": 4,
    "start_time": "2022-02-17T02:29:22.611Z"
   },
   {
    "duration": 6,
    "start_time": "2022-02-17T02:29:22.616Z"
   },
   {
    "duration": 1090,
    "start_time": "2022-02-17T02:43:49.248Z"
   },
   {
    "duration": 35,
    "start_time": "2022-02-17T02:43:50.340Z"
   },
   {
    "duration": 21,
    "start_time": "2022-02-17T02:43:50.377Z"
   },
   {
    "duration": 24,
    "start_time": "2022-02-17T02:43:50.399Z"
   },
   {
    "duration": 6,
    "start_time": "2022-02-17T02:43:50.425Z"
   },
   {
    "duration": 8,
    "start_time": "2022-02-17T02:43:50.445Z"
   },
   {
    "duration": 12,
    "start_time": "2022-02-17T02:43:50.454Z"
   },
   {
    "duration": 15,
    "start_time": "2022-02-17T02:43:50.468Z"
   },
   {
    "duration": 9,
    "start_time": "2022-02-17T02:43:50.485Z"
   },
   {
    "duration": 4,
    "start_time": "2022-02-17T02:43:50.496Z"
   },
   {
    "duration": 8,
    "start_time": "2022-02-17T02:43:50.501Z"
   },
   {
    "duration": 36,
    "start_time": "2022-02-17T02:43:50.511Z"
   },
   {
    "duration": 20,
    "start_time": "2022-02-17T02:43:50.548Z"
   },
   {
    "duration": 3,
    "start_time": "2022-02-17T02:43:50.569Z"
   },
   {
    "duration": 9,
    "start_time": "2022-02-17T02:43:50.574Z"
   },
   {
    "duration": 26,
    "start_time": "2022-02-17T02:43:50.584Z"
   },
   {
    "duration": 5,
    "start_time": "2022-02-17T02:43:50.611Z"
   },
   {
    "duration": 29,
    "start_time": "2022-02-17T02:43:50.617Z"
   },
   {
    "duration": 7,
    "start_time": "2022-02-17T02:43:50.648Z"
   },
   {
    "duration": 6,
    "start_time": "2022-02-17T02:43:50.656Z"
   },
   {
    "duration": 4,
    "start_time": "2022-02-17T02:43:50.664Z"
   },
   {
    "duration": 16,
    "start_time": "2022-02-17T02:43:50.670Z"
   },
   {
    "duration": 14,
    "start_time": "2022-02-17T02:43:50.690Z"
   },
   {
    "duration": 273,
    "start_time": "2022-02-17T02:43:50.706Z"
   },
   {
    "duration": 308,
    "start_time": "2022-02-17T02:43:50.980Z"
   },
   {
    "duration": 343,
    "start_time": "2022-02-17T02:43:51.290Z"
   },
   {
    "duration": 12,
    "start_time": "2022-02-17T02:43:51.634Z"
   },
   {
    "duration": 8,
    "start_time": "2022-02-17T02:43:51.647Z"
   },
   {
    "duration": 418,
    "start_time": "2022-02-17T02:43:51.656Z"
   },
   {
    "duration": 4,
    "start_time": "2022-02-17T02:43:52.075Z"
   },
   {
    "duration": 394,
    "start_time": "2022-02-17T02:43:52.080Z"
   },
   {
    "duration": 246,
    "start_time": "2022-02-17T02:43:52.475Z"
   },
   {
    "duration": 299,
    "start_time": "2022-02-17T02:43:52.723Z"
   },
   {
    "duration": 287,
    "start_time": "2022-02-17T02:43:53.024Z"
   },
   {
    "duration": 298,
    "start_time": "2022-02-17T02:43:53.313Z"
   },
   {
    "duration": 300,
    "start_time": "2022-02-17T02:43:53.612Z"
   },
   {
    "duration": 5,
    "start_time": "2022-02-17T02:43:53.914Z"
   },
   {
    "duration": 5,
    "start_time": "2022-02-17T02:43:53.921Z"
   },
   {
    "duration": 339,
    "start_time": "2022-02-17T02:43:53.927Z"
   },
   {
    "duration": 318,
    "start_time": "2022-02-17T02:43:54.267Z"
   },
   {
    "duration": 5,
    "start_time": "2022-02-17T02:43:54.587Z"
   },
   {
    "duration": 216,
    "start_time": "2022-02-17T02:43:54.593Z"
   },
   {
    "duration": 1268,
    "start_time": "2022-02-17T02:43:54.810Z"
   },
   {
    "duration": 258,
    "start_time": "2022-02-17T02:43:56.080Z"
   },
   {
    "duration": 8,
    "start_time": "2022-02-17T02:43:56.339Z"
   },
   {
    "duration": 7291,
    "start_time": "2022-02-17T02:43:56.348Z"
   },
   {
    "duration": 988,
    "start_time": "2022-02-17T02:44:02.652Z"
   },
   {
    "duration": 984,
    "start_time": "2022-02-17T02:44:02.657Z"
   },
   {
    "duration": 973,
    "start_time": "2022-02-17T02:44:02.669Z"
   },
   {
    "duration": 963,
    "start_time": "2022-02-17T02:44:02.680Z"
   },
   {
    "duration": 949,
    "start_time": "2022-02-17T02:44:02.695Z"
   },
   {
    "duration": 943,
    "start_time": "2022-02-17T02:44:02.702Z"
   },
   {
    "duration": 932,
    "start_time": "2022-02-17T02:44:02.714Z"
   },
   {
    "duration": 927,
    "start_time": "2022-02-17T02:44:02.720Z"
   },
   {
    "duration": 916,
    "start_time": "2022-02-17T02:44:02.732Z"
   },
   {
    "duration": 910,
    "start_time": "2022-02-17T02:44:02.739Z"
   },
   {
    "duration": 898,
    "start_time": "2022-02-17T02:44:02.752Z"
   },
   {
    "duration": 887,
    "start_time": "2022-02-17T02:44:02.763Z"
   },
   {
    "duration": 882,
    "start_time": "2022-02-17T02:44:02.769Z"
   },
   {
    "duration": 871,
    "start_time": "2022-02-17T02:44:02.781Z"
   },
   {
    "duration": 866,
    "start_time": "2022-02-17T02:44:02.787Z"
   },
   {
    "duration": 856,
    "start_time": "2022-02-17T02:44:02.798Z"
   },
   {
    "duration": 851,
    "start_time": "2022-02-17T02:44:02.804Z"
   },
   {
    "duration": 842,
    "start_time": "2022-02-17T02:44:02.814Z"
   },
   {
    "duration": 6892,
    "start_time": "2022-02-17T02:44:27.307Z"
   },
   {
    "duration": 6,
    "start_time": "2022-02-17T02:45:23.526Z"
   },
   {
    "duration": 1071,
    "start_time": "2022-02-17T02:45:28.571Z"
   },
   {
    "duration": 36,
    "start_time": "2022-02-17T02:45:29.643Z"
   },
   {
    "duration": 21,
    "start_time": "2022-02-17T02:45:29.681Z"
   },
   {
    "duration": 25,
    "start_time": "2022-02-17T02:45:29.703Z"
   },
   {
    "duration": 19,
    "start_time": "2022-02-17T02:45:29.729Z"
   },
   {
    "duration": 8,
    "start_time": "2022-02-17T02:45:29.750Z"
   },
   {
    "duration": 12,
    "start_time": "2022-02-17T02:45:29.760Z"
   },
   {
    "duration": 13,
    "start_time": "2022-02-17T02:45:29.774Z"
   },
   {
    "duration": 10,
    "start_time": "2022-02-17T02:45:29.788Z"
   },
   {
    "duration": 4,
    "start_time": "2022-02-17T02:45:29.800Z"
   },
   {
    "duration": 42,
    "start_time": "2022-02-17T02:45:29.805Z"
   },
   {
    "duration": 6,
    "start_time": "2022-02-17T02:45:29.848Z"
   },
   {
    "duration": 22,
    "start_time": "2022-02-17T02:45:29.855Z"
   },
   {
    "duration": 4,
    "start_time": "2022-02-17T02:45:29.879Z"
   },
   {
    "duration": 6,
    "start_time": "2022-02-17T02:45:29.884Z"
   },
   {
    "duration": 29,
    "start_time": "2022-02-17T02:45:29.891Z"
   },
   {
    "duration": 25,
    "start_time": "2022-02-17T02:45:29.922Z"
   },
   {
    "duration": 4,
    "start_time": "2022-02-17T02:45:29.948Z"
   },
   {
    "duration": 11,
    "start_time": "2022-02-17T02:45:29.954Z"
   },
   {
    "duration": 6,
    "start_time": "2022-02-17T02:45:29.966Z"
   },
   {
    "duration": 4,
    "start_time": "2022-02-17T02:45:29.974Z"
   },
   {
    "duration": 12,
    "start_time": "2022-02-17T02:45:29.979Z"
   },
   {
    "duration": 14,
    "start_time": "2022-02-17T02:45:29.995Z"
   },
   {
    "duration": 248,
    "start_time": "2022-02-17T02:45:30.047Z"
   },
   {
    "duration": 314,
    "start_time": "2022-02-17T02:45:30.296Z"
   },
   {
    "duration": 456,
    "start_time": "2022-02-17T02:45:30.612Z"
   },
   {
    "duration": 4,
    "start_time": "2022-02-17T02:45:31.070Z"
   },
   {
    "duration": 13,
    "start_time": "2022-02-17T02:45:31.076Z"
   },
   {
    "duration": 412,
    "start_time": "2022-02-17T02:45:31.090Z"
   },
   {
    "duration": 4,
    "start_time": "2022-02-17T02:45:31.503Z"
   },
   {
    "duration": 286,
    "start_time": "2022-02-17T02:45:31.508Z"
   },
   {
    "duration": 250,
    "start_time": "2022-02-17T02:45:31.796Z"
   },
   {
    "duration": 295,
    "start_time": "2022-02-17T02:45:32.047Z"
   },
   {
    "duration": 282,
    "start_time": "2022-02-17T02:45:32.343Z"
   },
   {
    "duration": 393,
    "start_time": "2022-02-17T02:45:32.627Z"
   },
   {
    "duration": 294,
    "start_time": "2022-02-17T02:45:33.022Z"
   },
   {
    "duration": 6,
    "start_time": "2022-02-17T02:45:33.317Z"
   },
   {
    "duration": 6,
    "start_time": "2022-02-17T02:45:33.324Z"
   },
   {
    "duration": 307,
    "start_time": "2022-02-17T02:45:33.331Z"
   },
   {
    "duration": 326,
    "start_time": "2022-02-17T02:45:33.640Z"
   },
   {
    "duration": 4,
    "start_time": "2022-02-17T02:45:33.968Z"
   },
   {
    "duration": 254,
    "start_time": "2022-02-17T02:45:33.974Z"
   },
   {
    "duration": 1477,
    "start_time": "2022-02-17T02:45:34.229Z"
   },
   {
    "duration": 282,
    "start_time": "2022-02-17T02:45:35.707Z"
   },
   {
    "duration": 4,
    "start_time": "2022-02-17T02:45:35.991Z"
   },
   {
    "duration": 8,
    "start_time": "2022-02-17T02:45:35.997Z"
   },
   {
    "duration": 466,
    "start_time": "2022-02-17T02:45:36.006Z"
   },
   {
    "duration": 438,
    "start_time": "2022-02-17T02:45:36.474Z"
   },
   {
    "duration": 454,
    "start_time": "2022-02-17T02:45:36.914Z"
   },
   {
    "duration": 8,
    "start_time": "2022-02-17T02:45:37.370Z"
   },
   {
    "duration": 8,
    "start_time": "2022-02-17T02:45:37.380Z"
   },
   {
    "duration": 4,
    "start_time": "2022-02-17T02:45:37.389Z"
   },
   {
    "duration": 9,
    "start_time": "2022-02-17T02:45:37.394Z"
   },
   {
    "duration": 4,
    "start_time": "2022-02-17T02:45:37.404Z"
   },
   {
    "duration": 9,
    "start_time": "2022-02-17T02:45:37.409Z"
   },
   {
    "duration": 2,
    "start_time": "2022-02-17T02:45:37.446Z"
   },
   {
    "duration": 9,
    "start_time": "2022-02-17T02:45:37.450Z"
   },
   {
    "duration": 6,
    "start_time": "2022-02-17T02:45:37.460Z"
   },
   {
    "duration": 4,
    "start_time": "2022-02-17T02:45:37.468Z"
   },
   {
    "duration": 6,
    "start_time": "2022-02-17T02:45:37.473Z"
   },
   {
    "duration": 6,
    "start_time": "2022-02-17T02:45:37.480Z"
   },
   {
    "duration": 4,
    "start_time": "2022-02-17T02:45:37.488Z"
   },
   {
    "duration": 5,
    "start_time": "2022-02-17T02:45:37.494Z"
   },
   {
    "duration": 6,
    "start_time": "2022-02-17T02:45:37.500Z"
   },
   {
    "duration": 5,
    "start_time": "2022-02-17T02:46:07.825Z"
   },
   {
    "duration": 503,
    "start_time": "2022-02-17T02:46:19.267Z"
   },
   {
    "duration": 1193,
    "start_time": "2022-02-17T02:52:17.663Z"
   },
   {
    "duration": 46,
    "start_time": "2022-02-17T02:52:18.857Z"
   },
   {
    "duration": 20,
    "start_time": "2022-02-17T02:52:18.904Z"
   },
   {
    "duration": 25,
    "start_time": "2022-02-17T02:52:18.926Z"
   },
   {
    "duration": 6,
    "start_time": "2022-02-17T02:52:18.952Z"
   },
   {
    "duration": 7,
    "start_time": "2022-02-17T02:52:18.960Z"
   },
   {
    "duration": 12,
    "start_time": "2022-02-17T02:52:18.969Z"
   },
   {
    "duration": 17,
    "start_time": "2022-02-17T02:52:18.983Z"
   },
   {
    "duration": 10,
    "start_time": "2022-02-17T02:52:19.001Z"
   },
   {
    "duration": 4,
    "start_time": "2022-02-17T02:52:19.012Z"
   },
   {
    "duration": 32,
    "start_time": "2022-02-17T02:52:19.017Z"
   },
   {
    "duration": 7,
    "start_time": "2022-02-17T02:52:19.051Z"
   },
   {
    "duration": 22,
    "start_time": "2022-02-17T02:52:19.060Z"
   },
   {
    "duration": 4,
    "start_time": "2022-02-17T02:52:19.083Z"
   },
   {
    "duration": 9,
    "start_time": "2022-02-17T02:52:19.088Z"
   },
   {
    "duration": 55,
    "start_time": "2022-02-17T02:52:19.098Z"
   },
   {
    "duration": 5,
    "start_time": "2022-02-17T02:52:19.154Z"
   },
   {
    "duration": 4,
    "start_time": "2022-02-17T02:52:19.160Z"
   },
   {
    "duration": 13,
    "start_time": "2022-02-17T02:52:19.165Z"
   },
   {
    "duration": 6,
    "start_time": "2022-02-17T02:52:19.179Z"
   },
   {
    "duration": 4,
    "start_time": "2022-02-17T02:52:19.186Z"
   },
   {
    "duration": 13,
    "start_time": "2022-02-17T02:52:19.191Z"
   },
   {
    "duration": 42,
    "start_time": "2022-02-17T02:52:19.208Z"
   },
   {
    "duration": 248,
    "start_time": "2022-02-17T02:52:19.252Z"
   },
   {
    "duration": 310,
    "start_time": "2022-02-17T02:52:19.502Z"
   },
   {
    "duration": 352,
    "start_time": "2022-02-17T02:52:19.814Z"
   },
   {
    "duration": 5,
    "start_time": "2022-02-17T02:52:20.168Z"
   },
   {
    "duration": 10,
    "start_time": "2022-02-17T02:52:20.175Z"
   },
   {
    "duration": 418,
    "start_time": "2022-02-17T02:52:20.186Z"
   },
   {
    "duration": 4,
    "start_time": "2022-02-17T02:52:20.605Z"
   },
   {
    "duration": 304,
    "start_time": "2022-02-17T02:52:20.610Z"
   },
   {
    "duration": 267,
    "start_time": "2022-02-17T02:52:20.916Z"
   },
   {
    "duration": 295,
    "start_time": "2022-02-17T02:52:21.185Z"
   },
   {
    "duration": 281,
    "start_time": "2022-02-17T02:52:21.482Z"
   },
   {
    "duration": 299,
    "start_time": "2022-02-17T02:52:21.765Z"
   },
   {
    "duration": 394,
    "start_time": "2022-02-17T02:52:22.066Z"
   },
   {
    "duration": 6,
    "start_time": "2022-02-17T02:52:22.462Z"
   },
   {
    "duration": 4,
    "start_time": "2022-02-17T02:52:22.470Z"
   },
   {
    "duration": 303,
    "start_time": "2022-02-17T02:52:22.476Z"
   },
   {
    "duration": 314,
    "start_time": "2022-02-17T02:52:22.780Z"
   },
   {
    "duration": 4,
    "start_time": "2022-02-17T02:52:23.095Z"
   },
   {
    "duration": 286,
    "start_time": "2022-02-17T02:52:23.100Z"
   },
   {
    "duration": 1327,
    "start_time": "2022-02-17T02:52:23.387Z"
   },
   {
    "duration": 257,
    "start_time": "2022-02-17T02:52:24.715Z"
   },
   {
    "duration": 4,
    "start_time": "2022-02-17T02:52:24.973Z"
   },
   {
    "duration": 8,
    "start_time": "2022-02-17T02:52:24.978Z"
   },
   {
    "duration": 432,
    "start_time": "2022-02-17T02:52:24.987Z"
   },
   {
    "duration": 419,
    "start_time": "2022-02-17T02:52:25.420Z"
   },
   {
    "duration": 430,
    "start_time": "2022-02-17T02:52:25.841Z"
   },
   {
    "duration": 9,
    "start_time": "2022-02-17T02:52:26.272Z"
   },
   {
    "duration": 8,
    "start_time": "2022-02-17T02:52:26.283Z"
   },
   {
    "duration": 2,
    "start_time": "2022-02-17T02:52:26.293Z"
   },
   {
    "duration": 11,
    "start_time": "2022-02-17T02:52:26.296Z"
   },
   {
    "duration": 3,
    "start_time": "2022-02-17T02:52:26.309Z"
   },
   {
    "duration": 37,
    "start_time": "2022-02-17T02:52:26.314Z"
   },
   {
    "duration": 3,
    "start_time": "2022-02-17T02:52:26.352Z"
   },
   {
    "duration": 8,
    "start_time": "2022-02-17T02:52:26.357Z"
   },
   {
    "duration": 2,
    "start_time": "2022-02-17T02:52:26.367Z"
   },
   {
    "duration": 4,
    "start_time": "2022-02-17T02:52:26.371Z"
   },
   {
    "duration": 6,
    "start_time": "2022-02-17T02:52:26.376Z"
   },
   {
    "duration": 6,
    "start_time": "2022-02-17T02:52:26.384Z"
   },
   {
    "duration": 5,
    "start_time": "2022-02-17T02:52:26.392Z"
   },
   {
    "duration": 6,
    "start_time": "2022-02-17T02:52:26.398Z"
   },
   {
    "duration": 5,
    "start_time": "2022-02-17T02:52:26.406Z"
   },
   {
    "duration": 1223,
    "start_time": "2022-02-17T02:56:00.514Z"
   },
   {
    "duration": 45,
    "start_time": "2022-02-17T02:56:01.738Z"
   },
   {
    "duration": 21,
    "start_time": "2022-02-17T02:56:01.785Z"
   },
   {
    "duration": 25,
    "start_time": "2022-02-17T02:56:01.807Z"
   },
   {
    "duration": 6,
    "start_time": "2022-02-17T02:56:01.834Z"
   },
   {
    "duration": 11,
    "start_time": "2022-02-17T02:56:01.842Z"
   },
   {
    "duration": 15,
    "start_time": "2022-02-17T02:56:01.854Z"
   },
   {
    "duration": 14,
    "start_time": "2022-02-17T02:56:01.871Z"
   },
   {
    "duration": 10,
    "start_time": "2022-02-17T02:56:01.887Z"
   },
   {
    "duration": 6,
    "start_time": "2022-02-17T02:56:01.899Z"
   },
   {
    "duration": 11,
    "start_time": "2022-02-17T02:56:01.907Z"
   },
   {
    "duration": 31,
    "start_time": "2022-02-17T02:56:01.920Z"
   },
   {
    "duration": 23,
    "start_time": "2022-02-17T02:56:01.953Z"
   },
   {
    "duration": 4,
    "start_time": "2022-02-17T02:56:01.978Z"
   },
   {
    "duration": 12,
    "start_time": "2022-02-17T02:56:01.983Z"
   },
   {
    "duration": 54,
    "start_time": "2022-02-17T02:56:01.997Z"
   },
   {
    "duration": 6,
    "start_time": "2022-02-17T02:56:02.052Z"
   },
   {
    "duration": 5,
    "start_time": "2022-02-17T02:56:02.059Z"
   },
   {
    "duration": 8,
    "start_time": "2022-02-17T02:56:02.065Z"
   },
   {
    "duration": 10,
    "start_time": "2022-02-17T02:56:02.075Z"
   },
   {
    "duration": 7,
    "start_time": "2022-02-17T02:56:02.086Z"
   },
   {
    "duration": 23,
    "start_time": "2022-02-17T02:56:02.094Z"
   },
   {
    "duration": 38,
    "start_time": "2022-02-17T02:56:02.121Z"
   },
   {
    "duration": 248,
    "start_time": "2022-02-17T02:56:02.162Z"
   },
   {
    "duration": 309,
    "start_time": "2022-02-17T02:56:02.411Z"
   },
   {
    "duration": 349,
    "start_time": "2022-02-17T02:56:02.722Z"
   },
   {
    "duration": 5,
    "start_time": "2022-02-17T02:56:03.072Z"
   },
   {
    "duration": 7,
    "start_time": "2022-02-17T02:56:03.078Z"
   },
   {
    "duration": 415,
    "start_time": "2022-02-17T02:56:03.086Z"
   },
   {
    "duration": 4,
    "start_time": "2022-02-17T02:56:03.502Z"
   },
   {
    "duration": 299,
    "start_time": "2022-02-17T02:56:03.507Z"
   },
   {
    "duration": 250,
    "start_time": "2022-02-17T02:56:03.807Z"
   },
   {
    "duration": 295,
    "start_time": "2022-02-17T02:56:04.059Z"
   },
   {
    "duration": 288,
    "start_time": "2022-02-17T02:56:04.356Z"
   },
   {
    "duration": 294,
    "start_time": "2022-02-17T02:56:04.645Z"
   },
   {
    "duration": 295,
    "start_time": "2022-02-17T02:56:04.941Z"
   },
   {
    "duration": 9,
    "start_time": "2022-02-17T02:56:05.237Z"
   },
   {
    "duration": 2,
    "start_time": "2022-02-17T02:56:05.248Z"
   },
   {
    "duration": 298,
    "start_time": "2022-02-17T02:56:05.252Z"
   },
   {
    "duration": 314,
    "start_time": "2022-02-17T02:56:05.552Z"
   },
   {
    "duration": 4,
    "start_time": "2022-02-17T02:56:05.867Z"
   },
   {
    "duration": 238,
    "start_time": "2022-02-17T02:56:05.873Z"
   },
   {
    "duration": 1396,
    "start_time": "2022-02-17T02:56:06.113Z"
   },
   {
    "duration": 257,
    "start_time": "2022-02-17T02:56:07.511Z"
   },
   {
    "duration": 4,
    "start_time": "2022-02-17T02:56:07.769Z"
   },
   {
    "duration": 6,
    "start_time": "2022-02-17T02:56:07.775Z"
   },
   {
    "duration": 439,
    "start_time": "2022-02-17T02:56:07.782Z"
   },
   {
    "duration": 424,
    "start_time": "2022-02-17T02:56:08.223Z"
   },
   {
    "duration": 425,
    "start_time": "2022-02-17T02:56:08.649Z"
   },
   {
    "duration": 9,
    "start_time": "2022-02-17T02:56:09.076Z"
   },
   {
    "duration": 8,
    "start_time": "2022-02-17T02:56:09.087Z"
   },
   {
    "duration": 5,
    "start_time": "2022-02-17T02:56:09.097Z"
   },
   {
    "duration": 17,
    "start_time": "2022-02-17T02:56:09.103Z"
   },
   {
    "duration": 6,
    "start_time": "2022-02-17T02:56:09.122Z"
   },
   {
    "duration": 27,
    "start_time": "2022-02-17T02:56:09.129Z"
   },
   {
    "duration": 6,
    "start_time": "2022-02-17T02:56:09.158Z"
   },
   {
    "duration": 10,
    "start_time": "2022-02-17T02:56:09.165Z"
   },
   {
    "duration": 5,
    "start_time": "2022-02-17T02:56:09.177Z"
   },
   {
    "duration": 3,
    "start_time": "2022-02-17T02:56:09.184Z"
   },
   {
    "duration": 3,
    "start_time": "2022-02-17T02:56:09.189Z"
   },
   {
    "duration": 5,
    "start_time": "2022-02-17T02:56:09.194Z"
   },
   {
    "duration": 4,
    "start_time": "2022-02-17T02:56:09.201Z"
   },
   {
    "duration": 3,
    "start_time": "2022-02-17T02:56:09.207Z"
   },
   {
    "duration": 36,
    "start_time": "2022-02-17T02:56:09.211Z"
   },
   {
    "duration": 1054,
    "start_time": "2022-02-17T03:13:53.989Z"
   },
   {
    "duration": 35,
    "start_time": "2022-02-17T03:13:55.045Z"
   },
   {
    "duration": 21,
    "start_time": "2022-02-17T03:13:55.082Z"
   },
   {
    "duration": 25,
    "start_time": "2022-02-17T03:13:55.104Z"
   },
   {
    "duration": 6,
    "start_time": "2022-02-17T03:13:55.130Z"
   },
   {
    "duration": 8,
    "start_time": "2022-02-17T03:13:55.146Z"
   },
   {
    "duration": 12,
    "start_time": "2022-02-17T03:13:55.155Z"
   },
   {
    "duration": 13,
    "start_time": "2022-02-17T03:13:55.169Z"
   },
   {
    "duration": 10,
    "start_time": "2022-02-17T03:13:55.184Z"
   },
   {
    "duration": 5,
    "start_time": "2022-02-17T03:13:55.195Z"
   },
   {
    "duration": 6,
    "start_time": "2022-02-17T03:13:55.201Z"
   },
   {
    "duration": 43,
    "start_time": "2022-02-17T03:13:55.209Z"
   },
   {
    "duration": 21,
    "start_time": "2022-02-17T03:13:55.254Z"
   },
   {
    "duration": 3,
    "start_time": "2022-02-17T03:13:55.277Z"
   },
   {
    "duration": 8,
    "start_time": "2022-02-17T03:13:55.282Z"
   },
   {
    "duration": 27,
    "start_time": "2022-02-17T03:13:55.291Z"
   },
   {
    "duration": 27,
    "start_time": "2022-02-17T03:13:55.320Z"
   },
   {
    "duration": 4,
    "start_time": "2022-02-17T03:13:55.348Z"
   },
   {
    "duration": 10,
    "start_time": "2022-02-17T03:13:55.354Z"
   },
   {
    "duration": 6,
    "start_time": "2022-02-17T03:13:55.366Z"
   },
   {
    "duration": 7,
    "start_time": "2022-02-17T03:13:55.373Z"
   },
   {
    "duration": 17,
    "start_time": "2022-02-17T03:13:55.381Z"
   },
   {
    "duration": 13,
    "start_time": "2022-02-17T03:13:55.402Z"
   },
   {
    "duration": 240,
    "start_time": "2022-02-17T03:13:55.446Z"
   },
   {
    "duration": 304,
    "start_time": "2022-02-17T03:13:55.688Z"
   },
   {
    "duration": 347,
    "start_time": "2022-02-17T03:13:55.994Z"
   },
   {
    "duration": 7,
    "start_time": "2022-02-17T03:13:56.342Z"
   },
   {
    "duration": 7,
    "start_time": "2022-02-17T03:13:56.351Z"
   },
   {
    "duration": 417,
    "start_time": "2022-02-17T03:13:56.359Z"
   },
   {
    "duration": 4,
    "start_time": "2022-02-17T03:13:56.778Z"
   },
   {
    "duration": 299,
    "start_time": "2022-02-17T03:13:56.783Z"
   },
   {
    "duration": 251,
    "start_time": "2022-02-17T03:13:57.083Z"
   },
   {
    "duration": 294,
    "start_time": "2022-02-17T03:13:57.335Z"
   },
   {
    "duration": 289,
    "start_time": "2022-02-17T03:13:57.631Z"
   },
   {
    "duration": 310,
    "start_time": "2022-02-17T03:13:57.922Z"
   },
   {
    "duration": 364,
    "start_time": "2022-02-17T03:13:58.234Z"
   },
   {
    "duration": 7,
    "start_time": "2022-02-17T03:13:58.600Z"
   },
   {
    "duration": 6,
    "start_time": "2022-02-17T03:13:58.608Z"
   },
   {
    "duration": 357,
    "start_time": "2022-02-17T03:13:58.615Z"
   },
   {
    "duration": 342,
    "start_time": "2022-02-17T03:13:58.973Z"
   },
   {
    "duration": 4,
    "start_time": "2022-02-17T03:13:59.317Z"
   },
   {
    "duration": 289,
    "start_time": "2022-02-17T03:13:59.323Z"
   },
   {
    "duration": 1281,
    "start_time": "2022-02-17T03:13:59.613Z"
   },
   {
    "duration": 270,
    "start_time": "2022-02-17T03:14:00.895Z"
   },
   {
    "duration": 3,
    "start_time": "2022-02-17T03:14:01.167Z"
   },
   {
    "duration": 7,
    "start_time": "2022-02-17T03:14:01.172Z"
   },
   {
    "duration": 452,
    "start_time": "2022-02-17T03:14:01.180Z"
   },
   {
    "duration": 437,
    "start_time": "2022-02-17T03:14:01.634Z"
   },
   {
    "duration": 438,
    "start_time": "2022-02-17T03:14:02.073Z"
   },
   {
    "duration": 8,
    "start_time": "2022-02-17T03:14:02.512Z"
   },
   {
    "duration": 8,
    "start_time": "2022-02-17T03:14:02.522Z"
   },
   {
    "duration": 3,
    "start_time": "2022-02-17T03:14:02.546Z"
   },
   {
    "duration": 10,
    "start_time": "2022-02-17T03:14:02.550Z"
   },
   {
    "duration": 3,
    "start_time": "2022-02-17T03:14:02.562Z"
   },
   {
    "duration": 10,
    "start_time": "2022-02-17T03:14:02.567Z"
   },
   {
    "duration": 4,
    "start_time": "2022-02-17T03:14:02.579Z"
   },
   {
    "duration": 9,
    "start_time": "2022-02-17T03:14:02.584Z"
   },
   {
    "duration": 7,
    "start_time": "2022-02-17T03:14:02.595Z"
   },
   {
    "duration": 4,
    "start_time": "2022-02-17T03:14:02.603Z"
   },
   {
    "duration": 5,
    "start_time": "2022-02-17T03:14:02.609Z"
   },
   {
    "duration": 31,
    "start_time": "2022-02-17T03:14:02.615Z"
   },
   {
    "duration": 4,
    "start_time": "2022-02-17T03:14:02.648Z"
   },
   {
    "duration": 4,
    "start_time": "2022-02-17T03:14:02.654Z"
   },
   {
    "duration": 6,
    "start_time": "2022-02-17T03:14:02.659Z"
   },
   {
    "duration": 1082,
    "start_time": "2022-02-17T20:31:39.095Z"
   },
   {
    "duration": 39,
    "start_time": "2022-02-17T20:31:40.179Z"
   },
   {
    "duration": 24,
    "start_time": "2022-02-17T20:31:40.220Z"
   },
   {
    "duration": 27,
    "start_time": "2022-02-17T20:31:40.246Z"
   },
   {
    "duration": 7,
    "start_time": "2022-02-17T20:31:40.275Z"
   },
   {
    "duration": 9,
    "start_time": "2022-02-17T20:31:40.283Z"
   },
   {
    "duration": 43,
    "start_time": "2022-02-17T20:31:40.294Z"
   },
   {
    "duration": 14,
    "start_time": "2022-02-17T20:31:40.341Z"
   },
   {
    "duration": 13,
    "start_time": "2022-02-17T20:31:40.356Z"
   },
   {
    "duration": 4,
    "start_time": "2022-02-17T20:31:40.371Z"
   },
   {
    "duration": 7,
    "start_time": "2022-02-17T20:31:40.377Z"
   },
   {
    "duration": 8,
    "start_time": "2022-02-17T20:31:40.386Z"
   },
   {
    "duration": 23,
    "start_time": "2022-02-17T20:31:40.431Z"
   },
   {
    "duration": 4,
    "start_time": "2022-02-17T20:31:40.456Z"
   },
   {
    "duration": 7,
    "start_time": "2022-02-17T20:31:40.461Z"
   },
   {
    "duration": 27,
    "start_time": "2022-02-17T20:31:40.469Z"
   },
   {
    "duration": 35,
    "start_time": "2022-02-17T20:31:40.498Z"
   },
   {
    "duration": 5,
    "start_time": "2022-02-17T20:31:40.535Z"
   },
   {
    "duration": 10,
    "start_time": "2022-02-17T20:31:40.541Z"
   },
   {
    "duration": 6,
    "start_time": "2022-02-17T20:31:40.553Z"
   },
   {
    "duration": 7,
    "start_time": "2022-02-17T20:31:40.561Z"
   },
   {
    "duration": 18,
    "start_time": "2022-02-17T20:31:40.570Z"
   },
   {
    "duration": 44,
    "start_time": "2022-02-17T20:31:40.592Z"
   },
   {
    "duration": 313,
    "start_time": "2022-02-17T20:31:40.638Z"
   },
   {
    "duration": 356,
    "start_time": "2022-02-17T20:31:40.953Z"
   },
   {
    "duration": 392,
    "start_time": "2022-02-17T20:31:41.310Z"
   },
   {
    "duration": 5,
    "start_time": "2022-02-17T20:31:41.704Z"
   },
   {
    "duration": 8,
    "start_time": "2022-02-17T20:31:41.711Z"
   },
   {
    "duration": 462,
    "start_time": "2022-02-17T20:31:41.720Z"
   },
   {
    "duration": 4,
    "start_time": "2022-02-17T20:31:42.184Z"
   },
   {
    "duration": 326,
    "start_time": "2022-02-17T20:31:42.190Z"
   },
   {
    "duration": 274,
    "start_time": "2022-02-17T20:31:42.517Z"
   },
   {
    "duration": 325,
    "start_time": "2022-02-17T20:31:42.793Z"
   },
   {
    "duration": 329,
    "start_time": "2022-02-17T20:31:43.120Z"
   },
   {
    "duration": 330,
    "start_time": "2022-02-17T20:31:43.451Z"
   },
   {
    "duration": 325,
    "start_time": "2022-02-17T20:31:43.783Z"
   },
   {
    "duration": 6,
    "start_time": "2022-02-17T20:31:44.110Z"
   },
   {
    "duration": 4,
    "start_time": "2022-02-17T20:31:44.117Z"
   },
   {
    "duration": 342,
    "start_time": "2022-02-17T20:31:44.130Z"
   },
   {
    "duration": 314,
    "start_time": "2022-02-17T20:31:44.473Z"
   },
   {
    "duration": 4,
    "start_time": "2022-02-17T20:31:44.788Z"
   },
   {
    "duration": 307,
    "start_time": "2022-02-17T20:31:44.794Z"
   },
   {
    "duration": 1491,
    "start_time": "2022-02-17T20:31:45.110Z"
   },
   {
    "duration": 293,
    "start_time": "2022-02-17T20:31:46.603Z"
   },
   {
    "duration": 4,
    "start_time": "2022-02-17T20:31:46.897Z"
   },
   {
    "duration": 7,
    "start_time": "2022-02-17T20:31:46.902Z"
   },
   {
    "duration": 508,
    "start_time": "2022-02-17T20:31:46.911Z"
   },
   {
    "duration": 486,
    "start_time": "2022-02-17T20:31:47.421Z"
   },
   {
    "duration": 490,
    "start_time": "2022-02-17T20:31:47.909Z"
   },
   {
    "duration": 9,
    "start_time": "2022-02-17T20:31:48.401Z"
   },
   {
    "duration": 23,
    "start_time": "2022-02-17T20:31:48.412Z"
   },
   {
    "duration": 5,
    "start_time": "2022-02-17T20:31:48.437Z"
   },
   {
    "duration": 13,
    "start_time": "2022-02-17T20:31:48.444Z"
   },
   {
    "duration": 3,
    "start_time": "2022-02-17T20:31:48.459Z"
   },
   {
    "duration": 9,
    "start_time": "2022-02-17T20:31:48.464Z"
   },
   {
    "duration": 3,
    "start_time": "2022-02-17T20:31:48.475Z"
   },
   {
    "duration": 13,
    "start_time": "2022-02-17T20:31:48.480Z"
   },
   {
    "duration": 2,
    "start_time": "2022-02-17T20:31:48.531Z"
   },
   {
    "duration": 6,
    "start_time": "2022-02-17T20:31:48.535Z"
   },
   {
    "duration": 5,
    "start_time": "2022-02-17T20:31:48.542Z"
   },
   {
    "duration": 6,
    "start_time": "2022-02-17T20:31:48.548Z"
   },
   {
    "duration": 5,
    "start_time": "2022-02-17T20:31:48.556Z"
   },
   {
    "duration": 5,
    "start_time": "2022-02-17T20:31:48.563Z"
   },
   {
    "duration": 7,
    "start_time": "2022-02-17T20:31:48.569Z"
   }
  ],
  "kernelspec": {
   "display_name": "Python 3 (ipykernel)",
   "language": "python",
   "name": "python3"
  },
  "language_info": {
   "codemirror_mode": {
    "name": "ipython",
    "version": 3
   },
   "file_extension": ".py",
   "mimetype": "text/x-python",
   "name": "python",
   "nbconvert_exporter": "python",
   "pygments_lexer": "ipython3",
   "version": "3.9.12"
  },
  "toc": {
   "base_numbering": 1,
   "nav_menu": {},
   "number_sections": true,
   "sideBar": true,
   "skip_h1_title": true,
   "title_cell": "Table of Contents",
   "title_sidebar": "Contents",
   "toc_cell": false,
   "toc_position": {},
   "toc_section_display": true,
   "toc_window_display": false
  }
 },
 "nbformat": 4,
 "nbformat_minor": 2
}
