{
 "cells": [
  {
   "cell_type": "markdown",
   "metadata": {},
   "source": [
    "# Определение перспективного тарифа для телеком-компании"
   ]
  },
  {
   "cell_type": "markdown",
   "metadata": {},
   "source": [
    "## Описание проекта"
   ]
  },
  {
   "cell_type": "markdown",
   "metadata": {},
   "source": [
    "Случай аналитика из компании «Мегалайн» — федерального оператора сотовой связи.\n",
    "\n",
    "Клиентам предлагают два тарифных плана: «Смарт» и «Ультра». Чтобы скорректировать рекламный бюджет, коммерческий департамент хочет понять, какой тариф приносит больше денег.\n",
    "\n",
    "Необходимо сделать предварительный анализ тарифов на небольшой выборке клиентов. В выгрузке данные 500 пользователей «Мегалайна»: кто они, откуда, каким тарифом пользуются, сколько звонков и сообщений каждый отправил за 2018 год. Задача проекта - проанализировать поведение клиентов и сделать вывод — какой из 2-х тарифов лучше."
   ]
  },
  {
   "cell_type": "markdown",
   "metadata": {},
   "source": [
    "## Описание тарифов"
   ]
  },
  {
   "cell_type": "markdown",
   "metadata": {},
   "source": [
    "**Тариф «Смарт»**\n",
    "\n",
    "Ежемесячная плата: 550 рублей\n",
    "\n",
    "Включено 500 минут разговора, 50 сообщений и 15 Гб интернет-трафика\n",
    "\n",
    "Стоимость услуг сверх тарифного пакета: \n",
    "- 1. 1 минута разговора: 3 рубля;\n",
    "- 2. 1 сообщение: 3 рубля;\n",
    "- 3. 1 Гб интернет-трафика: 200 рублей.\n",
    "\n",
    "**Тариф «Ультра»**\n",
    "\n",
    "Ежемесячная плата: 1950 рублей\n",
    "\n",
    "Включено 3000 минут разговора, 1000 сообщений и 30 Гб интернет-трафика\n",
    "\n",
    "Стоимость услуг сверх тарифного пакета: \n",
    "- 1. 1 минута разговора: 1 рубль;\n",
    "- 2. 1 сообщение: 1 рубль;\n",
    "- 3. 1 Гб интернет-трафика: 150 рублей."
   ]
  },
  {
   "cell_type": "markdown",
   "metadata": {},
   "source": [
    "**Важная ремарка**\n",
    "\n",
    "«Мегалайн» всегда округляет секунды до минут, а мегабайты — до гигабайт. Каждый звонок округляется отдельно: даже если он длился всего 1 секунду, будет засчитан как 1 минута. Каждый потраченный мегабайт округляется до гигабайта: потратил хотя бы 100 Мб, спишут как за 1 Гб (1 Гб - это 1024 Мб)."
   ]
  },
  {
   "cell_type": "code",
   "execution_count": 1,
   "metadata": {},
   "outputs": [],
   "source": [
    "# импорт библиотек\n",
    "import warnings\n",
    "warnings.filterwarnings(\"ignore\")\n",
    "\n",
    "import pandas as pd\n",
    "import numpy as np\n",
    "\n",
    "import matplotlib.pyplot as plt\n",
    "\n",
    "from scipy import stats as st\n",
    "from datetime import datetime"
   ]
  },
  {
   "cell_type": "code",
   "execution_count": 2,
   "metadata": {},
   "outputs": [],
   "source": [
    "# функция для вывода общей информации о датасете\n",
    "def data_main_info(data):\n",
    "    \n",
    "    # вывод шапки и общей информации\n",
    "    print('Шапка и общая информация о данных')\n",
    "    display(data.head(10))\n",
    "    print(data.info())\n",
    "    print()\n",
    "    \n",
    "    # Вывод статистической информации о датасете\n",
    "    print('Статистическая информация о данных')\n",
    "    display(data.describe())\n",
    "    print()\n",
    "    \n",
    "    # Подсчет и вывод количества явных дубликатов в данных\n",
    "    print('Количество явных дубликатов в данных:', data.duplicated().sum())\n",
    "    print()\n",
    "    \n",
    "    # Подсчет и вывод количества пропусков по столбцам\n",
    "    print('Количество пропусков в данных')\n",
    "    display(data.isna().sum().sort_values(ascending=False))"
   ]
  },
  {
   "cell_type": "markdown",
   "metadata": {},
   "source": [
    "## Изучение данных, предобработка и подготовка"
   ]
  },
  {
   "cell_type": "markdown",
   "metadata": {},
   "source": [
    "### Изучение данных"
   ]
  },
  {
   "cell_type": "markdown",
   "metadata": {},
   "source": [
    "Посмотрим на каждый датасет по отдельности."
   ]
  },
  {
   "cell_type": "code",
   "execution_count": 3,
   "metadata": {},
   "outputs": [
    {
     "name": "stdout",
     "output_type": "stream",
     "text": [
      "Шапка и общая информация о данных\n"
     ]
    },
    {
     "data": {
      "text/html": [
       "<div>\n",
       "<style scoped>\n",
       "    .dataframe tbody tr th:only-of-type {\n",
       "        vertical-align: middle;\n",
       "    }\n",
       "\n",
       "    .dataframe tbody tr th {\n",
       "        vertical-align: top;\n",
       "    }\n",
       "\n",
       "    .dataframe thead th {\n",
       "        text-align: right;\n",
       "    }\n",
       "</style>\n",
       "<table border=\"1\" class=\"dataframe\">\n",
       "  <thead>\n",
       "    <tr style=\"text-align: right;\">\n",
       "      <th></th>\n",
       "      <th>id</th>\n",
       "      <th>call_date</th>\n",
       "      <th>duration</th>\n",
       "      <th>user_id</th>\n",
       "    </tr>\n",
       "  </thead>\n",
       "  <tbody>\n",
       "    <tr>\n",
       "      <th>0</th>\n",
       "      <td>1000_0</td>\n",
       "      <td>2018-07-25</td>\n",
       "      <td>0.00</td>\n",
       "      <td>1000</td>\n",
       "    </tr>\n",
       "    <tr>\n",
       "      <th>1</th>\n",
       "      <td>1000_1</td>\n",
       "      <td>2018-08-17</td>\n",
       "      <td>0.00</td>\n",
       "      <td>1000</td>\n",
       "    </tr>\n",
       "    <tr>\n",
       "      <th>2</th>\n",
       "      <td>1000_2</td>\n",
       "      <td>2018-06-11</td>\n",
       "      <td>2.85</td>\n",
       "      <td>1000</td>\n",
       "    </tr>\n",
       "    <tr>\n",
       "      <th>3</th>\n",
       "      <td>1000_3</td>\n",
       "      <td>2018-09-21</td>\n",
       "      <td>13.80</td>\n",
       "      <td>1000</td>\n",
       "    </tr>\n",
       "    <tr>\n",
       "      <th>4</th>\n",
       "      <td>1000_4</td>\n",
       "      <td>2018-12-15</td>\n",
       "      <td>5.18</td>\n",
       "      <td>1000</td>\n",
       "    </tr>\n",
       "    <tr>\n",
       "      <th>5</th>\n",
       "      <td>1000_5</td>\n",
       "      <td>2018-11-02</td>\n",
       "      <td>0.00</td>\n",
       "      <td>1000</td>\n",
       "    </tr>\n",
       "    <tr>\n",
       "      <th>6</th>\n",
       "      <td>1000_6</td>\n",
       "      <td>2018-10-18</td>\n",
       "      <td>0.00</td>\n",
       "      <td>1000</td>\n",
       "    </tr>\n",
       "    <tr>\n",
       "      <th>7</th>\n",
       "      <td>1000_7</td>\n",
       "      <td>2018-08-22</td>\n",
       "      <td>18.31</td>\n",
       "      <td>1000</td>\n",
       "    </tr>\n",
       "    <tr>\n",
       "      <th>8</th>\n",
       "      <td>1000_8</td>\n",
       "      <td>2018-09-15</td>\n",
       "      <td>18.44</td>\n",
       "      <td>1000</td>\n",
       "    </tr>\n",
       "    <tr>\n",
       "      <th>9</th>\n",
       "      <td>1000_9</td>\n",
       "      <td>2018-08-15</td>\n",
       "      <td>0.00</td>\n",
       "      <td>1000</td>\n",
       "    </tr>\n",
       "  </tbody>\n",
       "</table>\n",
       "</div>"
      ],
      "text/plain": [
       "       id   call_date  duration  user_id\n",
       "0  1000_0  2018-07-25      0.00     1000\n",
       "1  1000_1  2018-08-17      0.00     1000\n",
       "2  1000_2  2018-06-11      2.85     1000\n",
       "3  1000_3  2018-09-21     13.80     1000\n",
       "4  1000_4  2018-12-15      5.18     1000\n",
       "5  1000_5  2018-11-02      0.00     1000\n",
       "6  1000_6  2018-10-18      0.00     1000\n",
       "7  1000_7  2018-08-22     18.31     1000\n",
       "8  1000_8  2018-09-15     18.44     1000\n",
       "9  1000_9  2018-08-15      0.00     1000"
      ]
     },
     "metadata": {},
     "output_type": "display_data"
    },
    {
     "name": "stdout",
     "output_type": "stream",
     "text": [
      "<class 'pandas.core.frame.DataFrame'>\n",
      "RangeIndex: 202607 entries, 0 to 202606\n",
      "Data columns (total 4 columns):\n",
      " #   Column     Non-Null Count   Dtype  \n",
      "---  ------     --------------   -----  \n",
      " 0   id         202607 non-null  object \n",
      " 1   call_date  202607 non-null  object \n",
      " 2   duration   202607 non-null  float64\n",
      " 3   user_id    202607 non-null  int64  \n",
      "dtypes: float64(1), int64(1), object(2)\n",
      "memory usage: 6.2+ MB\n",
      "None\n",
      "\n",
      "Статистическая информация о данных\n"
     ]
    },
    {
     "data": {
      "text/html": [
       "<div>\n",
       "<style scoped>\n",
       "    .dataframe tbody tr th:only-of-type {\n",
       "        vertical-align: middle;\n",
       "    }\n",
       "\n",
       "    .dataframe tbody tr th {\n",
       "        vertical-align: top;\n",
       "    }\n",
       "\n",
       "    .dataframe thead th {\n",
       "        text-align: right;\n",
       "    }\n",
       "</style>\n",
       "<table border=\"1\" class=\"dataframe\">\n",
       "  <thead>\n",
       "    <tr style=\"text-align: right;\">\n",
       "      <th></th>\n",
       "      <th>duration</th>\n",
       "      <th>user_id</th>\n",
       "    </tr>\n",
       "  </thead>\n",
       "  <tbody>\n",
       "    <tr>\n",
       "      <th>count</th>\n",
       "      <td>202607.000000</td>\n",
       "      <td>202607.000000</td>\n",
       "    </tr>\n",
       "    <tr>\n",
       "      <th>mean</th>\n",
       "      <td>6.755887</td>\n",
       "      <td>1253.940619</td>\n",
       "    </tr>\n",
       "    <tr>\n",
       "      <th>std</th>\n",
       "      <td>5.843365</td>\n",
       "      <td>144.722751</td>\n",
       "    </tr>\n",
       "    <tr>\n",
       "      <th>min</th>\n",
       "      <td>0.000000</td>\n",
       "      <td>1000.000000</td>\n",
       "    </tr>\n",
       "    <tr>\n",
       "      <th>25%</th>\n",
       "      <td>1.300000</td>\n",
       "      <td>1126.000000</td>\n",
       "    </tr>\n",
       "    <tr>\n",
       "      <th>50%</th>\n",
       "      <td>6.000000</td>\n",
       "      <td>1260.000000</td>\n",
       "    </tr>\n",
       "    <tr>\n",
       "      <th>75%</th>\n",
       "      <td>10.700000</td>\n",
       "      <td>1379.000000</td>\n",
       "    </tr>\n",
       "    <tr>\n",
       "      <th>max</th>\n",
       "      <td>38.000000</td>\n",
       "      <td>1499.000000</td>\n",
       "    </tr>\n",
       "  </tbody>\n",
       "</table>\n",
       "</div>"
      ],
      "text/plain": [
       "            duration        user_id\n",
       "count  202607.000000  202607.000000\n",
       "mean        6.755887    1253.940619\n",
       "std         5.843365     144.722751\n",
       "min         0.000000    1000.000000\n",
       "25%         1.300000    1126.000000\n",
       "50%         6.000000    1260.000000\n",
       "75%        10.700000    1379.000000\n",
       "max        38.000000    1499.000000"
      ]
     },
     "metadata": {},
     "output_type": "display_data"
    },
    {
     "name": "stdout",
     "output_type": "stream",
     "text": [
      "\n",
      "Количество явных дубликатов в данных: 0\n",
      "\n",
      "Количество пропусков в данных\n"
     ]
    },
    {
     "data": {
      "text/plain": [
       "id           0\n",
       "call_date    0\n",
       "duration     0\n",
       "user_id      0\n",
       "dtype: int64"
      ]
     },
     "metadata": {},
     "output_type": "display_data"
    }
   ],
   "source": [
    "# данные по звонкам\n",
    "calls = pd.read_csv('/Users/danilvlasenko/Desktop/projects_datasets/calls.csv')\n",
    "\n",
    "# общая информация о звонках\n",
    "data_main_info(calls)"
   ]
  },
  {
   "cell_type": "markdown",
   "metadata": {},
   "source": [
    "В данных по звонкам имеем 4 столбца:\n",
    "- `id` — уникальный номер звонка\n",
    "- `call_date` — дата звонка\n",
    "- `duration` — длительность звонка в минутах\n",
    "- `user_id` — идентификатор пользователя, сделавшего звонок\n",
    "\n",
    "Пропущенные значения и явные дубликаты отсутствуют.\n",
    "\n",
    "В столбце `call_date` указан тип данных *object*. Для корректного использования дат по месяцам и годам стоит привести значения в тип *datetime*\n",
    "\n",
    "В столбце `id` указан тип данных *odject*. Это уникальный номер звонка, который не должен быть *object*, имеет смысл изменить тип данных на *int*."
   ]
  },
  {
   "cell_type": "code",
   "execution_count": 4,
   "metadata": {},
   "outputs": [
    {
     "name": "stdout",
     "output_type": "stream",
     "text": [
      "Шапка и общая информация о данных\n"
     ]
    },
    {
     "data": {
      "text/html": [
       "<div>\n",
       "<style scoped>\n",
       "    .dataframe tbody tr th:only-of-type {\n",
       "        vertical-align: middle;\n",
       "    }\n",
       "\n",
       "    .dataframe tbody tr th {\n",
       "        vertical-align: top;\n",
       "    }\n",
       "\n",
       "    .dataframe thead th {\n",
       "        text-align: right;\n",
       "    }\n",
       "</style>\n",
       "<table border=\"1\" class=\"dataframe\">\n",
       "  <thead>\n",
       "    <tr style=\"text-align: right;\">\n",
       "      <th></th>\n",
       "      <th>Unnamed: 0</th>\n",
       "      <th>id</th>\n",
       "      <th>mb_used</th>\n",
       "      <th>session_date</th>\n",
       "      <th>user_id</th>\n",
       "    </tr>\n",
       "  </thead>\n",
       "  <tbody>\n",
       "    <tr>\n",
       "      <th>0</th>\n",
       "      <td>0</td>\n",
       "      <td>1000_0</td>\n",
       "      <td>112.95</td>\n",
       "      <td>2018-11-25</td>\n",
       "      <td>1000</td>\n",
       "    </tr>\n",
       "    <tr>\n",
       "      <th>1</th>\n",
       "      <td>1</td>\n",
       "      <td>1000_1</td>\n",
       "      <td>1052.81</td>\n",
       "      <td>2018-09-07</td>\n",
       "      <td>1000</td>\n",
       "    </tr>\n",
       "    <tr>\n",
       "      <th>2</th>\n",
       "      <td>2</td>\n",
       "      <td>1000_2</td>\n",
       "      <td>1197.26</td>\n",
       "      <td>2018-06-25</td>\n",
       "      <td>1000</td>\n",
       "    </tr>\n",
       "    <tr>\n",
       "      <th>3</th>\n",
       "      <td>3</td>\n",
       "      <td>1000_3</td>\n",
       "      <td>550.27</td>\n",
       "      <td>2018-08-22</td>\n",
       "      <td>1000</td>\n",
       "    </tr>\n",
       "    <tr>\n",
       "      <th>4</th>\n",
       "      <td>4</td>\n",
       "      <td>1000_4</td>\n",
       "      <td>302.56</td>\n",
       "      <td>2018-09-24</td>\n",
       "      <td>1000</td>\n",
       "    </tr>\n",
       "    <tr>\n",
       "      <th>5</th>\n",
       "      <td>5</td>\n",
       "      <td>1000_5</td>\n",
       "      <td>399.97</td>\n",
       "      <td>2018-10-02</td>\n",
       "      <td>1000</td>\n",
       "    </tr>\n",
       "    <tr>\n",
       "      <th>6</th>\n",
       "      <td>6</td>\n",
       "      <td>1000_6</td>\n",
       "      <td>540.08</td>\n",
       "      <td>2018-09-07</td>\n",
       "      <td>1000</td>\n",
       "    </tr>\n",
       "    <tr>\n",
       "      <th>7</th>\n",
       "      <td>7</td>\n",
       "      <td>1000_7</td>\n",
       "      <td>415.70</td>\n",
       "      <td>2018-07-11</td>\n",
       "      <td>1000</td>\n",
       "    </tr>\n",
       "    <tr>\n",
       "      <th>8</th>\n",
       "      <td>8</td>\n",
       "      <td>1000_8</td>\n",
       "      <td>505.40</td>\n",
       "      <td>2018-10-08</td>\n",
       "      <td>1000</td>\n",
       "    </tr>\n",
       "    <tr>\n",
       "      <th>9</th>\n",
       "      <td>9</td>\n",
       "      <td>1000_9</td>\n",
       "      <td>345.54</td>\n",
       "      <td>2018-09-03</td>\n",
       "      <td>1000</td>\n",
       "    </tr>\n",
       "  </tbody>\n",
       "</table>\n",
       "</div>"
      ],
      "text/plain": [
       "   Unnamed: 0      id  mb_used session_date  user_id\n",
       "0           0  1000_0   112.95   2018-11-25     1000\n",
       "1           1  1000_1  1052.81   2018-09-07     1000\n",
       "2           2  1000_2  1197.26   2018-06-25     1000\n",
       "3           3  1000_3   550.27   2018-08-22     1000\n",
       "4           4  1000_4   302.56   2018-09-24     1000\n",
       "5           5  1000_5   399.97   2018-10-02     1000\n",
       "6           6  1000_6   540.08   2018-09-07     1000\n",
       "7           7  1000_7   415.70   2018-07-11     1000\n",
       "8           8  1000_8   505.40   2018-10-08     1000\n",
       "9           9  1000_9   345.54   2018-09-03     1000"
      ]
     },
     "metadata": {},
     "output_type": "display_data"
    },
    {
     "name": "stdout",
     "output_type": "stream",
     "text": [
      "<class 'pandas.core.frame.DataFrame'>\n",
      "RangeIndex: 149396 entries, 0 to 149395\n",
      "Data columns (total 5 columns):\n",
      " #   Column        Non-Null Count   Dtype  \n",
      "---  ------        --------------   -----  \n",
      " 0   Unnamed: 0    149396 non-null  int64  \n",
      " 1   id            149396 non-null  object \n",
      " 2   mb_used       149396 non-null  float64\n",
      " 3   session_date  149396 non-null  object \n",
      " 4   user_id       149396 non-null  int64  \n",
      "dtypes: float64(1), int64(2), object(2)\n",
      "memory usage: 5.7+ MB\n",
      "None\n",
      "\n",
      "Статистическая информация о данных\n"
     ]
    },
    {
     "data": {
      "text/html": [
       "<div>\n",
       "<style scoped>\n",
       "    .dataframe tbody tr th:only-of-type {\n",
       "        vertical-align: middle;\n",
       "    }\n",
       "\n",
       "    .dataframe tbody tr th {\n",
       "        vertical-align: top;\n",
       "    }\n",
       "\n",
       "    .dataframe thead th {\n",
       "        text-align: right;\n",
       "    }\n",
       "</style>\n",
       "<table border=\"1\" class=\"dataframe\">\n",
       "  <thead>\n",
       "    <tr style=\"text-align: right;\">\n",
       "      <th></th>\n",
       "      <th>Unnamed: 0</th>\n",
       "      <th>mb_used</th>\n",
       "      <th>user_id</th>\n",
       "    </tr>\n",
       "  </thead>\n",
       "  <tbody>\n",
       "    <tr>\n",
       "      <th>count</th>\n",
       "      <td>149396.000000</td>\n",
       "      <td>149396.000000</td>\n",
       "      <td>149396.000000</td>\n",
       "    </tr>\n",
       "    <tr>\n",
       "      <th>mean</th>\n",
       "      <td>74697.500000</td>\n",
       "      <td>370.192426</td>\n",
       "      <td>1252.099842</td>\n",
       "    </tr>\n",
       "    <tr>\n",
       "      <th>std</th>\n",
       "      <td>43127.054745</td>\n",
       "      <td>278.300951</td>\n",
       "      <td>144.050823</td>\n",
       "    </tr>\n",
       "    <tr>\n",
       "      <th>min</th>\n",
       "      <td>0.000000</td>\n",
       "      <td>0.000000</td>\n",
       "      <td>1000.000000</td>\n",
       "    </tr>\n",
       "    <tr>\n",
       "      <th>25%</th>\n",
       "      <td>37348.750000</td>\n",
       "      <td>138.187500</td>\n",
       "      <td>1130.000000</td>\n",
       "    </tr>\n",
       "    <tr>\n",
       "      <th>50%</th>\n",
       "      <td>74697.500000</td>\n",
       "      <td>348.015000</td>\n",
       "      <td>1251.000000</td>\n",
       "    </tr>\n",
       "    <tr>\n",
       "      <th>75%</th>\n",
       "      <td>112046.250000</td>\n",
       "      <td>559.552500</td>\n",
       "      <td>1380.000000</td>\n",
       "    </tr>\n",
       "    <tr>\n",
       "      <th>max</th>\n",
       "      <td>149395.000000</td>\n",
       "      <td>1724.830000</td>\n",
       "      <td>1499.000000</td>\n",
       "    </tr>\n",
       "  </tbody>\n",
       "</table>\n",
       "</div>"
      ],
      "text/plain": [
       "          Unnamed: 0        mb_used        user_id\n",
       "count  149396.000000  149396.000000  149396.000000\n",
       "mean    74697.500000     370.192426    1252.099842\n",
       "std     43127.054745     278.300951     144.050823\n",
       "min         0.000000       0.000000    1000.000000\n",
       "25%     37348.750000     138.187500    1130.000000\n",
       "50%     74697.500000     348.015000    1251.000000\n",
       "75%    112046.250000     559.552500    1380.000000\n",
       "max    149395.000000    1724.830000    1499.000000"
      ]
     },
     "metadata": {},
     "output_type": "display_data"
    },
    {
     "name": "stdout",
     "output_type": "stream",
     "text": [
      "\n",
      "Количество явных дубликатов в данных: 0\n",
      "\n",
      "Количество пропусков в данных\n"
     ]
    },
    {
     "data": {
      "text/plain": [
       "Unnamed: 0      0\n",
       "id              0\n",
       "mb_used         0\n",
       "session_date    0\n",
       "user_id         0\n",
       "dtype: int64"
      ]
     },
     "metadata": {},
     "output_type": "display_data"
    }
   ],
   "source": [
    "# данные по интернет-сессиям\n",
    "internet = pd.read_csv('/Users/danilvlasenko/Desktop/projects_datasets/internet.csv')\n",
    "\n",
    "# общая информация об интернет-сессиях\n",
    "data_main_info(internet)"
   ]
  },
  {
   "cell_type": "markdown",
   "metadata": {},
   "source": [
    "В данных по интернет-сессиям имеем 4 столбца:\n",
    "- `id` — уникальный номер сессии\n",
    "- `mb_used` — объём потраченного за сессию интернет-трафика (в мегабайтах)\n",
    "- `session_date` — дата интернет-сессии\n",
    "- `user_id` — идентификатор пользователя\n",
    "\n",
    "Пропущенные значения и явные дубликаты отсутствуют.\n",
    "\n",
    "В столбце `session_date` указан тип данных *object*. Для корректного использования дат по месяцам и годам стоит привести значения в тип *datetime*.\n",
    "\n",
    "В столбце `id` указан тип данных *odject*. Это уникальный номер сессии, который не должен быть *object*, имеет смысл изменить тип данных на *int*.\n",
    "\n",
    "Имеется непонятный столбец `Unnamed: 0`. Скорее всего, он совпадает с индексами. Посмотрим на 10 последних строк в данных, и если это так, удалим его сразу же - он точно не понадобится."
   ]
  },
  {
   "cell_type": "code",
   "execution_count": 5,
   "metadata": {},
   "outputs": [
    {
     "data": {
      "text/html": [
       "<div>\n",
       "<style scoped>\n",
       "    .dataframe tbody tr th:only-of-type {\n",
       "        vertical-align: middle;\n",
       "    }\n",
       "\n",
       "    .dataframe tbody tr th {\n",
       "        vertical-align: top;\n",
       "    }\n",
       "\n",
       "    .dataframe thead th {\n",
       "        text-align: right;\n",
       "    }\n",
       "</style>\n",
       "<table border=\"1\" class=\"dataframe\">\n",
       "  <thead>\n",
       "    <tr style=\"text-align: right;\">\n",
       "      <th></th>\n",
       "      <th>Unnamed: 0</th>\n",
       "      <th>id</th>\n",
       "      <th>mb_used</th>\n",
       "      <th>session_date</th>\n",
       "      <th>user_id</th>\n",
       "    </tr>\n",
       "  </thead>\n",
       "  <tbody>\n",
       "    <tr>\n",
       "      <th>149386</th>\n",
       "      <td>149386</td>\n",
       "      <td>1499_147</td>\n",
       "      <td>0.00</td>\n",
       "      <td>2018-10-21</td>\n",
       "      <td>1499</td>\n",
       "    </tr>\n",
       "    <tr>\n",
       "      <th>149387</th>\n",
       "      <td>149387</td>\n",
       "      <td>1499_148</td>\n",
       "      <td>268.19</td>\n",
       "      <td>2018-11-13</td>\n",
       "      <td>1499</td>\n",
       "    </tr>\n",
       "    <tr>\n",
       "      <th>149388</th>\n",
       "      <td>149388</td>\n",
       "      <td>1499_149</td>\n",
       "      <td>778.68</td>\n",
       "      <td>2018-11-24</td>\n",
       "      <td>1499</td>\n",
       "    </tr>\n",
       "    <tr>\n",
       "      <th>149389</th>\n",
       "      <td>149389</td>\n",
       "      <td>1499_150</td>\n",
       "      <td>273.98</td>\n",
       "      <td>2018-11-20</td>\n",
       "      <td>1499</td>\n",
       "    </tr>\n",
       "    <tr>\n",
       "      <th>149390</th>\n",
       "      <td>149390</td>\n",
       "      <td>1499_151</td>\n",
       "      <td>752.72</td>\n",
       "      <td>2018-10-11</td>\n",
       "      <td>1499</td>\n",
       "    </tr>\n",
       "    <tr>\n",
       "      <th>149391</th>\n",
       "      <td>149391</td>\n",
       "      <td>1499_152</td>\n",
       "      <td>318.90</td>\n",
       "      <td>2018-10-03</td>\n",
       "      <td>1499</td>\n",
       "    </tr>\n",
       "    <tr>\n",
       "      <th>149392</th>\n",
       "      <td>149392</td>\n",
       "      <td>1499_153</td>\n",
       "      <td>490.13</td>\n",
       "      <td>2018-12-14</td>\n",
       "      <td>1499</td>\n",
       "    </tr>\n",
       "    <tr>\n",
       "      <th>149393</th>\n",
       "      <td>149393</td>\n",
       "      <td>1499_154</td>\n",
       "      <td>0.00</td>\n",
       "      <td>2018-10-27</td>\n",
       "      <td>1499</td>\n",
       "    </tr>\n",
       "    <tr>\n",
       "      <th>149394</th>\n",
       "      <td>149394</td>\n",
       "      <td>1499_155</td>\n",
       "      <td>1246.32</td>\n",
       "      <td>2018-11-26</td>\n",
       "      <td>1499</td>\n",
       "    </tr>\n",
       "    <tr>\n",
       "      <th>149395</th>\n",
       "      <td>149395</td>\n",
       "      <td>1499_156</td>\n",
       "      <td>544.37</td>\n",
       "      <td>2018-10-26</td>\n",
       "      <td>1499</td>\n",
       "    </tr>\n",
       "  </tbody>\n",
       "</table>\n",
       "</div>"
      ],
      "text/plain": [
       "        Unnamed: 0        id  mb_used session_date  user_id\n",
       "149386      149386  1499_147     0.00   2018-10-21     1499\n",
       "149387      149387  1499_148   268.19   2018-11-13     1499\n",
       "149388      149388  1499_149   778.68   2018-11-24     1499\n",
       "149389      149389  1499_150   273.98   2018-11-20     1499\n",
       "149390      149390  1499_151   752.72   2018-10-11     1499\n",
       "149391      149391  1499_152   318.90   2018-10-03     1499\n",
       "149392      149392  1499_153   490.13   2018-12-14     1499\n",
       "149393      149393  1499_154     0.00   2018-10-27     1499\n",
       "149394      149394  1499_155  1246.32   2018-11-26     1499\n",
       "149395      149395  1499_156   544.37   2018-10-26     1499"
      ]
     },
     "execution_count": 5,
     "metadata": {},
     "output_type": "execute_result"
    }
   ],
   "source": [
    "# просмотр последних 10 строк\n",
    "internet.tail(10)"
   ]
  },
  {
   "cell_type": "code",
   "execution_count": 6,
   "metadata": {},
   "outputs": [
    {
     "data": {
      "text/html": [
       "<div>\n",
       "<style scoped>\n",
       "    .dataframe tbody tr th:only-of-type {\n",
       "        vertical-align: middle;\n",
       "    }\n",
       "\n",
       "    .dataframe tbody tr th {\n",
       "        vertical-align: top;\n",
       "    }\n",
       "\n",
       "    .dataframe thead th {\n",
       "        text-align: right;\n",
       "    }\n",
       "</style>\n",
       "<table border=\"1\" class=\"dataframe\">\n",
       "  <thead>\n",
       "    <tr style=\"text-align: right;\">\n",
       "      <th></th>\n",
       "      <th>id</th>\n",
       "      <th>mb_used</th>\n",
       "      <th>session_date</th>\n",
       "      <th>user_id</th>\n",
       "    </tr>\n",
       "  </thead>\n",
       "  <tbody>\n",
       "    <tr>\n",
       "      <th>0</th>\n",
       "      <td>1000_0</td>\n",
       "      <td>112.95</td>\n",
       "      <td>2018-11-25</td>\n",
       "      <td>1000</td>\n",
       "    </tr>\n",
       "    <tr>\n",
       "      <th>1</th>\n",
       "      <td>1000_1</td>\n",
       "      <td>1052.81</td>\n",
       "      <td>2018-09-07</td>\n",
       "      <td>1000</td>\n",
       "    </tr>\n",
       "    <tr>\n",
       "      <th>2</th>\n",
       "      <td>1000_2</td>\n",
       "      <td>1197.26</td>\n",
       "      <td>2018-06-25</td>\n",
       "      <td>1000</td>\n",
       "    </tr>\n",
       "    <tr>\n",
       "      <th>3</th>\n",
       "      <td>1000_3</td>\n",
       "      <td>550.27</td>\n",
       "      <td>2018-08-22</td>\n",
       "      <td>1000</td>\n",
       "    </tr>\n",
       "    <tr>\n",
       "      <th>4</th>\n",
       "      <td>1000_4</td>\n",
       "      <td>302.56</td>\n",
       "      <td>2018-09-24</td>\n",
       "      <td>1000</td>\n",
       "    </tr>\n",
       "    <tr>\n",
       "      <th>5</th>\n",
       "      <td>1000_5</td>\n",
       "      <td>399.97</td>\n",
       "      <td>2018-10-02</td>\n",
       "      <td>1000</td>\n",
       "    </tr>\n",
       "    <tr>\n",
       "      <th>6</th>\n",
       "      <td>1000_6</td>\n",
       "      <td>540.08</td>\n",
       "      <td>2018-09-07</td>\n",
       "      <td>1000</td>\n",
       "    </tr>\n",
       "    <tr>\n",
       "      <th>7</th>\n",
       "      <td>1000_7</td>\n",
       "      <td>415.70</td>\n",
       "      <td>2018-07-11</td>\n",
       "      <td>1000</td>\n",
       "    </tr>\n",
       "    <tr>\n",
       "      <th>8</th>\n",
       "      <td>1000_8</td>\n",
       "      <td>505.40</td>\n",
       "      <td>2018-10-08</td>\n",
       "      <td>1000</td>\n",
       "    </tr>\n",
       "    <tr>\n",
       "      <th>9</th>\n",
       "      <td>1000_9</td>\n",
       "      <td>345.54</td>\n",
       "      <td>2018-09-03</td>\n",
       "      <td>1000</td>\n",
       "    </tr>\n",
       "  </tbody>\n",
       "</table>\n",
       "</div>"
      ],
      "text/plain": [
       "       id  mb_used session_date  user_id\n",
       "0  1000_0   112.95   2018-11-25     1000\n",
       "1  1000_1  1052.81   2018-09-07     1000\n",
       "2  1000_2  1197.26   2018-06-25     1000\n",
       "3  1000_3   550.27   2018-08-22     1000\n",
       "4  1000_4   302.56   2018-09-24     1000\n",
       "5  1000_5   399.97   2018-10-02     1000\n",
       "6  1000_6   540.08   2018-09-07     1000\n",
       "7  1000_7   415.70   2018-07-11     1000\n",
       "8  1000_8   505.40   2018-10-08     1000\n",
       "9  1000_9   345.54   2018-09-03     1000"
      ]
     },
     "execution_count": 6,
     "metadata": {},
     "output_type": "execute_result"
    }
   ],
   "source": [
    "# действительно так. Удаляем\n",
    "internet.drop(columns='Unnamed: 0', axis=1, inplace=True)\n",
    "internet.head(10)"
   ]
  },
  {
   "cell_type": "code",
   "execution_count": 7,
   "metadata": {},
   "outputs": [
    {
     "name": "stdout",
     "output_type": "stream",
     "text": [
      "Шапка и общая информация о данных\n"
     ]
    },
    {
     "data": {
      "text/html": [
       "<div>\n",
       "<style scoped>\n",
       "    .dataframe tbody tr th:only-of-type {\n",
       "        vertical-align: middle;\n",
       "    }\n",
       "\n",
       "    .dataframe tbody tr th {\n",
       "        vertical-align: top;\n",
       "    }\n",
       "\n",
       "    .dataframe thead th {\n",
       "        text-align: right;\n",
       "    }\n",
       "</style>\n",
       "<table border=\"1\" class=\"dataframe\">\n",
       "  <thead>\n",
       "    <tr style=\"text-align: right;\">\n",
       "      <th></th>\n",
       "      <th>id</th>\n",
       "      <th>message_date</th>\n",
       "      <th>user_id</th>\n",
       "    </tr>\n",
       "  </thead>\n",
       "  <tbody>\n",
       "    <tr>\n",
       "      <th>0</th>\n",
       "      <td>1000_0</td>\n",
       "      <td>2018-06-27</td>\n",
       "      <td>1000</td>\n",
       "    </tr>\n",
       "    <tr>\n",
       "      <th>1</th>\n",
       "      <td>1000_1</td>\n",
       "      <td>2018-10-08</td>\n",
       "      <td>1000</td>\n",
       "    </tr>\n",
       "    <tr>\n",
       "      <th>2</th>\n",
       "      <td>1000_2</td>\n",
       "      <td>2018-08-04</td>\n",
       "      <td>1000</td>\n",
       "    </tr>\n",
       "    <tr>\n",
       "      <th>3</th>\n",
       "      <td>1000_3</td>\n",
       "      <td>2018-06-16</td>\n",
       "      <td>1000</td>\n",
       "    </tr>\n",
       "    <tr>\n",
       "      <th>4</th>\n",
       "      <td>1000_4</td>\n",
       "      <td>2018-12-05</td>\n",
       "      <td>1000</td>\n",
       "    </tr>\n",
       "    <tr>\n",
       "      <th>5</th>\n",
       "      <td>1000_5</td>\n",
       "      <td>2018-06-20</td>\n",
       "      <td>1000</td>\n",
       "    </tr>\n",
       "    <tr>\n",
       "      <th>6</th>\n",
       "      <td>1000_6</td>\n",
       "      <td>2018-11-19</td>\n",
       "      <td>1000</td>\n",
       "    </tr>\n",
       "    <tr>\n",
       "      <th>7</th>\n",
       "      <td>1000_7</td>\n",
       "      <td>2018-10-29</td>\n",
       "      <td>1000</td>\n",
       "    </tr>\n",
       "    <tr>\n",
       "      <th>8</th>\n",
       "      <td>1000_8</td>\n",
       "      <td>2018-06-25</td>\n",
       "      <td>1000</td>\n",
       "    </tr>\n",
       "    <tr>\n",
       "      <th>9</th>\n",
       "      <td>1000_9</td>\n",
       "      <td>2018-12-18</td>\n",
       "      <td>1000</td>\n",
       "    </tr>\n",
       "  </tbody>\n",
       "</table>\n",
       "</div>"
      ],
      "text/plain": [
       "       id message_date  user_id\n",
       "0  1000_0   2018-06-27     1000\n",
       "1  1000_1   2018-10-08     1000\n",
       "2  1000_2   2018-08-04     1000\n",
       "3  1000_3   2018-06-16     1000\n",
       "4  1000_4   2018-12-05     1000\n",
       "5  1000_5   2018-06-20     1000\n",
       "6  1000_6   2018-11-19     1000\n",
       "7  1000_7   2018-10-29     1000\n",
       "8  1000_8   2018-06-25     1000\n",
       "9  1000_9   2018-12-18     1000"
      ]
     },
     "metadata": {},
     "output_type": "display_data"
    },
    {
     "name": "stdout",
     "output_type": "stream",
     "text": [
      "<class 'pandas.core.frame.DataFrame'>\n",
      "RangeIndex: 123036 entries, 0 to 123035\n",
      "Data columns (total 3 columns):\n",
      " #   Column        Non-Null Count   Dtype \n",
      "---  ------        --------------   ----- \n",
      " 0   id            123036 non-null  object\n",
      " 1   message_date  123036 non-null  object\n",
      " 2   user_id       123036 non-null  int64 \n",
      "dtypes: int64(1), object(2)\n",
      "memory usage: 2.8+ MB\n",
      "None\n",
      "\n",
      "Статистическая информация о данных\n"
     ]
    },
    {
     "data": {
      "text/html": [
       "<div>\n",
       "<style scoped>\n",
       "    .dataframe tbody tr th:only-of-type {\n",
       "        vertical-align: middle;\n",
       "    }\n",
       "\n",
       "    .dataframe tbody tr th {\n",
       "        vertical-align: top;\n",
       "    }\n",
       "\n",
       "    .dataframe thead th {\n",
       "        text-align: right;\n",
       "    }\n",
       "</style>\n",
       "<table border=\"1\" class=\"dataframe\">\n",
       "  <thead>\n",
       "    <tr style=\"text-align: right;\">\n",
       "      <th></th>\n",
       "      <th>user_id</th>\n",
       "    </tr>\n",
       "  </thead>\n",
       "  <tbody>\n",
       "    <tr>\n",
       "      <th>count</th>\n",
       "      <td>123036.000000</td>\n",
       "    </tr>\n",
       "    <tr>\n",
       "      <th>mean</th>\n",
       "      <td>1256.989410</td>\n",
       "    </tr>\n",
       "    <tr>\n",
       "      <th>std</th>\n",
       "      <td>143.523967</td>\n",
       "    </tr>\n",
       "    <tr>\n",
       "      <th>min</th>\n",
       "      <td>1000.000000</td>\n",
       "    </tr>\n",
       "    <tr>\n",
       "      <th>25%</th>\n",
       "      <td>1134.000000</td>\n",
       "    </tr>\n",
       "    <tr>\n",
       "      <th>50%</th>\n",
       "      <td>1271.000000</td>\n",
       "    </tr>\n",
       "    <tr>\n",
       "      <th>75%</th>\n",
       "      <td>1381.000000</td>\n",
       "    </tr>\n",
       "    <tr>\n",
       "      <th>max</th>\n",
       "      <td>1499.000000</td>\n",
       "    </tr>\n",
       "  </tbody>\n",
       "</table>\n",
       "</div>"
      ],
      "text/plain": [
       "             user_id\n",
       "count  123036.000000\n",
       "mean     1256.989410\n",
       "std       143.523967\n",
       "min      1000.000000\n",
       "25%      1134.000000\n",
       "50%      1271.000000\n",
       "75%      1381.000000\n",
       "max      1499.000000"
      ]
     },
     "metadata": {},
     "output_type": "display_data"
    },
    {
     "name": "stdout",
     "output_type": "stream",
     "text": [
      "\n",
      "Количество явных дубликатов в данных: 0\n",
      "\n",
      "Количество пропусков в данных\n"
     ]
    },
    {
     "data": {
      "text/plain": [
       "id              0\n",
       "message_date    0\n",
       "user_id         0\n",
       "dtype: int64"
      ]
     },
     "metadata": {},
     "output_type": "display_data"
    }
   ],
   "source": [
    "# данные по сообщениям\n",
    "messages = pd.read_csv('/Users/danilvlasenko/Desktop/projects_datasets/messages.csv')\n",
    "\n",
    "# общая информация о сообщениях\n",
    "data_main_info(messages)"
   ]
  },
  {
   "cell_type": "markdown",
   "metadata": {},
   "source": [
    "В данных по сообщениям имеем 3 столбца:\n",
    "- `id` — уникальный номер сообщения\n",
    "- `message_date` — дата сообщения\n",
    "- `user_id` — идентификатор пользователя, отправившего сообщение\n",
    "\n",
    "Пропущенные значения и явные дубликаты отсутствуют.\n",
    "\n",
    "В столбце `message_date` указан тип данных *object*. Для корректного использования дат по месяцам и годам стоит привести значения в тип *datetime*.\n",
    "\n",
    "В столбце `id` указан тип данных *odject*. Это уникальный сообщения, который не должен быть *object*, имеет смысл изменить тип данных на *int*."
   ]
  },
  {
   "cell_type": "code",
   "execution_count": 8,
   "metadata": {},
   "outputs": [
    {
     "name": "stdout",
     "output_type": "stream",
     "text": [
      "Шапка и общая информация о данных\n"
     ]
    },
    {
     "data": {
      "text/html": [
       "<div>\n",
       "<style scoped>\n",
       "    .dataframe tbody tr th:only-of-type {\n",
       "        vertical-align: middle;\n",
       "    }\n",
       "\n",
       "    .dataframe tbody tr th {\n",
       "        vertical-align: top;\n",
       "    }\n",
       "\n",
       "    .dataframe thead th {\n",
       "        text-align: right;\n",
       "    }\n",
       "</style>\n",
       "<table border=\"1\" class=\"dataframe\">\n",
       "  <thead>\n",
       "    <tr style=\"text-align: right;\">\n",
       "      <th></th>\n",
       "      <th>messages_included</th>\n",
       "      <th>mb_per_month_included</th>\n",
       "      <th>minutes_included</th>\n",
       "      <th>rub_monthly_fee</th>\n",
       "      <th>rub_per_gb</th>\n",
       "      <th>rub_per_message</th>\n",
       "      <th>rub_per_minute</th>\n",
       "      <th>tariff_name</th>\n",
       "    </tr>\n",
       "  </thead>\n",
       "  <tbody>\n",
       "    <tr>\n",
       "      <th>0</th>\n",
       "      <td>50</td>\n",
       "      <td>15360</td>\n",
       "      <td>500</td>\n",
       "      <td>550</td>\n",
       "      <td>200</td>\n",
       "      <td>3</td>\n",
       "      <td>3</td>\n",
       "      <td>smart</td>\n",
       "    </tr>\n",
       "    <tr>\n",
       "      <th>1</th>\n",
       "      <td>1000</td>\n",
       "      <td>30720</td>\n",
       "      <td>3000</td>\n",
       "      <td>1950</td>\n",
       "      <td>150</td>\n",
       "      <td>1</td>\n",
       "      <td>1</td>\n",
       "      <td>ultra</td>\n",
       "    </tr>\n",
       "  </tbody>\n",
       "</table>\n",
       "</div>"
      ],
      "text/plain": [
       "   messages_included  mb_per_month_included  minutes_included  \\\n",
       "0                 50                  15360               500   \n",
       "1               1000                  30720              3000   \n",
       "\n",
       "   rub_monthly_fee  rub_per_gb  rub_per_message  rub_per_minute tariff_name  \n",
       "0              550         200                3               3       smart  \n",
       "1             1950         150                1               1       ultra  "
      ]
     },
     "metadata": {},
     "output_type": "display_data"
    },
    {
     "name": "stdout",
     "output_type": "stream",
     "text": [
      "<class 'pandas.core.frame.DataFrame'>\n",
      "RangeIndex: 2 entries, 0 to 1\n",
      "Data columns (total 8 columns):\n",
      " #   Column                 Non-Null Count  Dtype \n",
      "---  ------                 --------------  ----- \n",
      " 0   messages_included      2 non-null      int64 \n",
      " 1   mb_per_month_included  2 non-null      int64 \n",
      " 2   minutes_included       2 non-null      int64 \n",
      " 3   rub_monthly_fee        2 non-null      int64 \n",
      " 4   rub_per_gb             2 non-null      int64 \n",
      " 5   rub_per_message        2 non-null      int64 \n",
      " 6   rub_per_minute         2 non-null      int64 \n",
      " 7   tariff_name            2 non-null      object\n",
      "dtypes: int64(7), object(1)\n",
      "memory usage: 256.0+ bytes\n",
      "None\n",
      "\n",
      "Статистическая информация о данных\n"
     ]
    },
    {
     "data": {
      "text/html": [
       "<div>\n",
       "<style scoped>\n",
       "    .dataframe tbody tr th:only-of-type {\n",
       "        vertical-align: middle;\n",
       "    }\n",
       "\n",
       "    .dataframe tbody tr th {\n",
       "        vertical-align: top;\n",
       "    }\n",
       "\n",
       "    .dataframe thead th {\n",
       "        text-align: right;\n",
       "    }\n",
       "</style>\n",
       "<table border=\"1\" class=\"dataframe\">\n",
       "  <thead>\n",
       "    <tr style=\"text-align: right;\">\n",
       "      <th></th>\n",
       "      <th>messages_included</th>\n",
       "      <th>mb_per_month_included</th>\n",
       "      <th>minutes_included</th>\n",
       "      <th>rub_monthly_fee</th>\n",
       "      <th>rub_per_gb</th>\n",
       "      <th>rub_per_message</th>\n",
       "      <th>rub_per_minute</th>\n",
       "    </tr>\n",
       "  </thead>\n",
       "  <tbody>\n",
       "    <tr>\n",
       "      <th>count</th>\n",
       "      <td>2.000000</td>\n",
       "      <td>2.000000</td>\n",
       "      <td>2.000000</td>\n",
       "      <td>2.000000</td>\n",
       "      <td>2.000000</td>\n",
       "      <td>2.000000</td>\n",
       "      <td>2.000000</td>\n",
       "    </tr>\n",
       "    <tr>\n",
       "      <th>mean</th>\n",
       "      <td>525.000000</td>\n",
       "      <td>23040.000000</td>\n",
       "      <td>1750.000000</td>\n",
       "      <td>1250.000000</td>\n",
       "      <td>175.000000</td>\n",
       "      <td>2.000000</td>\n",
       "      <td>2.000000</td>\n",
       "    </tr>\n",
       "    <tr>\n",
       "      <th>std</th>\n",
       "      <td>671.751442</td>\n",
       "      <td>10861.160159</td>\n",
       "      <td>1767.766953</td>\n",
       "      <td>989.949494</td>\n",
       "      <td>35.355339</td>\n",
       "      <td>1.414214</td>\n",
       "      <td>1.414214</td>\n",
       "    </tr>\n",
       "    <tr>\n",
       "      <th>min</th>\n",
       "      <td>50.000000</td>\n",
       "      <td>15360.000000</td>\n",
       "      <td>500.000000</td>\n",
       "      <td>550.000000</td>\n",
       "      <td>150.000000</td>\n",
       "      <td>1.000000</td>\n",
       "      <td>1.000000</td>\n",
       "    </tr>\n",
       "    <tr>\n",
       "      <th>25%</th>\n",
       "      <td>287.500000</td>\n",
       "      <td>19200.000000</td>\n",
       "      <td>1125.000000</td>\n",
       "      <td>900.000000</td>\n",
       "      <td>162.500000</td>\n",
       "      <td>1.500000</td>\n",
       "      <td>1.500000</td>\n",
       "    </tr>\n",
       "    <tr>\n",
       "      <th>50%</th>\n",
       "      <td>525.000000</td>\n",
       "      <td>23040.000000</td>\n",
       "      <td>1750.000000</td>\n",
       "      <td>1250.000000</td>\n",
       "      <td>175.000000</td>\n",
       "      <td>2.000000</td>\n",
       "      <td>2.000000</td>\n",
       "    </tr>\n",
       "    <tr>\n",
       "      <th>75%</th>\n",
       "      <td>762.500000</td>\n",
       "      <td>26880.000000</td>\n",
       "      <td>2375.000000</td>\n",
       "      <td>1600.000000</td>\n",
       "      <td>187.500000</td>\n",
       "      <td>2.500000</td>\n",
       "      <td>2.500000</td>\n",
       "    </tr>\n",
       "    <tr>\n",
       "      <th>max</th>\n",
       "      <td>1000.000000</td>\n",
       "      <td>30720.000000</td>\n",
       "      <td>3000.000000</td>\n",
       "      <td>1950.000000</td>\n",
       "      <td>200.000000</td>\n",
       "      <td>3.000000</td>\n",
       "      <td>3.000000</td>\n",
       "    </tr>\n",
       "  </tbody>\n",
       "</table>\n",
       "</div>"
      ],
      "text/plain": [
       "       messages_included  mb_per_month_included  minutes_included  \\\n",
       "count           2.000000               2.000000          2.000000   \n",
       "mean          525.000000           23040.000000       1750.000000   \n",
       "std           671.751442           10861.160159       1767.766953   \n",
       "min            50.000000           15360.000000        500.000000   \n",
       "25%           287.500000           19200.000000       1125.000000   \n",
       "50%           525.000000           23040.000000       1750.000000   \n",
       "75%           762.500000           26880.000000       2375.000000   \n",
       "max          1000.000000           30720.000000       3000.000000   \n",
       "\n",
       "       rub_monthly_fee  rub_per_gb  rub_per_message  rub_per_minute  \n",
       "count         2.000000    2.000000         2.000000        2.000000  \n",
       "mean       1250.000000  175.000000         2.000000        2.000000  \n",
       "std         989.949494   35.355339         1.414214        1.414214  \n",
       "min         550.000000  150.000000         1.000000        1.000000  \n",
       "25%         900.000000  162.500000         1.500000        1.500000  \n",
       "50%        1250.000000  175.000000         2.000000        2.000000  \n",
       "75%        1600.000000  187.500000         2.500000        2.500000  \n",
       "max        1950.000000  200.000000         3.000000        3.000000  "
      ]
     },
     "metadata": {},
     "output_type": "display_data"
    },
    {
     "name": "stdout",
     "output_type": "stream",
     "text": [
      "\n",
      "Количество явных дубликатов в данных: 0\n",
      "\n",
      "Количество пропусков в данных\n"
     ]
    },
    {
     "data": {
      "text/plain": [
       "messages_included        0\n",
       "mb_per_month_included    0\n",
       "minutes_included         0\n",
       "rub_monthly_fee          0\n",
       "rub_per_gb               0\n",
       "rub_per_message          0\n",
       "rub_per_minute           0\n",
       "tariff_name              0\n",
       "dtype: int64"
      ]
     },
     "metadata": {},
     "output_type": "display_data"
    }
   ],
   "source": [
    "# данные по тарифам\n",
    "tariffs = pd.read_csv('/Users/danilvlasenko/Desktop/projects_datasets/tariffs.csv')\n",
    "\n",
    "# общая информация о тарифах\n",
    "data_main_info(tariffs)"
   ]
  },
  {
   "cell_type": "markdown",
   "metadata": {},
   "source": [
    "В данных по 2-м тарифам имеем 8 столбцов:\n",
    "- `tariff_name` — название тарифа\n",
    "- `rub_monthly_fee` — ежемесячная абонентская плата в рублях\n",
    "- `minutes_included` — количество минут разговора в месяц, включённых в абонентскую плату\n",
    "- `messages_included` — количество сообщений в месяц, включённых в абонентскую плату\n",
    "- `mb_per_month_included` — объём интернет-трафика, включённого в абонентскую плату (в мегабайтах)\n",
    "- `rub_per_minute` — стоимость минуты разговора сверх тарифного пакета (например, если в тарифе 100 минут разговора в месяц, то со 101 минуты будет взиматься плата)\n",
    "- `rub_per_message` — стоимость отправки сообщения сверх тарифного пакета\n",
    "- `rub_per_gb` — стоимость дополнительного гигабайта интернет-трафика сверх тарифного пакета (1 гигабайт = 1024 мегабайта)\n",
    "\n",
    "Типы данных указаны корректно. Возможно, по этому датасету в будущем можно будет рассчитать полные суммы, потраченные на тариф каждым пользователем."
   ]
  },
  {
   "cell_type": "code",
   "execution_count": 9,
   "metadata": {},
   "outputs": [
    {
     "name": "stdout",
     "output_type": "stream",
     "text": [
      "Шапка и общая информация о данных\n"
     ]
    },
    {
     "data": {
      "text/html": [
       "<div>\n",
       "<style scoped>\n",
       "    .dataframe tbody tr th:only-of-type {\n",
       "        vertical-align: middle;\n",
       "    }\n",
       "\n",
       "    .dataframe tbody tr th {\n",
       "        vertical-align: top;\n",
       "    }\n",
       "\n",
       "    .dataframe thead th {\n",
       "        text-align: right;\n",
       "    }\n",
       "</style>\n",
       "<table border=\"1\" class=\"dataframe\">\n",
       "  <thead>\n",
       "    <tr style=\"text-align: right;\">\n",
       "      <th></th>\n",
       "      <th>user_id</th>\n",
       "      <th>age</th>\n",
       "      <th>churn_date</th>\n",
       "      <th>city</th>\n",
       "      <th>first_name</th>\n",
       "      <th>last_name</th>\n",
       "      <th>reg_date</th>\n",
       "      <th>tariff</th>\n",
       "    </tr>\n",
       "  </thead>\n",
       "  <tbody>\n",
       "    <tr>\n",
       "      <th>0</th>\n",
       "      <td>1000</td>\n",
       "      <td>52</td>\n",
       "      <td>NaN</td>\n",
       "      <td>Краснодар</td>\n",
       "      <td>Рафаил</td>\n",
       "      <td>Верещагин</td>\n",
       "      <td>2018-05-25</td>\n",
       "      <td>ultra</td>\n",
       "    </tr>\n",
       "    <tr>\n",
       "      <th>1</th>\n",
       "      <td>1001</td>\n",
       "      <td>41</td>\n",
       "      <td>NaN</td>\n",
       "      <td>Москва</td>\n",
       "      <td>Иван</td>\n",
       "      <td>Ежов</td>\n",
       "      <td>2018-11-01</td>\n",
       "      <td>smart</td>\n",
       "    </tr>\n",
       "    <tr>\n",
       "      <th>2</th>\n",
       "      <td>1002</td>\n",
       "      <td>59</td>\n",
       "      <td>NaN</td>\n",
       "      <td>Стерлитамак</td>\n",
       "      <td>Евгений</td>\n",
       "      <td>Абрамович</td>\n",
       "      <td>2018-06-17</td>\n",
       "      <td>smart</td>\n",
       "    </tr>\n",
       "    <tr>\n",
       "      <th>3</th>\n",
       "      <td>1003</td>\n",
       "      <td>23</td>\n",
       "      <td>NaN</td>\n",
       "      <td>Москва</td>\n",
       "      <td>Белла</td>\n",
       "      <td>Белякова</td>\n",
       "      <td>2018-08-17</td>\n",
       "      <td>ultra</td>\n",
       "    </tr>\n",
       "    <tr>\n",
       "      <th>4</th>\n",
       "      <td>1004</td>\n",
       "      <td>68</td>\n",
       "      <td>NaN</td>\n",
       "      <td>Новокузнецк</td>\n",
       "      <td>Татьяна</td>\n",
       "      <td>Авдеенко</td>\n",
       "      <td>2018-05-14</td>\n",
       "      <td>ultra</td>\n",
       "    </tr>\n",
       "    <tr>\n",
       "      <th>5</th>\n",
       "      <td>1005</td>\n",
       "      <td>67</td>\n",
       "      <td>NaN</td>\n",
       "      <td>Набережные Челны</td>\n",
       "      <td>Афанасий</td>\n",
       "      <td>Горлов</td>\n",
       "      <td>2018-01-25</td>\n",
       "      <td>smart</td>\n",
       "    </tr>\n",
       "    <tr>\n",
       "      <th>6</th>\n",
       "      <td>1006</td>\n",
       "      <td>21</td>\n",
       "      <td>NaN</td>\n",
       "      <td>Ульяновск</td>\n",
       "      <td>Леонид</td>\n",
       "      <td>Ермолаев</td>\n",
       "      <td>2018-02-26</td>\n",
       "      <td>smart</td>\n",
       "    </tr>\n",
       "    <tr>\n",
       "      <th>7</th>\n",
       "      <td>1007</td>\n",
       "      <td>65</td>\n",
       "      <td>NaN</td>\n",
       "      <td>Москва</td>\n",
       "      <td>Юна</td>\n",
       "      <td>Березина</td>\n",
       "      <td>2018-04-19</td>\n",
       "      <td>smart</td>\n",
       "    </tr>\n",
       "    <tr>\n",
       "      <th>8</th>\n",
       "      <td>1008</td>\n",
       "      <td>63</td>\n",
       "      <td>NaN</td>\n",
       "      <td>Челябинск</td>\n",
       "      <td>Рустэм</td>\n",
       "      <td>Пономарёв</td>\n",
       "      <td>2018-12-19</td>\n",
       "      <td>smart</td>\n",
       "    </tr>\n",
       "    <tr>\n",
       "      <th>9</th>\n",
       "      <td>1009</td>\n",
       "      <td>24</td>\n",
       "      <td>NaN</td>\n",
       "      <td>Пермь</td>\n",
       "      <td>Василиса</td>\n",
       "      <td>Блинова</td>\n",
       "      <td>2018-03-22</td>\n",
       "      <td>smart</td>\n",
       "    </tr>\n",
       "  </tbody>\n",
       "</table>\n",
       "</div>"
      ],
      "text/plain": [
       "   user_id  age churn_date              city first_name  last_name  \\\n",
       "0     1000   52        NaN         Краснодар     Рафаил  Верещагин   \n",
       "1     1001   41        NaN            Москва       Иван       Ежов   \n",
       "2     1002   59        NaN       Стерлитамак    Евгений  Абрамович   \n",
       "3     1003   23        NaN            Москва      Белла   Белякова   \n",
       "4     1004   68        NaN       Новокузнецк    Татьяна   Авдеенко   \n",
       "5     1005   67        NaN  Набережные Челны   Афанасий     Горлов   \n",
       "6     1006   21        NaN         Ульяновск     Леонид   Ермолаев   \n",
       "7     1007   65        NaN            Москва        Юна   Березина   \n",
       "8     1008   63        NaN         Челябинск     Рустэм  Пономарёв   \n",
       "9     1009   24        NaN             Пермь   Василиса    Блинова   \n",
       "\n",
       "     reg_date tariff  \n",
       "0  2018-05-25  ultra  \n",
       "1  2018-11-01  smart  \n",
       "2  2018-06-17  smart  \n",
       "3  2018-08-17  ultra  \n",
       "4  2018-05-14  ultra  \n",
       "5  2018-01-25  smart  \n",
       "6  2018-02-26  smart  \n",
       "7  2018-04-19  smart  \n",
       "8  2018-12-19  smart  \n",
       "9  2018-03-22  smart  "
      ]
     },
     "metadata": {},
     "output_type": "display_data"
    },
    {
     "name": "stdout",
     "output_type": "stream",
     "text": [
      "<class 'pandas.core.frame.DataFrame'>\n",
      "RangeIndex: 500 entries, 0 to 499\n",
      "Data columns (total 8 columns):\n",
      " #   Column      Non-Null Count  Dtype \n",
      "---  ------      --------------  ----- \n",
      " 0   user_id     500 non-null    int64 \n",
      " 1   age         500 non-null    int64 \n",
      " 2   churn_date  38 non-null     object\n",
      " 3   city        500 non-null    object\n",
      " 4   first_name  500 non-null    object\n",
      " 5   last_name   500 non-null    object\n",
      " 6   reg_date    500 non-null    object\n",
      " 7   tariff      500 non-null    object\n",
      "dtypes: int64(2), object(6)\n",
      "memory usage: 31.4+ KB\n",
      "None\n",
      "\n",
      "Статистическая информация о данных\n"
     ]
    },
    {
     "data": {
      "text/html": [
       "<div>\n",
       "<style scoped>\n",
       "    .dataframe tbody tr th:only-of-type {\n",
       "        vertical-align: middle;\n",
       "    }\n",
       "\n",
       "    .dataframe tbody tr th {\n",
       "        vertical-align: top;\n",
       "    }\n",
       "\n",
       "    .dataframe thead th {\n",
       "        text-align: right;\n",
       "    }\n",
       "</style>\n",
       "<table border=\"1\" class=\"dataframe\">\n",
       "  <thead>\n",
       "    <tr style=\"text-align: right;\">\n",
       "      <th></th>\n",
       "      <th>user_id</th>\n",
       "      <th>age</th>\n",
       "    </tr>\n",
       "  </thead>\n",
       "  <tbody>\n",
       "    <tr>\n",
       "      <th>count</th>\n",
       "      <td>500.000000</td>\n",
       "      <td>500.00000</td>\n",
       "    </tr>\n",
       "    <tr>\n",
       "      <th>mean</th>\n",
       "      <td>1249.500000</td>\n",
       "      <td>46.58800</td>\n",
       "    </tr>\n",
       "    <tr>\n",
       "      <th>std</th>\n",
       "      <td>144.481833</td>\n",
       "      <td>16.66763</td>\n",
       "    </tr>\n",
       "    <tr>\n",
       "      <th>min</th>\n",
       "      <td>1000.000000</td>\n",
       "      <td>18.00000</td>\n",
       "    </tr>\n",
       "    <tr>\n",
       "      <th>25%</th>\n",
       "      <td>1124.750000</td>\n",
       "      <td>32.00000</td>\n",
       "    </tr>\n",
       "    <tr>\n",
       "      <th>50%</th>\n",
       "      <td>1249.500000</td>\n",
       "      <td>46.00000</td>\n",
       "    </tr>\n",
       "    <tr>\n",
       "      <th>75%</th>\n",
       "      <td>1374.250000</td>\n",
       "      <td>62.00000</td>\n",
       "    </tr>\n",
       "    <tr>\n",
       "      <th>max</th>\n",
       "      <td>1499.000000</td>\n",
       "      <td>75.00000</td>\n",
       "    </tr>\n",
       "  </tbody>\n",
       "</table>\n",
       "</div>"
      ],
      "text/plain": [
       "           user_id        age\n",
       "count   500.000000  500.00000\n",
       "mean   1249.500000   46.58800\n",
       "std     144.481833   16.66763\n",
       "min    1000.000000   18.00000\n",
       "25%    1124.750000   32.00000\n",
       "50%    1249.500000   46.00000\n",
       "75%    1374.250000   62.00000\n",
       "max    1499.000000   75.00000"
      ]
     },
     "metadata": {},
     "output_type": "display_data"
    },
    {
     "name": "stdout",
     "output_type": "stream",
     "text": [
      "\n",
      "Количество явных дубликатов в данных: 0\n",
      "\n",
      "Количество пропусков в данных\n"
     ]
    },
    {
     "data": {
      "text/plain": [
       "churn_date    462\n",
       "user_id         0\n",
       "age             0\n",
       "city            0\n",
       "first_name      0\n",
       "last_name       0\n",
       "reg_date        0\n",
       "tariff          0\n",
       "dtype: int64"
      ]
     },
     "metadata": {},
     "output_type": "display_data"
    }
   ],
   "source": [
    "# данные по пользователям\n",
    "users = pd.read_csv('/Users/danilvlasenko/Desktop/projects_datasets/users.csv')\n",
    "\n",
    "# общая информация о пользователях\n",
    "data_main_info(users)"
   ]
  },
  {
   "cell_type": "markdown",
   "metadata": {},
   "source": [
    "В данных по пользователям имеем 8 столбцов:\n",
    "- `user_id` — уникальный идентификатор пользователя\n",
    "- `first_name` — имя пользователя\n",
    "- `last_name` — фамилия пользователя\n",
    "- `age` — возраст пользователя (годы)\n",
    "- `reg_date` — дата подключения тарифа (день, месяц, год)\n",
    "- `churn_date` — дата прекращения пользования тарифом (если значение пропущено, то тариф ещё действовал на момент выгрузки данных)\n",
    "- `city` — город проживания пользователя\n",
    "- `tariff` — название тарифного плана\n",
    "\n",
    "\n",
    "В столбце `churn_date` (дата прекращения пользования тарифом) заполнено всего 38 значений. Заполнять пропуски не стоит.\n",
    "\n",
    "**Из 500 пользователей активных 468**.\n",
    "\n",
    "Явные дубликаты отсутствуют.\n",
    "\n",
    "В столбцах `churn_date` и `reg_date` указан тип данных *object*. Для корректного использования дат по месяцам и годам стоит привести значения в тип *datetime*"
   ]
  },
  {
   "cell_type": "markdown",
   "metadata": {},
   "source": [
    "**Выводы:**\n",
    "\n",
    "Представлено 5 датасетов, предварительное изучение дало следующие факты:\n",
    "- 1) Из 500 пользователей в базе активными являются 468\n",
    "- 2) В столбцах с датами указан тип данных *object*, при этом даты отображатся корректно - стоит изменить на *datetime* для дальнейшей работы\n",
    "- 3) В столбцах user_id в данных по звонкам, интернет-сессиям и сообщениям указан не совсем верный тип данных *object*. Приведем тип к *int*\n",
    "\n",
    "Для дальнейшего анализа датасеты стоит соединить между собой. Предварительно, очень напрашивается датасет с общим количеством минут, Мб трафика и сообщений по каждому пользователю с указанием тарифов. Это даст возможность рассчитать общую выручку по каждому тарифу."
   ]
  },
  {
   "cell_type": "markdown",
   "metadata": {},
   "source": [
    "### Предобработка данных"
   ]
  },
  {
   "cell_type": "markdown",
   "metadata": {},
   "source": [
    "В этом разделе изменим типы данных в некоторых датасетах, заполнение пропусков не требуется.\n",
    "\n",
    "Также необходимо учесть жадную политику компании и округлить минуты и Мб до Гб в большую сторону."
   ]
  },
  {
   "cell_type": "code",
   "execution_count": 10,
   "metadata": {},
   "outputs": [
    {
     "name": "stdout",
     "output_type": "stream",
     "text": [
      "<class 'pandas.core.frame.DataFrame'>\n",
      "RangeIndex: 202607 entries, 0 to 202606\n",
      "Data columns (total 4 columns):\n",
      " #   Column     Non-Null Count   Dtype         \n",
      "---  ------     --------------   -----         \n",
      " 0   id         202607 non-null  int64         \n",
      " 1   call_date  202607 non-null  datetime64[ns]\n",
      " 2   duration   202607 non-null  float64       \n",
      " 3   user_id    202607 non-null  int64         \n",
      "dtypes: datetime64[ns](1), float64(1), int64(2)\n",
      "memory usage: 6.2 MB\n"
     ]
    }
   ],
   "source": [
    "# изменение типов данных в calls\n",
    "calls['call_date'] = pd.to_datetime(calls['call_date'], format='%Y-%m-%d')\n",
    "calls['id'] = calls['id'].astype('int')\n",
    "calls.info()"
   ]
  },
  {
   "cell_type": "code",
   "execution_count": 11,
   "metadata": {},
   "outputs": [
    {
     "name": "stdout",
     "output_type": "stream",
     "text": [
      "<class 'pandas.core.frame.DataFrame'>\n",
      "RangeIndex: 149396 entries, 0 to 149395\n",
      "Data columns (total 4 columns):\n",
      " #   Column        Non-Null Count   Dtype         \n",
      "---  ------        --------------   -----         \n",
      " 0   id            149396 non-null  int64         \n",
      " 1   mb_used       149396 non-null  float64       \n",
      " 2   session_date  149396 non-null  datetime64[ns]\n",
      " 3   user_id       149396 non-null  int64         \n",
      "dtypes: datetime64[ns](1), float64(1), int64(2)\n",
      "memory usage: 4.6 MB\n"
     ]
    }
   ],
   "source": [
    "# изменение типов данных в internet\n",
    "internet['session_date'] = pd.to_datetime(internet['session_date'], format='%Y-%m-%d')\n",
    "internet['id'] = internet['id'].astype('int')\n",
    "internet.info()"
   ]
  },
  {
   "cell_type": "code",
   "execution_count": 12,
   "metadata": {},
   "outputs": [
    {
     "name": "stdout",
     "output_type": "stream",
     "text": [
      "<class 'pandas.core.frame.DataFrame'>\n",
      "RangeIndex: 123036 entries, 0 to 123035\n",
      "Data columns (total 3 columns):\n",
      " #   Column        Non-Null Count   Dtype         \n",
      "---  ------        --------------   -----         \n",
      " 0   id            123036 non-null  int64         \n",
      " 1   message_date  123036 non-null  datetime64[ns]\n",
      " 2   user_id       123036 non-null  int64         \n",
      "dtypes: datetime64[ns](1), int64(2)\n",
      "memory usage: 2.8 MB\n"
     ]
    }
   ],
   "source": [
    "# изменение типов данных в messages\n",
    "messages['message_date'] = pd.to_datetime(messages['message_date'], format='%Y-%m-%d')\n",
    "messages['id'] = messages['id'].astype('int')\n",
    "messages.info()"
   ]
  },
  {
   "cell_type": "code",
   "execution_count": 13,
   "metadata": {},
   "outputs": [
    {
     "name": "stdout",
     "output_type": "stream",
     "text": [
      "<class 'pandas.core.frame.DataFrame'>\n",
      "RangeIndex: 500 entries, 0 to 499\n",
      "Data columns (total 8 columns):\n",
      " #   Column      Non-Null Count  Dtype         \n",
      "---  ------      --------------  -----         \n",
      " 0   user_id     500 non-null    int64         \n",
      " 1   age         500 non-null    int64         \n",
      " 2   churn_date  38 non-null     datetime64[ns]\n",
      " 3   city        500 non-null    object        \n",
      " 4   first_name  500 non-null    object        \n",
      " 5   last_name   500 non-null    object        \n",
      " 6   reg_date    500 non-null    datetime64[ns]\n",
      " 7   tariff      500 non-null    object        \n",
      "dtypes: datetime64[ns](2), int64(2), object(4)\n",
      "memory usage: 31.4+ KB\n"
     ]
    }
   ],
   "source": [
    "# изменение типов данных в users\n",
    "users['reg_date'] = pd.to_datetime(users['reg_date'], format='%Y-%m-%d')\n",
    "users['churn_date'] = pd.to_datetime(users['churn_date'], format='%Y-%m-%d')\n",
    "users.info()"
   ]
  },
  {
   "cell_type": "markdown",
   "metadata": {},
   "source": [
    "В случае минут, округляем значения в `calls` простым способом. В случае трафика, поделим значения в Мб на 1024 - получим Гб, затем их округлим в большую сторону."
   ]
  },
  {
   "cell_type": "code",
   "execution_count": 14,
   "metadata": {},
   "outputs": [],
   "source": [
    "# округление значений по длительности звонков\n",
    "calls['duration'] = calls['duration'].apply(np.ceil)"
   ]
  },
  {
   "cell_type": "code",
   "execution_count": 15,
   "metadata": {},
   "outputs": [],
   "source": [
    "# получение Гб из Мб и округление в большую сторону\n",
    "internet['mb_used'] = (internet['mb_used'] / 1024).apply(np.ceil)\n",
    "\n",
    "# переименование столбца\n",
    "internet = internet.rename(columns={'mb_used':'gb_used'})"
   ]
  },
  {
   "cell_type": "markdown",
   "metadata": {},
   "source": [
    "**Вывод:** типы данных изменены, датасеты подготовлены для расчетов и анализа."
   ]
  },
  {
   "cell_type": "markdown",
   "metadata": {},
   "source": [
    "### Подготовка данных"
   ]
  },
  {
   "cell_type": "markdown",
   "metadata": {},
   "source": [
    "В этом разделе рассчитаем параметры для каждого пользователеля по месяцам:\n",
    "- 1) Количество сделанных звонков и израсходованных минут разговора;\n",
    "- 2) Количество отправленных сообщений;\n",
    "- 3) Объем израсходованного интернет-трафика по месяцам;\n",
    "- 4) Выручку с каждого пользователя (вычтите бесплатный лимит из суммарного количества звонков, сообщений и интернет-трафика; остаток умножьте на значение из тарифного плана; прибавьте абонентскую плату, соответствующую тарифному плану).\n",
    "\n",
    "Добавим в каждый датасет (`calls`, `internet`, `messages`) новые столбцы с месяцами."
   ]
  },
  {
   "cell_type": "code",
   "execution_count": 16,
   "metadata": {},
   "outputs": [],
   "source": [
    "# чуть-чуть автоматизируем\n",
    "def month_apply(data, date_column):\n",
    "    data['month'] = pd.DatetimeIndex(data[date_column]).month\n",
    "    \n",
    "    return data"
   ]
  },
  {
   "cell_type": "code",
   "execution_count": 17,
   "metadata": {},
   "outputs": [
    {
     "data": {
      "text/html": [
       "<div>\n",
       "<style scoped>\n",
       "    .dataframe tbody tr th:only-of-type {\n",
       "        vertical-align: middle;\n",
       "    }\n",
       "\n",
       "    .dataframe tbody tr th {\n",
       "        vertical-align: top;\n",
       "    }\n",
       "\n",
       "    .dataframe thead th {\n",
       "        text-align: right;\n",
       "    }\n",
       "</style>\n",
       "<table border=\"1\" class=\"dataframe\">\n",
       "  <thead>\n",
       "    <tr style=\"text-align: right;\">\n",
       "      <th></th>\n",
       "      <th>id</th>\n",
       "      <th>call_date</th>\n",
       "      <th>duration</th>\n",
       "      <th>user_id</th>\n",
       "      <th>month</th>\n",
       "    </tr>\n",
       "  </thead>\n",
       "  <tbody>\n",
       "    <tr>\n",
       "      <th>0</th>\n",
       "      <td>10000</td>\n",
       "      <td>2018-07-25</td>\n",
       "      <td>0.0</td>\n",
       "      <td>1000</td>\n",
       "      <td>7</td>\n",
       "    </tr>\n",
       "    <tr>\n",
       "      <th>1</th>\n",
       "      <td>10001</td>\n",
       "      <td>2018-08-17</td>\n",
       "      <td>0.0</td>\n",
       "      <td>1000</td>\n",
       "      <td>8</td>\n",
       "    </tr>\n",
       "    <tr>\n",
       "      <th>2</th>\n",
       "      <td>10002</td>\n",
       "      <td>2018-06-11</td>\n",
       "      <td>3.0</td>\n",
       "      <td>1000</td>\n",
       "      <td>6</td>\n",
       "    </tr>\n",
       "    <tr>\n",
       "      <th>3</th>\n",
       "      <td>10003</td>\n",
       "      <td>2018-09-21</td>\n",
       "      <td>14.0</td>\n",
       "      <td>1000</td>\n",
       "      <td>9</td>\n",
       "    </tr>\n",
       "    <tr>\n",
       "      <th>4</th>\n",
       "      <td>10004</td>\n",
       "      <td>2018-12-15</td>\n",
       "      <td>6.0</td>\n",
       "      <td>1000</td>\n",
       "      <td>12</td>\n",
       "    </tr>\n",
       "    <tr>\n",
       "      <th>5</th>\n",
       "      <td>10005</td>\n",
       "      <td>2018-11-02</td>\n",
       "      <td>0.0</td>\n",
       "      <td>1000</td>\n",
       "      <td>11</td>\n",
       "    </tr>\n",
       "    <tr>\n",
       "      <th>6</th>\n",
       "      <td>10006</td>\n",
       "      <td>2018-10-18</td>\n",
       "      <td>0.0</td>\n",
       "      <td>1000</td>\n",
       "      <td>10</td>\n",
       "    </tr>\n",
       "    <tr>\n",
       "      <th>7</th>\n",
       "      <td>10007</td>\n",
       "      <td>2018-08-22</td>\n",
       "      <td>19.0</td>\n",
       "      <td>1000</td>\n",
       "      <td>8</td>\n",
       "    </tr>\n",
       "    <tr>\n",
       "      <th>8</th>\n",
       "      <td>10008</td>\n",
       "      <td>2018-09-15</td>\n",
       "      <td>19.0</td>\n",
       "      <td>1000</td>\n",
       "      <td>9</td>\n",
       "    </tr>\n",
       "    <tr>\n",
       "      <th>9</th>\n",
       "      <td>10009</td>\n",
       "      <td>2018-08-15</td>\n",
       "      <td>0.0</td>\n",
       "      <td>1000</td>\n",
       "      <td>8</td>\n",
       "    </tr>\n",
       "  </tbody>\n",
       "</table>\n",
       "</div>"
      ],
      "text/plain": [
       "      id  call_date  duration  user_id  month\n",
       "0  10000 2018-07-25       0.0     1000      7\n",
       "1  10001 2018-08-17       0.0     1000      8\n",
       "2  10002 2018-06-11       3.0     1000      6\n",
       "3  10003 2018-09-21      14.0     1000      9\n",
       "4  10004 2018-12-15       6.0     1000     12\n",
       "5  10005 2018-11-02       0.0     1000     11\n",
       "6  10006 2018-10-18       0.0     1000     10\n",
       "7  10007 2018-08-22      19.0     1000      8\n",
       "8  10008 2018-09-15      19.0     1000      9\n",
       "9  10009 2018-08-15       0.0     1000      8"
      ]
     },
     "execution_count": 17,
     "metadata": {},
     "output_type": "execute_result"
    }
   ],
   "source": [
    "# для calls\n",
    "month_apply(calls, 'call_date')\n",
    "calls.head(10)"
   ]
  },
  {
   "cell_type": "code",
   "execution_count": 18,
   "metadata": {},
   "outputs": [
    {
     "data": {
      "text/html": [
       "<div>\n",
       "<style scoped>\n",
       "    .dataframe tbody tr th:only-of-type {\n",
       "        vertical-align: middle;\n",
       "    }\n",
       "\n",
       "    .dataframe tbody tr th {\n",
       "        vertical-align: top;\n",
       "    }\n",
       "\n",
       "    .dataframe thead th {\n",
       "        text-align: right;\n",
       "    }\n",
       "</style>\n",
       "<table border=\"1\" class=\"dataframe\">\n",
       "  <thead>\n",
       "    <tr style=\"text-align: right;\">\n",
       "      <th></th>\n",
       "      <th>id</th>\n",
       "      <th>message_date</th>\n",
       "      <th>user_id</th>\n",
       "      <th>month</th>\n",
       "    </tr>\n",
       "  </thead>\n",
       "  <tbody>\n",
       "    <tr>\n",
       "      <th>0</th>\n",
       "      <td>10000</td>\n",
       "      <td>2018-06-27</td>\n",
       "      <td>1000</td>\n",
       "      <td>6</td>\n",
       "    </tr>\n",
       "    <tr>\n",
       "      <th>1</th>\n",
       "      <td>10001</td>\n",
       "      <td>2018-10-08</td>\n",
       "      <td>1000</td>\n",
       "      <td>10</td>\n",
       "    </tr>\n",
       "    <tr>\n",
       "      <th>2</th>\n",
       "      <td>10002</td>\n",
       "      <td>2018-08-04</td>\n",
       "      <td>1000</td>\n",
       "      <td>8</td>\n",
       "    </tr>\n",
       "    <tr>\n",
       "      <th>3</th>\n",
       "      <td>10003</td>\n",
       "      <td>2018-06-16</td>\n",
       "      <td>1000</td>\n",
       "      <td>6</td>\n",
       "    </tr>\n",
       "    <tr>\n",
       "      <th>4</th>\n",
       "      <td>10004</td>\n",
       "      <td>2018-12-05</td>\n",
       "      <td>1000</td>\n",
       "      <td>12</td>\n",
       "    </tr>\n",
       "    <tr>\n",
       "      <th>5</th>\n",
       "      <td>10005</td>\n",
       "      <td>2018-06-20</td>\n",
       "      <td>1000</td>\n",
       "      <td>6</td>\n",
       "    </tr>\n",
       "    <tr>\n",
       "      <th>6</th>\n",
       "      <td>10006</td>\n",
       "      <td>2018-11-19</td>\n",
       "      <td>1000</td>\n",
       "      <td>11</td>\n",
       "    </tr>\n",
       "    <tr>\n",
       "      <th>7</th>\n",
       "      <td>10007</td>\n",
       "      <td>2018-10-29</td>\n",
       "      <td>1000</td>\n",
       "      <td>10</td>\n",
       "    </tr>\n",
       "    <tr>\n",
       "      <th>8</th>\n",
       "      <td>10008</td>\n",
       "      <td>2018-06-25</td>\n",
       "      <td>1000</td>\n",
       "      <td>6</td>\n",
       "    </tr>\n",
       "    <tr>\n",
       "      <th>9</th>\n",
       "      <td>10009</td>\n",
       "      <td>2018-12-18</td>\n",
       "      <td>1000</td>\n",
       "      <td>12</td>\n",
       "    </tr>\n",
       "  </tbody>\n",
       "</table>\n",
       "</div>"
      ],
      "text/plain": [
       "      id message_date  user_id  month\n",
       "0  10000   2018-06-27     1000      6\n",
       "1  10001   2018-10-08     1000     10\n",
       "2  10002   2018-08-04     1000      8\n",
       "3  10003   2018-06-16     1000      6\n",
       "4  10004   2018-12-05     1000     12\n",
       "5  10005   2018-06-20     1000      6\n",
       "6  10006   2018-11-19     1000     11\n",
       "7  10007   2018-10-29     1000     10\n",
       "8  10008   2018-06-25     1000      6\n",
       "9  10009   2018-12-18     1000     12"
      ]
     },
     "execution_count": 18,
     "metadata": {},
     "output_type": "execute_result"
    }
   ],
   "source": [
    "# для messages\n",
    "month_apply(messages, 'message_date')\n",
    "messages.head(10)"
   ]
  },
  {
   "cell_type": "code",
   "execution_count": 19,
   "metadata": {},
   "outputs": [
    {
     "data": {
      "text/html": [
       "<div>\n",
       "<style scoped>\n",
       "    .dataframe tbody tr th:only-of-type {\n",
       "        vertical-align: middle;\n",
       "    }\n",
       "\n",
       "    .dataframe tbody tr th {\n",
       "        vertical-align: top;\n",
       "    }\n",
       "\n",
       "    .dataframe thead th {\n",
       "        text-align: right;\n",
       "    }\n",
       "</style>\n",
       "<table border=\"1\" class=\"dataframe\">\n",
       "  <thead>\n",
       "    <tr style=\"text-align: right;\">\n",
       "      <th></th>\n",
       "      <th>id</th>\n",
       "      <th>message_date</th>\n",
       "      <th>user_id</th>\n",
       "      <th>month</th>\n",
       "    </tr>\n",
       "  </thead>\n",
       "  <tbody>\n",
       "    <tr>\n",
       "      <th>0</th>\n",
       "      <td>10000</td>\n",
       "      <td>2018-06-27</td>\n",
       "      <td>1000</td>\n",
       "      <td>6</td>\n",
       "    </tr>\n",
       "    <tr>\n",
       "      <th>1</th>\n",
       "      <td>10001</td>\n",
       "      <td>2018-10-08</td>\n",
       "      <td>1000</td>\n",
       "      <td>10</td>\n",
       "    </tr>\n",
       "    <tr>\n",
       "      <th>2</th>\n",
       "      <td>10002</td>\n",
       "      <td>2018-08-04</td>\n",
       "      <td>1000</td>\n",
       "      <td>8</td>\n",
       "    </tr>\n",
       "    <tr>\n",
       "      <th>3</th>\n",
       "      <td>10003</td>\n",
       "      <td>2018-06-16</td>\n",
       "      <td>1000</td>\n",
       "      <td>6</td>\n",
       "    </tr>\n",
       "    <tr>\n",
       "      <th>4</th>\n",
       "      <td>10004</td>\n",
       "      <td>2018-12-05</td>\n",
       "      <td>1000</td>\n",
       "      <td>12</td>\n",
       "    </tr>\n",
       "    <tr>\n",
       "      <th>5</th>\n",
       "      <td>10005</td>\n",
       "      <td>2018-06-20</td>\n",
       "      <td>1000</td>\n",
       "      <td>6</td>\n",
       "    </tr>\n",
       "    <tr>\n",
       "      <th>6</th>\n",
       "      <td>10006</td>\n",
       "      <td>2018-11-19</td>\n",
       "      <td>1000</td>\n",
       "      <td>11</td>\n",
       "    </tr>\n",
       "    <tr>\n",
       "      <th>7</th>\n",
       "      <td>10007</td>\n",
       "      <td>2018-10-29</td>\n",
       "      <td>1000</td>\n",
       "      <td>10</td>\n",
       "    </tr>\n",
       "    <tr>\n",
       "      <th>8</th>\n",
       "      <td>10008</td>\n",
       "      <td>2018-06-25</td>\n",
       "      <td>1000</td>\n",
       "      <td>6</td>\n",
       "    </tr>\n",
       "    <tr>\n",
       "      <th>9</th>\n",
       "      <td>10009</td>\n",
       "      <td>2018-12-18</td>\n",
       "      <td>1000</td>\n",
       "      <td>12</td>\n",
       "    </tr>\n",
       "  </tbody>\n",
       "</table>\n",
       "</div>"
      ],
      "text/plain": [
       "      id message_date  user_id  month\n",
       "0  10000   2018-06-27     1000      6\n",
       "1  10001   2018-10-08     1000     10\n",
       "2  10002   2018-08-04     1000      8\n",
       "3  10003   2018-06-16     1000      6\n",
       "4  10004   2018-12-05     1000     12\n",
       "5  10005   2018-06-20     1000      6\n",
       "6  10006   2018-11-19     1000     11\n",
       "7  10007   2018-10-29     1000     10\n",
       "8  10008   2018-06-25     1000      6\n",
       "9  10009   2018-12-18     1000     12"
      ]
     },
     "execution_count": 19,
     "metadata": {},
     "output_type": "execute_result"
    }
   ],
   "source": [
    "# для internet\n",
    "month_apply(internet, 'session_date')\n",
    "messages.head(10)"
   ]
  },
  {
   "cell_type": "markdown",
   "metadata": {},
   "source": [
    "Теперь можем делать группировку по каждому пользователю."
   ]
  },
  {
   "cell_type": "code",
   "execution_count": 20,
   "metadata": {},
   "outputs": [
    {
     "data": {
      "text/html": [
       "<div>\n",
       "<style scoped>\n",
       "    .dataframe tbody tr th:only-of-type {\n",
       "        vertical-align: middle;\n",
       "    }\n",
       "\n",
       "    .dataframe tbody tr th {\n",
       "        vertical-align: top;\n",
       "    }\n",
       "\n",
       "    .dataframe thead th {\n",
       "        text-align: right;\n",
       "    }\n",
       "</style>\n",
       "<table border=\"1\" class=\"dataframe\">\n",
       "  <thead>\n",
       "    <tr style=\"text-align: right;\">\n",
       "      <th></th>\n",
       "      <th>user_id</th>\n",
       "      <th>month</th>\n",
       "      <th>calls_total_month</th>\n",
       "      <th>calls_duration_total_month</th>\n",
       "    </tr>\n",
       "  </thead>\n",
       "  <tbody>\n",
       "    <tr>\n",
       "      <th>0</th>\n",
       "      <td>1000</td>\n",
       "      <td>5</td>\n",
       "      <td>22</td>\n",
       "      <td>159.0</td>\n",
       "    </tr>\n",
       "    <tr>\n",
       "      <th>1</th>\n",
       "      <td>1000</td>\n",
       "      <td>6</td>\n",
       "      <td>43</td>\n",
       "      <td>172.0</td>\n",
       "    </tr>\n",
       "    <tr>\n",
       "      <th>2</th>\n",
       "      <td>1000</td>\n",
       "      <td>7</td>\n",
       "      <td>47</td>\n",
       "      <td>340.0</td>\n",
       "    </tr>\n",
       "    <tr>\n",
       "      <th>3</th>\n",
       "      <td>1000</td>\n",
       "      <td>8</td>\n",
       "      <td>52</td>\n",
       "      <td>408.0</td>\n",
       "    </tr>\n",
       "    <tr>\n",
       "      <th>4</th>\n",
       "      <td>1000</td>\n",
       "      <td>9</td>\n",
       "      <td>58</td>\n",
       "      <td>466.0</td>\n",
       "    </tr>\n",
       "    <tr>\n",
       "      <th>5</th>\n",
       "      <td>1000</td>\n",
       "      <td>10</td>\n",
       "      <td>57</td>\n",
       "      <td>350.0</td>\n",
       "    </tr>\n",
       "    <tr>\n",
       "      <th>6</th>\n",
       "      <td>1000</td>\n",
       "      <td>11</td>\n",
       "      <td>43</td>\n",
       "      <td>338.0</td>\n",
       "    </tr>\n",
       "    <tr>\n",
       "      <th>7</th>\n",
       "      <td>1000</td>\n",
       "      <td>12</td>\n",
       "      <td>46</td>\n",
       "      <td>333.0</td>\n",
       "    </tr>\n",
       "    <tr>\n",
       "      <th>8</th>\n",
       "      <td>1001</td>\n",
       "      <td>11</td>\n",
       "      <td>59</td>\n",
       "      <td>430.0</td>\n",
       "    </tr>\n",
       "    <tr>\n",
       "      <th>9</th>\n",
       "      <td>1001</td>\n",
       "      <td>12</td>\n",
       "      <td>63</td>\n",
       "      <td>414.0</td>\n",
       "    </tr>\n",
       "  </tbody>\n",
       "</table>\n",
       "</div>"
      ],
      "text/plain": [
       "   user_id  month  calls_total_month  calls_duration_total_month\n",
       "0     1000      5                 22                       159.0\n",
       "1     1000      6                 43                       172.0\n",
       "2     1000      7                 47                       340.0\n",
       "3     1000      8                 52                       408.0\n",
       "4     1000      9                 58                       466.0\n",
       "5     1000     10                 57                       350.0\n",
       "6     1000     11                 43                       338.0\n",
       "7     1000     12                 46                       333.0\n",
       "8     1001     11                 59                       430.0\n",
       "9     1001     12                 63                       414.0"
      ]
     },
     "execution_count": 20,
     "metadata": {},
     "output_type": "execute_result"
    }
   ],
   "source": [
    "# подсчет количества звонков и общего времени по месяцам\n",
    "users_calls = (calls.groupby(['user_id', 'month'])\n",
    "                    .agg({'id':'count', 'duration':'sum'})\n",
    "                    .reset_index()\n",
    "                    .rename(columns={'id':'calls_total_month', 'duration':'calls_duration_total_month'})\n",
    "              )\n",
    "\n",
    "users_calls.head(10)"
   ]
  },
  {
   "cell_type": "code",
   "execution_count": 21,
   "metadata": {},
   "outputs": [
    {
     "data": {
      "text/html": [
       "<div>\n",
       "<style scoped>\n",
       "    .dataframe tbody tr th:only-of-type {\n",
       "        vertical-align: middle;\n",
       "    }\n",
       "\n",
       "    .dataframe tbody tr th {\n",
       "        vertical-align: top;\n",
       "    }\n",
       "\n",
       "    .dataframe thead th {\n",
       "        text-align: right;\n",
       "    }\n",
       "</style>\n",
       "<table border=\"1\" class=\"dataframe\">\n",
       "  <thead>\n",
       "    <tr style=\"text-align: right;\">\n",
       "      <th></th>\n",
       "      <th>user_id</th>\n",
       "      <th>month</th>\n",
       "      <th>gb_used_total_month</th>\n",
       "    </tr>\n",
       "  </thead>\n",
       "  <tbody>\n",
       "    <tr>\n",
       "      <th>0</th>\n",
       "      <td>1000</td>\n",
       "      <td>5</td>\n",
       "      <td>4.0</td>\n",
       "    </tr>\n",
       "    <tr>\n",
       "      <th>1</th>\n",
       "      <td>1000</td>\n",
       "      <td>6</td>\n",
       "      <td>49.0</td>\n",
       "    </tr>\n",
       "    <tr>\n",
       "      <th>2</th>\n",
       "      <td>1000</td>\n",
       "      <td>7</td>\n",
       "      <td>28.0</td>\n",
       "    </tr>\n",
       "    <tr>\n",
       "      <th>3</th>\n",
       "      <td>1000</td>\n",
       "      <td>8</td>\n",
       "      <td>27.0</td>\n",
       "    </tr>\n",
       "    <tr>\n",
       "      <th>4</th>\n",
       "      <td>1000</td>\n",
       "      <td>9</td>\n",
       "      <td>26.0</td>\n",
       "    </tr>\n",
       "    <tr>\n",
       "      <th>5</th>\n",
       "      <td>1000</td>\n",
       "      <td>10</td>\n",
       "      <td>28.0</td>\n",
       "    </tr>\n",
       "    <tr>\n",
       "      <th>6</th>\n",
       "      <td>1000</td>\n",
       "      <td>11</td>\n",
       "      <td>27.0</td>\n",
       "    </tr>\n",
       "    <tr>\n",
       "      <th>7</th>\n",
       "      <td>1000</td>\n",
       "      <td>12</td>\n",
       "      <td>19.0</td>\n",
       "    </tr>\n",
       "    <tr>\n",
       "      <th>8</th>\n",
       "      <td>1001</td>\n",
       "      <td>11</td>\n",
       "      <td>47.0</td>\n",
       "    </tr>\n",
       "    <tr>\n",
       "      <th>9</th>\n",
       "      <td>1001</td>\n",
       "      <td>12</td>\n",
       "      <td>35.0</td>\n",
       "    </tr>\n",
       "  </tbody>\n",
       "</table>\n",
       "</div>"
      ],
      "text/plain": [
       "   user_id  month  gb_used_total_month\n",
       "0     1000      5                  4.0\n",
       "1     1000      6                 49.0\n",
       "2     1000      7                 28.0\n",
       "3     1000      8                 27.0\n",
       "4     1000      9                 26.0\n",
       "5     1000     10                 28.0\n",
       "6     1000     11                 27.0\n",
       "7     1000     12                 19.0\n",
       "8     1001     11                 47.0\n",
       "9     1001     12                 35.0"
      ]
     },
     "execution_count": 21,
     "metadata": {},
     "output_type": "execute_result"
    }
   ],
   "source": [
    "# подсчет использованного трафика по месяцам\n",
    "users_internet = (internet.groupby(['user_id', 'month'])\n",
    "                          .agg({'gb_used':'sum'})\n",
    "                          .reset_index()\n",
    "                          .rename(columns={'gb_used':'gb_used_total_month'})\n",
    "                 )\n",
    "\n",
    "users_internet.head(10)"
   ]
  },
  {
   "cell_type": "code",
   "execution_count": 22,
   "metadata": {},
   "outputs": [
    {
     "data": {
      "text/html": [
       "<div>\n",
       "<style scoped>\n",
       "    .dataframe tbody tr th:only-of-type {\n",
       "        vertical-align: middle;\n",
       "    }\n",
       "\n",
       "    .dataframe tbody tr th {\n",
       "        vertical-align: top;\n",
       "    }\n",
       "\n",
       "    .dataframe thead th {\n",
       "        text-align: right;\n",
       "    }\n",
       "</style>\n",
       "<table border=\"1\" class=\"dataframe\">\n",
       "  <thead>\n",
       "    <tr style=\"text-align: right;\">\n",
       "      <th></th>\n",
       "      <th>user_id</th>\n",
       "      <th>month</th>\n",
       "      <th>messages_sent_total_month</th>\n",
       "    </tr>\n",
       "  </thead>\n",
       "  <tbody>\n",
       "    <tr>\n",
       "      <th>0</th>\n",
       "      <td>1000</td>\n",
       "      <td>5</td>\n",
       "      <td>22</td>\n",
       "    </tr>\n",
       "    <tr>\n",
       "      <th>1</th>\n",
       "      <td>1000</td>\n",
       "      <td>6</td>\n",
       "      <td>60</td>\n",
       "    </tr>\n",
       "    <tr>\n",
       "      <th>2</th>\n",
       "      <td>1000</td>\n",
       "      <td>7</td>\n",
       "      <td>75</td>\n",
       "    </tr>\n",
       "    <tr>\n",
       "      <th>3</th>\n",
       "      <td>1000</td>\n",
       "      <td>8</td>\n",
       "      <td>81</td>\n",
       "    </tr>\n",
       "    <tr>\n",
       "      <th>4</th>\n",
       "      <td>1000</td>\n",
       "      <td>9</td>\n",
       "      <td>57</td>\n",
       "    </tr>\n",
       "    <tr>\n",
       "      <th>5</th>\n",
       "      <td>1000</td>\n",
       "      <td>10</td>\n",
       "      <td>73</td>\n",
       "    </tr>\n",
       "    <tr>\n",
       "      <th>6</th>\n",
       "      <td>1000</td>\n",
       "      <td>11</td>\n",
       "      <td>58</td>\n",
       "    </tr>\n",
       "    <tr>\n",
       "      <th>7</th>\n",
       "      <td>1000</td>\n",
       "      <td>12</td>\n",
       "      <td>70</td>\n",
       "    </tr>\n",
       "    <tr>\n",
       "      <th>8</th>\n",
       "      <td>1002</td>\n",
       "      <td>6</td>\n",
       "      <td>4</td>\n",
       "    </tr>\n",
       "    <tr>\n",
       "      <th>9</th>\n",
       "      <td>1002</td>\n",
       "      <td>7</td>\n",
       "      <td>11</td>\n",
       "    </tr>\n",
       "  </tbody>\n",
       "</table>\n",
       "</div>"
      ],
      "text/plain": [
       "   user_id  month  messages_sent_total_month\n",
       "0     1000      5                         22\n",
       "1     1000      6                         60\n",
       "2     1000      7                         75\n",
       "3     1000      8                         81\n",
       "4     1000      9                         57\n",
       "5     1000     10                         73\n",
       "6     1000     11                         58\n",
       "7     1000     12                         70\n",
       "8     1002      6                          4\n",
       "9     1002      7                         11"
      ]
     },
     "execution_count": 22,
     "metadata": {},
     "output_type": "execute_result"
    }
   ],
   "source": [
    "# подсчет отправленных сообщений по месяцам\n",
    "users_messages = (messages.groupby(['user_id', 'month'])\n",
    "                          .agg({'id':'count'})\n",
    "                          .reset_index()\n",
    "                          .rename(columns={'id':'messages_sent_total_month'})\n",
    "                 )\n",
    "\n",
    "users_messages.head(10)"
   ]
  },
  {
   "cell_type": "markdown",
   "metadata": {},
   "source": [
    "**Получим общий датасет для последующего расчета выручки**\n",
    "\n",
    "Объединять предполагается по столбцам user_id и month и через outer - так мы не потеряем абонентов, которые могли не использовать какую-либо опцию тарифа."
   ]
  },
  {
   "cell_type": "code",
   "execution_count": 23,
   "metadata": {},
   "outputs": [
    {
     "data": {
      "text/html": [
       "<div>\n",
       "<style scoped>\n",
       "    .dataframe tbody tr th:only-of-type {\n",
       "        vertical-align: middle;\n",
       "    }\n",
       "\n",
       "    .dataframe tbody tr th {\n",
       "        vertical-align: top;\n",
       "    }\n",
       "\n",
       "    .dataframe thead th {\n",
       "        text-align: right;\n",
       "    }\n",
       "</style>\n",
       "<table border=\"1\" class=\"dataframe\">\n",
       "  <thead>\n",
       "    <tr style=\"text-align: right;\">\n",
       "      <th></th>\n",
       "      <th>user_id</th>\n",
       "      <th>month</th>\n",
       "      <th>calls_total_month</th>\n",
       "      <th>calls_duration_total_month</th>\n",
       "      <th>gb_used_total_month</th>\n",
       "    </tr>\n",
       "  </thead>\n",
       "  <tbody>\n",
       "    <tr>\n",
       "      <th>0</th>\n",
       "      <td>1000</td>\n",
       "      <td>5</td>\n",
       "      <td>22.0</td>\n",
       "      <td>159.0</td>\n",
       "      <td>4.0</td>\n",
       "    </tr>\n",
       "    <tr>\n",
       "      <th>1</th>\n",
       "      <td>1000</td>\n",
       "      <td>6</td>\n",
       "      <td>43.0</td>\n",
       "      <td>172.0</td>\n",
       "      <td>49.0</td>\n",
       "    </tr>\n",
       "    <tr>\n",
       "      <th>2</th>\n",
       "      <td>1000</td>\n",
       "      <td>7</td>\n",
       "      <td>47.0</td>\n",
       "      <td>340.0</td>\n",
       "      <td>28.0</td>\n",
       "    </tr>\n",
       "    <tr>\n",
       "      <th>3</th>\n",
       "      <td>1000</td>\n",
       "      <td>8</td>\n",
       "      <td>52.0</td>\n",
       "      <td>408.0</td>\n",
       "      <td>27.0</td>\n",
       "    </tr>\n",
       "    <tr>\n",
       "      <th>4</th>\n",
       "      <td>1000</td>\n",
       "      <td>9</td>\n",
       "      <td>58.0</td>\n",
       "      <td>466.0</td>\n",
       "      <td>26.0</td>\n",
       "    </tr>\n",
       "    <tr>\n",
       "      <th>5</th>\n",
       "      <td>1000</td>\n",
       "      <td>10</td>\n",
       "      <td>57.0</td>\n",
       "      <td>350.0</td>\n",
       "      <td>28.0</td>\n",
       "    </tr>\n",
       "    <tr>\n",
       "      <th>6</th>\n",
       "      <td>1000</td>\n",
       "      <td>11</td>\n",
       "      <td>43.0</td>\n",
       "      <td>338.0</td>\n",
       "      <td>27.0</td>\n",
       "    </tr>\n",
       "    <tr>\n",
       "      <th>7</th>\n",
       "      <td>1000</td>\n",
       "      <td>12</td>\n",
       "      <td>46.0</td>\n",
       "      <td>333.0</td>\n",
       "      <td>19.0</td>\n",
       "    </tr>\n",
       "    <tr>\n",
       "      <th>8</th>\n",
       "      <td>1001</td>\n",
       "      <td>11</td>\n",
       "      <td>59.0</td>\n",
       "      <td>430.0</td>\n",
       "      <td>47.0</td>\n",
       "    </tr>\n",
       "    <tr>\n",
       "      <th>9</th>\n",
       "      <td>1001</td>\n",
       "      <td>12</td>\n",
       "      <td>63.0</td>\n",
       "      <td>414.0</td>\n",
       "      <td>35.0</td>\n",
       "    </tr>\n",
       "  </tbody>\n",
       "</table>\n",
       "</div>"
      ],
      "text/plain": [
       "   user_id  month  calls_total_month  calls_duration_total_month  \\\n",
       "0     1000      5               22.0                       159.0   \n",
       "1     1000      6               43.0                       172.0   \n",
       "2     1000      7               47.0                       340.0   \n",
       "3     1000      8               52.0                       408.0   \n",
       "4     1000      9               58.0                       466.0   \n",
       "5     1000     10               57.0                       350.0   \n",
       "6     1000     11               43.0                       338.0   \n",
       "7     1000     12               46.0                       333.0   \n",
       "8     1001     11               59.0                       430.0   \n",
       "9     1001     12               63.0                       414.0   \n",
       "\n",
       "   gb_used_total_month  \n",
       "0                  4.0  \n",
       "1                 49.0  \n",
       "2                 28.0  \n",
       "3                 27.0  \n",
       "4                 26.0  \n",
       "5                 28.0  \n",
       "6                 27.0  \n",
       "7                 19.0  \n",
       "8                 47.0  \n",
       "9                 35.0  "
      ]
     },
     "execution_count": 23,
     "metadata": {},
     "output_type": "execute_result"
    }
   ],
   "source": [
    "# объединяем датасеты по звонкам и трафику\n",
    "df = users_calls.merge(users_internet, on=['user_id', 'month'], how='outer')\n",
    "df.head(10)"
   ]
  },
  {
   "cell_type": "code",
   "execution_count": 24,
   "metadata": {},
   "outputs": [
    {
     "data": {
      "text/html": [
       "<div>\n",
       "<style scoped>\n",
       "    .dataframe tbody tr th:only-of-type {\n",
       "        vertical-align: middle;\n",
       "    }\n",
       "\n",
       "    .dataframe tbody tr th {\n",
       "        vertical-align: top;\n",
       "    }\n",
       "\n",
       "    .dataframe thead th {\n",
       "        text-align: right;\n",
       "    }\n",
       "</style>\n",
       "<table border=\"1\" class=\"dataframe\">\n",
       "  <thead>\n",
       "    <tr style=\"text-align: right;\">\n",
       "      <th></th>\n",
       "      <th>user_id</th>\n",
       "      <th>month</th>\n",
       "      <th>calls_total_month</th>\n",
       "      <th>calls_duration_total_month</th>\n",
       "      <th>gb_used_total_month</th>\n",
       "      <th>messages_sent_total_month</th>\n",
       "    </tr>\n",
       "  </thead>\n",
       "  <tbody>\n",
       "    <tr>\n",
       "      <th>0</th>\n",
       "      <td>1000</td>\n",
       "      <td>5</td>\n",
       "      <td>22.0</td>\n",
       "      <td>159.0</td>\n",
       "      <td>4.0</td>\n",
       "      <td>22.0</td>\n",
       "    </tr>\n",
       "    <tr>\n",
       "      <th>1</th>\n",
       "      <td>1000</td>\n",
       "      <td>6</td>\n",
       "      <td>43.0</td>\n",
       "      <td>172.0</td>\n",
       "      <td>49.0</td>\n",
       "      <td>60.0</td>\n",
       "    </tr>\n",
       "    <tr>\n",
       "      <th>2</th>\n",
       "      <td>1000</td>\n",
       "      <td>7</td>\n",
       "      <td>47.0</td>\n",
       "      <td>340.0</td>\n",
       "      <td>28.0</td>\n",
       "      <td>75.0</td>\n",
       "    </tr>\n",
       "    <tr>\n",
       "      <th>3</th>\n",
       "      <td>1000</td>\n",
       "      <td>8</td>\n",
       "      <td>52.0</td>\n",
       "      <td>408.0</td>\n",
       "      <td>27.0</td>\n",
       "      <td>81.0</td>\n",
       "    </tr>\n",
       "    <tr>\n",
       "      <th>4</th>\n",
       "      <td>1000</td>\n",
       "      <td>9</td>\n",
       "      <td>58.0</td>\n",
       "      <td>466.0</td>\n",
       "      <td>26.0</td>\n",
       "      <td>57.0</td>\n",
       "    </tr>\n",
       "    <tr>\n",
       "      <th>5</th>\n",
       "      <td>1000</td>\n",
       "      <td>10</td>\n",
       "      <td>57.0</td>\n",
       "      <td>350.0</td>\n",
       "      <td>28.0</td>\n",
       "      <td>73.0</td>\n",
       "    </tr>\n",
       "    <tr>\n",
       "      <th>6</th>\n",
       "      <td>1000</td>\n",
       "      <td>11</td>\n",
       "      <td>43.0</td>\n",
       "      <td>338.0</td>\n",
       "      <td>27.0</td>\n",
       "      <td>58.0</td>\n",
       "    </tr>\n",
       "    <tr>\n",
       "      <th>7</th>\n",
       "      <td>1000</td>\n",
       "      <td>12</td>\n",
       "      <td>46.0</td>\n",
       "      <td>333.0</td>\n",
       "      <td>19.0</td>\n",
       "      <td>70.0</td>\n",
       "    </tr>\n",
       "    <tr>\n",
       "      <th>8</th>\n",
       "      <td>1001</td>\n",
       "      <td>11</td>\n",
       "      <td>59.0</td>\n",
       "      <td>430.0</td>\n",
       "      <td>47.0</td>\n",
       "      <td>NaN</td>\n",
       "    </tr>\n",
       "    <tr>\n",
       "      <th>9</th>\n",
       "      <td>1001</td>\n",
       "      <td>12</td>\n",
       "      <td>63.0</td>\n",
       "      <td>414.0</td>\n",
       "      <td>35.0</td>\n",
       "      <td>NaN</td>\n",
       "    </tr>\n",
       "  </tbody>\n",
       "</table>\n",
       "</div>"
      ],
      "text/plain": [
       "   user_id  month  calls_total_month  calls_duration_total_month  \\\n",
       "0     1000      5               22.0                       159.0   \n",
       "1     1000      6               43.0                       172.0   \n",
       "2     1000      7               47.0                       340.0   \n",
       "3     1000      8               52.0                       408.0   \n",
       "4     1000      9               58.0                       466.0   \n",
       "5     1000     10               57.0                       350.0   \n",
       "6     1000     11               43.0                       338.0   \n",
       "7     1000     12               46.0                       333.0   \n",
       "8     1001     11               59.0                       430.0   \n",
       "9     1001     12               63.0                       414.0   \n",
       "\n",
       "   gb_used_total_month  messages_sent_total_month  \n",
       "0                  4.0                       22.0  \n",
       "1                 49.0                       60.0  \n",
       "2                 28.0                       75.0  \n",
       "3                 27.0                       81.0  \n",
       "4                 26.0                       57.0  \n",
       "5                 28.0                       73.0  \n",
       "6                 27.0                       58.0  \n",
       "7                 19.0                       70.0  \n",
       "8                 47.0                        NaN  \n",
       "9                 35.0                        NaN  "
      ]
     },
     "execution_count": 24,
     "metadata": {},
     "output_type": "execute_result"
    }
   ],
   "source": [
    "# теперь добавляем сообщения\n",
    "df = df.merge(users_messages, on=['user_id', 'month'], how='outer')\n",
    "df.head(10)"
   ]
  },
  {
   "cell_type": "markdown",
   "metadata": {},
   "source": [
    "Получили новый датасет с расчетом помесячной статистики по каждому пользователю.\n",
    "\n",
    "Теперь по `user_id` можем добавить указание конкретного тарифа (из датасета `users`), затем его параметры (датасет `tafiffs`)."
   ]
  },
  {
   "cell_type": "code",
   "execution_count": 25,
   "metadata": {},
   "outputs": [
    {
     "data": {
      "text/html": [
       "<div>\n",
       "<style scoped>\n",
       "    .dataframe tbody tr th:only-of-type {\n",
       "        vertical-align: middle;\n",
       "    }\n",
       "\n",
       "    .dataframe tbody tr th {\n",
       "        vertical-align: top;\n",
       "    }\n",
       "\n",
       "    .dataframe thead th {\n",
       "        text-align: right;\n",
       "    }\n",
       "</style>\n",
       "<table border=\"1\" class=\"dataframe\">\n",
       "  <thead>\n",
       "    <tr style=\"text-align: right;\">\n",
       "      <th></th>\n",
       "      <th>user_id</th>\n",
       "      <th>month</th>\n",
       "      <th>calls_total_month</th>\n",
       "      <th>calls_duration_total_month</th>\n",
       "      <th>gb_used_total_month</th>\n",
       "      <th>messages_sent_total_month</th>\n",
       "      <th>age</th>\n",
       "      <th>churn_date</th>\n",
       "      <th>city</th>\n",
       "      <th>first_name</th>\n",
       "      <th>last_name</th>\n",
       "      <th>reg_date</th>\n",
       "      <th>tariff</th>\n",
       "    </tr>\n",
       "  </thead>\n",
       "  <tbody>\n",
       "    <tr>\n",
       "      <th>0</th>\n",
       "      <td>1000</td>\n",
       "      <td>5</td>\n",
       "      <td>22.0</td>\n",
       "      <td>159.0</td>\n",
       "      <td>4.0</td>\n",
       "      <td>22.0</td>\n",
       "      <td>52</td>\n",
       "      <td>NaT</td>\n",
       "      <td>Краснодар</td>\n",
       "      <td>Рафаил</td>\n",
       "      <td>Верещагин</td>\n",
       "      <td>2018-05-25</td>\n",
       "      <td>ultra</td>\n",
       "    </tr>\n",
       "    <tr>\n",
       "      <th>1</th>\n",
       "      <td>1000</td>\n",
       "      <td>6</td>\n",
       "      <td>43.0</td>\n",
       "      <td>172.0</td>\n",
       "      <td>49.0</td>\n",
       "      <td>60.0</td>\n",
       "      <td>52</td>\n",
       "      <td>NaT</td>\n",
       "      <td>Краснодар</td>\n",
       "      <td>Рафаил</td>\n",
       "      <td>Верещагин</td>\n",
       "      <td>2018-05-25</td>\n",
       "      <td>ultra</td>\n",
       "    </tr>\n",
       "    <tr>\n",
       "      <th>2</th>\n",
       "      <td>1000</td>\n",
       "      <td>7</td>\n",
       "      <td>47.0</td>\n",
       "      <td>340.0</td>\n",
       "      <td>28.0</td>\n",
       "      <td>75.0</td>\n",
       "      <td>52</td>\n",
       "      <td>NaT</td>\n",
       "      <td>Краснодар</td>\n",
       "      <td>Рафаил</td>\n",
       "      <td>Верещагин</td>\n",
       "      <td>2018-05-25</td>\n",
       "      <td>ultra</td>\n",
       "    </tr>\n",
       "    <tr>\n",
       "      <th>3</th>\n",
       "      <td>1000</td>\n",
       "      <td>8</td>\n",
       "      <td>52.0</td>\n",
       "      <td>408.0</td>\n",
       "      <td>27.0</td>\n",
       "      <td>81.0</td>\n",
       "      <td>52</td>\n",
       "      <td>NaT</td>\n",
       "      <td>Краснодар</td>\n",
       "      <td>Рафаил</td>\n",
       "      <td>Верещагин</td>\n",
       "      <td>2018-05-25</td>\n",
       "      <td>ultra</td>\n",
       "    </tr>\n",
       "    <tr>\n",
       "      <th>4</th>\n",
       "      <td>1000</td>\n",
       "      <td>9</td>\n",
       "      <td>58.0</td>\n",
       "      <td>466.0</td>\n",
       "      <td>26.0</td>\n",
       "      <td>57.0</td>\n",
       "      <td>52</td>\n",
       "      <td>NaT</td>\n",
       "      <td>Краснодар</td>\n",
       "      <td>Рафаил</td>\n",
       "      <td>Верещагин</td>\n",
       "      <td>2018-05-25</td>\n",
       "      <td>ultra</td>\n",
       "    </tr>\n",
       "    <tr>\n",
       "      <th>5</th>\n",
       "      <td>1000</td>\n",
       "      <td>10</td>\n",
       "      <td>57.0</td>\n",
       "      <td>350.0</td>\n",
       "      <td>28.0</td>\n",
       "      <td>73.0</td>\n",
       "      <td>52</td>\n",
       "      <td>NaT</td>\n",
       "      <td>Краснодар</td>\n",
       "      <td>Рафаил</td>\n",
       "      <td>Верещагин</td>\n",
       "      <td>2018-05-25</td>\n",
       "      <td>ultra</td>\n",
       "    </tr>\n",
       "    <tr>\n",
       "      <th>6</th>\n",
       "      <td>1000</td>\n",
       "      <td>11</td>\n",
       "      <td>43.0</td>\n",
       "      <td>338.0</td>\n",
       "      <td>27.0</td>\n",
       "      <td>58.0</td>\n",
       "      <td>52</td>\n",
       "      <td>NaT</td>\n",
       "      <td>Краснодар</td>\n",
       "      <td>Рафаил</td>\n",
       "      <td>Верещагин</td>\n",
       "      <td>2018-05-25</td>\n",
       "      <td>ultra</td>\n",
       "    </tr>\n",
       "    <tr>\n",
       "      <th>7</th>\n",
       "      <td>1000</td>\n",
       "      <td>12</td>\n",
       "      <td>46.0</td>\n",
       "      <td>333.0</td>\n",
       "      <td>19.0</td>\n",
       "      <td>70.0</td>\n",
       "      <td>52</td>\n",
       "      <td>NaT</td>\n",
       "      <td>Краснодар</td>\n",
       "      <td>Рафаил</td>\n",
       "      <td>Верещагин</td>\n",
       "      <td>2018-05-25</td>\n",
       "      <td>ultra</td>\n",
       "    </tr>\n",
       "    <tr>\n",
       "      <th>8</th>\n",
       "      <td>1001</td>\n",
       "      <td>11</td>\n",
       "      <td>59.0</td>\n",
       "      <td>430.0</td>\n",
       "      <td>47.0</td>\n",
       "      <td>NaN</td>\n",
       "      <td>41</td>\n",
       "      <td>NaT</td>\n",
       "      <td>Москва</td>\n",
       "      <td>Иван</td>\n",
       "      <td>Ежов</td>\n",
       "      <td>2018-11-01</td>\n",
       "      <td>smart</td>\n",
       "    </tr>\n",
       "    <tr>\n",
       "      <th>9</th>\n",
       "      <td>1001</td>\n",
       "      <td>12</td>\n",
       "      <td>63.0</td>\n",
       "      <td>414.0</td>\n",
       "      <td>35.0</td>\n",
       "      <td>NaN</td>\n",
       "      <td>41</td>\n",
       "      <td>NaT</td>\n",
       "      <td>Москва</td>\n",
       "      <td>Иван</td>\n",
       "      <td>Ежов</td>\n",
       "      <td>2018-11-01</td>\n",
       "      <td>smart</td>\n",
       "    </tr>\n",
       "  </tbody>\n",
       "</table>\n",
       "</div>"
      ],
      "text/plain": [
       "   user_id  month  calls_total_month  calls_duration_total_month  \\\n",
       "0     1000      5               22.0                       159.0   \n",
       "1     1000      6               43.0                       172.0   \n",
       "2     1000      7               47.0                       340.0   \n",
       "3     1000      8               52.0                       408.0   \n",
       "4     1000      9               58.0                       466.0   \n",
       "5     1000     10               57.0                       350.0   \n",
       "6     1000     11               43.0                       338.0   \n",
       "7     1000     12               46.0                       333.0   \n",
       "8     1001     11               59.0                       430.0   \n",
       "9     1001     12               63.0                       414.0   \n",
       "\n",
       "   gb_used_total_month  messages_sent_total_month  age churn_date       city  \\\n",
       "0                  4.0                       22.0   52        NaT  Краснодар   \n",
       "1                 49.0                       60.0   52        NaT  Краснодар   \n",
       "2                 28.0                       75.0   52        NaT  Краснодар   \n",
       "3                 27.0                       81.0   52        NaT  Краснодар   \n",
       "4                 26.0                       57.0   52        NaT  Краснодар   \n",
       "5                 28.0                       73.0   52        NaT  Краснодар   \n",
       "6                 27.0                       58.0   52        NaT  Краснодар   \n",
       "7                 19.0                       70.0   52        NaT  Краснодар   \n",
       "8                 47.0                        NaN   41        NaT     Москва   \n",
       "9                 35.0                        NaN   41        NaT     Москва   \n",
       "\n",
       "  first_name  last_name   reg_date tariff  \n",
       "0     Рафаил  Верещагин 2018-05-25  ultra  \n",
       "1     Рафаил  Верещагин 2018-05-25  ultra  \n",
       "2     Рафаил  Верещагин 2018-05-25  ultra  \n",
       "3     Рафаил  Верещагин 2018-05-25  ultra  \n",
       "4     Рафаил  Верещагин 2018-05-25  ultra  \n",
       "5     Рафаил  Верещагин 2018-05-25  ultra  \n",
       "6     Рафаил  Верещагин 2018-05-25  ultra  \n",
       "7     Рафаил  Верещагин 2018-05-25  ultra  \n",
       "8       Иван       Ежов 2018-11-01  smart  \n",
       "9       Иван       Ежов 2018-11-01  smart  "
      ]
     },
     "execution_count": 25,
     "metadata": {},
     "output_type": "execute_result"
    }
   ],
   "source": [
    "# добавление тарифа, нужны user_id из датасета df\n",
    "df = df.merge(users, on=['user_id'], how='left')\n",
    "df.head(10)"
   ]
  },
  {
   "cell_type": "code",
   "execution_count": 26,
   "metadata": {},
   "outputs": [
    {
     "data": {
      "text/html": [
       "<div>\n",
       "<style scoped>\n",
       "    .dataframe tbody tr th:only-of-type {\n",
       "        vertical-align: middle;\n",
       "    }\n",
       "\n",
       "    .dataframe tbody tr th {\n",
       "        vertical-align: top;\n",
       "    }\n",
       "\n",
       "    .dataframe thead th {\n",
       "        text-align: right;\n",
       "    }\n",
       "</style>\n",
       "<table border=\"1\" class=\"dataframe\">\n",
       "  <thead>\n",
       "    <tr style=\"text-align: right;\">\n",
       "      <th></th>\n",
       "      <th>messages_included</th>\n",
       "      <th>mb_per_month_included</th>\n",
       "      <th>minutes_included</th>\n",
       "      <th>rub_monthly_fee</th>\n",
       "      <th>rub_per_gb</th>\n",
       "      <th>rub_per_message</th>\n",
       "      <th>rub_per_minute</th>\n",
       "      <th>tariff</th>\n",
       "    </tr>\n",
       "  </thead>\n",
       "  <tbody>\n",
       "    <tr>\n",
       "      <th>0</th>\n",
       "      <td>50</td>\n",
       "      <td>15360</td>\n",
       "      <td>500</td>\n",
       "      <td>550</td>\n",
       "      <td>200</td>\n",
       "      <td>3</td>\n",
       "      <td>3</td>\n",
       "      <td>smart</td>\n",
       "    </tr>\n",
       "    <tr>\n",
       "      <th>1</th>\n",
       "      <td>1000</td>\n",
       "      <td>30720</td>\n",
       "      <td>3000</td>\n",
       "      <td>1950</td>\n",
       "      <td>150</td>\n",
       "      <td>1</td>\n",
       "      <td>1</td>\n",
       "      <td>ultra</td>\n",
       "    </tr>\n",
       "  </tbody>\n",
       "</table>\n",
       "</div>"
      ],
      "text/plain": [
       "   messages_included  mb_per_month_included  minutes_included  \\\n",
       "0                 50                  15360               500   \n",
       "1               1000                  30720              3000   \n",
       "\n",
       "   rub_monthly_fee  rub_per_gb  rub_per_message  rub_per_minute tariff  \n",
       "0              550         200                3               3  smart  \n",
       "1             1950         150                1               1  ultra  "
      ]
     },
     "execution_count": 26,
     "metadata": {},
     "output_type": "execute_result"
    }
   ],
   "source": [
    "# переименуем столбец в данных по тарифам для корректного объединения\n",
    "tariffs = tariffs.rename(columns={'tariff_name':'tariff'})\n",
    "tariffs.head()"
   ]
  },
  {
   "cell_type": "markdown",
   "metadata": {},
   "source": [
    "Также необходимо округление столбца `mb_per_month_included` до гигабайт для дальнейших расчетов."
   ]
  },
  {
   "cell_type": "code",
   "execution_count": 27,
   "metadata": {},
   "outputs": [],
   "source": [
    "# округление Мб до Гб и переименование столбца\n",
    "tariffs['mb_per_month_included'] = tariffs['mb_per_month_included'] / 1024\n",
    "tariffs = tariffs.rename(columns={'mb_per_month_included':'gb_per_month_included'})"
   ]
  },
  {
   "cell_type": "code",
   "execution_count": 28,
   "metadata": {},
   "outputs": [
    {
     "data": {
      "text/html": [
       "<div>\n",
       "<style scoped>\n",
       "    .dataframe tbody tr th:only-of-type {\n",
       "        vertical-align: middle;\n",
       "    }\n",
       "\n",
       "    .dataframe tbody tr th {\n",
       "        vertical-align: top;\n",
       "    }\n",
       "\n",
       "    .dataframe thead th {\n",
       "        text-align: right;\n",
       "    }\n",
       "</style>\n",
       "<table border=\"1\" class=\"dataframe\">\n",
       "  <thead>\n",
       "    <tr style=\"text-align: right;\">\n",
       "      <th></th>\n",
       "      <th>user_id</th>\n",
       "      <th>month</th>\n",
       "      <th>calls_total_month</th>\n",
       "      <th>calls_duration_total_month</th>\n",
       "      <th>gb_used_total_month</th>\n",
       "      <th>messages_sent_total_month</th>\n",
       "      <th>age</th>\n",
       "      <th>churn_date</th>\n",
       "      <th>city</th>\n",
       "      <th>first_name</th>\n",
       "      <th>last_name</th>\n",
       "      <th>reg_date</th>\n",
       "      <th>tariff</th>\n",
       "      <th>messages_included</th>\n",
       "      <th>gb_per_month_included</th>\n",
       "      <th>minutes_included</th>\n",
       "      <th>rub_monthly_fee</th>\n",
       "      <th>rub_per_gb</th>\n",
       "      <th>rub_per_message</th>\n",
       "      <th>rub_per_minute</th>\n",
       "    </tr>\n",
       "  </thead>\n",
       "  <tbody>\n",
       "    <tr>\n",
       "      <th>0</th>\n",
       "      <td>1000</td>\n",
       "      <td>5</td>\n",
       "      <td>22.0</td>\n",
       "      <td>159.0</td>\n",
       "      <td>4.0</td>\n",
       "      <td>22.0</td>\n",
       "      <td>52</td>\n",
       "      <td>NaT</td>\n",
       "      <td>Краснодар</td>\n",
       "      <td>Рафаил</td>\n",
       "      <td>Верещагин</td>\n",
       "      <td>2018-05-25</td>\n",
       "      <td>ultra</td>\n",
       "      <td>1000</td>\n",
       "      <td>30.0</td>\n",
       "      <td>3000</td>\n",
       "      <td>1950</td>\n",
       "      <td>150</td>\n",
       "      <td>1</td>\n",
       "      <td>1</td>\n",
       "    </tr>\n",
       "    <tr>\n",
       "      <th>1</th>\n",
       "      <td>1000</td>\n",
       "      <td>6</td>\n",
       "      <td>43.0</td>\n",
       "      <td>172.0</td>\n",
       "      <td>49.0</td>\n",
       "      <td>60.0</td>\n",
       "      <td>52</td>\n",
       "      <td>NaT</td>\n",
       "      <td>Краснодар</td>\n",
       "      <td>Рафаил</td>\n",
       "      <td>Верещагин</td>\n",
       "      <td>2018-05-25</td>\n",
       "      <td>ultra</td>\n",
       "      <td>1000</td>\n",
       "      <td>30.0</td>\n",
       "      <td>3000</td>\n",
       "      <td>1950</td>\n",
       "      <td>150</td>\n",
       "      <td>1</td>\n",
       "      <td>1</td>\n",
       "    </tr>\n",
       "    <tr>\n",
       "      <th>2</th>\n",
       "      <td>1000</td>\n",
       "      <td>7</td>\n",
       "      <td>47.0</td>\n",
       "      <td>340.0</td>\n",
       "      <td>28.0</td>\n",
       "      <td>75.0</td>\n",
       "      <td>52</td>\n",
       "      <td>NaT</td>\n",
       "      <td>Краснодар</td>\n",
       "      <td>Рафаил</td>\n",
       "      <td>Верещагин</td>\n",
       "      <td>2018-05-25</td>\n",
       "      <td>ultra</td>\n",
       "      <td>1000</td>\n",
       "      <td>30.0</td>\n",
       "      <td>3000</td>\n",
       "      <td>1950</td>\n",
       "      <td>150</td>\n",
       "      <td>1</td>\n",
       "      <td>1</td>\n",
       "    </tr>\n",
       "    <tr>\n",
       "      <th>3</th>\n",
       "      <td>1000</td>\n",
       "      <td>8</td>\n",
       "      <td>52.0</td>\n",
       "      <td>408.0</td>\n",
       "      <td>27.0</td>\n",
       "      <td>81.0</td>\n",
       "      <td>52</td>\n",
       "      <td>NaT</td>\n",
       "      <td>Краснодар</td>\n",
       "      <td>Рафаил</td>\n",
       "      <td>Верещагин</td>\n",
       "      <td>2018-05-25</td>\n",
       "      <td>ultra</td>\n",
       "      <td>1000</td>\n",
       "      <td>30.0</td>\n",
       "      <td>3000</td>\n",
       "      <td>1950</td>\n",
       "      <td>150</td>\n",
       "      <td>1</td>\n",
       "      <td>1</td>\n",
       "    </tr>\n",
       "    <tr>\n",
       "      <th>4</th>\n",
       "      <td>1000</td>\n",
       "      <td>9</td>\n",
       "      <td>58.0</td>\n",
       "      <td>466.0</td>\n",
       "      <td>26.0</td>\n",
       "      <td>57.0</td>\n",
       "      <td>52</td>\n",
       "      <td>NaT</td>\n",
       "      <td>Краснодар</td>\n",
       "      <td>Рафаил</td>\n",
       "      <td>Верещагин</td>\n",
       "      <td>2018-05-25</td>\n",
       "      <td>ultra</td>\n",
       "      <td>1000</td>\n",
       "      <td>30.0</td>\n",
       "      <td>3000</td>\n",
       "      <td>1950</td>\n",
       "      <td>150</td>\n",
       "      <td>1</td>\n",
       "      <td>1</td>\n",
       "    </tr>\n",
       "    <tr>\n",
       "      <th>5</th>\n",
       "      <td>1000</td>\n",
       "      <td>10</td>\n",
       "      <td>57.0</td>\n",
       "      <td>350.0</td>\n",
       "      <td>28.0</td>\n",
       "      <td>73.0</td>\n",
       "      <td>52</td>\n",
       "      <td>NaT</td>\n",
       "      <td>Краснодар</td>\n",
       "      <td>Рафаил</td>\n",
       "      <td>Верещагин</td>\n",
       "      <td>2018-05-25</td>\n",
       "      <td>ultra</td>\n",
       "      <td>1000</td>\n",
       "      <td>30.0</td>\n",
       "      <td>3000</td>\n",
       "      <td>1950</td>\n",
       "      <td>150</td>\n",
       "      <td>1</td>\n",
       "      <td>1</td>\n",
       "    </tr>\n",
       "    <tr>\n",
       "      <th>6</th>\n",
       "      <td>1000</td>\n",
       "      <td>11</td>\n",
       "      <td>43.0</td>\n",
       "      <td>338.0</td>\n",
       "      <td>27.0</td>\n",
       "      <td>58.0</td>\n",
       "      <td>52</td>\n",
       "      <td>NaT</td>\n",
       "      <td>Краснодар</td>\n",
       "      <td>Рафаил</td>\n",
       "      <td>Верещагин</td>\n",
       "      <td>2018-05-25</td>\n",
       "      <td>ultra</td>\n",
       "      <td>1000</td>\n",
       "      <td>30.0</td>\n",
       "      <td>3000</td>\n",
       "      <td>1950</td>\n",
       "      <td>150</td>\n",
       "      <td>1</td>\n",
       "      <td>1</td>\n",
       "    </tr>\n",
       "    <tr>\n",
       "      <th>7</th>\n",
       "      <td>1000</td>\n",
       "      <td>12</td>\n",
       "      <td>46.0</td>\n",
       "      <td>333.0</td>\n",
       "      <td>19.0</td>\n",
       "      <td>70.0</td>\n",
       "      <td>52</td>\n",
       "      <td>NaT</td>\n",
       "      <td>Краснодар</td>\n",
       "      <td>Рафаил</td>\n",
       "      <td>Верещагин</td>\n",
       "      <td>2018-05-25</td>\n",
       "      <td>ultra</td>\n",
       "      <td>1000</td>\n",
       "      <td>30.0</td>\n",
       "      <td>3000</td>\n",
       "      <td>1950</td>\n",
       "      <td>150</td>\n",
       "      <td>1</td>\n",
       "      <td>1</td>\n",
       "    </tr>\n",
       "    <tr>\n",
       "      <th>8</th>\n",
       "      <td>1001</td>\n",
       "      <td>11</td>\n",
       "      <td>59.0</td>\n",
       "      <td>430.0</td>\n",
       "      <td>47.0</td>\n",
       "      <td>NaN</td>\n",
       "      <td>41</td>\n",
       "      <td>NaT</td>\n",
       "      <td>Москва</td>\n",
       "      <td>Иван</td>\n",
       "      <td>Ежов</td>\n",
       "      <td>2018-11-01</td>\n",
       "      <td>smart</td>\n",
       "      <td>50</td>\n",
       "      <td>15.0</td>\n",
       "      <td>500</td>\n",
       "      <td>550</td>\n",
       "      <td>200</td>\n",
       "      <td>3</td>\n",
       "      <td>3</td>\n",
       "    </tr>\n",
       "    <tr>\n",
       "      <th>9</th>\n",
       "      <td>1001</td>\n",
       "      <td>12</td>\n",
       "      <td>63.0</td>\n",
       "      <td>414.0</td>\n",
       "      <td>35.0</td>\n",
       "      <td>NaN</td>\n",
       "      <td>41</td>\n",
       "      <td>NaT</td>\n",
       "      <td>Москва</td>\n",
       "      <td>Иван</td>\n",
       "      <td>Ежов</td>\n",
       "      <td>2018-11-01</td>\n",
       "      <td>smart</td>\n",
       "      <td>50</td>\n",
       "      <td>15.0</td>\n",
       "      <td>500</td>\n",
       "      <td>550</td>\n",
       "      <td>200</td>\n",
       "      <td>3</td>\n",
       "      <td>3</td>\n",
       "    </tr>\n",
       "  </tbody>\n",
       "</table>\n",
       "</div>"
      ],
      "text/plain": [
       "   user_id  month  calls_total_month  calls_duration_total_month  \\\n",
       "0     1000      5               22.0                       159.0   \n",
       "1     1000      6               43.0                       172.0   \n",
       "2     1000      7               47.0                       340.0   \n",
       "3     1000      8               52.0                       408.0   \n",
       "4     1000      9               58.0                       466.0   \n",
       "5     1000     10               57.0                       350.0   \n",
       "6     1000     11               43.0                       338.0   \n",
       "7     1000     12               46.0                       333.0   \n",
       "8     1001     11               59.0                       430.0   \n",
       "9     1001     12               63.0                       414.0   \n",
       "\n",
       "   gb_used_total_month  messages_sent_total_month  age churn_date       city  \\\n",
       "0                  4.0                       22.0   52        NaT  Краснодар   \n",
       "1                 49.0                       60.0   52        NaT  Краснодар   \n",
       "2                 28.0                       75.0   52        NaT  Краснодар   \n",
       "3                 27.0                       81.0   52        NaT  Краснодар   \n",
       "4                 26.0                       57.0   52        NaT  Краснодар   \n",
       "5                 28.0                       73.0   52        NaT  Краснодар   \n",
       "6                 27.0                       58.0   52        NaT  Краснодар   \n",
       "7                 19.0                       70.0   52        NaT  Краснодар   \n",
       "8                 47.0                        NaN   41        NaT     Москва   \n",
       "9                 35.0                        NaN   41        NaT     Москва   \n",
       "\n",
       "  first_name  last_name   reg_date tariff  messages_included  \\\n",
       "0     Рафаил  Верещагин 2018-05-25  ultra               1000   \n",
       "1     Рафаил  Верещагин 2018-05-25  ultra               1000   \n",
       "2     Рафаил  Верещагин 2018-05-25  ultra               1000   \n",
       "3     Рафаил  Верещагин 2018-05-25  ultra               1000   \n",
       "4     Рафаил  Верещагин 2018-05-25  ultra               1000   \n",
       "5     Рафаил  Верещагин 2018-05-25  ultra               1000   \n",
       "6     Рафаил  Верещагин 2018-05-25  ultra               1000   \n",
       "7     Рафаил  Верещагин 2018-05-25  ultra               1000   \n",
       "8       Иван       Ежов 2018-11-01  smart                 50   \n",
       "9       Иван       Ежов 2018-11-01  smart                 50   \n",
       "\n",
       "   gb_per_month_included  minutes_included  rub_monthly_fee  rub_per_gb  \\\n",
       "0                   30.0              3000             1950         150   \n",
       "1                   30.0              3000             1950         150   \n",
       "2                   30.0              3000             1950         150   \n",
       "3                   30.0              3000             1950         150   \n",
       "4                   30.0              3000             1950         150   \n",
       "5                   30.0              3000             1950         150   \n",
       "6                   30.0              3000             1950         150   \n",
       "7                   30.0              3000             1950         150   \n",
       "8                   15.0               500              550         200   \n",
       "9                   15.0               500              550         200   \n",
       "\n",
       "   rub_per_message  rub_per_minute  \n",
       "0                1               1  \n",
       "1                1               1  \n",
       "2                1               1  \n",
       "3                1               1  \n",
       "4                1               1  \n",
       "5                1               1  \n",
       "6                1               1  \n",
       "7                1               1  \n",
       "8                3               3  \n",
       "9                3               3  "
      ]
     },
     "execution_count": 28,
     "metadata": {},
     "output_type": "execute_result"
    }
   ],
   "source": [
    "# добавление параметров тарифа, нужны значения tariff из датасета df\n",
    "df = df.merge(tariffs, on=['tariff'], how='left')\n",
    "df.head(10)"
   ]
  },
  {
   "cell_type": "code",
   "execution_count": 29,
   "metadata": {},
   "outputs": [
    {
     "name": "stdout",
     "output_type": "stream",
     "text": [
      "<class 'pandas.core.frame.DataFrame'>\n",
      "Int64Index: 3214 entries, 0 to 3213\n",
      "Data columns (total 20 columns):\n",
      " #   Column                      Non-Null Count  Dtype         \n",
      "---  ------                      --------------  -----         \n",
      " 0   user_id                     3214 non-null   int64         \n",
      " 1   month                       3214 non-null   int64         \n",
      " 2   calls_total_month           3174 non-null   float64       \n",
      " 3   calls_duration_total_month  3174 non-null   float64       \n",
      " 4   gb_used_total_month         3203 non-null   float64       \n",
      " 5   messages_sent_total_month   2717 non-null   float64       \n",
      " 6   age                         3214 non-null   int64         \n",
      " 7   churn_date                  187 non-null    datetime64[ns]\n",
      " 8   city                        3214 non-null   object        \n",
      " 9   first_name                  3214 non-null   object        \n",
      " 10  last_name                   3214 non-null   object        \n",
      " 11  reg_date                    3214 non-null   datetime64[ns]\n",
      " 12  tariff                      3214 non-null   object        \n",
      " 13  messages_included           3214 non-null   int64         \n",
      " 14  gb_per_month_included       3214 non-null   float64       \n",
      " 15  minutes_included            3214 non-null   int64         \n",
      " 16  rub_monthly_fee             3214 non-null   int64         \n",
      " 17  rub_per_gb                  3214 non-null   int64         \n",
      " 18  rub_per_message             3214 non-null   int64         \n",
      " 19  rub_per_minute              3214 non-null   int64         \n",
      "dtypes: datetime64[ns](2), float64(5), int64(9), object(4)\n",
      "memory usage: 527.3+ KB\n"
     ]
    }
   ],
   "source": [
    "# информация об обновленном датасете, после объединений\n",
    "df.info()"
   ]
  },
  {
   "cell_type": "markdown",
   "metadata": {},
   "source": [
    "Объединенный общий датасет с учетом всех 5 вводных получили. Обнаружились пропуски в некоторых столбцах, посмотрим детальнее."
   ]
  },
  {
   "cell_type": "code",
   "execution_count": 30,
   "metadata": {},
   "outputs": [
    {
     "data": {
      "text/plain": [
       "churn_date                    3027\n",
       "messages_sent_total_month      497\n",
       "calls_total_month               40\n",
       "calls_duration_total_month      40\n",
       "gb_used_total_month             11\n",
       "user_id                          0\n",
       "messages_included                0\n",
       "rub_per_message                  0\n",
       "rub_per_gb                       0\n",
       "rub_monthly_fee                  0\n",
       "minutes_included                 0\n",
       "gb_per_month_included            0\n",
       "last_name                        0\n",
       "tariff                           0\n",
       "reg_date                         0\n",
       "month                            0\n",
       "first_name                       0\n",
       "city                             0\n",
       "age                              0\n",
       "rub_per_minute                   0\n",
       "dtype: int64"
      ]
     },
     "execution_count": 30,
     "metadata": {},
     "output_type": "execute_result"
    }
   ],
   "source": [
    "# просмотр количества пропусков в новом датасете\n",
    "df.isna().sum().sort_values(ascending=False)"
   ]
  },
  {
   "cell_type": "markdown",
   "metadata": {},
   "source": [
    "Пропуски в `churn_date` были в данных изначально и не заполнены сознательно - на них не обращаем внимание.\n",
    "\n",
    "Пропуски обнаружены в новых столбцах, а именно в количестве использованных минут, трафика и сообщений. Могу предположить, что пропуски возникли при подсчете статистики - пользователи в некоторые месяцы не использовали какие-либо из опций тарифов. Удалять данные с пропусками смысла нет.\n",
    "\n",
    "По этому предположению заполним пропуски в `messages_sent_total_month`, `calls_total_month`, `calls_duration_total_month`, `mb_used_total_month` нулями."
   ]
  },
  {
   "cell_type": "code",
   "execution_count": 31,
   "metadata": {},
   "outputs": [
    {
     "name": "stdout",
     "output_type": "stream",
     "text": [
      "<class 'pandas.core.frame.DataFrame'>\n",
      "Int64Index: 3214 entries, 0 to 3213\n",
      "Data columns (total 20 columns):\n",
      " #   Column                      Non-Null Count  Dtype         \n",
      "---  ------                      --------------  -----         \n",
      " 0   user_id                     3214 non-null   int64         \n",
      " 1   month                       3214 non-null   int64         \n",
      " 2   calls_total_month           3214 non-null   float64       \n",
      " 3   calls_duration_total_month  3214 non-null   float64       \n",
      " 4   gb_used_total_month         3214 non-null   float64       \n",
      " 5   messages_sent_total_month   3214 non-null   float64       \n",
      " 6   age                         3214 non-null   int64         \n",
      " 7   churn_date                  187 non-null    datetime64[ns]\n",
      " 8   city                        3214 non-null   object        \n",
      " 9   first_name                  3214 non-null   object        \n",
      " 10  last_name                   3214 non-null   object        \n",
      " 11  reg_date                    3214 non-null   datetime64[ns]\n",
      " 12  tariff                      3214 non-null   object        \n",
      " 13  messages_included           3214 non-null   int64         \n",
      " 14  gb_per_month_included       3214 non-null   float64       \n",
      " 15  minutes_included            3214 non-null   int64         \n",
      " 16  rub_monthly_fee             3214 non-null   int64         \n",
      " 17  rub_per_gb                  3214 non-null   int64         \n",
      " 18  rub_per_message             3214 non-null   int64         \n",
      " 19  rub_per_minute              3214 non-null   int64         \n",
      "dtypes: datetime64[ns](2), float64(5), int64(9), object(4)\n",
      "memory usage: 527.3+ KB\n"
     ]
    }
   ],
   "source": [
    "# заполнение пропусков в полном датасете\n",
    "df['messages_sent_total_month'] = df['messages_sent_total_month'].fillna(0)\n",
    "df['calls_total_month'] = df['calls_total_month'].fillna(0)\n",
    "df['calls_duration_total_month'] = df['calls_duration_total_month'].fillna(0)\n",
    "df['gb_used_total_month'] = df['gb_used_total_month'].fillna(0)\n",
    "df.info()"
   ]
  },
  {
   "cell_type": "markdown",
   "metadata": {},
   "source": [
    "На всякий случай, еще раз проверим и на наличие дубликатов."
   ]
  },
  {
   "cell_type": "code",
   "execution_count": 32,
   "metadata": {},
   "outputs": [
    {
     "data": {
      "text/plain": [
       "0"
      ]
     },
     "execution_count": 32,
     "metadata": {},
     "output_type": "execute_result"
    }
   ],
   "source": [
    "# проверка полного датасета на наличие дубликатов\n",
    "df.duplicated().sum()"
   ]
  },
  {
   "cell_type": "markdown",
   "metadata": {},
   "source": [
    "Пропуски в уместных столбцах заполнены, дубликаты в полных данных отсутствуют.\n",
    "\n",
    "Можно приступать к расчету помесячной выручки. Оплата клиента состоит из 2-х статей:\n",
    "- Базовая ежемесячная плата за тариф (`rub_monthly_fee`)\n",
    "- Дополнительная оплата опций сверх тарифа, в случае превышения базового лимита (расчет по столбцам `rub_per_gb`, `rub_per_message`, `rub_per_minute`)\n",
    "\n",
    "Добавим новый столбец с подсчетом выручки сверх базового тарифа. Базовая плата уже есть, округление минут и гигабайт произведено. Данные по общей выручке с клиента получим путем сложения столбцов."
   ]
  },
  {
   "cell_type": "code",
   "execution_count": 33,
   "metadata": {},
   "outputs": [],
   "source": [
    "# функция для расчета выручки сверх базовой платы, пойдем по каждой строке\n",
    "def paid_above_tariff(row):\n",
    "    gbs = (row['gb_used_total_month'] - row['gb_per_month_included']) * row['rub_per_gb']\n",
    "    messages = (row['messages_sent_total_month'] - row['messages_included']) * row['rub_per_message']\n",
    "    minutes = (row['calls_duration_total_month'] - row['minutes_included']) * row['rub_per_minute']\n",
    "    \n",
    "    total = 0\n",
    "    for i in [gbs, messages, minutes]:\n",
    "        if i > 0:\n",
    "            total += i\n",
    "            \n",
    "    return total"
   ]
  },
  {
   "cell_type": "code",
   "execution_count": 34,
   "metadata": {},
   "outputs": [
    {
     "data": {
      "text/html": [
       "<div>\n",
       "<style scoped>\n",
       "    .dataframe tbody tr th:only-of-type {\n",
       "        vertical-align: middle;\n",
       "    }\n",
       "\n",
       "    .dataframe tbody tr th {\n",
       "        vertical-align: top;\n",
       "    }\n",
       "\n",
       "    .dataframe thead th {\n",
       "        text-align: right;\n",
       "    }\n",
       "</style>\n",
       "<table border=\"1\" class=\"dataframe\">\n",
       "  <thead>\n",
       "    <tr style=\"text-align: right;\">\n",
       "      <th></th>\n",
       "      <th>user_id</th>\n",
       "      <th>month</th>\n",
       "      <th>calls_total_month</th>\n",
       "      <th>calls_duration_total_month</th>\n",
       "      <th>gb_used_total_month</th>\n",
       "      <th>messages_sent_total_month</th>\n",
       "      <th>age</th>\n",
       "      <th>churn_date</th>\n",
       "      <th>city</th>\n",
       "      <th>first_name</th>\n",
       "      <th>...</th>\n",
       "      <th>reg_date</th>\n",
       "      <th>tariff</th>\n",
       "      <th>messages_included</th>\n",
       "      <th>gb_per_month_included</th>\n",
       "      <th>minutes_included</th>\n",
       "      <th>rub_monthly_fee</th>\n",
       "      <th>rub_per_gb</th>\n",
       "      <th>rub_per_message</th>\n",
       "      <th>rub_per_minute</th>\n",
       "      <th>paid_above_tariff</th>\n",
       "    </tr>\n",
       "  </thead>\n",
       "  <tbody>\n",
       "    <tr>\n",
       "      <th>0</th>\n",
       "      <td>1000</td>\n",
       "      <td>5</td>\n",
       "      <td>22.0</td>\n",
       "      <td>159.0</td>\n",
       "      <td>4.0</td>\n",
       "      <td>22.0</td>\n",
       "      <td>52</td>\n",
       "      <td>NaT</td>\n",
       "      <td>Краснодар</td>\n",
       "      <td>Рафаил</td>\n",
       "      <td>...</td>\n",
       "      <td>2018-05-25</td>\n",
       "      <td>ultra</td>\n",
       "      <td>1000</td>\n",
       "      <td>30.0</td>\n",
       "      <td>3000</td>\n",
       "      <td>1950</td>\n",
       "      <td>150</td>\n",
       "      <td>1</td>\n",
       "      <td>1</td>\n",
       "      <td>0.0</td>\n",
       "    </tr>\n",
       "    <tr>\n",
       "      <th>1</th>\n",
       "      <td>1000</td>\n",
       "      <td>6</td>\n",
       "      <td>43.0</td>\n",
       "      <td>172.0</td>\n",
       "      <td>49.0</td>\n",
       "      <td>60.0</td>\n",
       "      <td>52</td>\n",
       "      <td>NaT</td>\n",
       "      <td>Краснодар</td>\n",
       "      <td>Рафаил</td>\n",
       "      <td>...</td>\n",
       "      <td>2018-05-25</td>\n",
       "      <td>ultra</td>\n",
       "      <td>1000</td>\n",
       "      <td>30.0</td>\n",
       "      <td>3000</td>\n",
       "      <td>1950</td>\n",
       "      <td>150</td>\n",
       "      <td>1</td>\n",
       "      <td>1</td>\n",
       "      <td>2850.0</td>\n",
       "    </tr>\n",
       "    <tr>\n",
       "      <th>2</th>\n",
       "      <td>1000</td>\n",
       "      <td>7</td>\n",
       "      <td>47.0</td>\n",
       "      <td>340.0</td>\n",
       "      <td>28.0</td>\n",
       "      <td>75.0</td>\n",
       "      <td>52</td>\n",
       "      <td>NaT</td>\n",
       "      <td>Краснодар</td>\n",
       "      <td>Рафаил</td>\n",
       "      <td>...</td>\n",
       "      <td>2018-05-25</td>\n",
       "      <td>ultra</td>\n",
       "      <td>1000</td>\n",
       "      <td>30.0</td>\n",
       "      <td>3000</td>\n",
       "      <td>1950</td>\n",
       "      <td>150</td>\n",
       "      <td>1</td>\n",
       "      <td>1</td>\n",
       "      <td>0.0</td>\n",
       "    </tr>\n",
       "    <tr>\n",
       "      <th>3</th>\n",
       "      <td>1000</td>\n",
       "      <td>8</td>\n",
       "      <td>52.0</td>\n",
       "      <td>408.0</td>\n",
       "      <td>27.0</td>\n",
       "      <td>81.0</td>\n",
       "      <td>52</td>\n",
       "      <td>NaT</td>\n",
       "      <td>Краснодар</td>\n",
       "      <td>Рафаил</td>\n",
       "      <td>...</td>\n",
       "      <td>2018-05-25</td>\n",
       "      <td>ultra</td>\n",
       "      <td>1000</td>\n",
       "      <td>30.0</td>\n",
       "      <td>3000</td>\n",
       "      <td>1950</td>\n",
       "      <td>150</td>\n",
       "      <td>1</td>\n",
       "      <td>1</td>\n",
       "      <td>0.0</td>\n",
       "    </tr>\n",
       "    <tr>\n",
       "      <th>4</th>\n",
       "      <td>1000</td>\n",
       "      <td>9</td>\n",
       "      <td>58.0</td>\n",
       "      <td>466.0</td>\n",
       "      <td>26.0</td>\n",
       "      <td>57.0</td>\n",
       "      <td>52</td>\n",
       "      <td>NaT</td>\n",
       "      <td>Краснодар</td>\n",
       "      <td>Рафаил</td>\n",
       "      <td>...</td>\n",
       "      <td>2018-05-25</td>\n",
       "      <td>ultra</td>\n",
       "      <td>1000</td>\n",
       "      <td>30.0</td>\n",
       "      <td>3000</td>\n",
       "      <td>1950</td>\n",
       "      <td>150</td>\n",
       "      <td>1</td>\n",
       "      <td>1</td>\n",
       "      <td>0.0</td>\n",
       "    </tr>\n",
       "    <tr>\n",
       "      <th>5</th>\n",
       "      <td>1000</td>\n",
       "      <td>10</td>\n",
       "      <td>57.0</td>\n",
       "      <td>350.0</td>\n",
       "      <td>28.0</td>\n",
       "      <td>73.0</td>\n",
       "      <td>52</td>\n",
       "      <td>NaT</td>\n",
       "      <td>Краснодар</td>\n",
       "      <td>Рафаил</td>\n",
       "      <td>...</td>\n",
       "      <td>2018-05-25</td>\n",
       "      <td>ultra</td>\n",
       "      <td>1000</td>\n",
       "      <td>30.0</td>\n",
       "      <td>3000</td>\n",
       "      <td>1950</td>\n",
       "      <td>150</td>\n",
       "      <td>1</td>\n",
       "      <td>1</td>\n",
       "      <td>0.0</td>\n",
       "    </tr>\n",
       "    <tr>\n",
       "      <th>6</th>\n",
       "      <td>1000</td>\n",
       "      <td>11</td>\n",
       "      <td>43.0</td>\n",
       "      <td>338.0</td>\n",
       "      <td>27.0</td>\n",
       "      <td>58.0</td>\n",
       "      <td>52</td>\n",
       "      <td>NaT</td>\n",
       "      <td>Краснодар</td>\n",
       "      <td>Рафаил</td>\n",
       "      <td>...</td>\n",
       "      <td>2018-05-25</td>\n",
       "      <td>ultra</td>\n",
       "      <td>1000</td>\n",
       "      <td>30.0</td>\n",
       "      <td>3000</td>\n",
       "      <td>1950</td>\n",
       "      <td>150</td>\n",
       "      <td>1</td>\n",
       "      <td>1</td>\n",
       "      <td>0.0</td>\n",
       "    </tr>\n",
       "    <tr>\n",
       "      <th>7</th>\n",
       "      <td>1000</td>\n",
       "      <td>12</td>\n",
       "      <td>46.0</td>\n",
       "      <td>333.0</td>\n",
       "      <td>19.0</td>\n",
       "      <td>70.0</td>\n",
       "      <td>52</td>\n",
       "      <td>NaT</td>\n",
       "      <td>Краснодар</td>\n",
       "      <td>Рафаил</td>\n",
       "      <td>...</td>\n",
       "      <td>2018-05-25</td>\n",
       "      <td>ultra</td>\n",
       "      <td>1000</td>\n",
       "      <td>30.0</td>\n",
       "      <td>3000</td>\n",
       "      <td>1950</td>\n",
       "      <td>150</td>\n",
       "      <td>1</td>\n",
       "      <td>1</td>\n",
       "      <td>0.0</td>\n",
       "    </tr>\n",
       "    <tr>\n",
       "      <th>8</th>\n",
       "      <td>1001</td>\n",
       "      <td>11</td>\n",
       "      <td>59.0</td>\n",
       "      <td>430.0</td>\n",
       "      <td>47.0</td>\n",
       "      <td>0.0</td>\n",
       "      <td>41</td>\n",
       "      <td>NaT</td>\n",
       "      <td>Москва</td>\n",
       "      <td>Иван</td>\n",
       "      <td>...</td>\n",
       "      <td>2018-11-01</td>\n",
       "      <td>smart</td>\n",
       "      <td>50</td>\n",
       "      <td>15.0</td>\n",
       "      <td>500</td>\n",
       "      <td>550</td>\n",
       "      <td>200</td>\n",
       "      <td>3</td>\n",
       "      <td>3</td>\n",
       "      <td>6400.0</td>\n",
       "    </tr>\n",
       "    <tr>\n",
       "      <th>9</th>\n",
       "      <td>1001</td>\n",
       "      <td>12</td>\n",
       "      <td>63.0</td>\n",
       "      <td>414.0</td>\n",
       "      <td>35.0</td>\n",
       "      <td>0.0</td>\n",
       "      <td>41</td>\n",
       "      <td>NaT</td>\n",
       "      <td>Москва</td>\n",
       "      <td>Иван</td>\n",
       "      <td>...</td>\n",
       "      <td>2018-11-01</td>\n",
       "      <td>smart</td>\n",
       "      <td>50</td>\n",
       "      <td>15.0</td>\n",
       "      <td>500</td>\n",
       "      <td>550</td>\n",
       "      <td>200</td>\n",
       "      <td>3</td>\n",
       "      <td>3</td>\n",
       "      <td>4000.0</td>\n",
       "    </tr>\n",
       "  </tbody>\n",
       "</table>\n",
       "<p>10 rows × 21 columns</p>\n",
       "</div>"
      ],
      "text/plain": [
       "   user_id  month  calls_total_month  calls_duration_total_month  \\\n",
       "0     1000      5               22.0                       159.0   \n",
       "1     1000      6               43.0                       172.0   \n",
       "2     1000      7               47.0                       340.0   \n",
       "3     1000      8               52.0                       408.0   \n",
       "4     1000      9               58.0                       466.0   \n",
       "5     1000     10               57.0                       350.0   \n",
       "6     1000     11               43.0                       338.0   \n",
       "7     1000     12               46.0                       333.0   \n",
       "8     1001     11               59.0                       430.0   \n",
       "9     1001     12               63.0                       414.0   \n",
       "\n",
       "   gb_used_total_month  messages_sent_total_month  age churn_date       city  \\\n",
       "0                  4.0                       22.0   52        NaT  Краснодар   \n",
       "1                 49.0                       60.0   52        NaT  Краснодар   \n",
       "2                 28.0                       75.0   52        NaT  Краснодар   \n",
       "3                 27.0                       81.0   52        NaT  Краснодар   \n",
       "4                 26.0                       57.0   52        NaT  Краснодар   \n",
       "5                 28.0                       73.0   52        NaT  Краснодар   \n",
       "6                 27.0                       58.0   52        NaT  Краснодар   \n",
       "7                 19.0                       70.0   52        NaT  Краснодар   \n",
       "8                 47.0                        0.0   41        NaT     Москва   \n",
       "9                 35.0                        0.0   41        NaT     Москва   \n",
       "\n",
       "  first_name  ...   reg_date tariff messages_included  gb_per_month_included  \\\n",
       "0     Рафаил  ... 2018-05-25  ultra              1000                   30.0   \n",
       "1     Рафаил  ... 2018-05-25  ultra              1000                   30.0   \n",
       "2     Рафаил  ... 2018-05-25  ultra              1000                   30.0   \n",
       "3     Рафаил  ... 2018-05-25  ultra              1000                   30.0   \n",
       "4     Рафаил  ... 2018-05-25  ultra              1000                   30.0   \n",
       "5     Рафаил  ... 2018-05-25  ultra              1000                   30.0   \n",
       "6     Рафаил  ... 2018-05-25  ultra              1000                   30.0   \n",
       "7     Рафаил  ... 2018-05-25  ultra              1000                   30.0   \n",
       "8       Иван  ... 2018-11-01  smart                50                   15.0   \n",
       "9       Иван  ... 2018-11-01  smart                50                   15.0   \n",
       "\n",
       "   minutes_included  rub_monthly_fee  rub_per_gb  rub_per_message  \\\n",
       "0              3000             1950         150                1   \n",
       "1              3000             1950         150                1   \n",
       "2              3000             1950         150                1   \n",
       "3              3000             1950         150                1   \n",
       "4              3000             1950         150                1   \n",
       "5              3000             1950         150                1   \n",
       "6              3000             1950         150                1   \n",
       "7              3000             1950         150                1   \n",
       "8               500              550         200                3   \n",
       "9               500              550         200                3   \n",
       "\n",
       "   rub_per_minute  paid_above_tariff  \n",
       "0               1                0.0  \n",
       "1               1             2850.0  \n",
       "2               1                0.0  \n",
       "3               1                0.0  \n",
       "4               1                0.0  \n",
       "5               1                0.0  \n",
       "6               1                0.0  \n",
       "7               1                0.0  \n",
       "8               3             6400.0  \n",
       "9               3             4000.0  \n",
       "\n",
       "[10 rows x 21 columns]"
      ]
     },
     "execution_count": 34,
     "metadata": {},
     "output_type": "execute_result"
    }
   ],
   "source": [
    "# добавление нового столбца с суммой оплаты сверх базовой суммы\n",
    "df['paid_above_tariff'] = df.apply(paid_above_tariff, axis=1)\n",
    "df.head(10)"
   ]
  },
  {
   "cell_type": "markdown",
   "metadata": {},
   "source": [
    "Данные по выручке сверх тарифов получили. Теперь получим общую выручку."
   ]
  },
  {
   "cell_type": "code",
   "execution_count": 35,
   "metadata": {},
   "outputs": [
    {
     "name": "stdout",
     "output_type": "stream",
     "text": [
      "<class 'pandas.core.frame.DataFrame'>\n",
      "Int64Index: 3214 entries, 0 to 3213\n",
      "Data columns (total 22 columns):\n",
      " #   Column                      Non-Null Count  Dtype         \n",
      "---  ------                      --------------  -----         \n",
      " 0   user_id                     3214 non-null   int64         \n",
      " 1   month                       3214 non-null   int64         \n",
      " 2   calls_total_month           3214 non-null   float64       \n",
      " 3   calls_duration_total_month  3214 non-null   float64       \n",
      " 4   gb_used_total_month         3214 non-null   float64       \n",
      " 5   messages_sent_total_month   3214 non-null   float64       \n",
      " 6   age                         3214 non-null   int64         \n",
      " 7   churn_date                  187 non-null    datetime64[ns]\n",
      " 8   city                        3214 non-null   object        \n",
      " 9   first_name                  3214 non-null   object        \n",
      " 10  last_name                   3214 non-null   object        \n",
      " 11  reg_date                    3214 non-null   datetime64[ns]\n",
      " 12  tariff                      3214 non-null   object        \n",
      " 13  messages_included           3214 non-null   int64         \n",
      " 14  gb_per_month_included       3214 non-null   float64       \n",
      " 15  minutes_included            3214 non-null   int64         \n",
      " 16  rub_monthly_fee             3214 non-null   int64         \n",
      " 17  rub_per_gb                  3214 non-null   int64         \n",
      " 18  rub_per_message             3214 non-null   int64         \n",
      " 19  rub_per_minute              3214 non-null   int64         \n",
      " 20  paid_above_tariff           3214 non-null   float64       \n",
      " 21  total_paid                  3214 non-null   float64       \n",
      "dtypes: datetime64[ns](2), float64(7), int64(9), object(4)\n",
      "memory usage: 577.5+ KB\n"
     ]
    }
   ],
   "source": [
    "# получение столбца с общей суммой оплаты\n",
    "df['total_paid'] = df['rub_monthly_fee'] + df['paid_above_tariff']\n",
    "\n",
    "# информация об обновленном датасете\n",
    "df.info()"
   ]
  },
  {
   "cell_type": "markdown",
   "metadata": {},
   "source": [
    "**Вывод:** данные подготовлены для анализа, для каждого пользователя рассчитана помесячная статистика использования опций тарифа и получены цифры по выручке. Данные можно использовать для детального анализа и проверки гипотез."
   ]
  },
  {
   "cell_type": "markdown",
   "metadata": {},
   "source": [
    "## Анализ данных. Поведение пользователей"
   ]
  },
  {
   "cell_type": "markdown",
   "metadata": {},
   "source": [
    "В этом разделе ответим на следующие вопросы:\n",
    "- 1) Сколько минут разговора требуется пользователям каждого тарифа в месяц?\n",
    "- 2) Сколько сообщений требуется пользователям каждого тарифа в месяц?\n",
    "- 3) Какой объём интернет-трафика требуется пользователям каждого тарифа в месяц?\n",
    "\n",
    "Для каждого параметра построим гистограммы, опишем распределения и рассчитаем статистические параметры: среднее, дисперсия и стандартное отклонение."
   ]
  },
  {
   "cell_type": "code",
   "execution_count": 36,
   "metadata": {},
   "outputs": [],
   "source": [
    "# функция для построения гистограмм\n",
    "def tariff_option_plot(option, tariff_name):\n",
    "    \n",
    "    title_dict = {'calls_duration_total_month':'Минуты разговора в месяц',\n",
    "                 'gb_used_total_month':'Использование Гб трафика в месяц',\n",
    "                 'messages_sent_total_month':'Отправка сообщей в месяц',\n",
    "                 }\n",
    "    tariff_dict = {'ultra':'тариф Ультра',\n",
    "                  'smart':'тариф Смарт',\n",
    "                  }\n",
    "    \n",
    "    plot = df[df['tariff'] == tariff_name][option].plot(title = title_dict[option] + ', ' + tariff_dict[tariff_name],\n",
    "                                                        kind = 'hist',\n",
    "                                                        bins = 10,\n",
    "                                                        grid = True,\n",
    "                                                       )\n",
    "    return plot"
   ]
  },
  {
   "cell_type": "code",
   "execution_count": 37,
   "metadata": {},
   "outputs": [],
   "source": [
    "# функция для построения таблиц со статистическими параметрами\n",
    "def stat_table(option):\n",
    "    table = (df.groupby('tariff')\n",
    "               .agg({option: ['mean', 'median', 'var', 'std']})\n",
    "               .style.format('{:.2f}')\n",
    "            )\n",
    "    return table"
   ]
  },
  {
   "cell_type": "markdown",
   "metadata": {},
   "source": [
    "### Анализ потраченных минут разговора"
   ]
  },
  {
   "cell_type": "code",
   "execution_count": 38,
   "metadata": {},
   "outputs": [
    {
     "data": {
      "text/plain": [
       "<AxesSubplot:title={'center':'Минуты разговора в месяц, тариф Смарт'}, ylabel='Frequency'>"
      ]
     },
     "execution_count": 38,
     "metadata": {},
     "output_type": "execute_result"
    },
    {
     "data": {
      "image/png": "[encoded data removed]",
      "text/plain": [
       "<Figure size 432x288 with 1 Axes>"
      ]
     },
     "metadata": {
      "needs_background": "light"
     },
     "output_type": "display_data"
    }
   ],
   "source": [
    "# гистограмма по минутам разговора, тариф Смарт\n",
    "tariff_option_plot('calls_duration_total_month', 'smart')"
   ]
  },
  {
   "cell_type": "code",
   "execution_count": 39,
   "metadata": {},
   "outputs": [
    {
     "data": {
      "text/plain": [
       "<AxesSubplot:title={'center':'Минуты разговора в месяц, тариф Ультра'}, ylabel='Frequency'>"
      ]
     },
     "execution_count": 39,
     "metadata": {},
     "output_type": "execute_result"
    },
    {
     "data": {
      "image/png": "[encoded data removed]",
      "text/plain": [
       "<Figure size 432x288 with 1 Axes>"
      ]
     },
     "metadata": {
      "needs_background": "light"
     },
     "output_type": "display_data"
    }
   ],
   "source": [
    "# гистограмма по минутам разговора, тариф Ультра\n",
    "tariff_option_plot('calls_duration_total_month', 'ultra')"
   ]
  },
  {
   "cell_type": "code",
   "execution_count": 40,
   "metadata": {},
   "outputs": [
    {
     "data": {
      "text/html": [
       "<style  type=\"text/css\" >\n",
       "</style><table id=\"T_9665a_\" ><thead>    <tr>        <th class=\"blank level0\" ></th>        <th class=\"col_heading level0 col0\" colspan=\"4\">calls_duration_total_month</th>    </tr>    <tr>        <th class=\"blank level1\" ></th>        <th class=\"col_heading level1 col0\" >mean</th>        <th class=\"col_heading level1 col1\" >median</th>        <th class=\"col_heading level1 col2\" >var</th>        <th class=\"col_heading level1 col3\" >std</th>    </tr>    <tr>        <th class=\"index_name level0\" >tariff</th>        <th class=\"blank\" ></th>        <th class=\"blank\" ></th>        <th class=\"blank\" ></th>        <th class=\"blank\" ></th>    </tr></thead><tbody>\n",
       "                <tr>\n",
       "                        <th id=\"T_9665a_level0_row0\" class=\"row_heading level0 row0\" >smart</th>\n",
       "                        <td id=\"T_9665a_row0_col0\" class=\"data row0 col0\" >417.93</td>\n",
       "                        <td id=\"T_9665a_row0_col1\" class=\"data row0 col1\" >422.00</td>\n",
       "                        <td id=\"T_9665a_row0_col2\" class=\"data row0 col2\" >36219.32</td>\n",
       "                        <td id=\"T_9665a_row0_col3\" class=\"data row0 col3\" >190.31</td>\n",
       "            </tr>\n",
       "            <tr>\n",
       "                        <th id=\"T_9665a_level0_row1\" class=\"row_heading level0 row1\" >ultra</th>\n",
       "                        <td id=\"T_9665a_row1_col0\" class=\"data row1 col0\" >526.62</td>\n",
       "                        <td id=\"T_9665a_row1_col1\" class=\"data row1 col1\" >518.00</td>\n",
       "                        <td id=\"T_9665a_row1_col2\" class=\"data row1 col2\" >100873.63</td>\n",
       "                        <td id=\"T_9665a_row1_col3\" class=\"data row1 col3\" >317.61</td>\n",
       "            </tr>\n",
       "    </tbody></table>"
      ],
      "text/plain": [
       "<pandas.io.formats.style.Styler at 0x143d8d8b0>"
      ]
     },
     "execution_count": 40,
     "metadata": {},
     "output_type": "execute_result"
    }
   ],
   "source": [
    "# статистические параметры по минутам разговора\n",
    "stat_table('calls_duration_total_month')"
   ]
  },
  {
   "cell_type": "markdown",
   "metadata": {},
   "source": [
    "Пользователи тарифа Смарт в основном говорят в пределах лимита в 500 минут, и чаще всего не переплачивают за разговоры (часть переплачивающих все же есть, и примечательно что такие случаи есть при 1400 минутах - в 3 раза). В то же время пользователи тарифа Ультра используют чуть больше 500 минут при лимите в 3000 минут - запас по разговорам огромны. Возможно, для них более важны Гб трафика или сообщения - смотрим дальше.\n",
    "\n",
    "Распределения в целом по обоим тарифам похожи, немного скошены влево."
   ]
  },
  {
   "cell_type": "markdown",
   "metadata": {},
   "source": [
    "### Анализ использованного интернет-трафика"
   ]
  },
  {
   "cell_type": "code",
   "execution_count": 41,
   "metadata": {},
   "outputs": [
    {
     "data": {
      "text/plain": [
       "<AxesSubplot:title={'center':'Использование Гб трафика в месяц, тариф Смарт'}, ylabel='Frequency'>"
      ]
     },
     "execution_count": 41,
     "metadata": {},
     "output_type": "execute_result"
    },
    {
     "data": {
      "image/png": "[encoded data removed]",
      "text/plain": [
       "<Figure size 432x288 with 1 Axes>"
      ]
     },
     "metadata": {
      "needs_background": "light"
     },
     "output_type": "display_data"
    }
   ],
   "source": [
    "# гистограмма по использованию трафика в Гб, тариф Смарт\n",
    "tariff_option_plot('gb_used_total_month', 'smart')"
   ]
  },
  {
   "cell_type": "code",
   "execution_count": 42,
   "metadata": {},
   "outputs": [
    {
     "data": {
      "text/plain": [
       "<AxesSubplot:title={'center':'Использование Гб трафика в месяц, тариф Ультра'}, ylabel='Frequency'>"
      ]
     },
     "execution_count": 42,
     "metadata": {},
     "output_type": "execute_result"
    },
    {
     "data": {
      "image/png": "[encoded data removed]",
      "text/plain": [
       "<Figure size 432x288 with 1 Axes>"
      ]
     },
     "metadata": {
      "needs_background": "light"
     },
     "output_type": "display_data"
    }
   ],
   "source": [
    "# гистограмма по использованию трафика в Гб, тариф Ультра\n",
    "tariff_option_plot('gb_used_total_month', 'ultra')"
   ]
  },
  {
   "cell_type": "code",
   "execution_count": 43,
   "metadata": {},
   "outputs": [
    {
     "data": {
      "text/html": [
       "<style  type=\"text/css\" >\n",
       "</style><table id=\"T_87007_\" ><thead>    <tr>        <th class=\"blank level0\" ></th>        <th class=\"col_heading level0 col0\" colspan=\"4\">gb_used_total_month</th>    </tr>    <tr>        <th class=\"blank level1\" ></th>        <th class=\"col_heading level1 col0\" >mean</th>        <th class=\"col_heading level1 col1\" >median</th>        <th class=\"col_heading level1 col2\" >var</th>        <th class=\"col_heading level1 col3\" >std</th>    </tr>    <tr>        <th class=\"index_name level0\" >tariff</th>        <th class=\"blank\" ></th>        <th class=\"blank\" ></th>        <th class=\"blank\" ></th>        <th class=\"blank\" ></th>    </tr></thead><tbody>\n",
       "                <tr>\n",
       "                        <th id=\"T_87007_level0_row0\" class=\"row_heading level0 row0\" >smart</th>\n",
       "                        <td id=\"T_87007_row0_col0\" class=\"data row0 col0\" >42.42</td>\n",
       "                        <td id=\"T_87007_row0_col1\" class=\"data row0 col1\" >43.00</td>\n",
       "                        <td id=\"T_87007_row0_col2\" class=\"data row0 col2\" >223.30</td>\n",
       "                        <td id=\"T_87007_row0_col3\" class=\"data row0 col3\" >14.94</td>\n",
       "            </tr>\n",
       "            <tr>\n",
       "                        <th id=\"T_87007_level0_row1\" class=\"row_heading level0 row1\" >ultra</th>\n",
       "                        <td id=\"T_87007_row1_col0\" class=\"data row1 col0\" >38.16</td>\n",
       "                        <td id=\"T_87007_row1_col1\" class=\"data row1 col1\" >38.00</td>\n",
       "                        <td id=\"T_87007_row1_col2\" class=\"data row1 col2\" >382.78</td>\n",
       "                        <td id=\"T_87007_row1_col3\" class=\"data row1 col3\" >19.56</td>\n",
       "            </tr>\n",
       "    </tbody></table>"
      ],
      "text/plain": [
       "<pandas.io.formats.style.Styler at 0x144568850>"
      ]
     },
     "execution_count": 43,
     "metadata": {},
     "output_type": "execute_result"
    }
   ],
   "source": [
    "# статистические параметры по использованию трафика\n",
    "stat_table('gb_used_total_month')"
   ]
  },
  {
   "cell_type": "markdown",
   "metadata": {},
   "source": [
    "Пользователи обоих тарифов чаще всего выходят за пределы лимитов трафика (15 Гб для Смарт и 30 Гб для Ультра) и переплачивают за трафик сверх лимитов. Медианы и средние лежат рядом, но пользователи Смарт чаще выходят за пределы лимитов, тк он в 2 раза меньше, чем у Ультра.\n",
    "\n",
    "Распределения похожи на нормальные, имеют медиану посередине и среднее не сильно отличается.\n",
    "\n",
    "Возможно, бизнесу стоит подумать о том, чтобы расширить лимиты трафика, дать безлимит на основные потребители трафика (обычно это соцсети) или дать возможность конвертировать неиспользвоанные минуты в Гб трафика. Если на рынке появится конкурентный тариф  безлимитом на определенную категорию и лимитом свободного трафика, то \"Мегалайн\" может начать терять пользователей ввиду злой политики округления (1 Мб иногда приравнивается к 1 Гб - не совсем справедливо).\n",
    "\n",
    "*Оффтоп:* например, в реальном мире у того же Мегафона есть тариф в коллабе с Вилсой с полным безлимитом на соцсети и Ютуб + 25 Гб трафика куда угодно, и не более чем за 600 руб. в месяц. При этом неиспользованный трафик переходит на следующий месяц - 2 месяца можно тратить, например, по 10 Гб, а на 3-ий хоть все 55 Гб. Я бы на Мегалайн даже не посмотрел при таком варианте."
   ]
  },
  {
   "cell_type": "markdown",
   "metadata": {},
   "source": [
    "### Анализ отправленных SMS-сообщений"
   ]
  },
  {
   "cell_type": "code",
   "execution_count": 44,
   "metadata": {},
   "outputs": [
    {
     "data": {
      "text/plain": [
       "<AxesSubplot:title={'center':'Отправка сообщей в месяц, тариф Смарт'}, ylabel='Frequency'>"
      ]
     },
     "execution_count": 44,
     "metadata": {},
     "output_type": "execute_result"
    },
    {
     "data": {
      "image/png": "[encoded data removed]",
      "text/plain": [
       "<Figure size 432x288 with 1 Axes>"
      ]
     },
     "metadata": {
      "needs_background": "light"
     },
     "output_type": "display_data"
    }
   ],
   "source": [
    "# гистограмма по отправке сообщений, тариф Смарт\n",
    "tariff_option_plot('messages_sent_total_month', 'smart')"
   ]
  },
  {
   "cell_type": "code",
   "execution_count": 45,
   "metadata": {},
   "outputs": [
    {
     "data": {
      "text/plain": [
       "<AxesSubplot:title={'center':'Отправка сообщей в месяц, тариф Ультра'}, ylabel='Frequency'>"
      ]
     },
     "execution_count": 45,
     "metadata": {},
     "output_type": "execute_result"
    },
    {
     "data": {
      "image/png": "[encoded data removed]",
      "text/plain": [
       "<Figure size 432x288 with 1 Axes>"
      ]
     },
     "metadata": {
      "needs_background": "light"
     },
     "output_type": "display_data"
    }
   ],
   "source": [
    "# гистограмма по отправке сообщений, тариф Ультра\n",
    "tariff_option_plot('messages_sent_total_month', 'ultra')"
   ]
  },
  {
   "cell_type": "code",
   "execution_count": 46,
   "metadata": {},
   "outputs": [
    {
     "data": {
      "text/html": [
       "<style  type=\"text/css\" >\n",
       "</style><table id=\"T_cd66b_\" ><thead>    <tr>        <th class=\"blank level0\" ></th>        <th class=\"col_heading level0 col0\" colspan=\"4\">messages_sent_total_month</th>    </tr>    <tr>        <th class=\"blank level1\" ></th>        <th class=\"col_heading level1 col0\" >mean</th>        <th class=\"col_heading level1 col1\" >median</th>        <th class=\"col_heading level1 col2\" >var</th>        <th class=\"col_heading level1 col3\" >std</th>    </tr>    <tr>        <th class=\"index_name level0\" >tariff</th>        <th class=\"blank\" ></th>        <th class=\"blank\" ></th>        <th class=\"blank\" ></th>        <th class=\"blank\" ></th>    </tr></thead><tbody>\n",
       "                <tr>\n",
       "                        <th id=\"T_cd66b_level0_row0\" class=\"row_heading level0 row0\" >smart</th>\n",
       "                        <td id=\"T_cd66b_row0_col0\" class=\"data row0 col0\" >33.38</td>\n",
       "                        <td id=\"T_cd66b_row0_col1\" class=\"data row0 col1\" >28.00</td>\n",
       "                        <td id=\"T_cd66b_row0_col2\" class=\"data row0 col2\" >796.81</td>\n",
       "                        <td id=\"T_cd66b_row0_col3\" class=\"data row0 col3\" >28.23</td>\n",
       "            </tr>\n",
       "            <tr>\n",
       "                        <th id=\"T_cd66b_level0_row1\" class=\"row_heading level0 row1\" >ultra</th>\n",
       "                        <td id=\"T_cd66b_row1_col0\" class=\"data row1 col0\" >49.36</td>\n",
       "                        <td id=\"T_cd66b_row1_col1\" class=\"data row1 col1\" >38.00</td>\n",
       "                        <td id=\"T_cd66b_row1_col2\" class=\"data row1 col2\" >2285.27</td>\n",
       "                        <td id=\"T_cd66b_row1_col3\" class=\"data row1 col3\" >47.80</td>\n",
       "            </tr>\n",
       "    </tbody></table>"
      ],
      "text/plain": [
       "<pandas.io.formats.style.Styler at 0x1446bfd90>"
      ]
     },
     "execution_count": 46,
     "metadata": {},
     "output_type": "execute_result"
    }
   ],
   "source": [
    "# статистические параметры по отправке сообщений\n",
    "stat_table('messages_sent_total_month')"
   ]
  },
  {
   "cell_type": "markdown",
   "metadata": {},
   "source": [
    "В случае сообщений, пользователи тарифа Ультра за сообщения не переплачивают (лимит 1000 сообщений). Пользователи Смарта иногда выходят за пределы лимита и переплачивают, но и отправляют их чаще. В обоих тарифах довольно много пользователей, кто отправляет их совсем редко или не отправляет совсем.\n",
    "\n",
    "Распределения похожи, в обоих случаях скошены влево."
   ]
  },
  {
   "cell_type": "markdown",
   "metadata": {},
   "source": [
    "**Выводы по разделу:**\n",
    "- 1) По минутам разговора, пользователи обоих тарифов чаще всего не переплачивают за минуты разговора. В случае тарифа Ультра, стоит переконфигурировать тариф в части уменьшения минут разговора и увеличения лимитов трафика.\n",
    "- 2) По использованию трафика, пользователи обоих тарифов часто выходят за пределы лимитов - стоит подумать об изменении лимитов и убрать злую политику округления - это не совсем справедливо.\n",
    "- 3) По отправке сообщений, пользователи обоих тарифов чаще всего не переплачивают за них. Много пользователей, кто пользуется ими редко или не пользуется совсем - это связано с тем, что львиная доля населения сейчас общается в мессенджерах, которые потребляют трафик. Отсюда и выходит высокое потребеление трафика. Бизнесу стоит подробнее изучить использование трафика, и если действительно бОльшая часть трафика уходит на мессенджеры - уменьшить лимит по сообщениям, особенно на тарифе Ультра."
   ]
  },
  {
   "cell_type": "markdown",
   "metadata": {},
   "source": [
    "## Проверка гипотез"
   ]
  },
  {
   "cell_type": "markdown",
   "metadata": {},
   "source": [
    "### Удаление выбросов"
   ]
  },
  {
   "cell_type": "markdown",
   "metadata": {},
   "source": [
    "Так как выборки данных из предыдущего раздела независимы между собой, будем использовать для теста t-критерий Стьюдента. Этот критерий является довольно чувствительным к выбросам в данных, поэтому перед проверкой гипотез будем отдельно выделять срезы из df и удалять выбросы."
   ]
  },
  {
   "cell_type": "markdown",
   "metadata": {},
   "source": [
    "**Гипотеза №1:**\n",
    "\n",
    "**H0**: средняя выручка пользователей тарифов Ультра и Смарт не различается;\n",
    "\n",
    "**H1**: средняя выручка пользователей тарифов Ультра и Смарт различается.\n",
    "\n",
    "Имеем дело с гипотезой о равенстве средних 2-х генеральных совокупностей. Необходимы 2 выборки по выручке тарифов Смарт и Ультра."
   ]
  },
  {
   "cell_type": "code",
   "execution_count": 47,
   "metadata": {},
   "outputs": [
    {
     "name": "stdout",
     "output_type": "stream",
     "text": [
      "<class 'pandas.core.frame.DataFrame'>\n",
      "Int64Index: 2229 entries, 8 to 3213\n",
      "Data columns (total 22 columns):\n",
      " #   Column                      Non-Null Count  Dtype         \n",
      "---  ------                      --------------  -----         \n",
      " 0   user_id                     2229 non-null   int64         \n",
      " 1   month                       2229 non-null   int64         \n",
      " 2   calls_total_month           2229 non-null   float64       \n",
      " 3   calls_duration_total_month  2229 non-null   float64       \n",
      " 4   gb_used_total_month         2229 non-null   float64       \n",
      " 5   messages_sent_total_month   2229 non-null   float64       \n",
      " 6   age                         2229 non-null   int64         \n",
      " 7   churn_date                  111 non-null    datetime64[ns]\n",
      " 8   city                        2229 non-null   object        \n",
      " 9   first_name                  2229 non-null   object        \n",
      " 10  last_name                   2229 non-null   object        \n",
      " 11  reg_date                    2229 non-null   datetime64[ns]\n",
      " 12  tariff                      2229 non-null   object        \n",
      " 13  messages_included           2229 non-null   int64         \n",
      " 14  gb_per_month_included       2229 non-null   float64       \n",
      " 15  minutes_included            2229 non-null   int64         \n",
      " 16  rub_monthly_fee             2229 non-null   int64         \n",
      " 17  rub_per_gb                  2229 non-null   int64         \n",
      " 18  rub_per_message             2229 non-null   int64         \n",
      " 19  rub_per_minute              2229 non-null   int64         \n",
      " 20  paid_above_tariff           2229 non-null   float64       \n",
      " 21  total_paid                  2229 non-null   float64       \n",
      "dtypes: datetime64[ns](2), float64(7), int64(9), object(4)\n",
      "memory usage: 400.5+ KB\n"
     ]
    },
    {
     "data": {
      "text/plain": [
       "<AxesSubplot:>"
      ]
     },
     "execution_count": 47,
     "metadata": {},
     "output_type": "execute_result"
    },
    {
     "data": {
      "image/png": "[encoded data removed]",
      "text/plain": [
       "<Figure size 216x864 with 1 Axes>"
      ]
     },
     "metadata": {
      "needs_background": "light"
     },
     "output_type": "display_data"
    }
   ],
   "source": [
    "# выделение отдельной выборки по выручке тарифа Смарт, построение boxplot\n",
    "df_smart = df[df['tariff'] == 'smart']\n",
    "df_smart.info()\n",
    "df_smart.boxplot('total_paid', figsize=(3, 12))"
   ]
  },
  {
   "cell_type": "markdown",
   "metadata": {},
   "source": [
    "Выбросы значений выручки в тарифе Смарт есть.\n",
    "\n",
    "Считаем выбросами на фоне остальных значения выручки больше 13 500 руб."
   ]
  },
  {
   "cell_type": "code",
   "execution_count": 48,
   "metadata": {},
   "outputs": [
    {
     "name": "stdout",
     "output_type": "stream",
     "text": [
      "<class 'pandas.core.frame.DataFrame'>\n",
      "Int64Index: 2212 entries, 8 to 3213\n",
      "Data columns (total 22 columns):\n",
      " #   Column                      Non-Null Count  Dtype         \n",
      "---  ------                      --------------  -----         \n",
      " 0   user_id                     2212 non-null   int64         \n",
      " 1   month                       2212 non-null   int64         \n",
      " 2   calls_total_month           2212 non-null   float64       \n",
      " 3   calls_duration_total_month  2212 non-null   float64       \n",
      " 4   gb_used_total_month         2212 non-null   float64       \n",
      " 5   messages_sent_total_month   2212 non-null   float64       \n",
      " 6   age                         2212 non-null   int64         \n",
      " 7   churn_date                  111 non-null    datetime64[ns]\n",
      " 8   city                        2212 non-null   object        \n",
      " 9   first_name                  2212 non-null   object        \n",
      " 10  last_name                   2212 non-null   object        \n",
      " 11  reg_date                    2212 non-null   datetime64[ns]\n",
      " 12  tariff                      2212 non-null   object        \n",
      " 13  messages_included           2212 non-null   int64         \n",
      " 14  gb_per_month_included       2212 non-null   float64       \n",
      " 15  minutes_included            2212 non-null   int64         \n",
      " 16  rub_monthly_fee             2212 non-null   int64         \n",
      " 17  rub_per_gb                  2212 non-null   int64         \n",
      " 18  rub_per_message             2212 non-null   int64         \n",
      " 19  rub_per_minute              2212 non-null   int64         \n",
      " 20  paid_above_tariff           2212 non-null   float64       \n",
      " 21  total_paid                  2212 non-null   float64       \n",
      "dtypes: datetime64[ns](2), float64(7), int64(9), object(4)\n",
      "memory usage: 397.5+ KB\n"
     ]
    }
   ],
   "source": [
    "# получение среза\n",
    "df_smart = df_smart.query('total_paid <= 13500')\n",
    "df_smart.info()"
   ]
  },
  {
   "cell_type": "markdown",
   "metadata": {},
   "source": [
    "Данных удалено совсем немного, всего 17 значений. Используем `df_smart` для 1 гипотезы."
   ]
  },
  {
   "cell_type": "code",
   "execution_count": 49,
   "metadata": {},
   "outputs": [
    {
     "name": "stdout",
     "output_type": "stream",
     "text": [
      "<class 'pandas.core.frame.DataFrame'>\n",
      "Int64Index: 985 entries, 0 to 3208\n",
      "Data columns (total 22 columns):\n",
      " #   Column                      Non-Null Count  Dtype         \n",
      "---  ------                      --------------  -----         \n",
      " 0   user_id                     985 non-null    int64         \n",
      " 1   month                       985 non-null    int64         \n",
      " 2   calls_total_month           985 non-null    float64       \n",
      " 3   calls_duration_total_month  985 non-null    float64       \n",
      " 4   gb_used_total_month         985 non-null    float64       \n",
      " 5   messages_sent_total_month   985 non-null    float64       \n",
      " 6   age                         985 non-null    int64         \n",
      " 7   churn_date                  76 non-null     datetime64[ns]\n",
      " 8   city                        985 non-null    object        \n",
      " 9   first_name                  985 non-null    object        \n",
      " 10  last_name                   985 non-null    object        \n",
      " 11  reg_date                    985 non-null    datetime64[ns]\n",
      " 12  tariff                      985 non-null    object        \n",
      " 13  messages_included           985 non-null    int64         \n",
      " 14  gb_per_month_included       985 non-null    float64       \n",
      " 15  minutes_included            985 non-null    int64         \n",
      " 16  rub_monthly_fee             985 non-null    int64         \n",
      " 17  rub_per_gb                  985 non-null    int64         \n",
      " 18  rub_per_message             985 non-null    int64         \n",
      " 19  rub_per_minute              985 non-null    int64         \n",
      " 20  paid_above_tariff           985 non-null    float64       \n",
      " 21  total_paid                  985 non-null    float64       \n",
      "dtypes: datetime64[ns](2), float64(7), int64(9), object(4)\n",
      "memory usage: 177.0+ KB\n"
     ]
    },
    {
     "data": {
      "text/plain": [
       "<AxesSubplot:>"
      ]
     },
     "execution_count": 49,
     "metadata": {},
     "output_type": "execute_result"
    },
    {
     "data": {
      "image/png": "[encoded data removed]",
      "text/plain": [
       "<Figure size 216x864 with 1 Axes>"
      ]
     },
     "metadata": {
      "needs_background": "light"
     },
     "output_type": "display_data"
    }
   ],
   "source": [
    "# выделение отдельной выборки по выручке тарифа Ультра, построение boxplot\n",
    "df_ultra = df[df['tariff'] == 'ultra']\n",
    "df_ultra.info()\n",
    "df_ultra.boxplot('total_paid', figsize=(3, 12))"
   ]
  },
  {
   "cell_type": "markdown",
   "metadata": {},
   "source": [
    "Выбросы в данных также есть.\n",
    "\n",
    "Считаем выбросами на фоне остальных значения выручки больше 10 100 руб."
   ]
  },
  {
   "cell_type": "code",
   "execution_count": 50,
   "metadata": {},
   "outputs": [
    {
     "name": "stdout",
     "output_type": "stream",
     "text": [
      "<class 'pandas.core.frame.DataFrame'>\n",
      "Int64Index: 977 entries, 0 to 3208\n",
      "Data columns (total 22 columns):\n",
      " #   Column                      Non-Null Count  Dtype         \n",
      "---  ------                      --------------  -----         \n",
      " 0   user_id                     977 non-null    int64         \n",
      " 1   month                       977 non-null    int64         \n",
      " 2   calls_total_month           977 non-null    float64       \n",
      " 3   calls_duration_total_month  977 non-null    float64       \n",
      " 4   gb_used_total_month         977 non-null    float64       \n",
      " 5   messages_sent_total_month   977 non-null    float64       \n",
      " 6   age                         977 non-null    int64         \n",
      " 7   churn_date                  75 non-null     datetime64[ns]\n",
      " 8   city                        977 non-null    object        \n",
      " 9   first_name                  977 non-null    object        \n",
      " 10  last_name                   977 non-null    object        \n",
      " 11  reg_date                    977 non-null    datetime64[ns]\n",
      " 12  tariff                      977 non-null    object        \n",
      " 13  messages_included           977 non-null    int64         \n",
      " 14  gb_per_month_included       977 non-null    float64       \n",
      " 15  minutes_included            977 non-null    int64         \n",
      " 16  rub_monthly_fee             977 non-null    int64         \n",
      " 17  rub_per_gb                  977 non-null    int64         \n",
      " 18  rub_per_message             977 non-null    int64         \n",
      " 19  rub_per_minute              977 non-null    int64         \n",
      " 20  paid_above_tariff           977 non-null    float64       \n",
      " 21  total_paid                  977 non-null    float64       \n",
      "dtypes: datetime64[ns](2), float64(7), int64(9), object(4)\n",
      "memory usage: 175.6+ KB\n"
     ]
    }
   ],
   "source": [
    "# получение среза\n",
    "df_ultra = df_ultra.query('total_paid <= 10100')\n",
    "df_ultra.info()"
   ]
  },
  {
   "cell_type": "markdown",
   "metadata": {},
   "source": [
    "Удалено всего 8 значений. Используем `df_ultra` для 1 гипотезы."
   ]
  },
  {
   "cell_type": "markdown",
   "metadata": {},
   "source": [
    "**Гипотеза №2:**\n",
    "\n",
    "**H0**: Средняя выручка пользователей из Москвы не отличается от выручки пользователей из других регионов;\n",
    "\n",
    "**H1**: Средняя выручка пользователей из Москвы отличается от выручки пользователей из других регионов.\n",
    "\n",
    "Имеем дело с гипотезой о равенстве средних 2-х генеральных совокупностей. Необходимы 2 выборки по выручке в Москве и в остальной России."
   ]
  },
  {
   "cell_type": "code",
   "execution_count": 51,
   "metadata": {},
   "outputs": [
    {
     "data": {
      "text/plain": [
       "array(['Архангельск', 'Астрахань', 'Балашиха', 'Барнаул', 'Белгород',\n",
       "       'Брянск', 'Владивосток', 'Владикавказ', 'Владимир', 'Волгоград',\n",
       "       'Волжский', 'Вологда', 'Воронеж', 'Грозный', 'Екатеринбург',\n",
       "       'Иваново', 'Ижевск', 'Иркутск', 'Казань', 'Калининград', 'Калуга',\n",
       "       'Кемерово', 'Киров', 'Кострома', 'Краснодар', 'Красноярск',\n",
       "       'Курган', 'Курск', 'Липецк', 'Магнитогорск', 'Махачкала', 'Москва',\n",
       "       'Мурманск', 'Набережные Челны', 'Нижневартовск', 'Нижний Новгород',\n",
       "       'Нижний Тагил', 'Новокузнецк', 'Новороссийск', 'Новосибирск',\n",
       "       'Омск', 'Оренбург', 'Орёл', 'Пенза', 'Пермь', 'Петрозаводск',\n",
       "       'Подольск', 'Ростов-на-Дону', 'Рязань', 'Самара',\n",
       "       'Санкт-Петербург', 'Саранск', 'Саратов', 'Севастополь', 'Смоленск',\n",
       "       'Сочи', 'Ставрополь', 'Стерлитамак', 'Сургут', 'Тамбов', 'Тверь',\n",
       "       'Тольятти', 'Томск', 'Тула', 'Тюмень', 'Улан-Удэ', 'Ульяновск',\n",
       "       'Уфа', 'Хабаровск', 'Химки', 'Чебоксары', 'Челябинск', 'Череповец',\n",
       "       'Чита', 'Якутск', 'Ярославль'], dtype=object)"
      ]
     },
     "execution_count": 51,
     "metadata": {},
     "output_type": "execute_result"
    }
   ],
   "source": [
    "# технический вывод уникальных городов\n",
    "df['city'].sort_values().unique()"
   ]
  },
  {
   "cell_type": "code",
   "execution_count": 52,
   "metadata": {},
   "outputs": [
    {
     "name": "stdout",
     "output_type": "stream",
     "text": [
      "<class 'pandas.core.frame.DataFrame'>\n",
      "Int64Index: 611 entries, 8 to 3208\n",
      "Data columns (total 22 columns):\n",
      " #   Column                      Non-Null Count  Dtype         \n",
      "---  ------                      --------------  -----         \n",
      " 0   user_id                     611 non-null    int64         \n",
      " 1   month                       611 non-null    int64         \n",
      " 2   calls_total_month           611 non-null    float64       \n",
      " 3   calls_duration_total_month  611 non-null    float64       \n",
      " 4   gb_used_total_month         611 non-null    float64       \n",
      " 5   messages_sent_total_month   611 non-null    float64       \n",
      " 6   age                         611 non-null    int64         \n",
      " 7   churn_date                  41 non-null     datetime64[ns]\n",
      " 8   city                        611 non-null    object        \n",
      " 9   first_name                  611 non-null    object        \n",
      " 10  last_name                   611 non-null    object        \n",
      " 11  reg_date                    611 non-null    datetime64[ns]\n",
      " 12  tariff                      611 non-null    object        \n",
      " 13  messages_included           611 non-null    int64         \n",
      " 14  gb_per_month_included       611 non-null    float64       \n",
      " 15  minutes_included            611 non-null    int64         \n",
      " 16  rub_monthly_fee             611 non-null    int64         \n",
      " 17  rub_per_gb                  611 non-null    int64         \n",
      " 18  rub_per_message             611 non-null    int64         \n",
      " 19  rub_per_minute              611 non-null    int64         \n",
      " 20  paid_above_tariff           611 non-null    float64       \n",
      " 21  total_paid                  611 non-null    float64       \n",
      "dtypes: datetime64[ns](2), float64(7), int64(9), object(4)\n",
      "memory usage: 109.8+ KB\n"
     ]
    },
    {
     "data": {
      "text/plain": [
       "<AxesSubplot:>"
      ]
     },
     "execution_count": 52,
     "metadata": {},
     "output_type": "execute_result"
    },
    {
     "data": {
      "image/png": "[encoded data removed]",
      "text/plain": [
       "<Figure size 216x864 with 1 Axes>"
      ]
     },
     "metadata": {
      "needs_background": "light"
     },
     "output_type": "display_data"
    }
   ],
   "source": [
    "# выделение отдельной выборки по выручке в Москве, построение boxplot\n",
    "df_moscow = df[df['city'] == 'Москва']\n",
    "df_moscow.info()\n",
    "df_moscow.boxplot('total_paid', figsize=(3, 12))"
   ]
  },
  {
   "cell_type": "markdown",
   "metadata": {},
   "source": [
    "Выбросы в данных по Москве есть.\n",
    "\n",
    "Считаем выбросами на фоне остальных значения выручки больше 12 700 руб."
   ]
  },
  {
   "cell_type": "code",
   "execution_count": 53,
   "metadata": {},
   "outputs": [
    {
     "name": "stdout",
     "output_type": "stream",
     "text": [
      "<class 'pandas.core.frame.DataFrame'>\n",
      "Int64Index: 607 entries, 8 to 3208\n",
      "Data columns (total 22 columns):\n",
      " #   Column                      Non-Null Count  Dtype         \n",
      "---  ------                      --------------  -----         \n",
      " 0   user_id                     607 non-null    int64         \n",
      " 1   month                       607 non-null    int64         \n",
      " 2   calls_total_month           607 non-null    float64       \n",
      " 3   calls_duration_total_month  607 non-null    float64       \n",
      " 4   gb_used_total_month         607 non-null    float64       \n",
      " 5   messages_sent_total_month   607 non-null    float64       \n",
      " 6   age                         607 non-null    int64         \n",
      " 7   churn_date                  41 non-null     datetime64[ns]\n",
      " 8   city                        607 non-null    object        \n",
      " 9   first_name                  607 non-null    object        \n",
      " 10  last_name                   607 non-null    object        \n",
      " 11  reg_date                    607 non-null    datetime64[ns]\n",
      " 12  tariff                      607 non-null    object        \n",
      " 13  messages_included           607 non-null    int64         \n",
      " 14  gb_per_month_included       607 non-null    float64       \n",
      " 15  minutes_included            607 non-null    int64         \n",
      " 16  rub_monthly_fee             607 non-null    int64         \n",
      " 17  rub_per_gb                  607 non-null    int64         \n",
      " 18  rub_per_message             607 non-null    int64         \n",
      " 19  rub_per_minute              607 non-null    int64         \n",
      " 20  paid_above_tariff           607 non-null    float64       \n",
      " 21  total_paid                  607 non-null    float64       \n",
      "dtypes: datetime64[ns](2), float64(7), int64(9), object(4)\n",
      "memory usage: 109.1+ KB\n"
     ]
    }
   ],
   "source": [
    "# получение среза\n",
    "df_moscow = df_moscow.query('total_paid <= 12700')\n",
    "df_moscow.info()"
   ]
  },
  {
   "cell_type": "markdown",
   "metadata": {},
   "source": [
    "Удалено всего 4 значения. Используем `df_moscow` для 2 гипотезы."
   ]
  },
  {
   "cell_type": "code",
   "execution_count": 54,
   "metadata": {},
   "outputs": [
    {
     "name": "stdout",
     "output_type": "stream",
     "text": [
      "<class 'pandas.core.frame.DataFrame'>\n",
      "Int64Index: 2603 entries, 0 to 3213\n",
      "Data columns (total 22 columns):\n",
      " #   Column                      Non-Null Count  Dtype         \n",
      "---  ------                      --------------  -----         \n",
      " 0   user_id                     2603 non-null   int64         \n",
      " 1   month                       2603 non-null   int64         \n",
      " 2   calls_total_month           2603 non-null   float64       \n",
      " 3   calls_duration_total_month  2603 non-null   float64       \n",
      " 4   gb_used_total_month         2603 non-null   float64       \n",
      " 5   messages_sent_total_month   2603 non-null   float64       \n",
      " 6   age                         2603 non-null   int64         \n",
      " 7   churn_date                  146 non-null    datetime64[ns]\n",
      " 8   city                        2603 non-null   object        \n",
      " 9   first_name                  2603 non-null   object        \n",
      " 10  last_name                   2603 non-null   object        \n",
      " 11  reg_date                    2603 non-null   datetime64[ns]\n",
      " 12  tariff                      2603 non-null   object        \n",
      " 13  messages_included           2603 non-null   int64         \n",
      " 14  gb_per_month_included       2603 non-null   float64       \n",
      " 15  minutes_included            2603 non-null   int64         \n",
      " 16  rub_monthly_fee             2603 non-null   int64         \n",
      " 17  rub_per_gb                  2603 non-null   int64         \n",
      " 18  rub_per_message             2603 non-null   int64         \n",
      " 19  rub_per_minute              2603 non-null   int64         \n",
      " 20  paid_above_tariff           2603 non-null   float64       \n",
      " 21  total_paid                  2603 non-null   float64       \n",
      "dtypes: datetime64[ns](2), float64(7), int64(9), object(4)\n",
      "memory usage: 467.7+ KB\n"
     ]
    },
    {
     "data": {
      "text/plain": [
       "<AxesSubplot:>"
      ]
     },
     "execution_count": 54,
     "metadata": {},
     "output_type": "execute_result"
    },
    {
     "data": {
      "image/png": "[encoded data removed]",
      "text/plain": [
       "<Figure size 216x864 with 1 Axes>"
      ]
     },
     "metadata": {
      "needs_background": "light"
     },
     "output_type": "display_data"
    }
   ],
   "source": [
    "# выделение отдельной выборки по выручке в России, построение boxplot\n",
    "df_russia = df[df['city'] != 'Москва']\n",
    "df_russia.info()\n",
    "df_russia.boxplot('total_paid', figsize=(3, 12))"
   ]
  },
  {
   "cell_type": "markdown",
   "metadata": {},
   "source": [
    "Выбросы также есть.\n",
    "\n",
    "Считаем выбросами на фоне остальных значения выручки более 14 500 руб."
   ]
  },
  {
   "cell_type": "code",
   "execution_count": 55,
   "metadata": {},
   "outputs": [
    {
     "name": "stdout",
     "output_type": "stream",
     "text": [
      "<class 'pandas.core.frame.DataFrame'>\n",
      "Int64Index: 2594 entries, 0 to 3213\n",
      "Data columns (total 22 columns):\n",
      " #   Column                      Non-Null Count  Dtype         \n",
      "---  ------                      --------------  -----         \n",
      " 0   user_id                     2594 non-null   int64         \n",
      " 1   month                       2594 non-null   int64         \n",
      " 2   calls_total_month           2594 non-null   float64       \n",
      " 3   calls_duration_total_month  2594 non-null   float64       \n",
      " 4   gb_used_total_month         2594 non-null   float64       \n",
      " 5   messages_sent_total_month   2594 non-null   float64       \n",
      " 6   age                         2594 non-null   int64         \n",
      " 7   churn_date                  146 non-null    datetime64[ns]\n",
      " 8   city                        2594 non-null   object        \n",
      " 9   first_name                  2594 non-null   object        \n",
      " 10  last_name                   2594 non-null   object        \n",
      " 11  reg_date                    2594 non-null   datetime64[ns]\n",
      " 12  tariff                      2594 non-null   object        \n",
      " 13  messages_included           2594 non-null   int64         \n",
      " 14  gb_per_month_included       2594 non-null   float64       \n",
      " 15  minutes_included            2594 non-null   int64         \n",
      " 16  rub_monthly_fee             2594 non-null   int64         \n",
      " 17  rub_per_gb                  2594 non-null   int64         \n",
      " 18  rub_per_message             2594 non-null   int64         \n",
      " 19  rub_per_minute              2594 non-null   int64         \n",
      " 20  paid_above_tariff           2594 non-null   float64       \n",
      " 21  total_paid                  2594 non-null   float64       \n",
      "dtypes: datetime64[ns](2), float64(7), int64(9), object(4)\n",
      "memory usage: 466.1+ KB\n"
     ]
    }
   ],
   "source": [
    "# получение среза\n",
    "df_russia = df_russia.query('total_paid <= 14500')\n",
    "df_russia.info()"
   ]
  },
  {
   "cell_type": "markdown",
   "metadata": {},
   "source": [
    "Удалено всего 9 значений. Используем `df_russia` для 2 гипотезы."
   ]
  },
  {
   "cell_type": "markdown",
   "metadata": {},
   "source": [
    "**Вывод:** необходимые данные для проверки гипотез получены, можно приступать к самой проверке.\n",
    "- Для проверки 1 гипотезы используем `df_smart` и `df_ultra`.\n",
    "- Для проверки 2 гипотезы используем `df_moscow` и `df_russia`."
   ]
  },
  {
   "cell_type": "markdown",
   "metadata": {},
   "source": [
    "### Проверка гипотез"
   ]
  },
  {
   "cell_type": "markdown",
   "metadata": {},
   "source": [
    "Уровень значимости alpha для 2-х гипотез зададим 0.05 - общепринятое значение."
   ]
  },
  {
   "cell_type": "code",
   "execution_count": 56,
   "metadata": {},
   "outputs": [],
   "source": [
    "alpha = 0.05"
   ]
  },
  {
   "cell_type": "markdown",
   "metadata": {},
   "source": [
    "#### Проверка гипотезы №1"
   ]
  },
  {
   "cell_type": "markdown",
   "metadata": {},
   "source": [
    "**H0**: средняя выручка пользователей тарифов Ультра и Смарт не различается;\n",
    "\n",
    "**H1**: средняя выручка пользователей тарифов Ультра и Смарт различается."
   ]
  },
  {
   "cell_type": "code",
   "execution_count": 57,
   "metadata": {},
   "outputs": [],
   "source": [
    "# получение значений выручки в виде списка\n",
    "df_smart_list = df_smart['total_paid'].to_list()\n",
    "df_ultra_list = df_ultra['total_paid'].to_list()"
   ]
  },
  {
   "cell_type": "code",
   "execution_count": 58,
   "metadata": {},
   "outputs": [
    {
     "name": "stdout",
     "output_type": "stream",
     "text": [
      "p-значение: 1.0610293107238251e-117\n",
      "Отвергаем нулевую гипотезу\n"
     ]
    }
   ],
   "source": [
    "# проверка гипотезы № 1\n",
    "results = st.ttest_ind(df_smart_list, df_ultra_list)\n",
    "\n",
    "print('p-значение:', results.pvalue)\n",
    "\n",
    "if results.pvalue < alpha:\n",
    "    print(\"Отвергаем нулевую гипотезу\")\n",
    "else:\n",
    "    print(\"Не получилось отвергнуть нулевую гипотезу\")"
   ]
  },
  {
   "cell_type": "markdown",
   "metadata": {},
   "source": [
    "**Вывод:** Между выборками есть значимые различия, разница в выручках 2-х тарифов не случайна.\n",
    "\n",
    "Верно утверждение, что средняя выручка тарифов Смарт и Ультра различается. Посмотрим сами цифры."
   ]
  },
  {
   "cell_type": "code",
   "execution_count": 59,
   "metadata": {},
   "outputs": [
    {
     "name": "stdout",
     "output_type": "stream",
     "text": [
      "Средняя выручка по тарифу Смарт 6174.386980108499\n",
      "Средняя выручка по тарифу Ультра 3786.386898669396\n"
     ]
    }
   ],
   "source": [
    "# вывод средних значений выручки по тарифам\n",
    "print('Средняя выручка по тарифу Смарт', df_smart['total_paid'].mean())\n",
    "print('Средняя выручка по тарифу Ультра', df_ultra['total_paid'].mean())"
   ]
  },
  {
   "cell_type": "markdown",
   "metadata": {},
   "source": [
    "Действительно, средняя выручка по тарифам отличается и довольно серьезно - почти в 2 раза."
   ]
  },
  {
   "cell_type": "markdown",
   "metadata": {},
   "source": [
    "#### Проверка гипотезы №2"
   ]
  },
  {
   "cell_type": "markdown",
   "metadata": {},
   "source": [
    "**H0**: Средняя выручка пользователей из Москвы не отличается от выручки пользователей из других регионов;\n",
    "\n",
    "**H1**: Средняя выручка пользователей из Москвы отличается от выручки пользователей из других регионов."
   ]
  },
  {
   "cell_type": "code",
   "execution_count": 60,
   "metadata": {},
   "outputs": [],
   "source": [
    "# получение значений выручки в виде списка\n",
    "df_moscow_list = df_moscow['total_paid'].to_list()\n",
    "df_russia_list = df_russia['total_paid'].to_list()"
   ]
  },
  {
   "cell_type": "code",
   "execution_count": 61,
   "metadata": {},
   "outputs": [
    {
     "name": "stdout",
     "output_type": "stream",
     "text": [
      "p-значение: 0.21932390500098287\n",
      "Не получилось отвергнуть нулевую гипотезу\n"
     ]
    }
   ],
   "source": [
    "# проверка гипотезы № 2\n",
    "results = st.ttest_ind(df_moscow_list, df_russia_list)\n",
    "\n",
    "print('p-значение:', results.pvalue)\n",
    "\n",
    "if results.pvalue < alpha:\n",
    "    print(\"Отвергаем нулевую гипотезу\")\n",
    "else:\n",
    "    print(\"Не получилось отвергнуть нулевую гипотезу\")"
   ]
  },
  {
   "cell_type": "markdown",
   "metadata": {},
   "source": [
    "**Вывод:** Значимых различий нет. Результат может быть получен с 22%-ой вероятностью.\n",
    "\n",
    "Верно утверждение, что средняя выручка в Москве и остальных регионах не отличается. Посмотрим сами цифры."
   ]
  },
  {
   "cell_type": "code",
   "execution_count": 62,
   "metadata": {},
   "outputs": [
    {
     "name": "stdout",
     "output_type": "stream",
     "text": [
      "Средняя выручка по пользователям в Москве 5340.591433278419\n",
      "Средняя выручка по пользователям в России 5497.56399383192\n"
     ]
    }
   ],
   "source": [
    "# вывод средний значений выручки по регионам\n",
    "print('Средняя выручка по пользователям в Москве', df_moscow['total_paid'].mean())\n",
    "print('Средняя выручка по пользователям в России', df_russia['total_paid'].mean())"
   ]
  },
  {
   "cell_type": "markdown",
   "metadata": {},
   "source": [
    "Разница в средней выручке несущественна, есть вероятность получить одинаковое среднее."
   ]
  },
  {
   "cell_type": "markdown",
   "metadata": {},
   "source": [
    "## Общий вывод"
   ]
  },
  {
   "cell_type": "markdown",
   "metadata": {},
   "source": [
    "В рамках проекта исследованы данные о пользователях тарифов Смарт и Ультра оператора Мегалайн.\n",
    "\n",
    "Исходные данные в целом были корректные, большая предобработка не понадобилась. Посчитана и добавлена помесячная статистика использования опций каждым пользователем, рассчитана выручка по каждому пользователю.\n",
    "\n",
    "Изучено поведение пользователей в разрезе каждого месяца - бизнесу стоит изменить конфигурации по минутам разговора, доступного трафика и лимита сообщений. Также стоит посмотреть на конкурентов - злая политика округления ради большей прибыли может принести ощутимый прирост, но только в краткосрочной перспективе. Рано или поздно при таком настрое компания может начать терять клиентскую базу.\n",
    "\n",
    "Проверены 2 гипотезы, оказались верными следующие утверждения:\n",
    "- Средняя выручка тарифов Смарт и Ультра различается почти в 2 раза. Тариф Ультра выгоднее для компании;\n",
    "- Средняя выручка по пользователям в Москве и остальных регионах РФ не отличается. Нет смысла в привелегиях и эксклюзивных условиях отдельно для Москвы или отдельно для регионов - можно развивать одно предложение для всей России."
   ]
  }
 ],
 "metadata": {
  "ExecuteTimeLog": [
   {
    "duration": 1483,
    "start_time": "2022-01-26T19:45:36.957Z"
   },
   {
    "duration": 333,
    "start_time": "2022-01-26T19:47:15.857Z"
   },
   {
    "duration": 232,
    "start_time": "2022-01-26T19:47:23.980Z"
   },
   {
    "duration": 195,
    "start_time": "2022-01-26T19:48:19.472Z"
   },
   {
    "duration": 130,
    "start_time": "2022-01-26T19:49:05.547Z"
   },
   {
    "duration": 23,
    "start_time": "2022-01-26T19:49:54.747Z"
   },
   {
    "duration": 40,
    "start_time": "2022-01-26T19:50:35.211Z"
   },
   {
    "duration": 327,
    "start_time": "2022-01-26T19:51:35.927Z"
   },
   {
    "duration": 226,
    "start_time": "2022-01-26T19:51:39.202Z"
   },
   {
    "duration": 205,
    "start_time": "2022-01-26T19:51:54.002Z"
   },
   {
    "duration": 142,
    "start_time": "2022-01-26T19:52:24.505Z"
   },
   {
    "duration": 31,
    "start_time": "2022-01-26T19:52:33.672Z"
   },
   {
    "duration": 47,
    "start_time": "2022-01-26T19:52:42.769Z"
   },
   {
    "duration": 13,
    "start_time": "2022-01-26T20:23:05.278Z"
   },
   {
    "duration": 23,
    "start_time": "2022-01-26T20:25:31.549Z"
   },
   {
    "duration": 30,
    "start_time": "2022-01-26T20:25:43.086Z"
   },
   {
    "duration": 1725,
    "start_time": "2022-01-26T20:25:51.304Z"
   },
   {
    "duration": 368,
    "start_time": "2022-01-26T20:25:53.032Z"
   },
   {
    "duration": 255,
    "start_time": "2022-01-26T20:25:53.404Z"
   },
   {
    "duration": 18,
    "start_time": "2022-01-26T20:25:53.662Z"
   },
   {
    "duration": 38,
    "start_time": "2022-01-26T20:25:53.684Z"
   },
   {
    "duration": 223,
    "start_time": "2022-01-26T20:25:53.726Z"
   },
   {
    "duration": 41,
    "start_time": "2022-01-26T20:25:53.960Z"
   },
   {
    "duration": 58,
    "start_time": "2022-01-26T20:25:54.006Z"
   },
   {
    "duration": 110,
    "start_time": "2022-01-26T20:26:35.306Z"
   },
   {
    "duration": 28,
    "start_time": "2022-01-26T20:26:41.181Z"
   },
   {
    "duration": 498,
    "start_time": "2022-01-26T20:26:47.627Z"
   },
   {
    "duration": 1368,
    "start_time": "2022-01-26T20:26:59.573Z"
   },
   {
    "duration": 249,
    "start_time": "2022-01-26T20:27:00.944Z"
   },
   {
    "duration": 214,
    "start_time": "2022-01-26T20:27:01.197Z"
   },
   {
    "duration": 12,
    "start_time": "2022-01-26T20:27:01.413Z"
   },
   {
    "duration": 40,
    "start_time": "2022-01-26T20:27:01.428Z"
   },
   {
    "duration": 150,
    "start_time": "2022-01-26T20:27:01.471Z"
   },
   {
    "duration": 30,
    "start_time": "2022-01-26T20:27:01.624Z"
   },
   {
    "duration": 54,
    "start_time": "2022-01-26T20:27:01.660Z"
   },
   {
    "duration": 1346,
    "start_time": "2022-01-26T20:32:54.077Z"
   },
   {
    "duration": 254,
    "start_time": "2022-01-26T20:32:55.426Z"
   },
   {
    "duration": 233,
    "start_time": "2022-01-26T20:32:55.684Z"
   },
   {
    "duration": 13,
    "start_time": "2022-01-26T20:32:55.920Z"
   },
   {
    "duration": 41,
    "start_time": "2022-01-26T20:32:55.935Z"
   },
   {
    "duration": 151,
    "start_time": "2022-01-26T20:32:55.978Z"
   },
   {
    "duration": 39,
    "start_time": "2022-01-26T20:32:56.132Z"
   },
   {
    "duration": 57,
    "start_time": "2022-01-26T20:32:56.176Z"
   },
   {
    "duration": 515,
    "start_time": "2022-01-26T20:51:16.121Z"
   },
   {
    "duration": 311,
    "start_time": "2022-01-26T20:51:23.109Z"
   },
   {
    "duration": 74,
    "start_time": "2022-01-26T20:51:30.532Z"
   },
   {
    "duration": 22,
    "start_time": "2022-01-26T20:53:30.286Z"
   },
   {
    "duration": 64,
    "start_time": "2022-01-26T20:53:38.341Z"
   },
   {
    "duration": 36,
    "start_time": "2022-01-26T20:54:54.603Z"
   },
   {
    "duration": 37,
    "start_time": "2022-01-26T20:55:12.226Z"
   },
   {
    "duration": 18,
    "start_time": "2022-01-26T20:57:17.461Z"
   },
   {
    "duration": 1346,
    "start_time": "2022-01-26T21:00:35.680Z"
   },
   {
    "duration": 259,
    "start_time": "2022-01-26T21:00:37.029Z"
   },
   {
    "duration": 221,
    "start_time": "2022-01-26T21:00:37.293Z"
   },
   {
    "duration": 12,
    "start_time": "2022-01-26T21:00:37.517Z"
   },
   {
    "duration": 41,
    "start_time": "2022-01-26T21:00:37.531Z"
   },
   {
    "duration": 147,
    "start_time": "2022-01-26T21:00:37.574Z"
   },
   {
    "duration": 36,
    "start_time": "2022-01-26T21:00:37.723Z"
   },
   {
    "duration": 47,
    "start_time": "2022-01-26T21:00:37.762Z"
   },
   {
    "duration": 86,
    "start_time": "2022-01-26T21:00:37.812Z"
   },
   {
    "duration": 83,
    "start_time": "2022-01-26T21:00:37.901Z"
   },
   {
    "duration": 55,
    "start_time": "2022-01-26T21:00:37.986Z"
   },
   {
    "duration": 27,
    "start_time": "2022-01-26T21:00:38.044Z"
   },
   {
    "duration": 452,
    "start_time": "2022-01-26T21:06:49.660Z"
   },
   {
    "duration": 91,
    "start_time": "2022-01-26T21:07:03.241Z"
   },
   {
    "duration": 7655,
    "start_time": "2022-01-26T21:08:42.025Z"
   },
   {
    "duration": 1129,
    "start_time": "2022-01-26T21:10:17.900Z"
   },
   {
    "duration": 1483,
    "start_time": "2022-01-26T21:15:01.642Z"
   },
   {
    "duration": 247,
    "start_time": "2022-01-26T21:15:03.128Z"
   },
   {
    "duration": 203,
    "start_time": "2022-01-26T21:15:03.378Z"
   },
   {
    "duration": 13,
    "start_time": "2022-01-26T21:15:03.585Z"
   },
   {
    "duration": 22,
    "start_time": "2022-01-26T21:15:03.601Z"
   },
   {
    "duration": 183,
    "start_time": "2022-01-26T21:15:03.626Z"
   },
   {
    "duration": 32,
    "start_time": "2022-01-26T21:15:03.812Z"
   },
   {
    "duration": 47,
    "start_time": "2022-01-26T21:15:03.859Z"
   },
   {
    "duration": 102,
    "start_time": "2022-01-26T21:15:03.909Z"
   },
   {
    "duration": 75,
    "start_time": "2022-01-26T21:15:04.013Z"
   },
   {
    "duration": 49,
    "start_time": "2022-01-26T21:15:04.090Z"
   },
   {
    "duration": 32,
    "start_time": "2022-01-26T21:15:04.141Z"
   },
   {
    "duration": 9609,
    "start_time": "2022-01-26T21:15:04.176Z"
   },
   {
    "duration": 35,
    "start_time": "2022-01-26T21:15:35.512Z"
   },
   {
    "duration": 46,
    "start_time": "2022-01-26T21:15:58.527Z"
   },
   {
    "duration": 7944,
    "start_time": "2022-01-26T21:17:27.577Z"
   },
   {
    "duration": 30,
    "start_time": "2022-01-26T21:17:48.850Z"
   },
   {
    "duration": 4,
    "start_time": "2022-01-26T21:19:48.843Z"
   },
   {
    "duration": 40,
    "start_time": "2022-01-26T21:20:24.128Z"
   },
   {
    "duration": 3,
    "start_time": "2022-01-26T21:20:55.009Z"
   },
   {
    "duration": 40,
    "start_time": "2022-01-26T21:21:00.864Z"
   },
   {
    "duration": 4,
    "start_time": "2022-01-26T21:21:31.156Z"
   },
   {
    "duration": 28,
    "start_time": "2022-01-26T21:22:20.716Z"
   },
   {
    "duration": 33,
    "start_time": "2022-01-26T21:23:05.679Z"
   },
   {
    "duration": 1384,
    "start_time": "2022-01-26T21:23:10.536Z"
   },
   {
    "duration": 245,
    "start_time": "2022-01-26T21:23:11.923Z"
   },
   {
    "duration": 203,
    "start_time": "2022-01-26T21:23:12.171Z"
   },
   {
    "duration": 12,
    "start_time": "2022-01-26T21:23:12.377Z"
   },
   {
    "duration": 20,
    "start_time": "2022-01-26T21:23:12.392Z"
   },
   {
    "duration": 177,
    "start_time": "2022-01-26T21:23:12.415Z"
   },
   {
    "duration": 33,
    "start_time": "2022-01-26T21:23:12.595Z"
   },
   {
    "duration": 48,
    "start_time": "2022-01-26T21:23:12.634Z"
   },
   {
    "duration": 109,
    "start_time": "2022-01-26T21:23:12.685Z"
   },
   {
    "duration": 89,
    "start_time": "2022-01-26T21:23:12.797Z"
   },
   {
    "duration": 70,
    "start_time": "2022-01-26T21:23:12.889Z"
   },
   {
    "duration": 15,
    "start_time": "2022-01-26T21:23:12.962Z"
   },
   {
    "duration": 5,
    "start_time": "2022-01-26T21:23:12.979Z"
   },
   {
    "duration": 78,
    "start_time": "2022-01-26T21:23:12.986Z"
   },
   {
    "duration": 32,
    "start_time": "2022-01-26T21:23:13.067Z"
   },
   {
    "duration": 61,
    "start_time": "2022-01-26T21:23:13.102Z"
   },
   {
    "duration": 463,
    "start_time": "2022-01-26T21:30:01.206Z"
   },
   {
    "duration": 1334,
    "start_time": "2022-01-26T21:30:26.281Z"
   },
   {
    "duration": 261,
    "start_time": "2022-01-26T21:30:27.618Z"
   },
   {
    "duration": 207,
    "start_time": "2022-01-26T21:30:27.882Z"
   },
   {
    "duration": 14,
    "start_time": "2022-01-26T21:30:28.091Z"
   },
   {
    "duration": 25,
    "start_time": "2022-01-26T21:30:28.108Z"
   },
   {
    "duration": 162,
    "start_time": "2022-01-26T21:30:28.135Z"
   },
   {
    "duration": 30,
    "start_time": "2022-01-26T21:30:28.299Z"
   },
   {
    "duration": 47,
    "start_time": "2022-01-26T21:30:28.333Z"
   },
   {
    "duration": 104,
    "start_time": "2022-01-26T21:30:28.383Z"
   },
   {
    "duration": 71,
    "start_time": "2022-01-26T21:30:28.490Z"
   },
   {
    "duration": 52,
    "start_time": "2022-01-26T21:30:28.564Z"
   },
   {
    "duration": 41,
    "start_time": "2022-01-26T21:30:28.619Z"
   },
   {
    "duration": 5,
    "start_time": "2022-01-26T21:30:28.662Z"
   },
   {
    "duration": 43,
    "start_time": "2022-01-26T21:30:28.669Z"
   },
   {
    "duration": 61,
    "start_time": "2022-01-26T21:30:28.714Z"
   },
   {
    "duration": 33,
    "start_time": "2022-01-26T21:30:28.778Z"
   },
   {
    "duration": 438,
    "start_time": "2022-01-26T21:30:28.813Z"
   },
   {
    "duration": 306,
    "start_time": "2022-01-26T21:31:05.700Z"
   },
   {
    "duration": 317,
    "start_time": "2022-01-26T21:31:23.242Z"
   },
   {
    "duration": 312,
    "start_time": "2022-01-26T21:31:39.052Z"
   },
   {
    "duration": 342,
    "start_time": "2022-01-26T21:33:01.602Z"
   },
   {
    "duration": 347,
    "start_time": "2022-01-26T21:33:15.758Z"
   },
   {
    "duration": 3,
    "start_time": "2022-01-26T21:38:05.442Z"
   },
   {
    "duration": 37,
    "start_time": "2022-01-26T21:38:09.677Z"
   },
   {
    "duration": 105,
    "start_time": "2022-01-26T21:38:21.597Z"
   },
   {
    "duration": 119,
    "start_time": "2022-01-26T21:38:37.707Z"
   },
   {
    "duration": 38,
    "start_time": "2022-01-26T21:38:59.848Z"
   },
   {
    "duration": 115,
    "start_time": "2022-01-26T21:39:25.142Z"
   },
   {
    "duration": 55,
    "start_time": "2022-01-26T21:39:39.221Z"
   },
   {
    "duration": 57,
    "start_time": "2022-01-26T21:39:50.294Z"
   },
   {
    "duration": 39,
    "start_time": "2022-01-26T21:40:10.029Z"
   },
   {
    "duration": 7887,
    "start_time": "2022-01-26T21:41:51.809Z"
   },
   {
    "duration": 1376,
    "start_time": "2022-01-26T21:42:22.130Z"
   },
   {
    "duration": 238,
    "start_time": "2022-01-26T21:42:23.508Z"
   },
   {
    "duration": 198,
    "start_time": "2022-01-26T21:42:23.752Z"
   },
   {
    "duration": 13,
    "start_time": "2022-01-26T21:42:23.959Z"
   },
   {
    "duration": 22,
    "start_time": "2022-01-26T21:42:23.975Z"
   },
   {
    "duration": 160,
    "start_time": "2022-01-26T21:42:23.999Z"
   },
   {
    "duration": 32,
    "start_time": "2022-01-26T21:42:24.162Z"
   },
   {
    "duration": 45,
    "start_time": "2022-01-26T21:42:24.197Z"
   },
   {
    "duration": 84,
    "start_time": "2022-01-26T21:42:24.244Z"
   },
   {
    "duration": 82,
    "start_time": "2022-01-26T21:42:24.331Z"
   },
   {
    "duration": 56,
    "start_time": "2022-01-26T21:42:24.415Z"
   },
   {
    "duration": 14,
    "start_time": "2022-01-26T21:42:24.473Z"
   },
   {
    "duration": 6,
    "start_time": "2022-01-26T21:42:24.490Z"
   },
   {
    "duration": 68,
    "start_time": "2022-01-26T21:42:24.498Z"
   },
   {
    "duration": 29,
    "start_time": "2022-01-26T21:42:24.568Z"
   },
   {
    "duration": 33,
    "start_time": "2022-01-26T21:42:24.600Z"
   },
   {
    "duration": 8191,
    "start_time": "2022-01-26T21:42:24.660Z"
   },
   {
    "duration": 7624,
    "start_time": "2022-01-26T21:42:52.066Z"
   },
   {
    "duration": 49,
    "start_time": "2022-01-26T21:43:08.946Z"
   },
   {
    "duration": 34,
    "start_time": "2022-01-26T21:44:24.833Z"
   },
   {
    "duration": 1386,
    "start_time": "2022-01-26T21:44:42.341Z"
   },
   {
    "duration": 239,
    "start_time": "2022-01-26T21:44:43.729Z"
   },
   {
    "duration": 201,
    "start_time": "2022-01-26T21:44:43.971Z"
   },
   {
    "duration": 12,
    "start_time": "2022-01-26T21:44:44.175Z"
   },
   {
    "duration": 25,
    "start_time": "2022-01-26T21:44:44.189Z"
   },
   {
    "duration": 173,
    "start_time": "2022-01-26T21:44:44.216Z"
   },
   {
    "duration": 32,
    "start_time": "2022-01-26T21:44:44.392Z"
   },
   {
    "duration": 79,
    "start_time": "2022-01-26T21:44:44.430Z"
   },
   {
    "duration": 90,
    "start_time": "2022-01-26T21:44:44.512Z"
   },
   {
    "duration": 72,
    "start_time": "2022-01-26T21:44:44.604Z"
   },
   {
    "duration": 51,
    "start_time": "2022-01-26T21:44:44.679Z"
   },
   {
    "duration": 33,
    "start_time": "2022-01-26T21:44:44.733Z"
   },
   {
    "duration": 5,
    "start_time": "2022-01-26T21:44:44.769Z"
   },
   {
    "duration": 45,
    "start_time": "2022-01-26T21:44:44.777Z"
   },
   {
    "duration": 30,
    "start_time": "2022-01-26T21:44:44.860Z"
   },
   {
    "duration": 34,
    "start_time": "2022-01-26T21:44:44.893Z"
   },
   {
    "duration": 71,
    "start_time": "2022-01-26T21:44:44.930Z"
   },
   {
    "duration": 39,
    "start_time": "2022-01-26T21:44:56.797Z"
   },
   {
    "duration": 36,
    "start_time": "2022-01-26T21:50:03.211Z"
   },
   {
    "duration": 26,
    "start_time": "2022-01-26T21:50:23.015Z"
   },
   {
    "duration": 1321,
    "start_time": "2022-01-26T21:50:34.795Z"
   },
   {
    "duration": 244,
    "start_time": "2022-01-26T21:50:36.119Z"
   },
   {
    "duration": 200,
    "start_time": "2022-01-26T21:50:36.369Z"
   },
   {
    "duration": 14,
    "start_time": "2022-01-26T21:50:36.571Z"
   },
   {
    "duration": 22,
    "start_time": "2022-01-26T21:50:36.588Z"
   },
   {
    "duration": 166,
    "start_time": "2022-01-26T21:50:36.612Z"
   },
   {
    "duration": 32,
    "start_time": "2022-01-26T21:50:36.782Z"
   },
   {
    "duration": 49,
    "start_time": "2022-01-26T21:50:36.818Z"
   },
   {
    "duration": 94,
    "start_time": "2022-01-26T21:50:36.869Z"
   },
   {
    "duration": 64,
    "start_time": "2022-01-26T21:50:36.965Z"
   },
   {
    "duration": 64,
    "start_time": "2022-01-26T21:50:37.031Z"
   },
   {
    "duration": 14,
    "start_time": "2022-01-26T21:50:37.098Z"
   },
   {
    "duration": 4,
    "start_time": "2022-01-26T21:50:37.114Z"
   },
   {
    "duration": 71,
    "start_time": "2022-01-26T21:50:37.120Z"
   },
   {
    "duration": 28,
    "start_time": "2022-01-26T21:50:37.193Z"
   },
   {
    "duration": 51,
    "start_time": "2022-01-26T21:50:37.223Z"
   },
   {
    "duration": 41,
    "start_time": "2022-01-26T21:50:37.276Z"
   },
   {
    "duration": 52,
    "start_time": "2022-01-26T21:50:37.319Z"
   },
   {
    "duration": 7771,
    "start_time": "2022-01-26T21:52:51.934Z"
   },
   {
    "duration": 11772,
    "start_time": "2022-01-26T21:53:52.755Z"
   },
   {
    "duration": 23,
    "start_time": "2022-01-26T21:54:21.830Z"
   },
   {
    "duration": 1402,
    "start_time": "2022-01-26T21:54:29.122Z"
   },
   {
    "duration": 253,
    "start_time": "2022-01-26T21:54:30.526Z"
   },
   {
    "duration": 215,
    "start_time": "2022-01-26T21:54:30.785Z"
   },
   {
    "duration": 12,
    "start_time": "2022-01-26T21:54:31.002Z"
   },
   {
    "duration": 51,
    "start_time": "2022-01-26T21:54:31.017Z"
   },
   {
    "duration": 149,
    "start_time": "2022-01-26T21:54:31.070Z"
   },
   {
    "duration": 40,
    "start_time": "2022-01-26T21:54:31.223Z"
   },
   {
    "duration": 49,
    "start_time": "2022-01-26T21:54:31.266Z"
   },
   {
    "duration": 103,
    "start_time": "2022-01-26T21:54:31.317Z"
   },
   {
    "duration": 77,
    "start_time": "2022-01-26T21:54:31.423Z"
   },
   {
    "duration": 62,
    "start_time": "2022-01-26T21:54:31.503Z"
   },
   {
    "duration": 16,
    "start_time": "2022-01-26T21:54:31.567Z"
   },
   {
    "duration": 6,
    "start_time": "2022-01-26T21:54:31.585Z"
   },
   {
    "duration": 70,
    "start_time": "2022-01-26T21:54:31.593Z"
   },
   {
    "duration": 28,
    "start_time": "2022-01-26T21:54:31.665Z"
   },
   {
    "duration": 32,
    "start_time": "2022-01-26T21:54:31.696Z"
   },
   {
    "duration": 68,
    "start_time": "2022-01-26T21:54:31.730Z"
   },
   {
    "duration": 28,
    "start_time": "2022-01-26T21:54:31.800Z"
   },
   {
    "duration": 51,
    "start_time": "2022-01-26T21:54:31.830Z"
   },
   {
    "duration": 12,
    "start_time": "2022-01-26T22:01:03.205Z"
   },
   {
    "duration": 23,
    "start_time": "2022-01-26T22:01:11.126Z"
   },
   {
    "duration": 1317,
    "start_time": "2022-01-26T22:05:22.997Z"
   },
   {
    "duration": 240,
    "start_time": "2022-01-26T22:05:24.317Z"
   },
   {
    "duration": 201,
    "start_time": "2022-01-26T22:05:24.560Z"
   },
   {
    "duration": 13,
    "start_time": "2022-01-26T22:05:24.764Z"
   },
   {
    "duration": 20,
    "start_time": "2022-01-26T22:05:24.780Z"
   },
   {
    "duration": 166,
    "start_time": "2022-01-26T22:05:24.803Z"
   },
   {
    "duration": 31,
    "start_time": "2022-01-26T22:05:24.971Z"
   },
   {
    "duration": 44,
    "start_time": "2022-01-26T22:05:25.006Z"
   },
   {
    "duration": 88,
    "start_time": "2022-01-26T22:05:25.052Z"
   },
   {
    "duration": 74,
    "start_time": "2022-01-26T22:05:25.142Z"
   },
   {
    "duration": 61,
    "start_time": "2022-01-26T22:05:25.218Z"
   },
   {
    "duration": 14,
    "start_time": "2022-01-26T22:05:25.281Z"
   },
   {
    "duration": 4,
    "start_time": "2022-01-26T22:05:25.298Z"
   },
   {
    "duration": 72,
    "start_time": "2022-01-26T22:05:25.304Z"
   },
   {
    "duration": 29,
    "start_time": "2022-01-26T22:05:25.378Z"
   },
   {
    "duration": 51,
    "start_time": "2022-01-26T22:05:25.410Z"
   },
   {
    "duration": 45,
    "start_time": "2022-01-26T22:05:25.463Z"
   },
   {
    "duration": 50,
    "start_time": "2022-01-26T22:05:25.511Z"
   },
   {
    "duration": 25,
    "start_time": "2022-01-26T22:05:25.563Z"
   },
   {
    "duration": 21,
    "start_time": "2022-01-26T22:05:25.590Z"
   },
   {
    "duration": 24,
    "start_time": "2022-01-26T22:06:38.091Z"
   },
   {
    "duration": 33,
    "start_time": "2022-01-26T22:16:00.999Z"
   },
   {
    "duration": 429,
    "start_time": "2022-01-26T22:20:42.454Z"
   },
   {
    "duration": 15,
    "start_time": "2022-01-26T22:21:13.177Z"
   },
   {
    "duration": 13,
    "start_time": "2022-01-26T22:21:25.148Z"
   },
   {
    "duration": 13,
    "start_time": "2022-01-26T22:21:59.428Z"
   },
   {
    "duration": 14,
    "start_time": "2022-01-26T22:22:41.357Z"
   },
   {
    "duration": 36,
    "start_time": "2022-01-26T22:22:50.754Z"
   },
   {
    "duration": 1305,
    "start_time": "2022-01-26T22:24:03.696Z"
   },
   {
    "duration": 240,
    "start_time": "2022-01-26T22:24:05.004Z"
   },
   {
    "duration": 198,
    "start_time": "2022-01-26T22:24:05.247Z"
   },
   {
    "duration": 22,
    "start_time": "2022-01-26T22:24:05.447Z"
   },
   {
    "duration": 20,
    "start_time": "2022-01-26T22:24:05.471Z"
   },
   {
    "duration": 161,
    "start_time": "2022-01-26T22:24:05.493Z"
   },
   {
    "duration": 31,
    "start_time": "2022-01-26T22:24:05.660Z"
   },
   {
    "duration": 45,
    "start_time": "2022-01-26T22:24:05.694Z"
   },
   {
    "duration": 82,
    "start_time": "2022-01-26T22:24:05.743Z"
   },
   {
    "duration": 74,
    "start_time": "2022-01-26T22:24:05.828Z"
   },
   {
    "duration": 59,
    "start_time": "2022-01-26T22:24:05.904Z"
   },
   {
    "duration": 15,
    "start_time": "2022-01-26T22:24:05.965Z"
   },
   {
    "duration": 7,
    "start_time": "2022-01-26T22:24:05.983Z"
   },
   {
    "duration": 69,
    "start_time": "2022-01-26T22:24:05.992Z"
   },
   {
    "duration": 30,
    "start_time": "2022-01-26T22:24:06.063Z"
   },
   {
    "duration": 32,
    "start_time": "2022-01-26T22:24:06.096Z"
   },
   {
    "duration": 70,
    "start_time": "2022-01-26T22:24:06.131Z"
   },
   {
    "duration": 57,
    "start_time": "2022-01-26T22:24:06.204Z"
   },
   {
    "duration": 26,
    "start_time": "2022-01-26T22:24:06.264Z"
   },
   {
    "duration": 23,
    "start_time": "2022-01-26T22:24:06.293Z"
   },
   {
    "duration": 59,
    "start_time": "2022-01-26T22:24:06.319Z"
   },
   {
    "duration": 33,
    "start_time": "2022-01-26T22:24:06.381Z"
   },
   {
    "duration": 43,
    "start_time": "2022-01-26T22:24:06.418Z"
   },
   {
    "duration": 34,
    "start_time": "2022-01-26T22:24:06.463Z"
   },
   {
    "duration": 11,
    "start_time": "2022-01-26T22:25:54.182Z"
   },
   {
    "duration": 11,
    "start_time": "2022-01-26T22:27:00.156Z"
   },
   {
    "duration": 9,
    "start_time": "2022-01-26T22:27:48.903Z"
   },
   {
    "duration": 11,
    "start_time": "2022-01-26T22:27:56.613Z"
   },
   {
    "duration": 34,
    "start_time": "2022-01-26T22:35:28.872Z"
   },
   {
    "duration": 1406,
    "start_time": "2022-01-26T22:35:42.303Z"
   },
   {
    "duration": 236,
    "start_time": "2022-01-26T22:35:43.712Z"
   },
   {
    "duration": 208,
    "start_time": "2022-01-26T22:35:43.951Z"
   },
   {
    "duration": 12,
    "start_time": "2022-01-26T22:35:44.162Z"
   },
   {
    "duration": 22,
    "start_time": "2022-01-26T22:35:44.176Z"
   },
   {
    "duration": 161,
    "start_time": "2022-01-26T22:35:44.200Z"
   },
   {
    "duration": 32,
    "start_time": "2022-01-26T22:35:44.363Z"
   },
   {
    "duration": 46,
    "start_time": "2022-01-26T22:35:44.398Z"
   },
   {
    "duration": 91,
    "start_time": "2022-01-26T22:35:44.447Z"
   },
   {
    "duration": 70,
    "start_time": "2022-01-26T22:35:44.540Z"
   },
   {
    "duration": 64,
    "start_time": "2022-01-26T22:35:44.612Z"
   },
   {
    "duration": 14,
    "start_time": "2022-01-26T22:35:44.678Z"
   },
   {
    "duration": 4,
    "start_time": "2022-01-26T22:35:44.695Z"
   },
   {
    "duration": 66,
    "start_time": "2022-01-26T22:35:44.701Z"
   },
   {
    "duration": 29,
    "start_time": "2022-01-26T22:35:44.769Z"
   },
   {
    "duration": 34,
    "start_time": "2022-01-26T22:35:44.800Z"
   },
   {
    "duration": 45,
    "start_time": "2022-01-26T22:35:44.860Z"
   },
   {
    "duration": 56,
    "start_time": "2022-01-26T22:35:44.907Z"
   },
   {
    "duration": 26,
    "start_time": "2022-01-26T22:35:44.965Z"
   },
   {
    "duration": 24,
    "start_time": "2022-01-26T22:35:44.993Z"
   },
   {
    "duration": 61,
    "start_time": "2022-01-26T22:35:45.019Z"
   },
   {
    "duration": 35,
    "start_time": "2022-01-26T22:35:45.083Z"
   },
   {
    "duration": 45,
    "start_time": "2022-01-26T22:35:45.124Z"
   },
   {
    "duration": 36,
    "start_time": "2022-01-26T22:35:45.172Z"
   },
   {
    "duration": 12,
    "start_time": "2022-01-26T22:35:45.211Z"
   },
   {
    "duration": 40,
    "start_time": "2022-01-26T22:35:45.225Z"
   },
   {
    "duration": 17,
    "start_time": "2022-01-26T22:36:55.631Z"
   },
   {
    "duration": 1381,
    "start_time": "2022-01-26T22:39:48.739Z"
   },
   {
    "duration": 249,
    "start_time": "2022-01-26T22:39:50.123Z"
   },
   {
    "duration": 218,
    "start_time": "2022-01-26T22:39:50.379Z"
   },
   {
    "duration": 13,
    "start_time": "2022-01-26T22:39:50.599Z"
   },
   {
    "duration": 45,
    "start_time": "2022-01-26T22:39:50.614Z"
   },
   {
    "duration": 142,
    "start_time": "2022-01-26T22:39:50.662Z"
   },
   {
    "duration": 33,
    "start_time": "2022-01-26T22:39:50.808Z"
   },
   {
    "duration": 59,
    "start_time": "2022-01-26T22:39:50.844Z"
   },
   {
    "duration": 82,
    "start_time": "2022-01-26T22:39:50.906Z"
   },
   {
    "duration": 81,
    "start_time": "2022-01-26T22:39:50.992Z"
   },
   {
    "duration": 53,
    "start_time": "2022-01-26T22:39:51.076Z"
   },
   {
    "duration": 35,
    "start_time": "2022-01-26T22:39:51.131Z"
   },
   {
    "duration": 9,
    "start_time": "2022-01-26T22:39:51.168Z"
   },
   {
    "duration": 46,
    "start_time": "2022-01-26T22:39:51.179Z"
   },
   {
    "duration": 49,
    "start_time": "2022-01-26T22:39:51.228Z"
   },
   {
    "duration": 34,
    "start_time": "2022-01-26T22:39:51.279Z"
   },
   {
    "duration": 75,
    "start_time": "2022-01-26T22:39:51.316Z"
   },
   {
    "duration": 27,
    "start_time": "2022-01-26T22:39:51.394Z"
   },
   {
    "duration": 49,
    "start_time": "2022-01-26T22:39:51.424Z"
   },
   {
    "duration": 23,
    "start_time": "2022-01-26T22:39:51.476Z"
   },
   {
    "duration": 24,
    "start_time": "2022-01-26T22:39:51.502Z"
   },
   {
    "duration": 59,
    "start_time": "2022-01-26T22:39:51.531Z"
   },
   {
    "duration": 12,
    "start_time": "2022-01-26T22:39:51.593Z"
   },
   {
    "duration": 68,
    "start_time": "2022-01-26T22:39:51.607Z"
   },
   {
    "duration": 13,
    "start_time": "2022-01-26T22:39:51.677Z"
   },
   {
    "duration": 9,
    "start_time": "2022-01-26T22:39:51.692Z"
   },
   {
    "duration": 15,
    "start_time": "2022-01-26T22:39:51.703Z"
   },
   {
    "duration": 441,
    "start_time": "2022-01-26T22:41:33.677Z"
   },
   {
    "duration": 15,
    "start_time": "2022-01-26T22:41:37.820Z"
   },
   {
    "duration": 16,
    "start_time": "2022-01-26T22:41:55.815Z"
   },
   {
    "duration": 297,
    "start_time": "2022-01-26T22:55:25.169Z"
   },
   {
    "duration": 6,
    "start_time": "2022-01-26T22:56:46.410Z"
   },
   {
    "duration": 16,
    "start_time": "2022-01-26T22:58:26.066Z"
   },
   {
    "duration": 1368,
    "start_time": "2022-01-26T22:58:30.580Z"
   },
   {
    "duration": 240,
    "start_time": "2022-01-26T22:58:31.951Z"
   },
   {
    "duration": 199,
    "start_time": "2022-01-26T22:58:32.194Z"
   },
   {
    "duration": 12,
    "start_time": "2022-01-26T22:58:32.396Z"
   },
   {
    "duration": 54,
    "start_time": "2022-01-26T22:58:32.411Z"
   },
   {
    "duration": 142,
    "start_time": "2022-01-26T22:58:32.468Z"
   },
   {
    "duration": 32,
    "start_time": "2022-01-26T22:58:32.612Z"
   },
   {
    "duration": 56,
    "start_time": "2022-01-26T22:58:32.650Z"
   },
   {
    "duration": 95,
    "start_time": "2022-01-26T22:58:32.710Z"
   },
   {
    "duration": 82,
    "start_time": "2022-01-26T22:58:32.809Z"
   },
   {
    "duration": 49,
    "start_time": "2022-01-26T22:58:32.894Z"
   },
   {
    "duration": 27,
    "start_time": "2022-01-26T22:58:32.945Z"
   },
   {
    "duration": 7,
    "start_time": "2022-01-26T22:58:32.976Z"
   },
   {
    "duration": 12,
    "start_time": "2022-01-26T22:58:32.986Z"
   },
   {
    "duration": 3,
    "start_time": "2022-01-26T22:58:33.000Z"
   },
   {
    "duration": 83,
    "start_time": "2022-01-26T22:58:33.006Z"
   },
   {
    "duration": 29,
    "start_time": "2022-01-26T22:58:33.091Z"
   },
   {
    "duration": 58,
    "start_time": "2022-01-26T22:58:33.122Z"
   },
   {
    "duration": 42,
    "start_time": "2022-01-26T22:58:33.182Z"
   },
   {
    "duration": 52,
    "start_time": "2022-01-26T22:58:33.226Z"
   },
   {
    "duration": 28,
    "start_time": "2022-01-26T22:58:33.280Z"
   },
   {
    "duration": 50,
    "start_time": "2022-01-26T22:58:33.311Z"
   },
   {
    "duration": 22,
    "start_time": "2022-01-26T22:58:33.365Z"
   },
   {
    "duration": 32,
    "start_time": "2022-01-26T22:58:33.389Z"
   },
   {
    "duration": 15,
    "start_time": "2022-01-26T22:58:33.460Z"
   },
   {
    "duration": 38,
    "start_time": "2022-01-26T22:58:33.478Z"
   },
   {
    "duration": 47,
    "start_time": "2022-01-26T22:58:33.519Z"
   },
   {
    "duration": 10,
    "start_time": "2022-01-26T22:58:33.569Z"
   },
   {
    "duration": 17,
    "start_time": "2022-01-26T22:58:33.583Z"
   },
   {
    "duration": 58,
    "start_time": "2022-01-26T22:58:33.603Z"
   },
   {
    "duration": 672,
    "start_time": "2022-01-26T23:00:08.539Z"
   },
   {
    "duration": 12,
    "start_time": "2022-01-26T23:00:19.920Z"
   },
   {
    "duration": 29,
    "start_time": "2022-01-26T23:00:43.805Z"
   },
   {
    "duration": 1454,
    "start_time": "2022-01-26T23:00:49.063Z"
   },
   {
    "duration": 244,
    "start_time": "2022-01-26T23:00:50.520Z"
   },
   {
    "duration": 300,
    "start_time": "2022-01-26T23:00:50.767Z"
   },
   {
    "duration": 13,
    "start_time": "2022-01-26T23:00:51.070Z"
   },
   {
    "duration": 21,
    "start_time": "2022-01-26T23:00:51.086Z"
   },
   {
    "duration": 173,
    "start_time": "2022-01-26T23:00:51.109Z"
   },
   {
    "duration": 33,
    "start_time": "2022-01-26T23:00:51.284Z"
   },
   {
    "duration": 51,
    "start_time": "2022-01-26T23:00:51.321Z"
   },
   {
    "duration": 97,
    "start_time": "2022-01-26T23:00:51.376Z"
   },
   {
    "duration": 63,
    "start_time": "2022-01-26T23:00:51.476Z"
   },
   {
    "duration": 64,
    "start_time": "2022-01-26T23:00:51.541Z"
   },
   {
    "duration": 14,
    "start_time": "2022-01-26T23:00:51.607Z"
   },
   {
    "duration": 36,
    "start_time": "2022-01-26T23:00:51.625Z"
   },
   {
    "duration": 23,
    "start_time": "2022-01-26T23:00:51.664Z"
   },
   {
    "duration": 5,
    "start_time": "2022-01-26T23:00:51.690Z"
   },
   {
    "duration": 71,
    "start_time": "2022-01-26T23:00:51.698Z"
   },
   {
    "duration": 38,
    "start_time": "2022-01-26T23:00:51.772Z"
   },
   {
    "duration": 65,
    "start_time": "2022-01-26T23:00:51.813Z"
   },
   {
    "duration": 64,
    "start_time": "2022-01-26T23:00:51.881Z"
   },
   {
    "duration": 49,
    "start_time": "2022-01-26T23:00:51.959Z"
   },
   {
    "duration": 55,
    "start_time": "2022-01-26T23:00:52.011Z"
   },
   {
    "duration": 31,
    "start_time": "2022-01-26T23:00:52.070Z"
   },
   {
    "duration": 54,
    "start_time": "2022-01-26T23:00:52.107Z"
   },
   {
    "duration": 47,
    "start_time": "2022-01-26T23:00:52.164Z"
   },
   {
    "duration": 18,
    "start_time": "2022-01-26T23:00:52.214Z"
   },
   {
    "duration": 54,
    "start_time": "2022-01-26T23:00:52.259Z"
   },
   {
    "duration": 19,
    "start_time": "2022-01-26T23:00:52.316Z"
   },
   {
    "duration": 13,
    "start_time": "2022-01-26T23:00:52.360Z"
   },
   {
    "duration": 7796,
    "start_time": "2022-01-26T23:00:52.377Z"
   },
   {
    "duration": -184,
    "start_time": "2022-01-26T23:01:00.360Z"
   },
   {
    "duration": 16,
    "start_time": "2022-01-26T23:01:46.474Z"
   },
   {
    "duration": 1387,
    "start_time": "2022-01-26T23:02:01.985Z"
   },
   {
    "duration": 241,
    "start_time": "2022-01-26T23:02:03.374Z"
   },
   {
    "duration": 204,
    "start_time": "2022-01-26T23:02:03.618Z"
   },
   {
    "duration": 12,
    "start_time": "2022-01-26T23:02:03.825Z"
   },
   {
    "duration": 20,
    "start_time": "2022-01-26T23:02:03.859Z"
   },
   {
    "duration": 156,
    "start_time": "2022-01-26T23:02:03.881Z"
   },
   {
    "duration": 32,
    "start_time": "2022-01-26T23:02:04.039Z"
   },
   {
    "duration": 46,
    "start_time": "2022-01-26T23:02:04.076Z"
   },
   {
    "duration": 94,
    "start_time": "2022-01-26T23:02:04.124Z"
   },
   {
    "duration": 75,
    "start_time": "2022-01-26T23:02:04.220Z"
   },
   {
    "duration": 49,
    "start_time": "2022-01-26T23:02:04.297Z"
   },
   {
    "duration": 15,
    "start_time": "2022-01-26T23:02:04.360Z"
   },
   {
    "duration": 10,
    "start_time": "2022-01-26T23:02:04.378Z"
   },
   {
    "duration": 20,
    "start_time": "2022-01-26T23:02:04.390Z"
   },
   {
    "duration": 4,
    "start_time": "2022-01-26T23:02:04.412Z"
   },
   {
    "duration": 70,
    "start_time": "2022-01-26T23:02:04.418Z"
   },
   {
    "duration": 29,
    "start_time": "2022-01-26T23:02:04.490Z"
   },
   {
    "duration": 56,
    "start_time": "2022-01-26T23:02:04.521Z"
   },
   {
    "duration": 46,
    "start_time": "2022-01-26T23:02:04.580Z"
   },
   {
    "duration": 55,
    "start_time": "2022-01-26T23:02:04.628Z"
   },
   {
    "duration": 23,
    "start_time": "2022-01-26T23:02:04.685Z"
   },
   {
    "duration": 48,
    "start_time": "2022-01-26T23:02:04.711Z"
   },
   {
    "duration": 22,
    "start_time": "2022-01-26T23:02:04.763Z"
   },
   {
    "duration": 71,
    "start_time": "2022-01-26T23:02:04.788Z"
   },
   {
    "duration": 13,
    "start_time": "2022-01-26T23:02:04.862Z"
   },
   {
    "duration": 34,
    "start_time": "2022-01-26T23:02:04.877Z"
   },
   {
    "duration": 14,
    "start_time": "2022-01-26T23:02:04.914Z"
   },
   {
    "duration": 10,
    "start_time": "2022-01-26T23:02:04.961Z"
   },
   {
    "duration": 19,
    "start_time": "2022-01-26T23:02:04.974Z"
   },
   {
    "duration": 16,
    "start_time": "2022-01-26T23:02:04.996Z"
   },
   {
    "duration": 1003,
    "start_time": "2022-01-27T22:29:05.690Z"
   },
   {
    "duration": 187,
    "start_time": "2022-01-27T22:29:06.695Z"
   },
   {
    "duration": 145,
    "start_time": "2022-01-27T22:29:06.885Z"
   },
   {
    "duration": 10,
    "start_time": "2022-01-27T22:29:07.033Z"
   },
   {
    "duration": 13,
    "start_time": "2022-01-27T22:29:07.045Z"
   },
   {
    "duration": 111,
    "start_time": "2022-01-27T22:29:07.059Z"
   },
   {
    "duration": 23,
    "start_time": "2022-01-27T22:29:07.171Z"
   },
   {
    "duration": 56,
    "start_time": "2022-01-27T22:29:07.196Z"
   },
   {
    "duration": 52,
    "start_time": "2022-01-27T22:29:07.254Z"
   },
   {
    "duration": 48,
    "start_time": "2022-01-27T22:29:07.307Z"
   },
   {
    "duration": 30,
    "start_time": "2022-01-27T22:29:07.357Z"
   },
   {
    "duration": 8,
    "start_time": "2022-01-27T22:29:07.389Z"
   },
   {
    "duration": 6,
    "start_time": "2022-01-27T22:29:07.399Z"
   },
   {
    "duration": 25,
    "start_time": "2022-01-27T22:29:07.407Z"
   },
   {
    "duration": 3,
    "start_time": "2022-01-27T22:29:07.434Z"
   },
   {
    "duration": 37,
    "start_time": "2022-01-27T22:29:07.439Z"
   },
   {
    "duration": 18,
    "start_time": "2022-01-27T22:29:07.478Z"
   },
   {
    "duration": 44,
    "start_time": "2022-01-27T22:29:07.498Z"
   },
   {
    "duration": 31,
    "start_time": "2022-01-27T22:29:07.543Z"
   },
   {
    "duration": 22,
    "start_time": "2022-01-27T22:29:07.575Z"
   },
   {
    "duration": 34,
    "start_time": "2022-01-27T22:29:07.599Z"
   },
   {
    "duration": 14,
    "start_time": "2022-01-27T22:29:07.635Z"
   },
   {
    "duration": 12,
    "start_time": "2022-01-27T22:29:07.652Z"
   },
   {
    "duration": 16,
    "start_time": "2022-01-27T22:29:07.666Z"
   },
   {
    "duration": 7,
    "start_time": "2022-01-27T22:29:07.684Z"
   },
   {
    "duration": 58,
    "start_time": "2022-01-27T22:29:07.692Z"
   },
   {
    "duration": 8,
    "start_time": "2022-01-27T22:29:07.752Z"
   },
   {
    "duration": 6,
    "start_time": "2022-01-27T22:29:07.761Z"
   },
   {
    "duration": 9,
    "start_time": "2022-01-27T22:29:07.768Z"
   },
   {
    "duration": 8,
    "start_time": "2022-01-27T22:29:07.778Z"
   },
   {
    "duration": 1058,
    "start_time": "2022-01-27T22:42:35.521Z"
   },
   {
    "duration": 165,
    "start_time": "2022-01-27T22:42:36.581Z"
   },
   {
    "duration": 132,
    "start_time": "2022-01-27T22:42:36.748Z"
   },
   {
    "duration": 7,
    "start_time": "2022-01-27T22:42:36.882Z"
   },
   {
    "duration": 16,
    "start_time": "2022-01-27T22:42:36.891Z"
   },
   {
    "duration": 103,
    "start_time": "2022-01-27T22:42:36.909Z"
   },
   {
    "duration": 22,
    "start_time": "2022-01-27T22:42:37.014Z"
   },
   {
    "duration": 38,
    "start_time": "2022-01-27T22:42:37.039Z"
   },
   {
    "duration": 53,
    "start_time": "2022-01-27T22:42:37.079Z"
   },
   {
    "duration": 39,
    "start_time": "2022-01-27T22:42:37.133Z"
   },
   {
    "duration": 30,
    "start_time": "2022-01-27T22:42:37.173Z"
   },
   {
    "duration": 9,
    "start_time": "2022-01-27T22:42:37.210Z"
   },
   {
    "duration": 4,
    "start_time": "2022-01-27T22:42:37.227Z"
   },
   {
    "duration": 14,
    "start_time": "2022-01-27T22:42:37.233Z"
   },
   {
    "duration": 2,
    "start_time": "2022-01-27T22:42:37.248Z"
   },
   {
    "duration": 27,
    "start_time": "2022-01-27T22:42:37.252Z"
   },
   {
    "duration": 17,
    "start_time": "2022-01-27T22:42:37.280Z"
   },
   {
    "duration": 43,
    "start_time": "2022-01-27T22:42:37.298Z"
   },
   {
    "duration": 30,
    "start_time": "2022-01-27T22:42:37.343Z"
   },
   {
    "duration": 22,
    "start_time": "2022-01-27T22:42:37.375Z"
   },
   {
    "duration": 37,
    "start_time": "2022-01-27T22:42:37.398Z"
   },
   {
    "duration": 12,
    "start_time": "2022-01-27T22:42:37.436Z"
   },
   {
    "duration": 11,
    "start_time": "2022-01-27T22:42:37.451Z"
   },
   {
    "duration": 17,
    "start_time": "2022-01-27T22:42:37.463Z"
   },
   {
    "duration": 7,
    "start_time": "2022-01-27T22:42:37.482Z"
   },
   {
    "duration": 5,
    "start_time": "2022-01-27T22:42:37.490Z"
   },
   {
    "duration": 49,
    "start_time": "2022-01-27T22:42:37.496Z"
   },
   {
    "duration": 7,
    "start_time": "2022-01-27T22:42:37.547Z"
   },
   {
    "duration": 6,
    "start_time": "2022-01-27T22:42:37.555Z"
   },
   {
    "duration": 10,
    "start_time": "2022-01-27T22:42:37.562Z"
   },
   {
    "duration": 9,
    "start_time": "2022-01-27T22:42:37.574Z"
   },
   {
    "duration": 2,
    "start_time": "2022-01-27T22:42:37.584Z"
   },
   {
    "duration": 4,
    "start_time": "2022-01-27T22:47:05.818Z"
   },
   {
    "duration": 184,
    "start_time": "2022-01-27T22:47:54.856Z"
   },
   {
    "duration": 195,
    "start_time": "2022-01-27T22:48:03.968Z"
   },
   {
    "duration": 385,
    "start_time": "2022-01-27T22:51:50.779Z"
   },
   {
    "duration": 22,
    "start_time": "2022-01-27T22:52:04.430Z"
   },
   {
    "duration": 4,
    "start_time": "2022-01-27T23:13:08.824Z"
   },
   {
    "duration": 580,
    "start_time": "2022-01-27T23:13:41.138Z"
   },
   {
    "duration": 4,
    "start_time": "2022-01-27T23:13:55.391Z"
   },
   {
    "duration": 547,
    "start_time": "2022-01-27T23:13:56.722Z"
   },
   {
    "duration": 3,
    "start_time": "2022-01-27T23:14:17.600Z"
   },
   {
    "duration": 870,
    "start_time": "2022-01-27T23:14:18.024Z"
   },
   {
    "duration": 4,
    "start_time": "2022-01-27T23:16:17.155Z"
   },
   {
    "duration": 176,
    "start_time": "2022-01-27T23:16:17.943Z"
   },
   {
    "duration": 837,
    "start_time": "2022-01-27T23:16:33.914Z"
   },
   {
    "duration": 4,
    "start_time": "2022-01-27T23:16:51.982Z"
   },
   {
    "duration": 4,
    "start_time": "2022-01-27T23:17:09.035Z"
   },
   {
    "duration": 4,
    "start_time": "2022-01-27T23:17:42.042Z"
   },
   {
    "duration": 4,
    "start_time": "2022-01-27T23:18:45.847Z"
   },
   {
    "duration": 176,
    "start_time": "2022-01-27T23:18:48.537Z"
   },
   {
    "duration": 4,
    "start_time": "2022-01-27T23:18:56.781Z"
   },
   {
    "duration": 176,
    "start_time": "2022-01-27T23:18:57.238Z"
   },
   {
    "duration": 4,
    "start_time": "2022-01-27T23:19:12.162Z"
   },
   {
    "duration": 185,
    "start_time": "2022-01-27T23:19:13.119Z"
   },
   {
    "duration": 4,
    "start_time": "2022-01-27T23:19:20.611Z"
   },
   {
    "duration": 88,
    "start_time": "2022-01-27T23:23:58.562Z"
   },
   {
    "duration": 89,
    "start_time": "2022-01-27T23:24:11.181Z"
   },
   {
    "duration": 174,
    "start_time": "2022-01-27T23:25:35.843Z"
   },
   {
    "duration": 126,
    "start_time": "2022-01-27T23:26:03.417Z"
   },
   {
    "duration": 115,
    "start_time": "2022-01-27T23:26:13.952Z"
   },
   {
    "duration": 4,
    "start_time": "2022-01-27T23:27:18.026Z"
   },
   {
    "duration": 566,
    "start_time": "2022-01-27T23:27:40.659Z"
   },
   {
    "duration": 938,
    "start_time": "2022-01-27T23:28:56.972Z"
   },
   {
    "duration": 176,
    "start_time": "2022-01-27T23:28:57.912Z"
   },
   {
    "duration": 145,
    "start_time": "2022-01-27T23:28:58.090Z"
   },
   {
    "duration": 8,
    "start_time": "2022-01-27T23:28:58.237Z"
   },
   {
    "duration": 13,
    "start_time": "2022-01-27T23:28:58.247Z"
   },
   {
    "duration": 106,
    "start_time": "2022-01-27T23:28:58.262Z"
   },
   {
    "duration": 22,
    "start_time": "2022-01-27T23:28:58.370Z"
   },
   {
    "duration": 36,
    "start_time": "2022-01-27T23:28:58.394Z"
   },
   {
    "duration": 60,
    "start_time": "2022-01-27T23:28:58.432Z"
   },
   {
    "duration": 59,
    "start_time": "2022-01-27T23:28:58.494Z"
   },
   {
    "duration": 32,
    "start_time": "2022-01-27T23:28:58.555Z"
   },
   {
    "duration": 8,
    "start_time": "2022-01-27T23:28:58.589Z"
   },
   {
    "duration": 8,
    "start_time": "2022-01-27T23:28:58.599Z"
   },
   {
    "duration": 32,
    "start_time": "2022-01-27T23:28:58.609Z"
   },
   {
    "duration": 4,
    "start_time": "2022-01-27T23:28:58.643Z"
   },
   {
    "duration": 29,
    "start_time": "2022-01-27T23:28:58.648Z"
   },
   {
    "duration": 18,
    "start_time": "2022-01-27T23:28:58.678Z"
   },
   {
    "duration": 32,
    "start_time": "2022-01-27T23:28:58.697Z"
   },
   {
    "duration": 35,
    "start_time": "2022-01-27T23:28:58.731Z"
   },
   {
    "duration": 22,
    "start_time": "2022-01-27T23:28:58.767Z"
   },
   {
    "duration": 38,
    "start_time": "2022-01-27T23:28:58.790Z"
   },
   {
    "duration": 13,
    "start_time": "2022-01-27T23:28:58.830Z"
   },
   {
    "duration": 13,
    "start_time": "2022-01-27T23:28:58.847Z"
   },
   {
    "duration": 17,
    "start_time": "2022-01-27T23:28:58.861Z"
   },
   {
    "duration": 8,
    "start_time": "2022-01-27T23:28:58.879Z"
   },
   {
    "duration": 6,
    "start_time": "2022-01-27T23:28:58.888Z"
   },
   {
    "duration": 33,
    "start_time": "2022-01-27T23:28:58.896Z"
   },
   {
    "duration": 10,
    "start_time": "2022-01-27T23:28:58.930Z"
   },
   {
    "duration": 9,
    "start_time": "2022-01-27T23:28:58.942Z"
   },
   {
    "duration": 9,
    "start_time": "2022-01-27T23:28:58.952Z"
   },
   {
    "duration": 7,
    "start_time": "2022-01-27T23:28:58.963Z"
   },
   {
    "duration": 3,
    "start_time": "2022-01-27T23:28:58.972Z"
   },
   {
    "duration": 232,
    "start_time": "2022-01-27T23:28:58.977Z"
   },
   {
    "duration": 29,
    "start_time": "2022-01-27T23:28:59.211Z"
   },
   {
    "duration": 4,
    "start_time": "2022-01-27T23:28:59.241Z"
   },
   {
    "duration": 10,
    "start_time": "2022-01-27T23:28:59.247Z"
   },
   {
    "duration": 178,
    "start_time": "2022-01-27T23:30:36.422Z"
   },
   {
    "duration": 177,
    "start_time": "2022-01-27T23:31:13.360Z"
   },
   {
    "duration": 467,
    "start_time": "2022-01-27T23:32:18.534Z"
   },
   {
    "duration": 179,
    "start_time": "2022-01-27T23:37:53.443Z"
   },
   {
    "duration": 181,
    "start_time": "2022-01-27T23:38:12.418Z"
   },
   {
    "duration": 11,
    "start_time": "2022-01-27T23:38:39.852Z"
   },
   {
    "duration": 175,
    "start_time": "2022-01-27T23:44:05.860Z"
   },
   {
    "duration": 167,
    "start_time": "2022-01-27T23:44:21.635Z"
   },
   {
    "duration": 10,
    "start_time": "2022-01-27T23:44:44.879Z"
   },
   {
    "duration": 943,
    "start_time": "2022-01-27T23:45:25.640Z"
   },
   {
    "duration": 159,
    "start_time": "2022-01-27T23:45:26.585Z"
   },
   {
    "duration": 140,
    "start_time": "2022-01-27T23:45:26.745Z"
   },
   {
    "duration": 8,
    "start_time": "2022-01-27T23:45:26.886Z"
   },
   {
    "duration": 14,
    "start_time": "2022-01-27T23:45:26.895Z"
   },
   {
    "duration": 102,
    "start_time": "2022-01-27T23:45:26.910Z"
   },
   {
    "duration": 24,
    "start_time": "2022-01-27T23:45:27.014Z"
   },
   {
    "duration": 45,
    "start_time": "2022-01-27T23:45:27.040Z"
   },
   {
    "duration": 56,
    "start_time": "2022-01-27T23:45:27.086Z"
   },
   {
    "duration": 40,
    "start_time": "2022-01-27T23:45:27.143Z"
   },
   {
    "duration": 43,
    "start_time": "2022-01-27T23:45:27.184Z"
   },
   {
    "duration": 11,
    "start_time": "2022-01-27T23:45:27.230Z"
   },
   {
    "duration": 6,
    "start_time": "2022-01-27T23:45:27.243Z"
   },
   {
    "duration": 15,
    "start_time": "2022-01-27T23:45:27.250Z"
   },
   {
    "duration": 3,
    "start_time": "2022-01-27T23:45:27.266Z"
   },
   {
    "duration": 27,
    "start_time": "2022-01-27T23:45:27.270Z"
   },
   {
    "duration": 44,
    "start_time": "2022-01-27T23:45:27.299Z"
   },
   {
    "duration": 20,
    "start_time": "2022-01-27T23:45:27.344Z"
   },
   {
    "duration": 31,
    "start_time": "2022-01-27T23:45:27.365Z"
   },
   {
    "duration": 52,
    "start_time": "2022-01-27T23:45:27.397Z"
   },
   {
    "duration": 15,
    "start_time": "2022-01-27T23:45:27.451Z"
   },
   {
    "duration": 11,
    "start_time": "2022-01-27T23:45:27.468Z"
   },
   {
    "duration": 12,
    "start_time": "2022-01-27T23:45:27.482Z"
   },
   {
    "duration": 39,
    "start_time": "2022-01-27T23:45:27.495Z"
   },
   {
    "duration": 9,
    "start_time": "2022-01-27T23:45:27.536Z"
   },
   {
    "duration": 6,
    "start_time": "2022-01-27T23:45:27.546Z"
   },
   {
    "duration": 23,
    "start_time": "2022-01-27T23:45:27.554Z"
   },
   {
    "duration": 7,
    "start_time": "2022-01-27T23:45:27.579Z"
   },
   {
    "duration": 6,
    "start_time": "2022-01-27T23:45:27.587Z"
   },
   {
    "duration": 40,
    "start_time": "2022-01-27T23:45:27.594Z"
   },
   {
    "duration": 9,
    "start_time": "2022-01-27T23:45:27.636Z"
   },
   {
    "duration": 3,
    "start_time": "2022-01-27T23:45:27.647Z"
   },
   {
    "duration": 218,
    "start_time": "2022-01-27T23:45:27.651Z"
   },
   {
    "duration": 20,
    "start_time": "2022-01-27T23:45:27.870Z"
   },
   {
    "duration": 3,
    "start_time": "2022-01-27T23:45:27.891Z"
   },
   {
    "duration": 5,
    "start_time": "2022-01-27T23:45:27.895Z"
   },
   {
    "duration": 193,
    "start_time": "2022-01-27T23:45:27.901Z"
   },
   {
    "duration": 188,
    "start_time": "2022-01-27T23:45:28.096Z"
   },
   {
    "duration": 473,
    "start_time": "2022-01-27T23:45:28.286Z"
   },
   {
    "duration": 183,
    "start_time": "2022-01-27T23:45:28.760Z"
   },
   {
    "duration": 183,
    "start_time": "2022-01-27T23:45:28.944Z"
   },
   {
    "duration": 12,
    "start_time": "2022-01-27T23:45:29.129Z"
   },
   {
    "duration": 231,
    "start_time": "2022-01-27T23:45:29.143Z"
   },
   {
    "duration": 181,
    "start_time": "2022-01-27T23:45:29.376Z"
   },
   {
    "duration": 11,
    "start_time": "2022-01-27T23:45:29.559Z"
   },
   {
    "duration": 967,
    "start_time": "2022-01-27T23:50:20.738Z"
   },
   {
    "duration": 169,
    "start_time": "2022-01-27T23:50:21.707Z"
   },
   {
    "duration": 143,
    "start_time": "2022-01-27T23:50:21.878Z"
   },
   {
    "duration": 11,
    "start_time": "2022-01-27T23:50:22.023Z"
   },
   {
    "duration": 22,
    "start_time": "2022-01-27T23:50:22.036Z"
   },
   {
    "duration": 100,
    "start_time": "2022-01-27T23:50:22.059Z"
   },
   {
    "duration": 22,
    "start_time": "2022-01-27T23:50:22.160Z"
   },
   {
    "duration": 34,
    "start_time": "2022-01-27T23:50:22.184Z"
   },
   {
    "duration": 57,
    "start_time": "2022-01-27T23:50:22.220Z"
   },
   {
    "duration": 39,
    "start_time": "2022-01-27T23:50:22.279Z"
   },
   {
    "duration": 34,
    "start_time": "2022-01-27T23:50:22.327Z"
   },
   {
    "duration": 9,
    "start_time": "2022-01-27T23:50:22.362Z"
   },
   {
    "duration": 7,
    "start_time": "2022-01-27T23:50:22.372Z"
   },
   {
    "duration": 14,
    "start_time": "2022-01-27T23:50:22.380Z"
   },
   {
    "duration": 2,
    "start_time": "2022-01-27T23:50:22.395Z"
   },
   {
    "duration": 47,
    "start_time": "2022-01-27T23:50:22.399Z"
   },
   {
    "duration": 17,
    "start_time": "2022-01-27T23:50:22.447Z"
   },
   {
    "duration": 18,
    "start_time": "2022-01-27T23:50:22.466Z"
   },
   {
    "duration": 52,
    "start_time": "2022-01-27T23:50:22.486Z"
   },
   {
    "duration": 24,
    "start_time": "2022-01-27T23:50:22.541Z"
   },
   {
    "duration": 15,
    "start_time": "2022-01-27T23:50:22.566Z"
   },
   {
    "duration": 12,
    "start_time": "2022-01-27T23:50:22.583Z"
   },
   {
    "duration": 36,
    "start_time": "2022-01-27T23:50:22.598Z"
   },
   {
    "duration": 18,
    "start_time": "2022-01-27T23:50:22.636Z"
   },
   {
    "duration": 9,
    "start_time": "2022-01-27T23:50:22.655Z"
   },
   {
    "duration": 8,
    "start_time": "2022-01-27T23:50:22.665Z"
   },
   {
    "duration": 22,
    "start_time": "2022-01-27T23:50:22.675Z"
   },
   {
    "duration": 33,
    "start_time": "2022-01-27T23:50:22.698Z"
   },
   {
    "duration": 7,
    "start_time": "2022-01-27T23:50:22.733Z"
   },
   {
    "duration": 10,
    "start_time": "2022-01-27T23:50:22.742Z"
   },
   {
    "duration": 8,
    "start_time": "2022-01-27T23:50:22.754Z"
   },
   {
    "duration": 4,
    "start_time": "2022-01-27T23:50:22.764Z"
   },
   {
    "duration": 231,
    "start_time": "2022-01-27T23:50:22.769Z"
   },
   {
    "duration": 30,
    "start_time": "2022-01-27T23:50:23.002Z"
   },
   {
    "duration": 4,
    "start_time": "2022-01-27T23:50:23.034Z"
   },
   {
    "duration": 10,
    "start_time": "2022-01-27T23:50:23.039Z"
   },
   {
    "duration": 178,
    "start_time": "2022-01-27T23:50:23.050Z"
   },
   {
    "duration": 174,
    "start_time": "2022-01-27T23:50:23.230Z"
   },
   {
    "duration": 605,
    "start_time": "2022-01-27T23:50:23.406Z"
   },
   {
    "duration": 185,
    "start_time": "2022-01-27T23:50:24.012Z"
   },
   {
    "duration": 186,
    "start_time": "2022-01-27T23:50:24.199Z"
   },
   {
    "duration": 10,
    "start_time": "2022-01-27T23:50:24.387Z"
   },
   {
    "duration": 196,
    "start_time": "2022-01-27T23:50:24.399Z"
   },
   {
    "duration": 178,
    "start_time": "2022-01-27T23:50:24.597Z"
   },
   {
    "duration": 9,
    "start_time": "2022-01-27T23:50:24.777Z"
   },
   {
    "duration": 1023,
    "start_time": "2022-01-28T00:09:16.676Z"
   },
   {
    "duration": 183,
    "start_time": "2022-01-28T00:09:17.700Z"
   },
   {
    "duration": 147,
    "start_time": "2022-01-28T00:09:17.885Z"
   },
   {
    "duration": 11,
    "start_time": "2022-01-28T00:09:18.034Z"
   },
   {
    "duration": 26,
    "start_time": "2022-01-28T00:09:18.046Z"
   },
   {
    "duration": 140,
    "start_time": "2022-01-28T00:09:18.074Z"
   },
   {
    "duration": 26,
    "start_time": "2022-01-28T00:09:18.216Z"
   },
   {
    "duration": 40,
    "start_time": "2022-01-28T00:09:18.245Z"
   },
   {
    "duration": 86,
    "start_time": "2022-01-28T00:09:18.287Z"
   },
   {
    "duration": 69,
    "start_time": "2022-01-28T00:09:18.375Z"
   },
   {
    "duration": 50,
    "start_time": "2022-01-28T00:09:18.445Z"
   },
   {
    "duration": 10,
    "start_time": "2022-01-28T00:09:18.497Z"
   },
   {
    "duration": 6,
    "start_time": "2022-01-28T00:09:18.527Z"
   },
   {
    "duration": 26,
    "start_time": "2022-01-28T00:09:18.535Z"
   },
   {
    "duration": 3,
    "start_time": "2022-01-28T00:09:18.563Z"
   },
   {
    "duration": 35,
    "start_time": "2022-01-28T00:09:18.568Z"
   },
   {
    "duration": 30,
    "start_time": "2022-01-28T00:09:18.605Z"
   },
   {
    "duration": 25,
    "start_time": "2022-01-28T00:09:18.637Z"
   },
   {
    "duration": 41,
    "start_time": "2022-01-28T00:09:18.664Z"
   },
   {
    "duration": 47,
    "start_time": "2022-01-28T00:09:18.707Z"
   },
   {
    "duration": 21,
    "start_time": "2022-01-28T00:09:18.756Z"
   },
   {
    "duration": 16,
    "start_time": "2022-01-28T00:09:18.779Z"
   },
   {
    "duration": 38,
    "start_time": "2022-01-28T00:09:18.799Z"
   },
   {
    "duration": 22,
    "start_time": "2022-01-28T00:09:18.840Z"
   },
   {
    "duration": 8,
    "start_time": "2022-01-28T00:09:18.863Z"
   },
   {
    "duration": 6,
    "start_time": "2022-01-28T00:09:18.873Z"
   },
   {
    "duration": 26,
    "start_time": "2022-01-28T00:09:18.881Z"
   },
   {
    "duration": 12,
    "start_time": "2022-01-28T00:09:18.928Z"
   },
   {
    "duration": 11,
    "start_time": "2022-01-28T00:09:18.942Z"
   },
   {
    "duration": 10,
    "start_time": "2022-01-28T00:09:18.955Z"
   },
   {
    "duration": 10,
    "start_time": "2022-01-28T00:09:18.967Z"
   },
   {
    "duration": 4,
    "start_time": "2022-01-28T00:09:18.978Z"
   },
   {
    "duration": 245,
    "start_time": "2022-01-28T00:09:18.984Z"
   },
   {
    "duration": 28,
    "start_time": "2022-01-28T00:09:19.231Z"
   },
   {
    "duration": 3,
    "start_time": "2022-01-28T00:09:19.261Z"
   },
   {
    "duration": 12,
    "start_time": "2022-01-28T00:09:19.266Z"
   },
   {
    "duration": 214,
    "start_time": "2022-01-28T00:09:19.279Z"
   },
   {
    "duration": 193,
    "start_time": "2022-01-28T00:09:19.494Z"
   },
   {
    "duration": 650,
    "start_time": "2022-01-28T00:09:19.689Z"
   },
   {
    "duration": 188,
    "start_time": "2022-01-28T00:09:20.341Z"
   },
   {
    "duration": 177,
    "start_time": "2022-01-28T00:09:20.530Z"
   },
   {
    "duration": 20,
    "start_time": "2022-01-28T00:09:20.708Z"
   },
   {
    "duration": 191,
    "start_time": "2022-01-28T00:09:20.730Z"
   },
   {
    "duration": 175,
    "start_time": "2022-01-28T00:09:20.923Z"
   },
   {
    "duration": 11,
    "start_time": "2022-01-28T00:09:21.099Z"
   },
   {
    "duration": 3,
    "start_time": "2022-01-28T00:16:35.853Z"
   },
   {
    "duration": 8,
    "start_time": "2022-01-28T00:23:34.564Z"
   },
   {
    "duration": 12,
    "start_time": "2022-01-28T00:23:50.971Z"
   },
   {
    "duration": 198,
    "start_time": "2022-01-28T00:28:24.778Z"
   },
   {
    "duration": 341,
    "start_time": "2022-01-28T00:29:02.564Z"
   },
   {
    "duration": 330,
    "start_time": "2022-01-28T00:29:14.170Z"
   },
   {
    "duration": 123,
    "start_time": "2022-01-28T00:29:34.043Z"
   },
   {
    "duration": 129,
    "start_time": "2022-01-28T00:29:42.367Z"
   },
   {
    "duration": 154,
    "start_time": "2022-01-28T00:31:46.736Z"
   },
   {
    "duration": 140,
    "start_time": "2022-01-28T00:31:51.733Z"
   },
   {
    "duration": 313,
    "start_time": "2022-01-28T00:34:01.623Z"
   },
   {
    "duration": 156,
    "start_time": "2022-01-28T00:34:08.713Z"
   },
   {
    "duration": 6,
    "start_time": "2022-01-28T00:35:21.227Z"
   },
   {
    "duration": 11,
    "start_time": "2022-01-28T00:35:36.445Z"
   },
   {
    "duration": 9,
    "start_time": "2022-01-28T00:35:53.235Z"
   },
   {
    "duration": 1066,
    "start_time": "2022-01-28T00:36:05.316Z"
   },
   {
    "duration": 178,
    "start_time": "2022-01-28T00:36:06.384Z"
   },
   {
    "duration": 144,
    "start_time": "2022-01-28T00:36:06.564Z"
   },
   {
    "duration": 7,
    "start_time": "2022-01-28T00:36:06.710Z"
   },
   {
    "duration": 21,
    "start_time": "2022-01-28T00:36:06.719Z"
   },
   {
    "duration": 104,
    "start_time": "2022-01-28T00:36:06.742Z"
   },
   {
    "duration": 23,
    "start_time": "2022-01-28T00:36:06.848Z"
   },
   {
    "duration": 41,
    "start_time": "2022-01-28T00:36:06.873Z"
   },
   {
    "duration": 64,
    "start_time": "2022-01-28T00:36:06.916Z"
   },
   {
    "duration": 40,
    "start_time": "2022-01-28T00:36:06.981Z"
   },
   {
    "duration": 39,
    "start_time": "2022-01-28T00:36:07.022Z"
   },
   {
    "duration": 9,
    "start_time": "2022-01-28T00:36:07.063Z"
   },
   {
    "duration": 18,
    "start_time": "2022-01-28T00:36:07.073Z"
   },
   {
    "duration": 19,
    "start_time": "2022-01-28T00:36:07.093Z"
   },
   {
    "duration": 10,
    "start_time": "2022-01-28T00:36:07.114Z"
   },
   {
    "duration": 43,
    "start_time": "2022-01-28T00:36:07.126Z"
   },
   {
    "duration": 17,
    "start_time": "2022-01-28T00:36:07.170Z"
   },
   {
    "duration": 20,
    "start_time": "2022-01-28T00:36:07.189Z"
   },
   {
    "duration": 44,
    "start_time": "2022-01-28T00:36:07.211Z"
   },
   {
    "duration": 23,
    "start_time": "2022-01-28T00:36:07.257Z"
   },
   {
    "duration": 15,
    "start_time": "2022-01-28T00:36:07.282Z"
   },
   {
    "duration": 35,
    "start_time": "2022-01-28T00:36:07.299Z"
   },
   {
    "duration": 16,
    "start_time": "2022-01-28T00:36:07.338Z"
   },
   {
    "duration": 18,
    "start_time": "2022-01-28T00:36:07.356Z"
   },
   {
    "duration": 8,
    "start_time": "2022-01-28T00:36:07.376Z"
   },
   {
    "duration": 8,
    "start_time": "2022-01-28T00:36:07.385Z"
   },
   {
    "duration": 54,
    "start_time": "2022-01-28T00:36:07.395Z"
   },
   {
    "duration": 10,
    "start_time": "2022-01-28T00:36:07.451Z"
   },
   {
    "duration": 8,
    "start_time": "2022-01-28T00:36:07.463Z"
   },
   {
    "duration": 12,
    "start_time": "2022-01-28T00:36:07.472Z"
   },
   {
    "duration": 10,
    "start_time": "2022-01-28T00:36:07.485Z"
   },
   {
    "duration": 32,
    "start_time": "2022-01-28T00:36:07.496Z"
   },
   {
    "duration": 239,
    "start_time": "2022-01-28T00:36:07.530Z"
   },
   {
    "duration": 20,
    "start_time": "2022-01-28T00:36:07.771Z"
   },
   {
    "duration": 3,
    "start_time": "2022-01-28T00:36:07.793Z"
   },
   {
    "duration": 16,
    "start_time": "2022-01-28T00:36:07.798Z"
   },
   {
    "duration": 276,
    "start_time": "2022-01-28T00:36:07.815Z"
   },
   {
    "duration": 204,
    "start_time": "2022-01-28T00:36:08.092Z"
   },
   {
    "duration": 529,
    "start_time": "2022-01-28T00:36:08.297Z"
   },
   {
    "duration": 188,
    "start_time": "2022-01-28T00:36:08.828Z"
   },
   {
    "duration": 192,
    "start_time": "2022-01-28T00:36:09.018Z"
   },
   {
    "duration": 20,
    "start_time": "2022-01-28T00:36:09.211Z"
   },
   {
    "duration": 180,
    "start_time": "2022-01-28T00:36:09.233Z"
   },
   {
    "duration": 176,
    "start_time": "2022-01-28T00:36:09.414Z"
   },
   {
    "duration": 10,
    "start_time": "2022-01-28T00:36:09.592Z"
   },
   {
    "duration": 228,
    "start_time": "2022-01-28T00:36:09.604Z"
   },
   {
    "duration": 11,
    "start_time": "2022-01-28T00:36:09.834Z"
   },
   {
    "duration": 9,
    "start_time": "2022-01-28T00:36:38.504Z"
   },
   {
    "duration": 1015,
    "start_time": "2022-01-28T00:36:46.475Z"
   },
   {
    "duration": 169,
    "start_time": "2022-01-28T00:36:47.492Z"
   },
   {
    "duration": 135,
    "start_time": "2022-01-28T00:36:47.663Z"
   },
   {
    "duration": 8,
    "start_time": "2022-01-28T00:36:47.799Z"
   },
   {
    "duration": 29,
    "start_time": "2022-01-28T00:36:47.809Z"
   },
   {
    "duration": 103,
    "start_time": "2022-01-28T00:36:47.840Z"
   },
   {
    "duration": 25,
    "start_time": "2022-01-28T00:36:47.945Z"
   },
   {
    "duration": 40,
    "start_time": "2022-01-28T00:36:47.973Z"
   },
   {
    "duration": 86,
    "start_time": "2022-01-28T00:36:48.015Z"
   },
   {
    "duration": 64,
    "start_time": "2022-01-28T00:36:48.103Z"
   },
   {
    "duration": 58,
    "start_time": "2022-01-28T00:36:48.169Z"
   },
   {
    "duration": 12,
    "start_time": "2022-01-28T00:36:48.229Z"
   },
   {
    "duration": 9,
    "start_time": "2022-01-28T00:36:48.243Z"
   },
   {
    "duration": 18,
    "start_time": "2022-01-28T00:36:48.253Z"
   },
   {
    "duration": 3,
    "start_time": "2022-01-28T00:36:48.272Z"
   },
   {
    "duration": 35,
    "start_time": "2022-01-28T00:36:48.277Z"
   },
   {
    "duration": 30,
    "start_time": "2022-01-28T00:36:48.314Z"
   },
   {
    "duration": 19,
    "start_time": "2022-01-28T00:36:48.347Z"
   },
   {
    "duration": 31,
    "start_time": "2022-01-28T00:36:48.368Z"
   },
   {
    "duration": 48,
    "start_time": "2022-01-28T00:36:48.400Z"
   },
   {
    "duration": 16,
    "start_time": "2022-01-28T00:36:48.450Z"
   },
   {
    "duration": 14,
    "start_time": "2022-01-28T00:36:48.468Z"
   },
   {
    "duration": 52,
    "start_time": "2022-01-28T00:36:48.485Z"
   },
   {
    "duration": 27,
    "start_time": "2022-01-28T00:36:48.539Z"
   },
   {
    "duration": 8,
    "start_time": "2022-01-28T00:36:48.567Z"
   },
   {
    "duration": 5,
    "start_time": "2022-01-28T00:36:48.577Z"
   },
   {
    "duration": 44,
    "start_time": "2022-01-28T00:36:48.583Z"
   },
   {
    "duration": 11,
    "start_time": "2022-01-28T00:36:48.629Z"
   },
   {
    "duration": 10,
    "start_time": "2022-01-28T00:36:48.641Z"
   },
   {
    "duration": 18,
    "start_time": "2022-01-28T00:36:48.653Z"
   },
   {
    "duration": 9,
    "start_time": "2022-01-28T00:36:48.672Z"
   },
   {
    "duration": 3,
    "start_time": "2022-01-28T00:36:48.682Z"
   },
   {
    "duration": 231,
    "start_time": "2022-01-28T00:36:48.686Z"
   },
   {
    "duration": 25,
    "start_time": "2022-01-28T00:36:48.919Z"
   },
   {
    "duration": 4,
    "start_time": "2022-01-28T00:36:48.945Z"
   },
   {
    "duration": 8,
    "start_time": "2022-01-28T00:36:48.950Z"
   },
   {
    "duration": 192,
    "start_time": "2022-01-28T00:36:48.960Z"
   },
   {
    "duration": 205,
    "start_time": "2022-01-28T00:36:49.154Z"
   },
   {
    "duration": 646,
    "start_time": "2022-01-28T00:36:49.361Z"
   },
   {
    "duration": 173,
    "start_time": "2022-01-28T00:36:50.009Z"
   },
   {
    "duration": 185,
    "start_time": "2022-01-28T00:36:50.184Z"
   },
   {
    "duration": 10,
    "start_time": "2022-01-28T00:36:50.370Z"
   },
   {
    "duration": 203,
    "start_time": "2022-01-28T00:36:50.382Z"
   },
   {
    "duration": 194,
    "start_time": "2022-01-28T00:36:50.586Z"
   },
   {
    "duration": 10,
    "start_time": "2022-01-28T00:36:50.781Z"
   },
   {
    "duration": 234,
    "start_time": "2022-01-28T00:36:50.793Z"
   },
   {
    "duration": 13,
    "start_time": "2022-01-28T00:36:51.030Z"
   },
   {
    "duration": 141,
    "start_time": "2022-01-28T00:38:00.882Z"
   },
   {
    "duration": 1067,
    "start_time": "2022-01-28T00:38:23.919Z"
   },
   {
    "duration": 164,
    "start_time": "2022-01-28T00:38:24.988Z"
   },
   {
    "duration": 135,
    "start_time": "2022-01-28T00:38:25.154Z"
   },
   {
    "duration": 7,
    "start_time": "2022-01-28T00:38:25.291Z"
   },
   {
    "duration": 13,
    "start_time": "2022-01-28T00:38:25.299Z"
   },
   {
    "duration": 105,
    "start_time": "2022-01-28T00:38:25.313Z"
   },
   {
    "duration": 24,
    "start_time": "2022-01-28T00:38:25.427Z"
   },
   {
    "duration": 37,
    "start_time": "2022-01-28T00:38:25.453Z"
   },
   {
    "duration": 54,
    "start_time": "2022-01-28T00:38:25.491Z"
   },
   {
    "duration": 39,
    "start_time": "2022-01-28T00:38:25.546Z"
   },
   {
    "duration": 40,
    "start_time": "2022-01-28T00:38:25.587Z"
   },
   {
    "duration": 9,
    "start_time": "2022-01-28T00:38:25.628Z"
   },
   {
    "duration": 4,
    "start_time": "2022-01-28T00:38:25.639Z"
   },
   {
    "duration": 16,
    "start_time": "2022-01-28T00:38:25.644Z"
   },
   {
    "duration": 2,
    "start_time": "2022-01-28T00:38:25.662Z"
   },
   {
    "duration": 30,
    "start_time": "2022-01-28T00:38:25.665Z"
   },
   {
    "duration": 33,
    "start_time": "2022-01-28T00:38:25.696Z"
   },
   {
    "duration": 19,
    "start_time": "2022-01-28T00:38:25.731Z"
   },
   {
    "duration": 30,
    "start_time": "2022-01-28T00:38:25.751Z"
   },
   {
    "duration": 22,
    "start_time": "2022-01-28T00:38:25.782Z"
   },
   {
    "duration": 36,
    "start_time": "2022-01-28T00:38:25.805Z"
   },
   {
    "duration": 15,
    "start_time": "2022-01-28T00:38:25.842Z"
   },
   {
    "duration": 12,
    "start_time": "2022-01-28T00:38:25.861Z"
   },
   {
    "duration": 17,
    "start_time": "2022-01-28T00:38:25.875Z"
   },
   {
    "duration": 36,
    "start_time": "2022-01-28T00:38:25.894Z"
   },
   {
    "duration": 12,
    "start_time": "2022-01-28T00:38:25.932Z"
   },
   {
    "duration": 26,
    "start_time": "2022-01-28T00:38:25.946Z"
   },
   {
    "duration": 16,
    "start_time": "2022-01-28T00:38:25.973Z"
   },
   {
    "duration": 12,
    "start_time": "2022-01-28T00:38:25.991Z"
   },
   {
    "duration": 9,
    "start_time": "2022-01-28T00:38:26.004Z"
   },
   {
    "duration": 21,
    "start_time": "2022-01-28T00:38:26.014Z"
   },
   {
    "duration": 6,
    "start_time": "2022-01-28T00:38:26.038Z"
   },
   {
    "duration": 207,
    "start_time": "2022-01-28T00:38:26.045Z"
   },
   {
    "duration": 21,
    "start_time": "2022-01-28T00:38:26.253Z"
   },
   {
    "duration": 4,
    "start_time": "2022-01-28T00:38:26.275Z"
   },
   {
    "duration": 7,
    "start_time": "2022-01-28T00:38:26.280Z"
   },
   {
    "duration": 197,
    "start_time": "2022-01-28T00:38:26.288Z"
   },
   {
    "duration": 185,
    "start_time": "2022-01-28T00:38:26.487Z"
   },
   {
    "duration": 548,
    "start_time": "2022-01-28T00:38:26.674Z"
   },
   {
    "duration": 184,
    "start_time": "2022-01-28T00:38:27.224Z"
   },
   {
    "duration": 188,
    "start_time": "2022-01-28T00:38:27.410Z"
   },
   {
    "duration": 10,
    "start_time": "2022-01-28T00:38:27.599Z"
   },
   {
    "duration": 196,
    "start_time": "2022-01-28T00:38:27.610Z"
   },
   {
    "duration": 181,
    "start_time": "2022-01-28T00:38:27.808Z"
   },
   {
    "duration": 9,
    "start_time": "2022-01-28T00:38:27.991Z"
   },
   {
    "duration": 220,
    "start_time": "2022-01-28T00:38:28.002Z"
   },
   {
    "duration": 13,
    "start_time": "2022-01-28T00:38:28.224Z"
   },
   {
    "duration": 150,
    "start_time": "2022-01-28T00:38:28.238Z"
   },
   {
    "duration": 10,
    "start_time": "2022-01-28T00:38:55.947Z"
   },
   {
    "duration": 10,
    "start_time": "2022-01-28T00:40:41.822Z"
   },
   {
    "duration": 15,
    "start_time": "2022-01-28T00:40:47.333Z"
   },
   {
    "duration": 1022,
    "start_time": "2022-01-28T00:40:58.082Z"
   },
   {
    "duration": 208,
    "start_time": "2022-01-28T00:40:59.106Z"
   },
   {
    "duration": 153,
    "start_time": "2022-01-28T00:40:59.316Z"
   },
   {
    "duration": 8,
    "start_time": "2022-01-28T00:40:59.470Z"
   },
   {
    "duration": 24,
    "start_time": "2022-01-28T00:40:59.479Z"
   },
   {
    "duration": 107,
    "start_time": "2022-01-28T00:40:59.504Z"
   },
   {
    "duration": 24,
    "start_time": "2022-01-28T00:40:59.612Z"
   },
   {
    "duration": 46,
    "start_time": "2022-01-28T00:40:59.638Z"
   },
   {
    "duration": 65,
    "start_time": "2022-01-28T00:40:59.686Z"
   },
   {
    "duration": 39,
    "start_time": "2022-01-28T00:40:59.752Z"
   },
   {
    "duration": 34,
    "start_time": "2022-01-28T00:40:59.793Z"
   },
   {
    "duration": 11,
    "start_time": "2022-01-28T00:40:59.829Z"
   },
   {
    "duration": 13,
    "start_time": "2022-01-28T00:40:59.842Z"
   },
   {
    "duration": 28,
    "start_time": "2022-01-28T00:40:59.856Z"
   },
   {
    "duration": 13,
    "start_time": "2022-01-28T00:40:59.885Z"
   },
   {
    "duration": 39,
    "start_time": "2022-01-28T00:40:59.899Z"
   },
   {
    "duration": 19,
    "start_time": "2022-01-28T00:40:59.939Z"
   },
   {
    "duration": 22,
    "start_time": "2022-01-28T00:40:59.959Z"
   },
   {
    "duration": 59,
    "start_time": "2022-01-28T00:40:59.983Z"
   },
   {
    "duration": 24,
    "start_time": "2022-01-28T00:41:00.044Z"
   },
   {
    "duration": 15,
    "start_time": "2022-01-28T00:41:00.069Z"
   },
   {
    "duration": 11,
    "start_time": "2022-01-28T00:41:00.086Z"
   },
   {
    "duration": 16,
    "start_time": "2022-01-28T00:41:00.126Z"
   },
   {
    "duration": 17,
    "start_time": "2022-01-28T00:41:00.144Z"
   },
   {
    "duration": 7,
    "start_time": "2022-01-28T00:41:00.162Z"
   },
   {
    "duration": 6,
    "start_time": "2022-01-28T00:41:00.170Z"
   },
   {
    "duration": 22,
    "start_time": "2022-01-28T00:41:00.177Z"
   },
   {
    "duration": 7,
    "start_time": "2022-01-28T00:41:00.200Z"
   },
   {
    "duration": 5,
    "start_time": "2022-01-28T00:41:00.208Z"
   },
   {
    "duration": 14,
    "start_time": "2022-01-28T00:41:00.215Z"
   },
   {
    "duration": 8,
    "start_time": "2022-01-28T00:41:00.231Z"
   },
   {
    "duration": 3,
    "start_time": "2022-01-28T00:41:00.241Z"
   },
   {
    "duration": 203,
    "start_time": "2022-01-28T00:41:00.245Z"
   },
   {
    "duration": 21,
    "start_time": "2022-01-28T00:41:00.449Z"
   },
   {
    "duration": 3,
    "start_time": "2022-01-28T00:41:00.472Z"
   },
   {
    "duration": 8,
    "start_time": "2022-01-28T00:41:00.476Z"
   },
   {
    "duration": 286,
    "start_time": "2022-01-28T00:41:00.485Z"
   },
   {
    "duration": 234,
    "start_time": "2022-01-28T00:41:00.772Z"
   },
   {
    "duration": 638,
    "start_time": "2022-01-28T00:41:01.007Z"
   },
   {
    "duration": 264,
    "start_time": "2022-01-28T00:41:01.647Z"
   },
   {
    "duration": 283,
    "start_time": "2022-01-28T00:41:01.913Z"
   },
   {
    "duration": 20,
    "start_time": "2022-01-28T00:41:02.198Z"
   },
   {
    "duration": 207,
    "start_time": "2022-01-28T00:41:02.220Z"
   },
   {
    "duration": 179,
    "start_time": "2022-01-28T00:41:02.431Z"
   },
   {
    "duration": 17,
    "start_time": "2022-01-28T00:41:02.611Z"
   },
   {
    "duration": 217,
    "start_time": "2022-01-28T00:41:02.630Z"
   },
   {
    "duration": 9,
    "start_time": "2022-01-28T00:41:02.849Z"
   },
   {
    "duration": 149,
    "start_time": "2022-01-28T00:41:02.859Z"
   },
   {
    "duration": 17,
    "start_time": "2022-01-28T00:41:03.010Z"
   },
   {
    "duration": 4,
    "start_time": "2022-01-28T00:47:36.769Z"
   },
   {
    "duration": 139,
    "start_time": "2022-01-28T00:48:09.486Z"
   },
   {
    "duration": 10,
    "start_time": "2022-01-28T00:49:54.254Z"
   },
   {
    "duration": 987,
    "start_time": "2022-01-28T00:51:32.476Z"
   },
   {
    "duration": 163,
    "start_time": "2022-01-28T00:51:33.465Z"
   },
   {
    "duration": 136,
    "start_time": "2022-01-28T00:51:33.631Z"
   },
   {
    "duration": 8,
    "start_time": "2022-01-28T00:51:33.768Z"
   },
   {
    "duration": 14,
    "start_time": "2022-01-28T00:51:33.777Z"
   },
   {
    "duration": 105,
    "start_time": "2022-01-28T00:51:33.793Z"
   },
   {
    "duration": 23,
    "start_time": "2022-01-28T00:51:33.899Z"
   },
   {
    "duration": 35,
    "start_time": "2022-01-28T00:51:33.924Z"
   },
   {
    "duration": 52,
    "start_time": "2022-01-28T00:51:33.961Z"
   },
   {
    "duration": 44,
    "start_time": "2022-01-28T00:51:34.014Z"
   },
   {
    "duration": 31,
    "start_time": "2022-01-28T00:51:34.060Z"
   },
   {
    "duration": 9,
    "start_time": "2022-01-28T00:51:34.092Z"
   },
   {
    "duration": 5,
    "start_time": "2022-01-28T00:51:34.127Z"
   },
   {
    "duration": 19,
    "start_time": "2022-01-28T00:51:34.134Z"
   },
   {
    "duration": 3,
    "start_time": "2022-01-28T00:51:34.155Z"
   },
   {
    "duration": 34,
    "start_time": "2022-01-28T00:51:34.160Z"
   },
   {
    "duration": 36,
    "start_time": "2022-01-28T00:51:34.196Z"
   },
   {
    "duration": 24,
    "start_time": "2022-01-28T00:51:34.234Z"
   },
   {
    "duration": 31,
    "start_time": "2022-01-28T00:51:34.260Z"
   },
   {
    "duration": 48,
    "start_time": "2022-01-28T00:51:34.293Z"
   },
   {
    "duration": 16,
    "start_time": "2022-01-28T00:51:34.342Z"
   },
   {
    "duration": 12,
    "start_time": "2022-01-28T00:51:34.359Z"
   },
   {
    "duration": 12,
    "start_time": "2022-01-28T00:51:34.374Z"
   },
   {
    "duration": 41,
    "start_time": "2022-01-28T00:51:34.388Z"
   },
   {
    "duration": 10,
    "start_time": "2022-01-28T00:51:34.431Z"
   },
   {
    "duration": 12,
    "start_time": "2022-01-28T00:51:34.443Z"
   },
   {
    "duration": 24,
    "start_time": "2022-01-28T00:51:34.456Z"
   },
   {
    "duration": 7,
    "start_time": "2022-01-28T00:51:34.481Z"
   },
   {
    "duration": 5,
    "start_time": "2022-01-28T00:51:34.490Z"
   },
   {
    "duration": 30,
    "start_time": "2022-01-28T00:51:34.497Z"
   },
   {
    "duration": 11,
    "start_time": "2022-01-28T00:51:34.529Z"
   },
   {
    "duration": 7,
    "start_time": "2022-01-28T00:51:34.542Z"
   },
   {
    "duration": 240,
    "start_time": "2022-01-28T00:51:34.550Z"
   },
   {
    "duration": 21,
    "start_time": "2022-01-28T00:51:34.792Z"
   },
   {
    "duration": 13,
    "start_time": "2022-01-28T00:51:34.815Z"
   },
   {
    "duration": 12,
    "start_time": "2022-01-28T00:51:34.829Z"
   },
   {
    "duration": 179,
    "start_time": "2022-01-28T00:51:34.842Z"
   },
   {
    "duration": 187,
    "start_time": "2022-01-28T00:51:35.023Z"
   },
   {
    "duration": 608,
    "start_time": "2022-01-28T00:51:35.212Z"
   },
   {
    "duration": 177,
    "start_time": "2022-01-28T00:51:35.822Z"
   },
   {
    "duration": 186,
    "start_time": "2022-01-28T00:51:36.001Z"
   },
   {
    "duration": 11,
    "start_time": "2022-01-28T00:51:36.189Z"
   },
   {
    "duration": 186,
    "start_time": "2022-01-28T00:51:36.201Z"
   },
   {
    "duration": 178,
    "start_time": "2022-01-28T00:51:36.388Z"
   },
   {
    "duration": 10,
    "start_time": "2022-01-28T00:51:36.568Z"
   },
   {
    "duration": 231,
    "start_time": "2022-01-28T00:51:36.580Z"
   },
   {
    "duration": 15,
    "start_time": "2022-01-28T00:51:36.812Z"
   },
   {
    "duration": 159,
    "start_time": "2022-01-28T00:51:36.829Z"
   },
   {
    "duration": 10,
    "start_time": "2022-01-28T00:51:36.990Z"
   },
   {
    "duration": 4,
    "start_time": "2022-01-28T00:51:37.002Z"
   },
   {
    "duration": 172,
    "start_time": "2022-01-28T00:51:37.008Z"
   },
   {
    "duration": 10,
    "start_time": "2022-01-28T00:51:37.182Z"
   },
   {
    "duration": 156,
    "start_time": "2022-01-28T00:52:21.279Z"
   },
   {
    "duration": 12,
    "start_time": "2022-01-28T00:52:52.853Z"
   },
   {
    "duration": 1042,
    "start_time": "2022-01-28T00:53:02.241Z"
   },
   {
    "duration": 168,
    "start_time": "2022-01-28T00:53:03.285Z"
   },
   {
    "duration": 134,
    "start_time": "2022-01-28T00:53:03.454Z"
   },
   {
    "duration": 7,
    "start_time": "2022-01-28T00:53:03.590Z"
   },
   {
    "duration": 14,
    "start_time": "2022-01-28T00:53:03.599Z"
   },
   {
    "duration": 98,
    "start_time": "2022-01-28T00:53:03.615Z"
   },
   {
    "duration": 26,
    "start_time": "2022-01-28T00:53:03.715Z"
   },
   {
    "duration": 35,
    "start_time": "2022-01-28T00:53:03.743Z"
   },
   {
    "duration": 57,
    "start_time": "2022-01-28T00:53:03.781Z"
   },
   {
    "duration": 40,
    "start_time": "2022-01-28T00:53:03.839Z"
   },
   {
    "duration": 30,
    "start_time": "2022-01-28T00:53:03.880Z"
   },
   {
    "duration": 9,
    "start_time": "2022-01-28T00:53:03.927Z"
   },
   {
    "duration": 7,
    "start_time": "2022-01-28T00:53:03.938Z"
   },
   {
    "duration": 12,
    "start_time": "2022-01-28T00:53:03.946Z"
   },
   {
    "duration": 3,
    "start_time": "2022-01-28T00:53:03.959Z"
   },
   {
    "duration": 31,
    "start_time": "2022-01-28T00:53:03.963Z"
   },
   {
    "duration": 38,
    "start_time": "2022-01-28T00:53:03.996Z"
   },
   {
    "duration": 20,
    "start_time": "2022-01-28T00:53:04.035Z"
   },
   {
    "duration": 36,
    "start_time": "2022-01-28T00:53:04.057Z"
   },
   {
    "duration": 45,
    "start_time": "2022-01-28T00:53:04.095Z"
   },
   {
    "duration": 16,
    "start_time": "2022-01-28T00:53:04.142Z"
   },
   {
    "duration": 13,
    "start_time": "2022-01-28T00:53:04.160Z"
   },
   {
    "duration": 15,
    "start_time": "2022-01-28T00:53:04.177Z"
   },
   {
    "duration": 49,
    "start_time": "2022-01-28T00:53:04.194Z"
   },
   {
    "duration": 7,
    "start_time": "2022-01-28T00:53:04.245Z"
   },
   {
    "duration": 7,
    "start_time": "2022-01-28T00:53:04.254Z"
   },
   {
    "duration": 21,
    "start_time": "2022-01-28T00:53:04.262Z"
   },
   {
    "duration": 9,
    "start_time": "2022-01-28T00:53:04.285Z"
   },
   {
    "duration": 33,
    "start_time": "2022-01-28T00:53:04.295Z"
   },
   {
    "duration": 11,
    "start_time": "2022-01-28T00:53:04.329Z"
   },
   {
    "duration": 10,
    "start_time": "2022-01-28T00:53:04.342Z"
   },
   {
    "duration": 3,
    "start_time": "2022-01-28T00:53:04.354Z"
   },
   {
    "duration": 224,
    "start_time": "2022-01-28T00:53:04.358Z"
   },
   {
    "duration": 9,
    "start_time": "2022-01-28T00:53:04.584Z"
   },
   {
    "duration": 4,
    "start_time": "2022-01-28T00:53:04.595Z"
   },
   {
    "duration": 6,
    "start_time": "2022-01-28T00:53:04.600Z"
   },
   {
    "duration": 199,
    "start_time": "2022-01-28T00:53:04.607Z"
   },
   {
    "duration": 348,
    "start_time": "2022-01-28T00:53:04.808Z"
   },
   {
    "duration": 512,
    "start_time": "2022-01-28T00:53:05.167Z"
   },
   {
    "duration": 186,
    "start_time": "2022-01-28T00:53:05.681Z"
   },
   {
    "duration": 191,
    "start_time": "2022-01-28T00:53:05.869Z"
   },
   {
    "duration": 11,
    "start_time": "2022-01-28T00:53:06.062Z"
   },
   {
    "duration": 201,
    "start_time": "2022-01-28T00:53:06.074Z"
   },
   {
    "duration": 180,
    "start_time": "2022-01-28T00:53:06.276Z"
   },
   {
    "duration": 10,
    "start_time": "2022-01-28T00:53:06.457Z"
   },
   {
    "duration": 226,
    "start_time": "2022-01-28T00:53:06.468Z"
   },
   {
    "duration": 10,
    "start_time": "2022-01-28T00:53:06.696Z"
   },
   {
    "duration": 157,
    "start_time": "2022-01-28T00:53:06.707Z"
   },
   {
    "duration": 10,
    "start_time": "2022-01-28T00:53:06.865Z"
   },
   {
    "duration": 5,
    "start_time": "2022-01-28T00:53:06.876Z"
   },
   {
    "duration": 171,
    "start_time": "2022-01-28T00:53:06.883Z"
   },
   {
    "duration": 10,
    "start_time": "2022-01-28T00:53:07.055Z"
   },
   {
    "duration": 163,
    "start_time": "2022-01-28T00:53:07.066Z"
   },
   {
    "duration": 11,
    "start_time": "2022-01-28T00:54:45.328Z"
   },
   {
    "duration": 7,
    "start_time": "2022-01-28T00:58:09.161Z"
   },
   {
    "duration": 989,
    "start_time": "2022-01-28T00:58:16.297Z"
   },
   {
    "duration": 173,
    "start_time": "2022-01-28T00:58:17.288Z"
   },
   {
    "duration": 141,
    "start_time": "2022-01-28T00:58:17.463Z"
   },
   {
    "duration": 9,
    "start_time": "2022-01-28T00:58:17.606Z"
   },
   {
    "duration": 19,
    "start_time": "2022-01-28T00:58:17.616Z"
   },
   {
    "duration": 98,
    "start_time": "2022-01-28T00:58:17.636Z"
   },
   {
    "duration": 22,
    "start_time": "2022-01-28T00:58:17.736Z"
   },
   {
    "duration": 40,
    "start_time": "2022-01-28T00:58:17.760Z"
   },
   {
    "duration": 53,
    "start_time": "2022-01-28T00:58:17.802Z"
   },
   {
    "duration": 41,
    "start_time": "2022-01-28T00:58:17.857Z"
   },
   {
    "duration": 42,
    "start_time": "2022-01-28T00:58:17.900Z"
   },
   {
    "duration": 9,
    "start_time": "2022-01-28T00:58:17.943Z"
   },
   {
    "duration": 8,
    "start_time": "2022-01-28T00:58:17.953Z"
   },
   {
    "duration": 23,
    "start_time": "2022-01-28T00:58:17.963Z"
   },
   {
    "duration": 2,
    "start_time": "2022-01-28T00:58:17.988Z"
   },
   {
    "duration": 30,
    "start_time": "2022-01-28T00:58:17.991Z"
   },
   {
    "duration": 21,
    "start_time": "2022-01-28T00:58:18.023Z"
   },
   {
    "duration": 21,
    "start_time": "2022-01-28T00:58:18.045Z"
   },
   {
    "duration": 37,
    "start_time": "2022-01-28T00:58:18.067Z"
   },
   {
    "duration": 45,
    "start_time": "2022-01-28T00:58:18.106Z"
   },
   {
    "duration": 15,
    "start_time": "2022-01-28T00:58:18.153Z"
   },
   {
    "duration": 17,
    "start_time": "2022-01-28T00:58:18.169Z"
   },
   {
    "duration": 16,
    "start_time": "2022-01-28T00:58:18.191Z"
   },
   {
    "duration": 22,
    "start_time": "2022-01-28T00:58:18.228Z"
   },
   {
    "duration": 9,
    "start_time": "2022-01-28T00:58:18.251Z"
   },
   {
    "duration": 5,
    "start_time": "2022-01-28T00:58:18.262Z"
   },
   {
    "duration": 22,
    "start_time": "2022-01-28T00:58:18.268Z"
   },
   {
    "duration": 7,
    "start_time": "2022-01-28T00:58:18.292Z"
   },
   {
    "duration": 30,
    "start_time": "2022-01-28T00:58:18.301Z"
   },
   {
    "duration": 12,
    "start_time": "2022-01-28T00:58:18.334Z"
   },
   {
    "duration": 8,
    "start_time": "2022-01-28T00:58:18.347Z"
   },
   {
    "duration": 3,
    "start_time": "2022-01-28T00:58:18.357Z"
   },
   {
    "duration": 226,
    "start_time": "2022-01-28T00:58:18.361Z"
   },
   {
    "duration": 9,
    "start_time": "2022-01-28T00:58:18.589Z"
   },
   {
    "duration": 4,
    "start_time": "2022-01-28T00:58:18.600Z"
   },
   {
    "duration": 23,
    "start_time": "2022-01-28T00:58:18.605Z"
   },
   {
    "duration": 186,
    "start_time": "2022-01-28T00:58:18.629Z"
   },
   {
    "duration": 183,
    "start_time": "2022-01-28T00:58:18.817Z"
   },
   {
    "duration": 466,
    "start_time": "2022-01-28T00:58:19.002Z"
   },
   {
    "duration": 185,
    "start_time": "2022-01-28T00:58:19.470Z"
   },
   {
    "duration": 201,
    "start_time": "2022-01-28T00:58:19.656Z"
   },
   {
    "duration": 11,
    "start_time": "2022-01-28T00:58:19.858Z"
   },
   {
    "duration": 207,
    "start_time": "2022-01-28T00:58:19.870Z"
   },
   {
    "duration": 179,
    "start_time": "2022-01-28T00:58:20.079Z"
   },
   {
    "duration": 9,
    "start_time": "2022-01-28T00:58:20.260Z"
   },
   {
    "duration": 225,
    "start_time": "2022-01-28T00:58:20.271Z"
   },
   {
    "duration": 9,
    "start_time": "2022-01-28T00:58:20.498Z"
   },
   {
    "duration": 153,
    "start_time": "2022-01-28T00:58:20.509Z"
   },
   {
    "duration": 9,
    "start_time": "2022-01-28T00:58:20.663Z"
   },
   {
    "duration": 5,
    "start_time": "2022-01-28T00:58:20.674Z"
   },
   {
    "duration": 161,
    "start_time": "2022-01-28T00:58:20.681Z"
   },
   {
    "duration": 10,
    "start_time": "2022-01-28T00:58:20.843Z"
   },
   {
    "duration": 157,
    "start_time": "2022-01-28T00:58:20.854Z"
   },
   {
    "duration": 14,
    "start_time": "2022-01-28T00:58:21.013Z"
   },
   {
    "duration": 2,
    "start_time": "2022-01-28T00:59:40.349Z"
   },
   {
    "duration": 98,
    "start_time": "2022-01-28T01:01:43.816Z"
   },
   {
    "duration": 3,
    "start_time": "2022-01-28T01:02:58.080Z"
   },
   {
    "duration": 4,
    "start_time": "2022-01-28T01:04:50.478Z"
   },
   {
    "duration": 362,
    "start_time": "2022-01-28T01:08:19.382Z"
   },
   {
    "duration": 4,
    "start_time": "2022-01-28T01:08:24.296Z"
   },
   {
    "duration": 4,
    "start_time": "2022-01-28T01:08:40.235Z"
   },
   {
    "duration": 274,
    "start_time": "2022-01-28T01:13:53.918Z"
   },
   {
    "duration": 270,
    "start_time": "2022-01-28T01:15:31.844Z"
   },
   {
    "duration": 4,
    "start_time": "2022-01-28T01:17:03.212Z"
   },
   {
    "duration": 4,
    "start_time": "2022-01-28T01:19:36.248Z"
   },
   {
    "duration": 983,
    "start_time": "2022-01-28T01:30:08.649Z"
   },
   {
    "duration": 168,
    "start_time": "2022-01-28T01:30:09.634Z"
   },
   {
    "duration": 144,
    "start_time": "2022-01-28T01:30:09.807Z"
   },
   {
    "duration": 8,
    "start_time": "2022-01-28T01:30:09.953Z"
   },
   {
    "duration": 14,
    "start_time": "2022-01-28T01:30:09.963Z"
   },
   {
    "duration": 111,
    "start_time": "2022-01-28T01:30:09.978Z"
   },
   {
    "duration": 23,
    "start_time": "2022-01-28T01:30:10.092Z"
   },
   {
    "duration": 38,
    "start_time": "2022-01-28T01:30:10.118Z"
   },
   {
    "duration": 53,
    "start_time": "2022-01-28T01:30:10.157Z"
   },
   {
    "duration": 47,
    "start_time": "2022-01-28T01:30:10.212Z"
   },
   {
    "duration": 30,
    "start_time": "2022-01-28T01:30:10.262Z"
   },
   {
    "duration": 9,
    "start_time": "2022-01-28T01:30:10.294Z"
   },
   {
    "duration": 22,
    "start_time": "2022-01-28T01:30:10.305Z"
   },
   {
    "duration": 17,
    "start_time": "2022-01-28T01:30:10.329Z"
   },
   {
    "duration": 3,
    "start_time": "2022-01-28T01:30:10.347Z"
   },
   {
    "duration": 27,
    "start_time": "2022-01-28T01:30:10.352Z"
   },
   {
    "duration": 18,
    "start_time": "2022-01-28T01:30:10.381Z"
   },
   {
    "duration": 44,
    "start_time": "2022-01-28T01:30:10.400Z"
   },
   {
    "duration": 31,
    "start_time": "2022-01-28T01:30:10.446Z"
   },
   {
    "duration": 21,
    "start_time": "2022-01-28T01:30:10.479Z"
   },
   {
    "duration": 41,
    "start_time": "2022-01-28T01:30:10.502Z"
   },
   {
    "duration": 14,
    "start_time": "2022-01-28T01:30:10.548Z"
   },
   {
    "duration": 13,
    "start_time": "2022-01-28T01:30:10.564Z"
   },
   {
    "duration": 50,
    "start_time": "2022-01-28T01:30:10.579Z"
   },
   {
    "duration": 10,
    "start_time": "2022-01-28T01:30:10.631Z"
   },
   {
    "duration": 10,
    "start_time": "2022-01-28T01:30:10.643Z"
   },
   {
    "duration": 26,
    "start_time": "2022-01-28T01:30:10.655Z"
   },
   {
    "duration": 7,
    "start_time": "2022-01-28T01:30:10.683Z"
   },
   {
    "duration": 7,
    "start_time": "2022-01-28T01:30:10.691Z"
   },
   {
    "duration": 31,
    "start_time": "2022-01-28T01:30:10.699Z"
   },
   {
    "duration": 12,
    "start_time": "2022-01-28T01:30:10.732Z"
   },
   {
    "duration": 5,
    "start_time": "2022-01-28T01:30:10.745Z"
   },
   {
    "duration": 220,
    "start_time": "2022-01-28T01:30:10.752Z"
   },
   {
    "duration": 11,
    "start_time": "2022-01-28T01:30:10.974Z"
   },
   {
    "duration": 3,
    "start_time": "2022-01-28T01:30:10.986Z"
   },
   {
    "duration": 5,
    "start_time": "2022-01-28T01:30:10.991Z"
   },
   {
    "duration": 203,
    "start_time": "2022-01-28T01:30:10.998Z"
   },
   {
    "duration": 200,
    "start_time": "2022-01-28T01:30:11.202Z"
   },
   {
    "duration": 611,
    "start_time": "2022-01-28T01:30:11.403Z"
   },
   {
    "duration": 185,
    "start_time": "2022-01-28T01:30:12.016Z"
   },
   {
    "duration": 189,
    "start_time": "2022-01-28T01:30:12.202Z"
   },
   {
    "duration": 10,
    "start_time": "2022-01-28T01:30:12.393Z"
   },
   {
    "duration": 198,
    "start_time": "2022-01-28T01:30:12.405Z"
   },
   {
    "duration": 227,
    "start_time": "2022-01-28T01:30:12.605Z"
   },
   {
    "duration": 10,
    "start_time": "2022-01-28T01:30:12.834Z"
   },
   {
    "duration": 251,
    "start_time": "2022-01-28T01:30:12.846Z"
   },
   {
    "duration": 12,
    "start_time": "2022-01-28T01:30:13.099Z"
   },
   {
    "duration": 155,
    "start_time": "2022-01-28T01:30:13.112Z"
   },
   {
    "duration": 9,
    "start_time": "2022-01-28T01:30:13.269Z"
   },
   {
    "duration": 6,
    "start_time": "2022-01-28T01:30:13.280Z"
   },
   {
    "duration": 159,
    "start_time": "2022-01-28T01:30:13.288Z"
   },
   {
    "duration": 9,
    "start_time": "2022-01-28T01:30:13.449Z"
   },
   {
    "duration": 167,
    "start_time": "2022-01-28T01:30:13.460Z"
   },
   {
    "duration": 10,
    "start_time": "2022-01-28T01:30:13.628Z"
   },
   {
    "duration": 5,
    "start_time": "2022-01-28T01:30:13.639Z"
   },
   {
    "duration": 6,
    "start_time": "2022-01-28T01:30:13.645Z"
   },
   {
    "duration": 10,
    "start_time": "2022-01-28T01:30:13.652Z"
   },
   {
    "duration": 6,
    "start_time": "2022-01-28T01:30:13.664Z"
   },
   {
    "duration": 5,
    "start_time": "2022-01-28T01:30:13.672Z"
   },
   {
    "duration": 6,
    "start_time": "2022-01-28T01:30:13.678Z"
   },
   {
    "duration": 6,
    "start_time": "2022-01-28T01:30:13.686Z"
   },
   {
    "duration": 995,
    "start_time": "2022-01-28T01:32:31.984Z"
   },
   {
    "duration": 170,
    "start_time": "2022-01-28T01:32:32.981Z"
   },
   {
    "duration": 137,
    "start_time": "2022-01-28T01:32:33.155Z"
   },
   {
    "duration": 7,
    "start_time": "2022-01-28T01:32:33.294Z"
   },
   {
    "duration": 28,
    "start_time": "2022-01-28T01:32:33.302Z"
   },
   {
    "duration": 105,
    "start_time": "2022-01-28T01:32:33.332Z"
   },
   {
    "duration": 25,
    "start_time": "2022-01-28T01:32:33.440Z"
   },
   {
    "duration": 35,
    "start_time": "2022-01-28T01:32:33.467Z"
   },
   {
    "duration": 57,
    "start_time": "2022-01-28T01:32:33.504Z"
   },
   {
    "duration": 39,
    "start_time": "2022-01-28T01:32:33.563Z"
   },
   {
    "duration": 50,
    "start_time": "2022-01-28T01:32:33.604Z"
   },
   {
    "duration": 9,
    "start_time": "2022-01-28T01:32:33.656Z"
   },
   {
    "duration": 7,
    "start_time": "2022-01-28T01:32:33.667Z"
   },
   {
    "duration": 14,
    "start_time": "2022-01-28T01:32:33.675Z"
   },
   {
    "duration": 3,
    "start_time": "2022-01-28T01:32:33.691Z"
   },
   {
    "duration": 47,
    "start_time": "2022-01-28T01:32:33.695Z"
   },
   {
    "duration": 18,
    "start_time": "2022-01-28T01:32:33.744Z"
   },
   {
    "duration": 19,
    "start_time": "2022-01-28T01:32:33.763Z"
   },
   {
    "duration": 54,
    "start_time": "2022-01-28T01:32:33.784Z"
   },
   {
    "duration": 28,
    "start_time": "2022-01-28T01:32:33.840Z"
   },
   {
    "duration": 17,
    "start_time": "2022-01-28T01:32:33.870Z"
   },
   {
    "duration": 36,
    "start_time": "2022-01-28T01:32:33.891Z"
   },
   {
    "duration": 16,
    "start_time": "2022-01-28T01:32:33.930Z"
   },
   {
    "duration": 23,
    "start_time": "2022-01-28T01:32:33.948Z"
   },
   {
    "duration": 9,
    "start_time": "2022-01-28T01:32:33.973Z"
   },
   {
    "duration": 9,
    "start_time": "2022-01-28T01:32:33.984Z"
   },
   {
    "duration": 49,
    "start_time": "2022-01-28T01:32:33.994Z"
   },
   {
    "duration": 9,
    "start_time": "2022-01-28T01:32:34.045Z"
   },
   {
    "duration": 15,
    "start_time": "2022-01-28T01:32:34.056Z"
   },
   {
    "duration": 11,
    "start_time": "2022-01-28T01:32:34.072Z"
   },
   {
    "duration": 10,
    "start_time": "2022-01-28T01:32:34.085Z"
   },
   {
    "duration": 4,
    "start_time": "2022-01-28T01:32:34.097Z"
   },
   {
    "duration": 216,
    "start_time": "2022-01-28T01:32:34.127Z"
   },
   {
    "duration": 10,
    "start_time": "2022-01-28T01:32:34.345Z"
   },
   {
    "duration": 4,
    "start_time": "2022-01-28T01:32:34.357Z"
   },
   {
    "duration": 8,
    "start_time": "2022-01-28T01:32:34.362Z"
   },
   {
    "duration": 216,
    "start_time": "2022-01-28T01:32:34.371Z"
   },
   {
    "duration": 204,
    "start_time": "2022-01-28T01:32:34.589Z"
   },
   {
    "duration": 749,
    "start_time": "2022-01-28T01:32:34.795Z"
   },
   {
    "duration": 183,
    "start_time": "2022-01-28T01:32:35.546Z"
   },
   {
    "duration": 179,
    "start_time": "2022-01-28T01:32:35.730Z"
   },
   {
    "duration": 20,
    "start_time": "2022-01-28T01:32:35.910Z"
   },
   {
    "duration": 187,
    "start_time": "2022-01-28T01:32:35.931Z"
   },
   {
    "duration": 176,
    "start_time": "2022-01-28T01:32:36.120Z"
   },
   {
    "duration": 10,
    "start_time": "2022-01-28T01:32:36.298Z"
   },
   {
    "duration": 225,
    "start_time": "2022-01-28T01:32:36.309Z"
   },
   {
    "duration": 11,
    "start_time": "2022-01-28T01:32:36.536Z"
   },
   {
    "duration": 150,
    "start_time": "2022-01-28T01:32:36.548Z"
   },
   {
    "duration": 9,
    "start_time": "2022-01-28T01:32:36.699Z"
   },
   {
    "duration": 22,
    "start_time": "2022-01-28T01:32:36.709Z"
   },
   {
    "duration": 155,
    "start_time": "2022-01-28T01:32:36.733Z"
   },
   {
    "duration": 9,
    "start_time": "2022-01-28T01:32:36.890Z"
   },
   {
    "duration": 165,
    "start_time": "2022-01-28T01:32:36.900Z"
   },
   {
    "duration": 10,
    "start_time": "2022-01-28T01:32:37.066Z"
   },
   {
    "duration": 3,
    "start_time": "2022-01-28T01:32:37.078Z"
   },
   {
    "duration": 5,
    "start_time": "2022-01-28T01:32:37.082Z"
   },
   {
    "duration": 9,
    "start_time": "2022-01-28T01:32:37.088Z"
   },
   {
    "duration": 5,
    "start_time": "2022-01-28T01:32:37.098Z"
   },
   {
    "duration": 4,
    "start_time": "2022-01-28T01:32:37.104Z"
   },
   {
    "duration": 22,
    "start_time": "2022-01-28T01:32:37.109Z"
   },
   {
    "duration": 10,
    "start_time": "2022-01-28T01:32:37.133Z"
   },
   {
    "duration": 1106,
    "start_time": "2022-01-28T01:33:14.494Z"
   },
   {
    "duration": 171,
    "start_time": "2022-01-28T01:33:15.601Z"
   },
   {
    "duration": 136,
    "start_time": "2022-01-28T01:33:15.775Z"
   },
   {
    "duration": 8,
    "start_time": "2022-01-28T01:33:15.913Z"
   },
   {
    "duration": 15,
    "start_time": "2022-01-28T01:33:15.928Z"
   },
   {
    "duration": 109,
    "start_time": "2022-01-28T01:33:15.944Z"
   },
   {
    "duration": 22,
    "start_time": "2022-01-28T01:33:16.055Z"
   },
   {
    "duration": 37,
    "start_time": "2022-01-28T01:33:16.079Z"
   },
   {
    "duration": 57,
    "start_time": "2022-01-28T01:33:16.118Z"
   },
   {
    "duration": 51,
    "start_time": "2022-01-28T01:33:16.177Z"
   },
   {
    "duration": 34,
    "start_time": "2022-01-28T01:33:16.230Z"
   },
   {
    "duration": 8,
    "start_time": "2022-01-28T01:33:16.266Z"
   },
   {
    "duration": 8,
    "start_time": "2022-01-28T01:33:16.276Z"
   },
   {
    "duration": 18,
    "start_time": "2022-01-28T01:33:16.285Z"
   },
   {
    "duration": 3,
    "start_time": "2022-01-28T01:33:16.304Z"
   },
   {
    "duration": 43,
    "start_time": "2022-01-28T01:33:16.308Z"
   },
   {
    "duration": 18,
    "start_time": "2022-01-28T01:33:16.352Z"
   },
   {
    "duration": 20,
    "start_time": "2022-01-28T01:33:16.371Z"
   },
   {
    "duration": 54,
    "start_time": "2022-01-28T01:33:16.393Z"
   },
   {
    "duration": 20,
    "start_time": "2022-01-28T01:33:16.449Z"
   },
   {
    "duration": 15,
    "start_time": "2022-01-28T01:33:16.471Z"
   },
   {
    "duration": 12,
    "start_time": "2022-01-28T01:33:16.487Z"
   },
   {
    "duration": 35,
    "start_time": "2022-01-28T01:33:16.500Z"
   },
   {
    "duration": 19,
    "start_time": "2022-01-28T01:33:16.537Z"
   },
   {
    "duration": 7,
    "start_time": "2022-01-28T01:33:16.557Z"
   },
   {
    "duration": 6,
    "start_time": "2022-01-28T01:33:16.566Z"
   },
   {
    "duration": 21,
    "start_time": "2022-01-28T01:33:16.575Z"
   },
   {
    "duration": 35,
    "start_time": "2022-01-28T01:33:16.598Z"
   },
   {
    "duration": 7,
    "start_time": "2022-01-28T01:33:16.635Z"
   },
   {
    "duration": 13,
    "start_time": "2022-01-28T01:33:16.644Z"
   },
   {
    "duration": 10,
    "start_time": "2022-01-28T01:33:16.659Z"
   },
   {
    "duration": 5,
    "start_time": "2022-01-28T01:33:16.670Z"
   },
   {
    "duration": 234,
    "start_time": "2022-01-28T01:33:16.676Z"
   },
   {
    "duration": 21,
    "start_time": "2022-01-28T01:33:16.912Z"
   },
   {
    "duration": 4,
    "start_time": "2022-01-28T01:33:16.935Z"
   },
   {
    "duration": 9,
    "start_time": "2022-01-28T01:33:16.941Z"
   },
   {
    "duration": 185,
    "start_time": "2022-01-28T01:33:16.952Z"
   },
   {
    "duration": 188,
    "start_time": "2022-01-28T01:33:17.139Z"
   },
   {
    "duration": 456,
    "start_time": "2022-01-28T01:33:17.329Z"
   },
   {
    "duration": 185,
    "start_time": "2022-01-28T01:33:17.787Z"
   },
   {
    "duration": 190,
    "start_time": "2022-01-28T01:33:17.974Z"
   },
   {
    "duration": 11,
    "start_time": "2022-01-28T01:33:18.166Z"
   },
   {
    "duration": 196,
    "start_time": "2022-01-28T01:33:18.179Z"
   },
   {
    "duration": 186,
    "start_time": "2022-01-28T01:33:18.377Z"
   },
   {
    "duration": 11,
    "start_time": "2022-01-28T01:33:18.565Z"
   },
   {
    "duration": 237,
    "start_time": "2022-01-28T01:33:18.577Z"
   },
   {
    "duration": 21,
    "start_time": "2022-01-28T01:33:18.816Z"
   },
   {
    "duration": 146,
    "start_time": "2022-01-28T01:33:18.840Z"
   },
   {
    "duration": 9,
    "start_time": "2022-01-28T01:33:18.988Z"
   },
   {
    "duration": 6,
    "start_time": "2022-01-28T01:33:18.998Z"
   },
   {
    "duration": 165,
    "start_time": "2022-01-28T01:33:19.005Z"
   },
   {
    "duration": 8,
    "start_time": "2022-01-28T01:33:19.172Z"
   },
   {
    "duration": 164,
    "start_time": "2022-01-28T01:33:19.182Z"
   },
   {
    "duration": 10,
    "start_time": "2022-01-28T01:33:19.347Z"
   },
   {
    "duration": 2,
    "start_time": "2022-01-28T01:33:19.358Z"
   },
   {
    "duration": 5,
    "start_time": "2022-01-28T01:33:19.362Z"
   },
   {
    "duration": 9,
    "start_time": "2022-01-28T01:33:19.368Z"
   },
   {
    "duration": 4,
    "start_time": "2022-01-28T01:33:19.379Z"
   },
   {
    "duration": 4,
    "start_time": "2022-01-28T01:33:19.384Z"
   },
   {
    "duration": 6,
    "start_time": "2022-01-28T01:33:19.389Z"
   },
   {
    "duration": 32,
    "start_time": "2022-01-28T01:33:19.396Z"
   },
   {
    "duration": 1031,
    "start_time": "2022-02-05T18:53:15.953Z"
   },
   {
    "duration": 175,
    "start_time": "2022-02-05T18:53:16.986Z"
   },
   {
    "duration": 139,
    "start_time": "2022-02-05T18:53:17.163Z"
   },
   {
    "duration": 12,
    "start_time": "2022-02-05T18:53:17.303Z"
   },
   {
    "duration": 15,
    "start_time": "2022-02-05T18:53:17.317Z"
   },
   {
    "duration": 112,
    "start_time": "2022-02-05T18:53:17.333Z"
   },
   {
    "duration": 24,
    "start_time": "2022-02-05T18:53:17.447Z"
   },
   {
    "duration": 34,
    "start_time": "2022-02-05T18:53:17.474Z"
   },
   {
    "duration": 57,
    "start_time": "2022-02-05T18:53:17.510Z"
   },
   {
    "duration": 53,
    "start_time": "2022-02-05T18:53:17.569Z"
   },
   {
    "duration": 35,
    "start_time": "2022-02-05T18:53:17.624Z"
   },
   {
    "duration": 9,
    "start_time": "2022-02-05T18:53:17.661Z"
   },
   {
    "duration": 13,
    "start_time": "2022-02-05T18:53:17.672Z"
   },
   {
    "duration": 34,
    "start_time": "2022-02-05T18:53:17.686Z"
   },
   {
    "duration": 3,
    "start_time": "2022-02-05T18:53:17.722Z"
   },
   {
    "duration": 31,
    "start_time": "2022-02-05T18:53:17.726Z"
   },
   {
    "duration": 20,
    "start_time": "2022-02-05T18:53:17.758Z"
   },
   {
    "duration": 42,
    "start_time": "2022-02-05T18:53:17.779Z"
   },
   {
    "duration": 32,
    "start_time": "2022-02-05T18:53:17.823Z"
   },
   {
    "duration": 25,
    "start_time": "2022-02-05T18:53:17.856Z"
   },
   {
    "duration": 42,
    "start_time": "2022-02-05T18:53:17.882Z"
   },
   {
    "duration": 15,
    "start_time": "2022-02-05T18:53:17.925Z"
   },
   {
    "duration": 15,
    "start_time": "2022-02-05T18:53:17.944Z"
   },
   {
    "duration": 20,
    "start_time": "2022-02-05T18:53:17.961Z"
   },
   {
    "duration": 33,
    "start_time": "2022-02-05T18:53:17.983Z"
   },
   {
    "duration": 5,
    "start_time": "2022-02-05T18:53:18.017Z"
   },
   {
    "duration": 26,
    "start_time": "2022-02-05T18:53:18.023Z"
   },
   {
    "duration": 8,
    "start_time": "2022-02-05T18:53:18.050Z"
   },
   {
    "duration": 6,
    "start_time": "2022-02-05T18:53:18.060Z"
   },
   {
    "duration": 11,
    "start_time": "2022-02-05T18:53:18.068Z"
   },
   {
    "duration": 40,
    "start_time": "2022-02-05T18:53:18.080Z"
   },
   {
    "duration": 4,
    "start_time": "2022-02-05T18:53:18.121Z"
   },
   {
    "duration": 247,
    "start_time": "2022-02-05T18:53:18.126Z"
   },
   {
    "duration": 11,
    "start_time": "2022-02-05T18:53:18.374Z"
   },
   {
    "duration": 4,
    "start_time": "2022-02-05T18:53:18.386Z"
   },
   {
    "duration": 4,
    "start_time": "2022-02-05T18:53:18.391Z"
   },
   {
    "duration": 220,
    "start_time": "2022-02-05T18:53:18.413Z"
   },
   {
    "duration": 223,
    "start_time": "2022-02-05T18:53:18.634Z"
   },
   {
    "duration": 389,
    "start_time": "2022-02-05T18:53:18.858Z"
   },
   {
    "duration": 218,
    "start_time": "2022-02-05T18:53:19.249Z"
   },
   {
    "duration": 221,
    "start_time": "2022-02-05T18:53:19.469Z"
   },
   {
    "duration": 12,
    "start_time": "2022-02-05T18:53:19.691Z"
   },
   {
    "duration": 225,
    "start_time": "2022-02-05T18:53:19.712Z"
   },
   {
    "duration": 221,
    "start_time": "2022-02-05T18:53:19.939Z"
   },
   {
    "duration": 12,
    "start_time": "2022-02-05T18:53:20.162Z"
   },
   {
    "duration": 261,
    "start_time": "2022-02-05T18:53:20.176Z"
   },
   {
    "duration": 13,
    "start_time": "2022-02-05T18:53:20.439Z"
   },
   {
    "duration": 185,
    "start_time": "2022-02-05T18:53:20.454Z"
   },
   {
    "duration": 10,
    "start_time": "2022-02-05T18:53:20.640Z"
   },
   {
    "duration": 7,
    "start_time": "2022-02-05T18:53:20.652Z"
   },
   {
    "duration": 190,
    "start_time": "2022-02-05T18:53:20.661Z"
   },
   {
    "duration": 10,
    "start_time": "2022-02-05T18:53:20.853Z"
   },
   {
    "duration": 188,
    "start_time": "2022-02-05T18:53:20.865Z"
   },
   {
    "duration": 10,
    "start_time": "2022-02-05T18:53:21.055Z"
   },
   {
    "duration": 3,
    "start_time": "2022-02-05T18:53:21.066Z"
   },
   {
    "duration": 8,
    "start_time": "2022-02-05T18:53:21.070Z"
   },
   {
    "duration": 6,
    "start_time": "2022-02-05T18:53:21.079Z"
   },
   {
    "duration": 31,
    "start_time": "2022-02-05T18:53:21.086Z"
   },
   {
    "duration": 3,
    "start_time": "2022-02-05T18:53:21.119Z"
   },
   {
    "duration": 6,
    "start_time": "2022-02-05T18:53:21.124Z"
   },
   {
    "duration": 8,
    "start_time": "2022-02-05T18:53:21.131Z"
   },
   {
    "duration": 1195,
    "start_time": "2022-02-05T21:25:42.520Z"
   },
   {
    "duration": 207,
    "start_time": "2022-02-05T21:25:43.718Z"
   },
   {
    "duration": 177,
    "start_time": "2022-02-05T21:25:43.931Z"
   },
   {
    "duration": 10,
    "start_time": "2022-02-05T21:25:44.111Z"
   },
   {
    "duration": 18,
    "start_time": "2022-02-05T21:25:44.123Z"
   },
   {
    "duration": 129,
    "start_time": "2022-02-05T21:25:44.144Z"
   },
   {
    "duration": 29,
    "start_time": "2022-02-05T21:25:44.276Z"
   },
   {
    "duration": 42,
    "start_time": "2022-02-05T21:25:44.308Z"
   },
   {
    "duration": 64,
    "start_time": "2022-02-05T21:25:44.351Z"
   },
   {
    "duration": 55,
    "start_time": "2022-02-05T21:25:44.417Z"
   },
   {
    "duration": 60,
    "start_time": "2022-02-05T21:25:44.474Z"
   },
   {
    "duration": 11,
    "start_time": "2022-02-05T21:25:44.537Z"
   },
   {
    "duration": 9,
    "start_time": "2022-02-05T21:25:44.549Z"
   },
   {
    "duration": 18,
    "start_time": "2022-02-05T21:25:44.560Z"
   },
   {
    "duration": 3,
    "start_time": "2022-02-05T21:25:44.580Z"
   },
   {
    "duration": 51,
    "start_time": "2022-02-05T21:25:44.585Z"
   },
   {
    "duration": 22,
    "start_time": "2022-02-05T21:25:44.638Z"
   },
   {
    "duration": 46,
    "start_time": "2022-02-05T21:25:44.662Z"
   },
   {
    "duration": 38,
    "start_time": "2022-02-05T21:25:44.710Z"
   },
   {
    "duration": 26,
    "start_time": "2022-02-05T21:25:44.749Z"
   },
   {
    "duration": 44,
    "start_time": "2022-02-05T21:25:44.777Z"
   },
   {
    "duration": 16,
    "start_time": "2022-02-05T21:25:44.826Z"
   },
   {
    "duration": 16,
    "start_time": "2022-02-05T21:25:44.845Z"
   },
   {
    "duration": 54,
    "start_time": "2022-02-05T21:25:44.863Z"
   },
   {
    "duration": 10,
    "start_time": "2022-02-05T21:25:44.919Z"
   },
   {
    "duration": 15,
    "start_time": "2022-02-05T21:25:44.931Z"
   },
   {
    "duration": 34,
    "start_time": "2022-02-05T21:25:44.948Z"
   },
   {
    "duration": 23,
    "start_time": "2022-02-05T21:25:44.984Z"
   },
   {
    "duration": 13,
    "start_time": "2022-02-05T21:25:45.010Z"
   },
   {
    "duration": 18,
    "start_time": "2022-02-05T21:25:45.025Z"
   },
   {
    "duration": 16,
    "start_time": "2022-02-05T21:25:45.046Z"
   },
   {
    "duration": 5,
    "start_time": "2022-02-05T21:25:45.064Z"
   },
   {
    "duration": 271,
    "start_time": "2022-02-05T21:25:45.071Z"
   },
   {
    "duration": 14,
    "start_time": "2022-02-05T21:25:45.344Z"
   },
   {
    "duration": 5,
    "start_time": "2022-02-05T21:25:45.360Z"
   },
   {
    "duration": 7,
    "start_time": "2022-02-05T21:25:45.367Z"
   },
   {
    "duration": 247,
    "start_time": "2022-02-05T21:25:45.376Z"
   },
   {
    "duration": 232,
    "start_time": "2022-02-05T21:25:45.625Z"
   },
   {
    "duration": 477,
    "start_time": "2022-02-05T21:25:45.859Z"
   },
   {
    "duration": 222,
    "start_time": "2022-02-05T21:25:46.338Z"
   },
   {
    "duration": 231,
    "start_time": "2022-02-05T21:25:46.562Z"
   },
   {
    "duration": 18,
    "start_time": "2022-02-05T21:25:46.795Z"
   },
   {
    "duration": 224,
    "start_time": "2022-02-05T21:25:46.815Z"
   },
   {
    "duration": 256,
    "start_time": "2022-02-05T21:25:47.041Z"
   },
   {
    "duration": 16,
    "start_time": "2022-02-05T21:25:47.299Z"
   },
   {
    "duration": 264,
    "start_time": "2022-02-05T21:25:47.317Z"
   },
   {
    "duration": 11,
    "start_time": "2022-02-05T21:25:47.583Z"
   },
   {
    "duration": 182,
    "start_time": "2022-02-05T21:25:47.607Z"
   },
   {
    "duration": 16,
    "start_time": "2022-02-05T21:25:47.791Z"
   },
   {
    "duration": 12,
    "start_time": "2022-02-05T21:25:47.809Z"
   },
   {
    "duration": 187,
    "start_time": "2022-02-05T21:25:47.823Z"
   },
   {
    "duration": 11,
    "start_time": "2022-02-05T21:25:48.012Z"
   },
   {
    "duration": 188,
    "start_time": "2022-02-05T21:25:48.025Z"
   },
   {
    "duration": 12,
    "start_time": "2022-02-05T21:25:48.215Z"
   },
   {
    "duration": 2,
    "start_time": "2022-02-05T21:25:48.229Z"
   },
   {
    "duration": 8,
    "start_time": "2022-02-05T21:25:48.233Z"
   },
   {
    "duration": 12,
    "start_time": "2022-02-05T21:25:48.243Z"
   },
   {
    "duration": 7,
    "start_time": "2022-02-05T21:25:48.257Z"
   },
   {
    "duration": 5,
    "start_time": "2022-02-05T21:25:48.266Z"
   },
   {
    "duration": 7,
    "start_time": "2022-02-05T21:25:48.307Z"
   },
   {
    "duration": 7,
    "start_time": "2022-02-05T21:25:48.316Z"
   },
   {
    "duration": 1122,
    "start_time": "2022-02-05T22:04:57.591Z"
   },
   {
    "duration": 200,
    "start_time": "2022-02-05T22:04:58.715Z"
   },
   {
    "duration": 172,
    "start_time": "2022-02-05T22:04:58.917Z"
   },
   {
    "duration": 10,
    "start_time": "2022-02-05T22:04:59.092Z"
   },
   {
    "duration": 16,
    "start_time": "2022-02-05T22:04:59.107Z"
   },
   {
    "duration": 124,
    "start_time": "2022-02-05T22:04:59.124Z"
   },
   {
    "duration": 28,
    "start_time": "2022-02-05T22:04:59.250Z"
   },
   {
    "duration": 48,
    "start_time": "2022-02-05T22:04:59.281Z"
   },
   {
    "duration": 78,
    "start_time": "2022-02-05T22:04:59.332Z"
   },
   {
    "duration": 51,
    "start_time": "2022-02-05T22:04:59.412Z"
   },
   {
    "duration": 59,
    "start_time": "2022-02-05T22:04:59.465Z"
   },
   {
    "duration": 12,
    "start_time": "2022-02-05T22:04:59.526Z"
   },
   {
    "duration": 7,
    "start_time": "2022-02-05T22:04:59.540Z"
   },
   {
    "duration": 18,
    "start_time": "2022-02-05T22:04:59.549Z"
   },
   {
    "duration": 3,
    "start_time": "2022-02-05T22:04:59.569Z"
   },
   {
    "duration": 58,
    "start_time": "2022-02-05T22:04:59.574Z"
   },
   {
    "duration": 22,
    "start_time": "2022-02-05T22:04:59.634Z"
   },
   {
    "duration": 25,
    "start_time": "2022-02-05T22:04:59.658Z"
   },
   {
    "duration": 57,
    "start_time": "2022-02-05T22:04:59.685Z"
   },
   {
    "duration": 28,
    "start_time": "2022-02-05T22:04:59.744Z"
   },
   {
    "duration": 45,
    "start_time": "2022-02-05T22:04:59.774Z"
   },
   {
    "duration": 16,
    "start_time": "2022-02-05T22:04:59.820Z"
   },
   {
    "duration": 17,
    "start_time": "2022-02-05T22:04:59.840Z"
   },
   {
    "duration": 50,
    "start_time": "2022-02-05T22:04:59.859Z"
   },
   {
    "duration": 9,
    "start_time": "2022-02-05T22:04:59.911Z"
   },
   {
    "duration": 9,
    "start_time": "2022-02-05T22:04:59.922Z"
   },
   {
    "duration": 29,
    "start_time": "2022-02-05T22:04:59.933Z"
   },
   {
    "duration": 10,
    "start_time": "2022-02-05T22:04:59.964Z"
   },
   {
    "duration": 36,
    "start_time": "2022-02-05T22:04:59.976Z"
   },
   {
    "duration": 14,
    "start_time": "2022-02-05T22:05:00.014Z"
   },
   {
    "duration": 20,
    "start_time": "2022-02-05T22:05:00.030Z"
   },
   {
    "duration": 5,
    "start_time": "2022-02-05T22:05:00.052Z"
   },
   {
    "duration": 261,
    "start_time": "2022-02-05T22:05:00.059Z"
   },
   {
    "duration": 14,
    "start_time": "2022-02-05T22:05:00.322Z"
   },
   {
    "duration": 16,
    "start_time": "2022-02-05T22:05:00.339Z"
   },
   {
    "duration": 12,
    "start_time": "2022-02-05T22:05:00.357Z"
   },
   {
    "duration": 242,
    "start_time": "2022-02-05T22:05:00.371Z"
   },
   {
    "duration": 328,
    "start_time": "2022-02-05T22:05:00.616Z"
   },
   {
    "duration": 554,
    "start_time": "2022-02-05T22:05:00.946Z"
   },
   {
    "duration": 227,
    "start_time": "2022-02-05T22:05:01.502Z"
   },
   {
    "duration": 231,
    "start_time": "2022-02-05T22:05:01.732Z"
   },
   {
    "duration": 13,
    "start_time": "2022-02-05T22:05:01.965Z"
   },
   {
    "duration": 269,
    "start_time": "2022-02-05T22:05:01.980Z"
   },
   {
    "duration": 227,
    "start_time": "2022-02-05T22:05:02.251Z"
   },
   {
    "duration": 13,
    "start_time": "2022-02-05T22:05:02.479Z"
   },
   {
    "duration": 269,
    "start_time": "2022-02-05T22:05:02.507Z"
   },
   {
    "duration": 12,
    "start_time": "2022-02-05T22:05:02.778Z"
   },
   {
    "duration": 179,
    "start_time": "2022-02-05T22:05:02.808Z"
   },
   {
    "duration": 24,
    "start_time": "2022-02-05T22:05:02.989Z"
   },
   {
    "duration": 9,
    "start_time": "2022-02-05T22:05:03.015Z"
   },
   {
    "duration": 192,
    "start_time": "2022-02-05T22:05:03.025Z"
   },
   {
    "duration": 11,
    "start_time": "2022-02-05T22:05:03.220Z"
   },
   {
    "duration": 199,
    "start_time": "2022-02-05T22:05:03.233Z"
   },
   {
    "duration": 11,
    "start_time": "2022-02-05T22:05:03.434Z"
   },
   {
    "duration": 11,
    "start_time": "2022-02-05T22:05:03.447Z"
   },
   {
    "duration": 43,
    "start_time": "2022-02-05T22:05:03.460Z"
   },
   {
    "duration": 11,
    "start_time": "2022-02-05T22:05:03.506Z"
   },
   {
    "duration": 16,
    "start_time": "2022-02-05T22:05:03.519Z"
   },
   {
    "duration": 5,
    "start_time": "2022-02-05T22:05:03.537Z"
   },
   {
    "duration": 9,
    "start_time": "2022-02-05T22:05:03.544Z"
   },
   {
    "duration": 14,
    "start_time": "2022-02-05T22:05:03.556Z"
   },
   {
    "duration": 1086,
    "start_time": "2022-02-05T22:13:21.530Z"
   },
   {
    "duration": 196,
    "start_time": "2022-02-05T22:13:22.618Z"
   },
   {
    "duration": 164,
    "start_time": "2022-02-05T22:13:22.816Z"
   },
   {
    "duration": 9,
    "start_time": "2022-02-05T22:13:22.982Z"
   },
   {
    "duration": 24,
    "start_time": "2022-02-05T22:13:22.993Z"
   },
   {
    "duration": 123,
    "start_time": "2022-02-05T22:13:23.019Z"
   },
   {
    "duration": 28,
    "start_time": "2022-02-05T22:13:23.144Z"
   },
   {
    "duration": 42,
    "start_time": "2022-02-05T22:13:23.175Z"
   },
   {
    "duration": 63,
    "start_time": "2022-02-05T22:13:23.219Z"
   },
   {
    "duration": 64,
    "start_time": "2022-02-05T22:13:23.285Z"
   },
   {
    "duration": 36,
    "start_time": "2022-02-05T22:13:23.351Z"
   },
   {
    "duration": 28,
    "start_time": "2022-02-05T22:13:23.389Z"
   },
   {
    "duration": 7,
    "start_time": "2022-02-05T22:13:23.419Z"
   },
   {
    "duration": 19,
    "start_time": "2022-02-05T22:13:23.427Z"
   },
   {
    "duration": 3,
    "start_time": "2022-02-05T22:13:23.448Z"
   },
   {
    "duration": 57,
    "start_time": "2022-02-05T22:13:23.452Z"
   },
   {
    "duration": 21,
    "start_time": "2022-02-05T22:13:23.511Z"
   },
   {
    "duration": 24,
    "start_time": "2022-02-05T22:13:23.534Z"
   },
   {
    "duration": 60,
    "start_time": "2022-02-05T22:13:23.560Z"
   },
   {
    "duration": 28,
    "start_time": "2022-02-05T22:13:23.622Z"
   },
   {
    "duration": 20,
    "start_time": "2022-02-05T22:13:23.652Z"
   },
   {
    "duration": 42,
    "start_time": "2022-02-05T22:13:23.673Z"
   },
   {
    "duration": 17,
    "start_time": "2022-02-05T22:13:23.719Z"
   },
   {
    "duration": 24,
    "start_time": "2022-02-05T22:13:23.739Z"
   },
   {
    "duration": 10,
    "start_time": "2022-02-05T22:13:23.764Z"
   },
   {
    "duration": 5,
    "start_time": "2022-02-05T22:13:23.808Z"
   },
   {
    "duration": 30,
    "start_time": "2022-02-05T22:13:23.815Z"
   },
   {
    "duration": 10,
    "start_time": "2022-02-05T22:13:23.847Z"
   },
   {
    "duration": 7,
    "start_time": "2022-02-05T22:13:23.859Z"
   },
   {
    "duration": 48,
    "start_time": "2022-02-05T22:13:23.868Z"
   },
   {
    "duration": 20,
    "start_time": "2022-02-05T22:13:23.917Z"
   },
   {
    "duration": 4,
    "start_time": "2022-02-05T22:13:23.938Z"
   },
   {
    "duration": 253,
    "start_time": "2022-02-05T22:13:23.944Z"
   },
   {
    "duration": 19,
    "start_time": "2022-02-05T22:13:24.198Z"
   },
   {
    "duration": 5,
    "start_time": "2022-02-05T22:13:24.219Z"
   },
   {
    "duration": 7,
    "start_time": "2022-02-05T22:13:24.225Z"
   },
   {
    "duration": 227,
    "start_time": "2022-02-05T22:13:24.234Z"
   },
   {
    "duration": 220,
    "start_time": "2022-02-05T22:13:24.463Z"
   },
   {
    "duration": 460,
    "start_time": "2022-02-05T22:13:24.686Z"
   },
   {
    "duration": 227,
    "start_time": "2022-02-05T22:13:25.148Z"
   },
   {
    "duration": 224,
    "start_time": "2022-02-05T22:13:25.378Z"
   },
   {
    "duration": 13,
    "start_time": "2022-02-05T22:13:25.607Z"
   },
   {
    "duration": 224,
    "start_time": "2022-02-05T22:13:25.622Z"
   },
   {
    "duration": 213,
    "start_time": "2022-02-05T22:13:25.848Z"
   },
   {
    "duration": 12,
    "start_time": "2022-02-05T22:13:26.063Z"
   },
   {
    "duration": 272,
    "start_time": "2022-02-05T22:13:26.077Z"
   },
   {
    "duration": 11,
    "start_time": "2022-02-05T22:13:26.352Z"
   },
   {
    "duration": 177,
    "start_time": "2022-02-05T22:13:26.365Z"
   },
   {
    "duration": 11,
    "start_time": "2022-02-05T22:13:26.545Z"
   },
   {
    "duration": 8,
    "start_time": "2022-02-05T22:13:26.557Z"
   },
   {
    "duration": 205,
    "start_time": "2022-02-05T22:13:26.567Z"
   },
   {
    "duration": 13,
    "start_time": "2022-02-05T22:13:26.774Z"
   },
   {
    "duration": 205,
    "start_time": "2022-02-05T22:13:26.790Z"
   },
   {
    "duration": 19,
    "start_time": "2022-02-05T22:13:26.998Z"
   },
   {
    "duration": 3,
    "start_time": "2022-02-05T22:13:27.020Z"
   },
   {
    "duration": 7,
    "start_time": "2022-02-05T22:13:27.025Z"
   },
   {
    "duration": 10,
    "start_time": "2022-02-05T22:13:27.034Z"
   },
   {
    "duration": 7,
    "start_time": "2022-02-05T22:13:27.046Z"
   },
   {
    "duration": 6,
    "start_time": "2022-02-05T22:13:27.055Z"
   },
   {
    "duration": 44,
    "start_time": "2022-02-05T22:13:27.063Z"
   },
   {
    "duration": 6,
    "start_time": "2022-02-05T22:13:27.109Z"
   }
  ],
  "kernelspec": {
   "display_name": "Python 3 (ipykernel)",
   "language": "python",
   "name": "python3"
  },
  "language_info": {
   "codemirror_mode": {
    "name": "ipython",
    "version": 3
   },
   "file_extension": ".py",
   "mimetype": "text/x-python",
   "name": "python",
   "nbconvert_exporter": "python",
   "pygments_lexer": "ipython3",
   "version": "3.9.12"
  },
  "toc": {
   "base_numbering": 1,
   "nav_menu": {},
   "number_sections": true,
   "sideBar": true,
   "skip_h1_title": true,
   "title_cell": "Table of Contents",
   "title_sidebar": "Contents",
   "toc_cell": false,
   "toc_position": {},
   "toc_section_display": true,
   "toc_window_display": false
  }
 },
 "nbformat": 4,
 "nbformat_minor": 2
}
