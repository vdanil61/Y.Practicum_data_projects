{
 "cells": [
  {
   "cell_type": "markdown",
   "id": "846cb57b",
   "metadata": {
    "toc": true
   },
   "source": [
    "<h1>Содержание проекта<span class=\"tocSkip\"></span></h1>\n",
    "<div class=\"toc\"><ul class=\"toc-item\"><li><span><a href=\"#Подключение-к-БД-и-вывод-таблиц\" data-toc-modified-id=\"Подключение-к-БД-и-вывод-таблиц-1\"><span class=\"toc-item-num\">1&nbsp;&nbsp;</span>Подключение к БД и вывод таблиц</a></span></li><li><span><a href=\"#Вывод-таблиц\" data-toc-modified-id=\"Вывод-таблиц-2\"><span class=\"toc-item-num\">2&nbsp;&nbsp;</span>Вывод таблиц</a></span></li><li><span><a href=\"#Исследование-базы-данных\" data-toc-modified-id=\"Исследование-базы-данных-3\"><span class=\"toc-item-num\">3&nbsp;&nbsp;</span>Исследование базы данных</a></span><ul class=\"toc-item\"><li><span><a href=\"#Задача-1\" data-toc-modified-id=\"Задача-1-3.1\"><span class=\"toc-item-num\">3.1&nbsp;&nbsp;</span>Задача 1</a></span></li><li><span><a href=\"#Задача-2\" data-toc-modified-id=\"Задача-2-3.2\"><span class=\"toc-item-num\">3.2&nbsp;&nbsp;</span>Задача 2</a></span></li><li><span><a href=\"#Задача-3\" data-toc-modified-id=\"Задача-3-3.3\"><span class=\"toc-item-num\">3.3&nbsp;&nbsp;</span>Задача 3</a></span></li><li><span><a href=\"#Задача-4\" data-toc-modified-id=\"Задача-4-3.4\"><span class=\"toc-item-num\">3.4&nbsp;&nbsp;</span>Задача 4</a></span></li><li><span><a href=\"#Задача-5\" data-toc-modified-id=\"Задача-5-3.5\"><span class=\"toc-item-num\">3.5&nbsp;&nbsp;</span>Задача 5</a></span></li></ul></li><li><span><a href=\"#Общий-вывод-по-итогам-исследования\" data-toc-modified-id=\"Общий-вывод-по-итогам-исследования-4\"><span class=\"toc-item-num\">4&nbsp;&nbsp;</span>Общий вывод по итогам исследования</a></span></li></ul></div>"
   ]
  },
  {
   "cell_type": "markdown",
   "id": "2d77f640",
   "metadata": {},
   "source": [
    "# Выпускной проект. SQL"
   ]
  },
  {
   "cell_type": "markdown",
   "id": "13e77aad",
   "metadata": {},
   "source": [
    "Пандемия коронавируса изменила привычный порядок вещей. В свободное время жители городов больше не выходят на улицу, не посещают кафе и торговые центры. Зато стало больше времени для книг, и это заметили стартаперы — и бросились создавать приложения для тех, кто любит читать.\n",
    "\n",
    "Компания решила купить крупный сервис для чтения книг по подписке. Задача проекта — проанализировать базу данных и сформулировать ценностное предложение для нового продукта.\n",
    "\n",
    "В базе данных компании содержится информация о книгах, издательствах, авторах, а также пользовательские обзоры книг."
   ]
  },
  {
   "cell_type": "code",
   "execution_count": 1,
   "id": "9d414a7d",
   "metadata": {},
   "outputs": [],
   "source": [
    "# импорт библиотек\n",
    "\n",
    "# для хранения результатов\n",
    "import pandas as pd\n",
    "\n",
    "# для коннекции к БД и выводу таблиц\n",
    "from sqlalchemy import create_engine"
   ]
  },
  {
   "cell_type": "markdown",
   "id": "8474e630",
   "metadata": {},
   "source": [
    "## Подключение к БД и вывод таблиц"
   ]
  },
  {
   "cell_type": "code",
   "execution_count": 2,
   "id": "dae38b77",
   "metadata": {},
   "outputs": [],
   "source": [
    "# установка параметров и подключение к БД\n",
    "db_config = {'user': 'praktikum_student',                           # имя пользователя\n",
    "             'pwd': 'Sfd4$2;e-d30tp',                               # пароль\n",
    "             'host': 'rt1b-wcoijdj3yxfaf3qs.mdb.yandexcloud.net',   # хост\n",
    "             'port': 6431,                                          # порт подключения\n",
    "             'db': 'data-analyst-final-project-db'}                 # название базы данных\n",
    "\n",
    "connection_string = 'postgresql://{}:{}@{}:{}/{}'.format(db_config['user'],\n",
    "                                                         db_config['pwd'],\n",
    "                                                         db_config['host'],\n",
    "                                                         db_config['port'],\n",
    "                                                         db_config['db'])\n",
    "\n",
    "# сохранение коннектора\n",
    "engine = create_engine(connection_string, connect_args = {'sslmode':'require'})"
   ]
  },
  {
   "cell_type": "markdown",
   "id": "50bdcd91",
   "metadata": {},
   "source": [
    "Для будущих выводов результатов SQL-запросов подготовим функцию `sql_request_result` - на вход получает переменную query, содержащую SQL-запрос, затем возвращает результат в pandas"
   ]
  },
  {
   "cell_type": "code",
   "execution_count": 3,
   "id": "296aa674",
   "metadata": {},
   "outputs": [],
   "source": [
    "# подготовка функции для вывода результатов запросов\n",
    "def sql_request_result(query):\n",
    "    return pd.io.sql.read_sql(query, con = engine)"
   ]
  },
  {
   "cell_type": "markdown",
   "id": "84d066c4",
   "metadata": {},
   "source": [
    "## Вывод таблиц"
   ]
  },
  {
   "cell_type": "markdown",
   "id": "4bcfdf16",
   "metadata": {},
   "source": [
    "Выведем все таблицы, проверим, что все работает корректно. Чтобы не сильно нагружать БД, ограничимся 5 запросами"
   ]
  },
  {
   "cell_type": "markdown",
   "id": "34eb82f3",
   "metadata": {},
   "source": [
    "**Таблица `books`**\n",
    "\n",
    "Содержит данные о книгах:\n",
    "\n",
    "- `book_id` — идентификатор книги;\n",
    "- `author_id` — идентификатор автора;\n",
    "- `title` — название книги;\n",
    "- `num_pages` — количество страниц;\n",
    "- `publication_date` — дата публикации книги;\n",
    "- `publisher_id` — идентификатор издателя."
   ]
  },
  {
   "cell_type": "code",
   "execution_count": 4,
   "id": "8df2ed95",
   "metadata": {},
   "outputs": [
    {
     "data": {
      "text/html": [
       "<div>\n",
       "<style scoped>\n",
       "    .dataframe tbody tr th:only-of-type {\n",
       "        vertical-align: middle;\n",
       "    }\n",
       "\n",
       "    .dataframe tbody tr th {\n",
       "        vertical-align: top;\n",
       "    }\n",
       "\n",
       "    .dataframe thead th {\n",
       "        text-align: right;\n",
       "    }\n",
       "</style>\n",
       "<table border=\"1\" class=\"dataframe\">\n",
       "  <thead>\n",
       "    <tr style=\"text-align: right;\">\n",
       "      <th></th>\n",
       "      <th>book_id</th>\n",
       "      <th>author_id</th>\n",
       "      <th>title</th>\n",
       "      <th>num_pages</th>\n",
       "      <th>publication_date</th>\n",
       "      <th>publisher_id</th>\n",
       "    </tr>\n",
       "  </thead>\n",
       "  <tbody>\n",
       "    <tr>\n",
       "      <th>0</th>\n",
       "      <td>1</td>\n",
       "      <td>546</td>\n",
       "      <td>'Salem's Lot</td>\n",
       "      <td>594</td>\n",
       "      <td>2005-11-01</td>\n",
       "      <td>93</td>\n",
       "    </tr>\n",
       "    <tr>\n",
       "      <th>1</th>\n",
       "      <td>2</td>\n",
       "      <td>465</td>\n",
       "      <td>1 000 Places to See Before You Die</td>\n",
       "      <td>992</td>\n",
       "      <td>2003-05-22</td>\n",
       "      <td>336</td>\n",
       "    </tr>\n",
       "    <tr>\n",
       "      <th>2</th>\n",
       "      <td>3</td>\n",
       "      <td>407</td>\n",
       "      <td>13 Little Blue Envelopes (Little Blue Envelope...</td>\n",
       "      <td>322</td>\n",
       "      <td>2010-12-21</td>\n",
       "      <td>135</td>\n",
       "    </tr>\n",
       "    <tr>\n",
       "      <th>3</th>\n",
       "      <td>4</td>\n",
       "      <td>82</td>\n",
       "      <td>1491: New Revelations of the Americas Before C...</td>\n",
       "      <td>541</td>\n",
       "      <td>2006-10-10</td>\n",
       "      <td>309</td>\n",
       "    </tr>\n",
       "    <tr>\n",
       "      <th>4</th>\n",
       "      <td>5</td>\n",
       "      <td>125</td>\n",
       "      <td>1776</td>\n",
       "      <td>386</td>\n",
       "      <td>2006-07-04</td>\n",
       "      <td>268</td>\n",
       "    </tr>\n",
       "  </tbody>\n",
       "</table>\n",
       "</div>"
      ],
      "text/plain": [
       "   book_id  author_id                                              title  \\\n",
       "0        1        546                                       'Salem's Lot   \n",
       "1        2        465                 1 000 Places to See Before You Die   \n",
       "2        3        407  13 Little Blue Envelopes (Little Blue Envelope...   \n",
       "3        4         82  1491: New Revelations of the Americas Before C...   \n",
       "4        5        125                                               1776   \n",
       "\n",
       "   num_pages publication_date  publisher_id  \n",
       "0        594       2005-11-01            93  \n",
       "1        992       2003-05-22           336  \n",
       "2        322       2010-12-21           135  \n",
       "3        541       2006-10-10           309  \n",
       "4        386       2006-07-04           268  "
      ]
     },
     "execution_count": 4,
     "metadata": {},
     "output_type": "execute_result"
    }
   ],
   "source": [
    "# запрос к таблице books\n",
    "query = '''\n",
    "\n",
    "        SELECT *\n",
    "        FROM books\n",
    "        LIMIT 5;\n",
    "\n",
    "        '''\n",
    "\n",
    "# вывод таблицы books\n",
    "sql_request_result(query)"
   ]
  },
  {
   "cell_type": "markdown",
   "id": "318c316e",
   "metadata": {},
   "source": [
    "**Таблица `authors`**\n",
    "\n",
    "Содержит данные об авторах:\n",
    "\n",
    "- `author_id` — идентификатор автора;\n",
    "- `author` — имя автора."
   ]
  },
  {
   "cell_type": "code",
   "execution_count": 5,
   "id": "b5f50a57",
   "metadata": {},
   "outputs": [
    {
     "data": {
      "text/html": [
       "<div>\n",
       "<style scoped>\n",
       "    .dataframe tbody tr th:only-of-type {\n",
       "        vertical-align: middle;\n",
       "    }\n",
       "\n",
       "    .dataframe tbody tr th {\n",
       "        vertical-align: top;\n",
       "    }\n",
       "\n",
       "    .dataframe thead th {\n",
       "        text-align: right;\n",
       "    }\n",
       "</style>\n",
       "<table border=\"1\" class=\"dataframe\">\n",
       "  <thead>\n",
       "    <tr style=\"text-align: right;\">\n",
       "      <th></th>\n",
       "      <th>author_id</th>\n",
       "      <th>author</th>\n",
       "    </tr>\n",
       "  </thead>\n",
       "  <tbody>\n",
       "    <tr>\n",
       "      <th>0</th>\n",
       "      <td>1</td>\n",
       "      <td>A.S. Byatt</td>\n",
       "    </tr>\n",
       "    <tr>\n",
       "      <th>1</th>\n",
       "      <td>2</td>\n",
       "      <td>Aesop/Laura Harris/Laura Gibbs</td>\n",
       "    </tr>\n",
       "    <tr>\n",
       "      <th>2</th>\n",
       "      <td>3</td>\n",
       "      <td>Agatha Christie</td>\n",
       "    </tr>\n",
       "    <tr>\n",
       "      <th>3</th>\n",
       "      <td>4</td>\n",
       "      <td>Alan Brennert</td>\n",
       "    </tr>\n",
       "    <tr>\n",
       "      <th>4</th>\n",
       "      <td>5</td>\n",
       "      <td>Alan Moore/David   Lloyd</td>\n",
       "    </tr>\n",
       "  </tbody>\n",
       "</table>\n",
       "</div>"
      ],
      "text/plain": [
       "   author_id                          author\n",
       "0          1                      A.S. Byatt\n",
       "1          2  Aesop/Laura Harris/Laura Gibbs\n",
       "2          3                 Agatha Christie\n",
       "3          4                   Alan Brennert\n",
       "4          5        Alan Moore/David   Lloyd"
      ]
     },
     "execution_count": 5,
     "metadata": {},
     "output_type": "execute_result"
    }
   ],
   "source": [
    "# запрос к таблице authors\n",
    "query = '''\n",
    "\n",
    "        SELECT *\n",
    "        FROM authors\n",
    "        LIMIT 5;\n",
    "\n",
    "        '''\n",
    "\n",
    "# вывод таблицы authors\n",
    "sql_request_result(query)"
   ]
  },
  {
   "cell_type": "markdown",
   "id": "0f9668aa",
   "metadata": {},
   "source": [
    "**Таблица `publishers`**\n",
    "\n",
    "Содержит данные об издательствах:\n",
    "\n",
    "- `publisher_id` — идентификатор издательства;\n",
    "- `publisher` — название издательства."
   ]
  },
  {
   "cell_type": "code",
   "execution_count": 6,
   "id": "dc5dd921",
   "metadata": {},
   "outputs": [
    {
     "data": {
      "text/html": [
       "<div>\n",
       "<style scoped>\n",
       "    .dataframe tbody tr th:only-of-type {\n",
       "        vertical-align: middle;\n",
       "    }\n",
       "\n",
       "    .dataframe tbody tr th {\n",
       "        vertical-align: top;\n",
       "    }\n",
       "\n",
       "    .dataframe thead th {\n",
       "        text-align: right;\n",
       "    }\n",
       "</style>\n",
       "<table border=\"1\" class=\"dataframe\">\n",
       "  <thead>\n",
       "    <tr style=\"text-align: right;\">\n",
       "      <th></th>\n",
       "      <th>publisher_id</th>\n",
       "      <th>publisher</th>\n",
       "    </tr>\n",
       "  </thead>\n",
       "  <tbody>\n",
       "    <tr>\n",
       "      <th>0</th>\n",
       "      <td>1</td>\n",
       "      <td>Ace</td>\n",
       "    </tr>\n",
       "    <tr>\n",
       "      <th>1</th>\n",
       "      <td>2</td>\n",
       "      <td>Ace Book</td>\n",
       "    </tr>\n",
       "    <tr>\n",
       "      <th>2</th>\n",
       "      <td>3</td>\n",
       "      <td>Ace Books</td>\n",
       "    </tr>\n",
       "    <tr>\n",
       "      <th>3</th>\n",
       "      <td>4</td>\n",
       "      <td>Ace Hardcover</td>\n",
       "    </tr>\n",
       "    <tr>\n",
       "      <th>4</th>\n",
       "      <td>5</td>\n",
       "      <td>Addison Wesley Publishing Company</td>\n",
       "    </tr>\n",
       "  </tbody>\n",
       "</table>\n",
       "</div>"
      ],
      "text/plain": [
       "   publisher_id                          publisher\n",
       "0             1                                Ace\n",
       "1             2                           Ace Book\n",
       "2             3                          Ace Books\n",
       "3             4                      Ace Hardcover\n",
       "4             5  Addison Wesley Publishing Company"
      ]
     },
     "execution_count": 6,
     "metadata": {},
     "output_type": "execute_result"
    }
   ],
   "source": [
    "# запрос к таблице publishers\n",
    "query = '''\n",
    "\n",
    "        SELECT *\n",
    "        FROM publishers\n",
    "        LIMIT 5;\n",
    "\n",
    "        '''\n",
    "\n",
    "# вывод таблицы publishers\n",
    "sql_request_result(query)"
   ]
  },
  {
   "cell_type": "markdown",
   "id": "79c9a051",
   "metadata": {},
   "source": [
    "**Таблица `ratings`**\n",
    "\n",
    "Содержит данные о пользовательских оценках книг:\n",
    "\n",
    "- `rating_id` — идентификатор оценки;\n",
    "- `book_id` — идентификатор книги;\n",
    "- `username` — имя пользователя, оставившего оценку;\n",
    "- `rating` — оценка книги."
   ]
  },
  {
   "cell_type": "code",
   "execution_count": 7,
   "id": "11ba1267",
   "metadata": {},
   "outputs": [
    {
     "data": {
      "text/html": [
       "<div>\n",
       "<style scoped>\n",
       "    .dataframe tbody tr th:only-of-type {\n",
       "        vertical-align: middle;\n",
       "    }\n",
       "\n",
       "    .dataframe tbody tr th {\n",
       "        vertical-align: top;\n",
       "    }\n",
       "\n",
       "    .dataframe thead th {\n",
       "        text-align: right;\n",
       "    }\n",
       "</style>\n",
       "<table border=\"1\" class=\"dataframe\">\n",
       "  <thead>\n",
       "    <tr style=\"text-align: right;\">\n",
       "      <th></th>\n",
       "      <th>rating_id</th>\n",
       "      <th>book_id</th>\n",
       "      <th>username</th>\n",
       "      <th>rating</th>\n",
       "    </tr>\n",
       "  </thead>\n",
       "  <tbody>\n",
       "    <tr>\n",
       "      <th>0</th>\n",
       "      <td>1</td>\n",
       "      <td>1</td>\n",
       "      <td>ryanfranco</td>\n",
       "      <td>4</td>\n",
       "    </tr>\n",
       "    <tr>\n",
       "      <th>1</th>\n",
       "      <td>2</td>\n",
       "      <td>1</td>\n",
       "      <td>grantpatricia</td>\n",
       "      <td>2</td>\n",
       "    </tr>\n",
       "    <tr>\n",
       "      <th>2</th>\n",
       "      <td>3</td>\n",
       "      <td>1</td>\n",
       "      <td>brandtandrea</td>\n",
       "      <td>5</td>\n",
       "    </tr>\n",
       "    <tr>\n",
       "      <th>3</th>\n",
       "      <td>4</td>\n",
       "      <td>2</td>\n",
       "      <td>lorichen</td>\n",
       "      <td>3</td>\n",
       "    </tr>\n",
       "    <tr>\n",
       "      <th>4</th>\n",
       "      <td>5</td>\n",
       "      <td>2</td>\n",
       "      <td>mariokeller</td>\n",
       "      <td>2</td>\n",
       "    </tr>\n",
       "  </tbody>\n",
       "</table>\n",
       "</div>"
      ],
      "text/plain": [
       "   rating_id  book_id       username  rating\n",
       "0          1        1     ryanfranco       4\n",
       "1          2        1  grantpatricia       2\n",
       "2          3        1   brandtandrea       5\n",
       "3          4        2       lorichen       3\n",
       "4          5        2    mariokeller       2"
      ]
     },
     "execution_count": 7,
     "metadata": {},
     "output_type": "execute_result"
    }
   ],
   "source": [
    "# запрос к таблице ratings\n",
    "query = '''\n",
    "\n",
    "        SELECT *\n",
    "        FROM ratings\n",
    "        LIMIT 5;\n",
    "\n",
    "        '''\n",
    "\n",
    "# вывод таблицы ratings\n",
    "sql_request_result(query)"
   ]
  },
  {
   "cell_type": "markdown",
   "id": "d0f6545b",
   "metadata": {},
   "source": [
    "**Таблица `reviews`**\n",
    "\n",
    "Содержит данные о пользовательских обзорах на книги:\n",
    "\n",
    "- `review_id` — идентификатор обзора;\n",
    "- `book_id` — идентификатор книги;\n",
    "- `username` — имя пользователя, написавшего обзор;\n",
    "- `text` — текст обзора."
   ]
  },
  {
   "cell_type": "code",
   "execution_count": 8,
   "id": "41f40996",
   "metadata": {},
   "outputs": [
    {
     "data": {
      "text/html": [
       "<div>\n",
       "<style scoped>\n",
       "    .dataframe tbody tr th:only-of-type {\n",
       "        vertical-align: middle;\n",
       "    }\n",
       "\n",
       "    .dataframe tbody tr th {\n",
       "        vertical-align: top;\n",
       "    }\n",
       "\n",
       "    .dataframe thead th {\n",
       "        text-align: right;\n",
       "    }\n",
       "</style>\n",
       "<table border=\"1\" class=\"dataframe\">\n",
       "  <thead>\n",
       "    <tr style=\"text-align: right;\">\n",
       "      <th></th>\n",
       "      <th>review_id</th>\n",
       "      <th>book_id</th>\n",
       "      <th>username</th>\n",
       "      <th>text</th>\n",
       "    </tr>\n",
       "  </thead>\n",
       "  <tbody>\n",
       "    <tr>\n",
       "      <th>0</th>\n",
       "      <td>1</td>\n",
       "      <td>1</td>\n",
       "      <td>brandtandrea</td>\n",
       "      <td>Mention society tell send professor analysis. ...</td>\n",
       "    </tr>\n",
       "    <tr>\n",
       "      <th>1</th>\n",
       "      <td>2</td>\n",
       "      <td>1</td>\n",
       "      <td>ryanfranco</td>\n",
       "      <td>Foot glass pretty audience hit themselves. Amo...</td>\n",
       "    </tr>\n",
       "    <tr>\n",
       "      <th>2</th>\n",
       "      <td>3</td>\n",
       "      <td>2</td>\n",
       "      <td>lorichen</td>\n",
       "      <td>Listen treat keep worry. Miss husband tax but ...</td>\n",
       "    </tr>\n",
       "    <tr>\n",
       "      <th>3</th>\n",
       "      <td>4</td>\n",
       "      <td>3</td>\n",
       "      <td>johnsonamanda</td>\n",
       "      <td>Finally month interesting blue could nature cu...</td>\n",
       "    </tr>\n",
       "    <tr>\n",
       "      <th>4</th>\n",
       "      <td>5</td>\n",
       "      <td>3</td>\n",
       "      <td>scotttamara</td>\n",
       "      <td>Nation purpose heavy give wait song will. List...</td>\n",
       "    </tr>\n",
       "  </tbody>\n",
       "</table>\n",
       "</div>"
      ],
      "text/plain": [
       "   review_id  book_id       username  \\\n",
       "0          1        1   brandtandrea   \n",
       "1          2        1     ryanfranco   \n",
       "2          3        2       lorichen   \n",
       "3          4        3  johnsonamanda   \n",
       "4          5        3    scotttamara   \n",
       "\n",
       "                                                text  \n",
       "0  Mention society tell send professor analysis. ...  \n",
       "1  Foot glass pretty audience hit themselves. Amo...  \n",
       "2  Listen treat keep worry. Miss husband tax but ...  \n",
       "3  Finally month interesting blue could nature cu...  \n",
       "4  Nation purpose heavy give wait song will. List...  "
      ]
     },
     "execution_count": 8,
     "metadata": {},
     "output_type": "execute_result"
    }
   ],
   "source": [
    "# запрос к таблице reviews\n",
    "query = '''\n",
    "\n",
    "        SELECT *\n",
    "        FROM reviews\n",
    "        LIMIT 5;\n",
    "\n",
    "        '''\n",
    "\n",
    "# вывод таблицы reviews\n",
    "sql_request_result(query)"
   ]
  },
  {
   "cell_type": "markdown",
   "id": "58d9d4ba",
   "metadata": {},
   "source": [
    "Запросы отработали корректно, каждая таблица выгружена.\n",
    "\n",
    "Можно приступать к исследованию."
   ]
  },
  {
   "cell_type": "markdown",
   "id": "b17987eb",
   "metadata": {},
   "source": [
    "## Исследование базы данных"
   ]
  },
  {
   "cell_type": "markdown",
   "id": "f979d1da",
   "metadata": {},
   "source": [
    "### Задача 1"
   ]
  },
  {
   "cell_type": "markdown",
   "id": "59837fc5",
   "metadata": {},
   "source": [
    "**Сколько книг вышло после 1 января 2000 года?**"
   ]
  },
  {
   "cell_type": "markdown",
   "id": "6c404c14",
   "metadata": {},
   "source": [
    "Выводом этого запроса предполагается одно поле - количество книг с датой публикации в 2000 году и позже"
   ]
  },
  {
   "cell_type": "code",
   "execution_count": 9,
   "id": "0bc5d0c3",
   "metadata": {},
   "outputs": [
    {
     "data": {
      "text/html": [
       "<div>\n",
       "<style scoped>\n",
       "    .dataframe tbody tr th:only-of-type {\n",
       "        vertical-align: middle;\n",
       "    }\n",
       "\n",
       "    .dataframe tbody tr th {\n",
       "        vertical-align: top;\n",
       "    }\n",
       "\n",
       "    .dataframe thead th {\n",
       "        text-align: right;\n",
       "    }\n",
       "</style>\n",
       "<table border=\"1\" class=\"dataframe\">\n",
       "  <thead>\n",
       "    <tr style=\"text-align: right;\">\n",
       "      <th></th>\n",
       "      <th>count</th>\n",
       "    </tr>\n",
       "  </thead>\n",
       "  <tbody>\n",
       "    <tr>\n",
       "      <th>0</th>\n",
       "      <td>819</td>\n",
       "    </tr>\n",
       "  </tbody>\n",
       "</table>\n",
       "</div>"
      ],
      "text/plain": [
       "   count\n",
       "0    819"
      ]
     },
     "execution_count": 9,
     "metadata": {},
     "output_type": "execute_result"
    }
   ],
   "source": [
    "# запрос к БД\n",
    "query = '''\n",
    "\n",
    "        SELECT COUNT(book_id)\n",
    "        FROM books\n",
    "        WHERE publication_date > '2000-01-01';\n",
    "\n",
    "        '''\n",
    "\n",
    "# вывод запроса\n",
    "sql_request_result(query)"
   ]
  },
  {
   "cell_type": "markdown",
   "id": "48878f8b",
   "metadata": {},
   "source": [
    "Всего в библиотеке имеется 819 книг, выпущенных в 2000 году и позже"
   ]
  },
  {
   "cell_type": "markdown",
   "id": "3718e93f",
   "metadata": {},
   "source": [
    "### Задача 2"
   ]
  },
  {
   "cell_type": "markdown",
   "id": "3a40a3ab",
   "metadata": {},
   "source": [
    "**Сколько обзоров проведено на каждую книгу и какая средняя оценка?**\n",
    "\n",
    "Выводом этого запроса предполагается 3 поля - название книги, количество обзоров по ней и средний рейтинг"
   ]
  },
  {
   "cell_type": "code",
   "execution_count": 10,
   "id": "820a1842",
   "metadata": {},
   "outputs": [
    {
     "data": {
      "text/html": [
       "<div>\n",
       "<style scoped>\n",
       "    .dataframe tbody tr th:only-of-type {\n",
       "        vertical-align: middle;\n",
       "    }\n",
       "\n",
       "    .dataframe tbody tr th {\n",
       "        vertical-align: top;\n",
       "    }\n",
       "\n",
       "    .dataframe thead th {\n",
       "        text-align: right;\n",
       "    }\n",
       "</style>\n",
       "<table border=\"1\" class=\"dataframe\">\n",
       "  <thead>\n",
       "    <tr style=\"text-align: right;\">\n",
       "      <th></th>\n",
       "      <th>title</th>\n",
       "      <th>reviews_count</th>\n",
       "      <th>avg_rating</th>\n",
       "    </tr>\n",
       "  </thead>\n",
       "  <tbody>\n",
       "    <tr>\n",
       "      <th>0</th>\n",
       "      <td>Memoirs of a Geisha</td>\n",
       "      <td>8</td>\n",
       "      <td>4.138462</td>\n",
       "    </tr>\n",
       "    <tr>\n",
       "      <th>1</th>\n",
       "      <td>Twilight (Twilight  #1)</td>\n",
       "      <td>7</td>\n",
       "      <td>3.662500</td>\n",
       "    </tr>\n",
       "    <tr>\n",
       "      <th>2</th>\n",
       "      <td>Harry Potter and the Chamber of Secrets (Harry...</td>\n",
       "      <td>6</td>\n",
       "      <td>4.287500</td>\n",
       "    </tr>\n",
       "    <tr>\n",
       "      <th>3</th>\n",
       "      <td>The Glass Castle</td>\n",
       "      <td>6</td>\n",
       "      <td>4.206897</td>\n",
       "    </tr>\n",
       "    <tr>\n",
       "      <th>4</th>\n",
       "      <td>Eat  Pray  Love</td>\n",
       "      <td>6</td>\n",
       "      <td>3.395833</td>\n",
       "    </tr>\n",
       "    <tr>\n",
       "      <th>...</th>\n",
       "      <td>...</td>\n",
       "      <td>...</td>\n",
       "      <td>...</td>\n",
       "    </tr>\n",
       "    <tr>\n",
       "      <th>994</th>\n",
       "      <td>Anne Rice's The Vampire Lestat: A Graphic Novel</td>\n",
       "      <td>0</td>\n",
       "      <td>3.666667</td>\n",
       "    </tr>\n",
       "    <tr>\n",
       "      <th>995</th>\n",
       "      <td>The Natural Way to Draw</td>\n",
       "      <td>0</td>\n",
       "      <td>3.000000</td>\n",
       "    </tr>\n",
       "    <tr>\n",
       "      <th>996</th>\n",
       "      <td>The Cat in the Hat and Other Dr. Seuss Favorites</td>\n",
       "      <td>0</td>\n",
       "      <td>5.000000</td>\n",
       "    </tr>\n",
       "    <tr>\n",
       "      <th>997</th>\n",
       "      <td>Essential Tales and Poems</td>\n",
       "      <td>0</td>\n",
       "      <td>4.000000</td>\n",
       "    </tr>\n",
       "    <tr>\n",
       "      <th>998</th>\n",
       "      <td>Disney's Beauty and the Beast (A Little Golden...</td>\n",
       "      <td>0</td>\n",
       "      <td>4.000000</td>\n",
       "    </tr>\n",
       "  </tbody>\n",
       "</table>\n",
       "<p>999 rows × 3 columns</p>\n",
       "</div>"
      ],
      "text/plain": [
       "                                                 title  reviews_count  \\\n",
       "0                                  Memoirs of a Geisha              8   \n",
       "1                              Twilight (Twilight  #1)              7   \n",
       "2    Harry Potter and the Chamber of Secrets (Harry...              6   \n",
       "3                                     The Glass Castle              6   \n",
       "4                                      Eat  Pray  Love              6   \n",
       "..                                                 ...            ...   \n",
       "994    Anne Rice's The Vampire Lestat: A Graphic Novel              0   \n",
       "995                            The Natural Way to Draw              0   \n",
       "996   The Cat in the Hat and Other Dr. Seuss Favorites              0   \n",
       "997                          Essential Tales and Poems              0   \n",
       "998  Disney's Beauty and the Beast (A Little Golden...              0   \n",
       "\n",
       "     avg_rating  \n",
       "0      4.138462  \n",
       "1      3.662500  \n",
       "2      4.287500  \n",
       "3      4.206897  \n",
       "4      3.395833  \n",
       "..          ...  \n",
       "994    3.666667  \n",
       "995    3.000000  \n",
       "996    5.000000  \n",
       "997    4.000000  \n",
       "998    4.000000  \n",
       "\n",
       "[999 rows x 3 columns]"
      ]
     },
     "execution_count": 10,
     "metadata": {},
     "output_type": "execute_result"
    }
   ],
   "source": [
    "# запрос к БД\n",
    "query = '''\n",
    "\n",
    "        SELECT b.title,\n",
    "               COUNT(DISTINCT rv.review_id) AS reviews_count,\n",
    "               AVG(rt.rating) AS avg_rating\n",
    "        FROM books AS b\n",
    "        LEFT OUTER JOIN reviews AS rv ON b.book_id = rv.book_id\n",
    "        LEFT OUTER JOIN ratings AS rt ON b.book_id = rt.book_id\n",
    "        GROUP BY b.title\n",
    "        ORDER BY reviews_count DESC;\n",
    "\n",
    "        '''\n",
    "\n",
    "# отсортируем итоговую таблицу по убыванию количества обзоров\n",
    "\n",
    "# вывод запроса\n",
    "sql_request_result(query)"
   ]
  },
  {
   "cell_type": "markdown",
   "id": "91ff1877",
   "metadata": {},
   "source": [
    "Судя по выводу, в базе сервиса книг имеется 999 книг, которым так или иначе выставлена оценка.\n",
    "\n",
    "Имеем разброс по количеству обзоров от 0 до 8."
   ]
  },
  {
   "cell_type": "markdown",
   "id": "882e34eb",
   "metadata": {},
   "source": [
    "### Задача 3"
   ]
  },
  {
   "cell_type": "markdown",
   "id": "321ea441",
   "metadata": {},
   "source": [
    "**Какое издательство выпустило наибольшее число книг толще 50 страниц?**\n",
    "\n",
    "*Так брошюры будут исключены из анализа*\n",
    "\n",
    "Выводом этого запроса предполагается два поля с названием издательства, которое выпустило наибольшее количество полноценных книг (> 50 страниц) и само количество книг. Во временной таблице получим таблицу с названием издательства и общим количеством выпущенных книг с сортировкой по убыванию, затем выведем только 1 строку в основном запросе (2 вариант - сделать подзапрос полностью во FROM)"
   ]
  },
  {
   "cell_type": "code",
   "execution_count": 11,
   "id": "1ab19e0c",
   "metadata": {},
   "outputs": [
    {
     "data": {
      "text/html": [
       "<div>\n",
       "<style scoped>\n",
       "    .dataframe tbody tr th:only-of-type {\n",
       "        vertical-align: middle;\n",
       "    }\n",
       "\n",
       "    .dataframe tbody tr th {\n",
       "        vertical-align: top;\n",
       "    }\n",
       "\n",
       "    .dataframe thead th {\n",
       "        text-align: right;\n",
       "    }\n",
       "</style>\n",
       "<table border=\"1\" class=\"dataframe\">\n",
       "  <thead>\n",
       "    <tr style=\"text-align: right;\">\n",
       "      <th></th>\n",
       "      <th>publisher</th>\n",
       "      <th>published_books</th>\n",
       "    </tr>\n",
       "  </thead>\n",
       "  <tbody>\n",
       "    <tr>\n",
       "      <th>0</th>\n",
       "      <td>Penguin Books</td>\n",
       "      <td>42</td>\n",
       "    </tr>\n",
       "  </tbody>\n",
       "</table>\n",
       "</div>"
      ],
      "text/plain": [
       "       publisher  published_books\n",
       "0  Penguin Books               42"
      ]
     },
     "execution_count": 11,
     "metadata": {},
     "output_type": "execute_result"
    }
   ],
   "source": [
    "# запрос к БД\n",
    "query = '''\n",
    "\n",
    "        WITH books_count AS(SELECT pb.publisher AS publisher,\n",
    "                                   COUNT(DISTINCT b.book_id) AS published_books\n",
    "                            FROM publishers AS pb\n",
    "                            LEFT OUTER JOIN books AS b ON pb.publisher_id = b.publisher_id\n",
    "                            WHERE b.num_pages > 50\n",
    "                            GROUP BY pb.publisher\n",
    "                            ORDER BY published_books DESC)\n",
    "        \n",
    "        SELECT *\n",
    "        FROM books_count\n",
    "        LIMIT 1;\n",
    "\n",
    "        '''\n",
    "\n",
    "# вывод запроса\n",
    "sql_request_result(query)"
   ]
  },
  {
   "cell_type": "markdown",
   "id": "7b7074c9",
   "metadata": {},
   "source": [
    "Судя по результатам запроса, наибольшее количество полноценных книг выпустило издательство Penguin Books - 42 книги."
   ]
  },
  {
   "cell_type": "markdown",
   "id": "7a86faca",
   "metadata": {},
   "source": [
    "### Задача 4"
   ]
  },
  {
   "cell_type": "markdown",
   "id": "7ca5205b",
   "metadata": {},
   "source": [
    "**Какой автор имеет самую высокую среднюю оценку книг?** \n",
    "\n",
    "*Учитываются только книги с 50 и более оценками*\n",
    "\n",
    "Выводом этого запроса предполагается два поля с именем автора, получившим самые высокие оценки своих книг и само значение рейтинга. Сделаем подзапрос во FROM - получим новую таблицу с названием книги, именем ее автора и общей средней оценкой книги с сортировкой по убыванию оценки. Затем из новой таблицы выберем 2 поля с именем автора и общим средним рейтингом по всем книгам."
   ]
  },
  {
   "cell_type": "code",
   "execution_count": 12,
   "id": "cd101e8c",
   "metadata": {},
   "outputs": [
    {
     "data": {
      "text/html": [
       "<div>\n",
       "<style scoped>\n",
       "    .dataframe tbody tr th:only-of-type {\n",
       "        vertical-align: middle;\n",
       "    }\n",
       "\n",
       "    .dataframe tbody tr th {\n",
       "        vertical-align: top;\n",
       "    }\n",
       "\n",
       "    .dataframe thead th {\n",
       "        text-align: right;\n",
       "    }\n",
       "</style>\n",
       "<table border=\"1\" class=\"dataframe\">\n",
       "  <thead>\n",
       "    <tr style=\"text-align: right;\">\n",
       "      <th></th>\n",
       "      <th>book_author</th>\n",
       "      <th>avg_author_rating</th>\n",
       "    </tr>\n",
       "  </thead>\n",
       "  <tbody>\n",
       "    <tr>\n",
       "      <th>0</th>\n",
       "      <td>J.K. Rowling/Mary GrandPré</td>\n",
       "      <td>4.283844</td>\n",
       "    </tr>\n",
       "  </tbody>\n",
       "</table>\n",
       "</div>"
      ],
      "text/plain": [
       "                  book_author  avg_author_rating\n",
       "0  J.K. Rowling/Mary GrandPré           4.283844"
      ]
     },
     "execution_count": 12,
     "metadata": {},
     "output_type": "execute_result"
    }
   ],
   "source": [
    "# запрос к БД\n",
    "query = '''\n",
    "\n",
    "        SELECT book_author,\n",
    "               AVG(authors_ratings.avg_rating) AS avg_author_rating\n",
    "        FROM (SELECT a.author AS book_author,\n",
    "                     b.book_id AS book_id,\n",
    "                     AVG(r.rating) AS avg_rating\n",
    "              FROM authors AS a\n",
    "              LEFT OUTER JOIN books AS b ON a.author_id = b.author_id\n",
    "              LEFT OUTER JOIN ratings AS r ON b.book_id = r.book_id\n",
    "              GROUP BY a.author, b.book_id\n",
    "              HAVING COUNT(r.rating) >= 50\n",
    "              ORDER BY avg_rating DESC) AS authors_ratings\n",
    "        GROUP BY book_author\n",
    "        ORDER BY avg_author_rating DESC\n",
    "              \n",
    "        LIMIT 1;\n",
    "\n",
    "        '''\n",
    "\n",
    "# вывод запроса\n",
    "sql_request_result(query)"
   ]
  },
  {
   "cell_type": "markdown",
   "id": "93cb301f",
   "metadata": {},
   "source": [
    "Судя по результатам запроса, самый высокий средний рейтинг имеет дуэт авторов: J.K. Rowling/Mary GrandPré - он составляет 4,283"
   ]
  },
  {
   "cell_type": "markdown",
   "id": "9dbb707c",
   "metadata": {},
   "source": [
    "### Задача 5"
   ]
  },
  {
   "cell_type": "markdown",
   "id": "bc5edf5b",
   "metadata": {},
   "source": [
    "**Какое среднее количество обзоров сделали пользователи, которые поставили больше 50 оценок?**"
   ]
  },
  {
   "cell_type": "markdown",
   "id": "1c8488fa",
   "metadata": {},
   "source": [
    "Результатом этого запроса предполагается одно поле со значением среднего количества обзоров, которые сделали постоянные читатели (больше 50 оценок).\n",
    "\n",
    "Пойдем последовательно:\n",
    "- 1) Получим ники пользователей, кто в целом поставил больше 50 оценок\n",
    "- 2) Получим количество обзоров, которое сделал каждый пользователь, поставивший больше 50 оценок\n",
    "- 3) Из получившейся временной таблицы посчитаем среднее значение количества обзоров по всем постоянным читателям"
   ]
  },
  {
   "cell_type": "code",
   "execution_count": 13,
   "id": "9e6f100d",
   "metadata": {},
   "outputs": [
    {
     "data": {
      "text/html": [
       "<div>\n",
       "<style scoped>\n",
       "    .dataframe tbody tr th:only-of-type {\n",
       "        vertical-align: middle;\n",
       "    }\n",
       "\n",
       "    .dataframe tbody tr th {\n",
       "        vertical-align: top;\n",
       "    }\n",
       "\n",
       "    .dataframe thead th {\n",
       "        text-align: right;\n",
       "    }\n",
       "</style>\n",
       "<table border=\"1\" class=\"dataframe\">\n",
       "  <thead>\n",
       "    <tr style=\"text-align: right;\">\n",
       "      <th></th>\n",
       "      <th>avg_reviews_count</th>\n",
       "    </tr>\n",
       "  </thead>\n",
       "  <tbody>\n",
       "    <tr>\n",
       "      <th>0</th>\n",
       "      <td>24.333333</td>\n",
       "    </tr>\n",
       "  </tbody>\n",
       "</table>\n",
       "</div>"
      ],
      "text/plain": [
       "   avg_reviews_count\n",
       "0          24.333333"
      ]
     },
     "execution_count": 13,
     "metadata": {},
     "output_type": "execute_result"
    }
   ],
   "source": [
    "# запрос к БД\n",
    "query = '''\n",
    "        \n",
    "        WITH reviews_count AS(SELECT COUNT(review_id) AS users_reviews_count\n",
    "                              FROM reviews\n",
    "                              WHERE username IN (SELECT username\n",
    "                                                 FROM ratings\n",
    "                                                 GROUP BY username\n",
    "                                                 HAVING COUNT(rating) > 50)\n",
    "                              GROUP BY username)\n",
    "                              \n",
    "        SELECT AVG(users_reviews_count) AS avg_reviews_count\n",
    "        FROM reviews_count;\n",
    "\n",
    "        '''\n",
    "\n",
    "# вывод запроса\n",
    "sql_request_result(query)"
   ]
  },
  {
   "cell_type": "markdown",
   "id": "b7f1cb91",
   "metadata": {},
   "source": [
    "Судя по результатам вывода, в среднем постоянные читатели пишут по 24 обзора. \n",
    "\n",
    "Это точно давние пользователи сервиса. Допустим, если за год прочитать 24 книги - на прочтение одной книги уйдет по 15 дней, при этом каждая из них может быть как большой, так и объемной (в этой задаче не учитывалось количество страниц). Может быть и такое, что обзоры написаны не на все прочитанные книги - прочитанных может быть гораздо больше."
   ]
  },
  {
   "cell_type": "markdown",
   "id": "cd93d905",
   "metadata": {},
   "source": [
    "## Общий вывод по итогам исследования"
   ]
  },
  {
   "cell_type": "markdown",
   "id": "0ec8c406",
   "metadata": {},
   "source": [
    "В рамках проекта произведено исследование имеющейся базы книжного сервиса. Основные наблюдения:\n",
    "- 1) В базе имеется 819 книг, опубликованных с начала 2000 года\n",
    "- 2) Не на все книги выпущены обзоры - разброс составляет от 0 до 8 обзоров\n",
    "- 3) Наибольшее количество полноценных книг (более 50 страниц) имеется от издательства Penguin Books - всего 42 книги в базе\n",
    "- 4) Самый высокий средний рейтинг от читателей имеет дуэт авторов J.K. Rowling/Mary GrandPré - он составляет 4,28\n",
    "- 5) В среднем, давние и постоянные читатели пишут 24 обзора на книги"
   ]
  }
 ],
 "metadata": {
  "ExecuteTimeLog": [
   {
    "duration": 457,
    "start_time": "2022-06-11T20:34:35.599Z"
   },
   {
    "duration": 37,
    "start_time": "2022-06-11T20:34:36.059Z"
   },
   {
    "duration": 3,
    "start_time": "2022-06-11T20:34:36.097Z"
   },
   {
    "duration": 256,
    "start_time": "2022-06-11T20:34:36.101Z"
   },
   {
    "duration": 73,
    "start_time": "2022-06-11T20:34:36.359Z"
   },
   {
    "duration": 72,
    "start_time": "2022-06-11T20:34:36.434Z"
   },
   {
    "duration": 76,
    "start_time": "2022-06-11T20:34:36.508Z"
   },
   {
    "duration": 73,
    "start_time": "2022-06-11T20:34:36.586Z"
   },
   {
    "duration": 72,
    "start_time": "2022-06-11T20:34:36.661Z"
   },
   {
    "duration": 115,
    "start_time": "2022-06-11T20:34:36.736Z"
   },
   {
    "duration": 75,
    "start_time": "2022-06-11T20:34:36.853Z"
   },
   {
    "duration": 78,
    "start_time": "2022-06-11T20:34:36.930Z"
   },
   {
    "duration": 86,
    "start_time": "2022-06-11T20:34:37.009Z"
   },
   {
    "duration": 92,
    "start_time": "2022-06-11T20:36:12.962Z"
   },
   {
    "duration": 78,
    "start_time": "2022-06-11T20:36:14.996Z"
   }
  ],
  "kernelspec": {
   "display_name": "Python 3 (ipykernel)",
   "language": "python",
   "name": "python3"
  },
  "language_info": {
   "codemirror_mode": {
    "name": "ipython",
    "version": 3
   },
   "file_extension": ".py",
   "mimetype": "text/x-python",
   "name": "python",
   "nbconvert_exporter": "python",
   "pygments_lexer": "ipython3",
   "version": "3.9.7"
  },
  "toc": {
   "base_numbering": 1,
   "nav_menu": {},
   "number_sections": true,
   "sideBar": true,
   "skip_h1_title": true,
   "title_cell": "Содержание проекта",
   "title_sidebar": "Contents",
   "toc_cell": true,
   "toc_position": {},
   "toc_section_display": true,
   "toc_window_display": true
  }
 },
 "nbformat": 4,
 "nbformat_minor": 5
}
