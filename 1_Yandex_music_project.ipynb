{
 "cells": [
  {
   "cell_type": "markdown",
   "metadata": {
    "id": "E0vqbgi9ay0H"
   },
   "source": [
    "# Музыка больших городов"
   ]
  },
  {
   "cell_type": "markdown",
   "metadata": {
    "id": "VUC88oWjTJw2"
   },
   "source": [
    "Сравнение Москвы и Петербурга окружено мифами. Например:\n",
    " * Москва — мегаполис, подчинённый жёсткому ритму рабочей недели;\n",
    " * Петербург — культурная столица, со своими вкусами.\n",
    "\n",
    "На данных Яндекс.Музыки сравним поведение пользователей двух столиц.\n",
    "\n",
    "**Цель исследования** — проверить три гипотезы:\n",
    "1. Активность пользователей зависит от дня недели. Причём в Москве и Петербурге это проявляется по-разному.\n",
    "2. В понедельник утром в Москве преобладают одни жанры, а в Петербурге — другие. Так же и вечером пятницы преобладают разные жанры — в зависимости от города. \n",
    "3. Москва и Петербург предпочитают разные жанры музыки. В Москве чаще слушают поп-музыку, в Петербурге — русский рэп.\n",
    "\n",
    "**Ход исследования**\n",
    " \n",
    "Исследование пройдёт в три этапа:\n",
    " 1. Обзор данных.\n",
    " 2. Предобработка данных.\n",
    " 3. Проверка гипотез."
   ]
  },
  {
   "cell_type": "markdown",
   "metadata": {
    "id": "Ml1hmfXC_Zcs"
   },
   "source": [
    "## Обзор данных\n",
    "\n",
    "Составим первое представление о данных Яндекс.Музыки."
   ]
  },
  {
   "cell_type": "code",
   "execution_count": 1,
   "metadata": {
    "id": "AXN7PHPN_Zcs"
   },
   "outputs": [],
   "source": [
    "# импорт библиотеки pandas\n",
    "import pandas as pd"
   ]
  },
  {
   "cell_type": "markdown",
   "metadata": {
    "id": "SG23P8tt_Zcs"
   },
   "source": [
    "Прочитаем файл `yandex_music_project.csv` из папки `/datasets` и сохраним его в `df`:"
   ]
  },
  {
   "cell_type": "code",
   "execution_count": 2,
   "metadata": {
    "id": "fFVu7vqh_Zct"
   },
   "outputs": [],
   "source": [
    "# чтение файла с данными и сохранение в df\n",
    "df = pd.read_csv('/Users/danilvlasenko/Desktop/yandex_music_project.csv')"
   ]
  },
  {
   "cell_type": "markdown",
   "metadata": {
    "id": "rDoOMd3uTqnZ"
   },
   "source": [
    "Выведем на экран первые десять строк таблицы:"
   ]
  },
  {
   "cell_type": "code",
   "execution_count": 3,
   "metadata": {
    "id": "oWTVX3gW_Zct"
   },
   "outputs": [
    {
     "data": {
      "text/html": [
       "<div>\n",
       "<style scoped>\n",
       "    .dataframe tbody tr th:only-of-type {\n",
       "        vertical-align: middle;\n",
       "    }\n",
       "\n",
       "    .dataframe tbody tr th {\n",
       "        vertical-align: top;\n",
       "    }\n",
       "\n",
       "    .dataframe thead th {\n",
       "        text-align: right;\n",
       "    }\n",
       "</style>\n",
       "<table border=\"1\" class=\"dataframe\">\n",
       "  <thead>\n",
       "    <tr style=\"text-align: right;\">\n",
       "      <th></th>\n",
       "      <th>userID</th>\n",
       "      <th>Track</th>\n",
       "      <th>artist</th>\n",
       "      <th>genre</th>\n",
       "      <th>City</th>\n",
       "      <th>time</th>\n",
       "      <th>Day</th>\n",
       "    </tr>\n",
       "  </thead>\n",
       "  <tbody>\n",
       "    <tr>\n",
       "      <td>0</td>\n",
       "      <td>FFB692EC</td>\n",
       "      <td>Kamigata To Boots</td>\n",
       "      <td>The Mass Missile</td>\n",
       "      <td>rock</td>\n",
       "      <td>Saint-Petersburg</td>\n",
       "      <td>20:28:33</td>\n",
       "      <td>Wednesday</td>\n",
       "    </tr>\n",
       "    <tr>\n",
       "      <td>1</td>\n",
       "      <td>55204538</td>\n",
       "      <td>Delayed Because of Accident</td>\n",
       "      <td>Andreas Rönnberg</td>\n",
       "      <td>rock</td>\n",
       "      <td>Moscow</td>\n",
       "      <td>14:07:09</td>\n",
       "      <td>Friday</td>\n",
       "    </tr>\n",
       "    <tr>\n",
       "      <td>2</td>\n",
       "      <td>20EC38</td>\n",
       "      <td>Funiculì funiculà</td>\n",
       "      <td>Mario Lanza</td>\n",
       "      <td>pop</td>\n",
       "      <td>Saint-Petersburg</td>\n",
       "      <td>20:58:07</td>\n",
       "      <td>Wednesday</td>\n",
       "    </tr>\n",
       "    <tr>\n",
       "      <td>3</td>\n",
       "      <td>A3DD03C9</td>\n",
       "      <td>Dragons in the Sunset</td>\n",
       "      <td>Fire + Ice</td>\n",
       "      <td>folk</td>\n",
       "      <td>Saint-Petersburg</td>\n",
       "      <td>08:37:09</td>\n",
       "      <td>Monday</td>\n",
       "    </tr>\n",
       "    <tr>\n",
       "      <td>4</td>\n",
       "      <td>E2DC1FAE</td>\n",
       "      <td>Soul People</td>\n",
       "      <td>Space Echo</td>\n",
       "      <td>dance</td>\n",
       "      <td>Moscow</td>\n",
       "      <td>08:34:34</td>\n",
       "      <td>Monday</td>\n",
       "    </tr>\n",
       "    <tr>\n",
       "      <td>5</td>\n",
       "      <td>842029A1</td>\n",
       "      <td>Преданная</td>\n",
       "      <td>IMPERVTOR</td>\n",
       "      <td>rusrap</td>\n",
       "      <td>Saint-Petersburg</td>\n",
       "      <td>13:09:41</td>\n",
       "      <td>Friday</td>\n",
       "    </tr>\n",
       "    <tr>\n",
       "      <td>6</td>\n",
       "      <td>4CB90AA5</td>\n",
       "      <td>True</td>\n",
       "      <td>Roman Messer</td>\n",
       "      <td>dance</td>\n",
       "      <td>Moscow</td>\n",
       "      <td>13:00:07</td>\n",
       "      <td>Wednesday</td>\n",
       "    </tr>\n",
       "    <tr>\n",
       "      <td>7</td>\n",
       "      <td>F03E1C1F</td>\n",
       "      <td>Feeling This Way</td>\n",
       "      <td>Polina Griffith</td>\n",
       "      <td>dance</td>\n",
       "      <td>Moscow</td>\n",
       "      <td>20:47:49</td>\n",
       "      <td>Wednesday</td>\n",
       "    </tr>\n",
       "    <tr>\n",
       "      <td>8</td>\n",
       "      <td>8FA1D3BE</td>\n",
       "      <td>И вновь продолжается бой</td>\n",
       "      <td>NaN</td>\n",
       "      <td>ruspop</td>\n",
       "      <td>Moscow</td>\n",
       "      <td>09:17:40</td>\n",
       "      <td>Friday</td>\n",
       "    </tr>\n",
       "    <tr>\n",
       "      <td>9</td>\n",
       "      <td>E772D5C0</td>\n",
       "      <td>Pessimist</td>\n",
       "      <td>NaN</td>\n",
       "      <td>dance</td>\n",
       "      <td>Saint-Petersburg</td>\n",
       "      <td>21:20:49</td>\n",
       "      <td>Wednesday</td>\n",
       "    </tr>\n",
       "  </tbody>\n",
       "</table>\n",
       "</div>"
      ],
      "text/plain": [
       "     userID                        Track            artist   genre  \\\n",
       "0  FFB692EC            Kamigata To Boots  The Mass Missile    rock   \n",
       "1  55204538  Delayed Because of Accident  Andreas Rönnberg    rock   \n",
       "2    20EC38            Funiculì funiculà       Mario Lanza     pop   \n",
       "3  A3DD03C9        Dragons in the Sunset        Fire + Ice    folk   \n",
       "4  E2DC1FAE                  Soul People        Space Echo   dance   \n",
       "5  842029A1                    Преданная         IMPERVTOR  rusrap   \n",
       "6  4CB90AA5                         True      Roman Messer   dance   \n",
       "7  F03E1C1F             Feeling This Way   Polina Griffith   dance   \n",
       "8  8FA1D3BE     И вновь продолжается бой               NaN  ruspop   \n",
       "9  E772D5C0                    Pessimist               NaN   dance   \n",
       "\n",
       "             City        time        Day  \n",
       "0  Saint-Petersburg  20:28:33  Wednesday  \n",
       "1            Moscow  14:07:09     Friday  \n",
       "2  Saint-Petersburg  20:58:07  Wednesday  \n",
       "3  Saint-Petersburg  08:37:09     Monday  \n",
       "4            Moscow  08:34:34     Monday  \n",
       "5  Saint-Petersburg  13:09:41     Friday  \n",
       "6            Moscow  13:00:07  Wednesday  \n",
       "7            Moscow  20:47:49  Wednesday  \n",
       "8            Moscow  09:17:40     Friday  \n",
       "9  Saint-Petersburg  21:20:49  Wednesday  "
      ]
     },
     "execution_count": 3,
     "metadata": {},
     "output_type": "execute_result"
    }
   ],
   "source": [
    "# получение первых 10 строк таблицы df\n",
    "df.head(10)"
   ]
  },
  {
   "cell_type": "markdown",
   "metadata": {
    "id": "EO73Kwic_Zct"
   },
   "source": [
    "Получим общую информацию о данных"
   ]
  },
  {
   "cell_type": "code",
   "execution_count": 4,
   "metadata": {
    "id": "DSf2kIb-_Zct"
   },
   "outputs": [
    {
     "name": "stdout",
     "output_type": "stream",
     "text": [
      "<class 'pandas.core.frame.DataFrame'>\n",
      "RangeIndex: 65079 entries, 0 to 65078\n",
      "Data columns (total 7 columns):\n",
      "  userID    65079 non-null object\n",
      "Track       63848 non-null object\n",
      "artist      57876 non-null object\n",
      "genre       63881 non-null object\n",
      "  City      65079 non-null object\n",
      "time        65079 non-null object\n",
      "Day         65079 non-null object\n",
      "dtypes: object(7)\n",
      "memory usage: 3.5+ MB\n"
     ]
    }
   ],
   "source": [
    "# получение общей информации о данных df\n",
    "df.info()"
   ]
  },
  {
   "cell_type": "markdown",
   "metadata": {
    "id": "TaQ2Iwbr_Zct"
   },
   "source": [
    "В таблице семь столбцов:\n",
    "* `userID` — идентификатор пользователя;\n",
    "* `Track` — название трека;  \n",
    "* `artist` — имя исполнителя;\n",
    "* `genre` — название жанра;\n",
    "* `City` — город пользователя;\n",
    "* `time` — время начала прослушивания;\n",
    "* `Day` — день недели.\n",
    "\n",
    "Тип данных во всех столбцах — `object`.\n",
    "\n",
    "В названиях колонок видны три нарушения стиля:\n",
    "1. Строчные буквы сочетаются с прописными.\n",
    "2. Встречаются пробелы.\n",
    "3. Столбец с идентификаторами пользователся в не совсем корректном регистре.\n",
    "\n",
    "Количество значений в столбцах различается. Значит, в данных есть пропущенные значения."
   ]
  },
  {
   "cell_type": "markdown",
   "metadata": {
    "id": "MCB6-dXG_Zct"
   },
   "source": [
    "**Выводы**\n",
    "\n",
    "В каждой строке таблицы — данные о прослушанном треке. Часть колонок описывает саму композицию: название, исполнителя и жанр. Остальные данные рассказывают о пользователе: из какого он города, когда он слушал музыку. \n",
    "\n",
    "Предварительно можно утверждать, что, данных достаточно для проверки гипотез. Но встречаются пропуски в данных, а в названиях колонок — расхождения с хорошим стилем.\n",
    "\n",
    "Нужно устранить проблемы в данных, чтобы они не помешали проверке гипотез."
   ]
  },
  {
   "cell_type": "markdown",
   "metadata": {
    "id": "SjYF6Ub9_Zct"
   },
   "source": [
    "## Предобработка данных\n",
    "Исправим стиль в заголовках столбцов, исключии пропуски, проверим данные на дубликаты."
   ]
  },
  {
   "cell_type": "markdown",
   "metadata": {
    "id": "dIaKXr29_Zct"
   },
   "source": [
    "### Стиль заголовков\n",
    "Выведем на экран названия столбцов:"
   ]
  },
  {
   "cell_type": "code",
   "execution_count": 5,
   "metadata": {
    "id": "oKOTdF_Q_Zct"
   },
   "outputs": [
    {
     "data": {
      "text/plain": [
       "Index(['  userID', 'Track', 'artist', 'genre', '  City  ', 'time', 'Day'], dtype='object')"
      ]
     },
     "execution_count": 5,
     "metadata": {},
     "output_type": "execute_result"
    }
   ],
   "source": [
    "# перечень названий столбцов таблицы df\n",
    "df.columns"
   ]
  },
  {
   "cell_type": "markdown",
   "metadata": {
    "id": "zj5534cv_Zct"
   },
   "source": [
    "Приведем названия в соответствие с хорошим стилем:\n",
    "* несколько слов в названии запишите в «змеином_регистре»,\n",
    "* все символы сделайте строчными,\n",
    "* устраните пробелы.\n",
    "\n",
    "Для этого переименуем столбцы:\n",
    "* `'  userID'`;\n",
    "* `'Track'`;\n",
    "* `'  City  '`;\n",
    "* `'Day'`."
   ]
  },
  {
   "cell_type": "code",
   "execution_count": 6,
   "metadata": {
    "id": "ISlFqs5y_Zct"
   },
   "outputs": [],
   "source": [
    "# переименование столбцов\n",
    "df = df.rename(columns = {'  userID':'user_id',\n",
    "                          'Track':'track',\n",
    "                          '  City  ':'city',\n",
    "                          'Day':'day'\n",
    "                         }\n",
    "              )"
   ]
  },
  {
   "cell_type": "markdown",
   "metadata": {
    "id": "1dqbh00J_Zct"
   },
   "source": [
    "Проверьте результат. Для этого ещё раз выведите на экран названия столбцов:"
   ]
  },
  {
   "cell_type": "code",
   "execution_count": 7,
   "metadata": {
    "id": "d4NOAmTW_Zct"
   },
   "outputs": [
    {
     "data": {
      "text/plain": [
       "Index(['user_id', 'track', 'artist', 'genre', 'city', 'time', 'day'], dtype='object')"
      ]
     },
     "execution_count": 7,
     "metadata": {},
     "output_type": "execute_result"
    }
   ],
   "source": [
    "# проверка изменения названий\n",
    "df.columns"
   ]
  },
  {
   "cell_type": "markdown",
   "metadata": {
    "id": "5ISfbcfY_Zct"
   },
   "source": [
    "### Пропуски значений\n",
    "Посчитаем количество пропусков в данных"
   ]
  },
  {
   "cell_type": "code",
   "execution_count": 8,
   "metadata": {
    "id": "RskX29qr_Zct"
   },
   "outputs": [
    {
     "data": {
      "text/plain": [
       "user_id       0\n",
       "track      1231\n",
       "artist     7203\n",
       "genre      1198\n",
       "city          0\n",
       "time          0\n",
       "day           0\n",
       "dtype: int64"
      ]
     },
     "execution_count": 8,
     "metadata": {},
     "output_type": "execute_result"
    }
   ],
   "source": [
    "# подсчёт пропусков\n",
    "df.isna().sum()"
   ]
  },
  {
   "cell_type": "markdown",
   "metadata": {
    "id": "qubhgnlO_Zct"
   },
   "source": [
    "Не все пропущенные значения влияют на исследование. Так в `track` и `artist` пропуски не важны для дальнейшего исследования. Достаточно заменить их явными обозначениями.\n",
    "\n",
    "В то же время, пропуски в `genre` могут помешать сравнению музыкальных вкусов в Москве и Санкт-Петербурге. Придется:\n",
    "* заполнить и эти пропуски явными обозначениями,\n",
    "* оценить, насколько они повредят расчётам. "
   ]
  },
  {
   "cell_type": "markdown",
   "metadata": {
    "id": "fSv2laPA_Zct"
   },
   "source": [
    "Заменим пропущенные значения в столбцах `track`, `artist` и `genre` на строку `'unknown'`. Создадим список `columns_to_replace`, переберем его элементы циклом `for` и для каждого столбца выполним замену пропусков:"
   ]
  },
  {
   "cell_type": "code",
   "execution_count": 9,
   "metadata": {
    "id": "KplB5qWs_Zct"
   },
   "outputs": [],
   "source": [
    "# перебор названий столбцов в цикле и замена пропущенных значений на 'unknown'\n",
    "columns_to_replace = ['track', 'artist', 'genre']\n",
    "\n",
    "for column in columns_to_replace:\n",
    "    df[column] = df[column].fillna('unknown')"
   ]
  },
  {
   "cell_type": "markdown",
   "metadata": {
    "id": "Ilsm-MZo_Zct"
   },
   "source": [
    "Еще раз посчитаем пропущенные значения - убедимся в корректной отработке цикла."
   ]
  },
  {
   "cell_type": "code",
   "execution_count": 10,
   "metadata": {
    "id": "Tq4nYRX4_Zct"
   },
   "outputs": [
    {
     "data": {
      "text/plain": [
       "user_id    0\n",
       "track      0\n",
       "artist     0\n",
       "genre      0\n",
       "city       0\n",
       "time       0\n",
       "day        0\n",
       "dtype: int64"
      ]
     },
     "execution_count": 10,
     "metadata": {},
     "output_type": "execute_result"
    }
   ],
   "source": [
    "# подсчёт пропусков\n",
    "df.isna().sum()"
   ]
  },
  {
   "cell_type": "markdown",
   "metadata": {
    "id": "BWKRtBJ3_Zct"
   },
   "source": [
    "### Дубликаты\n",
    "Посчитаем явные дубликаты в данных."
   ]
  },
  {
   "cell_type": "code",
   "execution_count": 11,
   "metadata": {
    "id": "36eES_S0_Zct"
   },
   "outputs": [
    {
     "data": {
      "text/plain": [
       "3826"
      ]
     },
     "execution_count": 11,
     "metadata": {},
     "output_type": "execute_result"
    }
   ],
   "source": [
    "# подсчёт явных дубликатов\n",
    "df.duplicated().sum()"
   ]
  },
  {
   "cell_type": "markdown",
   "metadata": {
    "id": "Ot25h6XR_Zct"
   },
   "source": [
    "Таких дубликатов в данных 3826. Их стоит удалить, а также обновить индексы в таблице."
   ]
  },
  {
   "cell_type": "code",
   "execution_count": 12,
   "metadata": {
    "id": "exFHq6tt_Zct"
   },
   "outputs": [],
   "source": [
    "# удаление явных дубликатов (с удалением старых индексов и формированием новых)\n",
    "df = df.drop_duplicates().reset_index(drop=True)"
   ]
  },
  {
   "cell_type": "markdown",
   "metadata": {
    "id": "Im2YwBEG_Zct"
   },
   "source": [
    "Убедимся в устранении явных дубликатов."
   ]
  },
  {
   "cell_type": "code",
   "execution_count": 13,
   "metadata": {
    "id": "-8PuNWQ0_Zct"
   },
   "outputs": [
    {
     "data": {
      "text/plain": [
       "0"
      ]
     },
     "execution_count": 13,
     "metadata": {},
     "output_type": "execute_result"
    }
   ],
   "source": [
    "# проверка на отсутствие дубликатов\n",
    "df.duplicated().sum()"
   ]
  },
  {
   "cell_type": "markdown",
   "metadata": {
    "id": "QlFBsxAr_Zct"
   },
   "source": [
    "Теперь посмотрим колонку `genre` на наличие неявных дубликатов. Название одного и того же жанра может быть записано по-разному - в будущем возможна некорректная группировка данных и искажение резултатов исследования."
   ]
  },
  {
   "cell_type": "markdown",
   "metadata": {
    "id": "eSjWwsOh_Zct"
   },
   "source": [
    "Выведем на экран список уникальных названий жанров, отсортированный в алфавитном порядке. Для этого посмотрим уникальные значения колонки `genre`, отсортированные в алфавитном порядке."
   ]
  },
  {
   "cell_type": "code",
   "execution_count": 14,
   "metadata": {
    "id": "JIUcqzZN_Zct"
   },
   "outputs": [
    {
     "data": {
      "text/plain": [
       "array(['acid', 'acoustic', 'action', 'adult', 'africa', 'afrikaans',\n",
       "       'alternative', 'alternativepunk', 'ambient', 'americana',\n",
       "       'animated', 'anime', 'arabesk', 'arabic', 'arena',\n",
       "       'argentinetango', 'art', 'audiobook', 'author', 'avantgarde',\n",
       "       'axé', 'baile', 'balkan', 'beats', 'bigroom', 'black', 'bluegrass',\n",
       "       'blues', 'bollywood', 'bossa', 'brazilian', 'breakbeat', 'breaks',\n",
       "       'broadway', 'cantautori', 'cantopop', 'canzone', 'caribbean',\n",
       "       'caucasian', 'celtic', 'chamber', 'chanson', 'children', 'chill',\n",
       "       'chinese', 'choral', 'christian', 'christmas', 'classical',\n",
       "       'classicmetal', 'club', 'colombian', 'comedy', 'conjazz',\n",
       "       'contemporary', 'country', 'cuban', 'dance', 'dancehall',\n",
       "       'dancepop', 'dark', 'death', 'deep', 'deutschrock', 'deutschspr',\n",
       "       'dirty', 'disco', 'dnb', 'documentary', 'downbeat', 'downtempo',\n",
       "       'drum', 'dub', 'dubstep', 'eastern', 'easy', 'electronic',\n",
       "       'electropop', 'emo', 'entehno', 'epicmetal', 'estrada', 'ethnic',\n",
       "       'eurofolk', 'european', 'experimental', 'extrememetal', 'fado',\n",
       "       'fairytail', 'film', 'fitness', 'flamenco', 'folk', 'folklore',\n",
       "       'folkmetal', 'folkrock', 'folktronica', 'forró', 'frankreich',\n",
       "       'französisch', 'french', 'funk', 'future', 'gangsta', 'garage',\n",
       "       'german', 'ghazal', 'gitarre', 'glitch', 'gospel', 'gothic',\n",
       "       'grime', 'grunge', 'gypsy', 'handsup', \"hard'n'heavy\", 'hardcore',\n",
       "       'hardstyle', 'hardtechno', 'hip', 'hip-hop', 'hiphop',\n",
       "       'historisch', 'holiday', 'hop', 'horror', 'house', 'hymn', 'idm',\n",
       "       'independent', 'indian', 'indie', 'indipop', 'industrial',\n",
       "       'inspirational', 'instrumental', 'international', 'irish', 'jam',\n",
       "       'japanese', 'jazz', 'jewish', 'jpop', 'jungle', 'k-pop',\n",
       "       'karadeniz', 'karaoke', 'kayokyoku', 'korean', 'laiko', 'latin',\n",
       "       'latino', 'leftfield', 'local', 'lounge', 'loungeelectronic',\n",
       "       'lovers', 'malaysian', 'mandopop', 'marschmusik', 'meditative',\n",
       "       'mediterranean', 'melodic', 'metal', 'metalcore', 'mexican',\n",
       "       'middle', 'minimal', 'miscellaneous', 'modern', 'mood', 'mpb',\n",
       "       'muslim', 'native', 'neoklassik', 'neue', 'new', 'newage',\n",
       "       'newwave', 'nu', 'nujazz', 'numetal', 'oceania', 'old', 'opera',\n",
       "       'orchestral', 'other', 'piano', 'podcasts', 'pop', 'popdance',\n",
       "       'popelectronic', 'popeurodance', 'poprussian', 'post',\n",
       "       'posthardcore', 'postrock', 'power', 'progmetal', 'progressive',\n",
       "       'psychedelic', 'punjabi', 'punk', 'quebecois', 'ragga', 'ram',\n",
       "       'rancheras', 'rap', 'rave', 'reggae', 'reggaeton', 'regional',\n",
       "       'relax', 'religious', 'retro', 'rhythm', 'rnb', 'rnr', 'rock',\n",
       "       'rockabilly', 'rockalternative', 'rockindie', 'rockother',\n",
       "       'romance', 'roots', 'ruspop', 'rusrap', 'rusrock', 'russian',\n",
       "       'salsa', 'samba', 'scenic', 'schlager', 'self', 'sertanejo',\n",
       "       'shanson', 'shoegazing', 'showtunes', 'singer', 'ska', 'skarock',\n",
       "       'slow', 'smooth', 'soft', 'soul', 'soulful', 'sound', 'soundtrack',\n",
       "       'southern', 'specialty', 'speech', 'spiritual', 'sport',\n",
       "       'stonerrock', 'surf', 'swing', 'synthpop', 'synthrock',\n",
       "       'sängerportrait', 'tango', 'tanzorchester', 'taraftar', 'tatar',\n",
       "       'tech', 'techno', 'teen', 'thrash', 'top', 'traditional',\n",
       "       'tradjazz', 'trance', 'tribal', 'trip', 'triphop', 'tropical',\n",
       "       'türk', 'türkçe', 'ukrrock', 'unknown', 'urban', 'uzbek',\n",
       "       'variété', 'vi', 'videogame', 'vocal', 'western', 'world',\n",
       "       'worldbeat', 'ïîï', 'электроника'], dtype=object)"
      ]
     },
     "execution_count": 14,
     "metadata": {},
     "output_type": "execute_result"
    }
   ],
   "source": [
    "# Просмотр уникальных названий жанров\n",
    "df['genre'].sort_values().unique()"
   ]
  },
  {
   "cell_type": "markdown",
   "metadata": {
    "id": "qej-Qmuo_Zct"
   },
   "source": [
    "Видим неявные дубликаты названия `hiphop`:\n",
    "* *hip*,\n",
    "* *hop*,\n",
    "* *hip-hop*.\n",
    "\n",
    "Также есть неявный дубликат `электроника` и `electronic`\n",
    "\n",
    "Создадим функцию `replace_wrong_genres()` с двумя параметрами: \n",
    "* `wrong_genres` — список дубликатов,\n",
    "* `correct_genre` — строка с правильным значением.\n",
    "\n",
    "Функция должна исправить колонку `genre` в таблице `df`: заменить каждое значение из списка `wrong_genres` на значение из `correct_genre`."
   ]
  },
  {
   "cell_type": "code",
   "execution_count": 15,
   "metadata": {
    "id": "ErNDkmns_Zct"
   },
   "outputs": [],
   "source": [
    "# Функция для замены неявных дубликатов\n",
    "def replace_wrong_genres(wrong_genres, correct_genre):\n",
    "    for wrong_genre in wrong_genres:\n",
    "        df['genre'] = df['genre'].replace(wrong_genre, correct_genre)"
   ]
  },
  {
   "cell_type": "markdown",
   "metadata": {
    "id": "aDoBJxbA_Zct"
   },
   "source": [
    "Вызовем `replace_wrong_genres()` и передадим ей аргументы: вместо `hip`, `hop` и `hip-hop` в таблице должно быть значение `hiphop`, а в случае `электроника` должно быть значение `electronic`."
   ]
  },
  {
   "cell_type": "code",
   "execution_count": 16,
   "metadata": {
    "id": "YN5i2hpmSo09"
   },
   "outputs": [],
   "source": [
    "# Устранение неявных дубликатов\n",
    "# В случае хип-хопа\n",
    "implicit_duplicates_hiphop = ['hip', 'hop', 'hip-hop']\n",
    "correct_genre_hiphop = 'hiphop'\n",
    "replace_wrong_genres(implicit_duplicates_hiphop, correct_genre_hiphop)\n",
    "\n",
    "# В случае электронной музыки\n",
    "implicit_duplicates_electro = ['электроника']\n",
    "correct_genre_electro = 'electronic'\n",
    "replace_wrong_genres(implicit_duplicates_electro, correct_genre_electro)"
   ]
  },
  {
   "cell_type": "markdown",
   "metadata": {
    "id": "zQKF16_RG15m"
   },
   "source": [
    "Проверим устранение неправильных названий:\n",
    "*   hip\n",
    "*   hop\n",
    "*   hip-hop\n",
    "\n",
    "А также:\n",
    "* электроника\n",
    "* electronic\n",
    "\n",
    "Еще раз выведем уникальные значения колонки `genre`, отсортированные по алфавиту:"
   ]
  },
  {
   "cell_type": "code",
   "execution_count": 17,
   "metadata": {
    "id": "wvixALnFG15m"
   },
   "outputs": [
    {
     "data": {
      "text/plain": [
       "array(['acid', 'acoustic', 'action', 'adult', 'africa', 'afrikaans',\n",
       "       'alternative', 'alternativepunk', 'ambient', 'americana',\n",
       "       'animated', 'anime', 'arabesk', 'arabic', 'arena',\n",
       "       'argentinetango', 'art', 'audiobook', 'author', 'avantgarde',\n",
       "       'axé', 'baile', 'balkan', 'beats', 'bigroom', 'black', 'bluegrass',\n",
       "       'blues', 'bollywood', 'bossa', 'brazilian', 'breakbeat', 'breaks',\n",
       "       'broadway', 'cantautori', 'cantopop', 'canzone', 'caribbean',\n",
       "       'caucasian', 'celtic', 'chamber', 'chanson', 'children', 'chill',\n",
       "       'chinese', 'choral', 'christian', 'christmas', 'classical',\n",
       "       'classicmetal', 'club', 'colombian', 'comedy', 'conjazz',\n",
       "       'contemporary', 'country', 'cuban', 'dance', 'dancehall',\n",
       "       'dancepop', 'dark', 'death', 'deep', 'deutschrock', 'deutschspr',\n",
       "       'dirty', 'disco', 'dnb', 'documentary', 'downbeat', 'downtempo',\n",
       "       'drum', 'dub', 'dubstep', 'eastern', 'easy', 'electronic',\n",
       "       'electropop', 'emo', 'entehno', 'epicmetal', 'estrada', 'ethnic',\n",
       "       'eurofolk', 'european', 'experimental', 'extrememetal', 'fado',\n",
       "       'fairytail', 'film', 'fitness', 'flamenco', 'folk', 'folklore',\n",
       "       'folkmetal', 'folkrock', 'folktronica', 'forró', 'frankreich',\n",
       "       'französisch', 'french', 'funk', 'future', 'gangsta', 'garage',\n",
       "       'german', 'ghazal', 'gitarre', 'glitch', 'gospel', 'gothic',\n",
       "       'grime', 'grunge', 'gypsy', 'handsup', \"hard'n'heavy\", 'hardcore',\n",
       "       'hardstyle', 'hardtechno', 'hiphop', 'historisch', 'holiday',\n",
       "       'horror', 'house', 'hymn', 'idm', 'independent', 'indian', 'indie',\n",
       "       'indipop', 'industrial', 'inspirational', 'instrumental',\n",
       "       'international', 'irish', 'jam', 'japanese', 'jazz', 'jewish',\n",
       "       'jpop', 'jungle', 'k-pop', 'karadeniz', 'karaoke', 'kayokyoku',\n",
       "       'korean', 'laiko', 'latin', 'latino', 'leftfield', 'local',\n",
       "       'lounge', 'loungeelectronic', 'lovers', 'malaysian', 'mandopop',\n",
       "       'marschmusik', 'meditative', 'mediterranean', 'melodic', 'metal',\n",
       "       'metalcore', 'mexican', 'middle', 'minimal', 'miscellaneous',\n",
       "       'modern', 'mood', 'mpb', 'muslim', 'native', 'neoklassik', 'neue',\n",
       "       'new', 'newage', 'newwave', 'nu', 'nujazz', 'numetal', 'oceania',\n",
       "       'old', 'opera', 'orchestral', 'other', 'piano', 'podcasts', 'pop',\n",
       "       'popdance', 'popelectronic', 'popeurodance', 'poprussian', 'post',\n",
       "       'posthardcore', 'postrock', 'power', 'progmetal', 'progressive',\n",
       "       'psychedelic', 'punjabi', 'punk', 'quebecois', 'ragga', 'ram',\n",
       "       'rancheras', 'rap', 'rave', 'reggae', 'reggaeton', 'regional',\n",
       "       'relax', 'religious', 'retro', 'rhythm', 'rnb', 'rnr', 'rock',\n",
       "       'rockabilly', 'rockalternative', 'rockindie', 'rockother',\n",
       "       'romance', 'roots', 'ruspop', 'rusrap', 'rusrock', 'russian',\n",
       "       'salsa', 'samba', 'scenic', 'schlager', 'self', 'sertanejo',\n",
       "       'shanson', 'shoegazing', 'showtunes', 'singer', 'ska', 'skarock',\n",
       "       'slow', 'smooth', 'soft', 'soul', 'soulful', 'sound', 'soundtrack',\n",
       "       'southern', 'specialty', 'speech', 'spiritual', 'sport',\n",
       "       'stonerrock', 'surf', 'swing', 'synthpop', 'synthrock',\n",
       "       'sängerportrait', 'tango', 'tanzorchester', 'taraftar', 'tatar',\n",
       "       'tech', 'techno', 'teen', 'thrash', 'top', 'traditional',\n",
       "       'tradjazz', 'trance', 'tribal', 'trip', 'triphop', 'tropical',\n",
       "       'türk', 'türkçe', 'ukrrock', 'unknown', 'urban', 'uzbek',\n",
       "       'variété', 'vi', 'videogame', 'vocal', 'western', 'world',\n",
       "       'worldbeat', 'ïîï'], dtype=object)"
      ]
     },
     "execution_count": 17,
     "metadata": {},
     "output_type": "execute_result"
    }
   ],
   "source": [
    "# Проверка на неявные дубликаты\n",
    "df['genre'].sort_values().unique()"
   ]
  },
  {
   "cell_type": "markdown",
   "metadata": {
    "id": "jz6a9-7HQUDd"
   },
   "source": [
    "**Выводы**\n",
    "\n",
    "Предобработка обнаружила три проблемы в данных:\n",
    "- нарушения в стиле заголовков,\n",
    "- пропущенные значения,\n",
    "- дубликаты — явные и неявные.\n",
    "\n",
    "Заголовки исправлены, пропуски заменены на `unknown`, явные и неявные дубликаты устранены.\n",
    "\n",
    "Переходим к проверке гипотез."
   ]
  },
  {
   "cell_type": "markdown",
   "metadata": {
    "id": "WttZHXH0SqKk"
   },
   "source": [
    "## Проверка гипотез"
   ]
  },
  {
   "cell_type": "markdown",
   "metadata": {
    "id": "Im936VVi_Zcu"
   },
   "source": [
    "### Сравнение поведения пользователей двух столиц"
   ]
  },
  {
   "cell_type": "markdown",
   "metadata": {
    "id": "nwt_MuaL_Zcu"
   },
   "source": [
    "Первая гипотеза - пользователи по-разному слушают музыку в Москве и Санкт-Петербурге. Проверим это предположение по данным о трёх днях недели — понедельнике, среде и пятнице. Для этого:\n",
    "\n",
    "* Разделим пользователей Москвы и Санкт-Петербурга\n",
    "* Сравним, сколько треков послушала каждая группа пользователей в понедельник, среду и пятницу."
   ]
  },
  {
   "cell_type": "markdown",
   "metadata": {},
   "source": [
    "Подсчитаем общее количество прослушиваний в каждом городе."
   ]
  },
  {
   "cell_type": "code",
   "execution_count": 18,
   "metadata": {
    "id": "0_Qs96oh_Zcu"
   },
   "outputs": [
    {
     "data": {
      "text/plain": [
       "city\n",
       "Moscow              42741\n",
       "Saint-Petersburg    18512\n",
       "Name: time, dtype: int64"
      ]
     },
     "execution_count": 18,
     "metadata": {},
     "output_type": "execute_result"
    }
   ],
   "source": [
    "# Подсчёт прослушиваний в каждом городе\n",
    "df.groupby('city')['time'].count()"
   ]
  },
  {
   "cell_type": "markdown",
   "metadata": {
    "id": "dzli3w8o_Zcu"
   },
   "source": [
    "В Москве прослушиваний больше, чем в Петербурге. Из этого не следует, что московские пользователи чаще слушают музыку. Просто самих пользователей в Москве больше.\n",
    "\n",
    "Сгруппируем данные по дню недели и подсчитаем прослушивания в понедельник, среду и пятницу. Помним, что в исходниках есть данные о прослушиваниях только за эти дни недели.\n"
   ]
  },
  {
   "cell_type": "code",
   "execution_count": 19,
   "metadata": {
    "id": "uZMKjiJz_Zcu"
   },
   "outputs": [
    {
     "data": {
      "text/plain": [
       "day\n",
       "Friday       21840\n",
       "Monday       21354\n",
       "Wednesday    18059\n",
       "Name: city, dtype: int64"
      ]
     },
     "execution_count": 19,
     "metadata": {},
     "output_type": "execute_result"
    }
   ],
   "source": [
    "# Подсчёт прослушиваний в каждый из трёх дней\n",
    "df.groupby('day')['city'].count()"
   ]
  },
  {
   "cell_type": "markdown",
   "metadata": {
    "id": "cC2tNrlL_Zcu"
   },
   "source": [
    "В среднем пользователи из двух городов менее активны по средам. Но картина может измениться, если рассмотреть каждый город в отдельности."
   ]
  },
  {
   "cell_type": "markdown",
   "metadata": {
    "id": "POzs8bGa_Zcu"
   },
   "source": [
    "Создадим функцию `number_tracks()`, которая посчитает прослушивания для заданного дня и города. Ей понадобятся два параметра:\n",
    "* день недели,\n",
    "* название города.\n",
    "\n",
    "В функции сохраним в переменную строки исходной таблицы, у которых значение:\n",
    "* в колонке `day` равно параметру `day`,\n",
    "* в колонке `city` равно параметру `city`.\n",
    "\n",
    "Применим последовательную фильтрацию с логической индексацией. Затем посчитаем значения в столбце `user_id` получившейся таблицы. Результат сохраним в новую переменную, потом вернем ее из функции."
   ]
  },
  {
   "cell_type": "code",
   "execution_count": 20,
   "metadata": {
    "id": "Nz3GdQB1_Zcu"
   },
   "outputs": [],
   "source": [
    "# создание функции number_tracks()\n",
    "# с двумя параметрами: day, city.\n",
    "# С помощью последовательной фильтрации с логической индексацией она \n",
    "# сначала получит из исходной таблицы строки с нужным днём,\n",
    "# затем из результата отфильтрует строки с нужным городом,\n",
    "# посчитает количество значений в колонке user_id. \n",
    "# Это количество функция вернёт в качестве результата\n",
    "\n",
    "def number_tracks(day, city):\n",
    "    track_list = df[(df['day'] == day)\n",
    "                  & (df['city'] == city)]\n",
    "    track_list_count = track_list['user_id'].count()\n",
    "    return track_list_count"
   ]
  },
  {
   "cell_type": "markdown",
   "metadata": {
    "id": "ytf7xFrFJQ2r"
   },
   "source": [
    "Вызовем `number_tracks()` шесть раз: 2 города, 3 дня недели."
   ]
  },
  {
   "cell_type": "code",
   "execution_count": 21,
   "metadata": {
    "id": "rJcRATNQ_Zcu"
   },
   "outputs": [
    {
     "data": {
      "text/plain": [
       "15740"
      ]
     },
     "execution_count": 21,
     "metadata": {},
     "output_type": "execute_result"
    }
   ],
   "source": [
    "# количество прослушиваний в Москве по понедельникам\n",
    "number_tracks('Monday', 'Moscow')"
   ]
  },
  {
   "cell_type": "code",
   "execution_count": 22,
   "metadata": {
    "id": "hq_ncZ5T_Zcu"
   },
   "outputs": [
    {
     "data": {
      "text/plain": [
       "5614"
      ]
     },
     "execution_count": 22,
     "metadata": {},
     "output_type": "execute_result"
    }
   ],
   "source": [
    "# количество прослушиваний в Санкт-Петербурге по понедельникам\n",
    "number_tracks('Monday', 'Saint-Petersburg')"
   ]
  },
  {
   "cell_type": "code",
   "execution_count": 23,
   "metadata": {
    "id": "_NTy2VPU_Zcu"
   },
   "outputs": [
    {
     "data": {
      "text/plain": [
       "11056"
      ]
     },
     "execution_count": 23,
     "metadata": {},
     "output_type": "execute_result"
    }
   ],
   "source": [
    "# количество прослушиваний в Москве по средам\n",
    "number_tracks('Wednesday', 'Moscow')"
   ]
  },
  {
   "cell_type": "code",
   "execution_count": 24,
   "metadata": {
    "id": "j2y3TAwo_Zcu"
   },
   "outputs": [
    {
     "data": {
      "text/plain": [
       "7003"
      ]
     },
     "execution_count": 24,
     "metadata": {},
     "output_type": "execute_result"
    }
   ],
   "source": [
    "# количество прослушиваний в Санкт-Петербурге по средам\n",
    "number_tracks('Wednesday', 'Saint-Petersburg')"
   ]
  },
  {
   "cell_type": "code",
   "execution_count": 25,
   "metadata": {
    "id": "vYDw5u_K_Zcu"
   },
   "outputs": [
    {
     "data": {
      "text/plain": [
       "15945"
      ]
     },
     "execution_count": 25,
     "metadata": {},
     "output_type": "execute_result"
    }
   ],
   "source": [
    "# количество прослушиваний в Москве по пятницам\n",
    "number_tracks('Friday', 'Moscow')"
   ]
  },
  {
   "cell_type": "code",
   "execution_count": 26,
   "metadata": {
    "id": "8_yzFtW3_Zcu"
   },
   "outputs": [
    {
     "data": {
      "text/plain": [
       "5895"
      ]
     },
     "execution_count": 26,
     "metadata": {},
     "output_type": "execute_result"
    }
   ],
   "source": [
    "# количество прослушиваний в Санкт-Петербурге по пятницам\n",
    "number_tracks('Friday', 'Saint-Petersburg')"
   ]
  },
  {
   "cell_type": "markdown",
   "metadata": {
    "id": "7QXffbO-_Zcu"
   },
   "source": [
    "Для дальнейшего анализа объединим вывод результатов в одну таблицу:\n",
    "* названия колонок — `['city', 'monday', 'wednesday', 'friday']`;\n",
    "* данные — результаты вызовов функции `number_tracks`."
   ]
  },
  {
   "cell_type": "code",
   "execution_count": 27,
   "metadata": {
    "id": "APAcLpOr_Zcu"
   },
   "outputs": [
    {
     "data": {
      "text/html": [
       "<div>\n",
       "<style scoped>\n",
       "    .dataframe tbody tr th:only-of-type {\n",
       "        vertical-align: middle;\n",
       "    }\n",
       "\n",
       "    .dataframe tbody tr th {\n",
       "        vertical-align: top;\n",
       "    }\n",
       "\n",
       "    .dataframe thead th {\n",
       "        text-align: right;\n",
       "    }\n",
       "</style>\n",
       "<table border=\"1\" class=\"dataframe\">\n",
       "  <thead>\n",
       "    <tr style=\"text-align: right;\">\n",
       "      <th></th>\n",
       "      <th>city</th>\n",
       "      <th>monday</th>\n",
       "      <th>wednesday</th>\n",
       "      <th>friday</th>\n",
       "    </tr>\n",
       "  </thead>\n",
       "  <tbody>\n",
       "    <tr>\n",
       "      <td>0</td>\n",
       "      <td>Moscow</td>\n",
       "      <td>15740</td>\n",
       "      <td>11056</td>\n",
       "      <td>15945</td>\n",
       "    </tr>\n",
       "    <tr>\n",
       "      <td>1</td>\n",
       "      <td>Saint-Petersburg</td>\n",
       "      <td>5614</td>\n",
       "      <td>7003</td>\n",
       "      <td>5895</td>\n",
       "    </tr>\n",
       "  </tbody>\n",
       "</table>\n",
       "</div>"
      ],
      "text/plain": [
       "               city  monday  wednesday  friday\n",
       "0            Moscow   15740      11056   15945\n",
       "1  Saint-Petersburg    5614       7003    5895"
      ]
     },
     "execution_count": 27,
     "metadata": {},
     "output_type": "execute_result"
    }
   ],
   "source": [
    "# Таблица с результатами\n",
    "columns = ['city', 'monday', 'wednesday', 'friday']\n",
    "listened_per_day = [['Moscow', 15740, 11056, 15945], \n",
    "                    ['Saint-Petersburg', 5614, 7003, 5895]]\n",
    "\n",
    "pd.DataFrame(data= listened_per_day, columns= columns)"
   ]
  },
  {
   "cell_type": "markdown",
   "metadata": {
    "id": "-EgPIHYu_Zcu"
   },
   "source": [
    "**Выводы**\n",
    "\n",
    "Данные показывают разницу поведения пользователей:\n",
    "\n",
    "- В Москве пик прослушиваний приходится на понедельник и пятницу, а в среду заметен спад.\n",
    "- В Петербурге, наоборот, больше слушают музыку по средам. Активность в понедельник и пятницу здесь почти в равной мере уступает среде.\n",
    "\n",
    "Данные говорят в пользу первой гипотезы - пользвоатели в Москве и Санкт-Петербурге слушают музыку по-разному."
   ]
  },
  {
   "cell_type": "markdown",
   "metadata": {
    "id": "atZAxtq4_Zcu"
   },
   "source": [
    "### Музыка в начале и в конце недели"
   ]
  },
  {
   "cell_type": "markdown",
   "metadata": {
    "id": "eXrQqXFH_Zcu"
   },
   "source": [
    "Вторая гипотеза говорит о том, что утром в понедельник в Москве преобладают одни жанры, а в Петербурге — другие. Так же и вечером пятницы преобладают разные жанры — в зависимости от города."
   ]
  },
  {
   "cell_type": "markdown",
   "metadata": {
    "id": "S8UcW6Hw_Zcu"
   },
   "source": [
    "Сохраним новые таблицы, отдельно по каждому городу:\n",
    "* по Москве — в `moscow_general`;\n",
    "* по Санкт-Петербургу — в `spb_general`."
   ]
  },
  {
   "cell_type": "code",
   "execution_count": 28,
   "metadata": {
    "id": "qeaFfM_P_Zcu"
   },
   "outputs": [],
   "source": [
    "# получение таблицы moscow_general из тех строк таблицы df, \n",
    "# для которых значение в столбце 'city' равно 'Moscow'\n",
    "moscow_general = df[df['city'] == 'Moscow']"
   ]
  },
  {
   "cell_type": "code",
   "execution_count": 29,
   "metadata": {
    "id": "ORaVRKto_Zcu"
   },
   "outputs": [],
   "source": [
    "# получение таблицы spb_general из тех строк таблицы df,\n",
    "# для которых значение в столбце 'city' равно 'Saint-Petersburg'\n",
    "spb_general = df[df['city'] == 'Saint-Petersburg']"
   ]
  },
  {
   "cell_type": "markdown",
   "metadata": {
    "id": "MEJV-CX2_Zcu"
   },
   "source": [
    "Создадим функцию `genre_weekday()` с 4-мя параметрами:\n",
    "* таблица (датафрейм) с данными,\n",
    "* день недели,\n",
    "* начальная временная метка в формате 'hh:mm', \n",
    "* последняя временная метка в формате 'hh:mm'.\n",
    "\n",
    "Функция должна вернуть информацию о топ-10 жанров тех треков, которые прослушивали в указанный день, в промежутке между двумя отметками времени."
   ]
  },
  {
   "cell_type": "code",
   "execution_count": 30,
   "metadata": {
    "id": "laJT9BYl_Zcu"
   },
   "outputs": [],
   "source": [
    "# Объявление функции genre_weekday() с параметрами table, day, time1, time2,\n",
    "# которая возвращает информацию о самых популярных жанрах в указанный день в\n",
    "# заданное время:\n",
    "\n",
    "def genre_weekday(table, day, time1, time2):\n",
    "    genre_df = table[(table['day'] == day)\n",
    "                   & (table['time'] > time1)\n",
    "                   & (table['time'] < time2)]\n",
    "    genre_df_count = genre_df.groupby('genre')['time'].count()\n",
    "    genre_df_sorted = genre_df_count.sort_values(ascending=False)\n",
    "    return genre_df_sorted.head(10)"
   ]
  },
  {
   "cell_type": "markdown",
   "metadata": {
    "id": "la2s2_PF_Zcu"
   },
   "source": [
    "Cравним результаты функции `genre_weekday()` для Москвы и Санкт-Петербурга в понедельник утром (с 7:00 до 11:00) и в пятницу вечером (с 17:00 до 23:00)."
   ]
  },
  {
   "cell_type": "code",
   "execution_count": 31,
   "metadata": {
    "id": "yz7itPUQ_Zcu"
   },
   "outputs": [
    {
     "data": {
      "text/plain": [
       "genre\n",
       "pop            781\n",
       "dance          549\n",
       "electronic     480\n",
       "rock           474\n",
       "hiphop         286\n",
       "ruspop         186\n",
       "world          181\n",
       "rusrap         175\n",
       "alternative    164\n",
       "unknown        161\n",
       "Name: time, dtype: int64"
      ]
     },
     "execution_count": 31,
     "metadata": {},
     "output_type": "execute_result"
    }
   ],
   "source": [
    "# вызов функции для утра понедельника в Москве (таблица moscow_general)\n",
    "genre_weekday(moscow_general, 'Monday', '07:00', '11:00')"
   ]
  },
  {
   "cell_type": "code",
   "execution_count": 32,
   "metadata": {
    "id": "kwUcHPdy_Zcu"
   },
   "outputs": [
    {
     "data": {
      "text/plain": [
       "genre\n",
       "pop            218\n",
       "dance          182\n",
       "rock           162\n",
       "electronic     147\n",
       "hiphop          80\n",
       "ruspop          64\n",
       "alternative     58\n",
       "rusrap          55\n",
       "jazz            44\n",
       "classical       40\n",
       "Name: time, dtype: int64"
      ]
     },
     "execution_count": 32,
     "metadata": {},
     "output_type": "execute_result"
    }
   ],
   "source": [
    "# вызов функции для утра понедельника в Петербурге (таблица spb_general)\n",
    "genre_weekday(spb_general, 'Monday', '07:00', '11:00')"
   ]
  },
  {
   "cell_type": "code",
   "execution_count": 33,
   "metadata": {
    "id": "EzXVRE1o_Zcu"
   },
   "outputs": [
    {
     "data": {
      "text/plain": [
       "genre\n",
       "pop            713\n",
       "rock           517\n",
       "dance          495\n",
       "electronic     482\n",
       "hiphop         273\n",
       "world          208\n",
       "ruspop         170\n",
       "alternative    163\n",
       "classical      163\n",
       "rusrap         142\n",
       "Name: time, dtype: int64"
      ]
     },
     "execution_count": 33,
     "metadata": {},
     "output_type": "execute_result"
    }
   ],
   "source": [
    "# вызов функции для вечера пятницы в Москве\n",
    "genre_weekday(moscow_general, 'Friday', '17:00', '23:00')"
   ]
  },
  {
   "cell_type": "code",
   "execution_count": 34,
   "metadata": {
    "id": "JZaEKu5v_Zcu"
   },
   "outputs": [
    {
     "data": {
      "text/plain": [
       "genre\n",
       "pop            256\n",
       "rock           216\n",
       "electronic     216\n",
       "dance          210\n",
       "hiphop          97\n",
       "alternative     63\n",
       "jazz            61\n",
       "classical       60\n",
       "rusrap          59\n",
       "world           54\n",
       "Name: time, dtype: int64"
      ]
     },
     "execution_count": 34,
     "metadata": {},
     "output_type": "execute_result"
    }
   ],
   "source": [
    "# вызов функции для вечера пятницы в Петербурге\n",
    "genre_weekday(spb_general, 'Friday', '17:00', '23:00')"
   ]
  },
  {
   "cell_type": "markdown",
   "metadata": {
    "id": "wrCe4MNX_Zcu"
   },
   "source": [
    "**Выводы**\n",
    "\n",
    "Если сравнить топ-10 жанров в понедельник утром, можно сделать такие выводы:\n",
    "\n",
    "1. В Москве и Петербурге слушают похожую музыку. Единственное отличие — в московский рейтинг вошёл жанр “world”, а в петербургский — джаз и классика.\n",
    "\n",
    "2. В Москве пропущенных значений оказалось так много, что значение `'unknown'` заняло десятое место среди самых популярных жанров. Значит, пропущенные значения занимают существенную долю в данных и угрожают достоверности исследования.\n",
    "\n",
    "Вечер пятницы не меняет эту картину. Некоторые жанры поднимаются немного выше, другие спускаются, но в целом топ-10 остаётся тем же самым.\n",
    "\n",
    "Вторая гипотеза подтвердилась лишь частично:\n",
    "* Пользователи слушают похожую музыку в начале недели и в конце.\n",
    "* Разница между Москвой и Петербургом не слишком выражена. В Москве чаще слушают русскую популярную музыку, в Петербурге — джаз.\n",
    "\n",
    "Однако пропуски в данных ставят под сомнение этот результат. В Москве их так много, что рейтинг топ-10 мог бы выглядеть иначе, если бы не утерянные  данные о жанрах."
   ]
  },
  {
   "cell_type": "markdown",
   "metadata": {
    "id": "JolODAqr_Zcu"
   },
   "source": [
    "### Жанровые предпочтения в Москве и Петербурге\n",
    "\n",
    "Третья гипотеза: Петербург — столица рэпа, музыку этого жанра там слушают чаще, чем в Москве.  А Москва — город контрастов, в котором, тем не менее, преобладает поп-музыка."
   ]
  },
  {
   "cell_type": "markdown",
   "metadata": {
    "id": "DlegSvaT_Zcu"
   },
   "source": [
    "Сгруппируем ранее созданную таблицу `moscow_general` по жанру и посчитаем прослушивания треков каждого жанра. Затем отсортируем результат в порядке убывания и сохраним его в таблице `moscow_genres`."
   ]
  },
  {
   "cell_type": "code",
   "execution_count": 35,
   "metadata": {
    "id": "r19lIPke_Zcu"
   },
   "outputs": [],
   "source": [
    "# получение таблицы moscow_genres\n",
    "moscow_genres = moscow_general.groupby('genre')['genre'].count().sort_values(ascending=False)"
   ]
  },
  {
   "cell_type": "code",
   "execution_count": 36,
   "metadata": {
    "id": "WhCSooF8_Zcv"
   },
   "outputs": [
    {
     "data": {
      "text/plain": [
       "genre\n",
       "pop            5892\n",
       "dance          4435\n",
       "rock           3965\n",
       "electronic     3786\n",
       "hiphop         2096\n",
       "classical      1616\n",
       "world          1432\n",
       "alternative    1379\n",
       "ruspop         1372\n",
       "rusrap         1161\n",
       "Name: genre, dtype: int64"
      ]
     },
     "execution_count": 36,
     "metadata": {},
     "output_type": "execute_result"
    }
   ],
   "source": [
    "# просмотр первых 10 строк moscow_genres\n",
    "moscow_genres.head(10)"
   ]
  },
  {
   "cell_type": "markdown",
   "metadata": {
    "id": "cnPG2vnN_Zcv"
   },
   "source": [
    "Повторим то же самое в случае Санкт-Петербурга:"
   ]
  },
  {
   "cell_type": "code",
   "execution_count": 37,
   "metadata": {
    "id": "gluLIpE7_Zcv"
   },
   "outputs": [],
   "source": [
    "# получение таблицы spb_genres\n",
    "spb_genres = spb_general.groupby('genre')['genre'].count().sort_values(ascending=False)"
   ]
  },
  {
   "cell_type": "code",
   "execution_count": 38,
   "metadata": {
    "id": "uaGJHjVU_Zcv"
   },
   "outputs": [
    {
     "data": {
      "text/plain": [
       "genre\n",
       "pop            2431\n",
       "dance          1932\n",
       "rock           1879\n",
       "electronic     1737\n",
       "hiphop          960\n",
       "alternative     649\n",
       "classical       646\n",
       "rusrap          564\n",
       "ruspop          538\n",
       "world           515\n",
       "Name: genre, dtype: int64"
      ]
     },
     "execution_count": 38,
     "metadata": {},
     "output_type": "execute_result"
    }
   ],
   "source": [
    "# просмотр первых 10 строк spb_genres\n",
    "spb_genres.head(10)"
   ]
  },
  {
   "cell_type": "markdown",
   "metadata": {
    "id": "RY51YJYu_Zcv"
   },
   "source": [
    "**Выводы**"
   ]
  },
  {
   "cell_type": "markdown",
   "metadata": {
    "id": "nVhnJEm__Zcv"
   },
   "source": [
    "Третья гипотеза частично подтвердилась:\n",
    "* Поп-музыка — самый популярный жанр в Москве, как и предполагала гипотеза. Более того, в топ-10 жанров встречается близкий жанр — русская популярная музыка.\n",
    "* Рэп одинаково популярен в Москве и Петербурге. \n"
   ]
  },
  {
   "cell_type": "markdown",
   "metadata": {
    "id": "ykKQ0N65_Zcv"
   },
   "source": [
    "## Итоги исследования"
   ]
  },
  {
   "cell_type": "markdown",
   "metadata": {
    "id": "tjUwbHb3_Zcv"
   },
   "source": [
    "Проверено три гипотезы и сформулированы выводы:\n",
    "\n",
    "1. День недели по-разному влияет на активность пользователей в Москве и Петербурге. \n",
    "\n",
    "Первая гипотеза полностью подтвердилась.\n",
    "\n",
    "2. Музыкальные предпочтения в 2-х городах не сильно меняются в течение недели. Небольшие различия заметны в начале недели, по понедельникам:\n",
    "* в Москве слушают музыку жанра “world”,\n",
    "* в Петербурге — джаз и классику.\n",
    "\n",
    "Вторая гипотеза подтвердилась частично. Этот результат мог оказаться иным, если бы не пропуски в данных.\n",
    "\n",
    "3. Во вкусах пользователей Москвы и Петербурга больше общего чем различий. Предпочтения жанров в Петербурге напоминают московские.\n",
    "\n",
    "Третья гипотеза не подтвердилась. Если различия в предпочтениях и существуют, на основной массе пользователей они незаметны."
   ]
  }
 ],
 "metadata": {
  "ExecuteTimeLog": [
   {
    "duration": 834,
    "start_time": "2021-12-05T12:36:11.062Z"
   },
   {
    "duration": 181,
    "start_time": "2021-12-05T12:36:14.271Z"
   },
   {
    "duration": 26,
    "start_time": "2021-12-05T12:36:22.652Z"
   },
   {
    "duration": 31,
    "start_time": "2021-12-05T12:36:46.922Z"
   },
   {
    "duration": 6,
    "start_time": "2021-12-05T12:39:51.606Z"
   },
   {
    "duration": 58,
    "start_time": "2021-12-05T12:44:06.027Z"
   },
   {
    "duration": 5,
    "start_time": "2021-12-05T12:45:14.857Z"
   },
   {
    "duration": 6,
    "start_time": "2021-12-05T12:45:29.683Z"
   },
   {
    "duration": 24,
    "start_time": "2021-12-05T12:45:35.345Z"
   },
   {
    "duration": 22,
    "start_time": "2021-12-05T12:45:39.396Z"
   },
   {
    "duration": 5,
    "start_time": "2021-12-05T12:45:41.748Z"
   },
   {
    "duration": 878,
    "start_time": "2021-12-05T12:45:52.954Z"
   },
   {
    "duration": 211,
    "start_time": "2021-12-05T12:45:57.454Z"
   },
   {
    "duration": 25,
    "start_time": "2021-12-05T12:45:59.728Z"
   },
   {
    "duration": 73,
    "start_time": "2021-12-05T12:46:02.425Z"
   },
   {
    "duration": 5,
    "start_time": "2021-12-05T12:46:06.489Z"
   },
   {
    "duration": 25,
    "start_time": "2021-12-05T12:46:09.106Z"
   },
   {
    "duration": 6,
    "start_time": "2021-12-05T12:46:12.385Z"
   },
   {
    "duration": 30,
    "start_time": "2021-12-05T12:47:40.500Z"
   },
   {
    "duration": 25,
    "start_time": "2021-12-05T12:53:31.955Z"
   },
   {
    "duration": 31,
    "start_time": "2021-12-05T12:53:55.467Z"
   },
   {
    "duration": 82,
    "start_time": "2021-12-05T12:54:23.990Z"
   },
   {
    "duration": 109,
    "start_time": "2021-12-05T12:55:21.186Z"
   },
   {
    "duration": 90,
    "start_time": "2021-12-05T12:55:33.382Z"
   },
   {
    "duration": 74,
    "start_time": "2021-12-05T12:55:56.448Z"
   },
   {
    "duration": 11,
    "start_time": "2021-12-05T12:57:41.513Z"
   },
   {
    "duration": 61,
    "start_time": "2021-12-05T12:58:16.363Z"
   },
   {
    "duration": 4,
    "start_time": "2021-12-05T13:05:04.472Z"
   },
   {
    "duration": 13,
    "start_time": "2021-12-05T13:05:24.945Z"
   },
   {
    "duration": 58,
    "start_time": "2021-12-05T13:05:57.145Z"
   },
   {
    "duration": 61,
    "start_time": "2021-12-05T13:08:07.961Z"
   },
   {
    "duration": 485,
    "start_time": "2021-12-05T13:08:46.989Z"
   },
   {
    "duration": 95,
    "start_time": "2021-12-05T13:09:16.821Z"
   },
   {
    "duration": 97,
    "start_time": "2021-12-05T13:09:20.027Z"
   },
   {
    "duration": 100,
    "start_time": "2021-12-05T13:10:16.117Z"
   },
   {
    "duration": 557,
    "start_time": "2021-12-05T13:12:44.985Z"
   },
   {
    "duration": 6,
    "start_time": "2021-12-05T13:12:51.441Z"
   },
   {
    "duration": 15,
    "start_time": "2021-12-05T13:12:57.636Z"
   },
   {
    "duration": 16,
    "start_time": "2021-12-05T13:15:48.845Z"
   },
   {
    "duration": 6,
    "start_time": "2021-12-05T13:16:06.610Z"
   },
   {
    "duration": 14,
    "start_time": "2021-12-05T13:16:29.446Z"
   },
   {
    "duration": 4,
    "start_time": "2021-12-05T15:01:00.543Z"
   },
   {
    "duration": 22,
    "start_time": "2021-12-05T15:01:30.636Z"
   },
   {
    "duration": 3,
    "start_time": "2021-12-05T15:01:46.647Z"
   },
   {
    "duration": 17,
    "start_time": "2021-12-05T15:03:36.709Z"
   },
   {
    "duration": 21,
    "start_time": "2021-12-05T15:03:40.170Z"
   },
   {
    "duration": 19,
    "start_time": "2021-12-05T15:04:24.484Z"
   },
   {
    "duration": 22,
    "start_time": "2021-12-05T15:06:04.964Z"
   },
   {
    "duration": 17,
    "start_time": "2021-12-05T15:06:27.239Z"
   },
   {
    "duration": 22,
    "start_time": "2021-12-05T15:06:43.440Z"
   },
   {
    "duration": 19,
    "start_time": "2021-12-05T15:07:02.530Z"
   },
   {
    "duration": 132,
    "start_time": "2021-12-05T15:09:12.359Z"
   },
   {
    "duration": 14,
    "start_time": "2021-12-05T15:13:10.204Z"
   },
   {
    "duration": 12,
    "start_time": "2021-12-05T15:15:24.416Z"
   },
   {
    "duration": 15,
    "start_time": "2021-12-05T15:16:57.600Z"
   },
   {
    "duration": 12,
    "start_time": "2021-12-05T15:17:30.940Z"
   },
   {
    "duration": 5,
    "start_time": "2021-12-05T15:26:08.051Z"
   },
   {
    "duration": 1172,
    "start_time": "2021-12-05T15:27:44.716Z"
   },
   {
    "duration": 6,
    "start_time": "2021-12-05T15:28:34.601Z"
   },
   {
    "duration": 33,
    "start_time": "2021-12-05T15:28:38.600Z"
   },
   {
    "duration": 6,
    "start_time": "2021-12-05T15:30:18.929Z"
   },
   {
    "duration": 877,
    "start_time": "2021-12-05T15:30:21.450Z"
   },
   {
    "duration": 5,
    "start_time": "2021-12-05T15:30:36.648Z"
   },
   {
    "duration": 750,
    "start_time": "2021-12-05T15:30:38.951Z"
   },
   {
    "duration": 6,
    "start_time": "2021-12-05T15:30:53.631Z"
   },
   {
    "duration": 26,
    "start_time": "2021-12-05T15:30:55.603Z"
   },
   {
    "duration": 27,
    "start_time": "2021-12-05T15:32:03.405Z"
   },
   {
    "duration": 18,
    "start_time": "2021-12-05T15:32:38.224Z"
   },
   {
    "duration": 24,
    "start_time": "2021-12-05T15:33:23.018Z"
   },
   {
    "duration": 18,
    "start_time": "2021-12-05T15:33:34.835Z"
   },
   {
    "duration": 388,
    "start_time": "2021-12-05T15:38:00.100Z"
   },
   {
    "duration": 15,
    "start_time": "2021-12-05T15:39:35.127Z"
   },
   {
    "duration": 353,
    "start_time": "2021-12-05T15:39:38.928Z"
   },
   {
    "duration": 366,
    "start_time": "2021-12-05T15:40:11.715Z"
   },
   {
    "duration": 356,
    "start_time": "2021-12-05T15:40:16.965Z"
   },
   {
    "duration": 353,
    "start_time": "2021-12-05T15:41:14.584Z"
   },
   {
    "duration": 7,
    "start_time": "2021-12-05T15:41:31.421Z"
   },
   {
    "duration": 9,
    "start_time": "2021-12-05T15:41:34.527Z"
   },
   {
    "duration": 7,
    "start_time": "2021-12-05T15:41:49.959Z"
   },
   {
    "duration": 6,
    "start_time": "2021-12-05T15:42:07.765Z"
   },
   {
    "duration": 7,
    "start_time": "2021-12-05T15:43:47.967Z"
   },
   {
    "duration": 507,
    "start_time": "2021-12-05T15:45:09.486Z"
   },
   {
    "duration": 920,
    "start_time": "2021-12-05T15:45:21.292Z"
   },
   {
    "duration": 395,
    "start_time": "2021-12-05T15:45:29.364Z"
   },
   {
    "duration": 520,
    "start_time": "2021-12-05T15:45:40.375Z"
   },
   {
    "duration": 378,
    "start_time": "2021-12-05T15:47:00.577Z"
   },
   {
    "duration": 392,
    "start_time": "2021-12-05T15:47:07.152Z"
   },
   {
    "duration": 6,
    "start_time": "2021-12-05T15:47:35.548Z"
   },
   {
    "duration": 7,
    "start_time": "2021-12-05T15:47:40.156Z"
   },
   {
    "duration": 361,
    "start_time": "2021-12-05T15:48:34.302Z"
   },
   {
    "duration": 3,
    "start_time": "2021-12-05T15:52:31.544Z"
   },
   {
    "duration": 3,
    "start_time": "2021-12-05T15:52:34.571Z"
   },
   {
    "duration": 7,
    "start_time": "2021-12-05T15:54:17.953Z"
   },
   {
    "duration": 7,
    "start_time": "2021-12-05T15:54:20.300Z"
   },
   {
    "duration": 7,
    "start_time": "2021-12-05T15:54:23.010Z"
   },
   {
    "duration": 6,
    "start_time": "2021-12-05T15:54:41.686Z"
   },
   {
    "duration": 7,
    "start_time": "2021-12-05T15:54:44.014Z"
   },
   {
    "duration": 7,
    "start_time": "2021-12-05T15:54:56.491Z"
   },
   {
    "duration": 6,
    "start_time": "2021-12-05T15:55:05.844Z"
   },
   {
    "duration": 7,
    "start_time": "2021-12-05T15:55:08.240Z"
   },
   {
    "duration": 7,
    "start_time": "2021-12-05T15:55:23.012Z"
   },
   {
    "duration": 391,
    "start_time": "2021-12-05T15:55:47.371Z"
   },
   {
    "duration": 362,
    "start_time": "2021-12-05T15:56:19.837Z"
   },
   {
    "duration": 175,
    "start_time": "2021-12-05T15:56:24.823Z"
   },
   {
    "duration": 444,
    "start_time": "2021-12-05T15:56:29.351Z"
   },
   {
    "duration": 364,
    "start_time": "2021-12-05T15:57:12.478Z"
   },
   {
    "duration": 6,
    "start_time": "2021-12-05T15:57:26.615Z"
   },
   {
    "duration": 7,
    "start_time": "2021-12-05T15:57:30.314Z"
   },
   {
    "duration": 4,
    "start_time": "2021-12-05T15:59:12.784Z"
   },
   {
    "duration": 5,
    "start_time": "2021-12-05T15:59:14.867Z"
   },
   {
    "duration": 9,
    "start_time": "2021-12-05T15:59:27.366Z"
   },
   {
    "duration": 470,
    "start_time": "2021-12-05T15:59:46.296Z"
   },
   {
    "duration": 8,
    "start_time": "2021-12-05T16:00:10.383Z"
   },
   {
    "duration": 9,
    "start_time": "2021-12-05T16:00:14.464Z"
   },
   {
    "duration": 375,
    "start_time": "2021-12-05T16:03:10.409Z"
   },
   {
    "duration": 353,
    "start_time": "2021-12-05T16:04:38.029Z"
   },
   {
    "duration": 7,
    "start_time": "2021-12-05T16:04:49.011Z"
   },
   {
    "duration": 377,
    "start_time": "2021-12-05T16:05:24.259Z"
   },
   {
    "duration": 8,
    "start_time": "2021-12-05T16:06:22.318Z"
   },
   {
    "duration": 6,
    "start_time": "2021-12-05T16:06:41.539Z"
   },
   {
    "duration": 627,
    "start_time": "2021-12-05T16:07:16.712Z"
   },
   {
    "duration": 860,
    "start_time": "2021-12-05T16:09:06.119Z"
   },
   {
    "duration": 185,
    "start_time": "2021-12-05T16:09:06.981Z"
   },
   {
    "duration": 25,
    "start_time": "2021-12-05T16:09:07.171Z"
   },
   {
    "duration": 36,
    "start_time": "2021-12-05T16:09:07.198Z"
   },
   {
    "duration": 7,
    "start_time": "2021-12-05T16:09:07.260Z"
   },
   {
    "duration": 27,
    "start_time": "2021-12-05T16:09:07.270Z"
   },
   {
    "duration": 5,
    "start_time": "2021-12-05T16:09:07.303Z"
   },
   {
    "duration": 74,
    "start_time": "2021-12-05T16:09:07.312Z"
   },
   {
    "duration": 23,
    "start_time": "2021-12-05T16:09:07.389Z"
   },
   {
    "duration": 46,
    "start_time": "2021-12-05T16:09:07.414Z"
   },
   {
    "duration": 97,
    "start_time": "2021-12-05T16:09:07.463Z"
   },
   {
    "duration": 122,
    "start_time": "2021-12-05T16:09:07.563Z"
   },
   {
    "duration": 86,
    "start_time": "2021-12-05T16:09:07.688Z"
   },
   {
    "duration": 59,
    "start_time": "2021-12-05T16:09:07.777Z"
   },
   {
    "duration": 6,
    "start_time": "2021-12-05T16:09:07.859Z"
   },
   {
    "duration": 17,
    "start_time": "2021-12-05T16:09:07.867Z"
   },
   {
    "duration": 83,
    "start_time": "2021-12-05T16:09:07.887Z"
   },
   {
    "duration": 15,
    "start_time": "2021-12-05T16:09:07.972Z"
   },
   {
    "duration": 13,
    "start_time": "2021-12-05T16:09:07.990Z"
   },
   {
    "duration": 5,
    "start_time": "2021-12-05T16:09:08.005Z"
   },
   {
    "duration": 59,
    "start_time": "2021-12-05T16:09:08.012Z"
   },
   {
    "duration": 18,
    "start_time": "2021-12-05T16:09:08.075Z"
   },
   {
    "duration": 18,
    "start_time": "2021-12-05T16:09:08.096Z"
   },
   {
    "duration": 47,
    "start_time": "2021-12-05T16:09:08.117Z"
   },
   {
    "duration": 20,
    "start_time": "2021-12-05T16:09:08.166Z"
   },
   {
    "duration": 19,
    "start_time": "2021-12-05T16:09:08.189Z"
   },
   {
    "duration": 49,
    "start_time": "2021-12-05T16:09:08.210Z"
   },
   {
    "duration": 15,
    "start_time": "2021-12-05T16:09:08.261Z"
   },
   {
    "duration": 11,
    "start_time": "2021-12-05T16:09:08.278Z"
   },
   {
    "duration": 6,
    "start_time": "2021-12-05T16:09:08.291Z"
   },
   {
    "duration": 61,
    "start_time": "2021-12-05T16:09:08.299Z"
   },
   {
    "duration": 19,
    "start_time": "2021-12-05T16:09:08.362Z"
   },
   {
    "duration": 24,
    "start_time": "2021-12-05T16:09:08.383Z"
   },
   {
    "duration": 16,
    "start_time": "2021-12-05T16:09:08.409Z"
   },
   {
    "duration": 40,
    "start_time": "2021-12-05T16:09:08.427Z"
   },
   {
    "duration": 5,
    "start_time": "2021-12-05T16:09:08.470Z"
   },
   {
    "duration": 10,
    "start_time": "2021-12-05T16:09:08.477Z"
   },
   {
    "duration": 6,
    "start_time": "2021-12-05T16:09:08.490Z"
   },
   {
    "duration": 960,
    "start_time": "2021-12-05T16:14:30.666Z"
   },
   {
    "duration": 196,
    "start_time": "2021-12-05T16:14:31.629Z"
   },
   {
    "duration": 34,
    "start_time": "2021-12-05T16:14:31.828Z"
   },
   {
    "duration": 59,
    "start_time": "2021-12-05T16:14:31.865Z"
   },
   {
    "duration": 8,
    "start_time": "2021-12-05T16:14:31.926Z"
   },
   {
    "duration": 36,
    "start_time": "2021-12-05T16:14:31.936Z"
   },
   {
    "duration": 5,
    "start_time": "2021-12-05T16:14:31.974Z"
   },
   {
    "duration": 30,
    "start_time": "2021-12-05T16:14:31.983Z"
   },
   {
    "duration": 47,
    "start_time": "2021-12-05T16:14:32.016Z"
   },
   {
    "duration": 35,
    "start_time": "2021-12-05T16:14:32.065Z"
   },
   {
    "duration": 111,
    "start_time": "2021-12-05T16:14:32.103Z"
   },
   {
    "duration": 111,
    "start_time": "2021-12-05T16:14:32.217Z"
   },
   {
    "duration": 84,
    "start_time": "2021-12-05T16:14:32.330Z"
   },
   {
    "duration": 64,
    "start_time": "2021-12-05T16:14:32.417Z"
   },
   {
    "duration": 4,
    "start_time": "2021-12-05T16:14:32.483Z"
   },
   {
    "duration": 14,
    "start_time": "2021-12-05T16:14:32.489Z"
   },
   {
    "duration": 90,
    "start_time": "2021-12-05T16:14:32.506Z"
   },
   {
    "duration": 15,
    "start_time": "2021-12-05T16:14:32.598Z"
   },
   {
    "duration": 14,
    "start_time": "2021-12-05T16:14:32.616Z"
   },
   {
    "duration": 28,
    "start_time": "2021-12-05T16:14:32.632Z"
   },
   {
    "duration": 25,
    "start_time": "2021-12-05T16:14:32.663Z"
   },
   {
    "duration": 17,
    "start_time": "2021-12-05T16:14:32.690Z"
   },
   {
    "duration": 50,
    "start_time": "2021-12-05T16:14:32.712Z"
   },
   {
    "duration": 18,
    "start_time": "2021-12-05T16:14:32.765Z"
   },
   {
    "duration": 23,
    "start_time": "2021-12-05T16:14:32.785Z"
   },
   {
    "duration": 55,
    "start_time": "2021-12-05T16:14:32.811Z"
   },
   {
    "duration": 15,
    "start_time": "2021-12-05T16:14:32.868Z"
   },
   {
    "duration": 15,
    "start_time": "2021-12-05T16:14:32.885Z"
   },
   {
    "duration": 11,
    "start_time": "2021-12-05T16:14:32.902Z"
   },
   {
    "duration": 5,
    "start_time": "2021-12-05T16:14:32.916Z"
   },
   {
    "duration": 53,
    "start_time": "2021-12-05T16:14:32.923Z"
   },
   {
    "duration": 18,
    "start_time": "2021-12-05T16:14:32.979Z"
   },
   {
    "duration": 22,
    "start_time": "2021-12-05T16:14:32.999Z"
   },
   {
    "duration": 16,
    "start_time": "2021-12-05T16:14:33.060Z"
   },
   {
    "duration": 10,
    "start_time": "2021-12-05T16:14:33.079Z"
   },
   {
    "duration": 5,
    "start_time": "2021-12-05T16:14:33.092Z"
   },
   {
    "duration": 11,
    "start_time": "2021-12-05T16:14:33.099Z"
   },
   {
    "duration": 6,
    "start_time": "2021-12-05T16:14:33.112Z"
   },
   {
    "duration": 770,
    "start_time": "2021-12-05T16:22:38.423Z"
   },
   {
    "duration": 174,
    "start_time": "2021-12-05T16:22:39.196Z"
   },
   {
    "duration": 27,
    "start_time": "2021-12-05T16:22:39.374Z"
   },
   {
    "duration": 59,
    "start_time": "2021-12-05T16:22:39.405Z"
   },
   {
    "duration": 6,
    "start_time": "2021-12-05T16:22:39.467Z"
   },
   {
    "duration": 26,
    "start_time": "2021-12-05T16:22:39.476Z"
   },
   {
    "duration": 7,
    "start_time": "2021-12-05T16:22:39.505Z"
   },
   {
    "duration": 33,
    "start_time": "2021-12-05T16:22:39.559Z"
   },
   {
    "duration": 24,
    "start_time": "2021-12-05T16:22:39.596Z"
   },
   {
    "duration": 55,
    "start_time": "2021-12-05T16:22:39.622Z"
   },
   {
    "duration": 97,
    "start_time": "2021-12-05T16:22:39.680Z"
   },
   {
    "duration": 96,
    "start_time": "2021-12-05T16:22:39.780Z"
   },
   {
    "duration": 82,
    "start_time": "2021-12-05T16:22:39.879Z"
   },
   {
    "duration": 57,
    "start_time": "2021-12-05T16:22:39.964Z"
   },
   {
    "duration": 4,
    "start_time": "2021-12-05T16:22:40.023Z"
   },
   {
    "duration": 468,
    "start_time": "2021-12-05T16:22:40.029Z"
   },
   {
    "duration": -86,
    "start_time": "2021-12-05T16:22:40.587Z"
   },
   {
    "duration": -89,
    "start_time": "2021-12-05T16:22:40.592Z"
   },
   {
    "duration": -90,
    "start_time": "2021-12-05T16:22:40.595Z"
   },
   {
    "duration": -90,
    "start_time": "2021-12-05T16:22:40.598Z"
   },
   {
    "duration": -95,
    "start_time": "2021-12-05T16:22:40.605Z"
   },
   {
    "duration": -96,
    "start_time": "2021-12-05T16:22:40.608Z"
   },
   {
    "duration": -96,
    "start_time": "2021-12-05T16:22:40.610Z"
   },
   {
    "duration": -96,
    "start_time": "2021-12-05T16:22:40.613Z"
   },
   {
    "duration": -96,
    "start_time": "2021-12-05T16:22:40.615Z"
   },
   {
    "duration": -97,
    "start_time": "2021-12-05T16:22:40.618Z"
   },
   {
    "duration": -105,
    "start_time": "2021-12-05T16:22:40.628Z"
   },
   {
    "duration": -105,
    "start_time": "2021-12-05T16:22:40.631Z"
   },
   {
    "duration": -106,
    "start_time": "2021-12-05T16:22:40.634Z"
   },
   {
    "duration": -109,
    "start_time": "2021-12-05T16:22:40.640Z"
   },
   {
    "duration": -109,
    "start_time": "2021-12-05T16:22:40.643Z"
   },
   {
    "duration": -110,
    "start_time": "2021-12-05T16:22:40.645Z"
   },
   {
    "duration": -110,
    "start_time": "2021-12-05T16:22:40.647Z"
   },
   {
    "duration": -110,
    "start_time": "2021-12-05T16:22:40.649Z"
   },
   {
    "duration": -92,
    "start_time": "2021-12-05T16:22:40.651Z"
   },
   {
    "duration": -93,
    "start_time": "2021-12-05T16:22:40.653Z"
   },
   {
    "duration": -97,
    "start_time": "2021-12-05T16:22:40.659Z"
   },
   {
    "duration": -98,
    "start_time": "2021-12-05T16:22:40.661Z"
   },
   {
    "duration": 825,
    "start_time": "2021-12-05T16:24:17.159Z"
   },
   {
    "duration": 197,
    "start_time": "2021-12-05T16:24:17.987Z"
   },
   {
    "duration": 29,
    "start_time": "2021-12-05T16:24:18.191Z"
   },
   {
    "duration": 59,
    "start_time": "2021-12-05T16:24:18.223Z"
   },
   {
    "duration": 6,
    "start_time": "2021-12-05T16:24:18.284Z"
   },
   {
    "duration": 27,
    "start_time": "2021-12-05T16:24:18.293Z"
   },
   {
    "duration": 37,
    "start_time": "2021-12-05T16:24:18.324Z"
   },
   {
    "duration": 35,
    "start_time": "2021-12-05T16:24:18.363Z"
   },
   {
    "duration": 28,
    "start_time": "2021-12-05T16:24:18.400Z"
   },
   {
    "duration": 53,
    "start_time": "2021-12-05T16:24:18.431Z"
   },
   {
    "duration": 100,
    "start_time": "2021-12-05T16:24:18.487Z"
   },
   {
    "duration": 107,
    "start_time": "2021-12-05T16:24:18.589Z"
   },
   {
    "duration": 88,
    "start_time": "2021-12-05T16:24:18.699Z"
   },
   {
    "duration": 75,
    "start_time": "2021-12-05T16:24:18.790Z"
   },
   {
    "duration": 4,
    "start_time": "2021-12-05T16:24:18.868Z"
   },
   {
    "duration": 885,
    "start_time": "2021-12-05T16:24:18.874Z"
   },
   {
    "duration": -103,
    "start_time": "2021-12-05T16:24:19.865Z"
   },
   {
    "duration": -104,
    "start_time": "2021-12-05T16:24:19.868Z"
   },
   {
    "duration": -105,
    "start_time": "2021-12-05T16:24:19.870Z"
   },
   {
    "duration": -106,
    "start_time": "2021-12-05T16:24:19.872Z"
   },
   {
    "duration": -107,
    "start_time": "2021-12-05T16:24:19.875Z"
   },
   {
    "duration": -108,
    "start_time": "2021-12-05T16:24:19.877Z"
   },
   {
    "duration": -109,
    "start_time": "2021-12-05T16:24:19.879Z"
   },
   {
    "duration": -110,
    "start_time": "2021-12-05T16:24:19.882Z"
   },
   {
    "duration": -111,
    "start_time": "2021-12-05T16:24:19.884Z"
   },
   {
    "duration": -113,
    "start_time": "2021-12-05T16:24:19.887Z"
   },
   {
    "duration": -115,
    "start_time": "2021-12-05T16:24:19.890Z"
   },
   {
    "duration": -115,
    "start_time": "2021-12-05T16:24:19.892Z"
   },
   {
    "duration": -117,
    "start_time": "2021-12-05T16:24:19.895Z"
   },
   {
    "duration": -117,
    "start_time": "2021-12-05T16:24:19.896Z"
   },
   {
    "duration": -117,
    "start_time": "2021-12-05T16:24:19.898Z"
   },
   {
    "duration": -118,
    "start_time": "2021-12-05T16:24:19.900Z"
   },
   {
    "duration": -119,
    "start_time": "2021-12-05T16:24:19.903Z"
   },
   {
    "duration": -120,
    "start_time": "2021-12-05T16:24:19.905Z"
   },
   {
    "duration": -125,
    "start_time": "2021-12-05T16:24:19.911Z"
   },
   {
    "duration": -126,
    "start_time": "2021-12-05T16:24:19.914Z"
   },
   {
    "duration": -127,
    "start_time": "2021-12-05T16:24:19.916Z"
   },
   {
    "duration": -127,
    "start_time": "2021-12-05T16:24:19.917Z"
   },
   {
    "duration": 819,
    "start_time": "2021-12-05T16:24:51.147Z"
   },
   {
    "duration": 182,
    "start_time": "2021-12-05T16:24:51.969Z"
   },
   {
    "duration": 27,
    "start_time": "2021-12-05T16:24:52.154Z"
   },
   {
    "duration": 35,
    "start_time": "2021-12-05T16:24:52.184Z"
   },
   {
    "duration": 5,
    "start_time": "2021-12-05T16:24:52.221Z"
   },
   {
    "duration": 55,
    "start_time": "2021-12-05T16:24:52.228Z"
   },
   {
    "duration": 5,
    "start_time": "2021-12-05T16:24:52.286Z"
   },
   {
    "duration": 31,
    "start_time": "2021-12-05T16:24:52.295Z"
   },
   {
    "duration": 43,
    "start_time": "2021-12-05T16:24:52.330Z"
   },
   {
    "duration": 28,
    "start_time": "2021-12-05T16:24:52.376Z"
   },
   {
    "duration": 110,
    "start_time": "2021-12-05T16:24:52.407Z"
   },
   {
    "duration": 112,
    "start_time": "2021-12-05T16:24:52.519Z"
   },
   {
    "duration": 87,
    "start_time": "2021-12-05T16:24:52.633Z"
   },
   {
    "duration": 66,
    "start_time": "2021-12-05T16:24:52.722Z"
   },
   {
    "duration": 4,
    "start_time": "2021-12-05T16:24:52.791Z"
   },
   {
    "duration": 20,
    "start_time": "2021-12-05T16:24:52.797Z"
   },
   {
    "duration": 82,
    "start_time": "2021-12-05T16:24:52.820Z"
   },
   {
    "duration": 15,
    "start_time": "2021-12-05T16:24:52.904Z"
   },
   {
    "duration": 14,
    "start_time": "2021-12-05T16:24:52.921Z"
   },
   {
    "duration": 25,
    "start_time": "2021-12-05T16:24:52.937Z"
   },
   {
    "duration": 27,
    "start_time": "2021-12-05T16:24:52.964Z"
   },
   {
    "duration": 18,
    "start_time": "2021-12-05T16:24:52.993Z"
   },
   {
    "duration": 47,
    "start_time": "2021-12-05T16:24:53.016Z"
   },
   {
    "duration": 17,
    "start_time": "2021-12-05T16:24:53.066Z"
   },
   {
    "duration": 21,
    "start_time": "2021-12-05T16:24:53.085Z"
   },
   {
    "duration": 51,
    "start_time": "2021-12-05T16:24:53.109Z"
   },
   {
    "duration": 11,
    "start_time": "2021-12-05T16:24:53.163Z"
   },
   {
    "duration": 17,
    "start_time": "2021-12-05T16:24:53.176Z"
   },
   {
    "duration": 11,
    "start_time": "2021-12-05T16:24:53.196Z"
   },
   {
    "duration": 5,
    "start_time": "2021-12-05T16:24:53.210Z"
   },
   {
    "duration": 62,
    "start_time": "2021-12-05T16:24:53.218Z"
   },
   {
    "duration": 17,
    "start_time": "2021-12-05T16:24:53.282Z"
   },
   {
    "duration": 24,
    "start_time": "2021-12-05T16:24:53.301Z"
   },
   {
    "duration": 46,
    "start_time": "2021-12-05T16:24:53.327Z"
   },
   {
    "duration": 11,
    "start_time": "2021-12-05T16:24:53.375Z"
   },
   {
    "duration": 6,
    "start_time": "2021-12-05T16:24:53.388Z"
   },
   {
    "duration": 8,
    "start_time": "2021-12-05T16:24:53.396Z"
   },
   {
    "duration": 7,
    "start_time": "2021-12-05T16:24:53.407Z"
   },
   {
    "duration": 773,
    "start_time": "2021-12-05T16:30:40.219Z"
   },
   {
    "duration": 186,
    "start_time": "2021-12-05T16:30:40.995Z"
   },
   {
    "duration": 27,
    "start_time": "2021-12-05T16:30:41.184Z"
   },
   {
    "duration": 52,
    "start_time": "2021-12-05T16:30:41.214Z"
   },
   {
    "duration": 6,
    "start_time": "2021-12-05T16:30:41.268Z"
   },
   {
    "duration": 25,
    "start_time": "2021-12-05T16:30:41.276Z"
   },
   {
    "duration": 7,
    "start_time": "2021-12-05T16:30:41.304Z"
   },
   {
    "duration": 66,
    "start_time": "2021-12-05T16:30:41.316Z"
   },
   {
    "duration": 22,
    "start_time": "2021-12-05T16:30:41.386Z"
   },
   {
    "duration": 50,
    "start_time": "2021-12-05T16:30:41.411Z"
   },
   {
    "duration": 100,
    "start_time": "2021-12-05T16:30:41.463Z"
   },
   {
    "duration": 110,
    "start_time": "2021-12-05T16:30:41.565Z"
   },
   {
    "duration": 82,
    "start_time": "2021-12-05T16:30:41.677Z"
   },
   {
    "duration": 57,
    "start_time": "2021-12-05T16:30:41.761Z"
   },
   {
    "duration": 3,
    "start_time": "2021-12-05T16:30:41.820Z"
   },
   {
    "duration": 42,
    "start_time": "2021-12-05T16:30:41.826Z"
   },
   {
    "duration": 57,
    "start_time": "2021-12-05T16:30:41.870Z"
   },
   {
    "duration": 34,
    "start_time": "2021-12-05T16:30:41.930Z"
   },
   {
    "duration": 14,
    "start_time": "2021-12-05T16:30:41.967Z"
   },
   {
    "duration": 4,
    "start_time": "2021-12-05T16:30:41.983Z"
   },
   {
    "duration": 25,
    "start_time": "2021-12-05T16:30:41.990Z"
   },
   {
    "duration": 47,
    "start_time": "2021-12-05T16:30:42.017Z"
   },
   {
    "duration": 18,
    "start_time": "2021-12-05T16:30:42.068Z"
   },
   {
    "duration": 17,
    "start_time": "2021-12-05T16:30:42.089Z"
   },
   {
    "duration": 58,
    "start_time": "2021-12-05T16:30:42.108Z"
   },
   {
    "duration": 18,
    "start_time": "2021-12-05T16:30:42.168Z"
   },
   {
    "duration": 11,
    "start_time": "2021-12-05T16:30:42.188Z"
   },
   {
    "duration": 17,
    "start_time": "2021-12-05T16:30:42.202Z"
   },
   {
    "duration": 47,
    "start_time": "2021-12-05T16:30:42.221Z"
   },
   {
    "duration": 7,
    "start_time": "2021-12-05T16:30:42.271Z"
   },
   {
    "duration": 27,
    "start_time": "2021-12-05T16:30:42.280Z"
   },
   {
    "duration": 53,
    "start_time": "2021-12-05T16:30:42.310Z"
   },
   {
    "duration": 26,
    "start_time": "2021-12-05T16:30:42.366Z"
   },
   {
    "duration": 20,
    "start_time": "2021-12-05T16:30:42.395Z"
   },
   {
    "duration": 48,
    "start_time": "2021-12-05T16:30:42.418Z"
   },
   {
    "duration": 7,
    "start_time": "2021-12-05T16:30:42.468Z"
   },
   {
    "duration": 11,
    "start_time": "2021-12-05T16:30:42.478Z"
   },
   {
    "duration": 7,
    "start_time": "2021-12-05T16:30:42.492Z"
   }
  ],
  "colab": {
   "collapsed_sections": [
    "E0vqbgi9ay0H",
    "VUC88oWjTJw2"
   ],
   "name": "yandex_music_project_2021.2.ipynb",
   "provenance": []
  },
  "kernelspec": {
   "display_name": "Python 3",
   "language": "python",
   "name": "python3"
  },
  "language_info": {
   "codemirror_mode": {
    "name": "ipython",
    "version": 3
   },
   "file_extension": ".py",
   "mimetype": "text/x-python",
   "name": "python",
   "nbconvert_exporter": "python",
   "pygments_lexer": "ipython3",
   "version": "3.7.12"
  },
  "toc": {
   "base_numbering": 1,
   "nav_menu": {},
   "number_sections": true,
   "sideBar": true,
   "skip_h1_title": true,
   "title_cell": "Table of Contents",
   "title_sidebar": "Contents",
   "toc_cell": false,
   "toc_position": {
    "height": "calc(100% - 180px)",
    "left": "10px",
    "top": "150px",
    "width": "271.123px"
   },
   "toc_section_display": true,
   "toc_window_display": false
  }
 },
 "nbformat": 4,
 "nbformat_minor": 1
}
