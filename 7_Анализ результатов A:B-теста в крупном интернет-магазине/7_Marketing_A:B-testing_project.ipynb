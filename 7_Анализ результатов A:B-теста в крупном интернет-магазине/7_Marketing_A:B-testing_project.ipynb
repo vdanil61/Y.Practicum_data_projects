{
 "cells": [
  {
   "cell_type": "markdown",
   "metadata": {},
   "source": [
    "# Анализ результатов A/B-теста"
   ]
  },
  {
   "cell_type": "markdown",
   "metadata": {},
   "source": [
    "## Описание проекта"
   ]
  },
  {
   "cell_type": "markdown",
   "metadata": {},
   "source": [
    "Заказчик - крупный интернет-магазин.\n",
    "\n",
    "Отделом маркетинга подготовлены гипотезы в файле `hypothesis.csv` с оцененными параметрами Reach, Impact, Confidence, Effort. Каждая из этих гипотез может увеличить выручку магазина. \n",
    "\n",
    "Необходимо:\n",
    "- 1) С помощью фреймворков ICE и RICE приоритизировать гипотезы к тестированию - выбрать первоочередные;\n",
    "- 2) Запустить A/B-тест и получить результаты, затем провести их анализ и принять решение о дальнейшей судьбе теста. Возможные варианты:\n",
    "    - Остановка и признание неуспешным (отсутствие различий между группами);\n",
    "    - Остановка и признание успешным (фиксация победы одной из групп);\n",
    "    - Продолжение теста (замечен тренд на различие, но данных для принятия решения недостаточно)."
   ]
  },
  {
   "cell_type": "code",
   "execution_count": 1,
   "metadata": {},
   "outputs": [],
   "source": [
    "# импорт библиотек\n",
    "import warnings\n",
    "warnings.filterwarnings(\"ignore\")\n",
    "\n",
    "import math as mth\n",
    "import pandas as pd\n",
    "import numpy as np\n",
    "from scipy import stats as st\n",
    "\n",
    "import datetime as dt\n",
    "\n",
    "import matplotlib.pyplot as plt"
   ]
  },
  {
   "cell_type": "code",
   "execution_count": 2,
   "metadata": {},
   "outputs": [],
   "source": [
    "# подготовка функции для вывода общей информации о датасете\n",
    "def data_main_info(data):\n",
    "    \n",
    "    # вывод шапки и общей информации\n",
    "    print('Шапка и общая информация о данных')\n",
    "    display(data.head(10))\n",
    "    print(data.info())\n",
    "    print()\n",
    "    \n",
    "    # вывод статистической информации о датасете\n",
    "    print('Статистическая информация о данных')\n",
    "    display(data.describe())\n",
    "    print()\n",
    "    \n",
    "    # подсчет и вывод количества явных дубликатов в данных\n",
    "    print('Количество явных дубликатов в данных:', data.duplicated().sum())\n",
    "    print()\n",
    "    \n",
    "    # подсчет и вывод количества пропусков по столбцам\n",
    "    print('Количество пропусков в данных')\n",
    "    display(data.isna().sum().sort_values(ascending=False))"
   ]
  },
  {
   "cell_type": "markdown",
   "metadata": {},
   "source": [
    "## Изучение данных по гипотезам"
   ]
  },
  {
   "cell_type": "markdown",
   "metadata": {},
   "source": [
    "### Изучение датасета по гипотезам"
   ]
  },
  {
   "cell_type": "markdown",
   "metadata": {},
   "source": [
    "Изучим датасет `hypothesis.csv`, который содержит набор гипотез по увеличению выручки, предварительно оцененных по составляющим фреймворков ICE и RICE"
   ]
  },
  {
   "cell_type": "code",
   "execution_count": 3,
   "metadata": {},
   "outputs": [
    {
     "name": "stdout",
     "output_type": "stream",
     "text": [
      "Шапка и общая информация о данных\n"
     ]
    },
    {
     "data": {
      "text/html": [
       "<div>\n",
       "<style scoped>\n",
       "    .dataframe tbody tr th:only-of-type {\n",
       "        vertical-align: middle;\n",
       "    }\n",
       "\n",
       "    .dataframe tbody tr th {\n",
       "        vertical-align: top;\n",
       "    }\n",
       "\n",
       "    .dataframe thead th {\n",
       "        text-align: right;\n",
       "    }\n",
       "</style>\n",
       "<table border=\"1\" class=\"dataframe\">\n",
       "  <thead>\n",
       "    <tr style=\"text-align: right;\">\n",
       "      <th></th>\n",
       "      <th>Hypothesis</th>\n",
       "      <th>Reach</th>\n",
       "      <th>Impact</th>\n",
       "      <th>Confidence</th>\n",
       "      <th>Efforts</th>\n",
       "    </tr>\n",
       "  </thead>\n",
       "  <tbody>\n",
       "    <tr>\n",
       "      <th>0</th>\n",
       "      <td>Добавить два новых канала привлечения трафика,...</td>\n",
       "      <td>3</td>\n",
       "      <td>10</td>\n",
       "      <td>8</td>\n",
       "      <td>6</td>\n",
       "    </tr>\n",
       "    <tr>\n",
       "      <th>1</th>\n",
       "      <td>Запустить собственную службу доставки, что сок...</td>\n",
       "      <td>2</td>\n",
       "      <td>5</td>\n",
       "      <td>4</td>\n",
       "      <td>10</td>\n",
       "    </tr>\n",
       "    <tr>\n",
       "      <th>2</th>\n",
       "      <td>Добавить блоки рекомендаций товаров на сайт ин...</td>\n",
       "      <td>8</td>\n",
       "      <td>3</td>\n",
       "      <td>7</td>\n",
       "      <td>3</td>\n",
       "    </tr>\n",
       "    <tr>\n",
       "      <th>3</th>\n",
       "      <td>Изменить структура категорий, что увеличит кон...</td>\n",
       "      <td>8</td>\n",
       "      <td>3</td>\n",
       "      <td>3</td>\n",
       "      <td>8</td>\n",
       "    </tr>\n",
       "    <tr>\n",
       "      <th>4</th>\n",
       "      <td>Изменить цвет фона главной страницы, чтобы уве...</td>\n",
       "      <td>3</td>\n",
       "      <td>1</td>\n",
       "      <td>1</td>\n",
       "      <td>1</td>\n",
       "    </tr>\n",
       "    <tr>\n",
       "      <th>5</th>\n",
       "      <td>Добавить страницу отзывов клиентов о магазине,...</td>\n",
       "      <td>3</td>\n",
       "      <td>2</td>\n",
       "      <td>2</td>\n",
       "      <td>3</td>\n",
       "    </tr>\n",
       "    <tr>\n",
       "      <th>6</th>\n",
       "      <td>Показать на главной странице баннеры с актуаль...</td>\n",
       "      <td>5</td>\n",
       "      <td>3</td>\n",
       "      <td>8</td>\n",
       "      <td>3</td>\n",
       "    </tr>\n",
       "    <tr>\n",
       "      <th>7</th>\n",
       "      <td>Добавить форму подписки на все основные страни...</td>\n",
       "      <td>10</td>\n",
       "      <td>7</td>\n",
       "      <td>8</td>\n",
       "      <td>5</td>\n",
       "    </tr>\n",
       "    <tr>\n",
       "      <th>8</th>\n",
       "      <td>Запустить акцию, дающую скидку на товар в день...</td>\n",
       "      <td>1</td>\n",
       "      <td>9</td>\n",
       "      <td>9</td>\n",
       "      <td>5</td>\n",
       "    </tr>\n",
       "  </tbody>\n",
       "</table>\n",
       "</div>"
      ],
      "text/plain": [
       "                                          Hypothesis  Reach  Impact  \\\n",
       "0  Добавить два новых канала привлечения трафика,...      3      10   \n",
       "1  Запустить собственную службу доставки, что сок...      2       5   \n",
       "2  Добавить блоки рекомендаций товаров на сайт ин...      8       3   \n",
       "3  Изменить структура категорий, что увеличит кон...      8       3   \n",
       "4  Изменить цвет фона главной страницы, чтобы уве...      3       1   \n",
       "5  Добавить страницу отзывов клиентов о магазине,...      3       2   \n",
       "6  Показать на главной странице баннеры с актуаль...      5       3   \n",
       "7  Добавить форму подписки на все основные страни...     10       7   \n",
       "8  Запустить акцию, дающую скидку на товар в день...      1       9   \n",
       "\n",
       "   Confidence  Efforts  \n",
       "0           8        6  \n",
       "1           4       10  \n",
       "2           7        3  \n",
       "3           3        8  \n",
       "4           1        1  \n",
       "5           2        3  \n",
       "6           8        3  \n",
       "7           8        5  \n",
       "8           9        5  "
      ]
     },
     "metadata": {},
     "output_type": "display_data"
    },
    {
     "name": "stdout",
     "output_type": "stream",
     "text": [
      "<class 'pandas.core.frame.DataFrame'>\n",
      "RangeIndex: 9 entries, 0 to 8\n",
      "Data columns (total 5 columns):\n",
      " #   Column      Non-Null Count  Dtype \n",
      "---  ------      --------------  ----- \n",
      " 0   Hypothesis  9 non-null      object\n",
      " 1   Reach       9 non-null      int64 \n",
      " 2   Impact      9 non-null      int64 \n",
      " 3   Confidence  9 non-null      int64 \n",
      " 4   Efforts     9 non-null      int64 \n",
      "dtypes: int64(4), object(1)\n",
      "memory usage: 488.0+ bytes\n",
      "None\n",
      "\n",
      "Статистическая информация о данных\n"
     ]
    },
    {
     "data": {
      "text/html": [
       "<div>\n",
       "<style scoped>\n",
       "    .dataframe tbody tr th:only-of-type {\n",
       "        vertical-align: middle;\n",
       "    }\n",
       "\n",
       "    .dataframe tbody tr th {\n",
       "        vertical-align: top;\n",
       "    }\n",
       "\n",
       "    .dataframe thead th {\n",
       "        text-align: right;\n",
       "    }\n",
       "</style>\n",
       "<table border=\"1\" class=\"dataframe\">\n",
       "  <thead>\n",
       "    <tr style=\"text-align: right;\">\n",
       "      <th></th>\n",
       "      <th>Reach</th>\n",
       "      <th>Impact</th>\n",
       "      <th>Confidence</th>\n",
       "      <th>Efforts</th>\n",
       "    </tr>\n",
       "  </thead>\n",
       "  <tbody>\n",
       "    <tr>\n",
       "      <th>count</th>\n",
       "      <td>9.000000</td>\n",
       "      <td>9.000000</td>\n",
       "      <td>9.000000</td>\n",
       "      <td>9.000000</td>\n",
       "    </tr>\n",
       "    <tr>\n",
       "      <th>mean</th>\n",
       "      <td>4.777778</td>\n",
       "      <td>4.777778</td>\n",
       "      <td>5.555556</td>\n",
       "      <td>4.888889</td>\n",
       "    </tr>\n",
       "    <tr>\n",
       "      <th>std</th>\n",
       "      <td>3.153481</td>\n",
       "      <td>3.192874</td>\n",
       "      <td>3.045944</td>\n",
       "      <td>2.803767</td>\n",
       "    </tr>\n",
       "    <tr>\n",
       "      <th>min</th>\n",
       "      <td>1.000000</td>\n",
       "      <td>1.000000</td>\n",
       "      <td>1.000000</td>\n",
       "      <td>1.000000</td>\n",
       "    </tr>\n",
       "    <tr>\n",
       "      <th>25%</th>\n",
       "      <td>3.000000</td>\n",
       "      <td>3.000000</td>\n",
       "      <td>3.000000</td>\n",
       "      <td>3.000000</td>\n",
       "    </tr>\n",
       "    <tr>\n",
       "      <th>50%</th>\n",
       "      <td>3.000000</td>\n",
       "      <td>3.000000</td>\n",
       "      <td>7.000000</td>\n",
       "      <td>5.000000</td>\n",
       "    </tr>\n",
       "    <tr>\n",
       "      <th>75%</th>\n",
       "      <td>8.000000</td>\n",
       "      <td>7.000000</td>\n",
       "      <td>8.000000</td>\n",
       "      <td>6.000000</td>\n",
       "    </tr>\n",
       "    <tr>\n",
       "      <th>max</th>\n",
       "      <td>10.000000</td>\n",
       "      <td>10.000000</td>\n",
       "      <td>9.000000</td>\n",
       "      <td>10.000000</td>\n",
       "    </tr>\n",
       "  </tbody>\n",
       "</table>\n",
       "</div>"
      ],
      "text/plain": [
       "           Reach     Impact  Confidence    Efforts\n",
       "count   9.000000   9.000000    9.000000   9.000000\n",
       "mean    4.777778   4.777778    5.555556   4.888889\n",
       "std     3.153481   3.192874    3.045944   2.803767\n",
       "min     1.000000   1.000000    1.000000   1.000000\n",
       "25%     3.000000   3.000000    3.000000   3.000000\n",
       "50%     3.000000   3.000000    7.000000   5.000000\n",
       "75%     8.000000   7.000000    8.000000   6.000000\n",
       "max    10.000000  10.000000    9.000000  10.000000"
      ]
     },
     "metadata": {},
     "output_type": "display_data"
    },
    {
     "name": "stdout",
     "output_type": "stream",
     "text": [
      "\n",
      "Количество явных дубликатов в данных: 0\n",
      "\n",
      "Количество пропусков в данных\n"
     ]
    },
    {
     "data": {
      "text/plain": [
       "Hypothesis    0\n",
       "Reach         0\n",
       "Impact        0\n",
       "Confidence    0\n",
       "Efforts       0\n",
       "dtype: int64"
      ]
     },
     "metadata": {},
     "output_type": "display_data"
    }
   ],
   "source": [
    "# чтение данных по гипотезам\n",
    "hypothesis = pd.read_csv('/Users/danilvlasenko/Desktop/projects_datasets/hypothesis.csv')\n",
    "\n",
    "# основная информация о данных по гипотезам\n",
    "data_main_info(hypothesis)"
   ]
  },
  {
   "cell_type": "markdown",
   "metadata": {},
   "source": [
    "В данных представлено 9 предварительно оцененных гипотез.\n",
    "\n",
    "Описание столбцов:\n",
    "- `Hypothesis` — краткое описание гипотезы;\n",
    "- `Reach` — охват пользователей по 10-балльной шкале;\n",
    "- `Impact` — влияние на пользователей по 10-балльной шкале;\n",
    "- `Confidence` — уверенность в гипотезе по 10-балльной шкале;\n",
    "- `Efforts` — затраты ресурсов на проверку гипотезы по 10-балльной шкале. Чем больше значение Efforts, тем дороже проверка гипотезы.\n",
    "\n",
    "Проблемы с данными отсутствуют. Используем датасет `hypothesis` для приоритизации гипотез"
   ]
  },
  {
   "cell_type": "markdown",
   "metadata": {},
   "source": [
    "### Приоритизация гипотез"
   ]
  },
  {
   "cell_type": "markdown",
   "metadata": {},
   "source": [
    "Произведем приоритизацию имеющихся 9 гипотез - важно определить первоочередную гипотезу для проверки, которая не сильно сложная для подготовки и оптимальная по трудозатратам команды.\n",
    "\n",
    "Оценка будет производиться по фреймворкам ICE и RICE - добавим в датасет `hypothesis` новые расчетные столбцы ICE и RICE соответственно."
   ]
  },
  {
   "cell_type": "code",
   "execution_count": 4,
   "metadata": {},
   "outputs": [
    {
     "data": {
      "text/html": [
       "<div>\n",
       "<style scoped>\n",
       "    .dataframe tbody tr th:only-of-type {\n",
       "        vertical-align: middle;\n",
       "    }\n",
       "\n",
       "    .dataframe tbody tr th {\n",
       "        vertical-align: top;\n",
       "    }\n",
       "\n",
       "    .dataframe thead th {\n",
       "        text-align: right;\n",
       "    }\n",
       "</style>\n",
       "<table border=\"1\" class=\"dataframe\">\n",
       "  <thead>\n",
       "    <tr style=\"text-align: right;\">\n",
       "      <th></th>\n",
       "      <th>Hypothesis</th>\n",
       "      <th>ICE</th>\n",
       "    </tr>\n",
       "  </thead>\n",
       "  <tbody>\n",
       "    <tr>\n",
       "      <th>8</th>\n",
       "      <td>Запустить акцию, дающую скидку на товар в день...</td>\n",
       "      <td>16.20</td>\n",
       "    </tr>\n",
       "    <tr>\n",
       "      <th>0</th>\n",
       "      <td>Добавить два новых канала привлечения трафика,...</td>\n",
       "      <td>13.33</td>\n",
       "    </tr>\n",
       "    <tr>\n",
       "      <th>7</th>\n",
       "      <td>Добавить форму подписки на все основные страни...</td>\n",
       "      <td>11.20</td>\n",
       "    </tr>\n",
       "    <tr>\n",
       "      <th>6</th>\n",
       "      <td>Показать на главной странице баннеры с актуаль...</td>\n",
       "      <td>8.00</td>\n",
       "    </tr>\n",
       "    <tr>\n",
       "      <th>2</th>\n",
       "      <td>Добавить блоки рекомендаций товаров на сайт ин...</td>\n",
       "      <td>7.00</td>\n",
       "    </tr>\n",
       "    <tr>\n",
       "      <th>1</th>\n",
       "      <td>Запустить собственную службу доставки, что сок...</td>\n",
       "      <td>2.00</td>\n",
       "    </tr>\n",
       "    <tr>\n",
       "      <th>5</th>\n",
       "      <td>Добавить страницу отзывов клиентов о магазине,...</td>\n",
       "      <td>1.33</td>\n",
       "    </tr>\n",
       "    <tr>\n",
       "      <th>3</th>\n",
       "      <td>Изменить структура категорий, что увеличит кон...</td>\n",
       "      <td>1.12</td>\n",
       "    </tr>\n",
       "    <tr>\n",
       "      <th>4</th>\n",
       "      <td>Изменить цвет фона главной страницы, чтобы уве...</td>\n",
       "      <td>1.00</td>\n",
       "    </tr>\n",
       "  </tbody>\n",
       "</table>\n",
       "</div>"
      ],
      "text/plain": [
       "                                          Hypothesis    ICE\n",
       "8  Запустить акцию, дающую скидку на товар в день...  16.20\n",
       "0  Добавить два новых канала привлечения трафика,...  13.33\n",
       "7  Добавить форму подписки на все основные страни...  11.20\n",
       "6  Показать на главной странице баннеры с актуаль...   8.00\n",
       "2  Добавить блоки рекомендаций товаров на сайт ин...   7.00\n",
       "1  Запустить собственную службу доставки, что сок...   2.00\n",
       "5  Добавить страницу отзывов клиентов о магазине,...   1.33\n",
       "3  Изменить структура категорий, что увеличит кон...   1.12\n",
       "4  Изменить цвет фона главной страницы, чтобы уве...   1.00"
      ]
     },
     "execution_count": 4,
     "metadata": {},
     "output_type": "execute_result"
    }
   ],
   "source": [
    "# приоритизация гипотез по ICE\n",
    "\n",
    "# расчет ICE\n",
    "hypothesis['ICE'] = ((hypothesis['Impact'] * hypothesis['Confidence']) / hypothesis['Efforts']).round(2)\n",
    "\n",
    "# сортировка по убыванию значения и вывод гипотез\n",
    "hypothesis[['Hypothesis', 'ICE']].sort_values(by='ICE', ascending=False)"
   ]
  },
  {
   "cell_type": "code",
   "execution_count": 5,
   "metadata": {},
   "outputs": [
    {
     "name": "stdout",
     "output_type": "stream",
     "text": [
      "Запустить акцию, дающую скидку на товар в день рождения\n"
     ]
    }
   ],
   "source": [
    "# вывод полного текста гипотезы №9\n",
    "# вывод по индексу - индекс 9-ой гипотезы это 8\n",
    "print(hypothesis['Hypothesis'][8])"
   ]
  },
  {
   "cell_type": "markdown",
   "metadata": {},
   "source": [
    "Самую высокую оценку получила гипотеза №9. Но это был расчет без учета параметра возможно охвата `Reach`. Посчитаем с его учетом."
   ]
  },
  {
   "cell_type": "code",
   "execution_count": 6,
   "metadata": {},
   "outputs": [
    {
     "data": {
      "text/html": [
       "<div>\n",
       "<style scoped>\n",
       "    .dataframe tbody tr th:only-of-type {\n",
       "        vertical-align: middle;\n",
       "    }\n",
       "\n",
       "    .dataframe tbody tr th {\n",
       "        vertical-align: top;\n",
       "    }\n",
       "\n",
       "    .dataframe thead th {\n",
       "        text-align: right;\n",
       "    }\n",
       "</style>\n",
       "<table border=\"1\" class=\"dataframe\">\n",
       "  <thead>\n",
       "    <tr style=\"text-align: right;\">\n",
       "      <th></th>\n",
       "      <th>Hypothesis</th>\n",
       "      <th>RICE</th>\n",
       "    </tr>\n",
       "  </thead>\n",
       "  <tbody>\n",
       "    <tr>\n",
       "      <th>7</th>\n",
       "      <td>Добавить форму подписки на все основные страни...</td>\n",
       "      <td>112.0</td>\n",
       "    </tr>\n",
       "    <tr>\n",
       "      <th>2</th>\n",
       "      <td>Добавить блоки рекомендаций товаров на сайт ин...</td>\n",
       "      <td>56.0</td>\n",
       "    </tr>\n",
       "    <tr>\n",
       "      <th>0</th>\n",
       "      <td>Добавить два новых канала привлечения трафика,...</td>\n",
       "      <td>40.0</td>\n",
       "    </tr>\n",
       "    <tr>\n",
       "      <th>6</th>\n",
       "      <td>Показать на главной странице баннеры с актуаль...</td>\n",
       "      <td>40.0</td>\n",
       "    </tr>\n",
       "    <tr>\n",
       "      <th>8</th>\n",
       "      <td>Запустить акцию, дающую скидку на товар в день...</td>\n",
       "      <td>16.2</td>\n",
       "    </tr>\n",
       "    <tr>\n",
       "      <th>3</th>\n",
       "      <td>Изменить структура категорий, что увеличит кон...</td>\n",
       "      <td>9.0</td>\n",
       "    </tr>\n",
       "    <tr>\n",
       "      <th>1</th>\n",
       "      <td>Запустить собственную службу доставки, что сок...</td>\n",
       "      <td>4.0</td>\n",
       "    </tr>\n",
       "    <tr>\n",
       "      <th>5</th>\n",
       "      <td>Добавить страницу отзывов клиентов о магазине,...</td>\n",
       "      <td>4.0</td>\n",
       "    </tr>\n",
       "    <tr>\n",
       "      <th>4</th>\n",
       "      <td>Изменить цвет фона главной страницы, чтобы уве...</td>\n",
       "      <td>3.0</td>\n",
       "    </tr>\n",
       "  </tbody>\n",
       "</table>\n",
       "</div>"
      ],
      "text/plain": [
       "                                          Hypothesis   RICE\n",
       "7  Добавить форму подписки на все основные страни...  112.0\n",
       "2  Добавить блоки рекомендаций товаров на сайт ин...   56.0\n",
       "0  Добавить два новых канала привлечения трафика,...   40.0\n",
       "6  Показать на главной странице баннеры с актуаль...   40.0\n",
       "8  Запустить акцию, дающую скидку на товар в день...   16.2\n",
       "3  Изменить структура категорий, что увеличит кон...    9.0\n",
       "1  Запустить собственную службу доставки, что сок...    4.0\n",
       "5  Добавить страницу отзывов клиентов о магазине,...    4.0\n",
       "4  Изменить цвет фона главной страницы, чтобы уве...    3.0"
      ]
     },
     "execution_count": 6,
     "metadata": {},
     "output_type": "execute_result"
    }
   ],
   "source": [
    "# приоритизация гипотез по RICE\n",
    "\n",
    "# расчет RICE\n",
    "hypothesis['RICE'] = (((hypothesis['Reach'] * hypothesis['Impact'] * hypothesis['Confidence']) \n",
    "                      / hypothesis['Efforts'])).round(2)\n",
    "\n",
    "# сортировка по убыванию значения и вывод гипотез\n",
    "hypothesis[['Hypothesis', 'RICE']].sort_values(by='RICE', ascending=False)"
   ]
  },
  {
   "cell_type": "code",
   "execution_count": 7,
   "metadata": {},
   "outputs": [
    {
     "name": "stdout",
     "output_type": "stream",
     "text": [
      "Добавить форму подписки на все основные страницы, чтобы собрать базу клиентов для email-рассылок\n"
     ]
    }
   ],
   "source": [
    "# вывод полной формулировки гипотезы 8\n",
    "print(hypothesis['Hypothesis'][7])"
   ]
  },
  {
   "cell_type": "markdown",
   "metadata": {},
   "source": [
    "C учетом охвата, лидирует гипотеза №8.\n",
    "\n",
    "В A/B-тесте также важна большая выборка респондентов, поэтому с учетом охвата, стоит отдать приоритет и запустить тест именно по гипотезе №8. Добавление формы подписки позволит собрать адреса потенциальных клиентов, а это открывает дополнительные возможности по привлечению уже не совсем \"холодных\" потециальных клиентов.\n",
    "\n",
    "Соответственно, в тесте будет 2 группы: у одной будет форма подписки на рассылки, а у другой не будет. Посмотрим, как это будет влиять на выручку и средний чек.\n",
    "\n",
    "Приступаем к тесту."
   ]
  },
  {
   "cell_type": "markdown",
   "metadata": {},
   "source": [
    "## Проведение A/B-теста"
   ]
  },
  {
   "cell_type": "markdown",
   "metadata": {},
   "source": [
    "A/B-тест проведен, результаты получены.\n",
    "\n",
    "Информацию по посещению интернет-магазина за период теста имеем в датасете `visitors`, информацию по совершенным покупкам - в датасете `orders`."
   ]
  },
  {
   "cell_type": "markdown",
   "metadata": {},
   "source": [
    "### Получение данных теста"
   ]
  },
  {
   "cell_type": "markdown",
   "metadata": {},
   "source": [
    "В первую очередь, изучим оба файла более подробно."
   ]
  },
  {
   "cell_type": "markdown",
   "metadata": {},
   "source": [
    "#### Информация о посещениях"
   ]
  },
  {
   "cell_type": "code",
   "execution_count": 8,
   "metadata": {},
   "outputs": [
    {
     "name": "stdout",
     "output_type": "stream",
     "text": [
      "Шапка и общая информация о данных\n"
     ]
    },
    {
     "data": {
      "text/html": [
       "<div>\n",
       "<style scoped>\n",
       "    .dataframe tbody tr th:only-of-type {\n",
       "        vertical-align: middle;\n",
       "    }\n",
       "\n",
       "    .dataframe tbody tr th {\n",
       "        vertical-align: top;\n",
       "    }\n",
       "\n",
       "    .dataframe thead th {\n",
       "        text-align: right;\n",
       "    }\n",
       "</style>\n",
       "<table border=\"1\" class=\"dataframe\">\n",
       "  <thead>\n",
       "    <tr style=\"text-align: right;\">\n",
       "      <th></th>\n",
       "      <th>date</th>\n",
       "      <th>group</th>\n",
       "      <th>visitors</th>\n",
       "    </tr>\n",
       "  </thead>\n",
       "  <tbody>\n",
       "    <tr>\n",
       "      <th>0</th>\n",
       "      <td>2019-08-01</td>\n",
       "      <td>A</td>\n",
       "      <td>719</td>\n",
       "    </tr>\n",
       "    <tr>\n",
       "      <th>1</th>\n",
       "      <td>2019-08-02</td>\n",
       "      <td>A</td>\n",
       "      <td>619</td>\n",
       "    </tr>\n",
       "    <tr>\n",
       "      <th>2</th>\n",
       "      <td>2019-08-03</td>\n",
       "      <td>A</td>\n",
       "      <td>507</td>\n",
       "    </tr>\n",
       "    <tr>\n",
       "      <th>3</th>\n",
       "      <td>2019-08-04</td>\n",
       "      <td>A</td>\n",
       "      <td>717</td>\n",
       "    </tr>\n",
       "    <tr>\n",
       "      <th>4</th>\n",
       "      <td>2019-08-05</td>\n",
       "      <td>A</td>\n",
       "      <td>756</td>\n",
       "    </tr>\n",
       "    <tr>\n",
       "      <th>5</th>\n",
       "      <td>2019-08-06</td>\n",
       "      <td>A</td>\n",
       "      <td>667</td>\n",
       "    </tr>\n",
       "    <tr>\n",
       "      <th>6</th>\n",
       "      <td>2019-08-07</td>\n",
       "      <td>A</td>\n",
       "      <td>644</td>\n",
       "    </tr>\n",
       "    <tr>\n",
       "      <th>7</th>\n",
       "      <td>2019-08-08</td>\n",
       "      <td>A</td>\n",
       "      <td>610</td>\n",
       "    </tr>\n",
       "    <tr>\n",
       "      <th>8</th>\n",
       "      <td>2019-08-09</td>\n",
       "      <td>A</td>\n",
       "      <td>617</td>\n",
       "    </tr>\n",
       "    <tr>\n",
       "      <th>9</th>\n",
       "      <td>2019-08-10</td>\n",
       "      <td>A</td>\n",
       "      <td>406</td>\n",
       "    </tr>\n",
       "  </tbody>\n",
       "</table>\n",
       "</div>"
      ],
      "text/plain": [
       "         date group  visitors\n",
       "0  2019-08-01     A       719\n",
       "1  2019-08-02     A       619\n",
       "2  2019-08-03     A       507\n",
       "3  2019-08-04     A       717\n",
       "4  2019-08-05     A       756\n",
       "5  2019-08-06     A       667\n",
       "6  2019-08-07     A       644\n",
       "7  2019-08-08     A       610\n",
       "8  2019-08-09     A       617\n",
       "9  2019-08-10     A       406"
      ]
     },
     "metadata": {},
     "output_type": "display_data"
    },
    {
     "name": "stdout",
     "output_type": "stream",
     "text": [
      "<class 'pandas.core.frame.DataFrame'>\n",
      "RangeIndex: 62 entries, 0 to 61\n",
      "Data columns (total 3 columns):\n",
      " #   Column    Non-Null Count  Dtype \n",
      "---  ------    --------------  ----- \n",
      " 0   date      62 non-null     object\n",
      " 1   group     62 non-null     object\n",
      " 2   visitors  62 non-null     int64 \n",
      "dtypes: int64(1), object(2)\n",
      "memory usage: 1.6+ KB\n",
      "None\n",
      "\n",
      "Статистическая информация о данных\n"
     ]
    },
    {
     "data": {
      "text/html": [
       "<div>\n",
       "<style scoped>\n",
       "    .dataframe tbody tr th:only-of-type {\n",
       "        vertical-align: middle;\n",
       "    }\n",
       "\n",
       "    .dataframe tbody tr th {\n",
       "        vertical-align: top;\n",
       "    }\n",
       "\n",
       "    .dataframe thead th {\n",
       "        text-align: right;\n",
       "    }\n",
       "</style>\n",
       "<table border=\"1\" class=\"dataframe\">\n",
       "  <thead>\n",
       "    <tr style=\"text-align: right;\">\n",
       "      <th></th>\n",
       "      <th>visitors</th>\n",
       "    </tr>\n",
       "  </thead>\n",
       "  <tbody>\n",
       "    <tr>\n",
       "      <th>count</th>\n",
       "      <td>62.000000</td>\n",
       "    </tr>\n",
       "    <tr>\n",
       "      <th>mean</th>\n",
       "      <td>607.290323</td>\n",
       "    </tr>\n",
       "    <tr>\n",
       "      <th>std</th>\n",
       "      <td>114.400560</td>\n",
       "    </tr>\n",
       "    <tr>\n",
       "      <th>min</th>\n",
       "      <td>361.000000</td>\n",
       "    </tr>\n",
       "    <tr>\n",
       "      <th>25%</th>\n",
       "      <td>534.000000</td>\n",
       "    </tr>\n",
       "    <tr>\n",
       "      <th>50%</th>\n",
       "      <td>624.500000</td>\n",
       "    </tr>\n",
       "    <tr>\n",
       "      <th>75%</th>\n",
       "      <td>710.500000</td>\n",
       "    </tr>\n",
       "    <tr>\n",
       "      <th>max</th>\n",
       "      <td>770.000000</td>\n",
       "    </tr>\n",
       "  </tbody>\n",
       "</table>\n",
       "</div>"
      ],
      "text/plain": [
       "         visitors\n",
       "count   62.000000\n",
       "mean   607.290323\n",
       "std    114.400560\n",
       "min    361.000000\n",
       "25%    534.000000\n",
       "50%    624.500000\n",
       "75%    710.500000\n",
       "max    770.000000"
      ]
     },
     "metadata": {},
     "output_type": "display_data"
    },
    {
     "name": "stdout",
     "output_type": "stream",
     "text": [
      "\n",
      "Количество явных дубликатов в данных: 0\n",
      "\n",
      "Количество пропусков в данных\n"
     ]
    },
    {
     "data": {
      "text/plain": [
       "date        0\n",
       "group       0\n",
       "visitors    0\n",
       "dtype: int64"
      ]
     },
     "metadata": {},
     "output_type": "display_data"
    }
   ],
   "source": [
    "# чтение файла visitors\n",
    "visitors = pd.read_csv('/Users/danilvlasenko/Desktop/projects_datasets/visitors.csv')\n",
    "\n",
    "# получение основной информации\n",
    "data_main_info(visitors)"
   ]
  },
  {
   "cell_type": "markdown",
   "metadata": {},
   "source": [
    "В данных по посещениям имеем следующие столбцы:\n",
    "- `date` — дата;\n",
    "- `group` — группа A/B-теста;\n",
    "- `visitors` — количество пользователей в указанную дату в указанной группе A/B-теста.\n",
    "\n",
    "Пропуски и явные дубликаты в данных отсутствуют. Тип данных в будущем стоит изменить только у `date`\n",
    "\n",
    "Судя по 62 строкам в датасете и первым 10 значениям шапки (день увеличивается на 1), имеем статистику по 2-м группам за 31 день (полностью август 2019-го). Посмотрим, на всякий случай, минимальное и максимальное имеющиеся значения даты."
   ]
  },
  {
   "cell_type": "code",
   "execution_count": 9,
   "metadata": {},
   "outputs": [
    {
     "name": "stdout",
     "output_type": "stream",
     "text": [
      "Начало теста: 2019-08-01\n",
      "Окончание теста: 2019-08-31\n"
     ]
    }
   ],
   "source": [
    "print('Начало теста:', visitors['date'].min())\n",
    "print('Окончание теста:', visitors['date'].max())"
   ]
  },
  {
   "cell_type": "markdown",
   "metadata": {},
   "source": [
    "Действительно, тест гипотезы был проведен в августе 2019-го."
   ]
  },
  {
   "cell_type": "markdown",
   "metadata": {},
   "source": [
    "Изменим тип данных в столбце с датой"
   ]
  },
  {
   "cell_type": "code",
   "execution_count": 10,
   "metadata": {},
   "outputs": [
    {
     "name": "stdout",
     "output_type": "stream",
     "text": [
      "<class 'pandas.core.frame.DataFrame'>\n",
      "RangeIndex: 62 entries, 0 to 61\n",
      "Data columns (total 3 columns):\n",
      " #   Column    Non-Null Count  Dtype         \n",
      "---  ------    --------------  -----         \n",
      " 0   date      62 non-null     datetime64[ns]\n",
      " 1   group     62 non-null     object        \n",
      " 2   visitors  62 non-null     int64         \n",
      "dtypes: datetime64[ns](1), int64(1), object(1)\n",
      "memory usage: 1.6+ KB\n"
     ]
    }
   ],
   "source": [
    "# приведение даты\n",
    "visitors['date'] = visitors['date'].map(\n",
    "    lambda x: dt.datetime.strptime(x, '%Y-%m-%d')\n",
    ")\n",
    "\n",
    "# проверка изменения типа данных в столбце с датой\n",
    "visitors.info()"
   ]
  },
  {
   "cell_type": "markdown",
   "metadata": {},
   "source": [
    "#### Информация о покупках"
   ]
  },
  {
   "cell_type": "code",
   "execution_count": 11,
   "metadata": {},
   "outputs": [
    {
     "name": "stdout",
     "output_type": "stream",
     "text": [
      "Шапка и общая информация о данных\n"
     ]
    },
    {
     "data": {
      "text/html": [
       "<div>\n",
       "<style scoped>\n",
       "    .dataframe tbody tr th:only-of-type {\n",
       "        vertical-align: middle;\n",
       "    }\n",
       "\n",
       "    .dataframe tbody tr th {\n",
       "        vertical-align: top;\n",
       "    }\n",
       "\n",
       "    .dataframe thead th {\n",
       "        text-align: right;\n",
       "    }\n",
       "</style>\n",
       "<table border=\"1\" class=\"dataframe\">\n",
       "  <thead>\n",
       "    <tr style=\"text-align: right;\">\n",
       "      <th></th>\n",
       "      <th>transactionId</th>\n",
       "      <th>visitorId</th>\n",
       "      <th>date</th>\n",
       "      <th>revenue</th>\n",
       "      <th>group</th>\n",
       "    </tr>\n",
       "  </thead>\n",
       "  <tbody>\n",
       "    <tr>\n",
       "      <th>0</th>\n",
       "      <td>3667963787</td>\n",
       "      <td>3312258926</td>\n",
       "      <td>2019-08-15</td>\n",
       "      <td>1650</td>\n",
       "      <td>B</td>\n",
       "    </tr>\n",
       "    <tr>\n",
       "      <th>1</th>\n",
       "      <td>2804400009</td>\n",
       "      <td>3642806036</td>\n",
       "      <td>2019-08-15</td>\n",
       "      <td>730</td>\n",
       "      <td>B</td>\n",
       "    </tr>\n",
       "    <tr>\n",
       "      <th>2</th>\n",
       "      <td>2961555356</td>\n",
       "      <td>4069496402</td>\n",
       "      <td>2019-08-15</td>\n",
       "      <td>400</td>\n",
       "      <td>A</td>\n",
       "    </tr>\n",
       "    <tr>\n",
       "      <th>3</th>\n",
       "      <td>3797467345</td>\n",
       "      <td>1196621759</td>\n",
       "      <td>2019-08-15</td>\n",
       "      <td>9759</td>\n",
       "      <td>B</td>\n",
       "    </tr>\n",
       "    <tr>\n",
       "      <th>4</th>\n",
       "      <td>2282983706</td>\n",
       "      <td>2322279887</td>\n",
       "      <td>2019-08-15</td>\n",
       "      <td>2308</td>\n",
       "      <td>B</td>\n",
       "    </tr>\n",
       "    <tr>\n",
       "      <th>5</th>\n",
       "      <td>182168103</td>\n",
       "      <td>935554773</td>\n",
       "      <td>2019-08-15</td>\n",
       "      <td>2210</td>\n",
       "      <td>B</td>\n",
       "    </tr>\n",
       "    <tr>\n",
       "      <th>6</th>\n",
       "      <td>398296753</td>\n",
       "      <td>2900797465</td>\n",
       "      <td>2019-08-15</td>\n",
       "      <td>1860</td>\n",
       "      <td>B</td>\n",
       "    </tr>\n",
       "    <tr>\n",
       "      <th>7</th>\n",
       "      <td>2626614568</td>\n",
       "      <td>78758296</td>\n",
       "      <td>2019-08-15</td>\n",
       "      <td>1044</td>\n",
       "      <td>A</td>\n",
       "    </tr>\n",
       "    <tr>\n",
       "      <th>8</th>\n",
       "      <td>1576988021</td>\n",
       "      <td>295230930</td>\n",
       "      <td>2019-08-15</td>\n",
       "      <td>13710</td>\n",
       "      <td>A</td>\n",
       "    </tr>\n",
       "    <tr>\n",
       "      <th>9</th>\n",
       "      <td>1506739906</td>\n",
       "      <td>1882260405</td>\n",
       "      <td>2019-08-15</td>\n",
       "      <td>1855</td>\n",
       "      <td>B</td>\n",
       "    </tr>\n",
       "  </tbody>\n",
       "</table>\n",
       "</div>"
      ],
      "text/plain": [
       "   transactionId   visitorId        date  revenue group\n",
       "0     3667963787  3312258926  2019-08-15     1650     B\n",
       "1     2804400009  3642806036  2019-08-15      730     B\n",
       "2     2961555356  4069496402  2019-08-15      400     A\n",
       "3     3797467345  1196621759  2019-08-15     9759     B\n",
       "4     2282983706  2322279887  2019-08-15     2308     B\n",
       "5      182168103   935554773  2019-08-15     2210     B\n",
       "6      398296753  2900797465  2019-08-15     1860     B\n",
       "7     2626614568    78758296  2019-08-15     1044     A\n",
       "8     1576988021   295230930  2019-08-15    13710     A\n",
       "9     1506739906  1882260405  2019-08-15     1855     B"
      ]
     },
     "metadata": {},
     "output_type": "display_data"
    },
    {
     "name": "stdout",
     "output_type": "stream",
     "text": [
      "<class 'pandas.core.frame.DataFrame'>\n",
      "RangeIndex: 1197 entries, 0 to 1196\n",
      "Data columns (total 5 columns):\n",
      " #   Column         Non-Null Count  Dtype \n",
      "---  ------         --------------  ----- \n",
      " 0   transactionId  1197 non-null   int64 \n",
      " 1   visitorId      1197 non-null   int64 \n",
      " 2   date           1197 non-null   object\n",
      " 3   revenue        1197 non-null   int64 \n",
      " 4   group          1197 non-null   object\n",
      "dtypes: int64(3), object(2)\n",
      "memory usage: 46.9+ KB\n",
      "None\n",
      "\n",
      "Статистическая информация о данных\n"
     ]
    },
    {
     "data": {
      "text/html": [
       "<div>\n",
       "<style scoped>\n",
       "    .dataframe tbody tr th:only-of-type {\n",
       "        vertical-align: middle;\n",
       "    }\n",
       "\n",
       "    .dataframe tbody tr th {\n",
       "        vertical-align: top;\n",
       "    }\n",
       "\n",
       "    .dataframe thead th {\n",
       "        text-align: right;\n",
       "    }\n",
       "</style>\n",
       "<table border=\"1\" class=\"dataframe\">\n",
       "  <thead>\n",
       "    <tr style=\"text-align: right;\">\n",
       "      <th></th>\n",
       "      <th>transactionId</th>\n",
       "      <th>visitorId</th>\n",
       "      <th>revenue</th>\n",
       "    </tr>\n",
       "  </thead>\n",
       "  <tbody>\n",
       "    <tr>\n",
       "      <th>count</th>\n",
       "      <td>1.197000e+03</td>\n",
       "      <td>1.197000e+03</td>\n",
       "      <td>1.197000e+03</td>\n",
       "    </tr>\n",
       "    <tr>\n",
       "      <th>mean</th>\n",
       "      <td>2.155621e+09</td>\n",
       "      <td>2.165960e+09</td>\n",
       "      <td>8.348006e+03</td>\n",
       "    </tr>\n",
       "    <tr>\n",
       "      <th>std</th>\n",
       "      <td>1.229085e+09</td>\n",
       "      <td>1.236014e+09</td>\n",
       "      <td>3.919113e+04</td>\n",
       "    </tr>\n",
       "    <tr>\n",
       "      <th>min</th>\n",
       "      <td>1.062393e+06</td>\n",
       "      <td>5.114589e+06</td>\n",
       "      <td>5.000000e+01</td>\n",
       "    </tr>\n",
       "    <tr>\n",
       "      <th>25%</th>\n",
       "      <td>1.166776e+09</td>\n",
       "      <td>1.111826e+09</td>\n",
       "      <td>1.220000e+03</td>\n",
       "    </tr>\n",
       "    <tr>\n",
       "      <th>50%</th>\n",
       "      <td>2.145194e+09</td>\n",
       "      <td>2.217985e+09</td>\n",
       "      <td>2.978000e+03</td>\n",
       "    </tr>\n",
       "    <tr>\n",
       "      <th>75%</th>\n",
       "      <td>3.237740e+09</td>\n",
       "      <td>3.177606e+09</td>\n",
       "      <td>8.290000e+03</td>\n",
       "    </tr>\n",
       "    <tr>\n",
       "      <th>max</th>\n",
       "      <td>4.293856e+09</td>\n",
       "      <td>4.283872e+09</td>\n",
       "      <td>1.294500e+06</td>\n",
       "    </tr>\n",
       "  </tbody>\n",
       "</table>\n",
       "</div>"
      ],
      "text/plain": [
       "       transactionId     visitorId       revenue\n",
       "count   1.197000e+03  1.197000e+03  1.197000e+03\n",
       "mean    2.155621e+09  2.165960e+09  8.348006e+03\n",
       "std     1.229085e+09  1.236014e+09  3.919113e+04\n",
       "min     1.062393e+06  5.114589e+06  5.000000e+01\n",
       "25%     1.166776e+09  1.111826e+09  1.220000e+03\n",
       "50%     2.145194e+09  2.217985e+09  2.978000e+03\n",
       "75%     3.237740e+09  3.177606e+09  8.290000e+03\n",
       "max     4.293856e+09  4.283872e+09  1.294500e+06"
      ]
     },
     "metadata": {},
     "output_type": "display_data"
    },
    {
     "name": "stdout",
     "output_type": "stream",
     "text": [
      "\n",
      "Количество явных дубликатов в данных: 0\n",
      "\n",
      "Количество пропусков в данных\n"
     ]
    },
    {
     "data": {
      "text/plain": [
       "transactionId    0\n",
       "visitorId        0\n",
       "date             0\n",
       "revenue          0\n",
       "group            0\n",
       "dtype: int64"
      ]
     },
     "metadata": {},
     "output_type": "display_data"
    }
   ],
   "source": [
    "# чтение файла orders\n",
    "orders = pd.read_csv('/Users/danilvlasenko/Desktop/projects_datasets/orders.csv')\n",
    "\n",
    "# получение основной информации\n",
    "data_main_info(orders)"
   ]
  },
  {
   "cell_type": "markdown",
   "metadata": {},
   "source": [
    "В данных по покупкам имеем следующие столбцы:\n",
    "- `transactionId` — идентификатор заказа;\n",
    "- `visitorId` — идентификатор пользователя, совершившего заказ;\n",
    "- `date` — дата, когда был совершён заказ;\n",
    "- `revenue` — выручка заказа;\n",
    "- `group` — группа A/B-теста, в которую попал заказ.\n",
    "\n",
    "Пропуски и явные дубликаты в данных отсутствуют. Тип данных в будущем стоит изменить только у `date`.\n",
    "\n",
    "За 31 день тестирования, всего было совершено 1197 покупок."
   ]
  },
  {
   "cell_type": "code",
   "execution_count": 12,
   "metadata": {},
   "outputs": [
    {
     "name": "stdout",
     "output_type": "stream",
     "text": [
      "<class 'pandas.core.frame.DataFrame'>\n",
      "RangeIndex: 1197 entries, 0 to 1196\n",
      "Data columns (total 5 columns):\n",
      " #   Column         Non-Null Count  Dtype         \n",
      "---  ------         --------------  -----         \n",
      " 0   transactionId  1197 non-null   int64         \n",
      " 1   visitorId      1197 non-null   int64         \n",
      " 2   date           1197 non-null   datetime64[ns]\n",
      " 3   revenue        1197 non-null   int64         \n",
      " 4   group          1197 non-null   object        \n",
      "dtypes: datetime64[ns](1), int64(3), object(1)\n",
      "memory usage: 46.9+ KB\n"
     ]
    }
   ],
   "source": [
    "# приведение даты\n",
    "orders['date'] = orders['date'].map(\n",
    "    lambda x: dt.datetime.strptime(x, '%Y-%m-%d')\n",
    ")\n",
    "\n",
    "# проверка изменения типа данных в столбце с датой\n",
    "orders.info()"
   ]
  },
  {
   "cell_type": "markdown",
   "metadata": {},
   "source": [
    "#### Общий обзор групп A и B"
   ]
  },
  {
   "cell_type": "markdown",
   "metadata": {},
   "source": [
    "Перед анализом, еще немного посмотрим на данные.\n",
    "\n",
    "Как минимум, стоит посмотреть на число попавших под тест в каждой группе. Для этого сгруппипируем по группам данные из датасета `orders`."
   ]
  },
  {
   "cell_type": "code",
   "execution_count": 13,
   "metadata": {},
   "outputs": [
    {
     "data": {
      "text/html": [
       "<div>\n",
       "<style scoped>\n",
       "    .dataframe tbody tr th:only-of-type {\n",
       "        vertical-align: middle;\n",
       "    }\n",
       "\n",
       "    .dataframe tbody tr th {\n",
       "        vertical-align: top;\n",
       "    }\n",
       "\n",
       "    .dataframe thead th {\n",
       "        text-align: right;\n",
       "    }\n",
       "</style>\n",
       "<table border=\"1\" class=\"dataframe\">\n",
       "  <thead>\n",
       "    <tr style=\"text-align: right;\">\n",
       "      <th></th>\n",
       "      <th>visitorId</th>\n",
       "    </tr>\n",
       "    <tr>\n",
       "      <th>group</th>\n",
       "      <th></th>\n",
       "    </tr>\n",
       "  </thead>\n",
       "  <tbody>\n",
       "    <tr>\n",
       "      <th>A</th>\n",
       "      <td>503</td>\n",
       "    </tr>\n",
       "    <tr>\n",
       "      <th>B</th>\n",
       "      <td>586</td>\n",
       "    </tr>\n",
       "  </tbody>\n",
       "</table>\n",
       "</div>"
      ],
      "text/plain": [
       "       visitorId\n",
       "group           \n",
       "A            503\n",
       "B            586"
      ]
     },
     "execution_count": 13,
     "metadata": {},
     "output_type": "execute_result"
    }
   ],
   "source": [
    "# вывод численности групп\n",
    "orders.groupby('group').agg({'visitorId': 'nunique'})"
   ]
  },
  {
   "cell_type": "markdown",
   "metadata": {},
   "source": [
    "Имеем 503 участника в группе A и 586 участников в группе B. Различие в группах явно более 1% (порядка 15-20%). Возможные причины такого разделения:\n",
    "- Изначально екорректное разделение трафика между группами;\n",
    "- Некорректное логирование. Некоторые пользователи могли оказаться одновременно и в группе A, и в группе B.\n",
    "\n",
    "Попробуем отыскать пользователей, которые увидели за короткое время обе версии сайта (с формой для подписки и без нее). Будет достаточно их количества."
   ]
  },
  {
   "cell_type": "code",
   "execution_count": 14,
   "metadata": {
    "scrolled": true
   },
   "outputs": [
    {
     "data": {
      "text/plain": [
       "58"
      ]
     },
     "execution_count": 14,
     "metadata": {},
     "output_type": "execute_result"
    }
   ],
   "source": [
    "# вывод числа пользователей, попавших в обе группы\n",
    "\n",
    "# формирование списка уникальных пользователей из группы A\n",
    "visitorId_unique_A = orders[orders['group'] == 'A']['visitorId'].unique()\n",
    "\n",
    "# формирование списка уникальных пользователей из группы B\n",
    "visitorId_unique_B = orders[orders['group'] == 'B']['visitorId'].unique()\n",
    "\n",
    "# проходим циклом по каждому значению id из группы B\n",
    "# сравниваем каждое значение B со списком группы A\n",
    "# если совпадает - добавляем конкретный id в отдельный список\n",
    "# на выходе - 3-ий список с уникальными пересекающимися id - это и будут \"двойные\" пользователи\n",
    "\n",
    "double_visitors = []\n",
    "\n",
    "for id_b in visitorId_unique_B:\n",
    "    for id_a in visitorId_unique_A:\n",
    "        if id_b == id_a:\n",
    "            double_visitors.append(id_b)\n",
    "        \n",
    "# количество \"двойных пользователей\"\n",
    "len(double_visitors)"
   ]
  },
  {
   "cell_type": "markdown",
   "metadata": {},
   "source": [
    "Таких пользователей обнаружилось 58. Тем не менее удалить их, например, из более многочисленной группы B будет не совсем корректным, так как неизвестно, в какой группе они были изначально. Либо удалять совсем из обеих групп, либо оставить как есть. Дополнительный момент - логи этих пользователей в обеих группах учтены в датасете `visitors`, поэтому если захотим удалять, придется удалять их и оттуда.\n",
    "\n",
    "Скорее всего, тест изначально проводился с ошибкой, и возник перекос в количестве пользователей. Группы зависимы, возможности как-либо увеличить количество пользователей сейчас нет - работаем с текущими данными. Это уже является первым звонком, что тест следовало бы продолжить, но немного перенастроив трафик.\n",
    "\n",
    "**Оставляем количество пользователей в каждой группе как есть (503 для группы A и 586 для группы B)**"
   ]
  },
  {
   "cell_type": "markdown",
   "metadata": {},
   "source": [
    "### Анализ A/B-теста"
   ]
  },
  {
   "cell_type": "markdown",
   "metadata": {},
   "source": [
    "**Приступаем к анализу результатов теста**\n",
    "\n",
    "Построим графики кумулятивных выручки, среднего чека и конверсии, а также изменение кумулятивного среднего чека и конверсии в группе B по отношению к группе A."
   ]
  },
  {
   "cell_type": "markdown",
   "metadata": {},
   "source": [
    "#### Расчет кумулятивных метрик"
   ]
  },
  {
   "cell_type": "markdown",
   "metadata": {},
   "source": [
    "**Кумулятивный график выручки**"
   ]
  },
  {
   "cell_type": "markdown",
   "metadata": {},
   "source": [
    "В первую очередь, получим новую общую таблицу с кумулятивными данными."
   ]
  },
  {
   "cell_type": "code",
   "execution_count": 15,
   "metadata": {},
   "outputs": [
    {
     "data": {
      "text/html": [
       "<div>\n",
       "<style scoped>\n",
       "    .dataframe tbody tr th:only-of-type {\n",
       "        vertical-align: middle;\n",
       "    }\n",
       "\n",
       "    .dataframe tbody tr th {\n",
       "        vertical-align: top;\n",
       "    }\n",
       "\n",
       "    .dataframe thead th {\n",
       "        text-align: right;\n",
       "    }\n",
       "</style>\n",
       "<table border=\"1\" class=\"dataframe\">\n",
       "  <thead>\n",
       "    <tr style=\"text-align: right;\">\n",
       "      <th></th>\n",
       "      <th>date</th>\n",
       "      <th>group</th>\n",
       "      <th>orders</th>\n",
       "      <th>buyers</th>\n",
       "      <th>revenue</th>\n",
       "      <th>visitors</th>\n",
       "    </tr>\n",
       "  </thead>\n",
       "  <tbody>\n",
       "    <tr>\n",
       "      <th>0</th>\n",
       "      <td>2019-08-01</td>\n",
       "      <td>A</td>\n",
       "      <td>24</td>\n",
       "      <td>20</td>\n",
       "      <td>148579</td>\n",
       "      <td>719</td>\n",
       "    </tr>\n",
       "    <tr>\n",
       "      <th>1</th>\n",
       "      <td>2019-08-01</td>\n",
       "      <td>B</td>\n",
       "      <td>21</td>\n",
       "      <td>20</td>\n",
       "      <td>101217</td>\n",
       "      <td>713</td>\n",
       "    </tr>\n",
       "    <tr>\n",
       "      <th>2</th>\n",
       "      <td>2019-08-02</td>\n",
       "      <td>A</td>\n",
       "      <td>44</td>\n",
       "      <td>38</td>\n",
       "      <td>242401</td>\n",
       "      <td>1338</td>\n",
       "    </tr>\n",
       "    <tr>\n",
       "      <th>3</th>\n",
       "      <td>2019-08-02</td>\n",
       "      <td>B</td>\n",
       "      <td>45</td>\n",
       "      <td>43</td>\n",
       "      <td>266748</td>\n",
       "      <td>1294</td>\n",
       "    </tr>\n",
       "    <tr>\n",
       "      <th>4</th>\n",
       "      <td>2019-08-03</td>\n",
       "      <td>A</td>\n",
       "      <td>68</td>\n",
       "      <td>62</td>\n",
       "      <td>354874</td>\n",
       "      <td>1845</td>\n",
       "    </tr>\n",
       "    <tr>\n",
       "      <th>5</th>\n",
       "      <td>2019-08-03</td>\n",
       "      <td>B</td>\n",
       "      <td>61</td>\n",
       "      <td>59</td>\n",
       "      <td>380996</td>\n",
       "      <td>1803</td>\n",
       "    </tr>\n",
       "    <tr>\n",
       "      <th>6</th>\n",
       "      <td>2019-08-04</td>\n",
       "      <td>A</td>\n",
       "      <td>84</td>\n",
       "      <td>77</td>\n",
       "      <td>425699</td>\n",
       "      <td>2562</td>\n",
       "    </tr>\n",
       "    <tr>\n",
       "      <th>7</th>\n",
       "      <td>2019-08-04</td>\n",
       "      <td>B</td>\n",
       "      <td>78</td>\n",
       "      <td>75</td>\n",
       "      <td>489567</td>\n",
       "      <td>2573</td>\n",
       "    </tr>\n",
       "    <tr>\n",
       "      <th>8</th>\n",
       "      <td>2019-08-05</td>\n",
       "      <td>A</td>\n",
       "      <td>109</td>\n",
       "      <td>100</td>\n",
       "      <td>549917</td>\n",
       "      <td>3318</td>\n",
       "    </tr>\n",
       "    <tr>\n",
       "      <th>9</th>\n",
       "      <td>2019-08-05</td>\n",
       "      <td>B</td>\n",
       "      <td>101</td>\n",
       "      <td>98</td>\n",
       "      <td>581995</td>\n",
       "      <td>3280</td>\n",
       "    </tr>\n",
       "  </tbody>\n",
       "</table>\n",
       "</div>"
      ],
      "text/plain": [
       "        date group  orders  buyers  revenue  visitors\n",
       "0 2019-08-01     A      24      20   148579       719\n",
       "1 2019-08-01     B      21      20   101217       713\n",
       "2 2019-08-02     A      44      38   242401      1338\n",
       "3 2019-08-02     B      45      43   266748      1294\n",
       "4 2019-08-03     A      68      62   354874      1845\n",
       "5 2019-08-03     B      61      59   380996      1803\n",
       "6 2019-08-04     A      84      77   425699      2562\n",
       "7 2019-08-04     B      78      75   489567      2573\n",
       "8 2019-08-05     A     109     100   549917      3318\n",
       "9 2019-08-05     B     101      98   581995      3280"
      ]
     },
     "execution_count": 15,
     "metadata": {},
     "output_type": "execute_result"
    }
   ],
   "source": [
    "# объявление datesGroup - уникальные пары значений дат и групп\n",
    "datesGroups = orders[['date', 'group']].drop_duplicates()\n",
    "\n",
    "# кумулятивные данные по заказам\n",
    "ordersAggregated = datesGroups.apply(\n",
    "    lambda x: orders[\n",
    "        np.logical_and(\n",
    "            orders['date'] <= x['date'], orders['group'] == x['group']\n",
    "        )\n",
    "    ].agg(\n",
    "        {\n",
    "            'date': 'max',\n",
    "            'group': 'max',\n",
    "            'transactionId': 'nunique',\n",
    "            'visitorId': 'nunique',\n",
    "            'revenue': 'sum',\n",
    "        }\n",
    "    ),\n",
    "    axis=1,\n",
    ").sort_values(by=['date', 'group'])\n",
    "\n",
    "# кумулятивные даты по посещениям\n",
    "visitorsAggregated = datesGroups.apply(\n",
    "    lambda x: visitors[\n",
    "        np.logical_and(\n",
    "            visitors['date'] <= x['date'], visitors['group'] == x['group']\n",
    "        )\n",
    "    ].agg({'date': 'max', 'group': 'max', 'visitors': 'sum'}),\n",
    "    axis=1,\n",
    ").sort_values(by=['date', 'group'])\n",
    "\n",
    "# общие кумулятивные данные\n",
    "cumulativeData = ordersAggregated.merge(\n",
    "    visitorsAggregated, left_on=['date', 'group'], right_on=['date', 'group']\n",
    ")\n",
    "cumulativeData.columns = [\n",
    "    'date',\n",
    "    'group',\n",
    "    'orders',\n",
    "    'buyers',\n",
    "    'revenue',\n",
    "    'visitors',\n",
    "]\n",
    "\n",
    "# вывод новой таблицы с кумулятивными данными\n",
    "cumulativeData.head(10)"
   ]
  },
  {
   "cell_type": "markdown",
   "metadata": {},
   "source": [
    "Таблицу с общей кумулятивной информацией получили.\n",
    "\n",
    "Теперь построим график кумулятивной выручки."
   ]
  },
  {
   "cell_type": "code",
   "execution_count": 16,
   "metadata": {},
   "outputs": [
    {
     "data": {
      "image/png": "[encoded data removed]",
      "text/plain": [
       "<Figure size 720x432 with 1 Axes>"
      ]
     },
     "metadata": {
      "needs_background": "light"
     },
     "output_type": "display_data"
    }
   ],
   "source": [
    "# кумулятивная выручка для группы A\n",
    "cumulativeRevenueA = cumulativeData[cumulativeData['group'] == 'A'][['date','revenue', 'orders']]\n",
    "\n",
    "# кумулятивная выручка для группы B\n",
    "cumulativeRevenueB = cumulativeData[cumulativeData['group'] == 'B'][['date','revenue', 'orders']]\n",
    "\n",
    "# построение графика\n",
    "plt.figure(figsize=(10,6))\n",
    "\n",
    "plt.plot(cumulativeRevenueA['date'], cumulativeRevenueA['revenue'], label='A')\n",
    "plt.plot(cumulativeRevenueB['date'], cumulativeRevenueB['revenue'], label='B')\n",
    "\n",
    "plt.title('График кумулятивной выручки по группам')\n",
    "plt.xlabel('Время')\n",
    "plt.ylabel('Выручка, млн у.е.')\n",
    "plt.legend()\n",
    "\n",
    "plt.show()"
   ]
  },
  {
   "cell_type": "markdown",
   "metadata": {},
   "source": [
    "По графику кумулятивной выручки видим, что в первые 17 дней теста значения выручки незначительно отличались друг от друга (но среднее значение по группе B было чуть выше). В середине теста произошел резкий рост по группе B, и группа продолжила лидировать до окончания теста. Возможно, туда закралась очень большая аномальная покупка, которая сильно завысила выручку в моменте - общий тренд после резкого скачка сохранился и не стал еще сильнее"
   ]
  },
  {
   "cell_type": "markdown",
   "metadata": {},
   "source": [
    "**Кумулятивный график среднего чека**"
   ]
  },
  {
   "cell_type": "code",
   "execution_count": 17,
   "metadata": {},
   "outputs": [
    {
     "data": {
      "image/png": "[encoded data removed]",
      "text/plain": [
       "<Figure size 720x432 with 1 Axes>"
      ]
     },
     "metadata": {
      "needs_background": "light"
     },
     "output_type": "display_data"
    }
   ],
   "source": [
    "# построение кумулятивного графика среднего чека\n",
    "plt.figure(figsize=(10,6))\n",
    "\n",
    "plt.plot(cumulativeRevenueA['date'],\n",
    "         cumulativeRevenueA['revenue'] / cumulativeRevenueA['orders'], label='A')\n",
    "plt.plot(cumulativeRevenueB['date'],\n",
    "         cumulativeRevenueB['revenue'] / cumulativeRevenueB['orders'], label='B')\n",
    "\n",
    "plt.title('Кумулятивный график среднего чека по группам')\n",
    "plt.xlabel('Время')\n",
    "plt.ylabel('Средний чек, у.е.')\n",
    "plt.legend() \n",
    "\n",
    "plt.show()"
   ]
  },
  {
   "cell_type": "markdown",
   "metadata": {},
   "source": [
    "Аналогичный вывод и по значению среднего чека - в середине теста произошел резкий скачок по группе B, и причем в моменте. Предыдущий вывод подтверждается.\n",
    "\n",
    "Затем не наблюдается один тренд на общий рост или снижение выручки в каждой группе - значения не стабилизировались."
   ]
  },
  {
   "cell_type": "markdown",
   "metadata": {},
   "source": [
    "**Построение графика относительного изменения кумулятивного среднего чека группы B к группе A**"
   ]
  },
  {
   "cell_type": "markdown",
   "metadata": {},
   "source": [
    "Для построения графика относительного изменения кумулятивного среднего чека в одной группе к другой, получим новый датасет с отдельно вынесенными выручками и количеством заказов в каждой группе"
   ]
  },
  {
   "cell_type": "code",
   "execution_count": 18,
   "metadata": {},
   "outputs": [
    {
     "data": {
      "text/html": [
       "<div>\n",
       "<style scoped>\n",
       "    .dataframe tbody tr th:only-of-type {\n",
       "        vertical-align: middle;\n",
       "    }\n",
       "\n",
       "    .dataframe tbody tr th {\n",
       "        vertical-align: top;\n",
       "    }\n",
       "\n",
       "    .dataframe thead th {\n",
       "        text-align: right;\n",
       "    }\n",
       "</style>\n",
       "<table border=\"1\" class=\"dataframe\">\n",
       "  <thead>\n",
       "    <tr style=\"text-align: right;\">\n",
       "      <th></th>\n",
       "      <th>date</th>\n",
       "      <th>revenueA</th>\n",
       "      <th>ordersA</th>\n",
       "      <th>revenueB</th>\n",
       "      <th>ordersB</th>\n",
       "    </tr>\n",
       "  </thead>\n",
       "  <tbody>\n",
       "    <tr>\n",
       "      <th>0</th>\n",
       "      <td>2019-08-01</td>\n",
       "      <td>148579</td>\n",
       "      <td>24</td>\n",
       "      <td>101217</td>\n",
       "      <td>21</td>\n",
       "    </tr>\n",
       "    <tr>\n",
       "      <th>1</th>\n",
       "      <td>2019-08-02</td>\n",
       "      <td>242401</td>\n",
       "      <td>44</td>\n",
       "      <td>266748</td>\n",
       "      <td>45</td>\n",
       "    </tr>\n",
       "    <tr>\n",
       "      <th>2</th>\n",
       "      <td>2019-08-03</td>\n",
       "      <td>354874</td>\n",
       "      <td>68</td>\n",
       "      <td>380996</td>\n",
       "      <td>61</td>\n",
       "    </tr>\n",
       "    <tr>\n",
       "      <th>3</th>\n",
       "      <td>2019-08-04</td>\n",
       "      <td>425699</td>\n",
       "      <td>84</td>\n",
       "      <td>489567</td>\n",
       "      <td>78</td>\n",
       "    </tr>\n",
       "    <tr>\n",
       "      <th>4</th>\n",
       "      <td>2019-08-05</td>\n",
       "      <td>549917</td>\n",
       "      <td>109</td>\n",
       "      <td>581995</td>\n",
       "      <td>101</td>\n",
       "    </tr>\n",
       "    <tr>\n",
       "      <th>5</th>\n",
       "      <td>2019-08-06</td>\n",
       "      <td>598401</td>\n",
       "      <td>127</td>\n",
       "      <td>824337</td>\n",
       "      <td>129</td>\n",
       "    </tr>\n",
       "    <tr>\n",
       "      <th>6</th>\n",
       "      <td>2019-08-07</td>\n",
       "      <td>740818</td>\n",
       "      <td>145</td>\n",
       "      <td>1049671</td>\n",
       "      <td>153</td>\n",
       "    </tr>\n",
       "    <tr>\n",
       "      <th>7</th>\n",
       "      <td>2019-08-08</td>\n",
       "      <td>837097</td>\n",
       "      <td>161</td>\n",
       "      <td>1270589</td>\n",
       "      <td>180</td>\n",
       "    </tr>\n",
       "    <tr>\n",
       "      <th>8</th>\n",
       "      <td>2019-08-09</td>\n",
       "      <td>1025603</td>\n",
       "      <td>177</td>\n",
       "      <td>1431401</td>\n",
       "      <td>205</td>\n",
       "    </tr>\n",
       "    <tr>\n",
       "      <th>9</th>\n",
       "      <td>2019-08-10</td>\n",
       "      <td>1236098</td>\n",
       "      <td>193</td>\n",
       "      <td>1539203</td>\n",
       "      <td>228</td>\n",
       "    </tr>\n",
       "  </tbody>\n",
       "</table>\n",
       "</div>"
      ],
      "text/plain": [
       "        date  revenueA  ordersA  revenueB  ordersB\n",
       "0 2019-08-01    148579       24    101217       21\n",
       "1 2019-08-02    242401       44    266748       45\n",
       "2 2019-08-03    354874       68    380996       61\n",
       "3 2019-08-04    425699       84    489567       78\n",
       "4 2019-08-05    549917      109    581995      101\n",
       "5 2019-08-06    598401      127    824337      129\n",
       "6 2019-08-07    740818      145   1049671      153\n",
       "7 2019-08-08    837097      161   1270589      180\n",
       "8 2019-08-09   1025603      177   1431401      205\n",
       "9 2019-08-10   1236098      193   1539203      228"
      ]
     },
     "execution_count": 18,
     "metadata": {},
     "output_type": "execute_result"
    }
   ],
   "source": [
    "# объединение значений кумулятивной выручки и количества заказов по группам A и B в один датасет\n",
    "mergedCumulativeRevenue = cumulativeRevenueA.merge(cumulativeRevenueB, \n",
    "                                                   left_on=['date'], \n",
    "                                                   right_on='date', \n",
    "                                                   how='left', \n",
    "                                                   suffixes=['A', 'B']\n",
    "                                                  )\n",
    "\n",
    "mergedCumulativeRevenue.head(10)"
   ]
  },
  {
   "cell_type": "markdown",
   "metadata": {},
   "source": [
    "Новый датасет с отдельно вынесенными кумулятивными выручками и количеством заказов получили.\n",
    "\n",
    "Теперь построим график относительного изменения кумулятивного среднего чека группы B относительно группы A."
   ]
  },
  {
   "cell_type": "code",
   "execution_count": 19,
   "metadata": {},
   "outputs": [
    {
     "data": {
      "image/png": "[encoded data removed]",
      "text/plain": [
       "<Figure size 720x432 with 1 Axes>"
      ]
     },
     "metadata": {
      "needs_background": "light"
     },
     "output_type": "display_data"
    }
   ],
   "source": [
    "# построение графика относительного изменения кумулятивного среднего чека\n",
    "plt.figure(figsize=(10,6))\n",
    "\n",
    "plt.plot(mergedCumulativeRevenue['date'], \n",
    "         (mergedCumulativeRevenue['revenueB'] / mergedCumulativeRevenue['ordersB'])\n",
    "         / (mergedCumulativeRevenue['revenueA'] / mergedCumulativeRevenue['ordersA']) - 1\n",
    "        )\n",
    "\n",
    "plt.axhline(y=0, color='black', linestyle='--')\n",
    "\n",
    "plt.title('Изменение среднего чека (B отн. A)')\n",
    "plt.xlabel('Время')\n",
    "plt.ylabel('Относительное изменение среднего чека')\n",
    "\n",
    "plt.show()"
   ]
  },
  {
   "cell_type": "markdown",
   "metadata": {},
   "source": [
    "Судя по относительнному различию в среднем чеке, в середине теста наблюдается период аномально невысоких по стоимости заказов. Но тем не менее, к концу теста кумулятивное значение среднего чека по группе B выше, чем по группе A. Возможно, именно в период середины теста происходили аномальные заказы (учитывая предыдущие выводы)."
   ]
  },
  {
   "cell_type": "markdown",
   "metadata": {},
   "source": [
    "**Построение графика кумулятивной конверсии по группам**\n",
    "\n",
    "Добавим новый столбец с расчетом конверсии в уже созданный датасет `cumulativeData`, затем заново выделим срезы по группам A и B."
   ]
  },
  {
   "cell_type": "code",
   "execution_count": 20,
   "metadata": {},
   "outputs": [
    {
     "data": {
      "image/png": "[encoded data removed]",
      "text/plain": [
       "<Figure size 720x432 with 1 Axes>"
      ]
     },
     "metadata": {
      "needs_background": "light"
     },
     "output_type": "display_data"
    }
   ],
   "source": [
    "# расчет конверсии\n",
    "cumulativeData['conversion'] = cumulativeData['orders'] / cumulativeData['visitors']\n",
    "\n",
    "# выделение данных по группе A, с учетом данных по конверсии\n",
    "cumulativeDataA = cumulativeData[cumulativeData['group'] == 'A']\n",
    "\n",
    "# выделение данных по группе A, с учетом данных по конверсии\n",
    "cumulativeDataB = cumulativeData[cumulativeData['group'] == 'B']\n",
    "\n",
    "# построение графика\n",
    "plt.figure(figsize=(10,6))\n",
    "\n",
    "plt.plot(cumulativeDataA['date'], cumulativeDataA['conversion'], label='A')\n",
    "plt.plot(cumulativeDataB['date'], cumulativeDataB['conversion'], label='B')\n",
    "plt.legend()\n",
    "\n",
    "plt.xlabel('Время')\n",
    "plt.ylabel('Значение конверсии')\n",
    "plt.title('Кумулятивный график конверсии по группам')\n",
    "\n",
    "plt.axis([dt.datetime(2019, 8, 1), dt.datetime(2019, 8, 31), 0, 0.05])\n",
    "\n",
    "plt.show()"
   ]
  },
  {
   "cell_type": "markdown",
   "metadata": {},
   "source": [
    "В начале теста происходили небольшие колебания конверсий в обеих группах, но ближе к середине теста конверсии стабилизировались. Значение кумулятивной конверсии по группе B выросло примерно на 5%."
   ]
  },
  {
   "cell_type": "markdown",
   "metadata": {},
   "source": [
    "**График относительного изменения кумулятивной конверсии группы B к группе A**"
   ]
  },
  {
   "cell_type": "code",
   "execution_count": 21,
   "metadata": {},
   "outputs": [
    {
     "data": {
      "text/html": [
       "<div>\n",
       "<style scoped>\n",
       "    .dataframe tbody tr th:only-of-type {\n",
       "        vertical-align: middle;\n",
       "    }\n",
       "\n",
       "    .dataframe tbody tr th {\n",
       "        vertical-align: top;\n",
       "    }\n",
       "\n",
       "    .dataframe thead th {\n",
       "        text-align: right;\n",
       "    }\n",
       "</style>\n",
       "<table border=\"1\" class=\"dataframe\">\n",
       "  <thead>\n",
       "    <tr style=\"text-align: right;\">\n",
       "      <th></th>\n",
       "      <th>date</th>\n",
       "      <th>conversionA</th>\n",
       "      <th>conversionB</th>\n",
       "    </tr>\n",
       "  </thead>\n",
       "  <tbody>\n",
       "    <tr>\n",
       "      <th>0</th>\n",
       "      <td>2019-08-01</td>\n",
       "      <td>0.033380</td>\n",
       "      <td>0.029453</td>\n",
       "    </tr>\n",
       "    <tr>\n",
       "      <th>1</th>\n",
       "      <td>2019-08-02</td>\n",
       "      <td>0.032885</td>\n",
       "      <td>0.034776</td>\n",
       "    </tr>\n",
       "    <tr>\n",
       "      <th>2</th>\n",
       "      <td>2019-08-03</td>\n",
       "      <td>0.036856</td>\n",
       "      <td>0.033833</td>\n",
       "    </tr>\n",
       "    <tr>\n",
       "      <th>3</th>\n",
       "      <td>2019-08-04</td>\n",
       "      <td>0.032787</td>\n",
       "      <td>0.030315</td>\n",
       "    </tr>\n",
       "    <tr>\n",
       "      <th>4</th>\n",
       "      <td>2019-08-05</td>\n",
       "      <td>0.032851</td>\n",
       "      <td>0.030793</td>\n",
       "    </tr>\n",
       "    <tr>\n",
       "      <th>5</th>\n",
       "      <td>2019-08-06</td>\n",
       "      <td>0.031870</td>\n",
       "      <td>0.032783</td>\n",
       "    </tr>\n",
       "    <tr>\n",
       "      <th>6</th>\n",
       "      <td>2019-08-07</td>\n",
       "      <td>0.031324</td>\n",
       "      <td>0.032946</td>\n",
       "    </tr>\n",
       "    <tr>\n",
       "      <th>7</th>\n",
       "      <td>2019-08-08</td>\n",
       "      <td>0.030731</td>\n",
       "      <td>0.033975</td>\n",
       "    </tr>\n",
       "    <tr>\n",
       "      <th>8</th>\n",
       "      <td>2019-08-09</td>\n",
       "      <td>0.030225</td>\n",
       "      <td>0.034699</td>\n",
       "    </tr>\n",
       "    <tr>\n",
       "      <th>9</th>\n",
       "      <td>2019-08-10</td>\n",
       "      <td>0.030821</td>\n",
       "      <td>0.036323</td>\n",
       "    </tr>\n",
       "  </tbody>\n",
       "</table>\n",
       "</div>"
      ],
      "text/plain": [
       "        date  conversionA  conversionB\n",
       "0 2019-08-01     0.033380     0.029453\n",
       "1 2019-08-02     0.032885     0.034776\n",
       "2 2019-08-03     0.036856     0.033833\n",
       "3 2019-08-04     0.032787     0.030315\n",
       "4 2019-08-05     0.032851     0.030793\n",
       "5 2019-08-06     0.031870     0.032783\n",
       "6 2019-08-07     0.031324     0.032946\n",
       "7 2019-08-08     0.030731     0.033975\n",
       "8 2019-08-09     0.030225     0.034699\n",
       "9 2019-08-10     0.030821     0.036323"
      ]
     },
     "execution_count": 21,
     "metadata": {},
     "output_type": "execute_result"
    }
   ],
   "source": [
    "# объединение значений кумулятивной конверсии по группам A и B в один датасет\n",
    "mergedCumulativeConversions = (cumulativeDataA[['date', 'conversion']]\n",
    "                               .merge(cumulativeDataB[['date', 'conversion']],\n",
    "                                      left_on='date', right_on='date', how='left', suffixes=['A', 'B'])\n",
    "                              )\n",
    "\n",
    "mergedCumulativeConversions.head(10)"
   ]
  },
  {
   "cell_type": "code",
   "execution_count": 22,
   "metadata": {},
   "outputs": [
    {
     "data": {
      "image/png": "[encoded data removed]",
      "text/plain": [
       "<Figure size 720x432 with 1 Axes>"
      ]
     },
     "metadata": {
      "needs_background": "light"
     },
     "output_type": "display_data"
    }
   ],
   "source": [
    "# построение графика относительного изменения конверсии в группе B \n",
    "plt.figure(figsize=(10,6))\n",
    "\n",
    "plt.plot(mergedCumulativeConversions['date'], \n",
    "         mergedCumulativeConversions['conversionB'] / mergedCumulativeConversions['conversionA'] - 1)\n",
    "\n",
    "plt.axhline(y=0, color='black', linestyle='--')\n",
    "plt.axhline(y=0.2, color='grey', linestyle='--')\n",
    "plt.title('Изменение конверсии (B отн. A)')\n",
    "plt.xlabel('Время')\n",
    "plt.ylabel('Относительное изменение конверсии')\n",
    "\n",
    "plt.axis([dt.datetime(2019, 8, 1), dt.datetime(2019, 8, 31), -0.5, 0.5])\n",
    "\n",
    "plt.show()"
   ]
  },
  {
   "cell_type": "markdown",
   "metadata": {},
   "source": [
    "Действительно, группа B лидирует по значению конверсии почти с самого начала, весь тест не уступая группе A. На момент окончания теста улучшение конверсии по группе B относительно группы A составило примерно 15%."
   ]
  },
  {
   "cell_type": "markdown",
   "metadata": {},
   "source": [
    "#### Анализ аномалий и выбросов"
   ]
  },
  {
   "cell_type": "markdown",
   "metadata": {},
   "source": [
    "На текущем шаге посмотрим на аномальные значения и выбросы по значениям выручки."
   ]
  },
  {
   "cell_type": "markdown",
   "metadata": {},
   "source": [
    "**Построение точечного графика количества заказов для каждого пользователя**\n",
    "\n",
    "Для этого сгруппируем датасет `orders` по уникальным Id пользователей и посчитаем по каждому количество заказаов"
   ]
  },
  {
   "cell_type": "code",
   "execution_count": 23,
   "metadata": {},
   "outputs": [
    {
     "data": {
      "image/png": "[encoded data removed]",
      "text/plain": [
       "<Figure size 432x288 with 1 Axes>"
      ]
     },
     "metadata": {
      "needs_background": "light"
     },
     "output_type": "display_data"
    }
   ],
   "source": [
    "# получение данных по заказам на каждого пользователя\n",
    "OrdersByUsers = (orders.groupby('visitorId', as_index=False)\n",
    "                         .agg({'transactionId': 'nunique'})\n",
    "                  )\n",
    "\n",
    "# переименование столбцов\n",
    "OrdersByUsers.columns = ['userId', 'orders']\n",
    "\n",
    "# построение точечного графика по количествам заказов\n",
    "x_values = pd.Series(range(0, len(OrdersByUsers)))\n",
    "plt.scatter(x_values, OrdersByUsers['orders'])\n",
    "\n",
    "plt.ylabel('Кол-во заказов на 1 пользователя')\n",
    "plt.title('Точечный график количества заказов по пользователям')\n",
    "\n",
    "plt.show()"
   ]
  },
  {
   "cell_type": "markdown",
   "metadata": {},
   "source": [
    "Основная масса пользователей совершила от 1 до 3 заказов. Тем не менее, по 3 заказа совершено гораздо меньше, чем по 2. Стоит вопрос об определении \"лимита\", после которого количество заказов на 1 пользователя считать аномальным - для этого необходим расчет нескольких выборочных перцентилей."
   ]
  },
  {
   "cell_type": "markdown",
   "metadata": {},
   "source": [
    "**Расчет 95-го и 99-го перцентилей количества заказов на 1 пользователя**"
   ]
  },
  {
   "cell_type": "code",
   "execution_count": 24,
   "metadata": {},
   "outputs": [
    {
     "data": {
      "text/plain": [
       "array([2., 4.])"
      ]
     },
     "execution_count": 24,
     "metadata": {},
     "output_type": "execute_result"
    }
   ],
   "source": [
    "# расчет 95 и 99 перцентилей кол-ва заказов на 1 пользователя\n",
    "np.percentile(OrdersByUsers['orders'], [95, 99])"
   ]
  },
  {
   "cell_type": "markdown",
   "metadata": {},
   "source": [
    "95-й перцентиль равен 2. Это значит, что более 2 заказов совершили не более 5% пользователей. 99-й равен 4, то есть, только 1% пользователей совершили 4 заказа и более.\n",
    "\n",
    "Но тем не менее, судя по графику, есть и большое количество пользователей с 3-мя заказами.\n",
    "\n",
    "*Все что выше 99 перцентиля - считаем аномальным*\n",
    "\n",
    "*Считаем 4 заказа на 1 пользователя как границу аномального количества заказов*"
   ]
  },
  {
   "cell_type": "markdown",
   "metadata": {},
   "source": [
    "**Построение точечного графика стоимостей заказов**\n",
    "\n",
    "Для построения графика нужны все значения выручки со всех заказов, из изначального датасета `orders`"
   ]
  },
  {
   "cell_type": "code",
   "execution_count": 25,
   "metadata": {},
   "outputs": [
    {
     "data": {
      "image/png": "[encoded data removed]",
      "text/plain": [
       "<Figure size 432x288 with 1 Axes>"
      ]
     },
     "metadata": {
      "needs_background": "light"
     },
     "output_type": "display_data"
    }
   ],
   "source": [
    "# построение точечного графика стоимостей всех заказов\n",
    "x_values = pd.Series(range(0, len(orders['revenue'])))\n",
    "plt.scatter(x_values, orders['revenue'])\n",
    "\n",
    "plt.ylabel('Стоимость заказа, млн у.е.')\n",
    "plt.title('Точечный график стоимостей всех заказов')\n",
    "\n",
    "plt.show()"
   ]
  },
  {
   "cell_type": "markdown",
   "metadata": {},
   "source": [
    "Исходя из графика, практически все заказы были в пределах 100-150 тыс. у.е.\n",
    "\n",
    "Есть один аномальный заказ на сумму чуть больше 200 тыс. у.е., и еще один заказ почти на 1,2 млн у.е. Для точного определения границы стоимости аномальных заказов получим 95-й и 99-й перцентили.\n",
    "\n",
    "Возможно, именно этот заказ на 1,2 млн у.е. резко завысил объем выручки и средний чек по группе B в середине теста, а также вызвал и резкое относительное увеличение чека, но на самом деле начал проявляться тренд на падение."
   ]
  },
  {
   "cell_type": "markdown",
   "metadata": {},
   "source": [
    "**Расчет 95-го и 99-го перцентилей стоимости 1 заказа**"
   ]
  },
  {
   "cell_type": "code",
   "execution_count": 26,
   "metadata": {},
   "outputs": [
    {
     "data": {
      "text/plain": [
       "array([28000. , 58233.2])"
      ]
     },
     "execution_count": 26,
     "metadata": {},
     "output_type": "execute_result"
    }
   ],
   "source": [
    "# расчет 95 и 99 перцентилей стоимости заказов\n",
    "np.percentile(orders['revenue'], [95, 99])"
   ]
  },
  {
   "cell_type": "markdown",
   "metadata": {},
   "source": [
    "95-й перцентиль равен 28 тыс. у.е. - это значит, что не более 5% пользователей совершили заказы дороже этой суммы. И не более 1% пользователей совершили заказы дороже 58,2 тыс. у.е.\n",
    "\n",
    "*Все что выше 99 перцентиля - считаем аномальным*\n",
    "\n",
    "*Считаем 58,2 тыс. у.е. как границу аномальной цены 1 заказа*"
   ]
  },
  {
   "cell_type": "markdown",
   "metadata": {},
   "source": [
    "#### Расчеты статистической значимости"
   ]
  },
  {
   "cell_type": "markdown",
   "metadata": {},
   "source": [
    "Проверим статистическую значимость по конверсии и среднему чеку.\n",
    "\n",
    "В обоих случаях считаем значимость и по \"сырым\" данным, и по очищенным. Если убрать аномалии, разница может оказаться не статистически значимой, соответственно говорить о победе группы B будет некорректно.\n",
    "\n",
    "Для проверки используем критерий Манна-Уитни, уровень значимости зададим 0.05 - общепринятое значение."
   ]
  },
  {
   "cell_type": "code",
   "execution_count": 27,
   "metadata": {},
   "outputs": [],
   "source": [
    "# задание уровня значимости\n",
    "alpha = 0.05"
   ]
  },
  {
   "cell_type": "markdown",
   "metadata": {},
   "source": [
    "Создадим один датасет `data` из всех \"сырых данных\" для дальнейших проверок"
   ]
  },
  {
   "cell_type": "code",
   "execution_count": 28,
   "metadata": {},
   "outputs": [
    {
     "data": {
      "text/html": [
       "<div>\n",
       "<style scoped>\n",
       "    .dataframe tbody tr th:only-of-type {\n",
       "        vertical-align: middle;\n",
       "    }\n",
       "\n",
       "    .dataframe tbody tr th {\n",
       "        vertical-align: top;\n",
       "    }\n",
       "\n",
       "    .dataframe thead th {\n",
       "        text-align: right;\n",
       "    }\n",
       "</style>\n",
       "<table border=\"1\" class=\"dataframe\">\n",
       "  <thead>\n",
       "    <tr style=\"text-align: right;\">\n",
       "      <th></th>\n",
       "      <th>date</th>\n",
       "      <th>ordersPerDateA</th>\n",
       "      <th>revenuePerDateA</th>\n",
       "      <th>ordersPerDateB</th>\n",
       "      <th>revenuePerDateB</th>\n",
       "      <th>ordersCummulativeA</th>\n",
       "      <th>revenueCummulativeA</th>\n",
       "      <th>ordersCummulativeB</th>\n",
       "      <th>revenueCummulativeB</th>\n",
       "      <th>visitorsPerDateA</th>\n",
       "      <th>visitorsPerDateB</th>\n",
       "      <th>visitorsCummulativeA</th>\n",
       "      <th>visitorsCummulativeB</th>\n",
       "    </tr>\n",
       "  </thead>\n",
       "  <tbody>\n",
       "    <tr>\n",
       "      <th>0</th>\n",
       "      <td>2019-08-01</td>\n",
       "      <td>24</td>\n",
       "      <td>148579</td>\n",
       "      <td>21</td>\n",
       "      <td>101217</td>\n",
       "      <td>24</td>\n",
       "      <td>148579</td>\n",
       "      <td>21</td>\n",
       "      <td>101217</td>\n",
       "      <td>719</td>\n",
       "      <td>713</td>\n",
       "      <td>719</td>\n",
       "      <td>713</td>\n",
       "    </tr>\n",
       "    <tr>\n",
       "      <th>1</th>\n",
       "      <td>2019-08-02</td>\n",
       "      <td>20</td>\n",
       "      <td>93822</td>\n",
       "      <td>24</td>\n",
       "      <td>165531</td>\n",
       "      <td>44</td>\n",
       "      <td>242401</td>\n",
       "      <td>45</td>\n",
       "      <td>266748</td>\n",
       "      <td>619</td>\n",
       "      <td>581</td>\n",
       "      <td>1338</td>\n",
       "      <td>1294</td>\n",
       "    </tr>\n",
       "    <tr>\n",
       "      <th>2</th>\n",
       "      <td>2019-08-03</td>\n",
       "      <td>24</td>\n",
       "      <td>112473</td>\n",
       "      <td>16</td>\n",
       "      <td>114248</td>\n",
       "      <td>68</td>\n",
       "      <td>354874</td>\n",
       "      <td>61</td>\n",
       "      <td>380996</td>\n",
       "      <td>507</td>\n",
       "      <td>509</td>\n",
       "      <td>1845</td>\n",
       "      <td>1803</td>\n",
       "    </tr>\n",
       "    <tr>\n",
       "      <th>3</th>\n",
       "      <td>2019-08-04</td>\n",
       "      <td>16</td>\n",
       "      <td>70825</td>\n",
       "      <td>17</td>\n",
       "      <td>108571</td>\n",
       "      <td>84</td>\n",
       "      <td>425699</td>\n",
       "      <td>78</td>\n",
       "      <td>489567</td>\n",
       "      <td>717</td>\n",
       "      <td>770</td>\n",
       "      <td>2562</td>\n",
       "      <td>2573</td>\n",
       "    </tr>\n",
       "    <tr>\n",
       "      <th>4</th>\n",
       "      <td>2019-08-05</td>\n",
       "      <td>25</td>\n",
       "      <td>124218</td>\n",
       "      <td>23</td>\n",
       "      <td>92428</td>\n",
       "      <td>109</td>\n",
       "      <td>549917</td>\n",
       "      <td>101</td>\n",
       "      <td>581995</td>\n",
       "      <td>756</td>\n",
       "      <td>707</td>\n",
       "      <td>3318</td>\n",
       "      <td>3280</td>\n",
       "    </tr>\n",
       "    <tr>\n",
       "      <th>5</th>\n",
       "      <td>2019-08-06</td>\n",
       "      <td>18</td>\n",
       "      <td>48484</td>\n",
       "      <td>28</td>\n",
       "      <td>242342</td>\n",
       "      <td>127</td>\n",
       "      <td>598401</td>\n",
       "      <td>129</td>\n",
       "      <td>824337</td>\n",
       "      <td>667</td>\n",
       "      <td>655</td>\n",
       "      <td>3985</td>\n",
       "      <td>3935</td>\n",
       "    </tr>\n",
       "    <tr>\n",
       "      <th>6</th>\n",
       "      <td>2019-08-07</td>\n",
       "      <td>18</td>\n",
       "      <td>142417</td>\n",
       "      <td>24</td>\n",
       "      <td>225334</td>\n",
       "      <td>145</td>\n",
       "      <td>740818</td>\n",
       "      <td>153</td>\n",
       "      <td>1049671</td>\n",
       "      <td>644</td>\n",
       "      <td>709</td>\n",
       "      <td>4629</td>\n",
       "      <td>4644</td>\n",
       "    </tr>\n",
       "    <tr>\n",
       "      <th>7</th>\n",
       "      <td>2019-08-08</td>\n",
       "      <td>16</td>\n",
       "      <td>96279</td>\n",
       "      <td>27</td>\n",
       "      <td>220918</td>\n",
       "      <td>161</td>\n",
       "      <td>837097</td>\n",
       "      <td>180</td>\n",
       "      <td>1270589</td>\n",
       "      <td>610</td>\n",
       "      <td>654</td>\n",
       "      <td>5239</td>\n",
       "      <td>5298</td>\n",
       "    </tr>\n",
       "    <tr>\n",
       "      <th>8</th>\n",
       "      <td>2019-08-09</td>\n",
       "      <td>16</td>\n",
       "      <td>188506</td>\n",
       "      <td>25</td>\n",
       "      <td>160812</td>\n",
       "      <td>177</td>\n",
       "      <td>1025603</td>\n",
       "      <td>205</td>\n",
       "      <td>1431401</td>\n",
       "      <td>617</td>\n",
       "      <td>610</td>\n",
       "      <td>5856</td>\n",
       "      <td>5908</td>\n",
       "    </tr>\n",
       "    <tr>\n",
       "      <th>9</th>\n",
       "      <td>2019-08-10</td>\n",
       "      <td>16</td>\n",
       "      <td>210495</td>\n",
       "      <td>23</td>\n",
       "      <td>107802</td>\n",
       "      <td>193</td>\n",
       "      <td>1236098</td>\n",
       "      <td>228</td>\n",
       "      <td>1539203</td>\n",
       "      <td>406</td>\n",
       "      <td>369</td>\n",
       "      <td>6262</td>\n",
       "      <td>6277</td>\n",
       "    </tr>\n",
       "  </tbody>\n",
       "</table>\n",
       "</div>"
      ],
      "text/plain": [
       "        date  ordersPerDateA  revenuePerDateA  ordersPerDateB  \\\n",
       "0 2019-08-01              24           148579              21   \n",
       "1 2019-08-02              20            93822              24   \n",
       "2 2019-08-03              24           112473              16   \n",
       "3 2019-08-04              16            70825              17   \n",
       "4 2019-08-05              25           124218              23   \n",
       "5 2019-08-06              18            48484              28   \n",
       "6 2019-08-07              18           142417              24   \n",
       "7 2019-08-08              16            96279              27   \n",
       "8 2019-08-09              16           188506              25   \n",
       "9 2019-08-10              16           210495              23   \n",
       "\n",
       "   revenuePerDateB  ordersCummulativeA  revenueCummulativeA  \\\n",
       "0           101217                  24               148579   \n",
       "1           165531                  44               242401   \n",
       "2           114248                  68               354874   \n",
       "3           108571                  84               425699   \n",
       "4            92428                 109               549917   \n",
       "5           242342                 127               598401   \n",
       "6           225334                 145               740818   \n",
       "7           220918                 161               837097   \n",
       "8           160812                 177              1025603   \n",
       "9           107802                 193              1236098   \n",
       "\n",
       "   ordersCummulativeB  revenueCummulativeB  visitorsPerDateA  \\\n",
       "0                  21               101217               719   \n",
       "1                  45               266748               619   \n",
       "2                  61               380996               507   \n",
       "3                  78               489567               717   \n",
       "4                 101               581995               756   \n",
       "5                 129               824337               667   \n",
       "6                 153              1049671               644   \n",
       "7                 180              1270589               610   \n",
       "8                 205              1431401               617   \n",
       "9                 228              1539203               406   \n",
       "\n",
       "   visitorsPerDateB  visitorsCummulativeA  visitorsCummulativeB  \n",
       "0               713                   719                   713  \n",
       "1               581                  1338                  1294  \n",
       "2               509                  1845                  1803  \n",
       "3               770                  2562                  2573  \n",
       "4               707                  3318                  3280  \n",
       "5               655                  3985                  3935  \n",
       "6               709                  4629                  4644  \n",
       "7               654                  5239                  5298  \n",
       "8               610                  5856                  5908  \n",
       "9               369                  6262                  6277  "
      ]
     },
     "metadata": {},
     "output_type": "display_data"
    }
   ],
   "source": [
    "# создание нового датасета \"сырых\" данных\n",
    "\n",
    "# количество пользователей в выбранную дату в группе A\n",
    "visitorsADaily = visitors[visitors['group'] == 'A'][['date', 'visitors']]\n",
    "visitorsADaily.columns = ['date', 'visitorsPerDateA']\n",
    "\n",
    "# количество пользователей до выбранной даты включительно в группе A\n",
    "visitorsACummulative = visitorsADaily.apply(\n",
    "    lambda x: visitorsADaily[visitorsADaily['date'] <= x['date']].agg(\n",
    "        {'date': 'max', 'visitorsPerDateA': 'sum'}\n",
    "    ),\n",
    "    axis=1,\n",
    ")\n",
    "visitorsACummulative.columns = ['date', 'visitorsCummulativeA']\n",
    "\n",
    "# количество пользователей в выбранную дату в группе B\n",
    "visitorsBDaily = visitors[visitors['group'] == 'B'][['date', 'visitors']]\n",
    "visitorsBDaily.columns = ['date', 'visitorsPerDateB']\n",
    "\n",
    "# количество пользователей до выбранной даты включительно в группе B\n",
    "visitorsBCummulative = visitorsBDaily.apply(\n",
    "    lambda x: visitorsBDaily[visitorsBDaily['date'] <= x['date']].agg(\n",
    "        {'date': 'max', 'visitorsPerDateB': 'sum'}\n",
    "    ),\n",
    "    axis=1,\n",
    ")\n",
    "visitorsBCummulative.columns = ['date', 'visitorsCummulativeB']\n",
    "\n",
    "# суммарная выручка и количество заказов в выбранную дату в группе A\n",
    "ordersADaily = (\n",
    "    orders[orders['group'] == 'A'][['date', 'transactionId', 'visitorId', 'revenue']]\n",
    "    .groupby('date', as_index=False)\n",
    "    .agg({'transactionId': pd.Series.nunique, 'revenue': 'sum'})\n",
    ")\n",
    "ordersADaily.columns = ['date', 'ordersPerDateA', 'revenuePerDateA']\n",
    "\n",
    "# суммарная выручка до выбранной даты включительно в группе A\n",
    "ordersACummulative = ordersADaily.apply(\n",
    "    lambda x: ordersADaily[ordersADaily['date'] <= x['date']].agg(\n",
    "        {'date': 'max', 'ordersPerDateA': 'sum', 'revenuePerDateA': 'sum'}\n",
    "    ),\n",
    "    axis=1,\n",
    ").sort_values(by=['date'])\n",
    "ordersACummulative.columns = [\n",
    "    'date',\n",
    "    'ordersCummulativeA',\n",
    "    'revenueCummulativeA',\n",
    "]\n",
    "\n",
    "# суммарная выручка и количество заказов в выбранную дату в группе B\n",
    "ordersBDaily = (\n",
    "    orders[orders['group'] == 'B'][['date', 'transactionId', 'visitorId', 'revenue']]\n",
    "    .groupby('date', as_index=False)\n",
    "    .agg({'transactionId': pd.Series.nunique, 'revenue': 'sum'})\n",
    ")\n",
    "ordersBDaily.columns = ['date', 'ordersPerDateB', 'revenuePerDateB']\n",
    "\n",
    "# суммарная выручка до выбранной даты включительно в группе B\n",
    "ordersBCummulative = ordersBDaily.apply(\n",
    "    lambda x: ordersBDaily[ordersBDaily['date'] <= x['date']].agg(\n",
    "        {'date': 'max', 'ordersPerDateB': 'sum', 'revenuePerDateB': 'sum'}\n",
    "    ),\n",
    "    axis=1,\n",
    ").sort_values(by=['date'])\n",
    "ordersBCummulative.columns = [\n",
    "    'date',\n",
    "    'ordersCummulativeB',\n",
    "    'revenueCummulativeB',\n",
    "]\n",
    "\n",
    "# получение целевого общего датасета\n",
    "data = (\n",
    "    ordersADaily.merge(\n",
    "        ordersBDaily, left_on='date', right_on='date', how='left'\n",
    "    )\n",
    "    .merge(ordersACummulative, left_on='date', right_on='date', how='left')\n",
    "    .merge(ordersBCummulative, left_on='date', right_on='date', how='left')\n",
    "    .merge(visitorsADaily, left_on='date', right_on='date', how='left')\n",
    "    .merge(visitorsBDaily, left_on='date', right_on='date', how='left')\n",
    "    .merge(visitorsACummulative, left_on='date', right_on='date', how='left')\n",
    "    .merge(visitorsBCummulative, left_on='date', right_on='date', how='left')\n",
    ")\n",
    "\n",
    "# вывод полных данных\n",
    "display(data.head(10))\n",
    "\n",
    "# получение пользователей и числа совершенных заказов (если совершили хотя бы 1)\n",
    "ordersByUsersA = (\n",
    "    orders[orders['group'] == 'A']\n",
    "    .groupby('visitorId', as_index=False)\n",
    "    .agg({'transactionId': pd.Series.nunique})\n",
    ")\n",
    "ordersByUsersA.columns = ['userId', 'orders']\n",
    "\n",
    "ordersByUsersB = (\n",
    "    orders[orders['group'] == 'B']\n",
    "    .groupby('visitorId', as_index=False)\n",
    "    .agg({'transactionId': pd.Series.nunique})\n",
    ")\n",
    "ordersByUsersB.columns = ['userId', 'orders']"
   ]
  },
  {
   "cell_type": "markdown",
   "metadata": {},
   "source": [
    "**Также сразу найдем аномальных пользователей**"
   ]
  },
  {
   "cell_type": "markdown",
   "metadata": {},
   "source": [
    "По итогам расчетов перцентилей, в список аномальных попадут те, кто совершил более 4-х заказов или совершил какой-либо из них на сумму более 52 833 у.е."
   ]
  },
  {
   "cell_type": "code",
   "execution_count": 29,
   "metadata": {},
   "outputs": [
    {
     "data": {
      "text/plain": [
       "1099     148427295\n",
       "949      887908475\n",
       "744      888512513\n",
       "1103    1164614297\n",
       "1136    1307669133\n",
       "858     1316129916\n",
       "425     1920142716\n",
       "227     2038680547\n",
       "1196    2108080724\n",
       "287     2254456485\n",
       "dtype: int64"
      ]
     },
     "execution_count": 29,
     "metadata": {},
     "output_type": "execute_result"
    }
   ],
   "source": [
    "# получение id аномальных пользователей\n",
    "\n",
    "# выделение пользователей по количеству заказов\n",
    "usersWithManyOrders = pd.concat(\n",
    "    [\n",
    "        ordersByUsersA[ordersByUsersA['orders'] > 4]['userId'],\n",
    "        ordersByUsersB[ordersByUsersB['orders'] > 4]['userId'],\n",
    "    ],\n",
    "    axis=0,\n",
    ")\n",
    "\n",
    "# выделение пользователей по сумме совершенного заказа\n",
    "usersWithExpensiveOrders = orders[orders['revenue'] > 52833]['visitorId']\n",
    "\n",
    "abnormalUsers = (\n",
    "    pd.concat([usersWithManyOrders, usersWithExpensiveOrders], axis=0)\n",
    "    .drop_duplicates()\n",
    "    .sort_values()\n",
    ")\n",
    "\n",
    "# вывод id аномальных пользователей\n",
    "abnormalUsers.head(10)"
   ]
  },
  {
   "cell_type": "markdown",
   "metadata": {},
   "source": [
    "Список id аномальных пользователей `abnormalUsers` получили. Используем его при расчете значимости на очищенных данных"
   ]
  },
  {
   "cell_type": "markdown",
   "metadata": {},
   "source": [
    "##### Конверсия"
   ]
  },
  {
   "cell_type": "markdown",
   "metadata": {},
   "source": [
    "Сформулируем нулевую и альтернативную гипотезы:\n",
    "- **H0**: Вероятность получить равные конверсии в группах A и B случайна и статистически не значима.\n",
    "- **H1**: Вероятность получить равные конверсии в группах A и B не случайна и статистически значима."
   ]
  },
  {
   "cell_type": "markdown",
   "metadata": {},
   "source": [
    "**Расчет статистической значимости различий в конверсии между группами по \"сырым\" данным**"
   ]
  },
  {
   "cell_type": "code",
   "execution_count": 30,
   "metadata": {},
   "outputs": [],
   "source": [
    "# получение данных по числу заказов на каждого пользователя в группе A\n",
    "ordersByUsersA = (\n",
    "    orders[orders['group'] == 'A']\n",
    "    .groupby('visitorId', as_index=False)\n",
    "    .agg({'transactionId': pd.Series.nunique})\n",
    ")\n",
    "ordersByUsersA.columns = ['userId', 'orders']\n",
    "\n",
    "# получение данных по числу заказов на каждого пользователя в группе B\n",
    "ordersByUsersB = (\n",
    "    orders[orders['group'] == 'B']\n",
    "    .groupby('visitorId', as_index=False)\n",
    "    .agg({'transactionId': pd.Series.nunique})\n",
    ")\n",
    "ordersByUsersB.columns = ['userId', 'orders']\n",
    "\n",
    "# получение выборки с количеством заказов по всем пользователям в группе A\n",
    "# тем, кто ничего не заказывал - поставлены нули\n",
    "sampleA = pd.concat([ordersByUsersA['orders'],\n",
    "                     pd.Series(0, index=np.arange(data['visitorsPerDateA'].sum() \\\n",
    "                                                  - len(ordersByUsersA['orders'])), \n",
    "                               name='orders')],axis=0\n",
    "                   )\n",
    "\n",
    "# получение выборки с количеством заказов по всем пользователям в группе A\n",
    "# тем, кто ничего не заказывал - поставлены нули\n",
    "sampleB = pd.concat([ordersByUsersB['orders'],\n",
    "                     pd.Series(0, index=np.arange(data['visitorsPerDateB'].sum() \\\n",
    "                                                  - len(ordersByUsersB['orders'])),\n",
    "                               name='orders')],axis=0\n",
    "                   )"
   ]
  },
  {
   "cell_type": "markdown",
   "metadata": {},
   "source": [
    "Теперь можем проверить гипотезу на \"сырых данных\""
   ]
  },
  {
   "cell_type": "code",
   "execution_count": 31,
   "metadata": {},
   "outputs": [
    {
     "name": "stdout",
     "output_type": "stream",
     "text": [
      "p-значение:  0.016792355056752608\n",
      "Отвергаем нулевую гипотезу: разница статистически значима\n"
     ]
    }
   ],
   "source": [
    "# расчет p-value\n",
    "p_value = st.mannwhitneyu(sampleA, sampleB)[1]\n",
    "\n",
    "# проверка гипотезы о различиях в конверсии\n",
    "print('p-значение: ', p_value)\n",
    "if (p_value < alpha):\n",
    "    print(\"Отвергаем нулевую гипотезу: разница статистически значима\")\n",
    "else:\n",
    "    print(\"Не получилось отвергнуть нулевую гипотезу: вывод о различии выборок сделать нельзя\")"
   ]
  },
  {
   "cell_type": "markdown",
   "metadata": {},
   "source": [
    "Между значениями конверсии в группах A и B есть значимые различия. По \"сырым\" данным - 1:0 в пользу группы B.\n",
    "\n",
    "Посмотрим на сами значения конверсии."
   ]
  },
  {
   "cell_type": "code",
   "execution_count": 32,
   "metadata": {},
   "outputs": [
    {
     "name": "stdout",
     "output_type": "stream",
     "text": [
      "Средее значение конверсии в группе A: 2.97%\n",
      "Средее значение конверсии в группе B: 3.38%\n"
     ]
    }
   ],
   "source": [
    "print('Средее значение конверсии в группе A: {:.2%}'.format(sampleA.mean()))\n",
    "print('Средее значение конверсии в группе B: {:.2%}'.format(sampleB.mean()))"
   ]
  },
  {
   "cell_type": "markdown",
   "metadata": {},
   "source": [
    "Действительно, средняя конверсия в группе B отличается и довольно существено - на 0,4% в целом и примерно на 15% относительно."
   ]
  },
  {
   "cell_type": "markdown",
   "metadata": {},
   "source": [
    "**Расчет статистической значимости различий в конверсии между группами по \"очищенным\" данным**"
   ]
  },
  {
   "cell_type": "markdown",
   "metadata": {},
   "source": [
    "Проверим гипотезу на \"очищенных данных\""
   ]
  },
  {
   "cell_type": "code",
   "execution_count": 33,
   "metadata": {},
   "outputs": [],
   "source": [
    "# получение очищенной выборки с количеством заказов по всем пользователям в группе A\n",
    "sampleAFiltered = pd.concat(\n",
    "    [\n",
    "        ordersByUsersA[\n",
    "            np.logical_not(ordersByUsersA['userId'].isin(abnormalUsers))\n",
    "        ]['orders'],\n",
    "        pd.Series(\n",
    "            0,\n",
    "            index=np.arange(\n",
    "                data['visitorsPerDateA'].sum() - len(ordersByUsersA['orders'])\n",
    "            ),\n",
    "            name='orders',\n",
    "        ),\n",
    "    ],\n",
    "    axis=0,\n",
    ")\n",
    "\n",
    "# получение очищенной выборки с количеством заказов по всем пользователям в группе B\n",
    "sampleBFiltered = pd.concat(\n",
    "    [\n",
    "        ordersByUsersB[\n",
    "            np.logical_not(ordersByUsersB['userId'].isin(abnormalUsers))\n",
    "        ]['orders'],\n",
    "        pd.Series(\n",
    "            0,\n",
    "            index=np.arange(\n",
    "                data['visitorsPerDateB'].sum() - len(ordersByUsersB['orders'])\n",
    "            ),\n",
    "            name='orders',\n",
    "        ),\n",
    "    ],\n",
    "    axis=0,\n",
    ")"
   ]
  },
  {
   "cell_type": "code",
   "execution_count": 34,
   "metadata": {},
   "outputs": [
    {
     "name": "stdout",
     "output_type": "stream",
     "text": [
      "p-значение:  0.012987550916817912\n",
      "Отвергаем нулевую гипотезу: разница статистически значима\n"
     ]
    }
   ],
   "source": [
    "# расчет p-value\n",
    "p_value = st.mannwhitneyu(sampleAFiltered, sampleBFiltered)[1]\n",
    "\n",
    "# проверка гипотезы о различиях в конверсии на очищенных данных\n",
    "print('p-значение: ', p_value)\n",
    "if (p_value < alpha):\n",
    "    print(\"Отвергаем нулевую гипотезу: разница статистически значима\")\n",
    "else:\n",
    "    print(\"Не получилось отвергнуть нулевую гипотезу: вывод о различии выборок сделать нельзя\")"
   ]
  },
  {
   "cell_type": "markdown",
   "metadata": {},
   "source": [
    "На \"очищенных\" данных ситуация не изменилась - отличия конверсий значимы. 2:0 в пользу группы B."
   ]
  },
  {
   "cell_type": "markdown",
   "metadata": {},
   "source": [
    "**Вывод по конверсии**\n",
    "\n",
    "И в случае сырых, и в случае очищенных данных, отличия конверсии между выборками значимы. У группы B конверсия выше, добавление формы подписки на сайт оказалось эффективным с точки зрения привлечения пользователей."
   ]
  },
  {
   "cell_type": "markdown",
   "metadata": {},
   "source": [
    "##### Средний чек"
   ]
  },
  {
   "cell_type": "markdown",
   "metadata": {},
   "source": [
    "Сформулируем нулевую и альтернативную гипотезы:\n",
    "- H0: Средний чек в группе A равен среднему чеку в группе B\n",
    "- H1: Средний чек в группе A не равен среднему чеку в группе B\n",
    "\n",
    "Гипотеза двухсторонняя"
   ]
  },
  {
   "cell_type": "markdown",
   "metadata": {},
   "source": [
    "Для проведения теста Манна-Уитни нужно 4 выборки:\n",
    "- 1) 2 по выручке групп A и B из \"сырых\" данных\n",
    "- 2) 2 по выручке групп A и B из \"очищенных\" данных"
   ]
  },
  {
   "cell_type": "markdown",
   "metadata": {},
   "source": [
    "**Расчет статистической значимости различий в среднем чеке заказа между группами по \"сырым\" данным**"
   ]
  },
  {
   "cell_type": "code",
   "execution_count": 35,
   "metadata": {},
   "outputs": [],
   "source": [
    "# получение выборок по группам A и B на сырых данных\n",
    "sampleA_Revenue = orders[orders['group']=='A']['revenue']\n",
    "\n",
    "sampleB_Revenue = orders[orders['group']=='B']['revenue']"
   ]
  },
  {
   "cell_type": "code",
   "execution_count": 36,
   "metadata": {},
   "outputs": [
    {
     "name": "stdout",
     "output_type": "stream",
     "text": [
      "p-значение:  0.7292909855432458\n",
      "Не получилось отвергнуть нулевую гипотезу: вывод о различии выборок сделать нельзя\n"
     ]
    }
   ],
   "source": [
    "# расчет p-value\n",
    "p_value = st.mannwhitneyu(sampleA_Revenue, sampleB_Revenue)[1]\n",
    "\n",
    "# проверка гипотезы о равенстве среднего чека на сырых данных\n",
    "print('p-значение: ', p_value)\n",
    "if (p_value < alpha):\n",
    "    print(\"Отвергаем нулевую гипотезу: разница статистически значима\")\n",
    "else:\n",
    "    print(\"Не получилось отвергнуть нулевую гипотезу: вывод о различии выборок сделать нельзя\")"
   ]
  },
  {
   "cell_type": "markdown",
   "metadata": {},
   "source": [
    "Отличия на сырых данных незначимы - средний чек может быть равным в обеих группах с 73%-ой вероятностью."
   ]
  },
  {
   "cell_type": "markdown",
   "metadata": {},
   "source": [
    "**Расчет статистической значимости различий в среднем чеке заказа между группами по \"очищенным\" данным**"
   ]
  },
  {
   "cell_type": "code",
   "execution_count": 37,
   "metadata": {},
   "outputs": [],
   "source": [
    "# получение очищенной выборки по среднему чеку в группе A\n",
    "sampleA_Revenue_filtered = orders[\n",
    "    np.logical_and(orders['group'] == 'A', \n",
    "                   np.logical_not(orders['visitorId'].isin(abnormalUsers)))]['revenue']\n",
    "\n",
    "# получение очищенной выборки по среднему чеку в группе B\n",
    "sampleB_Revenue_filtered = orders[\n",
    "    np.logical_and(orders['group'] == 'B',\n",
    "                   np.logical_not(orders['visitorId'].isin(abnormalUsers)))]['revenue']"
   ]
  },
  {
   "cell_type": "code",
   "execution_count": 38,
   "metadata": {},
   "outputs": [
    {
     "name": "stdout",
     "output_type": "stream",
     "text": [
      "p-значение:  0.794416330141723\n",
      "Не получилось отвергнуть нулевую гипотезу: вывод о различии выборок сделать нельзя\n"
     ]
    }
   ],
   "source": [
    "# расчет p-value\n",
    "p_value = st.mannwhitneyu(sampleA_Revenue_filtered, sampleB_Revenue_filtered)[1]\n",
    "\n",
    "# проверка гипотезы о равенстве среднего чека на сырых данных\n",
    "print('p-значение: ', p_value)\n",
    "if (p_value < alpha):\n",
    "    print(\"Отвергаем нулевую гипотезу: разница статистически значима\")\n",
    "else:\n",
    "    print(\"Не получилось отвергнуть нулевую гипотезу: вывод о различии выборок сделать нельзя\")"
   ]
  },
  {
   "cell_type": "markdown",
   "metadata": {},
   "source": [
    "На \"очищенных\" данных ситуация не изменилась - отличия по-прежнему не значимы. Более того, вероятность случайно получить один и тот же средний чек немного выросла"
   ]
  },
  {
   "cell_type": "markdown",
   "metadata": {},
   "source": [
    "**Вывод по среднему чеку**\n",
    "\n",
    "И в случае сырых, и в случае очищенных данных, отличия среднего чека заказа между выборками не значимы.\n",
    "\n",
    "Стоит посмотреть отдельно, вырос ли средний чек в принципе. Посмотрим по очищенным данным"
   ]
  },
  {
   "cell_type": "code",
   "execution_count": 39,
   "metadata": {},
   "outputs": [
    {
     "name": "stdout",
     "output_type": "stream",
     "text": [
      "Средний чек заказа в группе A: 6167.996197718631\n",
      "Средний чек заказа в группе B: 6246.70684039088\n"
     ]
    }
   ],
   "source": [
    "print('Средний чек заказа в группе A:', sampleA_Revenue_filtered.mean())\n",
    "print('Средний чек заказа в группе B:', sampleB_Revenue_filtered.mean())"
   ]
  },
  {
   "cell_type": "markdown",
   "metadata": {},
   "source": [
    "По итогу, средний чек действительно вырос - но не настолько, чтобы отличия стали реально значимы.\n",
    "\n",
    "Если добавить к этому выводу статистически значимый рост конверсии на 15% (относительный) - то будет расти общая выручка засчет привлечения большего числа новых пользователей"
   ]
  },
  {
   "cell_type": "markdown",
   "metadata": {},
   "source": [
    "## Итоговый вывод"
   ]
  },
  {
   "cell_type": "markdown",
   "metadata": {},
   "source": [
    "По итогам анализа A/B-теста, результаты можно считать промежуточными. По итогам, получены результаты:\n",
    "- Имеется статистически значимое различие по конверсии между группами и в случае наличия аномалий, так и после их удаления\n",
    "- Судя по относительному графику, конверсия в группе B стабильно выше, после роста зафиксировалась примерно на уровне 15%\n",
    "- Отсутствует статистически значимое различие по значению среднего чека и при аномалий, и при их удалении. Тем не менее, в группе B он немного вырос\n",
    "- График относительного изменения среднего чека колеблется - это объясняется наличием одного выброса по сумме заказа на 1,2 млн у.е.\n",
    "\n",
    "**Стоит принять решение о продолжении теста и подтвердить статистическую значимость по среднему чеку**\n",
    "\n",
    "Конверсия после внесения формы подписки на сайт стабильно лучше, в среднем чек с одного заказа немного вырос. Есть предпосылки для будущего признания этого теста полностью успешным. Даже если статистическая значимость достигнута не будет и средний чек почти не изменится, при статистически значимом росте конверсии получилось увеличить общую выручку (за счет большего количества новых заказов).\n",
    "\n",
    "Но чтобы избежать проблемы подглядывания, в момент фиксации статистической значимости по среднему чеку, стоит подождать еще некоторое время (например, 7 дней) - все-таки средний чек может снова вырасти в моменте из-за какой-либо аномалии, а затем вернуться на прежний уровень."
   ]
  }
 ],
 "metadata": {
  "ExecuteTimeLog": [
   {
    "duration": 1375,
    "start_time": "2022-03-22T15:29:18.879Z"
   },
   {
    "duration": 247,
    "start_time": "2022-03-22T15:34:37.233Z"
   },
   {
    "duration": 47,
    "start_time": "2022-03-22T15:35:09.142Z"
   },
   {
    "duration": 16,
    "start_time": "2022-03-22T15:35:23.853Z"
   },
   {
    "duration": 1264,
    "start_time": "2022-03-22T15:35:54.172Z"
   },
   {
    "duration": 49,
    "start_time": "2022-03-22T15:35:55.438Z"
   },
   {
    "duration": 42,
    "start_time": "2022-03-22T15:35:55.488Z"
   },
   {
    "duration": 5461,
    "start_time": "2022-03-22T15:36:35.085Z"
   },
   {
    "duration": 87,
    "start_time": "2022-03-22T15:51:40.781Z"
   },
   {
    "duration": 10,
    "start_time": "2022-03-22T15:52:08.323Z"
   },
   {
    "duration": 10,
    "start_time": "2022-03-22T15:52:26.534Z"
   },
   {
    "duration": 12,
    "start_time": "2022-03-22T15:55:20.980Z"
   },
   {
    "duration": 266,
    "start_time": "2022-03-22T15:56:20.821Z"
   },
   {
    "duration": 3882,
    "start_time": "2022-03-22T15:57:19.573Z"
   },
   {
    "duration": 6,
    "start_time": "2022-03-22T15:58:58.508Z"
   },
   {
    "duration": 4,
    "start_time": "2022-03-22T15:59:17.328Z"
   },
   {
    "duration": 3,
    "start_time": "2022-03-22T16:07:38.344Z"
   },
   {
    "duration": 1214,
    "start_time": "2022-03-22T19:34:28.331Z"
   },
   {
    "duration": 55,
    "start_time": "2022-03-22T19:34:29.547Z"
   },
   {
    "duration": 112,
    "start_time": "2022-03-22T19:34:29.604Z"
   },
   {
    "duration": 11,
    "start_time": "2022-03-22T19:34:29.718Z"
   },
   {
    "duration": 10,
    "start_time": "2022-03-22T19:34:29.730Z"
   },
   {
    "duration": 29,
    "start_time": "2022-03-22T19:34:29.742Z"
   },
   {
    "duration": 16,
    "start_time": "2022-03-22T19:36:51.836Z"
   },
   {
    "duration": 4,
    "start_time": "2022-03-22T19:37:30.364Z"
   },
   {
    "duration": 14,
    "start_time": "2022-03-22T19:37:45.418Z"
   },
   {
    "duration": 4,
    "start_time": "2022-03-22T19:37:53.852Z"
   },
   {
    "duration": 3,
    "start_time": "2022-03-22T19:39:50.346Z"
   },
   {
    "duration": 91,
    "start_time": "2022-03-22T19:49:40.257Z"
   },
   {
    "duration": 8,
    "start_time": "2022-03-22T19:53:41.587Z"
   },
   {
    "duration": 8,
    "start_time": "2022-03-22T19:55:37.556Z"
   },
   {
    "duration": 4,
    "start_time": "2022-03-22T19:57:40.617Z"
   },
   {
    "duration": 144,
    "start_time": "2022-03-22T19:59:26.602Z"
   },
   {
    "duration": 130,
    "start_time": "2022-03-22T20:17:15.549Z"
   },
   {
    "duration": 97,
    "start_time": "2022-03-22T20:17:25.112Z"
   },
   {
    "duration": 12,
    "start_time": "2022-03-22T20:18:12.161Z"
   },
   {
    "duration": 12,
    "start_time": "2022-03-22T20:18:33.418Z"
   },
   {
    "duration": 9,
    "start_time": "2022-03-22T20:18:46.497Z"
   },
   {
    "duration": 16,
    "start_time": "2022-03-22T20:37:40.402Z"
   },
   {
    "duration": 7,
    "start_time": "2022-03-22T20:37:49.066Z"
   },
   {
    "duration": 9,
    "start_time": "2022-03-22T20:38:04.365Z"
   },
   {
    "duration": 12,
    "start_time": "2022-03-22T20:38:56.373Z"
   },
   {
    "duration": 14,
    "start_time": "2022-03-22T20:41:51.814Z"
   },
   {
    "duration": 6,
    "start_time": "2022-03-22T20:42:02.082Z"
   },
   {
    "duration": 8,
    "start_time": "2022-03-22T20:42:45.658Z"
   },
   {
    "duration": 6,
    "start_time": "2022-03-22T20:42:55.732Z"
   },
   {
    "duration": 13,
    "start_time": "2022-03-22T20:46:00.450Z"
   },
   {
    "duration": 15,
    "start_time": "2022-03-22T20:55:11.482Z"
   },
   {
    "duration": 10,
    "start_time": "2022-03-22T20:55:43.092Z"
   },
   {
    "duration": 7,
    "start_time": "2022-03-22T20:56:09.562Z"
   },
   {
    "duration": 8,
    "start_time": "2022-03-22T20:56:25.981Z"
   },
   {
    "duration": 10,
    "start_time": "2022-03-22T20:56:38.191Z"
   },
   {
    "duration": 9,
    "start_time": "2022-03-22T21:03:45.555Z"
   },
   {
    "duration": 41,
    "start_time": "2022-03-22T21:11:48.900Z"
   },
   {
    "duration": 45,
    "start_time": "2022-03-22T21:12:00.168Z"
   },
   {
    "duration": 42,
    "start_time": "2022-03-22T21:12:12.543Z"
   },
   {
    "duration": 41,
    "start_time": "2022-03-22T21:13:53.543Z"
   },
   {
    "duration": 11,
    "start_time": "2022-03-22T21:16:30.432Z"
   },
   {
    "duration": 18,
    "start_time": "2022-03-22T21:17:12.103Z"
   },
   {
    "duration": 1111,
    "start_time": "2022-03-22T21:53:37.996Z"
   },
   {
    "duration": 61,
    "start_time": "2022-03-22T21:53:39.109Z"
   },
   {
    "duration": 63,
    "start_time": "2022-03-22T21:53:39.173Z"
   },
   {
    "duration": 11,
    "start_time": "2022-03-22T21:53:39.238Z"
   },
   {
    "duration": 3,
    "start_time": "2022-03-22T21:53:39.251Z"
   },
   {
    "duration": 21,
    "start_time": "2022-03-22T21:53:39.256Z"
   },
   {
    "duration": 7,
    "start_time": "2022-03-22T21:53:39.279Z"
   },
   {
    "duration": 62,
    "start_time": "2022-03-22T21:53:39.288Z"
   },
   {
    "duration": 134,
    "start_time": "2022-03-22T21:53:39.352Z"
   },
   {
    "duration": 0,
    "start_time": "2022-03-22T21:53:39.488Z"
   },
   {
    "duration": 0,
    "start_time": "2022-03-22T21:53:39.489Z"
   },
   {
    "duration": 0,
    "start_time": "2022-03-22T21:53:39.491Z"
   },
   {
    "duration": 0,
    "start_time": "2022-03-22T21:53:39.493Z"
   },
   {
    "duration": 0,
    "start_time": "2022-03-22T21:53:39.495Z"
   },
   {
    "duration": 701,
    "start_time": "2022-03-22T21:54:02.685Z"
   },
   {
    "duration": 604,
    "start_time": "2022-03-22T21:55:25.512Z"
   },
   {
    "duration": 1093,
    "start_time": "2022-03-22T21:55:30.774Z"
   },
   {
    "duration": 58,
    "start_time": "2022-03-22T21:55:31.870Z"
   },
   {
    "duration": 71,
    "start_time": "2022-03-22T21:55:31.931Z"
   },
   {
    "duration": 13,
    "start_time": "2022-03-22T21:55:32.004Z"
   },
   {
    "duration": 12,
    "start_time": "2022-03-22T21:55:32.021Z"
   },
   {
    "duration": 14,
    "start_time": "2022-03-22T21:55:32.035Z"
   },
   {
    "duration": 10,
    "start_time": "2022-03-22T21:55:32.051Z"
   },
   {
    "duration": 49,
    "start_time": "2022-03-22T21:55:32.063Z"
   },
   {
    "duration": 734,
    "start_time": "2022-03-22T21:55:32.113Z"
   },
   {
    "duration": 0,
    "start_time": "2022-03-22T21:55:32.849Z"
   },
   {
    "duration": 0,
    "start_time": "2022-03-22T21:55:32.850Z"
   },
   {
    "duration": 0,
    "start_time": "2022-03-22T21:55:32.851Z"
   },
   {
    "duration": 0,
    "start_time": "2022-03-22T21:55:32.852Z"
   },
   {
    "duration": 0,
    "start_time": "2022-03-22T21:55:32.853Z"
   },
   {
    "duration": 585,
    "start_time": "2022-03-22T21:55:52.678Z"
   },
   {
    "duration": 10,
    "start_time": "2022-03-22T21:56:09.970Z"
   },
   {
    "duration": 131,
    "start_time": "2022-03-22T21:56:21.511Z"
   },
   {
    "duration": 620,
    "start_time": "2022-03-22T21:56:25.235Z"
   },
   {
    "duration": 608,
    "start_time": "2022-03-22T21:57:02.371Z"
   },
   {
    "duration": 12,
    "start_time": "2022-03-22T21:58:59.024Z"
   },
   {
    "duration": 1132,
    "start_time": "2022-03-22T21:59:06.659Z"
   },
   {
    "duration": 60,
    "start_time": "2022-03-22T21:59:07.793Z"
   },
   {
    "duration": 62,
    "start_time": "2022-03-22T21:59:07.855Z"
   },
   {
    "duration": 22,
    "start_time": "2022-03-22T21:59:07.920Z"
   },
   {
    "duration": 4,
    "start_time": "2022-03-22T21:59:07.944Z"
   },
   {
    "duration": 15,
    "start_time": "2022-03-22T21:59:07.949Z"
   },
   {
    "duration": 10,
    "start_time": "2022-03-22T21:59:07.965Z"
   },
   {
    "duration": 69,
    "start_time": "2022-03-22T21:59:07.977Z"
   },
   {
    "duration": 738,
    "start_time": "2022-03-22T21:59:08.047Z"
   },
   {
    "duration": 0,
    "start_time": "2022-03-22T21:59:08.787Z"
   },
   {
    "duration": 0,
    "start_time": "2022-03-22T21:59:08.788Z"
   },
   {
    "duration": 0,
    "start_time": "2022-03-22T21:59:08.789Z"
   },
   {
    "duration": 0,
    "start_time": "2022-03-22T21:59:08.790Z"
   },
   {
    "duration": 0,
    "start_time": "2022-03-22T21:59:08.791Z"
   },
   {
    "duration": 0,
    "start_time": "2022-03-22T21:59:08.792Z"
   },
   {
    "duration": 70,
    "start_time": "2022-03-22T21:59:18.862Z"
   },
   {
    "duration": 19,
    "start_time": "2022-03-22T21:59:22.873Z"
   },
   {
    "duration": 13,
    "start_time": "2022-03-22T21:59:58.163Z"
   },
   {
    "duration": 1081,
    "start_time": "2022-03-22T22:00:03.331Z"
   },
   {
    "duration": 63,
    "start_time": "2022-03-22T22:00:04.414Z"
   },
   {
    "duration": 66,
    "start_time": "2022-03-22T22:00:04.479Z"
   },
   {
    "duration": 13,
    "start_time": "2022-03-22T22:00:04.547Z"
   },
   {
    "duration": 4,
    "start_time": "2022-03-22T22:00:04.562Z"
   },
   {
    "duration": 14,
    "start_time": "2022-03-22T22:00:04.568Z"
   },
   {
    "duration": 22,
    "start_time": "2022-03-22T22:00:04.584Z"
   },
   {
    "duration": 51,
    "start_time": "2022-03-22T22:00:04.608Z"
   },
   {
    "duration": 17,
    "start_time": "2022-03-22T22:00:04.661Z"
   },
   {
    "duration": 7,
    "start_time": "2022-03-22T22:00:04.681Z"
   },
   {
    "duration": 74,
    "start_time": "2022-03-22T22:00:04.690Z"
   },
   {
    "duration": 21,
    "start_time": "2022-03-22T22:00:04.766Z"
   },
   {
    "duration": 11,
    "start_time": "2022-03-22T22:00:04.789Z"
   },
   {
    "duration": 66,
    "start_time": "2022-03-22T22:00:04.803Z"
   },
   {
    "duration": 4,
    "start_time": "2022-03-22T22:00:04.876Z"
   },
   {
    "duration": 115,
    "start_time": "2022-03-22T22:08:38.009Z"
   },
   {
    "duration": 547,
    "start_time": "2022-03-22T22:09:32.893Z"
   },
   {
    "duration": 462,
    "start_time": "2022-03-22T22:10:22.498Z"
   },
   {
    "duration": 474,
    "start_time": "2022-03-22T22:10:42.994Z"
   },
   {
    "duration": 479,
    "start_time": "2022-03-22T22:10:52.731Z"
   },
   {
    "duration": 468,
    "start_time": "2022-03-22T22:10:56.138Z"
   },
   {
    "duration": 449,
    "start_time": "2022-03-22T22:11:18.592Z"
   },
   {
    "duration": 477,
    "start_time": "2022-03-22T22:11:33.731Z"
   },
   {
    "duration": 499,
    "start_time": "2022-03-22T22:14:05.486Z"
   },
   {
    "duration": 475,
    "start_time": "2022-03-22T22:14:28.054Z"
   },
   {
    "duration": 272,
    "start_time": "2022-03-22T22:17:02.700Z"
   },
   {
    "duration": 195,
    "start_time": "2022-03-22T22:18:15.700Z"
   },
   {
    "duration": 200,
    "start_time": "2022-03-22T22:18:30.399Z"
   },
   {
    "duration": 283,
    "start_time": "2022-03-22T22:23:08.597Z"
   },
   {
    "duration": 19,
    "start_time": "2022-03-22T22:24:32.756Z"
   },
   {
    "duration": 15,
    "start_time": "2022-03-22T22:25:00.950Z"
   },
   {
    "duration": 305,
    "start_time": "2022-03-22T22:25:09.581Z"
   },
   {
    "duration": 328,
    "start_time": "2022-03-22T22:25:23.620Z"
   },
   {
    "duration": 505,
    "start_time": "2022-03-22T22:25:50.398Z"
   },
   {
    "duration": 216,
    "start_time": "2022-03-22T22:26:02.561Z"
   },
   {
    "duration": 300,
    "start_time": "2022-03-22T22:26:41.654Z"
   },
   {
    "duration": 182,
    "start_time": "2022-03-22T22:31:35.510Z"
   },
   {
    "duration": 191,
    "start_time": "2022-03-22T22:32:37.274Z"
   },
   {
    "duration": 273,
    "start_time": "2022-03-22T22:33:23.149Z"
   },
   {
    "duration": 199,
    "start_time": "2022-03-22T22:33:47.468Z"
   },
   {
    "duration": 340,
    "start_time": "2022-03-22T22:37:15.701Z"
   },
   {
    "duration": 342,
    "start_time": "2022-03-22T22:37:51.102Z"
   },
   {
    "duration": 283,
    "start_time": "2022-03-22T22:38:20.276Z"
   },
   {
    "duration": 307,
    "start_time": "2022-03-22T22:39:42.705Z"
   },
   {
    "duration": 322,
    "start_time": "2022-03-22T22:40:07.474Z"
   },
   {
    "duration": 314,
    "start_time": "2022-03-22T22:41:28.704Z"
   },
   {
    "duration": 286,
    "start_time": "2022-03-22T22:41:37.964Z"
   },
   {
    "duration": 1255,
    "start_time": "2022-03-23T12:27:49.515Z"
   },
   {
    "duration": 75,
    "start_time": "2022-03-23T12:27:50.773Z"
   },
   {
    "duration": 57,
    "start_time": "2022-03-23T12:27:50.850Z"
   },
   {
    "duration": 29,
    "start_time": "2022-03-23T12:27:50.909Z"
   },
   {
    "duration": 4,
    "start_time": "2022-03-23T12:27:50.939Z"
   },
   {
    "duration": 16,
    "start_time": "2022-03-23T12:27:50.944Z"
   },
   {
    "duration": 8,
    "start_time": "2022-03-23T12:27:50.962Z"
   },
   {
    "duration": 38,
    "start_time": "2022-03-23T12:27:50.972Z"
   },
   {
    "duration": 25,
    "start_time": "2022-03-23T12:27:51.011Z"
   },
   {
    "duration": 31,
    "start_time": "2022-03-23T12:27:51.038Z"
   },
   {
    "duration": 72,
    "start_time": "2022-03-23T12:27:51.071Z"
   },
   {
    "duration": 21,
    "start_time": "2022-03-23T12:27:51.145Z"
   },
   {
    "duration": 11,
    "start_time": "2022-03-23T12:27:51.168Z"
   },
   {
    "duration": 98,
    "start_time": "2022-03-23T12:27:51.181Z"
   },
   {
    "duration": 613,
    "start_time": "2022-03-23T12:27:51.281Z"
   },
   {
    "duration": 291,
    "start_time": "2022-03-23T12:27:51.896Z"
   },
   {
    "duration": 388,
    "start_time": "2022-03-23T12:27:52.189Z"
   },
   {
    "duration": 188,
    "start_time": "2022-03-23T12:27:52.579Z"
   },
   {
    "duration": 279,
    "start_time": "2022-03-23T12:27:52.769Z"
   },
   {
    "duration": 1023,
    "start_time": "2022-03-23T13:07:35.476Z"
   },
   {
    "duration": 66,
    "start_time": "2022-03-23T13:07:36.501Z"
   },
   {
    "duration": 53,
    "start_time": "2022-03-23T13:07:36.568Z"
   },
   {
    "duration": 20,
    "start_time": "2022-03-23T13:07:36.622Z"
   },
   {
    "duration": 3,
    "start_time": "2022-03-23T13:07:36.644Z"
   },
   {
    "duration": 12,
    "start_time": "2022-03-23T13:07:36.649Z"
   },
   {
    "duration": 9,
    "start_time": "2022-03-23T13:07:36.663Z"
   },
   {
    "duration": 60,
    "start_time": "2022-03-23T13:07:36.674Z"
   },
   {
    "duration": 5,
    "start_time": "2022-03-23T13:07:36.736Z"
   },
   {
    "duration": 14,
    "start_time": "2022-03-23T13:07:36.744Z"
   },
   {
    "duration": 75,
    "start_time": "2022-03-23T13:07:36.760Z"
   },
   {
    "duration": 20,
    "start_time": "2022-03-23T13:07:36.837Z"
   },
   {
    "duration": 18,
    "start_time": "2022-03-23T13:07:36.858Z"
   },
   {
    "duration": 38,
    "start_time": "2022-03-23T13:07:36.878Z"
   },
   {
    "duration": 529,
    "start_time": "2022-03-23T13:07:36.918Z"
   },
   {
    "duration": 187,
    "start_time": "2022-03-23T13:07:37.449Z"
   },
   {
    "duration": 296,
    "start_time": "2022-03-23T13:07:37.637Z"
   },
   {
    "duration": 190,
    "start_time": "2022-03-23T13:07:37.935Z"
   },
   {
    "duration": 300,
    "start_time": "2022-03-23T13:07:38.132Z"
   },
   {
    "duration": 13,
    "start_time": "2022-03-23T13:50:35.688Z"
   },
   {
    "duration": 108,
    "start_time": "2022-03-23T13:52:05.774Z"
   },
   {
    "duration": 109,
    "start_time": "2022-03-23T13:53:11.214Z"
   },
   {
    "duration": 127,
    "start_time": "2022-03-23T13:53:20.830Z"
   },
   {
    "duration": 122,
    "start_time": "2022-03-23T14:04:41.331Z"
   },
   {
    "duration": 1608,
    "start_time": "2022-03-24T04:29:09.422Z"
   },
   {
    "duration": 80,
    "start_time": "2022-03-24T04:29:11.033Z"
   },
   {
    "duration": 86,
    "start_time": "2022-03-24T04:29:11.115Z"
   },
   {
    "duration": 18,
    "start_time": "2022-03-24T04:29:11.204Z"
   },
   {
    "duration": 5,
    "start_time": "2022-03-24T04:29:11.224Z"
   },
   {
    "duration": 60,
    "start_time": "2022-03-24T04:29:11.232Z"
   },
   {
    "duration": 9,
    "start_time": "2022-03-24T04:29:11.295Z"
   },
   {
    "duration": 77,
    "start_time": "2022-03-24T04:29:11.307Z"
   },
   {
    "duration": 5,
    "start_time": "2022-03-24T04:29:11.387Z"
   },
   {
    "duration": 18,
    "start_time": "2022-03-24T04:29:11.396Z"
   },
   {
    "duration": 100,
    "start_time": "2022-03-24T04:29:11.416Z"
   },
   {
    "duration": 29,
    "start_time": "2022-03-24T04:29:11.519Z"
   },
   {
    "duration": 46,
    "start_time": "2022-03-24T04:29:11.550Z"
   },
   {
    "duration": 86,
    "start_time": "2022-03-24T04:29:11.599Z"
   },
   {
    "duration": 927,
    "start_time": "2022-03-24T04:29:11.688Z"
   },
   {
    "duration": 438,
    "start_time": "2022-03-24T04:29:12.617Z"
   },
   {
    "duration": 491,
    "start_time": "2022-03-24T04:29:13.058Z"
   },
   {
    "duration": 321,
    "start_time": "2022-03-24T04:29:13.552Z"
   },
   {
    "duration": 412,
    "start_time": "2022-03-24T04:29:13.876Z"
   },
   {
    "duration": 211,
    "start_time": "2022-03-24T04:29:14.291Z"
   },
   {
    "duration": 384,
    "start_time": "2022-03-24T04:29:43.392Z"
   },
   {
    "duration": 7,
    "start_time": "2022-03-24T04:33:40.049Z"
   },
   {
    "duration": 1297,
    "start_time": "2022-03-24T08:09:37.498Z"
   },
   {
    "duration": 66,
    "start_time": "2022-03-24T08:09:38.798Z"
   },
   {
    "duration": 89,
    "start_time": "2022-03-24T08:09:38.865Z"
   },
   {
    "duration": 12,
    "start_time": "2022-03-24T08:09:38.956Z"
   },
   {
    "duration": 4,
    "start_time": "2022-03-24T08:09:38.970Z"
   },
   {
    "duration": 40,
    "start_time": "2022-03-24T08:09:38.976Z"
   },
   {
    "duration": 31,
    "start_time": "2022-03-24T08:09:39.018Z"
   },
   {
    "duration": 60,
    "start_time": "2022-03-24T08:09:39.051Z"
   },
   {
    "duration": 5,
    "start_time": "2022-03-24T08:09:39.113Z"
   },
   {
    "duration": 41,
    "start_time": "2022-03-24T08:09:39.120Z"
   },
   {
    "duration": 137,
    "start_time": "2022-03-24T08:09:39.163Z"
   },
   {
    "duration": 20,
    "start_time": "2022-03-24T08:09:39.302Z"
   },
   {
    "duration": 19,
    "start_time": "2022-03-24T08:09:39.324Z"
   },
   {
    "duration": 57,
    "start_time": "2022-03-24T08:09:39.345Z"
   },
   {
    "duration": 597,
    "start_time": "2022-03-24T08:09:39.404Z"
   },
   {
    "duration": 228,
    "start_time": "2022-03-24T08:09:40.003Z"
   },
   {
    "duration": 372,
    "start_time": "2022-03-24T08:09:40.233Z"
   },
   {
    "duration": 226,
    "start_time": "2022-03-24T08:09:40.607Z"
   },
   {
    "duration": 305,
    "start_time": "2022-03-24T08:09:40.835Z"
   },
   {
    "duration": 150,
    "start_time": "2022-03-24T08:09:41.142Z"
   },
   {
    "duration": 6,
    "start_time": "2022-03-24T08:09:41.294Z"
   },
   {
    "duration": 3,
    "start_time": "2022-03-24T08:14:16.867Z"
   },
   {
    "duration": 137,
    "start_time": "2022-03-24T08:17:13.678Z"
   },
   {
    "duration": 158,
    "start_time": "2022-03-24T08:18:44.965Z"
   },
   {
    "duration": 6,
    "start_time": "2022-03-24T08:24:27.079Z"
   },
   {
    "duration": 150,
    "start_time": "2022-03-24T08:32:12.954Z"
   },
   {
    "duration": 1301,
    "start_time": "2022-03-24T13:06:46.700Z"
   },
   {
    "duration": 4,
    "start_time": "2022-03-24T13:06:48.004Z"
   },
   {
    "duration": 173,
    "start_time": "2022-03-24T13:06:48.010Z"
   },
   {
    "duration": 12,
    "start_time": "2022-03-24T13:06:48.185Z"
   },
   {
    "duration": 13,
    "start_time": "2022-03-24T13:06:48.198Z"
   },
   {
    "duration": 24,
    "start_time": "2022-03-24T13:06:48.213Z"
   },
   {
    "duration": 34,
    "start_time": "2022-03-24T13:06:48.239Z"
   },
   {
    "duration": 93,
    "start_time": "2022-03-24T13:06:48.275Z"
   },
   {
    "duration": 4,
    "start_time": "2022-03-24T13:06:48.369Z"
   },
   {
    "duration": 13,
    "start_time": "2022-03-24T13:06:48.376Z"
   },
   {
    "duration": 115,
    "start_time": "2022-03-24T13:06:48.391Z"
   },
   {
    "duration": 21,
    "start_time": "2022-03-24T13:06:48.508Z"
   },
   {
    "duration": 11,
    "start_time": "2022-03-24T13:06:48.531Z"
   },
   {
    "duration": 39,
    "start_time": "2022-03-24T13:06:48.544Z"
   },
   {
    "duration": 314,
    "start_time": "2022-03-24T13:06:48.585Z"
   },
   {
    "duration": 308,
    "start_time": "2022-03-24T13:06:48.901Z"
   },
   {
    "duration": 223,
    "start_time": "2022-03-24T13:06:49.211Z"
   },
   {
    "duration": 368,
    "start_time": "2022-03-24T13:06:49.436Z"
   },
   {
    "duration": 209,
    "start_time": "2022-03-24T13:06:49.805Z"
   },
   {
    "duration": 315,
    "start_time": "2022-03-24T13:06:50.016Z"
   },
   {
    "duration": 147,
    "start_time": "2022-03-24T13:06:50.333Z"
   },
   {
    "duration": 4,
    "start_time": "2022-03-24T13:06:50.482Z"
   },
   {
    "duration": 162,
    "start_time": "2022-03-24T13:06:50.488Z"
   },
   {
    "duration": 5,
    "start_time": "2022-03-24T13:06:50.652Z"
   },
   {
    "duration": 224,
    "start_time": "2022-03-24T13:12:29.538Z"
   },
   {
    "duration": 12,
    "start_time": "2022-03-24T13:19:46.333Z"
   },
   {
    "duration": 342,
    "start_time": "2022-03-24T13:19:49.719Z"
   },
   {
    "duration": 364,
    "start_time": "2022-03-24T13:51:37.009Z"
   },
   {
    "duration": 1168,
    "start_time": "2022-03-24T13:51:52.269Z"
   },
   {
    "duration": 63,
    "start_time": "2022-03-24T13:51:53.439Z"
   },
   {
    "duration": 110,
    "start_time": "2022-03-24T13:51:53.504Z"
   },
   {
    "duration": 16,
    "start_time": "2022-03-24T13:51:53.617Z"
   },
   {
    "duration": 18,
    "start_time": "2022-03-24T13:51:53.636Z"
   },
   {
    "duration": 39,
    "start_time": "2022-03-24T13:51:53.656Z"
   },
   {
    "duration": 40,
    "start_time": "2022-03-24T13:51:53.697Z"
   },
   {
    "duration": 68,
    "start_time": "2022-03-24T13:51:53.738Z"
   },
   {
    "duration": 5,
    "start_time": "2022-03-24T13:51:53.808Z"
   },
   {
    "duration": 40,
    "start_time": "2022-03-24T13:51:53.816Z"
   },
   {
    "duration": 97,
    "start_time": "2022-03-24T13:51:53.858Z"
   },
   {
    "duration": 22,
    "start_time": "2022-03-24T13:51:53.956Z"
   },
   {
    "duration": 12,
    "start_time": "2022-03-24T13:51:53.980Z"
   },
   {
    "duration": 75,
    "start_time": "2022-03-24T13:51:53.994Z"
   },
   {
    "duration": 333,
    "start_time": "2022-03-24T13:51:54.071Z"
   },
   {
    "duration": 350,
    "start_time": "2022-03-24T13:51:54.405Z"
   },
   {
    "duration": 248,
    "start_time": "2022-03-24T13:51:54.757Z"
   },
   {
    "duration": 26,
    "start_time": "2022-03-24T13:51:55.007Z"
   },
   {
    "duration": 334,
    "start_time": "2022-03-24T13:51:55.035Z"
   },
   {
    "duration": 224,
    "start_time": "2022-03-24T13:51:55.370Z"
   },
   {
    "duration": 16,
    "start_time": "2022-03-24T13:51:55.596Z"
   },
   {
    "duration": 326,
    "start_time": "2022-03-24T13:51:55.614Z"
   },
   {
    "duration": 145,
    "start_time": "2022-03-24T13:51:55.943Z"
   },
   {
    "duration": 5,
    "start_time": "2022-03-24T13:51:56.090Z"
   },
   {
    "duration": 168,
    "start_time": "2022-03-24T13:51:56.097Z"
   },
   {
    "duration": 6,
    "start_time": "2022-03-24T13:51:56.266Z"
   },
   {
    "duration": 1115,
    "start_time": "2022-03-24T14:17:27.540Z"
   },
   {
    "duration": 60,
    "start_time": "2022-03-24T14:17:28.657Z"
   },
   {
    "duration": 75,
    "start_time": "2022-03-24T14:17:28.719Z"
   },
   {
    "duration": 12,
    "start_time": "2022-03-24T14:17:28.797Z"
   },
   {
    "duration": 22,
    "start_time": "2022-03-24T14:17:28.811Z"
   },
   {
    "duration": 27,
    "start_time": "2022-03-24T14:17:28.835Z"
   },
   {
    "duration": 8,
    "start_time": "2022-03-24T14:17:28.863Z"
   },
   {
    "duration": 61,
    "start_time": "2022-03-24T14:17:28.872Z"
   },
   {
    "duration": 5,
    "start_time": "2022-03-24T14:17:28.935Z"
   },
   {
    "duration": 27,
    "start_time": "2022-03-24T14:17:28.942Z"
   },
   {
    "duration": 128,
    "start_time": "2022-03-24T14:17:28.971Z"
   },
   {
    "duration": 32,
    "start_time": "2022-03-24T14:17:29.101Z"
   },
   {
    "duration": 28,
    "start_time": "2022-03-24T14:17:29.135Z"
   },
   {
    "duration": 50,
    "start_time": "2022-03-24T14:17:29.165Z"
   },
   {
    "duration": 297,
    "start_time": "2022-03-24T14:17:29.217Z"
   },
   {
    "duration": 315,
    "start_time": "2022-03-24T14:17:29.516Z"
   },
   {
    "duration": 229,
    "start_time": "2022-03-24T14:17:29.833Z"
   },
   {
    "duration": 14,
    "start_time": "2022-03-24T14:17:30.064Z"
   },
   {
    "duration": 374,
    "start_time": "2022-03-24T14:17:30.079Z"
   },
   {
    "duration": 219,
    "start_time": "2022-03-24T14:17:30.455Z"
   },
   {
    "duration": 15,
    "start_time": "2022-03-24T14:17:30.676Z"
   },
   {
    "duration": 338,
    "start_time": "2022-03-24T14:17:30.693Z"
   },
   {
    "duration": 160,
    "start_time": "2022-03-24T14:17:31.034Z"
   },
   {
    "duration": 6,
    "start_time": "2022-03-24T14:17:31.196Z"
   },
   {
    "duration": 187,
    "start_time": "2022-03-24T14:17:31.204Z"
   },
   {
    "duration": 7,
    "start_time": "2022-03-24T14:17:31.393Z"
   },
   {
    "duration": 1840,
    "start_time": "2022-03-24T17:59:17.663Z"
   },
   {
    "duration": 84,
    "start_time": "2022-03-24T17:59:19.507Z"
   },
   {
    "duration": 95,
    "start_time": "2022-03-24T17:59:19.594Z"
   },
   {
    "duration": 19,
    "start_time": "2022-03-24T17:59:19.693Z"
   },
   {
    "duration": 5,
    "start_time": "2022-03-24T17:59:19.715Z"
   },
   {
    "duration": 59,
    "start_time": "2022-03-24T17:59:19.724Z"
   },
   {
    "duration": 14,
    "start_time": "2022-03-24T17:59:19.785Z"
   },
   {
    "duration": 77,
    "start_time": "2022-03-24T17:59:19.802Z"
   },
   {
    "duration": 7,
    "start_time": "2022-03-24T17:59:19.881Z"
   },
   {
    "duration": 24,
    "start_time": "2022-03-24T17:59:19.892Z"
   },
   {
    "duration": 100,
    "start_time": "2022-03-24T17:59:19.919Z"
   },
   {
    "duration": 57,
    "start_time": "2022-03-24T17:59:20.022Z"
   },
   {
    "duration": 13,
    "start_time": "2022-03-24T17:59:20.081Z"
   },
   {
    "duration": 82,
    "start_time": "2022-03-24T17:59:20.096Z"
   },
   {
    "duration": 475,
    "start_time": "2022-03-24T17:59:20.180Z"
   },
   {
    "duration": 467,
    "start_time": "2022-03-24T17:59:20.657Z"
   },
   {
    "duration": 327,
    "start_time": "2022-03-24T17:59:21.126Z"
   },
   {
    "duration": 27,
    "start_time": "2022-03-24T17:59:21.455Z"
   },
   {
    "duration": 442,
    "start_time": "2022-03-24T17:59:21.485Z"
   },
   {
    "duration": 309,
    "start_time": "2022-03-24T17:59:21.929Z"
   },
   {
    "duration": 32,
    "start_time": "2022-03-24T17:59:22.241Z"
   },
   {
    "duration": 371,
    "start_time": "2022-03-24T17:59:22.277Z"
   },
   {
    "duration": 212,
    "start_time": "2022-03-24T17:59:22.650Z"
   },
   {
    "duration": 9,
    "start_time": "2022-03-24T17:59:22.868Z"
   },
   {
    "duration": 233,
    "start_time": "2022-03-24T17:59:22.879Z"
   },
   {
    "duration": 7,
    "start_time": "2022-03-24T17:59:23.114Z"
   },
   {
    "duration": 4,
    "start_time": "2022-03-24T18:13:34.368Z"
   },
   {
    "duration": 157,
    "start_time": "2022-03-24T18:39:19.162Z"
   },
   {
    "duration": 21,
    "start_time": "2022-03-24T18:39:47.745Z"
   },
   {
    "duration": 21,
    "start_time": "2022-03-24T18:41:16.464Z"
   },
   {
    "duration": 24,
    "start_time": "2022-03-24T18:41:42.548Z"
   },
   {
    "duration": 23,
    "start_time": "2022-03-24T18:41:52.300Z"
   },
   {
    "duration": 24,
    "start_time": "2022-03-24T18:42:06.608Z"
   },
   {
    "duration": 23,
    "start_time": "2022-03-24T18:42:10.516Z"
   },
   {
    "duration": 15,
    "start_time": "2022-03-24T18:53:31.171Z"
   },
   {
    "duration": 1311,
    "start_time": "2022-03-24T18:54:00.614Z"
   },
   {
    "duration": 61,
    "start_time": "2022-03-24T18:54:01.928Z"
   },
   {
    "duration": 88,
    "start_time": "2022-03-24T18:54:01.991Z"
   },
   {
    "duration": 16,
    "start_time": "2022-03-24T18:54:02.082Z"
   },
   {
    "duration": 6,
    "start_time": "2022-03-24T18:54:02.100Z"
   },
   {
    "duration": 17,
    "start_time": "2022-03-24T18:54:02.108Z"
   },
   {
    "duration": 6,
    "start_time": "2022-03-24T18:54:02.167Z"
   },
   {
    "duration": 51,
    "start_time": "2022-03-24T18:54:02.176Z"
   },
   {
    "duration": 5,
    "start_time": "2022-03-24T18:54:02.230Z"
   },
   {
    "duration": 18,
    "start_time": "2022-03-24T18:54:02.270Z"
   },
   {
    "duration": 84,
    "start_time": "2022-03-24T18:54:02.290Z"
   },
   {
    "duration": 30,
    "start_time": "2022-03-24T18:54:02.376Z"
   },
   {
    "duration": 14,
    "start_time": "2022-03-24T18:54:02.409Z"
   },
   {
    "duration": 91,
    "start_time": "2022-03-24T18:54:02.426Z"
   },
   {
    "duration": 496,
    "start_time": "2022-03-24T18:54:02.519Z"
   },
   {
    "duration": 466,
    "start_time": "2022-03-24T18:54:03.017Z"
   },
   {
    "duration": 326,
    "start_time": "2022-03-24T18:54:03.486Z"
   },
   {
    "duration": 18,
    "start_time": "2022-03-24T18:54:03.814Z"
   },
   {
    "duration": 460,
    "start_time": "2022-03-24T18:54:03.834Z"
   },
   {
    "duration": 301,
    "start_time": "2022-03-24T18:54:04.297Z"
   },
   {
    "duration": 22,
    "start_time": "2022-03-24T18:54:04.600Z"
   },
   {
    "duration": 437,
    "start_time": "2022-03-24T18:54:04.624Z"
   },
   {
    "duration": 209,
    "start_time": "2022-03-24T18:54:05.067Z"
   },
   {
    "duration": 7,
    "start_time": "2022-03-24T18:54:05.278Z"
   },
   {
    "duration": 231,
    "start_time": "2022-03-24T18:54:05.287Z"
   },
   {
    "duration": 9,
    "start_time": "2022-03-24T18:54:05.521Z"
   },
   {
    "duration": 10,
    "start_time": "2022-03-24T18:54:05.532Z"
   },
   {
    "duration": 23,
    "start_time": "2022-03-24T18:54:05.567Z"
   },
   {
    "duration": 150,
    "start_time": "2022-03-24T18:54:05.593Z"
   },
   {
    "duration": 7,
    "start_time": "2022-03-24T18:54:24.010Z"
   },
   {
    "duration": 6,
    "start_time": "2022-03-24T18:56:55.250Z"
   },
   {
    "duration": 14,
    "start_time": "2022-03-24T19:00:21.121Z"
   },
   {
    "duration": 1304,
    "start_time": "2022-03-24T19:00:32.705Z"
   },
   {
    "duration": 58,
    "start_time": "2022-03-24T19:00:34.012Z"
   },
   {
    "duration": 83,
    "start_time": "2022-03-24T19:00:34.072Z"
   },
   {
    "duration": 16,
    "start_time": "2022-03-24T19:00:34.168Z"
   },
   {
    "duration": 6,
    "start_time": "2022-03-24T19:00:34.186Z"
   },
   {
    "duration": 21,
    "start_time": "2022-03-24T19:00:34.194Z"
   },
   {
    "duration": 8,
    "start_time": "2022-03-24T19:00:34.217Z"
   },
   {
    "duration": 78,
    "start_time": "2022-03-24T19:00:34.227Z"
   },
   {
    "duration": 6,
    "start_time": "2022-03-24T19:00:34.307Z"
   },
   {
    "duration": 57,
    "start_time": "2022-03-24T19:00:34.319Z"
   },
   {
    "duration": 79,
    "start_time": "2022-03-24T19:00:34.378Z"
   },
   {
    "duration": 33,
    "start_time": "2022-03-24T19:00:34.459Z"
   },
   {
    "duration": 17,
    "start_time": "2022-03-24T19:00:34.495Z"
   },
   {
    "duration": 78,
    "start_time": "2022-03-24T19:00:34.514Z"
   },
   {
    "duration": 485,
    "start_time": "2022-03-24T19:00:34.594Z"
   },
   {
    "duration": 501,
    "start_time": "2022-03-24T19:00:35.081Z"
   },
   {
    "duration": 340,
    "start_time": "2022-03-24T19:00:35.584Z"
   },
   {
    "duration": 18,
    "start_time": "2022-03-24T19:00:35.927Z"
   },
   {
    "duration": 434,
    "start_time": "2022-03-24T19:00:35.948Z"
   },
   {
    "duration": 306,
    "start_time": "2022-03-24T19:00:36.384Z"
   },
   {
    "duration": 20,
    "start_time": "2022-03-24T19:00:36.692Z"
   },
   {
    "duration": 443,
    "start_time": "2022-03-24T19:00:36.714Z"
   },
   {
    "duration": 195,
    "start_time": "2022-03-24T19:00:37.159Z"
   },
   {
    "duration": 15,
    "start_time": "2022-03-24T19:00:37.356Z"
   },
   {
    "duration": 219,
    "start_time": "2022-03-24T19:00:37.373Z"
   },
   {
    "duration": 6,
    "start_time": "2022-03-24T19:00:37.595Z"
   },
   {
    "duration": 5,
    "start_time": "2022-03-24T19:00:37.603Z"
   },
   {
    "duration": 23,
    "start_time": "2022-03-24T19:00:37.612Z"
   },
   {
    "duration": 8,
    "start_time": "2022-03-24T19:00:37.668Z"
   },
   {
    "duration": 9,
    "start_time": "2022-03-24T19:00:37.679Z"
   },
   {
    "duration": 2076,
    "start_time": "2022-03-24T19:15:34.949Z"
   },
   {
    "duration": 1295,
    "start_time": "2022-03-24T19:15:57.511Z"
   },
   {
    "duration": 58,
    "start_time": "2022-03-24T19:15:58.809Z"
   },
   {
    "duration": 87,
    "start_time": "2022-03-24T19:15:58.870Z"
   },
   {
    "duration": 15,
    "start_time": "2022-03-24T19:15:58.968Z"
   },
   {
    "duration": 5,
    "start_time": "2022-03-24T19:15:58.985Z"
   },
   {
    "duration": 16,
    "start_time": "2022-03-24T19:15:58.993Z"
   },
   {
    "duration": 8,
    "start_time": "2022-03-24T19:15:59.011Z"
   },
   {
    "duration": 84,
    "start_time": "2022-03-24T19:15:59.021Z"
   },
   {
    "duration": 6,
    "start_time": "2022-03-24T19:15:59.108Z"
   },
   {
    "duration": 58,
    "start_time": "2022-03-24T19:15:59.119Z"
   },
   {
    "duration": 87,
    "start_time": "2022-03-24T19:15:59.181Z"
   },
   {
    "duration": 29,
    "start_time": "2022-03-24T19:15:59.270Z"
   },
   {
    "duration": 15,
    "start_time": "2022-03-24T19:15:59.302Z"
   },
   {
    "duration": 84,
    "start_time": "2022-03-24T19:15:59.319Z"
   },
   {
    "duration": 503,
    "start_time": "2022-03-24T19:15:59.405Z"
   },
   {
    "duration": 488,
    "start_time": "2022-03-24T19:15:59.911Z"
   },
   {
    "duration": 336,
    "start_time": "2022-03-24T19:16:00.401Z"
   },
   {
    "duration": 30,
    "start_time": "2022-03-24T19:16:00.739Z"
   },
   {
    "duration": 438,
    "start_time": "2022-03-24T19:16:00.771Z"
   },
   {
    "duration": 311,
    "start_time": "2022-03-24T19:16:01.212Z"
   },
   {
    "duration": 21,
    "start_time": "2022-03-24T19:16:01.526Z"
   },
   {
    "duration": 394,
    "start_time": "2022-03-24T19:16:01.569Z"
   },
   {
    "duration": 205,
    "start_time": "2022-03-24T19:16:01.965Z"
   },
   {
    "duration": 6,
    "start_time": "2022-03-24T19:16:02.172Z"
   },
   {
    "duration": 1915,
    "start_time": "2022-03-24T19:16:02.180Z"
   },
   {
    "duration": 0,
    "start_time": "2022-03-24T19:16:04.099Z"
   },
   {
    "duration": 0,
    "start_time": "2022-03-24T19:16:04.101Z"
   },
   {
    "duration": 0,
    "start_time": "2022-03-24T19:16:04.103Z"
   },
   {
    "duration": 0,
    "start_time": "2022-03-24T19:16:04.106Z"
   },
   {
    "duration": 0,
    "start_time": "2022-03-24T19:16:04.108Z"
   },
   {
    "duration": 0,
    "start_time": "2022-03-24T19:16:04.111Z"
   },
   {
    "duration": 0,
    "start_time": "2022-03-24T19:16:04.113Z"
   },
   {
    "duration": 1846,
    "start_time": "2022-03-24T19:16:26.919Z"
   },
   {
    "duration": 9,
    "start_time": "2022-03-24T19:17:18.633Z"
   },
   {
    "duration": 13,
    "start_time": "2022-03-24T19:17:33.231Z"
   },
   {
    "duration": 13,
    "start_time": "2022-03-24T19:17:44.226Z"
   },
   {
    "duration": 13,
    "start_time": "2022-03-24T19:17:51.915Z"
   },
   {
    "duration": 9,
    "start_time": "2022-03-24T19:18:18.515Z"
   },
   {
    "duration": 9,
    "start_time": "2022-03-24T19:19:08.889Z"
   },
   {
    "duration": 9,
    "start_time": "2022-03-24T19:19:13.848Z"
   },
   {
    "duration": 11,
    "start_time": "2022-03-24T19:19:46.148Z"
   },
   {
    "duration": 9,
    "start_time": "2022-03-24T19:19:55.374Z"
   },
   {
    "duration": 7,
    "start_time": "2022-03-24T19:20:08.060Z"
   },
   {
    "duration": 10,
    "start_time": "2022-03-24T19:20:16.375Z"
   },
   {
    "duration": 6,
    "start_time": "2022-03-24T19:25:55.637Z"
   },
   {
    "duration": 23,
    "start_time": "2022-03-24T19:26:06.190Z"
   },
   {
    "duration": 22,
    "start_time": "2022-03-24T19:26:20.785Z"
   },
   {
    "duration": 23,
    "start_time": "2022-03-24T19:26:25.095Z"
   },
   {
    "duration": 7,
    "start_time": "2022-03-24T19:28:37.608Z"
   },
   {
    "duration": 16,
    "start_time": "2022-03-24T19:29:35.425Z"
   },
   {
    "duration": 1379,
    "start_time": "2022-03-24T19:29:51.838Z"
   },
   {
    "duration": 62,
    "start_time": "2022-03-24T19:29:53.220Z"
   },
   {
    "duration": 85,
    "start_time": "2022-03-24T19:29:53.284Z"
   },
   {
    "duration": 15,
    "start_time": "2022-03-24T19:29:53.372Z"
   },
   {
    "duration": 4,
    "start_time": "2022-03-24T19:29:53.390Z"
   },
   {
    "duration": 16,
    "start_time": "2022-03-24T19:29:53.396Z"
   },
   {
    "duration": 12,
    "start_time": "2022-03-24T19:29:53.415Z"
   },
   {
    "duration": 87,
    "start_time": "2022-03-24T19:29:53.429Z"
   },
   {
    "duration": 6,
    "start_time": "2022-03-24T19:29:53.519Z"
   },
   {
    "duration": 16,
    "start_time": "2022-03-24T19:29:53.567Z"
   },
   {
    "duration": 84,
    "start_time": "2022-03-24T19:29:53.585Z"
   },
   {
    "duration": 31,
    "start_time": "2022-03-24T19:29:53.672Z"
   },
   {
    "duration": 12,
    "start_time": "2022-03-24T19:29:53.705Z"
   },
   {
    "duration": 89,
    "start_time": "2022-03-24T19:29:53.719Z"
   },
   {
    "duration": 481,
    "start_time": "2022-03-24T19:29:53.811Z"
   },
   {
    "duration": 460,
    "start_time": "2022-03-24T19:29:54.294Z"
   },
   {
    "duration": 324,
    "start_time": "2022-03-24T19:29:54.756Z"
   },
   {
    "duration": 17,
    "start_time": "2022-03-24T19:29:55.083Z"
   },
   {
    "duration": 389,
    "start_time": "2022-03-24T19:29:55.103Z"
   },
   {
    "duration": 303,
    "start_time": "2022-03-24T19:29:55.494Z"
   },
   {
    "duration": 21,
    "start_time": "2022-03-24T19:29:55.799Z"
   },
   {
    "duration": 421,
    "start_time": "2022-03-24T19:29:55.823Z"
   },
   {
    "duration": 204,
    "start_time": "2022-03-24T19:29:56.246Z"
   },
   {
    "duration": 16,
    "start_time": "2022-03-24T19:29:56.453Z"
   },
   {
    "duration": 12,
    "start_time": "2022-03-24T19:29:56.471Z"
   },
   {
    "duration": 232,
    "start_time": "2022-03-24T19:29:56.485Z"
   },
   {
    "duration": 6,
    "start_time": "2022-03-24T19:29:56.720Z"
   },
   {
    "duration": 3,
    "start_time": "2022-03-24T19:29:56.731Z"
   },
   {
    "duration": 46,
    "start_time": "2022-03-24T19:29:56.736Z"
   },
   {
    "duration": 7,
    "start_time": "2022-03-24T19:29:56.784Z"
   },
   {
    "duration": 10,
    "start_time": "2022-03-24T19:29:56.793Z"
   },
   {
    "duration": 156,
    "start_time": "2022-03-24T19:29:56.805Z"
   },
   {
    "duration": 0,
    "start_time": "2022-03-24T19:29:56.967Z"
   },
   {
    "duration": 0,
    "start_time": "2022-03-24T19:29:56.969Z"
   },
   {
    "duration": 0,
    "start_time": "2022-03-24T19:29:56.971Z"
   },
   {
    "duration": 13,
    "start_time": "2022-03-24T19:30:30.596Z"
   },
   {
    "duration": 11,
    "start_time": "2022-03-24T19:31:23.135Z"
   },
   {
    "duration": 11,
    "start_time": "2022-03-24T19:31:50.658Z"
   },
   {
    "duration": 12,
    "start_time": "2022-03-24T19:32:50.777Z"
   },
   {
    "duration": 14,
    "start_time": "2022-03-24T19:33:16.921Z"
   },
   {
    "duration": 15,
    "start_time": "2022-03-24T19:33:28.403Z"
   },
   {
    "duration": 9,
    "start_time": "2022-03-24T19:33:37.617Z"
   },
   {
    "duration": 11,
    "start_time": "2022-03-24T19:33:52.319Z"
   },
   {
    "duration": 1374,
    "start_time": "2022-03-24T19:34:22.171Z"
   },
   {
    "duration": 71,
    "start_time": "2022-03-24T19:34:23.548Z"
   },
   {
    "duration": 79,
    "start_time": "2022-03-24T19:34:23.621Z"
   },
   {
    "duration": 16,
    "start_time": "2022-03-24T19:34:23.703Z"
   },
   {
    "duration": 5,
    "start_time": "2022-03-24T19:34:23.721Z"
   },
   {
    "duration": 50,
    "start_time": "2022-03-24T19:34:23.728Z"
   },
   {
    "duration": 9,
    "start_time": "2022-03-24T19:34:23.780Z"
   },
   {
    "duration": 76,
    "start_time": "2022-03-24T19:34:23.791Z"
   },
   {
    "duration": 6,
    "start_time": "2022-03-24T19:34:23.870Z"
   },
   {
    "duration": 18,
    "start_time": "2022-03-24T19:34:23.880Z"
   },
   {
    "duration": 90,
    "start_time": "2022-03-24T19:34:23.900Z"
   },
   {
    "duration": 31,
    "start_time": "2022-03-24T19:34:23.993Z"
   },
   {
    "duration": 45,
    "start_time": "2022-03-24T19:34:24.027Z"
   },
   {
    "duration": 58,
    "start_time": "2022-03-24T19:34:24.075Z"
   },
   {
    "duration": 535,
    "start_time": "2022-03-24T19:34:24.135Z"
   },
   {
    "duration": 512,
    "start_time": "2022-03-24T19:34:24.673Z"
   },
   {
    "duration": 324,
    "start_time": "2022-03-24T19:34:25.188Z"
   },
   {
    "duration": 19,
    "start_time": "2022-03-24T19:34:25.514Z"
   },
   {
    "duration": 464,
    "start_time": "2022-03-24T19:34:25.535Z"
   },
   {
    "duration": 304,
    "start_time": "2022-03-24T19:34:26.001Z"
   },
   {
    "duration": 21,
    "start_time": "2022-03-24T19:34:26.308Z"
   },
   {
    "duration": 413,
    "start_time": "2022-03-24T19:34:26.331Z"
   },
   {
    "duration": 245,
    "start_time": "2022-03-24T19:34:26.747Z"
   },
   {
    "duration": 7,
    "start_time": "2022-03-24T19:34:26.994Z"
   },
   {
    "duration": 13,
    "start_time": "2022-03-24T19:34:27.003Z"
   },
   {
    "duration": 295,
    "start_time": "2022-03-24T19:34:27.019Z"
   },
   {
    "duration": 9,
    "start_time": "2022-03-24T19:34:27.316Z"
   },
   {
    "duration": 4,
    "start_time": "2022-03-24T19:34:27.332Z"
   },
   {
    "duration": 48,
    "start_time": "2022-03-24T19:34:27.339Z"
   },
   {
    "duration": 7,
    "start_time": "2022-03-24T19:34:27.390Z"
   },
   {
    "duration": 9,
    "start_time": "2022-03-24T19:34:27.400Z"
   },
   {
    "duration": 186,
    "start_time": "2022-03-24T19:34:27.412Z"
   },
   {
    "duration": 0,
    "start_time": "2022-03-24T19:34:27.601Z"
   },
   {
    "duration": 0,
    "start_time": "2022-03-24T19:34:27.603Z"
   },
   {
    "duration": 0,
    "start_time": "2022-03-24T19:34:27.605Z"
   },
   {
    "duration": 9,
    "start_time": "2022-03-24T19:36:22.730Z"
   },
   {
    "duration": 11,
    "start_time": "2022-03-24T19:36:28.788Z"
   },
   {
    "duration": 11,
    "start_time": "2022-03-24T19:36:58.323Z"
   },
   {
    "duration": 6,
    "start_time": "2022-03-24T19:37:04.750Z"
   },
   {
    "duration": 11,
    "start_time": "2022-03-24T19:39:25.813Z"
   },
   {
    "duration": 10,
    "start_time": "2022-03-24T19:40:19.040Z"
   },
   {
    "duration": 12,
    "start_time": "2022-03-24T19:40:25.257Z"
   },
   {
    "duration": 1291,
    "start_time": "2022-03-24T19:40:29.794Z"
   },
   {
    "duration": 64,
    "start_time": "2022-03-24T19:40:31.088Z"
   },
   {
    "duration": 80,
    "start_time": "2022-03-24T19:40:31.155Z"
   },
   {
    "duration": 41,
    "start_time": "2022-03-24T19:40:31.238Z"
   },
   {
    "duration": 6,
    "start_time": "2022-03-24T19:40:31.281Z"
   },
   {
    "duration": 21,
    "start_time": "2022-03-24T19:40:31.290Z"
   },
   {
    "duration": 6,
    "start_time": "2022-03-24T19:40:31.313Z"
   },
   {
    "duration": 84,
    "start_time": "2022-03-24T19:40:31.322Z"
   },
   {
    "duration": 6,
    "start_time": "2022-03-24T19:40:31.408Z"
   },
   {
    "duration": 50,
    "start_time": "2022-03-24T19:40:31.418Z"
   },
   {
    "duration": 85,
    "start_time": "2022-03-24T19:40:31.470Z"
   },
   {
    "duration": 31,
    "start_time": "2022-03-24T19:40:31.558Z"
   },
   {
    "duration": 16,
    "start_time": "2022-03-24T19:40:31.592Z"
   },
   {
    "duration": 78,
    "start_time": "2022-03-24T19:40:31.611Z"
   },
   {
    "duration": 479,
    "start_time": "2022-03-24T19:40:31.691Z"
   },
   {
    "duration": 455,
    "start_time": "2022-03-24T19:40:32.173Z"
   },
   {
    "duration": 344,
    "start_time": "2022-03-24T19:40:32.631Z"
   },
   {
    "duration": 18,
    "start_time": "2022-03-24T19:40:32.977Z"
   },
   {
    "duration": 416,
    "start_time": "2022-03-24T19:40:32.998Z"
   },
   {
    "duration": 375,
    "start_time": "2022-03-24T19:40:33.417Z"
   },
   {
    "duration": 20,
    "start_time": "2022-03-24T19:40:33.794Z"
   },
   {
    "duration": 424,
    "start_time": "2022-03-24T19:40:33.816Z"
   },
   {
    "duration": 206,
    "start_time": "2022-03-24T19:40:34.242Z"
   },
   {
    "duration": 7,
    "start_time": "2022-03-24T19:40:34.450Z"
   },
   {
    "duration": 10,
    "start_time": "2022-03-24T19:40:34.468Z"
   },
   {
    "duration": 220,
    "start_time": "2022-03-24T19:40:34.480Z"
   },
   {
    "duration": 6,
    "start_time": "2022-03-24T19:40:34.703Z"
   },
   {
    "duration": 3,
    "start_time": "2022-03-24T19:40:34.716Z"
   },
   {
    "duration": 58,
    "start_time": "2022-03-24T19:40:34.722Z"
   },
   {
    "duration": 7,
    "start_time": "2022-03-24T19:40:34.782Z"
   },
   {
    "duration": 11,
    "start_time": "2022-03-24T19:40:34.792Z"
   },
   {
    "duration": 152,
    "start_time": "2022-03-24T19:40:34.805Z"
   },
   {
    "duration": 0,
    "start_time": "2022-03-24T19:40:34.967Z"
   },
   {
    "duration": 0,
    "start_time": "2022-03-24T19:40:34.969Z"
   },
   {
    "duration": 0,
    "start_time": "2022-03-24T19:40:34.971Z"
   },
   {
    "duration": 11,
    "start_time": "2022-03-24T19:41:37.792Z"
   },
   {
    "duration": 1332,
    "start_time": "2022-03-24T19:42:32.369Z"
   },
   {
    "duration": 64,
    "start_time": "2022-03-24T19:42:33.704Z"
   },
   {
    "duration": 73,
    "start_time": "2022-03-24T19:42:33.771Z"
   },
   {
    "duration": 34,
    "start_time": "2022-03-24T19:42:33.847Z"
   },
   {
    "duration": 4,
    "start_time": "2022-03-24T19:42:33.884Z"
   },
   {
    "duration": 16,
    "start_time": "2022-03-24T19:42:33.890Z"
   },
   {
    "duration": 6,
    "start_time": "2022-03-24T19:42:33.908Z"
   },
   {
    "duration": 101,
    "start_time": "2022-03-24T19:42:33.916Z"
   },
   {
    "duration": 7,
    "start_time": "2022-03-24T19:42:34.019Z"
   },
   {
    "duration": 48,
    "start_time": "2022-03-24T19:42:34.032Z"
   },
   {
    "duration": 74,
    "start_time": "2022-03-24T19:42:34.082Z"
   },
   {
    "duration": 29,
    "start_time": "2022-03-24T19:42:34.167Z"
   },
   {
    "duration": 11,
    "start_time": "2022-03-24T19:42:34.198Z"
   },
   {
    "duration": 84,
    "start_time": "2022-03-24T19:42:34.211Z"
   },
   {
    "duration": 484,
    "start_time": "2022-03-24T19:42:34.297Z"
   },
   {
    "duration": 454,
    "start_time": "2022-03-24T19:42:34.783Z"
   },
   {
    "duration": 318,
    "start_time": "2022-03-24T19:42:35.239Z"
   },
   {
    "duration": 17,
    "start_time": "2022-03-24T19:42:35.567Z"
   },
   {
    "duration": 392,
    "start_time": "2022-03-24T19:42:35.586Z"
   },
   {
    "duration": 305,
    "start_time": "2022-03-24T19:42:35.981Z"
   },
   {
    "duration": 22,
    "start_time": "2022-03-24T19:42:36.288Z"
   },
   {
    "duration": 421,
    "start_time": "2022-03-24T19:42:36.312Z"
   },
   {
    "duration": 208,
    "start_time": "2022-03-24T19:42:36.736Z"
   },
   {
    "duration": 8,
    "start_time": "2022-03-24T19:42:36.947Z"
   },
   {
    "duration": 11,
    "start_time": "2022-03-24T19:42:36.967Z"
   },
   {
    "duration": 10,
    "start_time": "2022-03-24T19:42:36.980Z"
   },
   {
    "duration": 239,
    "start_time": "2022-03-24T19:42:36.992Z"
   },
   {
    "duration": 7,
    "start_time": "2022-03-24T19:42:37.235Z"
   },
   {
    "duration": 3,
    "start_time": "2022-03-24T19:42:37.245Z"
   },
   {
    "duration": 23,
    "start_time": "2022-03-24T19:42:37.267Z"
   },
   {
    "duration": 8,
    "start_time": "2022-03-24T19:42:37.292Z"
   },
   {
    "duration": 12,
    "start_time": "2022-03-24T19:42:37.302Z"
   },
   {
    "duration": 56,
    "start_time": "2022-03-24T19:42:37.316Z"
   },
   {
    "duration": 8,
    "start_time": "2022-03-24T19:42:37.375Z"
   },
   {
    "duration": 10,
    "start_time": "2022-03-24T19:42:37.385Z"
   },
   {
    "duration": 1276,
    "start_time": "2022-03-24T19:44:23.800Z"
   },
   {
    "duration": 55,
    "start_time": "2022-03-24T19:44:25.079Z"
   },
   {
    "duration": 82,
    "start_time": "2022-03-24T19:44:25.137Z"
   },
   {
    "duration": 45,
    "start_time": "2022-03-24T19:44:25.224Z"
   },
   {
    "duration": 4,
    "start_time": "2022-03-24T19:44:25.271Z"
   },
   {
    "duration": 22,
    "start_time": "2022-03-24T19:44:25.277Z"
   },
   {
    "duration": 7,
    "start_time": "2022-03-24T19:44:25.301Z"
   },
   {
    "duration": 72,
    "start_time": "2022-03-24T19:44:25.310Z"
   },
   {
    "duration": 6,
    "start_time": "2022-03-24T19:44:25.384Z"
   },
   {
    "duration": 21,
    "start_time": "2022-03-24T19:44:25.393Z"
   },
   {
    "duration": 87,
    "start_time": "2022-03-24T19:44:25.416Z"
   },
   {
    "duration": 29,
    "start_time": "2022-03-24T19:44:25.505Z"
   },
   {
    "duration": 37,
    "start_time": "2022-03-24T19:44:25.536Z"
   },
   {
    "duration": 60,
    "start_time": "2022-03-24T19:44:25.575Z"
   },
   {
    "duration": 484,
    "start_time": "2022-03-24T19:44:25.637Z"
   },
   {
    "duration": 458,
    "start_time": "2022-03-24T19:44:26.124Z"
   },
   {
    "duration": 326,
    "start_time": "2022-03-24T19:44:26.585Z"
   },
   {
    "duration": 18,
    "start_time": "2022-03-24T19:44:26.913Z"
   },
   {
    "duration": 442,
    "start_time": "2022-03-24T19:44:26.933Z"
   },
   {
    "duration": 312,
    "start_time": "2022-03-24T19:44:27.377Z"
   },
   {
    "duration": 19,
    "start_time": "2022-03-24T19:44:27.692Z"
   },
   {
    "duration": 413,
    "start_time": "2022-03-24T19:44:27.714Z"
   },
   {
    "duration": 199,
    "start_time": "2022-03-24T19:44:28.129Z"
   },
   {
    "duration": 7,
    "start_time": "2022-03-24T19:44:28.330Z"
   },
   {
    "duration": 31,
    "start_time": "2022-03-24T19:44:28.339Z"
   },
   {
    "duration": 223,
    "start_time": "2022-03-24T19:44:28.372Z"
   },
   {
    "duration": 6,
    "start_time": "2022-03-24T19:44:28.598Z"
   },
   {
    "duration": 3,
    "start_time": "2022-03-24T19:44:28.612Z"
   },
   {
    "duration": 60,
    "start_time": "2022-03-24T19:44:28.618Z"
   },
   {
    "duration": 8,
    "start_time": "2022-03-24T19:44:28.680Z"
   },
   {
    "duration": 9,
    "start_time": "2022-03-24T19:44:28.691Z"
   },
   {
    "duration": 158,
    "start_time": "2022-03-24T19:44:28.703Z"
   },
   {
    "duration": 0,
    "start_time": "2022-03-24T19:44:28.864Z"
   },
   {
    "duration": 0,
    "start_time": "2022-03-24T19:44:28.865Z"
   },
   {
    "duration": 0,
    "start_time": "2022-03-24T19:44:28.868Z"
   },
   {
    "duration": 1460,
    "start_time": "2022-03-24T19:44:47.394Z"
   },
   {
    "duration": 62,
    "start_time": "2022-03-24T19:44:48.857Z"
   },
   {
    "duration": 77,
    "start_time": "2022-03-24T19:44:48.922Z"
   },
   {
    "duration": 15,
    "start_time": "2022-03-24T19:44:49.002Z"
   },
   {
    "duration": 4,
    "start_time": "2022-03-24T19:44:49.019Z"
   },
   {
    "duration": 48,
    "start_time": "2022-03-24T19:44:49.025Z"
   },
   {
    "duration": 4,
    "start_time": "2022-03-24T19:44:49.076Z"
   },
   {
    "duration": 48,
    "start_time": "2022-03-24T19:44:49.083Z"
   },
   {
    "duration": 38,
    "start_time": "2022-03-24T19:44:49.134Z"
   },
   {
    "duration": 18,
    "start_time": "2022-03-24T19:44:49.176Z"
   },
   {
    "duration": 87,
    "start_time": "2022-03-24T19:44:49.196Z"
   },
   {
    "duration": 29,
    "start_time": "2022-03-24T19:44:49.285Z"
   },
   {
    "duration": 13,
    "start_time": "2022-03-24T19:44:49.317Z"
   },
   {
    "duration": 58,
    "start_time": "2022-03-24T19:44:49.367Z"
   },
   {
    "duration": 505,
    "start_time": "2022-03-24T19:44:49.428Z"
   },
   {
    "duration": 474,
    "start_time": "2022-03-24T19:44:49.935Z"
   },
   {
    "duration": 333,
    "start_time": "2022-03-24T19:44:50.411Z"
   },
   {
    "duration": 26,
    "start_time": "2022-03-24T19:44:50.747Z"
   },
   {
    "duration": 404,
    "start_time": "2022-03-24T19:44:50.777Z"
   },
   {
    "duration": 303,
    "start_time": "2022-03-24T19:44:51.183Z"
   },
   {
    "duration": 21,
    "start_time": "2022-03-24T19:44:51.488Z"
   },
   {
    "duration": 415,
    "start_time": "2022-03-24T19:44:51.512Z"
   },
   {
    "duration": 193,
    "start_time": "2022-03-24T19:44:51.930Z"
   },
   {
    "duration": 7,
    "start_time": "2022-03-24T19:44:52.125Z"
   },
   {
    "duration": 33,
    "start_time": "2022-03-24T19:44:52.134Z"
   },
   {
    "duration": 222,
    "start_time": "2022-03-24T19:44:52.170Z"
   },
   {
    "duration": 6,
    "start_time": "2022-03-24T19:44:52.394Z"
   },
   {
    "duration": 3,
    "start_time": "2022-03-24T19:44:52.405Z"
   },
   {
    "duration": 23,
    "start_time": "2022-03-24T19:44:52.410Z"
   },
   {
    "duration": 36,
    "start_time": "2022-03-24T19:44:52.435Z"
   },
   {
    "duration": 10,
    "start_time": "2022-03-24T19:44:52.473Z"
   },
   {
    "duration": 158,
    "start_time": "2022-03-24T19:44:52.485Z"
   },
   {
    "duration": 0,
    "start_time": "2022-03-24T19:44:52.645Z"
   },
   {
    "duration": 1,
    "start_time": "2022-03-24T19:44:52.646Z"
   },
   {
    "duration": 0,
    "start_time": "2022-03-24T19:44:52.648Z"
   },
   {
    "duration": 1354,
    "start_time": "2022-03-24T19:45:49.230Z"
   },
   {
    "duration": 57,
    "start_time": "2022-03-24T19:45:50.587Z"
   },
   {
    "duration": 78,
    "start_time": "2022-03-24T19:45:50.646Z"
   },
   {
    "duration": 41,
    "start_time": "2022-03-24T19:45:50.727Z"
   },
   {
    "duration": 4,
    "start_time": "2022-03-24T19:45:50.772Z"
   },
   {
    "duration": 16,
    "start_time": "2022-03-24T19:45:50.778Z"
   },
   {
    "duration": 8,
    "start_time": "2022-03-24T19:45:50.797Z"
   },
   {
    "duration": 80,
    "start_time": "2022-03-24T19:45:50.807Z"
   },
   {
    "duration": 5,
    "start_time": "2022-03-24T19:45:50.889Z"
   },
   {
    "duration": 18,
    "start_time": "2022-03-24T19:45:50.897Z"
   },
   {
    "duration": 89,
    "start_time": "2022-03-24T19:45:50.917Z"
   },
   {
    "duration": 59,
    "start_time": "2022-03-24T19:45:51.009Z"
   },
   {
    "duration": 13,
    "start_time": "2022-03-24T19:45:51.070Z"
   },
   {
    "duration": 82,
    "start_time": "2022-03-24T19:45:51.087Z"
   },
   {
    "duration": 472,
    "start_time": "2022-03-24T19:45:51.172Z"
   },
   {
    "duration": 459,
    "start_time": "2022-03-24T19:45:51.647Z"
   },
   {
    "duration": 322,
    "start_time": "2022-03-24T19:45:52.109Z"
   },
   {
    "duration": 17,
    "start_time": "2022-03-24T19:45:52.434Z"
   },
   {
    "duration": 413,
    "start_time": "2022-03-24T19:45:52.468Z"
   },
   {
    "duration": 310,
    "start_time": "2022-03-24T19:45:52.883Z"
   },
   {
    "duration": 21,
    "start_time": "2022-03-24T19:45:53.195Z"
   },
   {
    "duration": 425,
    "start_time": "2022-03-24T19:45:53.218Z"
   },
   {
    "duration": 206,
    "start_time": "2022-03-24T19:45:53.646Z"
   },
   {
    "duration": 17,
    "start_time": "2022-03-24T19:45:53.855Z"
   },
   {
    "duration": 13,
    "start_time": "2022-03-24T19:45:53.874Z"
   },
   {
    "duration": 8,
    "start_time": "2022-03-24T19:45:53.889Z"
   },
   {
    "duration": 260,
    "start_time": "2022-03-24T19:45:53.899Z"
   },
   {
    "duration": 12,
    "start_time": "2022-03-24T19:45:54.161Z"
   },
   {
    "duration": 7,
    "start_time": "2022-03-24T19:45:54.175Z"
   },
   {
    "duration": 25,
    "start_time": "2022-03-24T19:45:54.185Z"
   },
   {
    "duration": 8,
    "start_time": "2022-03-24T19:45:54.212Z"
   },
   {
    "duration": 47,
    "start_time": "2022-03-24T19:45:54.222Z"
   },
   {
    "duration": 24,
    "start_time": "2022-03-24T19:45:54.271Z"
   },
   {
    "duration": 8,
    "start_time": "2022-03-24T19:45:54.297Z"
   },
   {
    "duration": 8,
    "start_time": "2022-03-24T19:45:54.307Z"
   },
   {
    "duration": 159,
    "start_time": "2022-03-24T19:51:42.362Z"
   },
   {
    "duration": 1379,
    "start_time": "2022-03-24T19:51:53.210Z"
   },
   {
    "duration": 59,
    "start_time": "2022-03-24T19:51:54.592Z"
   },
   {
    "duration": 74,
    "start_time": "2022-03-24T19:51:54.654Z"
   },
   {
    "duration": 45,
    "start_time": "2022-03-24T19:51:54.731Z"
   },
   {
    "duration": 4,
    "start_time": "2022-03-24T19:51:54.779Z"
   },
   {
    "duration": 16,
    "start_time": "2022-03-24T19:51:54.786Z"
   },
   {
    "duration": 7,
    "start_time": "2022-03-24T19:51:54.805Z"
   },
   {
    "duration": 82,
    "start_time": "2022-03-24T19:51:54.814Z"
   },
   {
    "duration": 6,
    "start_time": "2022-03-24T19:51:54.898Z"
   },
   {
    "duration": 18,
    "start_time": "2022-03-24T19:51:54.911Z"
   },
   {
    "duration": 87,
    "start_time": "2022-03-24T19:51:54.967Z"
   },
   {
    "duration": 41,
    "start_time": "2022-03-24T19:51:55.068Z"
   },
   {
    "duration": 14,
    "start_time": "2022-03-24T19:51:55.111Z"
   },
   {
    "duration": 86,
    "start_time": "2022-03-24T19:51:55.128Z"
   },
   {
    "duration": 478,
    "start_time": "2022-03-24T19:51:55.218Z"
   },
   {
    "duration": 457,
    "start_time": "2022-03-24T19:51:55.699Z"
   },
   {
    "duration": 319,
    "start_time": "2022-03-24T19:51:56.159Z"
   },
   {
    "duration": 19,
    "start_time": "2022-03-24T19:51:56.481Z"
   },
   {
    "duration": 410,
    "start_time": "2022-03-24T19:51:56.503Z"
   },
   {
    "duration": 315,
    "start_time": "2022-03-24T19:51:56.916Z"
   },
   {
    "duration": 35,
    "start_time": "2022-03-24T19:51:57.233Z"
   },
   {
    "duration": 390,
    "start_time": "2022-03-24T19:51:57.270Z"
   },
   {
    "duration": 206,
    "start_time": "2022-03-24T19:51:57.667Z"
   },
   {
    "duration": 6,
    "start_time": "2022-03-24T19:51:57.876Z"
   },
   {
    "duration": 11,
    "start_time": "2022-03-24T19:51:57.884Z"
   },
   {
    "duration": 11,
    "start_time": "2022-03-24T19:51:57.897Z"
   },
   {
    "duration": 256,
    "start_time": "2022-03-24T19:51:57.911Z"
   },
   {
    "duration": 6,
    "start_time": "2022-03-24T19:51:58.174Z"
   },
   {
    "duration": 8,
    "start_time": "2022-03-24T19:51:58.183Z"
   },
   {
    "duration": 25,
    "start_time": "2022-03-24T19:51:58.193Z"
   },
   {
    "duration": 8,
    "start_time": "2022-03-24T19:51:58.220Z"
   },
   {
    "duration": 8,
    "start_time": "2022-03-24T19:51:58.267Z"
   },
   {
    "duration": 28,
    "start_time": "2022-03-24T19:51:58.277Z"
   },
   {
    "duration": 12,
    "start_time": "2022-03-24T19:51:58.308Z"
   },
   {
    "duration": 12,
    "start_time": "2022-03-24T19:51:58.322Z"
   },
   {
    "duration": 176,
    "start_time": "2022-03-24T19:51:58.336Z"
   },
   {
    "duration": 13,
    "start_time": "2022-03-24T19:53:12.293Z"
   },
   {
    "duration": 1371,
    "start_time": "2022-03-24T19:53:28.042Z"
   },
   {
    "duration": 60,
    "start_time": "2022-03-24T19:53:29.415Z"
   },
   {
    "duration": 91,
    "start_time": "2022-03-24T19:53:29.477Z"
   },
   {
    "duration": 18,
    "start_time": "2022-03-24T19:53:29.571Z"
   },
   {
    "duration": 4,
    "start_time": "2022-03-24T19:53:29.591Z"
   },
   {
    "duration": 18,
    "start_time": "2022-03-24T19:53:29.597Z"
   },
   {
    "duration": 10,
    "start_time": "2022-03-24T19:53:29.618Z"
   },
   {
    "duration": 98,
    "start_time": "2022-03-24T19:53:29.631Z"
   },
   {
    "duration": 6,
    "start_time": "2022-03-24T19:53:29.732Z"
   },
   {
    "duration": 39,
    "start_time": "2022-03-24T19:53:29.774Z"
   },
   {
    "duration": 92,
    "start_time": "2022-03-24T19:53:29.816Z"
   },
   {
    "duration": 31,
    "start_time": "2022-03-24T19:53:29.910Z"
   },
   {
    "duration": 13,
    "start_time": "2022-03-24T19:53:29.966Z"
   },
   {
    "duration": 132,
    "start_time": "2022-03-24T19:53:29.982Z"
   },
   {
    "duration": 633,
    "start_time": "2022-03-24T19:53:30.117Z"
   },
   {
    "duration": 581,
    "start_time": "2022-03-24T19:53:30.753Z"
   },
   {
    "duration": 445,
    "start_time": "2022-03-24T19:53:31.337Z"
   },
   {
    "duration": 19,
    "start_time": "2022-03-24T19:53:31.785Z"
   },
   {
    "duration": 467,
    "start_time": "2022-03-24T19:53:31.807Z"
   },
   {
    "duration": 333,
    "start_time": "2022-03-24T19:53:32.276Z"
   },
   {
    "duration": 21,
    "start_time": "2022-03-24T19:53:32.612Z"
   },
   {
    "duration": 424,
    "start_time": "2022-03-24T19:53:32.636Z"
   },
   {
    "duration": 204,
    "start_time": "2022-03-24T19:53:33.066Z"
   },
   {
    "duration": 7,
    "start_time": "2022-03-24T19:53:33.272Z"
   },
   {
    "duration": 13,
    "start_time": "2022-03-24T19:53:33.281Z"
   },
   {
    "duration": 9,
    "start_time": "2022-03-24T19:53:33.296Z"
   },
   {
    "duration": 248,
    "start_time": "2022-03-24T19:53:33.308Z"
   },
   {
    "duration": 6,
    "start_time": "2022-03-24T19:53:33.567Z"
   },
   {
    "duration": 5,
    "start_time": "2022-03-24T19:53:33.575Z"
   },
   {
    "duration": 21,
    "start_time": "2022-03-24T19:53:33.582Z"
   },
   {
    "duration": 7,
    "start_time": "2022-03-24T19:53:33.605Z"
   },
   {
    "duration": 11,
    "start_time": "2022-03-24T19:53:33.615Z"
   },
   {
    "duration": 60,
    "start_time": "2022-03-24T19:53:33.628Z"
   },
   {
    "duration": 7,
    "start_time": "2022-03-24T19:53:33.691Z"
   },
   {
    "duration": 10,
    "start_time": "2022-03-24T19:53:33.700Z"
   },
   {
    "duration": 171,
    "start_time": "2022-03-24T19:53:33.712Z"
   },
   {
    "duration": 13,
    "start_time": "2022-03-24T19:56:31.301Z"
   },
   {
    "duration": 13,
    "start_time": "2022-03-24T19:57:01.155Z"
   },
   {
    "duration": 1396,
    "start_time": "2022-03-24T19:57:09.119Z"
   },
   {
    "duration": 69,
    "start_time": "2022-03-24T19:57:10.518Z"
   },
   {
    "duration": 88,
    "start_time": "2022-03-24T19:57:10.590Z"
   },
   {
    "duration": 19,
    "start_time": "2022-03-24T19:57:10.683Z"
   },
   {
    "duration": 6,
    "start_time": "2022-03-24T19:57:10.705Z"
   },
   {
    "duration": 56,
    "start_time": "2022-03-24T19:57:10.714Z"
   },
   {
    "duration": 8,
    "start_time": "2022-03-24T19:57:10.772Z"
   },
   {
    "duration": 87,
    "start_time": "2022-03-24T19:57:10.783Z"
   },
   {
    "duration": 6,
    "start_time": "2022-03-24T19:57:10.873Z"
   },
   {
    "duration": 22,
    "start_time": "2022-03-24T19:57:10.883Z"
   },
   {
    "duration": 104,
    "start_time": "2022-03-24T19:57:10.907Z"
   },
   {
    "duration": 34,
    "start_time": "2022-03-24T19:57:11.014Z"
   },
   {
    "duration": 14,
    "start_time": "2022-03-24T19:57:11.069Z"
   },
   {
    "duration": 86,
    "start_time": "2022-03-24T19:57:11.086Z"
   },
   {
    "duration": 644,
    "start_time": "2022-03-24T19:57:11.175Z"
   },
   {
    "duration": 649,
    "start_time": "2022-03-24T19:57:11.822Z"
   },
   {
    "duration": 409,
    "start_time": "2022-03-24T19:57:12.473Z"
   },
   {
    "duration": 26,
    "start_time": "2022-03-24T19:57:12.885Z"
   },
   {
    "duration": 504,
    "start_time": "2022-03-24T19:57:12.914Z"
   },
   {
    "duration": 332,
    "start_time": "2022-03-24T19:57:13.420Z"
   },
   {
    "duration": 31,
    "start_time": "2022-03-24T19:57:13.754Z"
   },
   {
    "duration": 428,
    "start_time": "2022-03-24T19:57:13.787Z"
   },
   {
    "duration": 208,
    "start_time": "2022-03-24T19:57:14.218Z"
   },
   {
    "duration": 7,
    "start_time": "2022-03-24T19:57:14.428Z"
   },
   {
    "duration": 35,
    "start_time": "2022-03-24T19:57:14.437Z"
   },
   {
    "duration": 15,
    "start_time": "2022-03-24T19:57:14.476Z"
   },
   {
    "duration": 252,
    "start_time": "2022-03-24T19:57:14.494Z"
   },
   {
    "duration": 15,
    "start_time": "2022-03-24T19:57:14.752Z"
   },
   {
    "duration": 9,
    "start_time": "2022-03-24T19:57:14.771Z"
   },
   {
    "duration": 37,
    "start_time": "2022-03-24T19:57:14.783Z"
   },
   {
    "duration": 12,
    "start_time": "2022-03-24T19:57:14.824Z"
   },
   {
    "duration": 33,
    "start_time": "2022-03-24T19:57:14.839Z"
   },
   {
    "duration": 27,
    "start_time": "2022-03-24T19:57:14.876Z"
   },
   {
    "duration": 8,
    "start_time": "2022-03-24T19:57:14.906Z"
   },
   {
    "duration": 10,
    "start_time": "2022-03-24T19:57:14.917Z"
   },
   {
    "duration": 206,
    "start_time": "2022-03-24T19:57:14.935Z"
   },
   {
    "duration": 15,
    "start_time": "2022-03-24T19:58:41.299Z"
   },
   {
    "duration": 1961,
    "start_time": "2022-03-24T19:58:46.936Z"
   },
   {
    "duration": 83,
    "start_time": "2022-03-24T19:58:48.901Z"
   },
   {
    "duration": 92,
    "start_time": "2022-03-24T19:58:48.987Z"
   },
   {
    "duration": 16,
    "start_time": "2022-03-24T19:58:49.083Z"
   },
   {
    "duration": 5,
    "start_time": "2022-03-24T19:58:49.101Z"
   },
   {
    "duration": 60,
    "start_time": "2022-03-24T19:58:49.109Z"
   },
   {
    "duration": 5,
    "start_time": "2022-03-24T19:58:49.173Z"
   },
   {
    "duration": 88,
    "start_time": "2022-03-24T19:58:49.181Z"
   },
   {
    "duration": 8,
    "start_time": "2022-03-24T19:58:49.271Z"
   },
   {
    "duration": 17,
    "start_time": "2022-03-24T19:58:49.284Z"
   },
   {
    "duration": 100,
    "start_time": "2022-03-24T19:58:49.303Z"
   },
   {
    "duration": 30,
    "start_time": "2022-03-24T19:58:49.406Z"
   },
   {
    "duration": 18,
    "start_time": "2022-03-24T19:58:49.468Z"
   },
   {
    "duration": 131,
    "start_time": "2022-03-24T19:58:49.489Z"
   },
   {
    "duration": 746,
    "start_time": "2022-03-24T19:58:49.623Z"
   },
   {
    "duration": 687,
    "start_time": "2022-03-24T19:58:50.372Z"
   },
   {
    "duration": 336,
    "start_time": "2022-03-24T19:58:51.061Z"
   },
   {
    "duration": 18,
    "start_time": "2022-03-24T19:58:51.399Z"
   },
   {
    "duration": 480,
    "start_time": "2022-03-24T19:58:51.420Z"
   },
   {
    "duration": 461,
    "start_time": "2022-03-24T19:58:51.902Z"
   },
   {
    "duration": 21,
    "start_time": "2022-03-24T19:58:52.368Z"
   },
   {
    "duration": 372,
    "start_time": "2022-03-24T19:58:52.392Z"
   },
   {
    "duration": 211,
    "start_time": "2022-03-24T19:58:52.767Z"
   },
   {
    "duration": 8,
    "start_time": "2022-03-24T19:58:52.981Z"
   },
   {
    "duration": 10,
    "start_time": "2022-03-24T19:58:52.992Z"
   },
   {
    "duration": 8,
    "start_time": "2022-03-24T19:58:53.005Z"
   },
   {
    "duration": 263,
    "start_time": "2022-03-24T19:58:53.015Z"
   },
   {
    "duration": 11,
    "start_time": "2022-03-24T19:58:53.284Z"
   },
   {
    "duration": 5,
    "start_time": "2022-03-24T19:58:53.297Z"
   },
   {
    "duration": 24,
    "start_time": "2022-03-24T19:58:53.304Z"
   },
   {
    "duration": 41,
    "start_time": "2022-03-24T19:58:53.331Z"
   },
   {
    "duration": 9,
    "start_time": "2022-03-24T19:58:53.375Z"
   },
   {
    "duration": 21,
    "start_time": "2022-03-24T19:58:53.387Z"
   },
   {
    "duration": 8,
    "start_time": "2022-03-24T19:58:53.411Z"
   },
   {
    "duration": 49,
    "start_time": "2022-03-24T19:58:53.422Z"
   },
   {
    "duration": 163,
    "start_time": "2022-03-24T19:58:53.473Z"
   },
   {
    "duration": 12,
    "start_time": "2022-03-24T20:01:54.826Z"
   },
   {
    "duration": 1477,
    "start_time": "2022-03-24T20:11:22.358Z"
   },
   {
    "duration": 63,
    "start_time": "2022-03-24T20:11:23.839Z"
   },
   {
    "duration": 84,
    "start_time": "2022-03-24T20:11:23.906Z"
   },
   {
    "duration": 21,
    "start_time": "2022-03-24T20:11:23.993Z"
   },
   {
    "duration": 5,
    "start_time": "2022-03-24T20:11:24.016Z"
   },
   {
    "duration": 59,
    "start_time": "2022-03-24T20:11:24.023Z"
   },
   {
    "duration": 6,
    "start_time": "2022-03-24T20:11:24.084Z"
   },
   {
    "duration": 80,
    "start_time": "2022-03-24T20:11:24.093Z"
   },
   {
    "duration": 6,
    "start_time": "2022-03-24T20:11:24.176Z"
   },
   {
    "duration": 23,
    "start_time": "2022-03-24T20:11:24.187Z"
   },
   {
    "duration": 107,
    "start_time": "2022-03-24T20:11:24.212Z"
   },
   {
    "duration": 54,
    "start_time": "2022-03-24T20:11:24.321Z"
   },
   {
    "duration": 14,
    "start_time": "2022-03-24T20:11:24.377Z"
   },
   {
    "duration": 85,
    "start_time": "2022-03-24T20:11:24.393Z"
   },
   {
    "duration": 494,
    "start_time": "2022-03-24T20:11:24.481Z"
   },
   {
    "duration": 469,
    "start_time": "2022-03-24T20:11:24.977Z"
   },
   {
    "duration": 339,
    "start_time": "2022-03-24T20:11:25.448Z"
   },
   {
    "duration": 17,
    "start_time": "2022-03-24T20:11:25.789Z"
   },
   {
    "duration": 417,
    "start_time": "2022-03-24T20:11:25.808Z"
   },
   {
    "duration": 319,
    "start_time": "2022-03-24T20:11:26.227Z"
   },
   {
    "duration": 28,
    "start_time": "2022-03-24T20:11:26.549Z"
   },
   {
    "duration": 377,
    "start_time": "2022-03-24T20:11:26.580Z"
   },
   {
    "duration": 271,
    "start_time": "2022-03-24T20:11:26.960Z"
   },
   {
    "duration": 8,
    "start_time": "2022-03-24T20:11:27.233Z"
   },
   {
    "duration": 29,
    "start_time": "2022-03-24T20:11:27.244Z"
   },
   {
    "duration": 7,
    "start_time": "2022-03-24T20:11:27.275Z"
   },
   {
    "duration": 315,
    "start_time": "2022-03-24T20:11:27.284Z"
   },
   {
    "duration": 7,
    "start_time": "2022-03-24T20:11:27.603Z"
   },
   {
    "duration": 3,
    "start_time": "2022-03-24T20:11:27.668Z"
   },
   {
    "duration": 23,
    "start_time": "2022-03-24T20:11:27.673Z"
   },
   {
    "duration": 7,
    "start_time": "2022-03-24T20:11:27.698Z"
   },
   {
    "duration": 63,
    "start_time": "2022-03-24T20:11:27.707Z"
   },
   {
    "duration": 23,
    "start_time": "2022-03-24T20:11:27.773Z"
   },
   {
    "duration": 8,
    "start_time": "2022-03-24T20:11:27.798Z"
   },
   {
    "duration": 68,
    "start_time": "2022-03-24T20:11:27.809Z"
   },
   {
    "duration": 290,
    "start_time": "2022-03-24T20:11:27.880Z"
   },
   {
    "duration": 1386,
    "start_time": "2022-03-24T20:30:07.435Z"
   },
   {
    "duration": 60,
    "start_time": "2022-03-24T20:30:08.824Z"
   },
   {
    "duration": 85,
    "start_time": "2022-03-24T20:30:08.887Z"
   },
   {
    "duration": 16,
    "start_time": "2022-03-24T20:30:08.975Z"
   },
   {
    "duration": 4,
    "start_time": "2022-03-24T20:30:08.994Z"
   },
   {
    "duration": 16,
    "start_time": "2022-03-24T20:30:09.000Z"
   },
   {
    "duration": 8,
    "start_time": "2022-03-24T20:30:09.018Z"
   },
   {
    "duration": 59,
    "start_time": "2022-03-24T20:30:09.519Z"
   },
   {
    "duration": 6,
    "start_time": "2022-03-24T20:30:09.722Z"
   },
   {
    "duration": 19,
    "start_time": "2022-03-24T20:30:09.926Z"
   },
   {
    "duration": 69,
    "start_time": "2022-03-24T20:30:10.095Z"
   },
   {
    "duration": 30,
    "start_time": "2022-03-24T20:30:10.363Z"
   },
   {
    "duration": 12,
    "start_time": "2022-03-24T20:30:10.515Z"
   },
   {
    "duration": 71,
    "start_time": "2022-03-24T20:30:10.720Z"
   },
   {
    "duration": 734,
    "start_time": "2022-03-24T20:30:11.282Z"
   },
   {
    "duration": 628,
    "start_time": "2022-03-24T20:30:13.223Z"
   },
   {
    "duration": 334,
    "start_time": "2022-03-24T20:30:14.684Z"
   },
   {
    "duration": 23,
    "start_time": "2022-03-24T20:30:15.868Z"
   },
   {
    "duration": 460,
    "start_time": "2022-03-24T20:30:16.222Z"
   },
   {
    "duration": 302,
    "start_time": "2022-03-24T20:30:16.725Z"
   },
   {
    "duration": 20,
    "start_time": "2022-03-24T20:30:17.207Z"
   },
   {
    "duration": 447,
    "start_time": "2022-03-24T20:30:17.399Z"
   },
   {
    "duration": 266,
    "start_time": "2022-03-24T20:30:18.209Z"
   },
   {
    "duration": 8,
    "start_time": "2022-03-24T20:30:21.006Z"
   },
   {
    "duration": 10,
    "start_time": "2022-03-24T20:30:22.459Z"
   },
   {
    "duration": 8,
    "start_time": "2022-03-24T20:30:23.446Z"
   },
   {
    "duration": 208,
    "start_time": "2022-03-24T20:30:32.031Z"
   },
   {
    "duration": 11,
    "start_time": "2022-03-24T20:30:45.314Z"
   },
   {
    "duration": 4,
    "start_time": "2022-03-24T20:30:49.851Z"
   },
   {
    "duration": 319,
    "start_time": "2022-03-24T20:30:51.732Z"
   },
   {
    "duration": 177,
    "start_time": "2022-03-24T20:32:56.430Z"
   },
   {
    "duration": 481,
    "start_time": "2022-03-24T20:37:08.317Z"
   },
   {
    "duration": 21,
    "start_time": "2022-03-24T20:43:54.898Z"
   },
   {
    "duration": 276,
    "start_time": "2022-03-24T20:44:28.990Z"
   },
   {
    "duration": 30,
    "start_time": "2022-03-24T20:48:31.329Z"
   },
   {
    "duration": 1935,
    "start_time": "2022-03-24T20:58:01.260Z"
   },
   {
    "duration": 13,
    "start_time": "2022-03-24T20:58:15.489Z"
   },
   {
    "duration": 14,
    "start_time": "2022-03-24T21:02:56.116Z"
   },
   {
    "duration": 29,
    "start_time": "2022-03-24T21:03:47.497Z"
   },
   {
    "duration": 7,
    "start_time": "2022-03-24T21:06:08.959Z"
   },
   {
    "duration": 9,
    "start_time": "2022-03-24T21:07:40.268Z"
   },
   {
    "duration": 12,
    "start_time": "2022-03-24T21:15:36.574Z"
   },
   {
    "duration": 1852,
    "start_time": "2022-03-24T21:15:40.327Z"
   },
   {
    "duration": 1335,
    "start_time": "2022-03-24T21:15:46.503Z"
   },
   {
    "duration": 67,
    "start_time": "2022-03-24T21:15:47.841Z"
   },
   {
    "duration": 78,
    "start_time": "2022-03-24T21:15:47.911Z"
   },
   {
    "duration": 17,
    "start_time": "2022-03-24T21:15:47.992Z"
   },
   {
    "duration": 5,
    "start_time": "2022-03-24T21:15:48.012Z"
   },
   {
    "duration": 57,
    "start_time": "2022-03-24T21:15:48.019Z"
   },
   {
    "duration": 8,
    "start_time": "2022-03-24T21:15:48.078Z"
   },
   {
    "duration": 53,
    "start_time": "2022-03-24T21:15:48.088Z"
   },
   {
    "duration": 26,
    "start_time": "2022-03-24T21:15:48.143Z"
   },
   {
    "duration": 19,
    "start_time": "2022-03-24T21:15:48.173Z"
   },
   {
    "duration": 124,
    "start_time": "2022-03-24T21:15:48.194Z"
   },
   {
    "duration": 55,
    "start_time": "2022-03-24T21:15:48.321Z"
   },
   {
    "duration": 14,
    "start_time": "2022-03-24T21:15:48.379Z"
   },
   {
    "duration": 81,
    "start_time": "2022-03-24T21:15:48.396Z"
   },
   {
    "duration": 496,
    "start_time": "2022-03-24T21:15:48.480Z"
   },
   {
    "duration": 466,
    "start_time": "2022-03-24T21:15:48.978Z"
   },
   {
    "duration": 329,
    "start_time": "2022-03-24T21:15:49.448Z"
   },
   {
    "duration": 18,
    "start_time": "2022-03-24T21:15:49.779Z"
   },
   {
    "duration": 398,
    "start_time": "2022-03-24T21:15:49.799Z"
   },
   {
    "duration": 312,
    "start_time": "2022-03-24T21:15:50.199Z"
   },
   {
    "duration": 20,
    "start_time": "2022-03-24T21:15:50.513Z"
   },
   {
    "duration": 422,
    "start_time": "2022-03-24T21:15:50.535Z"
   },
   {
    "duration": 199,
    "start_time": "2022-03-24T21:15:50.967Z"
   },
   {
    "duration": 8,
    "start_time": "2022-03-24T21:15:51.168Z"
   },
   {
    "duration": 12,
    "start_time": "2022-03-24T21:15:51.178Z"
   },
   {
    "duration": 313,
    "start_time": "2022-03-24T21:15:51.193Z"
   },
   {
    "duration": 10,
    "start_time": "2022-03-24T21:15:51.508Z"
   },
   {
    "duration": 3,
    "start_time": "2022-03-24T21:15:51.524Z"
   },
   {
    "duration": 386,
    "start_time": "2022-03-24T21:15:51.530Z"
   },
   {
    "duration": 151,
    "start_time": "2022-03-24T21:15:51.918Z"
   },
   {
    "duration": 0,
    "start_time": "2022-03-24T21:15:52.072Z"
   },
   {
    "duration": 0,
    "start_time": "2022-03-24T21:15:52.073Z"
   },
   {
    "duration": 0,
    "start_time": "2022-03-24T21:15:52.075Z"
   },
   {
    "duration": 0,
    "start_time": "2022-03-24T21:15:52.077Z"
   },
   {
    "duration": 0,
    "start_time": "2022-03-24T21:15:52.079Z"
   },
   {
    "duration": 0,
    "start_time": "2022-03-24T21:15:52.080Z"
   },
   {
    "duration": 0,
    "start_time": "2022-03-24T21:15:52.083Z"
   },
   {
    "duration": 0,
    "start_time": "2022-03-24T21:15:52.085Z"
   },
   {
    "duration": 1722,
    "start_time": "2022-03-24T21:18:38.734Z"
   },
   {
    "duration": 11,
    "start_time": "2022-03-24T21:18:40.460Z"
   },
   {
    "duration": 154,
    "start_time": "2022-03-24T21:18:40.474Z"
   },
   {
    "duration": 45,
    "start_time": "2022-03-24T21:18:40.632Z"
   },
   {
    "duration": 6,
    "start_time": "2022-03-24T21:18:40.680Z"
   },
   {
    "duration": 16,
    "start_time": "2022-03-24T21:18:40.688Z"
   },
   {
    "duration": 5,
    "start_time": "2022-03-24T21:18:40.706Z"
   },
   {
    "duration": 85,
    "start_time": "2022-03-24T21:18:40.713Z"
   },
   {
    "duration": 5,
    "start_time": "2022-03-24T21:18:40.801Z"
   },
   {
    "duration": 18,
    "start_time": "2022-03-24T21:18:40.810Z"
   },
   {
    "duration": 106,
    "start_time": "2022-03-24T21:18:40.830Z"
   },
   {
    "duration": 50,
    "start_time": "2022-03-24T21:18:40.939Z"
   },
   {
    "duration": 14,
    "start_time": "2022-03-24T21:18:40.991Z"
   },
   {
    "duration": 89,
    "start_time": "2022-03-24T21:18:41.008Z"
   },
   {
    "duration": 489,
    "start_time": "2022-03-24T21:18:41.100Z"
   },
   {
    "duration": 462,
    "start_time": "2022-03-24T21:18:41.592Z"
   },
   {
    "duration": 332,
    "start_time": "2022-03-24T21:18:42.057Z"
   },
   {
    "duration": 19,
    "start_time": "2022-03-24T21:18:42.392Z"
   },
   {
    "duration": 458,
    "start_time": "2022-03-24T21:18:42.414Z"
   },
   {
    "duration": 313,
    "start_time": "2022-03-24T21:18:42.874Z"
   },
   {
    "duration": 22,
    "start_time": "2022-03-24T21:18:43.190Z"
   },
   {
    "duration": 438,
    "start_time": "2022-03-24T21:18:43.215Z"
   },
   {
    "duration": 211,
    "start_time": "2022-03-24T21:18:43.656Z"
   },
   {
    "duration": 8,
    "start_time": "2022-03-24T21:18:43.870Z"
   },
   {
    "duration": 16,
    "start_time": "2022-03-24T21:18:43.880Z"
   },
   {
    "duration": 234,
    "start_time": "2022-03-24T21:18:43.898Z"
   },
   {
    "duration": 7,
    "start_time": "2022-03-24T21:18:44.135Z"
   },
   {
    "duration": 20,
    "start_time": "2022-03-24T21:18:44.149Z"
   },
   {
    "duration": 530,
    "start_time": "2022-03-24T21:18:44.172Z"
   },
   {
    "duration": 0,
    "start_time": "2022-03-24T21:18:44.705Z"
   },
   {
    "duration": 0,
    "start_time": "2022-03-24T21:18:44.707Z"
   },
   {
    "duration": 0,
    "start_time": "2022-03-24T21:18:44.709Z"
   },
   {
    "duration": 0,
    "start_time": "2022-03-24T21:18:44.711Z"
   },
   {
    "duration": 0,
    "start_time": "2022-03-24T21:18:44.712Z"
   },
   {
    "duration": 0,
    "start_time": "2022-03-24T21:18:44.714Z"
   },
   {
    "duration": 0,
    "start_time": "2022-03-24T21:18:44.716Z"
   },
   {
    "duration": 0,
    "start_time": "2022-03-24T21:18:44.718Z"
   },
   {
    "duration": 0,
    "start_time": "2022-03-24T21:18:44.720Z"
   },
   {
    "duration": 1401,
    "start_time": "2022-03-24T21:19:40.682Z"
   },
   {
    "duration": 58,
    "start_time": "2022-03-24T21:19:42.087Z"
   },
   {
    "duration": 79,
    "start_time": "2022-03-24T21:19:42.148Z"
   },
   {
    "duration": 41,
    "start_time": "2022-03-24T21:19:42.232Z"
   },
   {
    "duration": 4,
    "start_time": "2022-03-24T21:19:42.275Z"
   },
   {
    "duration": 15,
    "start_time": "2022-03-24T21:19:42.281Z"
   },
   {
    "duration": 8,
    "start_time": "2022-03-24T21:19:42.298Z"
   },
   {
    "duration": 89,
    "start_time": "2022-03-24T21:19:42.307Z"
   },
   {
    "duration": 5,
    "start_time": "2022-03-24T21:19:42.398Z"
   },
   {
    "duration": 22,
    "start_time": "2022-03-24T21:19:42.409Z"
   },
   {
    "duration": 72,
    "start_time": "2022-03-24T21:19:42.468Z"
   },
   {
    "duration": 50,
    "start_time": "2022-03-24T21:19:42.543Z"
   },
   {
    "duration": 13,
    "start_time": "2022-03-24T21:19:42.595Z"
   },
   {
    "duration": 78,
    "start_time": "2022-03-24T21:19:42.611Z"
   },
   {
    "duration": 468,
    "start_time": "2022-03-24T21:19:42.692Z"
   },
   {
    "duration": 588,
    "start_time": "2022-03-24T21:19:43.167Z"
   },
   {
    "duration": 423,
    "start_time": "2022-03-24T21:19:43.759Z"
   },
   {
    "duration": 23,
    "start_time": "2022-03-24T21:19:44.185Z"
   },
   {
    "duration": 453,
    "start_time": "2022-03-24T21:19:44.211Z"
   },
   {
    "duration": 396,
    "start_time": "2022-03-24T21:19:44.667Z"
   },
   {
    "duration": 22,
    "start_time": "2022-03-24T21:19:45.068Z"
   },
   {
    "duration": 374,
    "start_time": "2022-03-24T21:19:45.093Z"
   },
   {
    "duration": 205,
    "start_time": "2022-03-24T21:19:45.470Z"
   },
   {
    "duration": 7,
    "start_time": "2022-03-24T21:19:45.677Z"
   },
   {
    "duration": 11,
    "start_time": "2022-03-24T21:19:45.687Z"
   },
   {
    "duration": 251,
    "start_time": "2022-03-24T21:19:45.701Z"
   },
   {
    "duration": 15,
    "start_time": "2022-03-24T21:19:45.954Z"
   },
   {
    "duration": 5,
    "start_time": "2022-03-24T21:19:45.974Z"
   },
   {
    "duration": 659,
    "start_time": "2022-03-24T21:19:45.981Z"
   },
   {
    "duration": 26,
    "start_time": "2022-03-24T21:19:46.642Z"
   },
   {
    "duration": 299,
    "start_time": "2022-03-24T21:19:46.670Z"
   },
   {
    "duration": 30,
    "start_time": "2022-03-24T21:19:46.972Z"
   },
   {
    "duration": 13,
    "start_time": "2022-03-24T21:19:47.004Z"
   },
   {
    "duration": 80,
    "start_time": "2022-03-24T21:19:47.019Z"
   },
   {
    "duration": 8,
    "start_time": "2022-03-24T21:19:47.101Z"
   },
   {
    "duration": 12,
    "start_time": "2022-03-24T21:19:47.111Z"
   },
   {
    "duration": 2077,
    "start_time": "2022-03-24T21:19:47.126Z"
   },
   {
    "duration": 0,
    "start_time": "2022-03-24T21:19:49.205Z"
   },
   {
    "duration": 1844,
    "start_time": "2022-03-24T21:20:18.264Z"
   },
   {
    "duration": 86,
    "start_time": "2022-03-24T21:20:20.112Z"
   },
   {
    "duration": 81,
    "start_time": "2022-03-24T21:20:20.201Z"
   },
   {
    "duration": 17,
    "start_time": "2022-03-24T21:20:20.285Z"
   },
   {
    "duration": 4,
    "start_time": "2022-03-24T21:20:20.306Z"
   },
   {
    "duration": 60,
    "start_time": "2022-03-24T21:20:20.313Z"
   },
   {
    "duration": 12,
    "start_time": "2022-03-24T21:20:20.375Z"
   },
   {
    "duration": 84,
    "start_time": "2022-03-24T21:20:20.389Z"
   },
   {
    "duration": 5,
    "start_time": "2022-03-24T21:20:20.476Z"
   },
   {
    "duration": 19,
    "start_time": "2022-03-24T21:20:20.485Z"
   },
   {
    "duration": 95,
    "start_time": "2022-03-24T21:20:20.506Z"
   },
   {
    "duration": 29,
    "start_time": "2022-03-24T21:20:20.603Z"
   },
   {
    "duration": 43,
    "start_time": "2022-03-24T21:20:20.635Z"
   },
   {
    "duration": 62,
    "start_time": "2022-03-24T21:20:20.680Z"
   },
   {
    "duration": 513,
    "start_time": "2022-03-24T21:20:20.745Z"
   },
   {
    "duration": 478,
    "start_time": "2022-03-24T21:20:21.268Z"
   },
   {
    "duration": 331,
    "start_time": "2022-03-24T21:20:21.749Z"
   },
   {
    "duration": 19,
    "start_time": "2022-03-24T21:20:22.082Z"
   },
   {
    "duration": 489,
    "start_time": "2022-03-24T21:20:22.104Z"
   },
   {
    "duration": 304,
    "start_time": "2022-03-24T21:20:22.595Z"
   },
   {
    "duration": 19,
    "start_time": "2022-03-24T21:20:22.902Z"
   },
   {
    "duration": 418,
    "start_time": "2022-03-24T21:20:22.923Z"
   },
   {
    "duration": 300,
    "start_time": "2022-03-24T21:20:23.343Z"
   },
   {
    "duration": 22,
    "start_time": "2022-03-24T21:20:23.645Z"
   },
   {
    "duration": 10,
    "start_time": "2022-03-24T21:20:23.669Z"
   },
   {
    "duration": 232,
    "start_time": "2022-03-24T21:20:23.681Z"
   },
   {
    "duration": 7,
    "start_time": "2022-03-24T21:20:23.915Z"
   },
   {
    "duration": 3,
    "start_time": "2022-03-24T21:20:23.927Z"
   },
   {
    "duration": 653,
    "start_time": "2022-03-24T21:20:23.932Z"
   },
   {
    "duration": 14,
    "start_time": "2022-03-24T21:20:24.588Z"
   },
   {
    "duration": 293,
    "start_time": "2022-03-24T21:20:24.604Z"
   },
   {
    "duration": 30,
    "start_time": "2022-03-24T21:20:24.899Z"
   },
   {
    "duration": 37,
    "start_time": "2022-03-24T21:20:24.932Z"
   },
   {
    "duration": 31,
    "start_time": "2022-03-24T21:20:24.972Z"
   },
   {
    "duration": 9,
    "start_time": "2022-03-24T21:20:25.005Z"
   },
   {
    "duration": 10,
    "start_time": "2022-03-24T21:20:25.016Z"
   },
   {
    "duration": 48,
    "start_time": "2022-03-24T21:20:25.029Z"
   },
   {
    "duration": 10,
    "start_time": "2022-03-24T21:20:25.079Z"
   },
   {
    "duration": 5,
    "start_time": "2022-03-24T21:28:48.880Z"
   },
   {
    "duration": 6,
    "start_time": "2022-03-24T21:29:00.383Z"
   },
   {
    "duration": 9,
    "start_time": "2022-03-24T21:30:08.518Z"
   },
   {
    "duration": 2100,
    "start_time": "2022-03-24T21:30:25.173Z"
   },
   {
    "duration": 1463,
    "start_time": "2022-03-24T21:30:36.296Z"
   },
   {
    "duration": 1396,
    "start_time": "2022-03-24T21:30:43.178Z"
   },
   {
    "duration": 10,
    "start_time": "2022-03-24T21:31:04.047Z"
   },
   {
    "duration": 5,
    "start_time": "2022-03-24T21:31:13.310Z"
   },
   {
    "duration": 1364,
    "start_time": "2022-03-24T21:43:23.435Z"
   },
   {
    "duration": 53,
    "start_time": "2022-03-24T21:43:24.803Z"
   },
   {
    "duration": 75,
    "start_time": "2022-03-24T21:43:24.859Z"
   },
   {
    "duration": 41,
    "start_time": "2022-03-24T21:43:24.938Z"
   },
   {
    "duration": 5,
    "start_time": "2022-03-24T21:43:24.981Z"
   },
   {
    "duration": 17,
    "start_time": "2022-03-24T21:43:24.988Z"
   },
   {
    "duration": 11,
    "start_time": "2022-03-24T21:43:25.007Z"
   },
   {
    "duration": 77,
    "start_time": "2022-03-24T21:43:25.020Z"
   },
   {
    "duration": 6,
    "start_time": "2022-03-24T21:43:25.100Z"
   },
   {
    "duration": 17,
    "start_time": "2022-03-24T21:43:25.111Z"
   },
   {
    "duration": 112,
    "start_time": "2022-03-24T21:43:25.131Z"
   },
   {
    "duration": 35,
    "start_time": "2022-03-24T21:43:25.245Z"
   },
   {
    "duration": 13,
    "start_time": "2022-03-24T21:43:25.283Z"
   },
   {
    "duration": 91,
    "start_time": "2022-03-24T21:43:25.298Z"
   },
   {
    "duration": 493,
    "start_time": "2022-03-24T21:43:25.392Z"
   },
   {
    "duration": 456,
    "start_time": "2022-03-24T21:43:25.887Z"
   },
   {
    "duration": 320,
    "start_time": "2022-03-24T21:43:26.345Z"
   },
   {
    "duration": 24,
    "start_time": "2022-03-24T21:43:26.669Z"
   },
   {
    "duration": 401,
    "start_time": "2022-03-24T21:43:26.696Z"
   },
   {
    "duration": 332,
    "start_time": "2022-03-24T21:43:27.100Z"
   },
   {
    "duration": 36,
    "start_time": "2022-03-24T21:43:27.435Z"
   },
   {
    "duration": 393,
    "start_time": "2022-03-24T21:43:27.474Z"
   },
   {
    "duration": 212,
    "start_time": "2022-03-24T21:43:27.870Z"
   },
   {
    "duration": 7,
    "start_time": "2022-03-24T21:43:28.085Z"
   },
   {
    "duration": 10,
    "start_time": "2022-03-24T21:43:28.094Z"
   },
   {
    "duration": 247,
    "start_time": "2022-03-24T21:43:28.107Z"
   },
   {
    "duration": 15,
    "start_time": "2022-03-24T21:43:28.356Z"
   },
   {
    "duration": 15,
    "start_time": "2022-03-24T21:43:28.377Z"
   },
   {
    "duration": 736,
    "start_time": "2022-03-24T21:43:28.395Z"
   },
   {
    "duration": 14,
    "start_time": "2022-03-24T21:43:29.133Z"
   },
   {
    "duration": 352,
    "start_time": "2022-03-24T21:43:29.168Z"
   },
   {
    "duration": 31,
    "start_time": "2022-03-24T21:43:29.523Z"
   },
   {
    "duration": 19,
    "start_time": "2022-03-24T21:43:29.567Z"
   },
   {
    "duration": 29,
    "start_time": "2022-03-24T21:43:29.588Z"
   },
   {
    "duration": 7,
    "start_time": "2022-03-24T21:43:29.619Z"
   },
   {
    "duration": 12,
    "start_time": "2022-03-24T21:43:29.628Z"
   },
   {
    "duration": 16,
    "start_time": "2022-03-24T21:43:29.667Z"
   },
   {
    "duration": 18,
    "start_time": "2022-03-24T21:43:29.685Z"
   },
   {
    "duration": 7,
    "start_time": "2022-03-24T21:43:29.705Z"
   },
   {
    "duration": 1377,
    "start_time": "2022-03-24T21:58:19.538Z"
   },
   {
    "duration": 74,
    "start_time": "2022-03-24T21:58:20.918Z"
   },
   {
    "duration": 135,
    "start_time": "2022-03-24T21:58:20.994Z"
   },
   {
    "duration": 20,
    "start_time": "2022-03-24T21:58:21.135Z"
   },
   {
    "duration": 5,
    "start_time": "2022-03-24T21:58:21.157Z"
   },
   {
    "duration": 22,
    "start_time": "2022-03-24T21:58:21.164Z"
   },
   {
    "duration": 13,
    "start_time": "2022-03-24T21:58:21.188Z"
   },
   {
    "duration": 73,
    "start_time": "2022-03-24T21:58:21.204Z"
   },
   {
    "duration": 9,
    "start_time": "2022-03-24T21:58:21.279Z"
   },
   {
    "duration": 27,
    "start_time": "2022-03-24T21:58:21.294Z"
   },
   {
    "duration": 116,
    "start_time": "2022-03-24T21:58:21.324Z"
   },
   {
    "duration": 70,
    "start_time": "2022-03-24T21:58:21.443Z"
   },
   {
    "duration": 14,
    "start_time": "2022-03-24T21:58:21.516Z"
   },
   {
    "duration": 113,
    "start_time": "2022-03-24T21:58:21.532Z"
   },
   {
    "duration": 557,
    "start_time": "2022-03-24T21:58:21.647Z"
   },
   {
    "duration": 544,
    "start_time": "2022-03-24T21:58:22.207Z"
   },
   {
    "duration": 333,
    "start_time": "2022-03-24T21:58:22.753Z"
   },
   {
    "duration": 19,
    "start_time": "2022-03-24T21:58:23.088Z"
   },
   {
    "duration": 468,
    "start_time": "2022-03-24T21:58:23.109Z"
   },
   {
    "duration": 314,
    "start_time": "2022-03-24T21:58:23.580Z"
   },
   {
    "duration": 20,
    "start_time": "2022-03-24T21:58:23.897Z"
   },
   {
    "duration": 481,
    "start_time": "2022-03-24T21:58:23.920Z"
   },
   {
    "duration": 207,
    "start_time": "2022-03-24T21:58:24.405Z"
   },
   {
    "duration": 7,
    "start_time": "2022-03-24T21:58:24.614Z"
   },
   {
    "duration": 232,
    "start_time": "2022-03-24T21:58:24.623Z"
   },
   {
    "duration": 11,
    "start_time": "2022-03-24T21:58:24.858Z"
   },
   {
    "duration": 5,
    "start_time": "2022-03-24T21:58:24.872Z"
   },
   {
    "duration": 715,
    "start_time": "2022-03-24T21:58:24.885Z"
   },
   {
    "duration": 18,
    "start_time": "2022-03-24T21:58:25.602Z"
   },
   {
    "duration": 290,
    "start_time": "2022-03-24T21:58:25.622Z"
   },
   {
    "duration": 32,
    "start_time": "2022-03-24T21:58:25.913Z"
   },
   {
    "duration": 29,
    "start_time": "2022-03-24T21:58:25.947Z"
   },
   {
    "duration": 31,
    "start_time": "2022-03-24T21:58:25.979Z"
   },
   {
    "duration": 7,
    "start_time": "2022-03-24T21:58:26.013Z"
   },
   {
    "duration": 46,
    "start_time": "2022-03-24T21:58:26.023Z"
   },
   {
    "duration": 12,
    "start_time": "2022-03-24T21:58:26.072Z"
   },
   {
    "duration": 9,
    "start_time": "2022-03-24T21:58:26.086Z"
   },
   {
    "duration": 6,
    "start_time": "2022-03-24T21:58:26.098Z"
   },
   {
    "duration": 1904,
    "start_time": "2022-03-25T18:43:26.594Z"
   },
   {
    "duration": 97,
    "start_time": "2022-03-25T18:43:28.502Z"
   },
   {
    "duration": 111,
    "start_time": "2022-03-25T18:43:28.602Z"
   },
   {
    "duration": 31,
    "start_time": "2022-03-25T18:43:28.716Z"
   },
   {
    "duration": 6,
    "start_time": "2022-03-25T18:43:28.753Z"
   },
   {
    "duration": 42,
    "start_time": "2022-03-25T18:43:28.762Z"
   },
   {
    "duration": 22,
    "start_time": "2022-03-25T18:43:28.806Z"
   },
   {
    "duration": 91,
    "start_time": "2022-03-25T18:43:28.831Z"
   },
   {
    "duration": 7,
    "start_time": "2022-03-25T18:43:28.924Z"
   },
   {
    "duration": 28,
    "start_time": "2022-03-25T18:43:28.934Z"
   },
   {
    "duration": 109,
    "start_time": "2022-03-25T18:43:28.987Z"
   },
   {
    "duration": 49,
    "start_time": "2022-03-25T18:43:29.102Z"
   },
   {
    "duration": 36,
    "start_time": "2022-03-25T18:43:29.154Z"
   },
   {
    "duration": 67,
    "start_time": "2022-03-25T18:43:29.198Z"
   },
   {
    "duration": 502,
    "start_time": "2022-03-25T18:43:29.283Z"
   },
   {
    "duration": 512,
    "start_time": "2022-03-25T18:43:29.789Z"
   },
   {
    "duration": 456,
    "start_time": "2022-03-25T18:43:30.303Z"
   },
   {
    "duration": 31,
    "start_time": "2022-03-25T18:43:30.762Z"
   },
   {
    "duration": 522,
    "start_time": "2022-03-25T18:43:30.795Z"
   },
   {
    "duration": 374,
    "start_time": "2022-03-25T18:43:31.319Z"
   },
   {
    "duration": 25,
    "start_time": "2022-03-25T18:43:31.698Z"
   },
   {
    "duration": 486,
    "start_time": "2022-03-25T18:43:31.726Z"
   },
   {
    "duration": 231,
    "start_time": "2022-03-25T18:43:32.215Z"
   },
   {
    "duration": 7,
    "start_time": "2022-03-25T18:43:32.449Z"
   },
   {
    "duration": 297,
    "start_time": "2022-03-25T18:43:32.459Z"
   },
   {
    "duration": 8,
    "start_time": "2022-03-25T18:43:32.761Z"
   },
   {
    "duration": 24,
    "start_time": "2022-03-25T18:43:32.783Z"
   },
   {
    "duration": 880,
    "start_time": "2022-03-25T18:43:32.812Z"
   },
   {
    "duration": 15,
    "start_time": "2022-03-25T18:43:33.695Z"
   },
   {
    "duration": 315,
    "start_time": "2022-03-25T18:43:33.712Z"
   },
   {
    "duration": 34,
    "start_time": "2022-03-25T18:43:34.029Z"
   },
   {
    "duration": 15,
    "start_time": "2022-03-25T18:43:34.085Z"
   },
   {
    "duration": 32,
    "start_time": "2022-03-25T18:43:34.104Z"
   },
   {
    "duration": 8,
    "start_time": "2022-03-25T18:43:34.138Z"
   },
   {
    "duration": 49,
    "start_time": "2022-03-25T18:43:34.150Z"
   },
   {
    "duration": 15,
    "start_time": "2022-03-25T18:43:34.201Z"
   },
   {
    "duration": 10,
    "start_time": "2022-03-25T18:43:34.218Z"
   },
   {
    "duration": 11,
    "start_time": "2022-03-25T18:43:34.231Z"
   }
  ],
  "kernelspec": {
   "display_name": "Python 3 (ipykernel)",
   "language": "python",
   "name": "python3"
  },
  "language_info": {
   "codemirror_mode": {
    "name": "ipython",
    "version": 3
   },
   "file_extension": ".py",
   "mimetype": "text/x-python",
   "name": "python",
   "nbconvert_exporter": "python",
   "pygments_lexer": "ipython3",
   "version": "3.9.12"
  },
  "toc": {
   "base_numbering": 1,
   "nav_menu": {},
   "number_sections": true,
   "sideBar": true,
   "skip_h1_title": true,
   "title_cell": "Table of Contents",
   "title_sidebar": "Contents",
   "toc_cell": false,
   "toc_position": {},
   "toc_section_display": true,
   "toc_window_display": false
  }
 },
 "nbformat": 4,
 "nbformat_minor": 2
}
